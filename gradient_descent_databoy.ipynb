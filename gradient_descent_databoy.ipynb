{
  "nbformat": 4,
  "nbformat_minor": 0,
  "metadata": {
    "colab": {
      "provenance": [],
      "include_colab_link": true
    },
    "kernelspec": {
      "name": "python3",
      "display_name": "Python 3"
    },
    "language_info": {
      "name": "python"
    }
  },
  "cells": [
    {
      "cell_type": "markdown",
      "metadata": {
        "id": "view-in-github",
        "colab_type": "text"
      },
      "source": [
        "<a href=\"https://colab.research.google.com/github/ns-m/data_analysis/blob/main/gradient_descent_databoy.ipynb\" target=\"_parent\"><img src=\"https://colab.research.google.com/assets/colab-badge.svg\" alt=\"Open In Colab\"/></a>"
      ]
    },
    {
      "cell_type": "code",
      "metadata": {
        "id": "-HbmxTNtmFsE"
      },
      "source": [
        "from numpy import asarray\n",
        "from numpy import arange\n",
        "from numpy.random import rand\n",
        "import numpy as np\n",
        "import matplotlib.pyplot as plt"
      ],
      "execution_count": null,
      "outputs": []
    },
    {
      "cell_type": "code",
      "metadata": {
        "id": "GuhM_MmomKce"
      },
      "source": [
        "def objective(x):\n",
        "\treturn x**2.0"
      ],
      "execution_count": null,
      "outputs": []
    },
    {
      "cell_type": "code",
      "metadata": {
        "colab": {
          "base_uri": "https://localhost:8080/"
        },
        "id": "sxlM19AZmQdG",
        "outputId": "5605c37a-16ad-468f-dbd9-7a50604250a1"
      },
      "source": [
        "objective(10)"
      ],
      "execution_count": null,
      "outputs": [
        {
          "output_type": "execute_result",
          "data": {
            "text/plain": [
              "100.0"
            ]
          },
          "metadata": {
            "tags": []
          },
          "execution_count": 26
        }
      ]
    },
    {
      "cell_type": "code",
      "metadata": {
        "id": "6IAkJU-Uo4ds"
      },
      "source": [
        "bounds = np.array([[-10.0, 10.0]])"
      ],
      "execution_count": null,
      "outputs": []
    },
    {
      "cell_type": "code",
      "metadata": {
        "id": "2zpXY3ACwuOl",
        "colab": {
          "base_uri": "https://localhost:8080/"
        },
        "outputId": "ff15e60b-edb8-4072-ccf8-fb2b24c96dbf"
      },
      "source": [
        "x = bounds[:, 0] + rand(len(bounds)) * (bounds[:, 1] - bounds[:, 0])\n",
        "x"
      ],
      "execution_count": null,
      "outputs": [
        {
          "output_type": "execute_result",
          "data": {
            "text/plain": [
              "array([-9.32038314])"
            ]
          },
          "metadata": {
            "tags": []
          },
          "execution_count": 31
        }
      ]
    },
    {
      "cell_type": "code",
      "metadata": {
        "id": "8LSZL5FqpDrT"
      },
      "source": [
        "inputs = []\n",
        "outputs = []"
      ],
      "execution_count": null,
      "outputs": []
    },
    {
      "cell_type": "code",
      "metadata": {
        "id": "MvXAyu_-o-Mg"
      },
      "source": [
        "for i in range(1000):\n",
        "  x = bounds[:, 0] + rand(len(bounds)) * (bounds[:, 1] - bounds[:, 0])\n",
        "  y = objective(x)\n",
        "  inputs.append(x)\n",
        "  outputs.append(y)\n",
        ""
      ],
      "execution_count": null,
      "outputs": []
    },
    {
      "cell_type": "code",
      "metadata": {
        "colab": {
          "base_uri": "https://localhost:8080/",
          "height": 281
        },
        "id": "5wBCc7ebmi4e",
        "outputId": "139a87bc-c9e7-4aeb-ce3a-f15b7d5c4d2a"
      },
      "source": [
        "plt.scatter(inputs, outputs)\n",
        "# plot the solutions found\n",
        "# plt.plot(solutions, scores, '.-', color='red')"
      ],
      "execution_count": null,
      "outputs": [
        {
          "output_type": "execute_result",
          "data": {
            "text/plain": [
              "<matplotlib.collections.PathCollection at 0x7fad66fa3cd0>"
            ]
          },
          "metadata": {
            "tags": []
          },
          "execution_count": 34
        },
        {
          "output_type": "display_data",
          "data": {
            "image/png": "[encoded data removed]",
            "text/plain": [
              "<Figure size 432x288 with 1 Axes>"
            ]
          },
          "metadata": {
            "tags": [],
            "needs_background": "light"
          }
        }
      ]
    },
    {
      "cell_type": "code",
      "metadata": {
        "id": "KqZFPJRdnfHy",
        "colab": {
          "base_uri": "https://localhost:8080/"
        },
        "outputId": "d8bbbad5-5b6d-4440-fbd9-9f4059b3fe7b"
      },
      "source": [
        "x = bounds[:, 0] + rand(len(bounds)) * (bounds[:, 1] - bounds[:, 0])\n",
        "x"
      ],
      "execution_count": null,
      "outputs": [
        {
          "output_type": "execute_result",
          "data": {
            "text/plain": [
              "array([-8.24131784])"
            ]
          },
          "metadata": {
            "tags": []
          },
          "execution_count": 36
        }
      ]
    },
    {
      "cell_type": "code",
      "metadata": {
        "id": "-CaJFRf7p4TA"
      },
      "source": [
        "def derivative(x):\n",
        "\treturn x * 2.0"
      ],
      "execution_count": null,
      "outputs": []
    },
    {
      "cell_type": "code",
      "metadata": {
        "colab": {
          "base_uri": "https://localhost:8080/"
        },
        "id": "7EJILQi1319_",
        "outputId": "c91350c5-6abb-4567-edf4-6c0a8c9a03f6"
      },
      "source": [
        "derivative(x)"
      ],
      "execution_count": null,
      "outputs": [
        {
          "output_type": "execute_result",
          "data": {
            "text/plain": [
              "array([-16.48263568])"
            ]
          },
          "metadata": {
            "tags": []
          },
          "execution_count": 38
        }
      ]
    },
    {
      "cell_type": "code",
      "metadata": {
        "id": "CvDkSv2J4DCL"
      },
      "source": [],
      "execution_count": null,
      "outputs": []
    },
    {
      "cell_type": "code",
      "metadata": {
        "colab": {
          "base_uri": "https://localhost:8080/"
        },
        "id": "aGTqm_mGp59B",
        "outputId": "d767a2db-f83f-420f-dea6-a1f19e56f5cd"
      },
      "source": [
        "# new_x = -8 - (-16) = 8\n",
        "new_x = x - 0.1*derivative(x)\n",
        "new_x"
      ],
      "execution_count": null,
      "outputs": [
        {
          "output_type": "execute_result",
          "data": {
            "text/plain": [
              "array([-4.21955473])"
            ]
          },
          "metadata": {
            "tags": []
          },
          "execution_count": 44
        }
      ]
    },
    {
      "cell_type": "code",
      "metadata": {
        "id": "eUiTqfjYqhfb",
        "colab": {
          "base_uri": "https://localhost:8080/"
        },
        "outputId": "9ef4ec81-ef35-48a4-85f1-a08fd194d171"
      },
      "source": [
        "x = new_x\n",
        "new_x = x - 0.1*derivative(x)\n",
        "new_x\n"
      ],
      "execution_count": null,
      "outputs": [
        {
          "output_type": "execute_result",
          "data": {
            "text/plain": [
              "array([-3.37564379])"
            ]
          },
          "metadata": {
            "tags": []
          },
          "execution_count": 45
        }
      ]
    },
    {
      "cell_type": "code",
      "metadata": {
        "colab": {
          "base_uri": "https://localhost:8080/"
        },
        "id": "uPAagT5wrT6g",
        "outputId": "0525959d-13b3-4be1-c875-18faa22ef60e"
      },
      "source": [
        "x = bounds[:, 0] + rand(len(bounds)) * (bounds[:, 1] - bounds[:, 0])\n",
        "x"
      ],
      "execution_count": null,
      "outputs": [
        {
          "output_type": "execute_result",
          "data": {
            "text/plain": [
              "array([-7.49803155])"
            ]
          },
          "metadata": {
            "tags": []
          },
          "execution_count": 63
        }
      ]
    },
    {
      "cell_type": "code",
      "metadata": {
        "id": "a4soJN5SsPMV"
      },
      "source": [
        "solutions = []\n",
        "evaluations = []"
      ],
      "execution_count": null,
      "outputs": []
    },
    {
      "cell_type": "code",
      "metadata": {
        "colab": {
          "base_uri": "https://localhost:8080/",
          "height": 606
        },
        "id": "71fYt3FfrUqj",
        "outputId": "32086704-122c-4892-ae6b-f2ce7f615996"
      },
      "source": [
        "for i in range(20):\n",
        "  solutions.append(x)\n",
        "  x_evaluation = objective(x)\n",
        "  evaluations.append(x_evaluation)\n",
        "\n",
        "  gradient = derivative(x)\n",
        "  new_x = x - 0.1 * gradient\n",
        "  x = new_x\n",
        "  print('>%d f(%s) = %.5f' % (i, x, x_evaluation))\n",
        "plt.scatter(inputs, outputs)\n",
        "# plot the solutions found\n",
        "plt.scatter(solutions, evaluations, color='red')"
      ],
      "execution_count": null,
      "outputs": [
        {
          "output_type": "stream",
          "text": [
            ">0 f([-5.99842524]) = 56.22048\n",
            ">1 f([-4.79874019]) = 35.98111\n",
            ">2 f([-3.83899215]) = 23.02791\n",
            ">3 f([-3.07119372]) = 14.73786\n",
            ">4 f([-2.45695498]) = 9.43223\n",
            ">5 f([-1.96556398]) = 6.03663\n",
            ">6 f([-1.57245119]) = 3.86344\n",
            ">7 f([-1.25796095]) = 2.47260\n",
            ">8 f([-1.00636876]) = 1.58247\n",
            ">9 f([-0.80509501]) = 1.01278\n",
            ">10 f([-0.64407601]) = 0.64818\n",
            ">11 f([-0.5152608]) = 0.41483\n",
            ">12 f([-0.41220864]) = 0.26549\n",
            ">13 f([-0.32976691]) = 0.16992\n",
            ">14 f([-0.26381353]) = 0.10875\n",
            ">15 f([-0.21105083]) = 0.06960\n",
            ">16 f([-0.16884066]) = 0.04454\n",
            ">17 f([-0.13507253]) = 0.02851\n",
            ">18 f([-0.10805802]) = 0.01824\n",
            ">19 f([-0.08644642]) = 0.01168\n"
          ],
          "name": "stdout"
        },
        {
          "output_type": "execute_result",
          "data": {
            "text/plain": [
              "<matplotlib.collections.PathCollection at 0x7fad66b24dd0>"
            ]
          },
          "metadata": {
            "tags": []
          },
          "execution_count": 65
        },
        {
          "output_type": "display_data",
          "data": {
            "image/png": "[encoded data removed]",
            "text/plain": [
              "<Figure size 432x288 with 1 Axes>"
            ]
          },
          "metadata": {
            "tags": [],
            "needs_background": "light"
          }
        }
      ]
    },
    {
      "cell_type": "code",
      "metadata": {
        "id": "vVrxux54tOtr"
      },
      "source": [],
      "execution_count": null,
      "outputs": []
    }
  ]
}