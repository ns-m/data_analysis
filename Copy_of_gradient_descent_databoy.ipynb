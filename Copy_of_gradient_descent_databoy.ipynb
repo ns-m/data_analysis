{
  "nbformat": 4,
  "nbformat_minor": 0,
  "metadata": {
    "colab": {
      "provenance": [],
      "include_colab_link": true
    },
    "kernelspec": {
      "name": "python3",
      "display_name": "Python 3"
    },
    "language_info": {
      "name": "python"
    }
  },
  "cells": [
    {
      "cell_type": "markdown",
      "metadata": {
        "id": "view-in-github",
        "colab_type": "text"
      },
      "source": [
        "<a href=\"https://colab.research.google.com/github/ns-m/data_analysis/blob/main/Copy_of_gradient_descent_databoy.ipynb\" target=\"_parent\"><img src=\"https://colab.research.google.com/assets/colab-badge.svg\" alt=\"Open In Colab\"/></a>"
      ]
    },
    {
      "cell_type": "code",
      "metadata": {
        "id": "-HbmxTNtmFsE"
      },
      "source": [
        "from numpy import asarray\n",
        "from numpy import arange\n",
        "from numpy.random import rand\n",
        "import numpy as np\n",
        "import matplotlib.pyplot as plt"
      ],
      "execution_count": 1,
      "outputs": []
    },
    {
      "cell_type": "code",
      "metadata": {
        "id": "GuhM_MmomKce"
      },
      "source": [
        "def objective(x):\n",
        "\treturn x**2.0"
      ],
      "execution_count": 2,
      "outputs": []
    },
    {
      "cell_type": "code",
      "metadata": {
        "colab": {
          "base_uri": "https://localhost:8080/"
        },
        "id": "sxlM19AZmQdG",
        "outputId": "efe47acf-6bea-4a73-aa34-c76fb1c8de03"
      },
      "source": [
        "objective(10)"
      ],
      "execution_count": 3,
      "outputs": [
        {
          "output_type": "execute_result",
          "data": {
            "text/plain": [
              "100.0"
            ]
          },
          "metadata": {},
          "execution_count": 3
        }
      ]
    },
    {
      "cell_type": "code",
      "metadata": {
        "id": "6IAkJU-Uo4ds"
      },
      "source": [
        "bounds = np.array([[-10.0, 10.0]])"
      ],
      "execution_count": 4,
      "outputs": []
    },
    {
      "cell_type": "code",
      "metadata": {
        "id": "2zpXY3ACwuOl",
        "colab": {
          "base_uri": "https://localhost:8080/"
        },
        "outputId": "af8b42a7-7797-4db2-e2a7-66765151cf75"
      },
      "source": [
        "x = bounds[:, 0] + rand(len(bounds)) * (bounds[:, 1] - bounds[:, 0])\n",
        "x"
      ],
      "execution_count": 8,
      "outputs": [
        {
          "output_type": "execute_result",
          "data": {
            "text/plain": [
              "array([2.36242981])"
            ]
          },
          "metadata": {},
          "execution_count": 8
        }
      ]
    },
    {
      "cell_type": "code",
      "metadata": {
        "id": "8LSZL5FqpDrT"
      },
      "source": [
        "inputs = []\n",
        "outputs = []"
      ],
      "execution_count": 9,
      "outputs": []
    },
    {
      "cell_type": "code",
      "metadata": {
        "id": "MvXAyu_-o-Mg"
      },
      "source": [
        "for i in range(1000):\n",
        "  x = bounds[:, 0] + rand(len(bounds)) * (bounds[:, 1] - bounds[:, 0])\n",
        "  y = objective(x)\n",
        "  inputs.append(x)\n",
        "  outputs.append(y)\n"
      ],
      "execution_count": 10,
      "outputs": []
    },
    {
      "cell_type": "code",
      "metadata": {
        "colab": {
          "base_uri": "https://localhost:8080/",
          "height": 448
        },
        "id": "5wBCc7ebmi4e",
        "outputId": "10a72546-3dbd-4494-e377-299bba429e0f"
      },
      "source": [
        "plt.scatter(inputs, outputs)\n",
        "# plot the solutions found\n",
        "# plt.plot(solutions, scores, '.-', color='red')"
      ],
      "execution_count": 11,
      "outputs": [
        {
          "output_type": "execute_result",
          "data": {
            "text/plain": [
              "<matplotlib.collections.PathCollection at 0x7fe14f78b280>"
            ]
          },
          "metadata": {},
          "execution_count": 11
        },
        {
          "output_type": "display_data",
          "data": {
            "text/plain": [
              "<Figure size 640x480 with 1 Axes>"
            ],
            "image/png": "[encoded data removed]"
          },
          "metadata": {}
        }
      ]
    },
    {
      "cell_type": "code",
      "metadata": {
        "id": "KqZFPJRdnfHy",
        "colab": {
          "base_uri": "https://localhost:8080/"
        },
        "outputId": "67a8ecfd-5db5-4fe9-c011-0c07bc611cee"
      },
      "source": [
        "x = bounds[:, 0] + rand(len(bounds)) * (bounds[:, 1] - bounds[:, 0])\n",
        "x"
      ],
      "execution_count": 12,
      "outputs": [
        {
          "output_type": "execute_result",
          "data": {
            "text/plain": [
              "array([-0.49502032])"
            ]
          },
          "metadata": {},
          "execution_count": 12
        }
      ]
    },
    {
      "cell_type": "code",
      "metadata": {
        "id": "-CaJFRf7p4TA"
      },
      "source": [
        "def derivative(x):\n",
        "\treturn x * 2.0"
      ],
      "execution_count": 14,
      "outputs": []
    },
    {
      "cell_type": "code",
      "metadata": {
        "colab": {
          "base_uri": "https://localhost:8080/"
        },
        "id": "7EJILQi1319_",
        "outputId": "7ad36463-48f3-4062-ed86-088c64f8a952"
      },
      "source": [
        "derivative(x)"
      ],
      "execution_count": 15,
      "outputs": [
        {
          "output_type": "execute_result",
          "data": {
            "text/plain": [
              "array([-0.99004064])"
            ]
          },
          "metadata": {},
          "execution_count": 15
        }
      ]
    },
    {
      "cell_type": "code",
      "metadata": {
        "id": "CvDkSv2J4DCL"
      },
      "source": [],
      "execution_count": null,
      "outputs": []
    },
    {
      "cell_type": "code",
      "metadata": {
        "colab": {
          "base_uri": "https://localhost:8080/"
        },
        "id": "aGTqm_mGp59B",
        "outputId": "159697dd-85ae-4aee-cb4a-9107e3024ee9"
      },
      "source": [
        "# new_x = -8 - (-16) = 8\n",
        "new_x = x - 0.1*derivative(x)\n",
        "new_x"
      ],
      "execution_count": 18,
      "outputs": [
        {
          "output_type": "execute_result",
          "data": {
            "text/plain": [
              "array([-0.39601626])"
            ]
          },
          "metadata": {},
          "execution_count": 18
        }
      ]
    },
    {
      "cell_type": "code",
      "metadata": {
        "id": "eUiTqfjYqhfb",
        "colab": {
          "base_uri": "https://localhost:8080/"
        },
        "outputId": "3d229535-145f-4f03-b619-e3bb234de4b7"
      },
      "source": [
        "x = new_x\n",
        "new_x = x - 0.1*derivative(x)\n",
        "new_x\n"
      ],
      "execution_count": 19,
      "outputs": [
        {
          "output_type": "execute_result",
          "data": {
            "text/plain": [
              "array([-0.31681301])"
            ]
          },
          "metadata": {},
          "execution_count": 19
        }
      ]
    },
    {
      "cell_type": "code",
      "metadata": {
        "colab": {
          "base_uri": "https://localhost:8080/"
        },
        "id": "uPAagT5wrT6g",
        "outputId": "f8bafb5f-0972-4469-9bdc-fd25f6145443"
      },
      "source": [
        "x = bounds[:, 0] + rand(len(bounds)) * (bounds[:, 1] - bounds[:, 0])\n",
        "x"
      ],
      "execution_count": 20,
      "outputs": [
        {
          "output_type": "execute_result",
          "data": {
            "text/plain": [
              "array([-3.24122823])"
            ]
          },
          "metadata": {},
          "execution_count": 20
        }
      ]
    },
    {
      "cell_type": "code",
      "metadata": {
        "id": "a4soJN5SsPMV"
      },
      "source": [
        "solutions = []\n",
        "evaluations = []"
      ],
      "execution_count": 21,
      "outputs": []
    },
    {
      "cell_type": "code",
      "metadata": {
        "colab": {
          "base_uri": "https://localhost:8080/",
          "height": 805
        },
        "id": "71fYt3FfrUqj",
        "outputId": "e02320eb-30bb-4056-9c59-16f2897ac44f"
      },
      "source": [
        "for i in range(20):\n",
        "  solutions.append(x)\n",
        "  x_evaluation = objective(x)\n",
        "  evaluations.append(x_evaluation)\n",
        "\n",
        "  gradient = derivative(x)\n",
        "  new_x = x - 0.1 * gradient\n",
        "  x = new_x\n",
        "  print('>%d f(%s) = %.5f' % (i, x, x_evaluation))\n",
        "plt.scatter(inputs, outputs)\n",
        "# plot the solutions found\n",
        "plt.scatter(solutions, evaluations, color='red')"
      ],
      "execution_count": 22,
      "outputs": [
        {
          "output_type": "stream",
          "name": "stdout",
          "text": [
            ">0 f([-2.59298258]) = 10.50556\n",
            ">1 f([-2.07438607]) = 6.72356\n",
            ">2 f([-1.65950885]) = 4.30308\n",
            ">3 f([-1.32760708]) = 2.75397\n",
            ">4 f([-1.06208567]) = 1.76254\n",
            ">5 f([-0.84966853]) = 1.12803\n",
            ">6 f([-0.67973483]) = 0.72194\n",
            ">7 f([-0.54378786]) = 0.46204\n",
            ">8 f([-0.43503029]) = 0.29571\n",
            ">9 f([-0.34802423]) = 0.18925\n",
            ">10 f([-0.27841938]) = 0.12112\n",
            ">11 f([-0.22273551]) = 0.07752\n",
            ">12 f([-0.17818841]) = 0.04961\n",
            ">13 f([-0.14255072]) = 0.03175\n",
            ">14 f([-0.11404058]) = 0.02032\n",
            ">15 f([-0.09123246]) = 0.01301\n",
            ">16 f([-0.07298597]) = 0.00832\n",
            ">17 f([-0.05838878]) = 0.00533\n",
            ">18 f([-0.04671102]) = 0.00341\n",
            ">19 f([-0.03736882]) = 0.00218\n"
          ]
        },
        {
          "output_type": "execute_result",
          "data": {
            "text/plain": [
              "<matplotlib.collections.PathCollection at 0x7fe14d6d7160>"
            ]
          },
          "metadata": {},
          "execution_count": 22
        },
        {
          "output_type": "display_data",
          "data": {
            "text/plain": [
              "<Figure size 640x480 with 1 Axes>"
            ],
            "image/png": "[encoded data removed]"
          },
          "metadata": {}
        }
      ]
    },
    {
      "cell_type": "code",
      "metadata": {
        "id": "vVrxux54tOtr"
      },
      "source": [],
      "execution_count": null,
      "outputs": []
    }
  ]
}