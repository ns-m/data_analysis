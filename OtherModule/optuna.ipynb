{
 "cells": [
  {
   "cell_type": "code",
   "execution_count": 2,
   "metadata": {},
   "outputs": [],
   "source": [
    "#импорт библиотек\n",
    "import numpy as np #для матричных вычислений\n",
    "import pandas as pd #для анализа и предобработки данных\n",
    "\n",
    "from sklearn import linear_model #линейные моделиё\n",
    "from sklearn import tree #деревья решений\n",
    "from sklearn import ensemble #ансамбли\n",
    "from sklearn import metrics #метрики\n",
    "\n",
    "from sklearn.model_selection import train_test_split #сплитование выборки\n",
    "\n",
    "from sklearn.model_selection import cross_val_score\n",
    "\n",
    "import optuna\n",
    "\n",
    "%matplotlib inline\n",
    "\n",
    "from colorama import Fore, Back, Style\n",
    "pd.set_option('display.max_colwidth', None)\n",
    "pd.set_option('display.float_format', '{:.3f}'.format)\n",
    "\n",
    "import warnings\n",
    "warnings.filterwarnings(\"ignore\")"
   ]
  },
  {
   "cell_type": "code",
   "execution_count": 3,
   "metadata": {},
   "outputs": [],
   "source": [
    "data = pd.read_csv('data/biological_response.csv')"
   ]
  },
  {
   "cell_type": "code",
   "execution_count": 4,
   "metadata": {},
   "outputs": [
    {
     "data": {
      "text/html": [
       "<div>\n",
       "<style scoped>\n",
       "    .dataframe tbody tr th:only-of-type {\n",
       "        vertical-align: middle;\n",
       "    }\n",
       "\n",
       "    .dataframe tbody tr th {\n",
       "        vertical-align: top;\n",
       "    }\n",
       "\n",
       "    .dataframe thead th {\n",
       "        text-align: right;\n",
       "    }\n",
       "</style>\n",
       "<table border=\"1\" class=\"dataframe\">\n",
       "  <thead>\n",
       "    <tr style=\"text-align: right;\">\n",
       "      <th></th>\n",
       "      <th>Activity</th>\n",
       "      <th>D1</th>\n",
       "      <th>D2</th>\n",
       "      <th>D3</th>\n",
       "      <th>D4</th>\n",
       "      <th>D5</th>\n",
       "      <th>D6</th>\n",
       "      <th>D7</th>\n",
       "      <th>D8</th>\n",
       "      <th>D9</th>\n",
       "      <th>...</th>\n",
       "      <th>D1767</th>\n",
       "      <th>D1768</th>\n",
       "      <th>D1769</th>\n",
       "      <th>D1770</th>\n",
       "      <th>D1771</th>\n",
       "      <th>D1772</th>\n",
       "      <th>D1773</th>\n",
       "      <th>D1774</th>\n",
       "      <th>D1775</th>\n",
       "      <th>D1776</th>\n",
       "    </tr>\n",
       "  </thead>\n",
       "  <tbody>\n",
       "    <tr>\n",
       "      <th>0</th>\n",
       "      <td>1</td>\n",
       "      <td>0.000</td>\n",
       "      <td>0.497</td>\n",
       "      <td>0.100</td>\n",
       "      <td>0.000</td>\n",
       "      <td>0.133</td>\n",
       "      <td>0.678</td>\n",
       "      <td>0.273</td>\n",
       "      <td>0.585</td>\n",
       "      <td>0.744</td>\n",
       "      <td>...</td>\n",
       "      <td>0</td>\n",
       "      <td>0</td>\n",
       "      <td>0</td>\n",
       "      <td>0</td>\n",
       "      <td>0</td>\n",
       "      <td>0</td>\n",
       "      <td>0</td>\n",
       "      <td>0</td>\n",
       "      <td>0</td>\n",
       "      <td>0</td>\n",
       "    </tr>\n",
       "    <tr>\n",
       "      <th>1</th>\n",
       "      <td>1</td>\n",
       "      <td>0.367</td>\n",
       "      <td>0.606</td>\n",
       "      <td>0.050</td>\n",
       "      <td>0.000</td>\n",
       "      <td>0.111</td>\n",
       "      <td>0.803</td>\n",
       "      <td>0.106</td>\n",
       "      <td>0.412</td>\n",
       "      <td>0.837</td>\n",
       "      <td>...</td>\n",
       "      <td>1</td>\n",
       "      <td>1</td>\n",
       "      <td>1</td>\n",
       "      <td>1</td>\n",
       "      <td>0</td>\n",
       "      <td>1</td>\n",
       "      <td>0</td>\n",
       "      <td>0</td>\n",
       "      <td>1</td>\n",
       "      <td>0</td>\n",
       "    </tr>\n",
       "    <tr>\n",
       "      <th>2</th>\n",
       "      <td>1</td>\n",
       "      <td>0.033</td>\n",
       "      <td>0.480</td>\n",
       "      <td>0.000</td>\n",
       "      <td>0.000</td>\n",
       "      <td>0.210</td>\n",
       "      <td>0.610</td>\n",
       "      <td>0.356</td>\n",
       "      <td>0.518</td>\n",
       "      <td>0.679</td>\n",
       "      <td>...</td>\n",
       "      <td>0</td>\n",
       "      <td>0</td>\n",
       "      <td>0</td>\n",
       "      <td>0</td>\n",
       "      <td>0</td>\n",
       "      <td>0</td>\n",
       "      <td>0</td>\n",
       "      <td>0</td>\n",
       "      <td>0</td>\n",
       "      <td>0</td>\n",
       "    </tr>\n",
       "    <tr>\n",
       "      <th>3</th>\n",
       "      <td>1</td>\n",
       "      <td>0.000</td>\n",
       "      <td>0.539</td>\n",
       "      <td>0.000</td>\n",
       "      <td>0.500</td>\n",
       "      <td>0.196</td>\n",
       "      <td>0.724</td>\n",
       "      <td>0.236</td>\n",
       "      <td>0.289</td>\n",
       "      <td>0.805</td>\n",
       "      <td>...</td>\n",
       "      <td>0</td>\n",
       "      <td>0</td>\n",
       "      <td>0</td>\n",
       "      <td>0</td>\n",
       "      <td>0</td>\n",
       "      <td>0</td>\n",
       "      <td>0</td>\n",
       "      <td>0</td>\n",
       "      <td>0</td>\n",
       "      <td>0</td>\n",
       "    </tr>\n",
       "  </tbody>\n",
       "</table>\n",
       "<p>4 rows × 1777 columns</p>\n",
       "</div>"
      ],
      "text/plain": [
       "   Activity    D1    D2    D3    D4    D5    D6    D7    D8    D9  ...  D1767   \n",
       "0         1 0.000 0.497 0.100 0.000 0.133 0.678 0.273 0.585 0.744  ...      0  \\\n",
       "1         1 0.367 0.606 0.050 0.000 0.111 0.803 0.106 0.412 0.837  ...      1   \n",
       "2         1 0.033 0.480 0.000 0.000 0.210 0.610 0.356 0.518 0.679  ...      0   \n",
       "3         1 0.000 0.539 0.000 0.500 0.196 0.724 0.236 0.289 0.805  ...      0   \n",
       "\n",
       "   D1768  D1769  D1770  D1771  D1772  D1773  D1774  D1775  D1776  \n",
       "0      0      0      0      0      0      0      0      0      0  \n",
       "1      1      1      1      0      1      0      0      1      0  \n",
       "2      0      0      0      0      0      0      0      0      0  \n",
       "3      0      0      0      0      0      0      0      0      0  \n",
       "\n",
       "[4 rows x 1777 columns]"
      ]
     },
     "execution_count": 4,
     "metadata": {},
     "output_type": "execute_result"
    }
   ],
   "source": [
    "data.head(4)"
   ]
  },
  {
   "cell_type": "code",
   "execution_count": 5,
   "metadata": {},
   "outputs": [
    {
     "data": {
      "text/plain": [
       "(3751, 1777)"
      ]
     },
     "execution_count": 5,
     "metadata": {},
     "output_type": "execute_result"
    }
   ],
   "source": [
    "data.shape"
   ]
  },
  {
   "cell_type": "code",
   "execution_count": 6,
   "metadata": {},
   "outputs": [],
   "source": [
    "# Подготовка данных для следующей работы\n",
    "X = data.drop(['Activity'], axis=1)\n",
    "y = data['Activity']\n",
    "\n",
    "X_train, X_test, y_train, y_test = train_test_split(X, y,\\\n",
    "  stratify=y, random_state = 1, test_size = 0.2)"
   ]
  },
  {
   "cell_type": "code",
   "execution_count": 7,
   "metadata": {},
   "outputs": [],
   "source": [
    "# В данную переменную буду сохранять результаты моделей [f1_train, f1_test, название]\n",
    "f1_score_results = []\n",
    "# Константы часто используемых параметров\n",
    "RANDOM_STATE = 42\n",
    "MAX_ITER = 500"
   ]
  },
  {
   "cell_type": "code",
   "execution_count": 8,
   "metadata": {},
   "outputs": [],
   "source": [
    "\n",
    "def printAndSaveModelResults(model, methodName):\n",
    "  \"\"\"функция для вывода результатов score для train и test \n",
    "     и также для сохранения этих значений для последующего использования\n",
    "  Args:\n",
    "      model (model): Ссылка на обучепнную модель\n",
    "      methodName (string): Название примененной модели\n",
    "  \"\"\"\n",
    "  y_train_pred = model.predict(X_train)\n",
    "  metrics_train = metrics.f1_score(y_train, y_train_pred).round(6)\n",
    "  print(f\"{Fore.LIGHTBLUE_EX}f1_score на тренировочном наборе: {Fore.LIGHTGREEN_EX}{metrics_train:.3f}{Fore.RESET}\")\n",
    "  y_test_pred = model.predict(X_test)\n",
    "  metrics_test = metrics.f1_score(y_test, y_test_pred).round(6)\n",
    "  print(f\"{Fore.LIGHTBLUE_EX}f1_score на тестовом наборе: {Fore.LIGHTGREEN_EX}{metrics_test:.3f}{Fore.RESET}\")\n",
    "\n",
    "  f1_score_results.append({'result_train': metrics_train,\n",
    "                           'result_test': metrics_test,\n",
    "                          'method': methodName})"
   ]
  },
  {
   "attachments": {},
   "cell_type": "markdown",
   "metadata": {},
   "source": [
    "# Моделирование"
   ]
  },
  {
   "attachments": {},
   "cell_type": "markdown",
   "metadata": {},
   "source": [
    "## Логистическая регрессия\n",
    "\n",
    "Зафиксируем только метрики, которые были получены без дополнительной настройки, т.е со значениями гиперпараметров, установленных по умолчанию:"
   ]
  },
  {
   "cell_type": "code",
   "execution_count": 9,
   "metadata": {},
   "outputs": [
    {
     "name": "stdout",
     "output_type": "stream",
     "text": [
      "\u001b[94mf1_score на тренировочном наборе: \u001b[92m0.885\u001b[39m\n",
      "\u001b[94mf1_score на тестовом наборе: \u001b[92m0.781\u001b[39m\n"
     ]
    }
   ],
   "source": [
    "#Создаем объект класса логистическая регрессия\n",
    "log_reg = linear_model.LogisticRegression(max_iter = MAX_ITER)\n",
    "#Обучаем модель, минимизируя logloss\n",
    "log_reg.fit(X_train, y_train)\n",
    "\n",
    "printAndSaveModelResults(log_reg,'LogisticRegression native')\n",
    "\n"
   ]
  },
  {
   "cell_type": "markdown",
   "metadata": {},
   "source": [
    "## Случайный лес"
   ]
  },
  {
   "cell_type": "code",
   "execution_count": 10,
   "metadata": {},
   "outputs": [
    {
     "name": "stdout",
     "output_type": "stream",
     "text": [
      "\u001b[94mf1_score на тренировочном наборе: \u001b[92m1.000\u001b[39m\n",
      "\u001b[94mf1_score на тестовом наборе: \u001b[92m0.813\u001b[39m\n"
     ]
    }
   ],
   "source": [
    "#Создаем объект класса случайный лес\n",
    "rf = ensemble.RandomForestClassifier(random_state=RANDOM_STATE)\n",
    "\n",
    "#Обучаем модель\n",
    "rf.fit(X_train, y_train)\n",
    "\n",
    "printAndSaveModelResults(rf,'RandomForestClassifier native')"
   ]
  },
  {
   "attachments": {},
   "cell_type": "markdown",
   "metadata": {},
   "source": [
    "## Optuna\n",
    "\n"
   ]
  },
  {
   "cell_type": "code",
   "execution_count": 11,
   "metadata": {},
   "outputs": [],
   "source": [
    "scoreCalc = 'standard'\n",
    "modelType = 'logReg'"
   ]
  },
  {
   "cell_type": "code",
   "execution_count": 114,
   "metadata": {},
   "outputs": [],
   "source": [
    "def optuna_optimize(trial):\n",
    "  \n",
    "  # задаем пространства поиска гиперпараметров\n",
    "  if modelType == 'logReg':\n",
    "    model = linear_model.LogisticRegression(\n",
    "      penalty = trial.suggest_categorical('penalty', ['l2', 'none']),\n",
    "      solver = trial.suggest_categorical('solver',['lbfgs', 'sag']),\n",
    "      C = trial.suggest_float('C', 0.1, 1, step = 0.1),\n",
    "      random_state = RANDOM_STATE,\n",
    "      n_jobs=-1\n",
    "    )\n",
    "\n",
    "  elif modelType == 'ranFor':\n",
    "    n_estimators = trial.suggest_int('n_estimators', 100, 310, 10)\n",
    "    min_samples_leaf = trial.suggest_int('min_samples_leaf', 3, 7, 1)\n",
    "    max_depth = trial.suggest_int('max_depth', 15, 40, 1)\n",
    "\n",
    "    # создаем модель\n",
    "    model = ensemble.RandomForestClassifier(n_estimators=n_estimators,\n",
    "                                          max_depth=max_depth,\n",
    "                                          min_samples_leaf=min_samples_leaf,\n",
    "                                          random_state=RANDOM_STATE,\n",
    "                                          n_jobs=-1\n",
    "                                          )\n",
    "  # обучаем модель\n",
    "  if scoreCalc == 'standard':\n",
    "    model.fit(X_train, y_train)\n",
    "    score = metrics.f1_score(y_test, model.predict(X_test))\n",
    "  elif scoreCalc == 'cross':\n",
    "      score = cross_val_score(model, X_train, y_train, cv = 5, scoring=\"f1\", n_jobs = -1).mean()  \n",
    "  return score"
   ]
  },
  {
   "attachments": {},
   "cell_type": "markdown",
   "metadata": {},
   "source": [
    "#### Логистическая регрессия"
   ]
  },
  {
   "attachments": {},
   "cell_type": "markdown",
   "metadata": {},
   "source": [
    "##### Стандартный расчет score"
   ]
  },
  {
   "cell_type": "code",
   "execution_count": 115,
   "metadata": {},
   "outputs": [
    {
     "name": "stderr",
     "output_type": "stream",
     "text": [
      "\u001b[32m[I 2023-04-28 17:21:07,398]\u001b[0m Using an existing study with name 'LogisticRegression Optuna Optimization' instead of creating a new one.\u001b[0m\n",
      "\u001b[32m[I 2023-04-28 17:21:13,679]\u001b[0m Trial 141 finished with value: 0.804337281737858 and parameters: {'n_estimators': 150, 'min_samples_leaf': 3, 'max_depth': 21}. Best is trial 141 with value: 0.804337281737858.\u001b[0m\n",
      "\u001b[32m[I 2023-04-28 17:21:14,906]\u001b[0m Trial 142 finished with value: 0.8008035094272052 and parameters: {'n_estimators': 180, 'min_samples_leaf': 7, 'max_depth': 29}. Best is trial 141 with value: 0.804337281737858.\u001b[0m\n",
      "\u001b[32m[I 2023-04-28 17:21:17,854]\u001b[0m Trial 138 finished with value: 0.8005132284290231 and parameters: {'n_estimators': 190, 'min_samples_leaf': 6, 'max_depth': 23}. Best is trial 141 with value: 0.804337281737858.\u001b[0m\n",
      "\u001b[32m[I 2023-04-28 17:21:18,244]\u001b[0m Trial 136 finished with value: 0.8006739006971187 and parameters: {'n_estimators': 120, 'min_samples_leaf': 7, 'max_depth': 33}. Best is trial 141 with value: 0.804337281737858.\u001b[0m\n",
      "\u001b[32m[I 2023-04-28 17:21:18,458]\u001b[0m Trial 140 finished with value: 0.7991900205208851 and parameters: {'n_estimators': 130, 'min_samples_leaf': 6, 'max_depth': 19}. Best is trial 141 with value: 0.804337281737858.\u001b[0m\n",
      "\u001b[32m[I 2023-04-28 17:21:18,864]\u001b[0m Trial 139 finished with value: 0.8071499850845493 and parameters: {'n_estimators': 310, 'min_samples_leaf': 4, 'max_depth': 26}. Best is trial 139 with value: 0.8071499850845493.\u001b[0m\n",
      "\u001b[32m[I 2023-04-28 17:21:18,934]\u001b[0m Trial 144 finished with value: 0.8042098579736494 and parameters: {'n_estimators': 280, 'min_samples_leaf': 5, 'max_depth': 15}. Best is trial 139 with value: 0.8071499850845493.\u001b[0m\n",
      "\u001b[32m[I 2023-04-28 17:21:18,951]\u001b[0m Trial 137 finished with value: 0.8005569396708234 and parameters: {'n_estimators': 310, 'min_samples_leaf': 7, 'max_depth': 21}. Best is trial 139 with value: 0.8071499850845493.\u001b[0m\n",
      "\u001b[32m[I 2023-04-28 17:21:19,453]\u001b[0m Trial 145 finished with value: 0.8055396516063273 and parameters: {'n_estimators': 310, 'min_samples_leaf': 5, 'max_depth': 16}. Best is trial 139 with value: 0.8071499850845493.\u001b[0m\n",
      "\u001b[32m[I 2023-04-28 17:21:19,474]\u001b[0m Trial 143 finished with value: 0.8022569222579168 and parameters: {'n_estimators': 260, 'min_samples_leaf': 5, 'max_depth': 33}. Best is trial 139 with value: 0.8071499850845493.\u001b[0m\n"
     ]
    },
    {
     "name": "stdout",
     "output_type": "stream",
     "text": [
      "Наилучшие значения гиперпараметров {'max_depth': 26, 'min_samples_leaf': 4, 'n_estimators': 310}\n",
      "f1_score на обучающем наборе: 0.81\n"
     ]
    }
   ],
   "source": [
    "# cоздаем объект исследования\n",
    "# можем напрямую указать, что нам необходимо максимизировать метрику direction=\"maximize\"\n",
    "study_logreg = optuna.create_study(study_name=\"LogisticRegression Optuna Optimization\", \n",
    "                                   direction=\"maximize\",\n",
    "                                  #  storage='sqlite:///ex.db',\n",
    "                                  #  load_if_exists=True\n",
    "                                   )\n",
    "# ищем лучшую комбинацию гиперпараметров n_trials раз\n",
    "study_logreg.optimize(optuna_optimize, n_trials=10\n",
    "                      , n_jobs=-1\n",
    "                      )\n",
    "\n",
    "# выводим результаты на обучающей выборке\n",
    "print(\"Наилучшие значения гиперпараметров {}\".format(study_logreg.best_params))\n",
    "print(\"f1_score на обучающем наборе: {:.2f}\".format(study_logreg.best_value))"
   ]
  },
  {
   "cell_type": "code",
   "execution_count": 13,
   "metadata": {},
   "outputs": [
    {
     "name": "stdout",
     "output_type": "stream",
     "text": [
      "\u001b[94mf1_score на тренировочном наборе: \u001b[92m0.849\u001b[39m\n",
      "\u001b[94mf1_score на тестовом наборе: \u001b[92m0.790\u001b[39m\n"
     ]
    }
   ],
   "source": [
    "# рассчитаем точность для тестовой выборки\n",
    "model = linear_model.LogisticRegression(**study_logreg.best_params,random_state=RANDOM_STATE, )\n",
    "model.fit(X_train, y_train)\n",
    "\n",
    "printAndSaveModelResults(model,'LogisticRegression Optuna Optimization')"
   ]
  },
  {
   "attachments": {},
   "cell_type": "markdown",
   "metadata": {},
   "source": [
    "##### Кросс-валидация"
   ]
  },
  {
   "cell_type": "code",
   "execution_count": 14,
   "metadata": {},
   "outputs": [
    {
     "name": "stderr",
     "output_type": "stream",
     "text": [
      "\u001b[32m[I 2023-04-28 15:11:30,405]\u001b[0m A new study created in RDB with name: LogisticRegression Optuna Optimization with Cross Validation\u001b[0m\n",
      "\u001b[32m[I 2023-04-28 15:11:42,677]\u001b[0m Trial 0 finished with value: 0.7475536741581407 and parameters: {'penalty': 'none', 'solver': 'lbfgs', 'C': 0.4}. Best is trial 0 with value: 0.7475536741581407.\u001b[0m\n",
      "\u001b[32m[I 2023-04-28 15:11:42,897]\u001b[0m Trial 11 finished with value: 0.7738912160062705 and parameters: {'penalty': 'l2', 'solver': 'lbfgs', 'C': 0.5}. Best is trial 11 with value: 0.7738912160062705.\u001b[0m\n",
      "\u001b[32m[I 2023-04-28 15:11:43,663]\u001b[0m Trial 10 finished with value: 0.7738912160062705 and parameters: {'penalty': 'l2', 'solver': 'lbfgs', 'C': 0.5}. Best is trial 11 with value: 0.7738912160062705.\u001b[0m\n",
      "\u001b[32m[I 2023-04-28 15:11:43,771]\u001b[0m Trial 6 finished with value: 0.7794662578389194 and parameters: {'penalty': 'l2', 'solver': 'lbfgs', 'C': 0.30000000000000004}. Best is trial 6 with value: 0.7794662578389194.\u001b[0m\n",
      "\u001b[32m[I 2023-04-28 15:11:43,816]\u001b[0m Trial 14 finished with value: 0.7475536741581407 and parameters: {'penalty': 'none', 'solver': 'lbfgs', 'C': 0.9}. Best is trial 6 with value: 0.7794662578389194.\u001b[0m\n",
      "\u001b[32m[I 2023-04-28 15:11:44,031]\u001b[0m Trial 4 finished with value: 0.7475536741581407 and parameters: {'penalty': 'none', 'solver': 'lbfgs', 'C': 0.1}. Best is trial 6 with value: 0.7794662578389194.\u001b[0m\n",
      "\u001b[32m[I 2023-04-28 15:11:47,031]\u001b[0m Trial 18 finished with value: 0.7738912160062705 and parameters: {'penalty': 'l2', 'solver': 'lbfgs', 'C': 0.5}. Best is trial 6 with value: 0.7794662578389194.\u001b[0m\n",
      "\u001b[32m[I 2023-04-28 15:11:48,044]\u001b[0m Trial 15 finished with value: 0.781039965216263 and parameters: {'penalty': 'l2', 'solver': 'lbfgs', 'C': 0.1}. Best is trial 15 with value: 0.781039965216263.\u001b[0m\n",
      "\u001b[32m[I 2023-04-28 15:11:48,075]\u001b[0m Trial 2 finished with value: 0.7767015414000324 and parameters: {'penalty': 'l2', 'solver': 'lbfgs', 'C': 0.4}. Best is trial 15 with value: 0.781039965216263.\u001b[0m\n",
      "\u001b[32m[I 2023-04-28 15:11:48,481]\u001b[0m Trial 16 finished with value: 0.7794662578389194 and parameters: {'penalty': 'l2', 'solver': 'lbfgs', 'C': 0.30000000000000004}. Best is trial 15 with value: 0.781039965216263.\u001b[0m\n",
      "\u001b[32m[I 2023-04-28 15:11:48,516]\u001b[0m Trial 7 finished with value: 0.7767015414000324 and parameters: {'penalty': 'l2', 'solver': 'lbfgs', 'C': 0.4}. Best is trial 15 with value: 0.781039965216263.\u001b[0m\n",
      "\u001b[32m[I 2023-04-28 15:11:48,548]\u001b[0m Trial 3 finished with value: 0.7737602789410036 and parameters: {'penalty': 'l2', 'solver': 'sag', 'C': 0.6}. Best is trial 15 with value: 0.781039965216263.\u001b[0m\n",
      "\u001b[32m[I 2023-04-28 15:11:49,013]\u001b[0m Trial 19 finished with value: 0.7475536741581407 and parameters: {'penalty': 'none', 'solver': 'lbfgs', 'C': 0.5}. Best is trial 15 with value: 0.781039965216263.\u001b[0m\n",
      "\u001b[32m[I 2023-04-28 15:11:51,101]\u001b[0m Trial 1 finished with value: 0.7665205856775353 and parameters: {'penalty': 'none', 'solver': 'sag', 'C': 0.2}. Best is trial 15 with value: 0.781039965216263.\u001b[0m\n",
      "\u001b[32m[I 2023-04-28 15:11:51,916]\u001b[0m Trial 12 finished with value: 0.7665205856775353 and parameters: {'penalty': 'none', 'solver': 'sag', 'C': 1.0}. Best is trial 15 with value: 0.781039965216263.\u001b[0m\n",
      "\u001b[32m[I 2023-04-28 15:11:52,784]\u001b[0m Trial 8 finished with value: 0.7665205856775353 and parameters: {'penalty': 'none', 'solver': 'sag', 'C': 0.5}. Best is trial 15 with value: 0.781039965216263.\u001b[0m\n",
      "\u001b[32m[I 2023-04-28 15:11:52,879]\u001b[0m Trial 13 finished with value: 0.7665205856775353 and parameters: {'penalty': 'none', 'solver': 'sag', 'C': 0.6}. Best is trial 15 with value: 0.781039965216263.\u001b[0m\n",
      "\u001b[32m[I 2023-04-28 15:11:53,165]\u001b[0m Trial 17 finished with value: 0.7737602789410036 and parameters: {'penalty': 'l2', 'solver': 'sag', 'C': 0.6}. Best is trial 15 with value: 0.781039965216263.\u001b[0m\n",
      "\u001b[32m[I 2023-04-28 15:11:53,187]\u001b[0m Trial 5 finished with value: 0.7665205856775353 and parameters: {'penalty': 'none', 'solver': 'sag', 'C': 0.2}. Best is trial 15 with value: 0.781039965216263.\u001b[0m\n",
      "\u001b[32m[I 2023-04-28 15:11:53,241]\u001b[0m Trial 9 finished with value: 0.7819987524966051 and parameters: {'penalty': 'l2', 'solver': 'sag', 'C': 0.1}. Best is trial 9 with value: 0.7819987524966051.\u001b[0m\n"
     ]
    },
    {
     "name": "stdout",
     "output_type": "stream",
     "text": [
      "Наилучшие значения гиперпараметров {'C': 0.1, 'penalty': 'l2', 'solver': 'sag'}\n",
      "f1_score на обучающем наборе: 0.78\n"
     ]
    }
   ],
   "source": [
    "scoreCalc = \"cross\"\n",
    "# cоздаем объект исследования\n",
    "# можем напрямую указать, что нам необходимо максимизировать метрику direction=\"maximize\"\n",
    "study_logreg_cross = optuna.create_study(study_name=\"LogisticRegression Optuna Optimization with Cross Validation\",\n",
    "                                         direction=\"maximize\",\n",
    "                                         storage='sqlite:///ex.db',\n",
    "                                         load_if_exists=True,\n",
    "                                         )\n",
    "# ищем лучшую комбинацию гиперпараметров n_trials раз\n",
    "study_logreg_cross.optimize(optuna_optimize, n_trials=20, n_jobs=-1)\n",
    "\n",
    "# выводим результаты на обучающей выборке\n",
    "print(\"Наилучшие значения гиперпараметров {}\".format(study_logreg_cross.best_params))\n",
    "print(\"f1_score на обучающем наборе: {:.2f}\".format(study_logreg_cross.best_value))"
   ]
  },
  {
   "cell_type": "code",
   "execution_count": 15,
   "metadata": {},
   "outputs": [
    {
     "name": "stdout",
     "output_type": "stream",
     "text": [
      "\u001b[94mf1_score на тренировочном наборе: \u001b[92m0.849\u001b[39m\n",
      "\u001b[94mf1_score на тестовом наборе: \u001b[92m0.790\u001b[39m\n"
     ]
    }
   ],
   "source": [
    "# рассчитаем точность для тестовой выборки\n",
    "model = linear_model.LogisticRegression(**study_logreg_cross.best_params,random_state=RANDOM_STATE, )\n",
    "model.fit(X_train, y_train)\n",
    "\n",
    "printAndSaveModelResults(model,'LogisticRegression Optuna Optimization with Cross Validation')"
   ]
  },
  {
   "attachments": {},
   "cell_type": "markdown",
   "metadata": {},
   "source": [
    "#### Случайный лес"
   ]
  },
  {
   "attachments": {},
   "cell_type": "markdown",
   "metadata": {},
   "source": [
    "##### Стандартный расчет score"
   ]
  },
  {
   "cell_type": "code",
   "execution_count": 17,
   "metadata": {},
   "outputs": [
    {
     "name": "stderr",
     "output_type": "stream",
     "text": [
      "\u001b[32m[I 2023-04-28 15:12:15,510]\u001b[0m A new study created in memory with name: RandomForestClassifier Optuna Optimization\u001b[0m\n",
      "\u001b[32m[I 2023-04-28 15:12:15,980]\u001b[0m Trial 0 finished with value: 0.8247914183551848 and parameters: {'n_estimators': 140, 'min_samples_leaf': 4, 'max_depth': 35}. Best is trial 0 with value: 0.8247914183551848.\u001b[0m\n",
      "\u001b[32m[I 2023-04-28 15:12:16,717]\u001b[0m Trial 1 finished with value: 0.8260355029585799 and parameters: {'n_estimators': 270, 'min_samples_leaf': 3, 'max_depth': 17}. Best is trial 1 with value: 0.8260355029585799.\u001b[0m\n",
      "\u001b[32m[I 2023-04-28 15:12:17,470]\u001b[0m Trial 2 finished with value: 0.8274231678486997 and parameters: {'n_estimators': 290, 'min_samples_leaf': 4, 'max_depth': 32}. Best is trial 2 with value: 0.8274231678486997.\u001b[0m\n",
      "\u001b[32m[I 2023-04-28 15:12:17,985]\u001b[0m Trial 3 finished with value: 0.8299643281807373 and parameters: {'n_estimators': 170, 'min_samples_leaf': 3, 'max_depth': 33}. Best is trial 3 with value: 0.8299643281807373.\u001b[0m\n",
      "\u001b[32m[I 2023-04-28 15:12:18,516]\u001b[0m Trial 4 finished with value: 0.8233890214797136 and parameters: {'n_estimators': 190, 'min_samples_leaf': 4, 'max_depth': 37}. Best is trial 3 with value: 0.8299643281807373.\u001b[0m\n",
      "\u001b[32m[I 2023-04-28 15:12:18,995]\u001b[0m Trial 5 finished with value: 0.8261904761904761 and parameters: {'n_estimators': 170, 'min_samples_leaf': 5, 'max_depth': 31}. Best is trial 3 with value: 0.8299643281807373.\u001b[0m\n",
      "\u001b[32m[I 2023-04-28 15:12:19,769]\u001b[0m Trial 6 finished with value: 0.8210023866348448 and parameters: {'n_estimators': 300, 'min_samples_leaf': 3, 'max_depth': 35}. Best is trial 3 with value: 0.8299643281807373.\u001b[0m\n",
      "\u001b[32m[I 2023-04-28 15:12:20,313]\u001b[0m Trial 7 finished with value: 0.8260355029585799 and parameters: {'n_estimators': 140, 'min_samples_leaf': 5, 'max_depth': 26}. Best is trial 3 with value: 0.8299643281807373.\u001b[0m\n",
      "\u001b[32m[I 2023-04-28 15:12:20,691]\u001b[0m Trial 8 finished with value: 0.8214285714285714 and parameters: {'n_estimators': 120, 'min_samples_leaf': 3, 'max_depth': 18}. Best is trial 3 with value: 0.8299643281807373.\u001b[0m\n",
      "\u001b[32m[I 2023-04-28 15:12:21,134]\u001b[0m Trial 9 finished with value: 0.8263473053892215 and parameters: {'n_estimators': 150, 'min_samples_leaf': 4, 'max_depth': 30}. Best is trial 3 with value: 0.8299643281807373.\u001b[0m\n"
     ]
    },
    {
     "name": "stdout",
     "output_type": "stream",
     "text": [
      "Наилучшие значения гиперпараметров {'n_estimators': 170, 'min_samples_leaf': 3, 'max_depth': 33}\n",
      "f1_score на обучающем наборе: 0.83\n"
     ]
    }
   ],
   "source": [
    "\n",
    "scoreCalc = \"standard\"\n",
    "modelType = \"ranFor\"\n",
    "# cоздаем объект исследования\n",
    "# можем напрямую указать, что нам необходимо максимизировать метрику direction=\"maximize\"\n",
    "study_ranFor = optuna.create_study(study_name=\"RandomForestClassifier Optuna Optimization\",\n",
    "                                   direction=\"maximize\",\n",
    "                                  #  storage='sqlite:///ex.db',\n",
    "                                   load_if_exists=False,\n",
    "                                   )\n",
    "# ищем лучшую комбинацию гиперпараметров n_trials раз\n",
    "study_ranFor.optimize(optuna_optimize, n_trials=10)\n",
    "\n",
    "# выводим результаты на обучающей выборке\n",
    "print(\"Наилучшие значения гиперпараметров {}\".format(study_ranFor.best_params))\n",
    "print(\"f1_score на обучающем наборе: {:.2f}\".format(study_ranFor.best_value))"
   ]
  },
  {
   "cell_type": "code",
   "execution_count": 18,
   "metadata": {},
   "outputs": [
    {
     "name": "stdout",
     "output_type": "stream",
     "text": [
      "\u001b[94mf1_score на тренировочном наборе: \u001b[92m0.978\u001b[39m\n",
      "\u001b[94mf1_score на тестовом наборе: \u001b[92m0.830\u001b[39m\n"
     ]
    }
   ],
   "source": [
    "# рассчитаем точность для тестовой выборки\n",
    "model = ensemble.RandomForestClassifier(**study_ranFor.best_params,random_state=RANDOM_STATE, )\n",
    "model.fit(X_train, y_train)\n",
    "\n",
    "printAndSaveModelResults(model,'RandomForestClassifier Optuna Optimization')"
   ]
  },
  {
   "attachments": {},
   "cell_type": "markdown",
   "metadata": {},
   "source": [
    "##### Кросс-валидация"
   ]
  },
  {
   "cell_type": "code",
   "execution_count": 19,
   "metadata": {},
   "outputs": [
    {
     "name": "stderr",
     "output_type": "stream",
     "text": [
      "\u001b[32m[I 2023-04-28 15:12:31,956]\u001b[0m A new study created in memory with name: RandomForestClassifier Optuna Optimization with Cross Validation\u001b[0m\n",
      "\u001b[32m[I 2023-04-28 15:12:33,481]\u001b[0m Trial 2 finished with value: 0.8068020282959651 and parameters: {'n_estimators': 120, 'min_samples_leaf': 3, 'max_depth': 24}. Best is trial 2 with value: 0.8068020282959651.\u001b[0m\n",
      "\u001b[32m[I 2023-04-28 15:12:37,039]\u001b[0m Trial 4 finished with value: 0.8001900224462137 and parameters: {'n_estimators': 150, 'min_samples_leaf': 6, 'max_depth': 29}. Best is trial 2 with value: 0.8068020282959651.\u001b[0m\n",
      "\u001b[32m[I 2023-04-28 15:12:37,238]\u001b[0m Trial 7 finished with value: 0.8020140244506146 and parameters: {'n_estimators': 200, 'min_samples_leaf': 6, 'max_depth': 28}. Best is trial 2 with value: 0.8068020282959651.\u001b[0m\n",
      "\u001b[32m[I 2023-04-28 15:12:37,919]\u001b[0m Trial 1 finished with value: 0.8051580116960169 and parameters: {'n_estimators': 110, 'min_samples_leaf': 4, 'max_depth': 31}. Best is trial 2 with value: 0.8068020282959651.\u001b[0m\n",
      "\u001b[32m[I 2023-04-28 15:12:37,960]\u001b[0m Trial 0 finished with value: 0.7999908166182604 and parameters: {'n_estimators': 170, 'min_samples_leaf': 6, 'max_depth': 39}. Best is trial 2 with value: 0.8068020282959651.\u001b[0m\n",
      "\u001b[32m[I 2023-04-28 15:12:37,970]\u001b[0m Trial 6 finished with value: 0.8119686149183554 and parameters: {'n_estimators': 250, 'min_samples_leaf': 3, 'max_depth': 38}. Best is trial 6 with value: 0.8119686149183554.\u001b[0m\n",
      "\u001b[32m[I 2023-04-28 15:12:37,975]\u001b[0m Trial 8 finished with value: 0.8106962903398547 and parameters: {'n_estimators': 230, 'min_samples_leaf': 4, 'max_depth': 18}. Best is trial 6 with value: 0.8119686149183554.\u001b[0m\n",
      "\u001b[32m[I 2023-04-28 15:12:37,985]\u001b[0m Trial 9 finished with value: 0.8066537475955148 and parameters: {'n_estimators': 220, 'min_samples_leaf': 3, 'max_depth': 18}. Best is trial 6 with value: 0.8119686149183554.\u001b[0m\n",
      "\u001b[32m[I 2023-04-28 15:12:37,992]\u001b[0m Trial 3 finished with value: 0.8069255073578283 and parameters: {'n_estimators': 210, 'min_samples_leaf': 3, 'max_depth': 23}. Best is trial 6 with value: 0.8119686149183554.\u001b[0m\n",
      "\u001b[32m[I 2023-04-28 15:12:38,547]\u001b[0m Trial 5 finished with value: 0.7997571714713396 and parameters: {'n_estimators': 210, 'min_samples_leaf': 6, 'max_depth': 21}. Best is trial 6 with value: 0.8119686149183554.\u001b[0m\n"
     ]
    },
    {
     "name": "stdout",
     "output_type": "stream",
     "text": [
      "Наилучшие значения гиперпараметров {'n_estimators': 250, 'min_samples_leaf': 3, 'max_depth': 38}\n",
      "f1_score на обучающем наборе: 0.81\n"
     ]
    }
   ],
   "source": [
    "scoreCalc = \"cross\"\n",
    "\n",
    "# cоздаем объект исследования\n",
    "# можем напрямую указать, что нам необходимо максимизировать метрику direction=\"maximize\"\n",
    "study_ranFor_cross = optuna.create_study(study_name=\"RandomForestClassifier Optuna Optimization with Cross Validation\",\n",
    "                                   direction=\"maximize\",\n",
    "                              #      storage='sqlite:///ex.db',\n",
    "                              #      load_if_exists=True,\n",
    "                                         )\n",
    "# ищем лучшую комбинацию гиперпараметров n_trials раз\n",
    "study_ranFor_cross.optimize(optuna_optimize, n_trials=10, n_jobs=-1)\n",
    "\n",
    "# выводим результаты на обучающей выборке\n",
    "print(\"Наилучшие значения гиперпараметров {}\".format(study_ranFor_cross.best_params))\n",
    "print(\"f1_score на обучающем наборе: {:.2f}\".format(study_ranFor_cross.best_value))"
   ]
  },
  {
   "cell_type": "code",
   "execution_count": 20,
   "metadata": {},
   "outputs": [
    {
     "name": "stdout",
     "output_type": "stream",
     "text": [
      "\u001b[94mf1_score на тренировочном наборе: \u001b[92m0.977\u001b[39m\n",
      "\u001b[94mf1_score на тестовом наборе: \u001b[92m0.826\u001b[39m\n"
     ]
    }
   ],
   "source": [
    "# рассчитаем точность для тестовой выборки\n",
    "model = ensemble.RandomForestClassifier(**study_ranFor_cross.best_params,random_state=RANDOM_STATE, )\n",
    "model.fit(X_train, y_train)\n",
    "\n",
    "printAndSaveModelResults(model,'RandomForestClassifier Optuna Optimization with Cross Validation')"
   ]
  },
  {
   "cell_type": "code",
   "execution_count": 21,
   "metadata": {},
   "outputs": [
    {
     "data": {
      "text/plain": [
       "True"
      ]
     },
     "execution_count": 21,
     "metadata": {},
     "output_type": "execute_result"
    }
   ],
   "source": [
    "optuna.visualization.is_available()"
   ]
  },
  {
   "cell_type": "code",
   "execution_count": 22,
   "metadata": {},
   "outputs": [
    {
     "data": {
      "application/vnd.plotly.v1+json": {
       "config": {
        "plotlyServerURL": "https://plot.ly"
       },
       "data": [
        {
         "mode": "markers",
         "name": "f1_score",
         "type": "scatter",
         "x": [
          0,
          1,
          2,
          3,
          4,
          5,
          6,
          7,
          8,
          9
         ],
         "y": [
          0.8247914183551848,
          0.8260355029585799,
          0.8274231678486997,
          0.8299643281807373,
          0.8233890214797136,
          0.8261904761904761,
          0.8210023866348448,
          0.8260355029585799,
          0.8214285714285714,
          0.8263473053892215
         ]
        },
        {
         "name": "Best Value",
         "type": "scatter",
         "x": [
          0,
          1,
          2,
          3,
          4,
          5,
          6,
          7,
          8,
          9
         ],
         "y": [
          0.8247914183551848,
          0.8260355029585799,
          0.8274231678486997,
          0.8299643281807373,
          0.8299643281807373,
          0.8299643281807373,
          0.8299643281807373,
          0.8299643281807373,
          0.8299643281807373,
          0.8299643281807373
         ]
        }
       ],
       "layout": {
        "template": {
         "data": {
          "bar": [
           {
            "error_x": {
             "color": "#2a3f5f"
            },
            "error_y": {
             "color": "#2a3f5f"
            },
            "marker": {
             "line": {
              "color": "#E5ECF6",
              "width": 0.5
             },
             "pattern": {
              "fillmode": "overlay",
              "size": 10,
              "solidity": 0.2
             }
            },
            "type": "bar"
           }
          ],
          "barpolar": [
           {
            "marker": {
             "line": {
              "color": "#E5ECF6",
              "width": 0.5
             },
             "pattern": {
              "fillmode": "overlay",
              "size": 10,
              "solidity": 0.2
             }
            },
            "type": "barpolar"
           }
          ],
          "carpet": [
           {
            "aaxis": {
             "endlinecolor": "#2a3f5f",
             "gridcolor": "white",
             "linecolor": "white",
             "minorgridcolor": "white",
             "startlinecolor": "#2a3f5f"
            },
            "baxis": {
             "endlinecolor": "#2a3f5f",
             "gridcolor": "white",
             "linecolor": "white",
             "minorgridcolor": "white",
             "startlinecolor": "#2a3f5f"
            },
            "type": "carpet"
           }
          ],
          "choropleth": [
           {
            "colorbar": {
             "outlinewidth": 0,
             "ticks": ""
            },
            "type": "choropleth"
           }
          ],
          "contour": [
           {
            "colorbar": {
             "outlinewidth": 0,
             "ticks": ""
            },
            "colorscale": [
             [
              0,
              "#0d0887"
             ],
             [
              0.1111111111111111,
              "#46039f"
             ],
             [
              0.2222222222222222,
              "#7201a8"
             ],
             [
              0.3333333333333333,
              "#9c179e"
             ],
             [
              0.4444444444444444,
              "#bd3786"
             ],
             [
              0.5555555555555556,
              "#d8576b"
             ],
             [
              0.6666666666666666,
              "#ed7953"
             ],
             [
              0.7777777777777778,
              "#fb9f3a"
             ],
             [
              0.8888888888888888,
              "#fdca26"
             ],
             [
              1,
              "#f0f921"
             ]
            ],
            "type": "contour"
           }
          ],
          "contourcarpet": [
           {
            "colorbar": {
             "outlinewidth": 0,
             "ticks": ""
            },
            "type": "contourcarpet"
           }
          ],
          "heatmap": [
           {
            "colorbar": {
             "outlinewidth": 0,
             "ticks": ""
            },
            "colorscale": [
             [
              0,
              "#0d0887"
             ],
             [
              0.1111111111111111,
              "#46039f"
             ],
             [
              0.2222222222222222,
              "#7201a8"
             ],
             [
              0.3333333333333333,
              "#9c179e"
             ],
             [
              0.4444444444444444,
              "#bd3786"
             ],
             [
              0.5555555555555556,
              "#d8576b"
             ],
             [
              0.6666666666666666,
              "#ed7953"
             ],
             [
              0.7777777777777778,
              "#fb9f3a"
             ],
             [
              0.8888888888888888,
              "#fdca26"
             ],
             [
              1,
              "#f0f921"
             ]
            ],
            "type": "heatmap"
           }
          ],
          "heatmapgl": [
           {
            "colorbar": {
             "outlinewidth": 0,
             "ticks": ""
            },
            "colorscale": [
             [
              0,
              "#0d0887"
             ],
             [
              0.1111111111111111,
              "#46039f"
             ],
             [
              0.2222222222222222,
              "#7201a8"
             ],
             [
              0.3333333333333333,
              "#9c179e"
             ],
             [
              0.4444444444444444,
              "#bd3786"
             ],
             [
              0.5555555555555556,
              "#d8576b"
             ],
             [
              0.6666666666666666,
              "#ed7953"
             ],
             [
              0.7777777777777778,
              "#fb9f3a"
             ],
             [
              0.8888888888888888,
              "#fdca26"
             ],
             [
              1,
              "#f0f921"
             ]
            ],
            "type": "heatmapgl"
           }
          ],
          "histogram": [
           {
            "marker": {
             "pattern": {
              "fillmode": "overlay",
              "size": 10,
              "solidity": 0.2
             }
            },
            "type": "histogram"
           }
          ],
          "histogram2d": [
           {
            "colorbar": {
             "outlinewidth": 0,
             "ticks": ""
            },
            "colorscale": [
             [
              0,
              "#0d0887"
             ],
             [
              0.1111111111111111,
              "#46039f"
             ],
             [
              0.2222222222222222,
              "#7201a8"
             ],
             [
              0.3333333333333333,
              "#9c179e"
             ],
             [
              0.4444444444444444,
              "#bd3786"
             ],
             [
              0.5555555555555556,
              "#d8576b"
             ],
             [
              0.6666666666666666,
              "#ed7953"
             ],
             [
              0.7777777777777778,
              "#fb9f3a"
             ],
             [
              0.8888888888888888,
              "#fdca26"
             ],
             [
              1,
              "#f0f921"
             ]
            ],
            "type": "histogram2d"
           }
          ],
          "histogram2dcontour": [
           {
            "colorbar": {
             "outlinewidth": 0,
             "ticks": ""
            },
            "colorscale": [
             [
              0,
              "#0d0887"
             ],
             [
              0.1111111111111111,
              "#46039f"
             ],
             [
              0.2222222222222222,
              "#7201a8"
             ],
             [
              0.3333333333333333,
              "#9c179e"
             ],
             [
              0.4444444444444444,
              "#bd3786"
             ],
             [
              0.5555555555555556,
              "#d8576b"
             ],
             [
              0.6666666666666666,
              "#ed7953"
             ],
             [
              0.7777777777777778,
              "#fb9f3a"
             ],
             [
              0.8888888888888888,
              "#fdca26"
             ],
             [
              1,
              "#f0f921"
             ]
            ],
            "type": "histogram2dcontour"
           }
          ],
          "mesh3d": [
           {
            "colorbar": {
             "outlinewidth": 0,
             "ticks": ""
            },
            "type": "mesh3d"
           }
          ],
          "parcoords": [
           {
            "line": {
             "colorbar": {
              "outlinewidth": 0,
              "ticks": ""
             }
            },
            "type": "parcoords"
           }
          ],
          "pie": [
           {
            "automargin": true,
            "type": "pie"
           }
          ],
          "scatter": [
           {
            "fillpattern": {
             "fillmode": "overlay",
             "size": 10,
             "solidity": 0.2
            },
            "type": "scatter"
           }
          ],
          "scatter3d": [
           {
            "line": {
             "colorbar": {
              "outlinewidth": 0,
              "ticks": ""
             }
            },
            "marker": {
             "colorbar": {
              "outlinewidth": 0,
              "ticks": ""
             }
            },
            "type": "scatter3d"
           }
          ],
          "scattercarpet": [
           {
            "marker": {
             "colorbar": {
              "outlinewidth": 0,
              "ticks": ""
             }
            },
            "type": "scattercarpet"
           }
          ],
          "scattergeo": [
           {
            "marker": {
             "colorbar": {
              "outlinewidth": 0,
              "ticks": ""
             }
            },
            "type": "scattergeo"
           }
          ],
          "scattergl": [
           {
            "marker": {
             "colorbar": {
              "outlinewidth": 0,
              "ticks": ""
             }
            },
            "type": "scattergl"
           }
          ],
          "scattermapbox": [
           {
            "marker": {
             "colorbar": {
              "outlinewidth": 0,
              "ticks": ""
             }
            },
            "type": "scattermapbox"
           }
          ],
          "scatterpolar": [
           {
            "marker": {
             "colorbar": {
              "outlinewidth": 0,
              "ticks": ""
             }
            },
            "type": "scatterpolar"
           }
          ],
          "scatterpolargl": [
           {
            "marker": {
             "colorbar": {
              "outlinewidth": 0,
              "ticks": ""
             }
            },
            "type": "scatterpolargl"
           }
          ],
          "scatterternary": [
           {
            "marker": {
             "colorbar": {
              "outlinewidth": 0,
              "ticks": ""
             }
            },
            "type": "scatterternary"
           }
          ],
          "surface": [
           {
            "colorbar": {
             "outlinewidth": 0,
             "ticks": ""
            },
            "colorscale": [
             [
              0,
              "#0d0887"
             ],
             [
              0.1111111111111111,
              "#46039f"
             ],
             [
              0.2222222222222222,
              "#7201a8"
             ],
             [
              0.3333333333333333,
              "#9c179e"
             ],
             [
              0.4444444444444444,
              "#bd3786"
             ],
             [
              0.5555555555555556,
              "#d8576b"
             ],
             [
              0.6666666666666666,
              "#ed7953"
             ],
             [
              0.7777777777777778,
              "#fb9f3a"
             ],
             [
              0.8888888888888888,
              "#fdca26"
             ],
             [
              1,
              "#f0f921"
             ]
            ],
            "type": "surface"
           }
          ],
          "table": [
           {
            "cells": {
             "fill": {
              "color": "#EBF0F8"
             },
             "line": {
              "color": "white"
             }
            },
            "header": {
             "fill": {
              "color": "#C8D4E3"
             },
             "line": {
              "color": "white"
             }
            },
            "type": "table"
           }
          ]
         },
         "layout": {
          "annotationdefaults": {
           "arrowcolor": "#2a3f5f",
           "arrowhead": 0,
           "arrowwidth": 1
          },
          "autotypenumbers": "strict",
          "coloraxis": {
           "colorbar": {
            "outlinewidth": 0,
            "ticks": ""
           }
          },
          "colorscale": {
           "diverging": [
            [
             0,
             "#8e0152"
            ],
            [
             0.1,
             "#c51b7d"
            ],
            [
             0.2,
             "#de77ae"
            ],
            [
             0.3,
             "#f1b6da"
            ],
            [
             0.4,
             "#fde0ef"
            ],
            [
             0.5,
             "#f7f7f7"
            ],
            [
             0.6,
             "#e6f5d0"
            ],
            [
             0.7,
             "#b8e186"
            ],
            [
             0.8,
             "#7fbc41"
            ],
            [
             0.9,
             "#4d9221"
            ],
            [
             1,
             "#276419"
            ]
           ],
           "sequential": [
            [
             0,
             "#0d0887"
            ],
            [
             0.1111111111111111,
             "#46039f"
            ],
            [
             0.2222222222222222,
             "#7201a8"
            ],
            [
             0.3333333333333333,
             "#9c179e"
            ],
            [
             0.4444444444444444,
             "#bd3786"
            ],
            [
             0.5555555555555556,
             "#d8576b"
            ],
            [
             0.6666666666666666,
             "#ed7953"
            ],
            [
             0.7777777777777778,
             "#fb9f3a"
            ],
            [
             0.8888888888888888,
             "#fdca26"
            ],
            [
             1,
             "#f0f921"
            ]
           ],
           "sequentialminus": [
            [
             0,
             "#0d0887"
            ],
            [
             0.1111111111111111,
             "#46039f"
            ],
            [
             0.2222222222222222,
             "#7201a8"
            ],
            [
             0.3333333333333333,
             "#9c179e"
            ],
            [
             0.4444444444444444,
             "#bd3786"
            ],
            [
             0.5555555555555556,
             "#d8576b"
            ],
            [
             0.6666666666666666,
             "#ed7953"
            ],
            [
             0.7777777777777778,
             "#fb9f3a"
            ],
            [
             0.8888888888888888,
             "#fdca26"
            ],
            [
             1,
             "#f0f921"
            ]
           ]
          },
          "colorway": [
           "#636efa",
           "#EF553B",
           "#00cc96",
           "#ab63fa",
           "#FFA15A",
           "#19d3f3",
           "#FF6692",
           "#B6E880",
           "#FF97FF",
           "#FECB52"
          ],
          "font": {
           "color": "#2a3f5f"
          },
          "geo": {
           "bgcolor": "white",
           "lakecolor": "white",
           "landcolor": "#E5ECF6",
           "showlakes": true,
           "showland": true,
           "subunitcolor": "white"
          },
          "hoverlabel": {
           "align": "left"
          },
          "hovermode": "closest",
          "mapbox": {
           "style": "light"
          },
          "paper_bgcolor": "white",
          "plot_bgcolor": "#E5ECF6",
          "polar": {
           "angularaxis": {
            "gridcolor": "white",
            "linecolor": "white",
            "ticks": ""
           },
           "bgcolor": "#E5ECF6",
           "radialaxis": {
            "gridcolor": "white",
            "linecolor": "white",
            "ticks": ""
           }
          },
          "scene": {
           "xaxis": {
            "backgroundcolor": "#E5ECF6",
            "gridcolor": "white",
            "gridwidth": 2,
            "linecolor": "white",
            "showbackground": true,
            "ticks": "",
            "zerolinecolor": "white"
           },
           "yaxis": {
            "backgroundcolor": "#E5ECF6",
            "gridcolor": "white",
            "gridwidth": 2,
            "linecolor": "white",
            "showbackground": true,
            "ticks": "",
            "zerolinecolor": "white"
           },
           "zaxis": {
            "backgroundcolor": "#E5ECF6",
            "gridcolor": "white",
            "gridwidth": 2,
            "linecolor": "white",
            "showbackground": true,
            "ticks": "",
            "zerolinecolor": "white"
           }
          },
          "shapedefaults": {
           "line": {
            "color": "#2a3f5f"
           }
          },
          "ternary": {
           "aaxis": {
            "gridcolor": "white",
            "linecolor": "white",
            "ticks": ""
           },
           "baxis": {
            "gridcolor": "white",
            "linecolor": "white",
            "ticks": ""
           },
           "bgcolor": "#E5ECF6",
           "caxis": {
            "gridcolor": "white",
            "linecolor": "white",
            "ticks": ""
           }
          },
          "title": {
           "x": 0.05
          },
          "xaxis": {
           "automargin": true,
           "gridcolor": "white",
           "linecolor": "white",
           "ticks": "",
           "title": {
            "standoff": 15
           },
           "zerolinecolor": "white",
           "zerolinewidth": 2
          },
          "yaxis": {
           "automargin": true,
           "gridcolor": "white",
           "linecolor": "white",
           "ticks": "",
           "title": {
            "standoff": 15
           },
           "zerolinecolor": "white",
           "zerolinewidth": 2
          }
         }
        },
        "title": {
         "text": "Optimization History Plot"
        },
        "xaxis": {
         "title": {
          "text": "Trial"
         }
        },
        "yaxis": {
         "title": {
          "text": "f1_score"
         }
        }
       }
      }
     },
     "metadata": {},
     "output_type": "display_data"
    }
   ],
   "source": [
    "optuna.visualization.plot_optimization_history(study_ranFor, target_name=\"f1_score\")"
   ]
  },
  {
   "cell_type": "code",
   "execution_count": 23,
   "metadata": {},
   "outputs": [
    {
     "data": {
      "application/vnd.plotly.v1+json": {
       "config": {
        "plotlyServerURL": "https://plot.ly"
       },
       "data": [
        {
         "cliponaxis": false,
         "hovertemplate": [
          "min_samples_leaf (IntDistribution): 0.1358288786534094<extra></extra>",
          "n_estimators (IntDistribution): 0.40440352914861943<extra></extra>",
          "max_depth (IntDistribution): 0.45976759219797114<extra></extra>"
         ],
         "marker": {
          "color": "rgb(66,146,198)"
         },
         "orientation": "h",
         "text": [
          "0.14",
          "0.40",
          "0.46"
         ],
         "textposition": "outside",
         "type": "bar",
         "x": [
          0.1358288786534094,
          0.40440352914861943,
          0.45976759219797114
         ],
         "y": [
          "min_samples_leaf",
          "n_estimators",
          "max_depth"
         ]
        }
       ],
       "layout": {
        "showlegend": false,
        "template": {
         "data": {
          "bar": [
           {
            "error_x": {
             "color": "#2a3f5f"
            },
            "error_y": {
             "color": "#2a3f5f"
            },
            "marker": {
             "line": {
              "color": "#E5ECF6",
              "width": 0.5
             },
             "pattern": {
              "fillmode": "overlay",
              "size": 10,
              "solidity": 0.2
             }
            },
            "type": "bar"
           }
          ],
          "barpolar": [
           {
            "marker": {
             "line": {
              "color": "#E5ECF6",
              "width": 0.5
             },
             "pattern": {
              "fillmode": "overlay",
              "size": 10,
              "solidity": 0.2
             }
            },
            "type": "barpolar"
           }
          ],
          "carpet": [
           {
            "aaxis": {
             "endlinecolor": "#2a3f5f",
             "gridcolor": "white",
             "linecolor": "white",
             "minorgridcolor": "white",
             "startlinecolor": "#2a3f5f"
            },
            "baxis": {
             "endlinecolor": "#2a3f5f",
             "gridcolor": "white",
             "linecolor": "white",
             "minorgridcolor": "white",
             "startlinecolor": "#2a3f5f"
            },
            "type": "carpet"
           }
          ],
          "choropleth": [
           {
            "colorbar": {
             "outlinewidth": 0,
             "ticks": ""
            },
            "type": "choropleth"
           }
          ],
          "contour": [
           {
            "colorbar": {
             "outlinewidth": 0,
             "ticks": ""
            },
            "colorscale": [
             [
              0,
              "#0d0887"
             ],
             [
              0.1111111111111111,
              "#46039f"
             ],
             [
              0.2222222222222222,
              "#7201a8"
             ],
             [
              0.3333333333333333,
              "#9c179e"
             ],
             [
              0.4444444444444444,
              "#bd3786"
             ],
             [
              0.5555555555555556,
              "#d8576b"
             ],
             [
              0.6666666666666666,
              "#ed7953"
             ],
             [
              0.7777777777777778,
              "#fb9f3a"
             ],
             [
              0.8888888888888888,
              "#fdca26"
             ],
             [
              1,
              "#f0f921"
             ]
            ],
            "type": "contour"
           }
          ],
          "contourcarpet": [
           {
            "colorbar": {
             "outlinewidth": 0,
             "ticks": ""
            },
            "type": "contourcarpet"
           }
          ],
          "heatmap": [
           {
            "colorbar": {
             "outlinewidth": 0,
             "ticks": ""
            },
            "colorscale": [
             [
              0,
              "#0d0887"
             ],
             [
              0.1111111111111111,
              "#46039f"
             ],
             [
              0.2222222222222222,
              "#7201a8"
             ],
             [
              0.3333333333333333,
              "#9c179e"
             ],
             [
              0.4444444444444444,
              "#bd3786"
             ],
             [
              0.5555555555555556,
              "#d8576b"
             ],
             [
              0.6666666666666666,
              "#ed7953"
             ],
             [
              0.7777777777777778,
              "#fb9f3a"
             ],
             [
              0.8888888888888888,
              "#fdca26"
             ],
             [
              1,
              "#f0f921"
             ]
            ],
            "type": "heatmap"
           }
          ],
          "heatmapgl": [
           {
            "colorbar": {
             "outlinewidth": 0,
             "ticks": ""
            },
            "colorscale": [
             [
              0,
              "#0d0887"
             ],
             [
              0.1111111111111111,
              "#46039f"
             ],
             [
              0.2222222222222222,
              "#7201a8"
             ],
             [
              0.3333333333333333,
              "#9c179e"
             ],
             [
              0.4444444444444444,
              "#bd3786"
             ],
             [
              0.5555555555555556,
              "#d8576b"
             ],
             [
              0.6666666666666666,
              "#ed7953"
             ],
             [
              0.7777777777777778,
              "#fb9f3a"
             ],
             [
              0.8888888888888888,
              "#fdca26"
             ],
             [
              1,
              "#f0f921"
             ]
            ],
            "type": "heatmapgl"
           }
          ],
          "histogram": [
           {
            "marker": {
             "pattern": {
              "fillmode": "overlay",
              "size": 10,
              "solidity": 0.2
             }
            },
            "type": "histogram"
           }
          ],
          "histogram2d": [
           {
            "colorbar": {
             "outlinewidth": 0,
             "ticks": ""
            },
            "colorscale": [
             [
              0,
              "#0d0887"
             ],
             [
              0.1111111111111111,
              "#46039f"
             ],
             [
              0.2222222222222222,
              "#7201a8"
             ],
             [
              0.3333333333333333,
              "#9c179e"
             ],
             [
              0.4444444444444444,
              "#bd3786"
             ],
             [
              0.5555555555555556,
              "#d8576b"
             ],
             [
              0.6666666666666666,
              "#ed7953"
             ],
             [
              0.7777777777777778,
              "#fb9f3a"
             ],
             [
              0.8888888888888888,
              "#fdca26"
             ],
             [
              1,
              "#f0f921"
             ]
            ],
            "type": "histogram2d"
           }
          ],
          "histogram2dcontour": [
           {
            "colorbar": {
             "outlinewidth": 0,
             "ticks": ""
            },
            "colorscale": [
             [
              0,
              "#0d0887"
             ],
             [
              0.1111111111111111,
              "#46039f"
             ],
             [
              0.2222222222222222,
              "#7201a8"
             ],
             [
              0.3333333333333333,
              "#9c179e"
             ],
             [
              0.4444444444444444,
              "#bd3786"
             ],
             [
              0.5555555555555556,
              "#d8576b"
             ],
             [
              0.6666666666666666,
              "#ed7953"
             ],
             [
              0.7777777777777778,
              "#fb9f3a"
             ],
             [
              0.8888888888888888,
              "#fdca26"
             ],
             [
              1,
              "#f0f921"
             ]
            ],
            "type": "histogram2dcontour"
           }
          ],
          "mesh3d": [
           {
            "colorbar": {
             "outlinewidth": 0,
             "ticks": ""
            },
            "type": "mesh3d"
           }
          ],
          "parcoords": [
           {
            "line": {
             "colorbar": {
              "outlinewidth": 0,
              "ticks": ""
             }
            },
            "type": "parcoords"
           }
          ],
          "pie": [
           {
            "automargin": true,
            "type": "pie"
           }
          ],
          "scatter": [
           {
            "fillpattern": {
             "fillmode": "overlay",
             "size": 10,
             "solidity": 0.2
            },
            "type": "scatter"
           }
          ],
          "scatter3d": [
           {
            "line": {
             "colorbar": {
              "outlinewidth": 0,
              "ticks": ""
             }
            },
            "marker": {
             "colorbar": {
              "outlinewidth": 0,
              "ticks": ""
             }
            },
            "type": "scatter3d"
           }
          ],
          "scattercarpet": [
           {
            "marker": {
             "colorbar": {
              "outlinewidth": 0,
              "ticks": ""
             }
            },
            "type": "scattercarpet"
           }
          ],
          "scattergeo": [
           {
            "marker": {
             "colorbar": {
              "outlinewidth": 0,
              "ticks": ""
             }
            },
            "type": "scattergeo"
           }
          ],
          "scattergl": [
           {
            "marker": {
             "colorbar": {
              "outlinewidth": 0,
              "ticks": ""
             }
            },
            "type": "scattergl"
           }
          ],
          "scattermapbox": [
           {
            "marker": {
             "colorbar": {
              "outlinewidth": 0,
              "ticks": ""
             }
            },
            "type": "scattermapbox"
           }
          ],
          "scatterpolar": [
           {
            "marker": {
             "colorbar": {
              "outlinewidth": 0,
              "ticks": ""
             }
            },
            "type": "scatterpolar"
           }
          ],
          "scatterpolargl": [
           {
            "marker": {
             "colorbar": {
              "outlinewidth": 0,
              "ticks": ""
             }
            },
            "type": "scatterpolargl"
           }
          ],
          "scatterternary": [
           {
            "marker": {
             "colorbar": {
              "outlinewidth": 0,
              "ticks": ""
             }
            },
            "type": "scatterternary"
           }
          ],
          "surface": [
           {
            "colorbar": {
             "outlinewidth": 0,
             "ticks": ""
            },
            "colorscale": [
             [
              0,
              "#0d0887"
             ],
             [
              0.1111111111111111,
              "#46039f"
             ],
             [
              0.2222222222222222,
              "#7201a8"
             ],
             [
              0.3333333333333333,
              "#9c179e"
             ],
             [
              0.4444444444444444,
              "#bd3786"
             ],
             [
              0.5555555555555556,
              "#d8576b"
             ],
             [
              0.6666666666666666,
              "#ed7953"
             ],
             [
              0.7777777777777778,
              "#fb9f3a"
             ],
             [
              0.8888888888888888,
              "#fdca26"
             ],
             [
              1,
              "#f0f921"
             ]
            ],
            "type": "surface"
           }
          ],
          "table": [
           {
            "cells": {
             "fill": {
              "color": "#EBF0F8"
             },
             "line": {
              "color": "white"
             }
            },
            "header": {
             "fill": {
              "color": "#C8D4E3"
             },
             "line": {
              "color": "white"
             }
            },
            "type": "table"
           }
          ]
         },
         "layout": {
          "annotationdefaults": {
           "arrowcolor": "#2a3f5f",
           "arrowhead": 0,
           "arrowwidth": 1
          },
          "autotypenumbers": "strict",
          "coloraxis": {
           "colorbar": {
            "outlinewidth": 0,
            "ticks": ""
           }
          },
          "colorscale": {
           "diverging": [
            [
             0,
             "#8e0152"
            ],
            [
             0.1,
             "#c51b7d"
            ],
            [
             0.2,
             "#de77ae"
            ],
            [
             0.3,
             "#f1b6da"
            ],
            [
             0.4,
             "#fde0ef"
            ],
            [
             0.5,
             "#f7f7f7"
            ],
            [
             0.6,
             "#e6f5d0"
            ],
            [
             0.7,
             "#b8e186"
            ],
            [
             0.8,
             "#7fbc41"
            ],
            [
             0.9,
             "#4d9221"
            ],
            [
             1,
             "#276419"
            ]
           ],
           "sequential": [
            [
             0,
             "#0d0887"
            ],
            [
             0.1111111111111111,
             "#46039f"
            ],
            [
             0.2222222222222222,
             "#7201a8"
            ],
            [
             0.3333333333333333,
             "#9c179e"
            ],
            [
             0.4444444444444444,
             "#bd3786"
            ],
            [
             0.5555555555555556,
             "#d8576b"
            ],
            [
             0.6666666666666666,
             "#ed7953"
            ],
            [
             0.7777777777777778,
             "#fb9f3a"
            ],
            [
             0.8888888888888888,
             "#fdca26"
            ],
            [
             1,
             "#f0f921"
            ]
           ],
           "sequentialminus": [
            [
             0,
             "#0d0887"
            ],
            [
             0.1111111111111111,
             "#46039f"
            ],
            [
             0.2222222222222222,
             "#7201a8"
            ],
            [
             0.3333333333333333,
             "#9c179e"
            ],
            [
             0.4444444444444444,
             "#bd3786"
            ],
            [
             0.5555555555555556,
             "#d8576b"
            ],
            [
             0.6666666666666666,
             "#ed7953"
            ],
            [
             0.7777777777777778,
             "#fb9f3a"
            ],
            [
             0.8888888888888888,
             "#fdca26"
            ],
            [
             1,
             "#f0f921"
            ]
           ]
          },
          "colorway": [
           "#636efa",
           "#EF553B",
           "#00cc96",
           "#ab63fa",
           "#FFA15A",
           "#19d3f3",
           "#FF6692",
           "#B6E880",
           "#FF97FF",
           "#FECB52"
          ],
          "font": {
           "color": "#2a3f5f"
          },
          "geo": {
           "bgcolor": "white",
           "lakecolor": "white",
           "landcolor": "#E5ECF6",
           "showlakes": true,
           "showland": true,
           "subunitcolor": "white"
          },
          "hoverlabel": {
           "align": "left"
          },
          "hovermode": "closest",
          "mapbox": {
           "style": "light"
          },
          "paper_bgcolor": "white",
          "plot_bgcolor": "#E5ECF6",
          "polar": {
           "angularaxis": {
            "gridcolor": "white",
            "linecolor": "white",
            "ticks": ""
           },
           "bgcolor": "#E5ECF6",
           "radialaxis": {
            "gridcolor": "white",
            "linecolor": "white",
            "ticks": ""
           }
          },
          "scene": {
           "xaxis": {
            "backgroundcolor": "#E5ECF6",
            "gridcolor": "white",
            "gridwidth": 2,
            "linecolor": "white",
            "showbackground": true,
            "ticks": "",
            "zerolinecolor": "white"
           },
           "yaxis": {
            "backgroundcolor": "#E5ECF6",
            "gridcolor": "white",
            "gridwidth": 2,
            "linecolor": "white",
            "showbackground": true,
            "ticks": "",
            "zerolinecolor": "white"
           },
           "zaxis": {
            "backgroundcolor": "#E5ECF6",
            "gridcolor": "white",
            "gridwidth": 2,
            "linecolor": "white",
            "showbackground": true,
            "ticks": "",
            "zerolinecolor": "white"
           }
          },
          "shapedefaults": {
           "line": {
            "color": "#2a3f5f"
           }
          },
          "ternary": {
           "aaxis": {
            "gridcolor": "white",
            "linecolor": "white",
            "ticks": ""
           },
           "baxis": {
            "gridcolor": "white",
            "linecolor": "white",
            "ticks": ""
           },
           "bgcolor": "#E5ECF6",
           "caxis": {
            "gridcolor": "white",
            "linecolor": "white",
            "ticks": ""
           }
          },
          "title": {
           "x": 0.05
          },
          "xaxis": {
           "automargin": true,
           "gridcolor": "white",
           "linecolor": "white",
           "ticks": "",
           "title": {
            "standoff": 15
           },
           "zerolinecolor": "white",
           "zerolinewidth": 2
          },
          "yaxis": {
           "automargin": true,
           "gridcolor": "white",
           "linecolor": "white",
           "ticks": "",
           "title": {
            "standoff": 15
           },
           "zerolinecolor": "white",
           "zerolinewidth": 2
          }
         }
        },
        "title": {
         "text": "Hyperparameter Importances"
        },
        "xaxis": {
         "title": {
          "text": "Importance for f1_score"
         }
        },
        "yaxis": {
         "title": {
          "text": "Hyperparameter"
         }
        }
       }
      }
     },
     "metadata": {},
     "output_type": "display_data"
    }
   ],
   "source": [
    "optuna.visualization.plot_param_importances(study_ranFor, target_name=\"f1_score\")"
   ]
  },
  {
   "cell_type": "code",
   "execution_count": null,
   "metadata": {},
   "outputs": [],
   "source": [
    "optuna.visualization.plot_contour(study_ranFor, params=[\"max_depth\", \"min_samples_leaf\"],\n",
    "                                  target_name=\"f1_score\")"
   ]
  },
  {
   "cell_type": "code",
   "execution_count": 24,
   "metadata": {},
   "outputs": [
    {
     "data": {
      "text/html": [
       "<style type=\"text/css\">\n",
       "#T_3df1d_row0_col0 {\n",
       "  background-color: #4db2d3;\n",
       "  color: #f1f1f1;\n",
       "}\n",
       "#T_3df1d_row0_col1 {\n",
       "  background-color: #aedfb8;\n",
       "  color: #000000;\n",
       "}\n",
       "#T_3df1d_row1_col0 {\n",
       "  background-color: #4fb3d3;\n",
       "  color: #f1f1f1;\n",
       "}\n",
       "#T_3df1d_row1_col1 {\n",
       "  background-color: #b1e0b9;\n",
       "  color: #000000;\n",
       "}\n",
       "#T_3df1d_row2_col0 {\n",
       "  background-color: #42a6cc;\n",
       "  color: #f1f1f1;\n",
       "}\n",
       "#T_3df1d_row2_col1 {\n",
       "  background-color: #b9e3bc;\n",
       "  color: #000000;\n",
       "}\n",
       "#T_3df1d_row3_col0, #T_3df1d_row4_col0 {\n",
       "  background-color: #a3dbb7;\n",
       "  color: #000000;\n",
       "}\n",
       "#T_3df1d_row3_col1, #T_3df1d_row4_col1 {\n",
       "  background-color: #c4e8c1;\n",
       "  color: #000000;\n",
       "}\n",
       "#T_3df1d_row5_col0 {\n",
       "  background-color: #8bd2bf;\n",
       "  color: #000000;\n",
       "}\n",
       "#T_3df1d_row5_col1 {\n",
       "  background-color: #c9eac4;\n",
       "  color: #000000;\n",
       "}\n",
       "</style>\n",
       "<table id=\"T_3df1d\">\n",
       "  <thead>\n",
       "    <tr>\n",
       "      <th class=\"blank level0\" >&nbsp;</th>\n",
       "      <th id=\"T_3df1d_level0_col0\" class=\"col_heading level0 col0\" >result_train</th>\n",
       "      <th id=\"T_3df1d_level0_col1\" class=\"col_heading level0 col1\" >result_test</th>\n",
       "    </tr>\n",
       "    <tr>\n",
       "      <th class=\"index_name level0\" >method</th>\n",
       "      <th class=\"blank col0\" >&nbsp;</th>\n",
       "      <th class=\"blank col1\" >&nbsp;</th>\n",
       "    </tr>\n",
       "  </thead>\n",
       "  <tbody>\n",
       "    <tr>\n",
       "      <th id=\"T_3df1d_level0_row0\" class=\"row_heading level0 row0\" >RandomForestClassifier Optuna Optimization</th>\n",
       "      <td id=\"T_3df1d_row0_col0\" class=\"data row0 col0\" >0.977669</td>\n",
       "      <td id=\"T_3df1d_row0_col1\" class=\"data row0 col1\" >0.829964</td>\n",
       "    </tr>\n",
       "    <tr>\n",
       "      <th id=\"T_3df1d_level0_row1\" class=\"row_heading level0 row1\" >RandomForestClassifier Optuna Optimization with Cross Validation</th>\n",
       "      <td id=\"T_3df1d_row1_col0\" class=\"data row1 col0\" >0.977356</td>\n",
       "      <td id=\"T_3df1d_row1_col1\" class=\"data row1 col1\" >0.826347</td>\n",
       "    </tr>\n",
       "    <tr>\n",
       "      <th id=\"T_3df1d_level0_row2\" class=\"row_heading level0 row2\" >RandomForestClassifier native</th>\n",
       "      <td id=\"T_3df1d_row2_col0\" class=\"data row2 col0\" >1.000000</td>\n",
       "      <td id=\"T_3df1d_row2_col1\" class=\"data row2 col1\" >0.812576</td>\n",
       "    </tr>\n",
       "    <tr>\n",
       "      <th id=\"T_3df1d_level0_row3\" class=\"row_heading level0 row3\" >LogisticRegression Optuna Optimization</th>\n",
       "      <td id=\"T_3df1d_row3_col0\" class=\"data row3 col0\" >0.849348</td>\n",
       "      <td id=\"T_3df1d_row3_col1\" class=\"data row3 col1\" >0.790419</td>\n",
       "    </tr>\n",
       "    <tr>\n",
       "      <th id=\"T_3df1d_level0_row4\" class=\"row_heading level0 row4\" >LogisticRegression Optuna Optimization with Cross Validation</th>\n",
       "      <td id=\"T_3df1d_row4_col0\" class=\"data row4 col0\" >0.849348</td>\n",
       "      <td id=\"T_3df1d_row4_col1\" class=\"data row4 col1\" >0.790419</td>\n",
       "    </tr>\n",
       "    <tr>\n",
       "      <th id=\"T_3df1d_level0_row5\" class=\"row_heading level0 row5\" >LogisticRegression native</th>\n",
       "      <td id=\"T_3df1d_row5_col0\" class=\"data row5 col0\" >0.885226</td>\n",
       "      <td id=\"T_3df1d_row5_col1\" class=\"data row5 col1\" >0.780838</td>\n",
       "    </tr>\n",
       "  </tbody>\n",
       "</table>\n"
      ],
      "text/plain": [
       "<pandas.io.formats.style.Styler at 0x1f46c88af50>"
      ]
     },
     "metadata": {},
     "output_type": "display_data"
    }
   ],
   "source": [
    "resultf1ScoreData = pd.DataFrame(f1_score_results).set_index('method').sort_values(by='result_test',ascending=False)\n",
    "\n",
    "display(resultf1ScoreData.\\\n",
    "        style.background_gradient(\\\n",
    "        axis=0, cmap='GnBu',\n",
    "        low = 0.8,\n",
    "        high=0.9,\n",
    "        vmin = 0.8,\n",
    "        vmax = 1))"
   ]
  }
 ],
 "metadata": {
  "kernelspec": {
   "display_name": "Python 3",
   "language": "python",
   "name": "python3"
  },
  "language_info": {
   "codemirror_mode": {
    "name": "ipython",
    "version": 3
   },
   "file_extension": ".py",
   "mimetype": "text/x-python",
   "name": "python",
   "nbconvert_exporter": "python",
   "pygments_lexer": "ipython3",
   "version": "3.11.0"
  },
  "orig_nbformat": 4
 },
 "nbformat": 4,
 "nbformat_minor": 2
}
