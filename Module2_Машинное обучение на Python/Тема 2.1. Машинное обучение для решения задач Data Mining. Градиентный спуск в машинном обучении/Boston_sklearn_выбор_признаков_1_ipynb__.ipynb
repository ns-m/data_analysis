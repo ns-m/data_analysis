{
  "nbformat": 4,
  "nbformat_minor": 0,
  "metadata": {
    "colab": {
      "name": "Boston_sklearn_выбор признаков_1.ipynb\"\"",
      "provenance": [],
      "collapsed_sections": []
    },
    "kernelspec": {
      "name": "python3",
      "display_name": "Python 3"
    }
  },
  "cells": [
    {
      "cell_type": "code",
      "metadata": {
        "id": "IagME5lVQfTi",
        "colab": {
          "base_uri": "https://localhost:8080/"
        },
        "outputId": "7eaf26e7-fd80-4d36-f214-1043b7a6f982"
      },
      "source": [
        "from sklearn.datasets import load_boston\n",
        "boston = load_boston()\n",
        "X = boston.data\n",
        "y = boston.target\n",
        "feature_names = boston.feature_names\n",
        "print(X.shape) \n",
        "print(y.shape) \n",
        "print(feature_names) "
      ],
      "execution_count": null,
      "outputs": [
        {
          "output_type": "stream",
          "text": [
            "(506, 13)\n",
            "(506,)\n",
            "['CRIM' 'ZN' 'INDUS' 'CHAS' 'NOX' 'RM' 'AGE' 'DIS' 'RAD' 'TAX' 'PTRATIO'\n",
            " 'B' 'LSTAT']\n"
          ],
          "name": "stdout"
        }
      ]
    },
    {
      "cell_type": "code",
      "metadata": {
        "id": "h6xtL4lPQrBL"
      },
      "source": [
        "from sklearn.model_selection import train_test_split\n",
        "# Split the dataset: 70% vs 30% \n",
        "X_train, X_test, y_train, y_test = train_test_split(X, y, test_size=0.3, random_state=0)\n"
      ],
      "execution_count": null,
      "outputs": []
    },
    {
      "cell_type": "code",
      "metadata": {
        "id": "7QgobxBSRq9w"
      },
      "source": [
        "import pandas as pd\n",
        "from sklearn.linear_model import LinearRegression\n",
        "from sklearn.metrics import r2_score"
      ],
      "execution_count": null,
      "outputs": []
    },
    {
      "cell_type": "code",
      "metadata": {
        "id": "ybrbAnR7SOzb",
        "colab": {
          "base_uri": "https://localhost:8080/"
        },
        "outputId": "d66601ec-dd1b-4acf-9944-ce7cf8a4ae3a"
      },
      "source": [
        "# initiate the linear model and fit with data\n",
        "lm =LinearRegression()\n",
        "lm.fit(X_train, y_train)"
      ],
      "execution_count": null,
      "outputs": [
        {
          "output_type": "execute_result",
          "data": {
            "text/plain": [
              "LinearRegression(copy_X=True, fit_intercept=True, n_jobs=None, normalize=False)"
            ]
          },
          "metadata": {
            "tags": []
          },
          "execution_count": 5
        }
      ]
    },
    {
      "cell_type": "code",
      "metadata": {
        "id": "KAVFAZzzT2mk",
        "colab": {
          "base_uri": "https://localhost:8080/"
        },
        "outputId": "8ddfbab3-02c1-49e2-dc71-bfefac484434"
      },
      "source": [
        "print(\"The R-squared value is: {0:0.4f} \\n\".format(lm.score(X_train, y_train)))"
      ],
      "execution_count": null,
      "outputs": [
        {
          "output_type": "stream",
          "text": [
            "The R-squared value is: 0.7645 \n",
            "\n"
          ],
          "name": "stdout"
        }
      ]
    },
    {
      "cell_type": "code",
      "metadata": {
        "id": "WYe_59pwUgTN",
        "colab": {
          "base_uri": "https://localhost:8080/"
        },
        "outputId": "0843dfaa-95e4-4a3a-dae5-30cc0311aa71"
      },
      "source": [
        "param_df = pd.DataFrame({\"Features\": ['intercept'] + list(feature_names), \n",
        "\"Coef\": [lm.intercept_] + list(lm.coef_)}) \n",
        "cols = param_df.columns.tolist() \n",
        "cols = cols[-1:]+cols[:-1] \n",
        "param_df = param_df[cols] \n",
        "print(param_df)"
      ],
      "execution_count": null,
      "outputs": [
        {
          "output_type": "stream",
          "text": [
            "         Coef   Features\n",
            "0   37.937108  intercept\n",
            "1   -0.121310       CRIM\n",
            "2    0.044466         ZN\n",
            "3    0.011342      INDUS\n",
            "4    2.511246       CHAS\n",
            "5  -16.231253        NOX\n",
            "6    3.859068         RM\n",
            "7   -0.009985        AGE\n",
            "8   -1.500270        DIS\n",
            "9    0.242143        RAD\n",
            "10  -0.011072        TAX\n",
            "11  -1.017753    PTRATIO\n",
            "12   0.006814          B\n",
            "13  -0.486738      LSTAT\n"
          ],
          "name": "stdout"
        }
      ]
    },
    {
      "cell_type": "code",
      "metadata": {
        "id": "GnlXvvm9Vr9F"
      },
      "source": [
        "#%% check performance on test data \n",
        "predicted = lm.predict(X_test)"
      ],
      "execution_count": null,
      "outputs": []
    },
    {
      "cell_type": "code",
      "metadata": {
        "id": "9FHPdN3KWCFZ"
      },
      "source": [
        "import numpy as np\n",
        "mae = np.mean(abs(predicted-y_test))\n",
        "rmse = np.sqrt(np.mean((predicted-y_test)**2))\n",
        "rae = np.mean(abs(predicted-y_test))/np.mean(abs(y_test-np.mean(y_test)))\n",
        "rse = np.mean((predicted-y_test)**2)/np.mean((y_test-np.mean(y_test))**2)"
      ],
      "execution_count": null,
      "outputs": []
    },
    {
      "cell_type": "code",
      "metadata": {
        "id": "fEutwNTWWLbT",
        "colab": {
          "base_uri": "https://localhost:8080/"
        },
        "outputId": "06b2a3a3-59ea-455c-9070-fc445012f3a7"
      },
      "source": [
        "mae"
      ],
      "execution_count": null,
      "outputs": [
        {
          "output_type": "execute_result",
          "data": {
            "text/plain": [
              "3.6099040603818096"
            ]
          },
          "metadata": {
            "tags": []
          },
          "execution_count": 10
        }
      ]
    },
    {
      "cell_type": "code",
      "metadata": {
        "id": "IIP1nsQnW0ZP",
        "colab": {
          "base_uri": "https://localhost:8080/"
        },
        "outputId": "bd774bfc-8deb-4d79-81a3-b29d20c5edd1"
      },
      "source": [
        "rmse"
      ],
      "execution_count": null,
      "outputs": [
        {
          "output_type": "execute_result",
          "data": {
            "text/plain": [
              "5.214975145375423"
            ]
          },
          "metadata": {
            "tags": []
          },
          "execution_count": 11
        }
      ]
    },
    {
      "cell_type": "code",
      "metadata": {
        "id": "2HoD0CpyW4mB",
        "colab": {
          "base_uri": "https://localhost:8080/"
        },
        "outputId": "94fefbbf-07bc-4d5e-e14e-6a0d1408a7c7"
      },
      "source": [
        "rae"
      ],
      "execution_count": null,
      "outputs": [
        {
          "output_type": "execute_result",
          "data": {
            "text/plain": [
              "0.5561156583252186"
            ]
          },
          "metadata": {
            "tags": []
          },
          "execution_count": 12
        }
      ]
    },
    {
      "cell_type": "code",
      "metadata": {
        "id": "b3badiP8W5_I",
        "colab": {
          "base_uri": "https://localhost:8080/"
        },
        "outputId": "6d619efb-6289-4264-d27f-0306e3c8f546"
      },
      "source": [
        "rse"
      ],
      "execution_count": null,
      "outputs": [
        {
          "output_type": "execute_result",
          "data": {
            "text/plain": [
              "0.326617449359983"
            ]
          },
          "metadata": {
            "tags": []
          },
          "execution_count": 13
        }
      ]
    },
    {
      "cell_type": "code",
      "metadata": {
        "id": "u3u25lDoW7c5",
        "colab": {
          "base_uri": "https://localhost:8080/"
        },
        "outputId": "2dee88cd-b5c0-4aac-b21d-b112e783045d"
      },
      "source": [
        "print(\"The R-squared value is: {0:0.4f}\".format(lm.score(X_test, y_test))) \n",
        "print(\"Mean Absolute Error: {0:0.6f}\".format(mae)) \n",
        "print(\"Root Mean Squared Error: {0:0.6f}\".format(rmse)) \n",
        "print(\"Relative Absolute Error: {0:0.6f}\".format(rae)) \n",
        "print(\"Relative Squared Error: {0:0.6f}\".format(rse)) "
      ],
      "execution_count": null,
      "outputs": [
        {
          "output_type": "stream",
          "text": [
            "The R-squared value is: 0.6734\n",
            "Mean Absolute Error: 3.609904\n",
            "Root Mean Squared Error: 5.214975\n",
            "Relative Absolute Error: 0.556116\n",
            "Relative Squared Error: 0.326617\n"
          ],
          "name": "stdout"
        }
      ]
    },
    {
      "cell_type": "code",
      "metadata": {
        "id": "wryaLYfFYF2J"
      },
      "source": [
        "%matplotlib inline\n",
        "import matplotlib.pyplot as plt\n",
        "from sklearn import preprocessing\n",
        "from sklearn.feature_selection import RFE\n",
        "from sklearn.feature_selection import RFECV"
      ],
      "execution_count": null,
      "outputs": []
    },
    {
      "cell_type": "code",
      "metadata": {
        "id": "hyQFgFh6bN-f"
      },
      "source": [
        "# initiate the linear model \n",
        "lm = LinearRegression()"
      ],
      "execution_count": null,
      "outputs": []
    },
    {
      "cell_type": "code",
      "metadata": {
        "id": "3BZE4wfTbVn1"
      },
      "source": [
        "# scale the features \n",
        "min_mascaler =  preprocessing.MinMaxScaler()\n",
        "scaled_minmax = min_mascaler.fit_transform(X_train)\n",
        "scaled_minmadf = pd.DataFrame(scaled_minmax, columns = feature_names)"
      ],
      "execution_count": null,
      "outputs": []
    },
    {
      "cell_type": "code",
      "metadata": {
        "id": "1F8JB3VAb3mH",
        "colab": {
          "base_uri": "https://localhost:8080/"
        },
        "outputId": "65bfd164-b68e-4f8f-ad37-623b08ce9b15"
      },
      "source": [
        "# recursive feature elimination with cross validation, using r-squared as metric \n",
        "rfecv = RFECV(estimator=lm, step=1, cv=5) \n",
        "rfecv.fit(scaled_minmadf, y_train)"
      ],
      "execution_count": null,
      "outputs": [
        {
          "output_type": "execute_result",
          "data": {
            "text/plain": [
              "RFECV(cv=5,\n",
              "      estimator=LinearRegression(copy_X=True, fit_intercept=True, n_jobs=None,\n",
              "                                 normalize=False),\n",
              "      min_features_to_select=1, n_jobs=None, scoring=None, step=1, verbose=0)"
            ]
          },
          "metadata": {
            "tags": []
          },
          "execution_count": 18
        }
      ]
    },
    {
      "cell_type": "code",
      "metadata": {
        "id": "3wjWN1N8b6et",
        "colab": {
          "base_uri": "https://localhost:8080/"
        },
        "outputId": "811403d2-55c6-4107-ac52-c2dadbf787da"
      },
      "source": [
        "# print the optimal number of feature \n",
        "print(\"Optimal number of features : %d\" % rfecv.n_features_)"
      ],
      "execution_count": null,
      "outputs": [
        {
          "output_type": "stream",
          "text": [
            "Optimal number of features : 6\n"
          ],
          "name": "stdout"
        }
      ]
    },
    {
      "cell_type": "code",
      "metadata": {
        "id": "aDQpaal9aBoP",
        "colab": {
          "base_uri": "https://localhost:8080/",
          "height": 405
        },
        "outputId": "2ce93c72-3617-4759-9034-2d75b9169316"
      },
      "source": [
        "# plot number of features VS. cross-validation scores \n",
        "plt.figure(figsize=(6 * 1.618, 6)) \n",
        "plt.xlabel(\"Number of features selected\") \n",
        "plt.ylabel(\"mean-squared-error\") \n",
        "plt.plot(range(1, len(rfecv.grid_scores_) + 1), rfecv.grid_scores_)"
      ],
      "execution_count": null,
      "outputs": [
        {
          "output_type": "execute_result",
          "data": {
            "text/plain": [
              "[<matplotlib.lines.Line2D at 0x7f7925b36b10>]"
            ]
          },
          "metadata": {
            "tags": []
          },
          "execution_count": 20
        },
        {
          "output_type": "display_data",
          "data": {
            "image/png": "[encoded data removed]",
            "text/plain": [
              "<Figure size 698.976x432 with 1 Axes>"
            ]
          },
          "metadata": {
            "tags": [],
            "needs_background": "light"
          }
        }
      ]
    },
    {
      "cell_type": "code",
      "metadata": {
        "id": "k1srhlW3cXcR",
        "colab": {
          "base_uri": "https://localhost:8080/"
        },
        "outputId": "330e5f23-5367-4431-837c-ce75587fd438"
      },
      "source": [
        "# %% fit model с выбранными функциями  \n",
        "#%% fit model with selected features X_train_new = X_train[:,rfecv.support_] \n",
        "X_train_new = X_train[:,rfecv.support_]\n",
        "lm2 = LinearRegression() \n",
        "lm2.fit(X_train_new, y_train)"
      ],
      "execution_count": null,
      "outputs": [
        {
          "output_type": "execute_result",
          "data": {
            "text/plain": [
              "LinearRegression(copy_X=True, fit_intercept=True, n_jobs=None, normalize=False)"
            ]
          },
          "metadata": {
            "tags": []
          },
          "execution_count": 21
        }
      ]
    },
    {
      "cell_type": "code",
      "metadata": {
        "id": "iOpnVLhVgqV8",
        "colab": {
          "base_uri": "https://localhost:8080/"
        },
        "outputId": "543b25db-ff6b-42c0-9879-ad5bfd49ece2"
      },
      "source": [
        "predicted = lm2.predict(X_train_new)\n",
        " \n",
        "rmse = np.sqrt(np.mean((predicted-y_train)**2))\n",
        "print(\"Root Mean Squared Error: {0:0.4f}\" .format(rmse)) "
      ],
      "execution_count": null,
      "outputs": [
        {
          "output_type": "stream",
          "text": [
            "Root Mean Squared Error: 4.6594\n"
          ],
          "name": "stdout"
        }
      ]
    },
    {
      "cell_type": "code",
      "metadata": {
        "id": "_2Gq4UHGVhVI",
        "colab": {
          "base_uri": "https://localhost:8080/"
        },
        "outputId": "d1ad2792-9ada-4ff1-a9ff-a2531489dafc"
      },
      "source": [
        "# print the R-squared \n",
        "print(\"The R-squared value is: {0:0.4f} \\n\".format(lm2.score(X_train_new, y_train)))"
      ],
      "execution_count": null,
      "outputs": [
        {
          "output_type": "stream",
          "text": [
            "The R-squared value is: 0.7439 \n",
            "\n"
          ],
          "name": "stdout"
        }
      ]
    },
    {
      "cell_type": "code",
      "metadata": {
        "id": "hK6vrjpZWGUY",
        "colab": {
          "base_uri": "https://localhost:8080/"
        },
        "outputId": "d44e907b-8f7b-4338-d28d-acb1b68b09f4"
      },
      "source": [
        "feature_cols_selected = list(np.array(feature_names)[rfecv.support_]) \n",
        "# print intercept and coefficients\n",
        "param_df = pd.DataFrame({\"Features\": ['intercept'] + feature_cols_selected , \n",
        "\"Coef\": [lm2.intercept_] + list(lm2.coef_)})\n",
        "\n",
        "cols = param_df.columns.tolist()\n",
        "cols = cols[-1:]+cols[:-1] \n",
        "param_df = param_df[cols] \n",
        "print(param_df)"
      ],
      "execution_count": null,
      "outputs": [
        {
          "output_type": "stream",
          "text": [
            "        Coef   Features\n",
            "0  37.722274  intercept\n",
            "1  -0.086733       CRIM\n",
            "2 -17.797964        NOX\n",
            "3   4.244288         RM\n",
            "4  -1.177934        DIS\n",
            "5  -1.111761    PTRATIO\n",
            "6  -0.529948      LSTAT\n"
          ],
          "name": "stdout"
        }
      ]
    },
    {
      "cell_type": "code",
      "metadata": {
        "id": "5kEm7EA5Wtmf"
      },
      "source": [
        "# %% проверить производительность по тестовым данным \n",
        "#%% check performance on test data\n",
        "X_test_part = X_test[:,rfecv.support_]\n",
        "predicted = lm2.predict(X_test_part)"
      ],
      "execution_count": null,
      "outputs": []
    },
    {
      "cell_type": "code",
      "metadata": {
        "id": "yZ7vgPuTYiZH"
      },
      "source": [
        "mae = np.mean(abs(predicted-y_test))\n",
        "rmse = np.sqrt(np.mean((predicted-y_test)**2))\n",
        "rae = np.mean(abs(predicted-y_test))/np.mean(abs(y_test-np.mean(y_test)))\n",
        "rse = np.mean((predicted-y_test)**2)/np.mean((y_test-np.mean(y_test)))\n",
        "rse = np.mean((predicted-y_test)**2)/np.mean((y_test-np.mean(y_test))**2)"
      ],
      "execution_count": null,
      "outputs": []
    },
    {
      "cell_type": "code",
      "metadata": {
        "id": "nAvxTISfYUxX",
        "colab": {
          "base_uri": "https://localhost:8080/"
        },
        "outputId": "70a8bcf6-be37-4b05-b42e-aae730cea024"
      },
      "source": [
        "# print metrics on test data\n",
        "print(\"The R-squared value is: {0:0.4f} \\n\".format(lm2.score(X_train_new, y_train)))\n",
        "print(\"Mean Absolute Error: {0:0.6f}\".format(mae))\n",
        "print(\"Root Mean Squared Error: {0:0.6f}\".format(rmse))\n",
        "print(\"Relative Absolute Error: {0:0.6f}\".format(rae))\n",
        "print(\"Relative Squared Error: {0:0.6f}\".format(rse))  "
      ],
      "execution_count": null,
      "outputs": [
        {
          "output_type": "stream",
          "text": [
            "The R-squared value is: 0.7439 \n",
            "\n",
            "Mean Absolute Error: 3.867736\n",
            "Root Mean Squared Error: 5.553711\n",
            "Relative Absolute Error: 0.595835\n",
            "Relative Squared Error: 0.370426\n"
          ],
          "name": "stdout"
        }
      ]
    },
    {
      "cell_type": "markdown",
      "metadata": {
        "id": "GAVgJocjl_82"
      },
      "source": [
        "#Ridge regression and classification"
      ]
    },
    {
      "cell_type": "code",
      "metadata": {
        "id": "fGMTDdo6l_LG"
      },
      "source": [
        " from sklearn import linear_model\n",
        "Ridge = linear_model.Ridge(alpha=.5)"
      ],
      "execution_count": null,
      "outputs": []
    },
    {
      "cell_type": "code",
      "metadata": {
        "colab": {
          "base_uri": "https://localhost:8080/"
        },
        "id": "1NzJoGHz2aKN",
        "outputId": "0328b3c1-3718-49ed-d831-942d58584c11"
      },
      "source": [
        "Ridge.fit(X_train, y_train)"
      ],
      "execution_count": null,
      "outputs": [
        {
          "output_type": "execute_result",
          "data": {
            "text/plain": [
              "Ridge(alpha=0.5, copy_X=True, fit_intercept=True, max_iter=None,\n",
              "      normalize=False, random_state=None, solver='auto', tol=0.001)"
            ]
          },
          "metadata": {
            "tags": []
          },
          "execution_count": 29
        }
      ]
    },
    {
      "cell_type": "code",
      "metadata": {
        "colab": {
          "base_uri": "https://localhost:8080/"
        },
        "id": "0eZaoYCP2rbG",
        "outputId": "687f0255-6564-4ce5-d39f-dd6582f42c04"
      },
      "source": [
        "print(\"The R-squared value is: {0:0.4f} \\n\".format(Ridge.score(X_train, y_train)))"
      ],
      "execution_count": null,
      "outputs": [
        {
          "output_type": "stream",
          "text": [
            "The R-squared value is: 0.7636 \n",
            "\n"
          ],
          "name": "stdout"
        }
      ]
    },
    {
      "cell_type": "code",
      "metadata": {
        "colab": {
          "base_uri": "https://localhost:8080/"
        },
        "id": "9PjFkJ9827aH",
        "outputId": "8f15e74f-186d-4501-cea2-a833e3ec3c9e"
      },
      "source": [
        "param_df = pd.DataFrame({\"Features\": ['intercept'] + list(feature_names), \n",
        "\"Coef\": [Ridge.intercept_] + list(Ridge.coef_)}) \n",
        "cols = param_df.columns.tolist() \n",
        "cols = cols[-1:]+cols[:-1] \n",
        "param_df = param_df[cols] \n",
        "print(param_df)"
      ],
      "execution_count": null,
      "outputs": [
        {
          "output_type": "stream",
          "text": [
            "         Coef   Features\n",
            "0   34.300362  intercept\n",
            "1   -0.119304       CRIM\n",
            "2    0.045544         ZN\n",
            "3   -0.010056      INDUS\n",
            "4    2.494654       CHAS\n",
            "5  -10.944654        NOX\n",
            "6    3.891324         RM\n",
            "7   -0.015310        AGE\n",
            "8   -1.431997        DIS\n",
            "9    0.226087        RAD\n",
            "10  -0.011430        TAX\n",
            "11  -0.960260    PTRATIO\n",
            "12   0.007115          B\n",
            "13  -0.491044      LSTAT\n"
          ],
          "name": "stdout"
        }
      ]
    },
    {
      "cell_type": "code",
      "metadata": {
        "id": "B1hvLrF23kkx"
      },
      "source": [
        "predicted_Ridge = Ridge.predict(X_test)"
      ],
      "execution_count": null,
      "outputs": []
    },
    {
      "cell_type": "code",
      "metadata": {
        "id": "9Z22Htd036Cz"
      },
      "source": [
        "mae = np.mean(abs(predicted_Ridge-y_test))\n",
        "rmse = np.sqrt(np.mean((predicted_Ridge-y_test)**2))\n",
        "rae = np.mean(abs(predicted_Ridge-y_test))/np.mean(abs(y_test-np.mean(y_test)))\n",
        "rse = np.mean((predicted_Ridge-y_test)**2)/np.mean((y_test-np.mean(y_test))**2)"
      ],
      "execution_count": null,
      "outputs": []
    },
    {
      "cell_type": "code",
      "metadata": {
        "colab": {
          "base_uri": "https://localhost:8080/"
        },
        "id": "QdnS_gYT3xb-",
        "outputId": "0a5ee60e-715d-4d80-c968-41a7fbc2708f"
      },
      "source": [
        "print(\"The R-squared value is: {0:0.4f}\".format(Ridge.score(X_test, y_test))) \n",
        "print(\"Mean Absolute Error: {0:0.6f}\".format(mae)) \n",
        "print(\"Root Mean Squared Error: {0:0.6f}\".format(rmse)) \n",
        "print(\"Relative Absolute Error: {0:0.6f}\".format(rae)) \n",
        "print(\"Relative Squared Error: {0:0.6f}\".format(rse)) "
      ],
      "execution_count": null,
      "outputs": [
        {
          "output_type": "stream",
          "text": [
            "The R-squared value is: 0.6695\n",
            "Mean Absolute Error: 3.599391\n",
            "Root Mean Squared Error: 5.246272\n",
            "Relative Absolute Error: 0.554496\n",
            "Relative Squared Error: 0.330549\n"
          ],
          "name": "stdout"
        }
      ]
    },
    {
      "cell_type": "markdown",
      "metadata": {
        "id": "U_DiSaLu4OBh"
      },
      "source": [
        "###Setting the regularization parameter: leave-one-out Cross-Validation"
      ]
    },
    {
      "cell_type": "code",
      "metadata": {
        "id": "njOf2ZLO4OYZ",
        "colab": {
          "base_uri": "https://localhost:8080/"
        },
        "outputId": "310a77db-9f0a-4e5f-b980-f55fa3450bb5"
      },
      "source": [
        "RidgeCV = linear_model.RidgeCV(alphas=np.logspace(0, 1),normalize=True, cv=10)\n",
        "RidgeCV"
      ],
      "execution_count": null,
      "outputs": [
        {
          "output_type": "execute_result",
          "data": {
            "text/plain": [
              "RidgeCV(alphas=array([ 1.        ,  1.04811313,  1.09854114,  1.1513954 ,  1.20679264,\n",
              "        1.26485522,  1.32571137,  1.38949549,  1.45634848,  1.52641797,\n",
              "        1.59985872,  1.67683294,  1.75751062,  1.84206997,  1.93069773,\n",
              "        2.02358965,  2.12095089,  2.22299648,  2.32995181,  2.44205309,\n",
              "        2.55954792,  2.6826958 ,  2.8117687 ,  2.9470517 ,  3.0888436 ,\n",
              "        3.23745754,  3.39322177,  3.55648031,  3.72759372,  3.90693994,\n",
              "        4.09491506,  4.29193426,  4.49843267,  4.71486636,  4.94171336,\n",
              "        5.17947468,  5.42867544,  5.68986603,  5.96362332,  6.25055193,\n",
              "        6.55128557,  6.86648845,  7.19685673,  7.54312006,  7.90604321,\n",
              "        8.28642773,  8.68511374,  9.10298178,  9.54095476, 10.        ]),\n",
              "        cv=10, fit_intercept=True, gcv_mode=None, normalize=True, scoring=None,\n",
              "        store_cv_values=False)"
            ]
          },
          "metadata": {
            "tags": []
          },
          "execution_count": 35
        }
      ]
    },
    {
      "cell_type": "code",
      "metadata": {
        "colab": {
          "base_uri": "https://localhost:8080/"
        },
        "id": "MxwtpIM0RdBw",
        "outputId": "2e525cc0-9c53-4679-8af6-9662c5597976"
      },
      "source": [
        "RidgeCV.fit(X_train, y_train)\n",
        "print(\"The R-squared value is: {0:0.4f} \\n\".format(RidgeCV.score(X_train, y_train)))\n",
        "param_df = pd.DataFrame({\"Features\": ['intercept'] + list(feature_names), \n",
        "\"Coef\": [RidgeCV.intercept_] + list(RidgeCV.coef_)}) \n",
        "cols = param_df.columns.tolist() \n",
        "cols = cols[-1:]+cols[:-1] \n",
        "param_df = param_df[cols] \n",
        "print(param_df)"
      ],
      "execution_count": null,
      "outputs": [
        {
          "output_type": "stream",
          "text": [
            "The R-squared value is: 0.6677 \n",
            "\n",
            "         Coef   Features\n",
            "0   22.729930  intercept\n",
            "1   -0.068001       CRIM\n",
            "2    0.019307         ZN\n",
            "3   -0.076506      INDUS\n",
            "4    2.207492       CHAS\n",
            "5   -3.464466        NOX\n",
            "6    2.880140         RM\n",
            "7   -0.011214        AGE\n",
            "8   -0.257843        DIS\n",
            "9   -0.013911        RAD\n",
            "10  -0.002939        TAX\n",
            "11  -0.617432    PTRATIO\n",
            "12   0.005850          B\n",
            "13  -0.254915      LSTAT\n"
          ],
          "name": "stdout"
        }
      ]
    },
    {
      "cell_type": "code",
      "metadata": {
        "colab": {
          "base_uri": "https://localhost:8080/"
        },
        "id": "ohNgE0qcU603",
        "outputId": "b32fab3e-6e7a-4139-8088-65a19c5ab234"
      },
      "source": [
        "predicted_RidgeCV = RidgeCV.predict(X_test)\n",
        "mae = np.mean(abs(predicted_RidgeCV-y_test))\n",
        "rmse = np.sqrt(np.mean((predicted_RidgeCV-y_test)**2))\n",
        "rae = np.mean(abs(predicted_RidgeCV-y_test))/np.mean(abs(y_test-np.mean(y_test)))\n",
        "rse = np.mean((predicted_RidgeCV-y_test)**2)/np.mean((y_test-np.mean(y_test))**2)\n",
        "print(\"The R-squared value is: {0:0.4f}\".format(RidgeCV.score(X_test, y_test))) \n",
        "print(\"Mean Absolute Error: {0:0.6f}\".format(mae)) \n",
        "print(\"Root Mean Squared Error: {0:0.6f}\".format(rmse)) \n",
        "print(\"Relative Absolute Error: {0:0.6f}\".format(rae)) \n",
        "print(\"Relative Squared Error: {0:0.6f}\".format(rse)) "
      ],
      "execution_count": null,
      "outputs": [
        {
          "output_type": "stream",
          "text": [
            "The R-squared value is: 0.5669\n",
            "Mean Absolute Error: 4.085867\n",
            "Root Mean Squared Error: 6.005352\n",
            "Relative Absolute Error: 0.629439\n",
            "Relative Squared Error: 0.433124\n"
          ],
          "name": "stdout"
        }
      ]
    },
    {
      "cell_type": "markdown",
      "metadata": {
        "id": "QWpmyfdlUwQN"
      },
      "source": [
        "##Lasso"
      ]
    },
    {
      "cell_type": "code",
      "metadata": {
        "colab": {
          "base_uri": "https://localhost:8080/"
        },
        "id": "4aVR17n8U5GP",
        "outputId": "ead3ded0-178d-4760-96b7-e6c27bfb61e3"
      },
      "source": [
        "Lasso = linear_model.Lasso(alpha=0.1)\n",
        "Lasso.fit(X_train, y_train)\n",
        "print(\"The R-squared value is: {0:0.4f} \\n\".format(Lasso.score(X_train, y_train)))\n",
        "param_df = pd.DataFrame({\"Features\": ['intercept'] + list(feature_names), \n",
        "\"Coef\": [Lasso.intercept_] + list(Lasso.coef_)}) \n",
        "cols = param_df.columns.tolist() \n",
        "cols = cols[-1:]+cols[:-1] \n",
        "param_df = param_df[cols] \n",
        "print(param_df)"
      ],
      "execution_count": null,
      "outputs": [
        {
          "output_type": "stream",
          "text": [
            "The R-squared value is: 0.7531 \n",
            "\n",
            "         Coef   Features\n",
            "0   28.268146  intercept\n",
            "1   -0.113118       CRIM\n",
            "2    0.047251         ZN\n",
            "3   -0.039925      INDUS\n",
            "4    0.964789       CHAS\n",
            "5   -0.000000        NOX\n",
            "6    3.722896         RM\n",
            "7   -0.021431        AGE\n",
            "8   -1.233704        DIS\n",
            "9    0.204690        RAD\n",
            "10  -0.012944        TAX\n",
            "11  -0.852690    PTRATIO\n",
            "12   0.007958          B\n",
            "13  -0.523924      LSTAT\n"
          ],
          "name": "stdout"
        }
      ]
    },
    {
      "cell_type": "code",
      "metadata": {
        "colab": {
          "base_uri": "https://localhost:8080/"
        },
        "id": "dha5a9IcWVuL",
        "outputId": "6673e90d-a31f-4c5a-d90b-c83bf0502401"
      },
      "source": [
        "predicted_Lasso = Lasso.predict(X_test)\n",
        "mae = np.mean(abs(predicted_RidgeCV-y_test))\n",
        "rmse = np.sqrt(np.mean((predicted_Lasso-y_test)**2))\n",
        "rae = np.mean(abs(predicted_Lasso-y_test))/np.mean(abs(y_test-np.mean(y_test)))\n",
        "rse = np.mean((predicted_Lasso-y_test)**2)/np.mean((y_test-np.mean(y_test))**2)\n",
        "print(\"The R-squared value is: {0:0.4f}\".format(Lasso.score(X_test, y_test))) \n",
        "print(\"Mean Absolute Error: {0:0.6f}\".format(mae)) \n",
        "print(\"Root Mean Squared Error: {0:0.6f}\".format(rmse)) \n",
        "print(\"Relative Absolute Error: {0:0.6f}\".format(rae)) \n",
        "print(\"Relative Squared Error: {0:0.6f}\".format(rse)) "
      ],
      "execution_count": null,
      "outputs": [
        {
          "output_type": "stream",
          "text": [
            "The R-squared value is: 0.6532\n",
            "Mean Absolute Error: 4.085867\n",
            "Root Mean Squared Error: 5.373617\n",
            "Relative Absolute Error: 0.560639\n",
            "Relative Squared Error: 0.346791\n"
          ],
          "name": "stdout"
        }
      ]
    },
    {
      "cell_type": "markdown",
      "metadata": {
        "id": "_kcX0mEeWnhe"
      },
      "source": [
        "##ElasticNetCV"
      ]
    },
    {
      "cell_type": "code",
      "metadata": {
        "colab": {
          "base_uri": "https://localhost:8080/"
        },
        "id": "8T76mccFXSOP",
        "outputId": "35c38aef-8bad-4610-bd4d-aed63f1d7426"
      },
      "source": [
        "from sklearn.linear_model import ElasticNetCV\n",
        "ElasticNetCV = ElasticNetCV(cv=10, random_state=0)\n",
        "ElasticNetCV.fit(X_train, y_train)\n",
        "print(\"The R-squared value is: {0:0.4f} \\n\".format(ElasticNetCV.score(X_train, y_train)))\n",
        "param_df = pd.DataFrame({\"Features\": ['intercept'] + list(feature_names), \n",
        "\"Coef\": [ElasticNetCV.intercept_] + list(ElasticNetCV.coef_)}) \n",
        "cols = param_df.columns.tolist() \n",
        "cols = cols[-1:]+cols[:-1] \n",
        "param_df = param_df[cols] \n",
        "print(param_df)"
      ],
      "execution_count": null,
      "outputs": [
        {
          "output_type": "stream",
          "text": [
            "The R-squared value is: 0.6958 \n",
            "\n",
            "         Coef   Features\n",
            "0   45.660385  intercept\n",
            "1   -0.069829       CRIM\n",
            "2    0.050635         ZN\n",
            "3   -0.000000      INDUS\n",
            "4    0.000000       CHAS\n",
            "5   -0.000000        NOX\n",
            "6    0.503704         RM\n",
            "7    0.020519        AGE\n",
            "8   -0.637027        DIS\n",
            "9    0.217900        RAD\n",
            "10  -0.014899        TAX\n",
            "11  -0.786894    PTRATIO\n",
            "12   0.006571          B\n",
            "13  -0.752362      LSTAT\n"
          ],
          "name": "stdout"
        }
      ]
    },
    {
      "cell_type": "code",
      "metadata": {
        "colab": {
          "base_uri": "https://localhost:8080/"
        },
        "id": "mJ0deR1qX--X",
        "outputId": "f79bafa7-9e65-46c1-b923-2cfe9c345c33"
      },
      "source": [
        "predicted_ElasticNetCV = ElasticNetCV.predict(X_test)\n",
        "mae = np.mean(abs(predicted_ElasticNetCV-y_test))\n",
        "rmse = np.sqrt(np.mean((predicted_Lasso-y_test)**2))\n",
        "rae = np.mean(abs(predicted_ElasticNetCV-y_test))/np.mean(abs(y_test-np.mean(y_test)))\n",
        "rse = np.mean((predicted_ElasticNetCV-y_test)**2)/np.mean((y_test-np.mean(y_test))**2)\n",
        "print(\"The R-squared value is: {0:0.4f}\".format(ElasticNetCV.score(X_test, y_test))) \n",
        "print(\"Mean Absolute Error: {0:0.6f}\".format(mae)) \n",
        "print(\"Root Mean Squared Error: {0:0.6f}\".format(rmse)) \n",
        "print(\"Relative Absolute Error: {0:0.6f}\".format(rae)) \n",
        "print(\"Relative Squared Error: {0:0.6f}\".format(rse)) "
      ],
      "execution_count": null,
      "outputs": [
        {
          "output_type": "stream",
          "text": [
            "The R-squared value is: 0.6028\n",
            "Mean Absolute Error: 3.859491\n",
            "Root Mean Squared Error: 5.373617\n",
            "Relative Absolute Error: 0.594565\n",
            "Relative Squared Error: 0.397241\n"
          ],
          "name": "stdout"
        }
      ]
    },
    {
      "cell_type": "markdown",
      "metadata": {
        "id": "Ie9d6so-UvZT"
      },
      "source": [
        "#SGD (стохастический градиентный спуск)"
      ]
    },
    {
      "cell_type": "code",
      "metadata": {
        "id": "ixsRD3QtUL7W"
      },
      "source": [
        "import numpy as np\n",
        "from sklearn.linear_model import SGDRegressor\n",
        "from sklearn.pipeline import make_pipeline\n",
        "from sklearn.preprocessing import StandardScaler"
      ],
      "execution_count": null,
      "outputs": []
    },
    {
      "cell_type": "code",
      "metadata": {
        "colab": {
          "base_uri": "https://localhost:8080/"
        },
        "id": "nZJXaFGPUuCN",
        "outputId": "99d5ff88-42c7-4afd-d98c-10cb206e075e"
      },
      "source": [
        "SGD = make_pipeline(StandardScaler(),\n",
        "...                     SGDRegressor(max_iter=1000, tol=1e-3))\n",
        "SGD.fit(X_train, y_train)"
      ],
      "execution_count": null,
      "outputs": [
        {
          "output_type": "execute_result",
          "data": {
            "text/plain": [
              "Pipeline(memory=None,\n",
              "         steps=[('standardscaler',\n",
              "                 StandardScaler(copy=True, with_mean=True, with_std=True)),\n",
              "                ('sgdregressor',\n",
              "                 SGDRegressor(alpha=0.0001, average=False, early_stopping=False,\n",
              "                              epsilon=0.1, eta0=0.01, fit_intercept=True,\n",
              "                              l1_ratio=0.15, learning_rate='invscaling',\n",
              "                              loss='squared_loss', max_iter=1000,\n",
              "                              n_iter_no_change=5, penalty='l2', power_t=0.25,\n",
              "                              random_state=None, shuffle=True, tol=0.001,\n",
              "                              validation_fraction=0.1, verbose=0,\n",
              "                              warm_start=False))],\n",
              "         verbose=False)"
            ]
          },
          "metadata": {
            "tags": []
          },
          "execution_count": 74
        }
      ]
    },
    {
      "cell_type": "code",
      "metadata": {
        "colab": {
          "base_uri": "https://localhost:8080/"
        },
        "id": "uX0U0kbCUtxz",
        "outputId": "fc74f2bc-ef77-45f5-f988-478dc375387e"
      },
      "source": [
        "print(\"The R-squared value is: {0:0.4f} \\n\".format(SGD.score(X_train, y_train)))"
      ],
      "execution_count": null,
      "outputs": [
        {
          "output_type": "stream",
          "text": [
            "The R-squared value is: 0.7636 \n",
            "\n"
          ],
          "name": "stdout"
        }
      ]
    },
    {
      "cell_type": "code",
      "metadata": {
        "colab": {
          "base_uri": "https://localhost:8080/"
        },
        "id": "4mjF6lZBeuqY",
        "outputId": "b40cc255-2e8b-429e-9d55-ef1256e5718e"
      },
      "source": [
        "predicted_SGD = SGD.predict(X_test)\n",
        "mae = np.mean(abs(predicted_SGD-y_test))\n",
        "rmse = np.sqrt(np.mean((predicted_SGD-y_test)**2))\n",
        "rae = np.mean(abs(predicted_SGD-y_test))/np.mean(abs(y_test-np.mean(y_test)))\n",
        "rse = np.mean((predicted_SGD-y_test)**2)/np.mean((y_test-np.mean(y_test))**2)\n",
        "print(\"The R-squared value is: {0:0.4f}\".format(SGD.score(X_test, y_test))) \n",
        "print(\"Mean Absolute Error: {0:0.6f}\".format(mae)) \n",
        "print(\"Root Mean Squared Error: {0:0.6f}\".format(rmse)) \n",
        "print(\"Relative Absolute Error: {0:0.6f}\".format(rae)) \n",
        "print(\"Relative Squared Error: {0:0.6f}\".format(rse))"
      ],
      "execution_count": null,
      "outputs": [
        {
          "output_type": "stream",
          "text": [
            "The R-squared value is: 0.6682\n",
            "Mean Absolute Error: 3.632405\n",
            "Root Mean Squared Error: 5.255794\n",
            "Relative Absolute Error: 0.559582\n",
            "Relative Squared Error: 0.331750\n"
          ],
          "name": "stdout"
        }
      ]
    }
  ]
}