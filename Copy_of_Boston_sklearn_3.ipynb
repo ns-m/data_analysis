{
  "nbformat": 4,
  "nbformat_minor": 0,
  "metadata": {
    "colab": {
      "provenance": [],
      "collapsed_sections": [
        "aiZ0549lmU8f",
        "zGzbdkoAmbWU",
        "wHUZ3IYXItrw"
      ],
      "include_colab_link": true
    },
    "kernelspec": {
      "name": "python3",
      "display_name": "Python 3"
    }
  },
  "cells": [
    {
      "cell_type": "markdown",
      "metadata": {
        "id": "view-in-github",
        "colab_type": "text"
      },
      "source": [
        "<a href=\"https://colab.research.google.com/github/ns-m/data_analysis/blob/main/Copy_of_Boston_sklearn_3.ipynb\" target=\"_parent\"><img src=\"https://colab.research.google.com/assets/colab-badge.svg\" alt=\"Open In Colab\"/></a>"
      ]
    },
    {
      "cell_type": "markdown",
      "metadata": {
        "id": "Xmp1Go7YVVMB"
      },
      "source": [
        "Сначала мы импортируем необходимые библиотеки."
      ]
    },
    {
      "cell_type": "code",
      "metadata": {
        "id": "bR8D4qOfx3jN",
        "colab": {
          "base_uri": "https://localhost:8080/"
        },
        "outputId": "4888fbed-1e42-4cf0-fe7d-ec64d862b701"
      },
      "source": [
        "!pip install witwidget --quiet"
      ],
      "execution_count": 1,
      "outputs": [
        {
          "output_type": "stream",
          "name": "stdout",
          "text": [
            "\u001b[2K     \u001b[90m━━━━━━━━━━━━━━━━━━━━━━━━━━━━━━━━━━━━━━━━\u001b[0m \u001b[32m1.5/1.5 MB\u001b[0m \u001b[31m17.4 MB/s\u001b[0m eta \u001b[36m0:00:00\u001b[0m\n",
            "\u001b[2K     \u001b[90m━━━━━━━━━━━━━━━━━━━━━━━━━━━━━━━━━━━━━━━━\u001b[0m \u001b[32m1.6/1.6 MB\u001b[0m \u001b[31m50.4 MB/s\u001b[0m eta \u001b[36m0:00:00\u001b[0m\n",
            "\u001b[?25h"
          ]
        }
      ]
    },
    {
      "cell_type": "code",
      "metadata": {
        "id": "nEZEPaxIVNGT"
      },
      "source": [
        "import numpy as np\n",
        "import matplotlib.pyplot as plt\n",
        "import pandas as pd\n",
        "import seaborn as sns\n",
        "%matplotlib inline\n",
        "\n",
        "import collections\n",
        "import witwidget\n",
        "from witwidget.notebook.visualization import WitWidget, WitConfigBuilder"
      ],
      "execution_count": 2,
      "outputs": []
    },
    {
      "cell_type": "markdown",
      "metadata": {
        "id": "EHXarYp4VWwT"
      },
      "source": [
        "Далее мы загрузим данные жилья из фреймворка scikit-learn."
      ]
    },
    {
      "cell_type": "code",
      "source": [
        "from google.colab import drive\n",
        "drive.mount('/content/drive')"
      ],
      "metadata": {
        "colab": {
          "base_uri": "https://localhost:8080/"
        },
        "id": "8K0v8-oZtTpd",
        "outputId": "4cddfc90-f6da-48c5-8557-2ca026799496"
      },
      "execution_count": 3,
      "outputs": [
        {
          "output_type": "stream",
          "name": "stdout",
          "text": [
            "Mounted at /content/drive\n"
          ]
        }
      ]
    },
    {
      "cell_type": "code",
      "source": [
        "boston = pd.read_csv('/content/drive/MyDrive/edu.fa.ru/boston.csv')"
      ],
      "metadata": {
        "id": "hOZxwMjbtYv5"
      },
      "execution_count": 4,
      "outputs": []
    },
    {
      "cell_type": "code",
      "source": [
        "boston.head()"
      ],
      "metadata": {
        "colab": {
          "base_uri": "https://localhost:8080/",
          "height": 206
        },
        "id": "YfMLwD3TsjCI",
        "outputId": "9734867c-fb35-496c-acc3-7ec1575a7381"
      },
      "execution_count": 5,
      "outputs": [
        {
          "output_type": "execute_result",
          "data": {
            "text/plain": [
              "      crim    zn  indus  chas    nox     rm   age     dis  rad  tax  ptratio  \\\n",
              "0  0.00632  18.0   2.31     0  0.538  6.575  65.2  4.0900    1  296     15.3   \n",
              "1  0.02731   0.0   7.07     0  0.469  6.421  78.9  4.9671    2  242     17.8   \n",
              "2  0.02729   0.0   7.07     0  0.469  7.185  61.1  4.9671    2  242     17.8   \n",
              "3  0.03237   0.0   2.18     0  0.458  6.998  45.8  6.0622    3  222     18.7   \n",
              "4  0.06905   0.0   2.18     0  0.458  7.147  54.2  6.0622    3  222     18.7   \n",
              "\n",
              "    black  lstat  medv  \n",
              "0  396.90   4.98  24.0  \n",
              "1  396.90   9.14  21.6  \n",
              "2  392.83   4.03  34.7  \n",
              "3  394.63   2.94  33.4  \n",
              "4  396.90   5.33  36.2  "
            ],
            "text/html": [
              "\n",
              "  <div id=\"df-873cb140-5dc0-4edb-9c37-4bf95ab62b5f\">\n",
              "    <div class=\"colab-df-container\">\n",
              "      <div>\n",
              "<style scoped>\n",
              "    .dataframe tbody tr th:only-of-type {\n",
              "        vertical-align: middle;\n",
              "    }\n",
              "\n",
              "    .dataframe tbody tr th {\n",
              "        vertical-align: top;\n",
              "    }\n",
              "\n",
              "    .dataframe thead th {\n",
              "        text-align: right;\n",
              "    }\n",
              "</style>\n",
              "<table border=\"1\" class=\"dataframe\">\n",
              "  <thead>\n",
              "    <tr style=\"text-align: right;\">\n",
              "      <th></th>\n",
              "      <th>crim</th>\n",
              "      <th>zn</th>\n",
              "      <th>indus</th>\n",
              "      <th>chas</th>\n",
              "      <th>nox</th>\n",
              "      <th>rm</th>\n",
              "      <th>age</th>\n",
              "      <th>dis</th>\n",
              "      <th>rad</th>\n",
              "      <th>tax</th>\n",
              "      <th>ptratio</th>\n",
              "      <th>black</th>\n",
              "      <th>lstat</th>\n",
              "      <th>medv</th>\n",
              "    </tr>\n",
              "  </thead>\n",
              "  <tbody>\n",
              "    <tr>\n",
              "      <th>0</th>\n",
              "      <td>0.00632</td>\n",
              "      <td>18.0</td>\n",
              "      <td>2.31</td>\n",
              "      <td>0</td>\n",
              "      <td>0.538</td>\n",
              "      <td>6.575</td>\n",
              "      <td>65.2</td>\n",
              "      <td>4.0900</td>\n",
              "      <td>1</td>\n",
              "      <td>296</td>\n",
              "      <td>15.3</td>\n",
              "      <td>396.90</td>\n",
              "      <td>4.98</td>\n",
              "      <td>24.0</td>\n",
              "    </tr>\n",
              "    <tr>\n",
              "      <th>1</th>\n",
              "      <td>0.02731</td>\n",
              "      <td>0.0</td>\n",
              "      <td>7.07</td>\n",
              "      <td>0</td>\n",
              "      <td>0.469</td>\n",
              "      <td>6.421</td>\n",
              "      <td>78.9</td>\n",
              "      <td>4.9671</td>\n",
              "      <td>2</td>\n",
              "      <td>242</td>\n",
              "      <td>17.8</td>\n",
              "      <td>396.90</td>\n",
              "      <td>9.14</td>\n",
              "      <td>21.6</td>\n",
              "    </tr>\n",
              "    <tr>\n",
              "      <th>2</th>\n",
              "      <td>0.02729</td>\n",
              "      <td>0.0</td>\n",
              "      <td>7.07</td>\n",
              "      <td>0</td>\n",
              "      <td>0.469</td>\n",
              "      <td>7.185</td>\n",
              "      <td>61.1</td>\n",
              "      <td>4.9671</td>\n",
              "      <td>2</td>\n",
              "      <td>242</td>\n",
              "      <td>17.8</td>\n",
              "      <td>392.83</td>\n",
              "      <td>4.03</td>\n",
              "      <td>34.7</td>\n",
              "    </tr>\n",
              "    <tr>\n",
              "      <th>3</th>\n",
              "      <td>0.03237</td>\n",
              "      <td>0.0</td>\n",
              "      <td>2.18</td>\n",
              "      <td>0</td>\n",
              "      <td>0.458</td>\n",
              "      <td>6.998</td>\n",
              "      <td>45.8</td>\n",
              "      <td>6.0622</td>\n",
              "      <td>3</td>\n",
              "      <td>222</td>\n",
              "      <td>18.7</td>\n",
              "      <td>394.63</td>\n",
              "      <td>2.94</td>\n",
              "      <td>33.4</td>\n",
              "    </tr>\n",
              "    <tr>\n",
              "      <th>4</th>\n",
              "      <td>0.06905</td>\n",
              "      <td>0.0</td>\n",
              "      <td>2.18</td>\n",
              "      <td>0</td>\n",
              "      <td>0.458</td>\n",
              "      <td>7.147</td>\n",
              "      <td>54.2</td>\n",
              "      <td>6.0622</td>\n",
              "      <td>3</td>\n",
              "      <td>222</td>\n",
              "      <td>18.7</td>\n",
              "      <td>396.90</td>\n",
              "      <td>5.33</td>\n",
              "      <td>36.2</td>\n",
              "    </tr>\n",
              "  </tbody>\n",
              "</table>\n",
              "</div>\n",
              "      <button class=\"colab-df-convert\" onclick=\"convertToInteractive('df-873cb140-5dc0-4edb-9c37-4bf95ab62b5f')\"\n",
              "              title=\"Convert this dataframe to an interactive table.\"\n",
              "              style=\"display:none;\">\n",
              "        \n",
              "  <svg xmlns=\"http://www.w3.org/2000/svg\" height=\"24px\"viewBox=\"0 0 24 24\"\n",
              "       width=\"24px\">\n",
              "    <path d=\"M0 0h24v24H0V0z\" fill=\"none\"/>\n",
              "    <path d=\"M18.56 5.44l.94 2.06.94-2.06 2.06-.94-2.06-.94-.94-2.06-.94 2.06-2.06.94zm-11 1L8.5 8.5l.94-2.06 2.06-.94-2.06-.94L8.5 2.5l-.94 2.06-2.06.94zm10 10l.94 2.06.94-2.06 2.06-.94-2.06-.94-.94-2.06-.94 2.06-2.06.94z\"/><path d=\"M17.41 7.96l-1.37-1.37c-.4-.4-.92-.59-1.43-.59-.52 0-1.04.2-1.43.59L10.3 9.45l-7.72 7.72c-.78.78-.78 2.05 0 2.83L4 21.41c.39.39.9.59 1.41.59.51 0 1.02-.2 1.41-.59l7.78-7.78 2.81-2.81c.8-.78.8-2.07 0-2.86zM5.41 20L4 18.59l7.72-7.72 1.47 1.35L5.41 20z\"/>\n",
              "  </svg>\n",
              "      </button>\n",
              "      \n",
              "  <style>\n",
              "    .colab-df-container {\n",
              "      display:flex;\n",
              "      flex-wrap:wrap;\n",
              "      gap: 12px;\n",
              "    }\n",
              "\n",
              "    .colab-df-convert {\n",
              "      background-color: #E8F0FE;\n",
              "      border: none;\n",
              "      border-radius: 50%;\n",
              "      cursor: pointer;\n",
              "      display: none;\n",
              "      fill: #1967D2;\n",
              "      height: 32px;\n",
              "      padding: 0 0 0 0;\n",
              "      width: 32px;\n",
              "    }\n",
              "\n",
              "    .colab-df-convert:hover {\n",
              "      background-color: #E2EBFA;\n",
              "      box-shadow: 0px 1px 2px rgba(60, 64, 67, 0.3), 0px 1px 3px 1px rgba(60, 64, 67, 0.15);\n",
              "      fill: #174EA6;\n",
              "    }\n",
              "\n",
              "    [theme=dark] .colab-df-convert {\n",
              "      background-color: #3B4455;\n",
              "      fill: #D2E3FC;\n",
              "    }\n",
              "\n",
              "    [theme=dark] .colab-df-convert:hover {\n",
              "      background-color: #434B5C;\n",
              "      box-shadow: 0px 1px 3px 1px rgba(0, 0, 0, 0.15);\n",
              "      filter: drop-shadow(0px 1px 2px rgba(0, 0, 0, 0.3));\n",
              "      fill: #FFFFFF;\n",
              "    }\n",
              "  </style>\n",
              "\n",
              "      <script>\n",
              "        const buttonEl =\n",
              "          document.querySelector('#df-873cb140-5dc0-4edb-9c37-4bf95ab62b5f button.colab-df-convert');\n",
              "        buttonEl.style.display =\n",
              "          google.colab.kernel.accessAllowed ? 'block' : 'none';\n",
              "\n",
              "        async function convertToInteractive(key) {\n",
              "          const element = document.querySelector('#df-873cb140-5dc0-4edb-9c37-4bf95ab62b5f');\n",
              "          const dataTable =\n",
              "            await google.colab.kernel.invokeFunction('convertToInteractive',\n",
              "                                                     [key], {});\n",
              "          if (!dataTable) return;\n",
              "\n",
              "          const docLinkHtml = 'Like what you see? Visit the ' +\n",
              "            '<a target=\"_blank\" href=https://colab.research.google.com/notebooks/data_table.ipynb>data table notebook</a>'\n",
              "            + ' to learn more about interactive tables.';\n",
              "          element.innerHTML = '';\n",
              "          dataTable['output_type'] = 'display_data';\n",
              "          await google.colab.output.renderOutput(dataTable, element);\n",
              "          const docLink = document.createElement('div');\n",
              "          docLink.innerHTML = docLinkHtml;\n",
              "          element.appendChild(docLink);\n",
              "        }\n",
              "      </script>\n",
              "    </div>\n",
              "  </div>\n",
              "  "
            ]
          },
          "metadata": {},
          "execution_count": 5
        }
      ]
    },
    {
      "cell_type": "code",
      "metadata": {
        "id": "SKKscGNPVNCS",
        "colab": {
          "base_uri": "https://localhost:8080/",
          "height": 53
        },
        "outputId": "bb4aba03-4ca7-4a8f-fb70-7314190fd066"
      },
      "source": [
        "'''\n",
        "#boston = pd.DataFrame(boston_dataset.data, columns=boston_dataset.feature_names)\n",
        "\n",
        "from sklearn.datasets import load_boston\n",
        "boston = load_boston()\n",
        "X = boston.data\n",
        "y = boston.target\n",
        "feature_names = boston.feature_names\n",
        "print(X.shape)\n",
        "print(y.shape)\n",
        "print(feature_names)\n",
        "\n",
        "#boston.head()\n",
        "'''"
      ],
      "execution_count": 6,
      "outputs": [
        {
          "output_type": "execute_result",
          "data": {
            "text/plain": [
              "'\\n#boston = pd.DataFrame(boston_dataset.data, columns=boston_dataset.feature_names)\\n\\nfrom sklearn.datasets import load_boston\\nboston = load_boston()\\nX = boston.data\\ny = boston.target\\nfeature_names = boston.feature_names\\nprint(X.shape)\\nprint(y.shape)\\nprint(feature_names)\\n\\n#boston.head()\\n'"
            ],
            "application/vnd.google.colaboratory.intrinsic+json": {
              "type": "string"
            }
          },
          "metadata": {},
          "execution_count": 6
        }
      ]
    },
    {
      "cell_type": "markdown",
      "metadata": {
        "id": "tPAfq4WoV4GQ"
      },
      "source": [
        "Посмотрим описание данных"
      ]
    },
    {
      "cell_type": "code",
      "metadata": {
        "id": "qgoMBNB_mELH",
        "colab": {
          "base_uri": "https://localhost:8080/",
          "height": 35
        },
        "outputId": "91635b42-742d-4ddb-c637-a6bc3a24c72c"
      },
      "source": [
        "'''\n",
        "from sklearn.datasets import load_boston\n",
        "boston_dataset = load_boston()\n",
        "boston = pd.DataFrame(boston_dataset.data, columns=boston_dataset.feature_names)\n",
        "boston.head()\n",
        "'''"
      ],
      "execution_count": 7,
      "outputs": [
        {
          "output_type": "execute_result",
          "data": {
            "text/plain": [
              "'\\nfrom sklearn.datasets import load_boston\\nboston_dataset = load_boston()\\nboston = pd.DataFrame(boston_dataset.data, columns=boston_dataset.feature_names)\\nboston.head()\\n'"
            ],
            "application/vnd.google.colaboratory.intrinsic+json": {
              "type": "string"
            }
          },
          "metadata": {},
          "execution_count": 7
        }
      ]
    },
    {
      "cell_type": "code",
      "metadata": {
        "colab": {
          "base_uri": "https://localhost:8080/"
        },
        "id": "ltc6VPOozkqU",
        "outputId": "60942b66-3bf9-41c8-d93e-1a7cc7e9a48a"
      },
      "source": [
        "boston.info()"
      ],
      "execution_count": 8,
      "outputs": [
        {
          "output_type": "stream",
          "name": "stdout",
          "text": [
            "<class 'pandas.core.frame.DataFrame'>\n",
            "RangeIndex: 506 entries, 0 to 505\n",
            "Data columns (total 14 columns):\n",
            " #   Column   Non-Null Count  Dtype  \n",
            "---  ------   --------------  -----  \n",
            " 0   crim     506 non-null    float64\n",
            " 1   zn       506 non-null    float64\n",
            " 2   indus    506 non-null    float64\n",
            " 3   chas     506 non-null    int64  \n",
            " 4   nox      506 non-null    float64\n",
            " 5   rm       506 non-null    float64\n",
            " 6   age      506 non-null    float64\n",
            " 7   dis      506 non-null    float64\n",
            " 8   rad      506 non-null    int64  \n",
            " 9   tax      506 non-null    int64  \n",
            " 10  ptratio  506 non-null    float64\n",
            " 11  black    506 non-null    float64\n",
            " 12  lstat    506 non-null    float64\n",
            " 13  medv     506 non-null    float64\n",
            "dtypes: float64(11), int64(3)\n",
            "memory usage: 55.5 KB\n"
          ]
        }
      ]
    },
    {
      "cell_type": "markdown",
      "metadata": {
        "id": "jATXV0qTWH85"
      },
      "source": [
        "\n",
        "\n",
        "*   CRIM: Per capita crime rate by town\n",
        "*   ZN: Proportion of residential land zoned for lots over 25,000 sq. ft\n",
        "*   INDUS: Proportion of non-retail business acres per town\n",
        "*   CHAS: Charles River dummy variable (= 1 if tract bounds river; 0 otherwise)\n",
        "*   NOX: Nitric oxide concentration (parts per 10 million)\n",
        "*   RM: Average number of rooms per dwelling\n",
        "*  AGE: Proportion of owner-occupied units built prior to 1940\n",
        "*   DIS: Weighted distances to five Boston employment centers\n",
        "*   RAD: Index of accessibility to radial highways\n",
        "*   TAX: Full-value property tax rate per 10,000\n",
        "*   PTRATIO  pupil-teacher ratio by town\n",
        "*   B        1000(Bk - 0.63)^2 where Bk is the proportion of blacks by town\n",
        "*   LSTAT    % lower status of the population\n",
        "*   MEDV     Median value of owner-occupied homes in $1000's\n",
        "\n",
        "\n"
      ]
    },
    {
      "cell_type": "markdown",
      "metadata": {
        "id": "OggwvcsUYi3v"
      },
      "source": [
        "Цены на дом указаны переменной MEDV - наша целевая переменнаяа, остальные переменные это функции на основании которого мы будем прогнозировать стоимость дома.\n",
        "Теперь мы загрузим данные в фрейм данных pandas, используя pd.DataFrame"
      ]
    },
    {
      "cell_type": "markdown",
      "metadata": {
        "id": "KEnucLR9Y3Gh"
      },
      "source": [
        "Мы видим, что целевое значение MEDV отсутствует в данных. Мы создаем новый столбец целевых значений и добавляем его в фрейм данных."
      ]
    },
    {
      "cell_type": "code",
      "metadata": {
        "id": "6SPeGf5_VkDe"
      },
      "source": [
        "#boston['MEDV'] = boston_dataset.target"
      ],
      "execution_count": 9,
      "outputs": []
    },
    {
      "cell_type": "code",
      "metadata": {
        "colab": {
          "base_uri": "https://localhost:8080/",
          "height": 424
        },
        "id": "cCvnhtZSakAd",
        "outputId": "530d24d6-6e2f-4c62-ec3b-d77e4c98b75e"
      },
      "source": [
        "boston"
      ],
      "execution_count": 10,
      "outputs": [
        {
          "output_type": "execute_result",
          "data": {
            "text/plain": [
              "        crim    zn  indus  chas    nox     rm   age     dis  rad  tax  \\\n",
              "0    0.00632  18.0   2.31     0  0.538  6.575  65.2  4.0900    1  296   \n",
              "1    0.02731   0.0   7.07     0  0.469  6.421  78.9  4.9671    2  242   \n",
              "2    0.02729   0.0   7.07     0  0.469  7.185  61.1  4.9671    2  242   \n",
              "3    0.03237   0.0   2.18     0  0.458  6.998  45.8  6.0622    3  222   \n",
              "4    0.06905   0.0   2.18     0  0.458  7.147  54.2  6.0622    3  222   \n",
              "..       ...   ...    ...   ...    ...    ...   ...     ...  ...  ...   \n",
              "501  0.06263   0.0  11.93     0  0.573  6.593  69.1  2.4786    1  273   \n",
              "502  0.04527   0.0  11.93     0  0.573  6.120  76.7  2.2875    1  273   \n",
              "503  0.06076   0.0  11.93     0  0.573  6.976  91.0  2.1675    1  273   \n",
              "504  0.10959   0.0  11.93     0  0.573  6.794  89.3  2.3889    1  273   \n",
              "505  0.04741   0.0  11.93     0  0.573  6.030  80.8  2.5050    1  273   \n",
              "\n",
              "     ptratio   black  lstat  medv  \n",
              "0       15.3  396.90   4.98  24.0  \n",
              "1       17.8  396.90   9.14  21.6  \n",
              "2       17.8  392.83   4.03  34.7  \n",
              "3       18.7  394.63   2.94  33.4  \n",
              "4       18.7  396.90   5.33  36.2  \n",
              "..       ...     ...    ...   ...  \n",
              "501     21.0  391.99   9.67  22.4  \n",
              "502     21.0  396.90   9.08  20.6  \n",
              "503     21.0  396.90   5.64  23.9  \n",
              "504     21.0  393.45   6.48  22.0  \n",
              "505     21.0  396.90   7.88  11.9  \n",
              "\n",
              "[506 rows x 14 columns]"
            ],
            "text/html": [
              "\n",
              "  <div id=\"df-ab599e76-a41b-418b-a727-98e0d6dc48ab\">\n",
              "    <div class=\"colab-df-container\">\n",
              "      <div>\n",
              "<style scoped>\n",
              "    .dataframe tbody tr th:only-of-type {\n",
              "        vertical-align: middle;\n",
              "    }\n",
              "\n",
              "    .dataframe tbody tr th {\n",
              "        vertical-align: top;\n",
              "    }\n",
              "\n",
              "    .dataframe thead th {\n",
              "        text-align: right;\n",
              "    }\n",
              "</style>\n",
              "<table border=\"1\" class=\"dataframe\">\n",
              "  <thead>\n",
              "    <tr style=\"text-align: right;\">\n",
              "      <th></th>\n",
              "      <th>crim</th>\n",
              "      <th>zn</th>\n",
              "      <th>indus</th>\n",
              "      <th>chas</th>\n",
              "      <th>nox</th>\n",
              "      <th>rm</th>\n",
              "      <th>age</th>\n",
              "      <th>dis</th>\n",
              "      <th>rad</th>\n",
              "      <th>tax</th>\n",
              "      <th>ptratio</th>\n",
              "      <th>black</th>\n",
              "      <th>lstat</th>\n",
              "      <th>medv</th>\n",
              "    </tr>\n",
              "  </thead>\n",
              "  <tbody>\n",
              "    <tr>\n",
              "      <th>0</th>\n",
              "      <td>0.00632</td>\n",
              "      <td>18.0</td>\n",
              "      <td>2.31</td>\n",
              "      <td>0</td>\n",
              "      <td>0.538</td>\n",
              "      <td>6.575</td>\n",
              "      <td>65.2</td>\n",
              "      <td>4.0900</td>\n",
              "      <td>1</td>\n",
              "      <td>296</td>\n",
              "      <td>15.3</td>\n",
              "      <td>396.90</td>\n",
              "      <td>4.98</td>\n",
              "      <td>24.0</td>\n",
              "    </tr>\n",
              "    <tr>\n",
              "      <th>1</th>\n",
              "      <td>0.02731</td>\n",
              "      <td>0.0</td>\n",
              "      <td>7.07</td>\n",
              "      <td>0</td>\n",
              "      <td>0.469</td>\n",
              "      <td>6.421</td>\n",
              "      <td>78.9</td>\n",
              "      <td>4.9671</td>\n",
              "      <td>2</td>\n",
              "      <td>242</td>\n",
              "      <td>17.8</td>\n",
              "      <td>396.90</td>\n",
              "      <td>9.14</td>\n",
              "      <td>21.6</td>\n",
              "    </tr>\n",
              "    <tr>\n",
              "      <th>2</th>\n",
              "      <td>0.02729</td>\n",
              "      <td>0.0</td>\n",
              "      <td>7.07</td>\n",
              "      <td>0</td>\n",
              "      <td>0.469</td>\n",
              "      <td>7.185</td>\n",
              "      <td>61.1</td>\n",
              "      <td>4.9671</td>\n",
              "      <td>2</td>\n",
              "      <td>242</td>\n",
              "      <td>17.8</td>\n",
              "      <td>392.83</td>\n",
              "      <td>4.03</td>\n",
              "      <td>34.7</td>\n",
              "    </tr>\n",
              "    <tr>\n",
              "      <th>3</th>\n",
              "      <td>0.03237</td>\n",
              "      <td>0.0</td>\n",
              "      <td>2.18</td>\n",
              "      <td>0</td>\n",
              "      <td>0.458</td>\n",
              "      <td>6.998</td>\n",
              "      <td>45.8</td>\n",
              "      <td>6.0622</td>\n",
              "      <td>3</td>\n",
              "      <td>222</td>\n",
              "      <td>18.7</td>\n",
              "      <td>394.63</td>\n",
              "      <td>2.94</td>\n",
              "      <td>33.4</td>\n",
              "    </tr>\n",
              "    <tr>\n",
              "      <th>4</th>\n",
              "      <td>0.06905</td>\n",
              "      <td>0.0</td>\n",
              "      <td>2.18</td>\n",
              "      <td>0</td>\n",
              "      <td>0.458</td>\n",
              "      <td>7.147</td>\n",
              "      <td>54.2</td>\n",
              "      <td>6.0622</td>\n",
              "      <td>3</td>\n",
              "      <td>222</td>\n",
              "      <td>18.7</td>\n",
              "      <td>396.90</td>\n",
              "      <td>5.33</td>\n",
              "      <td>36.2</td>\n",
              "    </tr>\n",
              "    <tr>\n",
              "      <th>...</th>\n",
              "      <td>...</td>\n",
              "      <td>...</td>\n",
              "      <td>...</td>\n",
              "      <td>...</td>\n",
              "      <td>...</td>\n",
              "      <td>...</td>\n",
              "      <td>...</td>\n",
              "      <td>...</td>\n",
              "      <td>...</td>\n",
              "      <td>...</td>\n",
              "      <td>...</td>\n",
              "      <td>...</td>\n",
              "      <td>...</td>\n",
              "      <td>...</td>\n",
              "    </tr>\n",
              "    <tr>\n",
              "      <th>501</th>\n",
              "      <td>0.06263</td>\n",
              "      <td>0.0</td>\n",
              "      <td>11.93</td>\n",
              "      <td>0</td>\n",
              "      <td>0.573</td>\n",
              "      <td>6.593</td>\n",
              "      <td>69.1</td>\n",
              "      <td>2.4786</td>\n",
              "      <td>1</td>\n",
              "      <td>273</td>\n",
              "      <td>21.0</td>\n",
              "      <td>391.99</td>\n",
              "      <td>9.67</td>\n",
              "      <td>22.4</td>\n",
              "    </tr>\n",
              "    <tr>\n",
              "      <th>502</th>\n",
              "      <td>0.04527</td>\n",
              "      <td>0.0</td>\n",
              "      <td>11.93</td>\n",
              "      <td>0</td>\n",
              "      <td>0.573</td>\n",
              "      <td>6.120</td>\n",
              "      <td>76.7</td>\n",
              "      <td>2.2875</td>\n",
              "      <td>1</td>\n",
              "      <td>273</td>\n",
              "      <td>21.0</td>\n",
              "      <td>396.90</td>\n",
              "      <td>9.08</td>\n",
              "      <td>20.6</td>\n",
              "    </tr>\n",
              "    <tr>\n",
              "      <th>503</th>\n",
              "      <td>0.06076</td>\n",
              "      <td>0.0</td>\n",
              "      <td>11.93</td>\n",
              "      <td>0</td>\n",
              "      <td>0.573</td>\n",
              "      <td>6.976</td>\n",
              "      <td>91.0</td>\n",
              "      <td>2.1675</td>\n",
              "      <td>1</td>\n",
              "      <td>273</td>\n",
              "      <td>21.0</td>\n",
              "      <td>396.90</td>\n",
              "      <td>5.64</td>\n",
              "      <td>23.9</td>\n",
              "    </tr>\n",
              "    <tr>\n",
              "      <th>504</th>\n",
              "      <td>0.10959</td>\n",
              "      <td>0.0</td>\n",
              "      <td>11.93</td>\n",
              "      <td>0</td>\n",
              "      <td>0.573</td>\n",
              "      <td>6.794</td>\n",
              "      <td>89.3</td>\n",
              "      <td>2.3889</td>\n",
              "      <td>1</td>\n",
              "      <td>273</td>\n",
              "      <td>21.0</td>\n",
              "      <td>393.45</td>\n",
              "      <td>6.48</td>\n",
              "      <td>22.0</td>\n",
              "    </tr>\n",
              "    <tr>\n",
              "      <th>505</th>\n",
              "      <td>0.04741</td>\n",
              "      <td>0.0</td>\n",
              "      <td>11.93</td>\n",
              "      <td>0</td>\n",
              "      <td>0.573</td>\n",
              "      <td>6.030</td>\n",
              "      <td>80.8</td>\n",
              "      <td>2.5050</td>\n",
              "      <td>1</td>\n",
              "      <td>273</td>\n",
              "      <td>21.0</td>\n",
              "      <td>396.90</td>\n",
              "      <td>7.88</td>\n",
              "      <td>11.9</td>\n",
              "    </tr>\n",
              "  </tbody>\n",
              "</table>\n",
              "<p>506 rows × 14 columns</p>\n",
              "</div>\n",
              "      <button class=\"colab-df-convert\" onclick=\"convertToInteractive('df-ab599e76-a41b-418b-a727-98e0d6dc48ab')\"\n",
              "              title=\"Convert this dataframe to an interactive table.\"\n",
              "              style=\"display:none;\">\n",
              "        \n",
              "  <svg xmlns=\"http://www.w3.org/2000/svg\" height=\"24px\"viewBox=\"0 0 24 24\"\n",
              "       width=\"24px\">\n",
              "    <path d=\"M0 0h24v24H0V0z\" fill=\"none\"/>\n",
              "    <path d=\"M18.56 5.44l.94 2.06.94-2.06 2.06-.94-2.06-.94-.94-2.06-.94 2.06-2.06.94zm-11 1L8.5 8.5l.94-2.06 2.06-.94-2.06-.94L8.5 2.5l-.94 2.06-2.06.94zm10 10l.94 2.06.94-2.06 2.06-.94-2.06-.94-.94-2.06-.94 2.06-2.06.94z\"/><path d=\"M17.41 7.96l-1.37-1.37c-.4-.4-.92-.59-1.43-.59-.52 0-1.04.2-1.43.59L10.3 9.45l-7.72 7.72c-.78.78-.78 2.05 0 2.83L4 21.41c.39.39.9.59 1.41.59.51 0 1.02-.2 1.41-.59l7.78-7.78 2.81-2.81c.8-.78.8-2.07 0-2.86zM5.41 20L4 18.59l7.72-7.72 1.47 1.35L5.41 20z\"/>\n",
              "  </svg>\n",
              "      </button>\n",
              "      \n",
              "  <style>\n",
              "    .colab-df-container {\n",
              "      display:flex;\n",
              "      flex-wrap:wrap;\n",
              "      gap: 12px;\n",
              "    }\n",
              "\n",
              "    .colab-df-convert {\n",
              "      background-color: #E8F0FE;\n",
              "      border: none;\n",
              "      border-radius: 50%;\n",
              "      cursor: pointer;\n",
              "      display: none;\n",
              "      fill: #1967D2;\n",
              "      height: 32px;\n",
              "      padding: 0 0 0 0;\n",
              "      width: 32px;\n",
              "    }\n",
              "\n",
              "    .colab-df-convert:hover {\n",
              "      background-color: #E2EBFA;\n",
              "      box-shadow: 0px 1px 2px rgba(60, 64, 67, 0.3), 0px 1px 3px 1px rgba(60, 64, 67, 0.15);\n",
              "      fill: #174EA6;\n",
              "    }\n",
              "\n",
              "    [theme=dark] .colab-df-convert {\n",
              "      background-color: #3B4455;\n",
              "      fill: #D2E3FC;\n",
              "    }\n",
              "\n",
              "    [theme=dark] .colab-df-convert:hover {\n",
              "      background-color: #434B5C;\n",
              "      box-shadow: 0px 1px 3px 1px rgba(0, 0, 0, 0.15);\n",
              "      filter: drop-shadow(0px 1px 2px rgba(0, 0, 0, 0.3));\n",
              "      fill: #FFFFFF;\n",
              "    }\n",
              "  </style>\n",
              "\n",
              "      <script>\n",
              "        const buttonEl =\n",
              "          document.querySelector('#df-ab599e76-a41b-418b-a727-98e0d6dc48ab button.colab-df-convert');\n",
              "        buttonEl.style.display =\n",
              "          google.colab.kernel.accessAllowed ? 'block' : 'none';\n",
              "\n",
              "        async function convertToInteractive(key) {\n",
              "          const element = document.querySelector('#df-ab599e76-a41b-418b-a727-98e0d6dc48ab');\n",
              "          const dataTable =\n",
              "            await google.colab.kernel.invokeFunction('convertToInteractive',\n",
              "                                                     [key], {});\n",
              "          if (!dataTable) return;\n",
              "\n",
              "          const docLinkHtml = 'Like what you see? Visit the ' +\n",
              "            '<a target=\"_blank\" href=https://colab.research.google.com/notebooks/data_table.ipynb>data table notebook</a>'\n",
              "            + ' to learn more about interactive tables.';\n",
              "          element.innerHTML = '';\n",
              "          dataTable['output_type'] = 'display_data';\n",
              "          await google.colab.output.renderOutput(dataTable, element);\n",
              "          const docLink = document.createElement('div');\n",
              "          docLink.innerHTML = docLinkHtml;\n",
              "          element.appendChild(docLink);\n",
              "        }\n",
              "      </script>\n",
              "    </div>\n",
              "  </div>\n",
              "  "
            ]
          },
          "metadata": {},
          "execution_count": 10
        }
      ]
    },
    {
      "cell_type": "code",
      "metadata": {
        "colab": {
          "base_uri": "https://localhost:8080/",
          "height": 300
        },
        "id": "W3pX1hLYyYXk",
        "outputId": "02554656-7e35-4513-bd55-9f00bb9109e0"
      },
      "source": [
        "boston.describe()"
      ],
      "execution_count": 11,
      "outputs": [
        {
          "output_type": "execute_result",
          "data": {
            "text/plain": [
              "             crim          zn       indus        chas         nox          rm  \\\n",
              "count  506.000000  506.000000  506.000000  506.000000  506.000000  506.000000   \n",
              "mean     3.613524   11.363636   11.136779    0.069170    0.554695    6.284634   \n",
              "std      8.601545   23.322453    6.860353    0.253994    0.115878    0.702617   \n",
              "min      0.006320    0.000000    0.460000    0.000000    0.385000    3.561000   \n",
              "25%      0.082045    0.000000    5.190000    0.000000    0.449000    5.885500   \n",
              "50%      0.256510    0.000000    9.690000    0.000000    0.538000    6.208500   \n",
              "75%      3.677083   12.500000   18.100000    0.000000    0.624000    6.623500   \n",
              "max     88.976200  100.000000   27.740000    1.000000    0.871000    8.780000   \n",
              "\n",
              "              age         dis         rad         tax     ptratio       black  \\\n",
              "count  506.000000  506.000000  506.000000  506.000000  506.000000  506.000000   \n",
              "mean    68.574901    3.795043    9.549407  408.237154   18.455534  356.674032   \n",
              "std     28.148861    2.105710    8.707259  168.537116    2.164946   91.294864   \n",
              "min      2.900000    1.129600    1.000000  187.000000   12.600000    0.320000   \n",
              "25%     45.025000    2.100175    4.000000  279.000000   17.400000  375.377500   \n",
              "50%     77.500000    3.207450    5.000000  330.000000   19.050000  391.440000   \n",
              "75%     94.075000    5.188425   24.000000  666.000000   20.200000  396.225000   \n",
              "max    100.000000   12.126500   24.000000  711.000000   22.000000  396.900000   \n",
              "\n",
              "            lstat        medv  \n",
              "count  506.000000  506.000000  \n",
              "mean    12.653063   22.532806  \n",
              "std      7.141062    9.197104  \n",
              "min      1.730000    5.000000  \n",
              "25%      6.950000   17.025000  \n",
              "50%     11.360000   21.200000  \n",
              "75%     16.955000   25.000000  \n",
              "max     37.970000   50.000000  "
            ],
            "text/html": [
              "\n",
              "  <div id=\"df-c24858c8-b5b5-4f6d-aaa7-73d0cde9c71c\">\n",
              "    <div class=\"colab-df-container\">\n",
              "      <div>\n",
              "<style scoped>\n",
              "    .dataframe tbody tr th:only-of-type {\n",
              "        vertical-align: middle;\n",
              "    }\n",
              "\n",
              "    .dataframe tbody tr th {\n",
              "        vertical-align: top;\n",
              "    }\n",
              "\n",
              "    .dataframe thead th {\n",
              "        text-align: right;\n",
              "    }\n",
              "</style>\n",
              "<table border=\"1\" class=\"dataframe\">\n",
              "  <thead>\n",
              "    <tr style=\"text-align: right;\">\n",
              "      <th></th>\n",
              "      <th>crim</th>\n",
              "      <th>zn</th>\n",
              "      <th>indus</th>\n",
              "      <th>chas</th>\n",
              "      <th>nox</th>\n",
              "      <th>rm</th>\n",
              "      <th>age</th>\n",
              "      <th>dis</th>\n",
              "      <th>rad</th>\n",
              "      <th>tax</th>\n",
              "      <th>ptratio</th>\n",
              "      <th>black</th>\n",
              "      <th>lstat</th>\n",
              "      <th>medv</th>\n",
              "    </tr>\n",
              "  </thead>\n",
              "  <tbody>\n",
              "    <tr>\n",
              "      <th>count</th>\n",
              "      <td>506.000000</td>\n",
              "      <td>506.000000</td>\n",
              "      <td>506.000000</td>\n",
              "      <td>506.000000</td>\n",
              "      <td>506.000000</td>\n",
              "      <td>506.000000</td>\n",
              "      <td>506.000000</td>\n",
              "      <td>506.000000</td>\n",
              "      <td>506.000000</td>\n",
              "      <td>506.000000</td>\n",
              "      <td>506.000000</td>\n",
              "      <td>506.000000</td>\n",
              "      <td>506.000000</td>\n",
              "      <td>506.000000</td>\n",
              "    </tr>\n",
              "    <tr>\n",
              "      <th>mean</th>\n",
              "      <td>3.613524</td>\n",
              "      <td>11.363636</td>\n",
              "      <td>11.136779</td>\n",
              "      <td>0.069170</td>\n",
              "      <td>0.554695</td>\n",
              "      <td>6.284634</td>\n",
              "      <td>68.574901</td>\n",
              "      <td>3.795043</td>\n",
              "      <td>9.549407</td>\n",
              "      <td>408.237154</td>\n",
              "      <td>18.455534</td>\n",
              "      <td>356.674032</td>\n",
              "      <td>12.653063</td>\n",
              "      <td>22.532806</td>\n",
              "    </tr>\n",
              "    <tr>\n",
              "      <th>std</th>\n",
              "      <td>8.601545</td>\n",
              "      <td>23.322453</td>\n",
              "      <td>6.860353</td>\n",
              "      <td>0.253994</td>\n",
              "      <td>0.115878</td>\n",
              "      <td>0.702617</td>\n",
              "      <td>28.148861</td>\n",
              "      <td>2.105710</td>\n",
              "      <td>8.707259</td>\n",
              "      <td>168.537116</td>\n",
              "      <td>2.164946</td>\n",
              "      <td>91.294864</td>\n",
              "      <td>7.141062</td>\n",
              "      <td>9.197104</td>\n",
              "    </tr>\n",
              "    <tr>\n",
              "      <th>min</th>\n",
              "      <td>0.006320</td>\n",
              "      <td>0.000000</td>\n",
              "      <td>0.460000</td>\n",
              "      <td>0.000000</td>\n",
              "      <td>0.385000</td>\n",
              "      <td>3.561000</td>\n",
              "      <td>2.900000</td>\n",
              "      <td>1.129600</td>\n",
              "      <td>1.000000</td>\n",
              "      <td>187.000000</td>\n",
              "      <td>12.600000</td>\n",
              "      <td>0.320000</td>\n",
              "      <td>1.730000</td>\n",
              "      <td>5.000000</td>\n",
              "    </tr>\n",
              "    <tr>\n",
              "      <th>25%</th>\n",
              "      <td>0.082045</td>\n",
              "      <td>0.000000</td>\n",
              "      <td>5.190000</td>\n",
              "      <td>0.000000</td>\n",
              "      <td>0.449000</td>\n",
              "      <td>5.885500</td>\n",
              "      <td>45.025000</td>\n",
              "      <td>2.100175</td>\n",
              "      <td>4.000000</td>\n",
              "      <td>279.000000</td>\n",
              "      <td>17.400000</td>\n",
              "      <td>375.377500</td>\n",
              "      <td>6.950000</td>\n",
              "      <td>17.025000</td>\n",
              "    </tr>\n",
              "    <tr>\n",
              "      <th>50%</th>\n",
              "      <td>0.256510</td>\n",
              "      <td>0.000000</td>\n",
              "      <td>9.690000</td>\n",
              "      <td>0.000000</td>\n",
              "      <td>0.538000</td>\n",
              "      <td>6.208500</td>\n",
              "      <td>77.500000</td>\n",
              "      <td>3.207450</td>\n",
              "      <td>5.000000</td>\n",
              "      <td>330.000000</td>\n",
              "      <td>19.050000</td>\n",
              "      <td>391.440000</td>\n",
              "      <td>11.360000</td>\n",
              "      <td>21.200000</td>\n",
              "    </tr>\n",
              "    <tr>\n",
              "      <th>75%</th>\n",
              "      <td>3.677083</td>\n",
              "      <td>12.500000</td>\n",
              "      <td>18.100000</td>\n",
              "      <td>0.000000</td>\n",
              "      <td>0.624000</td>\n",
              "      <td>6.623500</td>\n",
              "      <td>94.075000</td>\n",
              "      <td>5.188425</td>\n",
              "      <td>24.000000</td>\n",
              "      <td>666.000000</td>\n",
              "      <td>20.200000</td>\n",
              "      <td>396.225000</td>\n",
              "      <td>16.955000</td>\n",
              "      <td>25.000000</td>\n",
              "    </tr>\n",
              "    <tr>\n",
              "      <th>max</th>\n",
              "      <td>88.976200</td>\n",
              "      <td>100.000000</td>\n",
              "      <td>27.740000</td>\n",
              "      <td>1.000000</td>\n",
              "      <td>0.871000</td>\n",
              "      <td>8.780000</td>\n",
              "      <td>100.000000</td>\n",
              "      <td>12.126500</td>\n",
              "      <td>24.000000</td>\n",
              "      <td>711.000000</td>\n",
              "      <td>22.000000</td>\n",
              "      <td>396.900000</td>\n",
              "      <td>37.970000</td>\n",
              "      <td>50.000000</td>\n",
              "    </tr>\n",
              "  </tbody>\n",
              "</table>\n",
              "</div>\n",
              "      <button class=\"colab-df-convert\" onclick=\"convertToInteractive('df-c24858c8-b5b5-4f6d-aaa7-73d0cde9c71c')\"\n",
              "              title=\"Convert this dataframe to an interactive table.\"\n",
              "              style=\"display:none;\">\n",
              "        \n",
              "  <svg xmlns=\"http://www.w3.org/2000/svg\" height=\"24px\"viewBox=\"0 0 24 24\"\n",
              "       width=\"24px\">\n",
              "    <path d=\"M0 0h24v24H0V0z\" fill=\"none\"/>\n",
              "    <path d=\"M18.56 5.44l.94 2.06.94-2.06 2.06-.94-2.06-.94-.94-2.06-.94 2.06-2.06.94zm-11 1L8.5 8.5l.94-2.06 2.06-.94-2.06-.94L8.5 2.5l-.94 2.06-2.06.94zm10 10l.94 2.06.94-2.06 2.06-.94-2.06-.94-.94-2.06-.94 2.06-2.06.94z\"/><path d=\"M17.41 7.96l-1.37-1.37c-.4-.4-.92-.59-1.43-.59-.52 0-1.04.2-1.43.59L10.3 9.45l-7.72 7.72c-.78.78-.78 2.05 0 2.83L4 21.41c.39.39.9.59 1.41.59.51 0 1.02-.2 1.41-.59l7.78-7.78 2.81-2.81c.8-.78.8-2.07 0-2.86zM5.41 20L4 18.59l7.72-7.72 1.47 1.35L5.41 20z\"/>\n",
              "  </svg>\n",
              "      </button>\n",
              "      \n",
              "  <style>\n",
              "    .colab-df-container {\n",
              "      display:flex;\n",
              "      flex-wrap:wrap;\n",
              "      gap: 12px;\n",
              "    }\n",
              "\n",
              "    .colab-df-convert {\n",
              "      background-color: #E8F0FE;\n",
              "      border: none;\n",
              "      border-radius: 50%;\n",
              "      cursor: pointer;\n",
              "      display: none;\n",
              "      fill: #1967D2;\n",
              "      height: 32px;\n",
              "      padding: 0 0 0 0;\n",
              "      width: 32px;\n",
              "    }\n",
              "\n",
              "    .colab-df-convert:hover {\n",
              "      background-color: #E2EBFA;\n",
              "      box-shadow: 0px 1px 2px rgba(60, 64, 67, 0.3), 0px 1px 3px 1px rgba(60, 64, 67, 0.15);\n",
              "      fill: #174EA6;\n",
              "    }\n",
              "\n",
              "    [theme=dark] .colab-df-convert {\n",
              "      background-color: #3B4455;\n",
              "      fill: #D2E3FC;\n",
              "    }\n",
              "\n",
              "    [theme=dark] .colab-df-convert:hover {\n",
              "      background-color: #434B5C;\n",
              "      box-shadow: 0px 1px 3px 1px rgba(0, 0, 0, 0.15);\n",
              "      filter: drop-shadow(0px 1px 2px rgba(0, 0, 0, 0.3));\n",
              "      fill: #FFFFFF;\n",
              "    }\n",
              "  </style>\n",
              "\n",
              "      <script>\n",
              "        const buttonEl =\n",
              "          document.querySelector('#df-c24858c8-b5b5-4f6d-aaa7-73d0cde9c71c button.colab-df-convert');\n",
              "        buttonEl.style.display =\n",
              "          google.colab.kernel.accessAllowed ? 'block' : 'none';\n",
              "\n",
              "        async function convertToInteractive(key) {\n",
              "          const element = document.querySelector('#df-c24858c8-b5b5-4f6d-aaa7-73d0cde9c71c');\n",
              "          const dataTable =\n",
              "            await google.colab.kernel.invokeFunction('convertToInteractive',\n",
              "                                                     [key], {});\n",
              "          if (!dataTable) return;\n",
              "\n",
              "          const docLinkHtml = 'Like what you see? Visit the ' +\n",
              "            '<a target=\"_blank\" href=https://colab.research.google.com/notebooks/data_table.ipynb>data table notebook</a>'\n",
              "            + ' to learn more about interactive tables.';\n",
              "          element.innerHTML = '';\n",
              "          dataTable['output_type'] = 'display_data';\n",
              "          await google.colab.output.renderOutput(dataTable, element);\n",
              "          const docLink = document.createElement('div');\n",
              "          docLink.innerHTML = docLinkHtml;\n",
              "          element.appendChild(docLink);\n",
              "        }\n",
              "      </script>\n",
              "    </div>\n",
              "  </div>\n",
              "  "
            ]
          },
          "metadata": {},
          "execution_count": 11
        }
      ]
    },
    {
      "cell_type": "code",
      "source": [
        "boston.medv.hist()"
      ],
      "metadata": {
        "colab": {
          "base_uri": "https://localhost:8080/",
          "height": 449
        },
        "id": "Vj3B2bkmiKJl",
        "outputId": "4416fa66-5ac3-4607-9411-f67180855e40"
      },
      "execution_count": 12,
      "outputs": [
        {
          "output_type": "execute_result",
          "data": {
            "text/plain": [
              "<Axes: >"
            ]
          },
          "metadata": {},
          "execution_count": 12
        },
        {
          "output_type": "display_data",
          "data": {
            "text/plain": [
              "<Figure size 640x480 with 1 Axes>"
            ],
            "image/png": "[encoded data removed]"
          },
          "metadata": {}
        }
      ]
    },
    {
      "cell_type": "code",
      "source": [
        "boston.columns"
      ],
      "metadata": {
        "colab": {
          "base_uri": "https://localhost:8080/"
        },
        "id": "QnHodIGj9DpO",
        "outputId": "6ee88e4e-d4fd-4f5f-e90c-c131e007eb5f"
      },
      "execution_count": 13,
      "outputs": [
        {
          "output_type": "execute_result",
          "data": {
            "text/plain": [
              "Index(['crim', 'zn', 'indus', 'chas', 'nox', 'rm', 'age', 'dis', 'rad', 'tax',\n",
              "       'ptratio', 'black', 'lstat', 'medv'],\n",
              "      dtype='object')"
            ]
          },
          "metadata": {},
          "execution_count": 13
        }
      ]
    },
    {
      "cell_type": "code",
      "source": [
        "import plotly.express as px\n",
        "px.histogram(boston, x='crim')"
      ],
      "metadata": {
        "colab": {
          "base_uri": "https://localhost:8080/",
          "height": 542
        },
        "id": "Z1v5r--k8kG9",
        "outputId": "88b449e5-72b0-4221-ae82-a96cbfdf6e13"
      },
      "execution_count": 14,
      "outputs": [
        {
          "output_type": "display_data",
          "data": {
            "text/html": [
              "<html>\n",
              "<head><meta charset=\"utf-8\" /></head>\n",
              "<body>\n",
              "    <div>            <script src=\"https://cdnjs.cloudflare.com/ajax/libs/mathjax/2.7.5/MathJax.js?config=TeX-AMS-MML_SVG\"></script><script type=\"text/javascript\">if (window.MathJax && window.MathJax.Hub && window.MathJax.Hub.Config) {window.MathJax.Hub.Config({SVG: {font: \"STIX-Web\"}});}</script>                <script type=\"text/javascript\">window.PlotlyConfig = {MathJaxConfig: 'local'};</script>\n",
              "        <script src=\"https://cdn.plot.ly/plotly-2.18.2.min.js\"></script>                <div id=\"8bd5ae7c-ea66-4ae4-a321-f2d8c7ebcb97\" class=\"plotly-graph-div\" style=\"height:525px; width:100%;\"></div>            <script type=\"text/javascript\">                                    window.PLOTLYENV=window.PLOTLYENV || {};                                    if (document.getElementById(\"8bd5ae7c-ea66-4ae4-a321-f2d8c7ebcb97\")) {                    Plotly.newPlot(                        \"8bd5ae7c-ea66-4ae4-a321-f2d8c7ebcb97\",                        [{\"alignmentgroup\":\"True\",\"bingroup\":\"x\",\"hovertemplate\":\"crim=%{x}<br>count=%{y}<extra></extra>\",\"legendgroup\":\"\",\"marker\":{\"color\":\"#636efa\",\"pattern\":{\"shape\":\"\"}},\"name\":\"\",\"offsetgroup\":\"\",\"orientation\":\"v\",\"showlegend\":false,\"x\":[0.00632,0.02731,0.02729,0.03237,0.06905,0.02985,0.08829,0.14455,0.21124,0.17004,0.22489,0.11747,0.09378,0.62976,0.63796,0.62739,1.05393,0.7842,0.80271,0.7258,1.25179,0.85204,1.23247,0.98843,0.75026,0.84054,0.67191,0.95577,0.77299,1.00245,1.13081,1.35472,1.38799,1.15172,1.61282,0.06417,0.09744,0.08014,0.17505,0.02763,0.03359,0.12744,0.1415,0.15936,0.12269,0.17142,0.18836,0.22927,0.25387,0.21977,0.08873,0.04337,0.0536,0.04981,0.0136,0.01311,0.02055,0.01432,0.15445,0.10328,0.14932,0.17171,0.11027,0.1265,0.01951,0.03584,0.04379,0.05789,0.13554,0.12816,0.08826,0.15876,0.09164,0.19539,0.07896,0.09512,0.10153,0.08707,0.05646,0.08387,0.04113,0.04462,0.03659,0.03551,0.05059,0.05735,0.05188,0.07151,0.0566,0.05302,0.04684,0.03932,0.04203,0.02875,0.04294,0.12204,0.11504,0.12083,0.08187,0.0686,0.14866,0.11432,0.22876,0.21161,0.1396,0.13262,0.1712,0.13117,0.12802,0.26363,0.10793,0.10084,0.12329,0.22212,0.14231,0.17134,0.13158,0.15098,0.13058,0.14476,0.06899,0.07165,0.09299,0.15038,0.09849,0.16902,0.38735,0.25915,0.32543,0.88125,0.34006,1.19294,0.59005,0.32982,0.97617,0.55778,0.32264,0.35233,0.2498,0.54452,0.2909,1.62864,3.32105,4.0974,2.77974,2.37934,2.15505,2.36862,2.33099,2.73397,1.6566,1.49632,1.12658,2.14918,1.41385,3.53501,2.44668,1.22358,1.34284,1.42502,1.27346,1.46336,1.83377,1.51902,2.24236,2.924,2.01019,1.80028,2.3004,2.44953,1.20742,2.3139,0.13914,0.09178,0.08447,0.06664,0.07022,0.05425,0.06642,0.0578,0.06588,0.06888,0.09103,0.10008,0.08308,0.06047,0.05602,0.07875,0.12579,0.0837,0.09068,0.06911,0.08664,0.02187,0.01439,0.01381,0.04011,0.04666,0.03768,0.0315,0.01778,0.03445,0.02177,0.0351,0.02009,0.13642,0.22969,0.25199,0.13587,0.43571,0.17446,0.37578,0.21719,0.14052,0.28955,0.19802,0.0456,0.07013,0.11069,0.11425,0.35809,0.40771,0.62356,0.6147,0.31533,0.52693,0.38214,0.41238,0.29819,0.44178,0.537,0.46296,0.57529,0.33147,0.44791,0.33045,0.52058,0.51183,0.08244,0.09252,0.11329,0.10612,0.1029,0.12757,0.20608,0.19133,0.33983,0.19657,0.16439,0.19073,0.1403,0.21409,0.08221,0.36894,0.04819,0.03548,0.01538,0.61154,0.66351,0.65665,0.54011,0.53412,0.52014,0.82526,0.55007,0.76162,0.7857,0.57834,0.5405,0.09065,0.29916,0.16211,0.1146,0.22188,0.05644,0.09604,0.10469,0.06127,0.07978,0.21038,0.03578,0.03705,0.06129,0.01501,0.00906,0.01096,0.01965,0.03871,0.0459,0.04297,0.03502,0.07886,0.03615,0.08265,0.08199,0.12932,0.05372,0.14103,0.06466,0.05561,0.04417,0.03537,0.09266,0.1,0.05515,0.05479,0.07503,0.04932,0.49298,0.3494,2.63548,0.79041,0.26169,0.26938,0.3692,0.25356,0.31827,0.24522,0.40202,0.47547,0.1676,0.18159,0.35114,0.28392,0.34109,0.19186,0.30347,0.24103,0.06617,0.06724,0.04544,0.05023,0.03466,0.05083,0.03738,0.03961,0.03427,0.03041,0.03306,0.05497,0.06151,0.01301,0.02498,0.02543,0.03049,0.03113,0.06162,0.0187,0.01501,0.02899,0.06211,0.0795,0.07244,0.01709,0.04301,0.10659,8.98296,3.8497,5.20177,4.26131,4.54192,3.83684,3.67822,4.22239,3.47428,4.55587,3.69695,13.5222,4.89822,5.66998,6.53876,9.2323,8.26725,11.1081,18.4982,19.6091,15.288,9.82349,23.6482,17.8667,88.9762,15.8744,9.18702,7.99248,20.0849,16.8118,24.3938,22.5971,14.3337,8.15174,6.96215,5.29305,11.5779,8.64476,13.3598,8.71675,5.87205,7.67202,38.3518,9.91655,25.0461,14.2362,9.59571,24.8017,41.5292,67.9208,20.7162,11.9511,7.40389,14.4383,51.1358,14.0507,18.811,28.6558,45.7461,18.0846,10.8342,25.9406,73.5341,11.8123,11.0874,7.02259,12.0482,7.05042,8.79212,15.8603,12.2472,37.6619,7.36711,9.33889,8.49213,10.0623,6.44405,5.58107,13.9134,11.1604,14.4208,15.1772,13.6781,9.39063,22.0511,9.72418,5.66637,9.96654,12.8023,10.6718,6.28807,9.92485,9.32909,7.52601,6.71772,5.44114,5.09017,8.24809,9.51363,4.75237,4.66883,8.20058,7.75223,6.80117,4.81213,3.69311,6.65492,5.82115,7.83932,3.1636,3.77498,4.42228,15.5757,13.0751,4.34879,4.03841,3.56868,4.64689,8.05579,6.39312,4.87141,15.0234,10.233,14.3337,5.82401,5.70818,5.73116,2.81838,2.37857,3.67367,5.69175,4.83567,0.15086,0.18337,0.20746,0.10574,0.11132,0.17331,0.27957,0.17899,0.2896,0.26838,0.23912,0.17783,0.22438,0.06263,0.04527,0.06076,0.10959,0.04741],\"xaxis\":\"x\",\"yaxis\":\"y\",\"type\":\"histogram\"}],                        {\"template\":{\"data\":{\"histogram2dcontour\":[{\"type\":\"histogram2dcontour\",\"colorbar\":{\"outlinewidth\":0,\"ticks\":\"\"},\"colorscale\":[[0.0,\"#0d0887\"],[0.1111111111111111,\"#46039f\"],[0.2222222222222222,\"#7201a8\"],[0.3333333333333333,\"#9c179e\"],[0.4444444444444444,\"#bd3786\"],[0.5555555555555556,\"#d8576b\"],[0.6666666666666666,\"#ed7953\"],[0.7777777777777778,\"#fb9f3a\"],[0.8888888888888888,\"#fdca26\"],[1.0,\"#f0f921\"]]}],\"choropleth\":[{\"type\":\"choropleth\",\"colorbar\":{\"outlinewidth\":0,\"ticks\":\"\"}}],\"histogram2d\":[{\"type\":\"histogram2d\",\"colorbar\":{\"outlinewidth\":0,\"ticks\":\"\"},\"colorscale\":[[0.0,\"#0d0887\"],[0.1111111111111111,\"#46039f\"],[0.2222222222222222,\"#7201a8\"],[0.3333333333333333,\"#9c179e\"],[0.4444444444444444,\"#bd3786\"],[0.5555555555555556,\"#d8576b\"],[0.6666666666666666,\"#ed7953\"],[0.7777777777777778,\"#fb9f3a\"],[0.8888888888888888,\"#fdca26\"],[1.0,\"#f0f921\"]]}],\"heatmap\":[{\"type\":\"heatmap\",\"colorbar\":{\"outlinewidth\":0,\"ticks\":\"\"},\"colorscale\":[[0.0,\"#0d0887\"],[0.1111111111111111,\"#46039f\"],[0.2222222222222222,\"#7201a8\"],[0.3333333333333333,\"#9c179e\"],[0.4444444444444444,\"#bd3786\"],[0.5555555555555556,\"#d8576b\"],[0.6666666666666666,\"#ed7953\"],[0.7777777777777778,\"#fb9f3a\"],[0.8888888888888888,\"#fdca26\"],[1.0,\"#f0f921\"]]}],\"heatmapgl\":[{\"type\":\"heatmapgl\",\"colorbar\":{\"outlinewidth\":0,\"ticks\":\"\"},\"colorscale\":[[0.0,\"#0d0887\"],[0.1111111111111111,\"#46039f\"],[0.2222222222222222,\"#7201a8\"],[0.3333333333333333,\"#9c179e\"],[0.4444444444444444,\"#bd3786\"],[0.5555555555555556,\"#d8576b\"],[0.6666666666666666,\"#ed7953\"],[0.7777777777777778,\"#fb9f3a\"],[0.8888888888888888,\"#fdca26\"],[1.0,\"#f0f921\"]]}],\"contourcarpet\":[{\"type\":\"contourcarpet\",\"colorbar\":{\"outlinewidth\":0,\"ticks\":\"\"}}],\"contour\":[{\"type\":\"contour\",\"colorbar\":{\"outlinewidth\":0,\"ticks\":\"\"},\"colorscale\":[[0.0,\"#0d0887\"],[0.1111111111111111,\"#46039f\"],[0.2222222222222222,\"#7201a8\"],[0.3333333333333333,\"#9c179e\"],[0.4444444444444444,\"#bd3786\"],[0.5555555555555556,\"#d8576b\"],[0.6666666666666666,\"#ed7953\"],[0.7777777777777778,\"#fb9f3a\"],[0.8888888888888888,\"#fdca26\"],[1.0,\"#f0f921\"]]}],\"surface\":[{\"type\":\"surface\",\"colorbar\":{\"outlinewidth\":0,\"ticks\":\"\"},\"colorscale\":[[0.0,\"#0d0887\"],[0.1111111111111111,\"#46039f\"],[0.2222222222222222,\"#7201a8\"],[0.3333333333333333,\"#9c179e\"],[0.4444444444444444,\"#bd3786\"],[0.5555555555555556,\"#d8576b\"],[0.6666666666666666,\"#ed7953\"],[0.7777777777777778,\"#fb9f3a\"],[0.8888888888888888,\"#fdca26\"],[1.0,\"#f0f921\"]]}],\"mesh3d\":[{\"type\":\"mesh3d\",\"colorbar\":{\"outlinewidth\":0,\"ticks\":\"\"}}],\"scatter\":[{\"fillpattern\":{\"fillmode\":\"overlay\",\"size\":10,\"solidity\":0.2},\"type\":\"scatter\"}],\"parcoords\":[{\"type\":\"parcoords\",\"line\":{\"colorbar\":{\"outlinewidth\":0,\"ticks\":\"\"}}}],\"scatterpolargl\":[{\"type\":\"scatterpolargl\",\"marker\":{\"colorbar\":{\"outlinewidth\":0,\"ticks\":\"\"}}}],\"bar\":[{\"error_x\":{\"color\":\"#2a3f5f\"},\"error_y\":{\"color\":\"#2a3f5f\"},\"marker\":{\"line\":{\"color\":\"#E5ECF6\",\"width\":0.5},\"pattern\":{\"fillmode\":\"overlay\",\"size\":10,\"solidity\":0.2}},\"type\":\"bar\"}],\"scattergeo\":[{\"type\":\"scattergeo\",\"marker\":{\"colorbar\":{\"outlinewidth\":0,\"ticks\":\"\"}}}],\"scatterpolar\":[{\"type\":\"scatterpolar\",\"marker\":{\"colorbar\":{\"outlinewidth\":0,\"ticks\":\"\"}}}],\"histogram\":[{\"marker\":{\"pattern\":{\"fillmode\":\"overlay\",\"size\":10,\"solidity\":0.2}},\"type\":\"histogram\"}],\"scattergl\":[{\"type\":\"scattergl\",\"marker\":{\"colorbar\":{\"outlinewidth\":0,\"ticks\":\"\"}}}],\"scatter3d\":[{\"type\":\"scatter3d\",\"line\":{\"colorbar\":{\"outlinewidth\":0,\"ticks\":\"\"}},\"marker\":{\"colorbar\":{\"outlinewidth\":0,\"ticks\":\"\"}}}],\"scattermapbox\":[{\"type\":\"scattermapbox\",\"marker\":{\"colorbar\":{\"outlinewidth\":0,\"ticks\":\"\"}}}],\"scatterternary\":[{\"type\":\"scatterternary\",\"marker\":{\"colorbar\":{\"outlinewidth\":0,\"ticks\":\"\"}}}],\"scattercarpet\":[{\"type\":\"scattercarpet\",\"marker\":{\"colorbar\":{\"outlinewidth\":0,\"ticks\":\"\"}}}],\"carpet\":[{\"aaxis\":{\"endlinecolor\":\"#2a3f5f\",\"gridcolor\":\"white\",\"linecolor\":\"white\",\"minorgridcolor\":\"white\",\"startlinecolor\":\"#2a3f5f\"},\"baxis\":{\"endlinecolor\":\"#2a3f5f\",\"gridcolor\":\"white\",\"linecolor\":\"white\",\"minorgridcolor\":\"white\",\"startlinecolor\":\"#2a3f5f\"},\"type\":\"carpet\"}],\"table\":[{\"cells\":{\"fill\":{\"color\":\"#EBF0F8\"},\"line\":{\"color\":\"white\"}},\"header\":{\"fill\":{\"color\":\"#C8D4E3\"},\"line\":{\"color\":\"white\"}},\"type\":\"table\"}],\"barpolar\":[{\"marker\":{\"line\":{\"color\":\"#E5ECF6\",\"width\":0.5},\"pattern\":{\"fillmode\":\"overlay\",\"size\":10,\"solidity\":0.2}},\"type\":\"barpolar\"}],\"pie\":[{\"automargin\":true,\"type\":\"pie\"}]},\"layout\":{\"autotypenumbers\":\"strict\",\"colorway\":[\"#636efa\",\"#EF553B\",\"#00cc96\",\"#ab63fa\",\"#FFA15A\",\"#19d3f3\",\"#FF6692\",\"#B6E880\",\"#FF97FF\",\"#FECB52\"],\"font\":{\"color\":\"#2a3f5f\"},\"hovermode\":\"closest\",\"hoverlabel\":{\"align\":\"left\"},\"paper_bgcolor\":\"white\",\"plot_bgcolor\":\"#E5ECF6\",\"polar\":{\"bgcolor\":\"#E5ECF6\",\"angularaxis\":{\"gridcolor\":\"white\",\"linecolor\":\"white\",\"ticks\":\"\"},\"radialaxis\":{\"gridcolor\":\"white\",\"linecolor\":\"white\",\"ticks\":\"\"}},\"ternary\":{\"bgcolor\":\"#E5ECF6\",\"aaxis\":{\"gridcolor\":\"white\",\"linecolor\":\"white\",\"ticks\":\"\"},\"baxis\":{\"gridcolor\":\"white\",\"linecolor\":\"white\",\"ticks\":\"\"},\"caxis\":{\"gridcolor\":\"white\",\"linecolor\":\"white\",\"ticks\":\"\"}},\"coloraxis\":{\"colorbar\":{\"outlinewidth\":0,\"ticks\":\"\"}},\"colorscale\":{\"sequential\":[[0.0,\"#0d0887\"],[0.1111111111111111,\"#46039f\"],[0.2222222222222222,\"#7201a8\"],[0.3333333333333333,\"#9c179e\"],[0.4444444444444444,\"#bd3786\"],[0.5555555555555556,\"#d8576b\"],[0.6666666666666666,\"#ed7953\"],[0.7777777777777778,\"#fb9f3a\"],[0.8888888888888888,\"#fdca26\"],[1.0,\"#f0f921\"]],\"sequentialminus\":[[0.0,\"#0d0887\"],[0.1111111111111111,\"#46039f\"],[0.2222222222222222,\"#7201a8\"],[0.3333333333333333,\"#9c179e\"],[0.4444444444444444,\"#bd3786\"],[0.5555555555555556,\"#d8576b\"],[0.6666666666666666,\"#ed7953\"],[0.7777777777777778,\"#fb9f3a\"],[0.8888888888888888,\"#fdca26\"],[1.0,\"#f0f921\"]],\"diverging\":[[0,\"#8e0152\"],[0.1,\"#c51b7d\"],[0.2,\"#de77ae\"],[0.3,\"#f1b6da\"],[0.4,\"#fde0ef\"],[0.5,\"#f7f7f7\"],[0.6,\"#e6f5d0\"],[0.7,\"#b8e186\"],[0.8,\"#7fbc41\"],[0.9,\"#4d9221\"],[1,\"#276419\"]]},\"xaxis\":{\"gridcolor\":\"white\",\"linecolor\":\"white\",\"ticks\":\"\",\"title\":{\"standoff\":15},\"zerolinecolor\":\"white\",\"automargin\":true,\"zerolinewidth\":2},\"yaxis\":{\"gridcolor\":\"white\",\"linecolor\":\"white\",\"ticks\":\"\",\"title\":{\"standoff\":15},\"zerolinecolor\":\"white\",\"automargin\":true,\"zerolinewidth\":2},\"scene\":{\"xaxis\":{\"backgroundcolor\":\"#E5ECF6\",\"gridcolor\":\"white\",\"linecolor\":\"white\",\"showbackground\":true,\"ticks\":\"\",\"zerolinecolor\":\"white\",\"gridwidth\":2},\"yaxis\":{\"backgroundcolor\":\"#E5ECF6\",\"gridcolor\":\"white\",\"linecolor\":\"white\",\"showbackground\":true,\"ticks\":\"\",\"zerolinecolor\":\"white\",\"gridwidth\":2},\"zaxis\":{\"backgroundcolor\":\"#E5ECF6\",\"gridcolor\":\"white\",\"linecolor\":\"white\",\"showbackground\":true,\"ticks\":\"\",\"zerolinecolor\":\"white\",\"gridwidth\":2}},\"shapedefaults\":{\"line\":{\"color\":\"#2a3f5f\"}},\"annotationdefaults\":{\"arrowcolor\":\"#2a3f5f\",\"arrowhead\":0,\"arrowwidth\":1},\"geo\":{\"bgcolor\":\"white\",\"landcolor\":\"#E5ECF6\",\"subunitcolor\":\"white\",\"showland\":true,\"showlakes\":true,\"lakecolor\":\"white\"},\"title\":{\"x\":0.05},\"mapbox\":{\"style\":\"light\"}}},\"xaxis\":{\"anchor\":\"y\",\"domain\":[0.0,1.0],\"title\":{\"text\":\"crim\"}},\"yaxis\":{\"anchor\":\"x\",\"domain\":[0.0,1.0],\"title\":{\"text\":\"count\"}},\"legend\":{\"tracegroupgap\":0},\"margin\":{\"t\":60},\"barmode\":\"relative\"},                        {\"responsive\": true}                    ).then(function(){\n",
              "                            \n",
              "var gd = document.getElementById('8bd5ae7c-ea66-4ae4-a321-f2d8c7ebcb97');\n",
              "var x = new MutationObserver(function (mutations, observer) {{\n",
              "        var display = window.getComputedStyle(gd).display;\n",
              "        if (!display || display === 'none') {{\n",
              "            console.log([gd, 'removed!']);\n",
              "            Plotly.purge(gd);\n",
              "            observer.disconnect();\n",
              "        }}\n",
              "}});\n",
              "\n",
              "// Listen for the removal of the full notebook cells\n",
              "var notebookContainer = gd.closest('#notebook-container');\n",
              "if (notebookContainer) {{\n",
              "    x.observe(notebookContainer, {childList: true});\n",
              "}}\n",
              "\n",
              "// Listen for the clearing of the current output cell\n",
              "var outputEl = gd.closest('.output');\n",
              "if (outputEl) {{\n",
              "    x.observe(outputEl, {childList: true});\n",
              "}}\n",
              "\n",
              "                        })                };                            </script>        </div>\n",
              "</body>\n",
              "</html>"
            ]
          },
          "metadata": {}
        }
      ]
    },
    {
      "cell_type": "code",
      "source": [
        "px.box(boston)"
      ],
      "metadata": {
        "colab": {
          "base_uri": "https://localhost:8080/",
          "height": 542
        },
        "id": "GHo5NgAo8QfW",
        "outputId": "94786f8f-a08b-4a69-c596-71d8d0f2a2f1"
      },
      "execution_count": 15,
      "outputs": [
        {
          "output_type": "display_data",
          "data": {
            "text/html": [
              "<html>\n",
              "<head><meta charset=\"utf-8\" /></head>\n",
              "<body>\n",
              "    <div>            <script src=\"https://cdnjs.cloudflare.com/ajax/libs/mathjax/2.7.5/MathJax.js?config=TeX-AMS-MML_SVG\"></script><script type=\"text/javascript\">if (window.MathJax && window.MathJax.Hub && window.MathJax.Hub.Config) {window.MathJax.Hub.Config({SVG: {font: \"STIX-Web\"}});}</script>                <script type=\"text/javascript\">window.PlotlyConfig = {MathJaxConfig: 'local'};</script>\n",
              "        <script src=\"https://cdn.plot.ly/plotly-2.18.2.min.js\"></script>                <div id=\"d6bb34cf-b376-4871-807b-6fbea60e77d1\" class=\"plotly-graph-div\" style=\"height:525px; width:100%;\"></div>            <script type=\"text/javascript\">                                    window.PLOTLYENV=window.PLOTLYENV || {};                                    if (document.getElementById(\"d6bb34cf-b376-4871-807b-6fbea60e77d1\")) {                    Plotly.newPlot(                        \"d6bb34cf-b376-4871-807b-6fbea60e77d1\",                        [{\"alignmentgroup\":\"True\",\"hovertemplate\":\"variable=%{x}<br>value=%{y}<extra></extra>\",\"legendgroup\":\"\",\"marker\":{\"color\":\"#636efa\"},\"name\":\"\",\"notched\":false,\"offsetgroup\":\"\",\"orientation\":\"v\",\"showlegend\":false,\"x\":[\"crim\",\"crim\",\"crim\",\"crim\",\"crim\",\"crim\",\"crim\",\"crim\",\"crim\",\"crim\",\"crim\",\"crim\",\"crim\",\"crim\",\"crim\",\"crim\",\"crim\",\"crim\",\"crim\",\"crim\",\"crim\",\"crim\",\"crim\",\"crim\",\"crim\",\"crim\",\"crim\",\"crim\",\"crim\",\"crim\",\"crim\",\"crim\",\"crim\",\"crim\",\"crim\",\"crim\",\"crim\",\"crim\",\"crim\",\"crim\",\"crim\",\"crim\",\"crim\",\"crim\",\"crim\",\"crim\",\"crim\",\"crim\",\"crim\",\"crim\",\"crim\",\"crim\",\"crim\",\"crim\",\"crim\",\"crim\",\"crim\",\"crim\",\"crim\",\"crim\",\"crim\",\"crim\",\"crim\",\"crim\",\"crim\",\"crim\",\"crim\",\"crim\",\"crim\",\"crim\",\"crim\",\"crim\",\"crim\",\"crim\",\"crim\",\"crim\",\"crim\",\"crim\",\"crim\",\"crim\",\"crim\",\"crim\",\"crim\",\"crim\",\"crim\",\"crim\",\"crim\",\"crim\",\"crim\",\"crim\",\"crim\",\"crim\",\"crim\",\"crim\",\"crim\",\"crim\",\"crim\",\"crim\",\"crim\",\"crim\",\"crim\",\"crim\",\"crim\",\"crim\",\"crim\",\"crim\",\"crim\",\"crim\",\"crim\",\"crim\",\"crim\",\"crim\",\"crim\",\"crim\",\"crim\",\"crim\",\"crim\",\"crim\",\"crim\",\"crim\",\"crim\",\"crim\",\"crim\",\"crim\",\"crim\",\"crim\",\"crim\",\"crim\",\"crim\",\"crim\",\"crim\",\"crim\",\"crim\",\"crim\",\"crim\",\"crim\",\"crim\",\"crim\",\"crim\",\"crim\",\"crim\",\"crim\",\"crim\",\"crim\",\"crim\",\"crim\",\"crim\",\"crim\",\"crim\",\"crim\",\"crim\",\"crim\",\"crim\",\"crim\",\"crim\",\"crim\",\"crim\",\"crim\",\"crim\",\"crim\",\"crim\",\"crim\",\"crim\",\"crim\",\"crim\",\"crim\",\"crim\",\"crim\",\"crim\",\"crim\",\"crim\",\"crim\",\"crim\",\"crim\",\"crim\",\"crim\",\"crim\",\"crim\",\"crim\",\"crim\",\"crim\",\"crim\",\"crim\",\"crim\",\"crim\",\"crim\",\"crim\",\"crim\",\"crim\",\"crim\",\"crim\",\"crim\",\"crim\",\"crim\",\"crim\",\"crim\",\"crim\",\"crim\",\"crim\",\"crim\",\"crim\",\"crim\",\"crim\",\"crim\",\"crim\",\"crim\",\"crim\",\"crim\",\"crim\",\"crim\",\"crim\",\"crim\",\"crim\",\"crim\",\"crim\",\"crim\",\"crim\",\"crim\",\"crim\",\"crim\",\"crim\",\"crim\",\"crim\",\"crim\",\"crim\",\"crim\",\"crim\",\"crim\",\"crim\",\"crim\",\"crim\",\"crim\",\"crim\",\"crim\",\"crim\",\"crim\",\"crim\",\"crim\",\"crim\",\"crim\",\"crim\",\"crim\",\"crim\",\"crim\",\"crim\",\"crim\",\"crim\",\"crim\",\"crim\",\"crim\",\"crim\",\"crim\",\"crim\",\"crim\",\"crim\",\"crim\",\"crim\",\"crim\",\"crim\",\"crim\",\"crim\",\"crim\",\"crim\",\"crim\",\"crim\",\"crim\",\"crim\",\"crim\",\"crim\",\"crim\",\"crim\",\"crim\",\"crim\",\"crim\",\"crim\",\"crim\",\"crim\",\"crim\",\"crim\",\"crim\",\"crim\",\"crim\",\"crim\",\"crim\",\"crim\",\"crim\",\"crim\",\"crim\",\"crim\",\"crim\",\"crim\",\"crim\",\"crim\",\"crim\",\"crim\",\"crim\",\"crim\",\"crim\",\"crim\",\"crim\",\"crim\",\"crim\",\"crim\",\"crim\",\"crim\",\"crim\",\"crim\",\"crim\",\"crim\",\"crim\",\"crim\",\"crim\",\"crim\",\"crim\",\"crim\",\"crim\",\"crim\",\"crim\",\"crim\",\"crim\",\"crim\",\"crim\",\"crim\",\"crim\",\"crim\",\"crim\",\"crim\",\"crim\",\"crim\",\"crim\",\"crim\",\"crim\",\"crim\",\"crim\",\"crim\",\"crim\",\"crim\",\"crim\",\"crim\",\"crim\",\"crim\",\"crim\",\"crim\",\"crim\",\"crim\",\"crim\",\"crim\",\"crim\",\"crim\",\"crim\",\"crim\",\"crim\",\"crim\",\"crim\",\"crim\",\"crim\",\"crim\",\"crim\",\"crim\",\"crim\",\"crim\",\"crim\",\"crim\",\"crim\",\"crim\",\"crim\",\"crim\",\"crim\",\"crim\",\"crim\",\"crim\",\"crim\",\"crim\",\"crim\",\"crim\",\"crim\",\"crim\",\"crim\",\"crim\",\"crim\",\"crim\",\"crim\",\"crim\",\"crim\",\"crim\",\"crim\",\"crim\",\"crim\",\"crim\",\"crim\",\"crim\",\"crim\",\"crim\",\"crim\",\"crim\",\"crim\",\"crim\",\"crim\",\"crim\",\"crim\",\"crim\",\"crim\",\"crim\",\"crim\",\"crim\",\"crim\",\"crim\",\"crim\",\"crim\",\"crim\",\"crim\",\"crim\",\"crim\",\"crim\",\"crim\",\"crim\",\"crim\",\"crim\",\"crim\",\"crim\",\"crim\",\"crim\",\"crim\",\"crim\",\"crim\",\"crim\",\"crim\",\"crim\",\"crim\",\"crim\",\"crim\",\"crim\",\"crim\",\"crim\",\"crim\",\"crim\",\"crim\",\"crim\",\"crim\",\"crim\",\"crim\",\"crim\",\"crim\",\"crim\",\"crim\",\"crim\",\"crim\",\"crim\",\"crim\",\"crim\",\"crim\",\"crim\",\"crim\",\"crim\",\"crim\",\"crim\",\"crim\",\"crim\",\"crim\",\"crim\",\"crim\",\"crim\",\"crim\",\"crim\",\"crim\",\"crim\",\"crim\",\"crim\",\"crim\",\"crim\",\"crim\",\"crim\",\"crim\",\"crim\",\"crim\",\"crim\",\"crim\",\"crim\",\"crim\",\"crim\",\"crim\",\"crim\",\"crim\",\"crim\",\"crim\",\"crim\",\"crim\",\"crim\",\"crim\",\"crim\",\"crim\",\"crim\",\"crim\",\"crim\",\"crim\",\"crim\",\"crim\",\"crim\",\"crim\",\"crim\",\"crim\",\"crim\",\"crim\",\"crim\",\"crim\",\"crim\",\"zn\",\"zn\",\"zn\",\"zn\",\"zn\",\"zn\",\"zn\",\"zn\",\"zn\",\"zn\",\"zn\",\"zn\",\"zn\",\"zn\",\"zn\",\"zn\",\"zn\",\"zn\",\"zn\",\"zn\",\"zn\",\"zn\",\"zn\",\"zn\",\"zn\",\"zn\",\"zn\",\"zn\",\"zn\",\"zn\",\"zn\",\"zn\",\"zn\",\"zn\",\"zn\",\"zn\",\"zn\",\"zn\",\"zn\",\"zn\",\"zn\",\"zn\",\"zn\",\"zn\",\"zn\",\"zn\",\"zn\",\"zn\",\"zn\",\"zn\",\"zn\",\"zn\",\"zn\",\"zn\",\"zn\",\"zn\",\"zn\",\"zn\",\"zn\",\"zn\",\"zn\",\"zn\",\"zn\",\"zn\",\"zn\",\"zn\",\"zn\",\"zn\",\"zn\",\"zn\",\"zn\",\"zn\",\"zn\",\"zn\",\"zn\",\"zn\",\"zn\",\"zn\",\"zn\",\"zn\",\"zn\",\"zn\",\"zn\",\"zn\",\"zn\",\"zn\",\"zn\",\"zn\",\"zn\",\"zn\",\"zn\",\"zn\",\"zn\",\"zn\",\"zn\",\"zn\",\"zn\",\"zn\",\"zn\",\"zn\",\"zn\",\"zn\",\"zn\",\"zn\",\"zn\",\"zn\",\"zn\",\"zn\",\"zn\",\"zn\",\"zn\",\"zn\",\"zn\",\"zn\",\"zn\",\"zn\",\"zn\",\"zn\",\"zn\",\"zn\",\"zn\",\"zn\",\"zn\",\"zn\",\"zn\",\"zn\",\"zn\",\"zn\",\"zn\",\"zn\",\"zn\",\"zn\",\"zn\",\"zn\",\"zn\",\"zn\",\"zn\",\"zn\",\"zn\",\"zn\",\"zn\",\"zn\",\"zn\",\"zn\",\"zn\",\"zn\",\"zn\",\"zn\",\"zn\",\"zn\",\"zn\",\"zn\",\"zn\",\"zn\",\"zn\",\"zn\",\"zn\",\"zn\",\"zn\",\"zn\",\"zn\",\"zn\",\"zn\",\"zn\",\"zn\",\"zn\",\"zn\",\"zn\",\"zn\",\"zn\",\"zn\",\"zn\",\"zn\",\"zn\",\"zn\",\"zn\",\"zn\",\"zn\",\"zn\",\"zn\",\"zn\",\"zn\",\"zn\",\"zn\",\"zn\",\"zn\",\"zn\",\"zn\",\"zn\",\"zn\",\"zn\",\"zn\",\"zn\",\"zn\",\"zn\",\"zn\",\"zn\",\"zn\",\"zn\",\"zn\",\"zn\",\"zn\",\"zn\",\"zn\",\"zn\",\"zn\",\"zn\",\"zn\",\"zn\",\"zn\",\"zn\",\"zn\",\"zn\",\"zn\",\"zn\",\"zn\",\"zn\",\"zn\",\"zn\",\"zn\",\"zn\",\"zn\",\"zn\",\"zn\",\"zn\",\"zn\",\"zn\",\"zn\",\"zn\",\"zn\",\"zn\",\"zn\",\"zn\",\"zn\",\"zn\",\"zn\",\"zn\",\"zn\",\"zn\",\"zn\",\"zn\",\"zn\",\"zn\",\"zn\",\"zn\",\"zn\",\"zn\",\"zn\",\"zn\",\"zn\",\"zn\",\"zn\",\"zn\",\"zn\",\"zn\",\"zn\",\"zn\",\"zn\",\"zn\",\"zn\",\"zn\",\"zn\",\"zn\",\"zn\",\"zn\",\"zn\",\"zn\",\"zn\",\"zn\",\"zn\",\"zn\",\"zn\",\"zn\",\"zn\",\"zn\",\"zn\",\"zn\",\"zn\",\"zn\",\"zn\",\"zn\",\"zn\",\"zn\",\"zn\",\"zn\",\"zn\",\"zn\",\"zn\",\"zn\",\"zn\",\"zn\",\"zn\",\"zn\",\"zn\",\"zn\",\"zn\",\"zn\",\"zn\",\"zn\",\"zn\",\"zn\",\"zn\",\"zn\",\"zn\",\"zn\",\"zn\",\"zn\",\"zn\",\"zn\",\"zn\",\"zn\",\"zn\",\"zn\",\"zn\",\"zn\",\"zn\",\"zn\",\"zn\",\"zn\",\"zn\",\"zn\",\"zn\",\"zn\",\"zn\",\"zn\",\"zn\",\"zn\",\"zn\",\"zn\",\"zn\",\"zn\",\"zn\",\"zn\",\"zn\",\"zn\",\"zn\",\"zn\",\"zn\",\"zn\",\"zn\",\"zn\",\"zn\",\"zn\",\"zn\",\"zn\",\"zn\",\"zn\",\"zn\",\"zn\",\"zn\",\"zn\",\"zn\",\"zn\",\"zn\",\"zn\",\"zn\",\"zn\",\"zn\",\"zn\",\"zn\",\"zn\",\"zn\",\"zn\",\"zn\",\"zn\",\"zn\",\"zn\",\"zn\",\"zn\",\"zn\",\"zn\",\"zn\",\"zn\",\"zn\",\"zn\",\"zn\",\"zn\",\"zn\",\"zn\",\"zn\",\"zn\",\"zn\",\"zn\",\"zn\",\"zn\",\"zn\",\"zn\",\"zn\",\"zn\",\"zn\",\"zn\",\"zn\",\"zn\",\"zn\",\"zn\",\"zn\",\"zn\",\"zn\",\"zn\",\"zn\",\"zn\",\"zn\",\"zn\",\"zn\",\"zn\",\"zn\",\"zn\",\"zn\",\"zn\",\"zn\",\"zn\",\"zn\",\"zn\",\"zn\",\"zn\",\"zn\",\"zn\",\"zn\",\"zn\",\"zn\",\"zn\",\"zn\",\"zn\",\"zn\",\"zn\",\"zn\",\"zn\",\"zn\",\"zn\",\"zn\",\"zn\",\"zn\",\"zn\",\"zn\",\"zn\",\"zn\",\"zn\",\"zn\",\"zn\",\"zn\",\"zn\",\"zn\",\"zn\",\"zn\",\"zn\",\"zn\",\"zn\",\"zn\",\"zn\",\"zn\",\"zn\",\"zn\",\"zn\",\"zn\",\"zn\",\"zn\",\"zn\",\"zn\",\"zn\",\"zn\",\"zn\",\"zn\",\"zn\",\"zn\",\"zn\",\"zn\",\"zn\",\"zn\",\"zn\",\"zn\",\"zn\",\"zn\",\"zn\",\"zn\",\"zn\",\"zn\",\"zn\",\"zn\",\"zn\",\"zn\",\"zn\",\"zn\",\"zn\",\"zn\",\"zn\",\"zn\",\"zn\",\"zn\",\"zn\",\"zn\",\"zn\",\"zn\",\"zn\",\"zn\",\"zn\",\"zn\",\"zn\",\"zn\",\"zn\",\"zn\",\"zn\",\"zn\",\"zn\",\"zn\",\"zn\",\"zn\",\"indus\",\"indus\",\"indus\",\"indus\",\"indus\",\"indus\",\"indus\",\"indus\",\"indus\",\"indus\",\"indus\",\"indus\",\"indus\",\"indus\",\"indus\",\"indus\",\"indus\",\"indus\",\"indus\",\"indus\",\"indus\",\"indus\",\"indus\",\"indus\",\"indus\",\"indus\",\"indus\",\"indus\",\"indus\",\"indus\",\"indus\",\"indus\",\"indus\",\"indus\",\"indus\",\"indus\",\"indus\",\"indus\",\"indus\",\"indus\",\"indus\",\"indus\",\"indus\",\"indus\",\"indus\",\"indus\",\"indus\",\"indus\",\"indus\",\"indus\",\"indus\",\"indus\",\"indus\",\"indus\",\"indus\",\"indus\",\"indus\",\"indus\",\"indus\",\"indus\",\"indus\",\"indus\",\"indus\",\"indus\",\"indus\",\"indus\",\"indus\",\"indus\",\"indus\",\"indus\",\"indus\",\"indus\",\"indus\",\"indus\",\"indus\",\"indus\",\"indus\",\"indus\",\"indus\",\"indus\",\"indus\",\"indus\",\"indus\",\"indus\",\"indus\",\"indus\",\"indus\",\"indus\",\"indus\",\"indus\",\"indus\",\"indus\",\"indus\",\"indus\",\"indus\",\"indus\",\"indus\",\"indus\",\"indus\",\"indus\",\"indus\",\"indus\",\"indus\",\"indus\",\"indus\",\"indus\",\"indus\",\"indus\",\"indus\",\"indus\",\"indus\",\"indus\",\"indus\",\"indus\",\"indus\",\"indus\",\"indus\",\"indus\",\"indus\",\"indus\",\"indus\",\"indus\",\"indus\",\"indus\",\"indus\",\"indus\",\"indus\",\"indus\",\"indus\",\"indus\",\"indus\",\"indus\",\"indus\",\"indus\",\"indus\",\"indus\",\"indus\",\"indus\",\"indus\",\"indus\",\"indus\",\"indus\",\"indus\",\"indus\",\"indus\",\"indus\",\"indus\",\"indus\",\"indus\",\"indus\",\"indus\",\"indus\",\"indus\",\"indus\",\"indus\",\"indus\",\"indus\",\"indus\",\"indus\",\"indus\",\"indus\",\"indus\",\"indus\",\"indus\",\"indus\",\"indus\",\"indus\",\"indus\",\"indus\",\"indus\",\"indus\",\"indus\",\"indus\",\"indus\",\"indus\",\"indus\",\"indus\",\"indus\",\"indus\",\"indus\",\"indus\",\"indus\",\"indus\",\"indus\",\"indus\",\"indus\",\"indus\",\"indus\",\"indus\",\"indus\",\"indus\",\"indus\",\"indus\",\"indus\",\"indus\",\"indus\",\"indus\",\"indus\",\"indus\",\"indus\",\"indus\",\"indus\",\"indus\",\"indus\",\"indus\",\"indus\",\"indus\",\"indus\",\"indus\",\"indus\",\"indus\",\"indus\",\"indus\",\"indus\",\"indus\",\"indus\",\"indus\",\"indus\",\"indus\",\"indus\",\"indus\",\"indus\",\"indus\",\"indus\",\"indus\",\"indus\",\"indus\",\"indus\",\"indus\",\"indus\",\"indus\",\"indus\",\"indus\",\"indus\",\"indus\",\"indus\",\"indus\",\"indus\",\"indus\",\"indus\",\"indus\",\"indus\",\"indus\",\"indus\",\"indus\",\"indus\",\"indus\",\"indus\",\"indus\",\"indus\",\"indus\",\"indus\",\"indus\",\"indus\",\"indus\",\"indus\",\"indus\",\"indus\",\"indus\",\"indus\",\"indus\",\"indus\",\"indus\",\"indus\",\"indus\",\"indus\",\"indus\",\"indus\",\"indus\",\"indus\",\"indus\",\"indus\",\"indus\",\"indus\",\"indus\",\"indus\",\"indus\",\"indus\",\"indus\",\"indus\",\"indus\",\"indus\",\"indus\",\"indus\",\"indus\",\"indus\",\"indus\",\"indus\",\"indus\",\"indus\",\"indus\",\"indus\",\"indus\",\"indus\",\"indus\",\"indus\",\"indus\",\"indus\",\"indus\",\"indus\",\"indus\",\"indus\",\"indus\",\"indus\",\"indus\",\"indus\",\"indus\",\"indus\",\"indus\",\"indus\",\"indus\",\"indus\",\"indus\",\"indus\",\"indus\",\"indus\",\"indus\",\"indus\",\"indus\",\"indus\",\"indus\",\"indus\",\"indus\",\"indus\",\"indus\",\"indus\",\"indus\",\"indus\",\"indus\",\"indus\",\"indus\",\"indus\",\"indus\",\"indus\",\"indus\",\"indus\",\"indus\",\"indus\",\"indus\",\"indus\",\"indus\",\"indus\",\"indus\",\"indus\",\"indus\",\"indus\",\"indus\",\"indus\",\"indus\",\"indus\",\"indus\",\"indus\",\"indus\",\"indus\",\"indus\",\"indus\",\"indus\",\"indus\",\"indus\",\"indus\",\"indus\",\"indus\",\"indus\",\"indus\",\"indus\",\"indus\",\"indus\",\"indus\",\"indus\",\"indus\",\"indus\",\"indus\",\"indus\",\"indus\",\"indus\",\"indus\",\"indus\",\"indus\",\"indus\",\"indus\",\"indus\",\"indus\",\"indus\",\"indus\",\"indus\",\"indus\",\"indus\",\"indus\",\"indus\",\"indus\",\"indus\",\"indus\",\"indus\",\"indus\",\"indus\",\"indus\",\"indus\",\"indus\",\"indus\",\"indus\",\"indus\",\"indus\",\"indus\",\"indus\",\"indus\",\"indus\",\"indus\",\"indus\",\"indus\",\"indus\",\"indus\",\"indus\",\"indus\",\"indus\",\"indus\",\"indus\",\"indus\",\"indus\",\"indus\",\"indus\",\"indus\",\"indus\",\"indus\",\"indus\",\"indus\",\"indus\",\"indus\",\"indus\",\"indus\",\"indus\",\"indus\",\"indus\",\"indus\",\"indus\",\"indus\",\"indus\",\"indus\",\"indus\",\"indus\",\"indus\",\"indus\",\"indus\",\"indus\",\"indus\",\"indus\",\"indus\",\"indus\",\"indus\",\"indus\",\"indus\",\"indus\",\"indus\",\"indus\",\"indus\",\"indus\",\"indus\",\"indus\",\"indus\",\"indus\",\"indus\",\"indus\",\"indus\",\"indus\",\"indus\",\"indus\",\"indus\",\"indus\",\"indus\",\"indus\",\"indus\",\"indus\",\"indus\",\"indus\",\"indus\",\"indus\",\"indus\",\"indus\",\"indus\",\"indus\",\"indus\",\"indus\",\"indus\",\"indus\",\"indus\",\"indus\",\"indus\",\"indus\",\"indus\",\"indus\",\"indus\",\"indus\",\"indus\",\"indus\",\"indus\",\"indus\",\"indus\",\"indus\",\"indus\",\"indus\",\"indus\",\"indus\",\"indus\",\"indus\",\"indus\",\"indus\",\"indus\",\"chas\",\"chas\",\"chas\",\"chas\",\"chas\",\"chas\",\"chas\",\"chas\",\"chas\",\"chas\",\"chas\",\"chas\",\"chas\",\"chas\",\"chas\",\"chas\",\"chas\",\"chas\",\"chas\",\"chas\",\"chas\",\"chas\",\"chas\",\"chas\",\"chas\",\"chas\",\"chas\",\"chas\",\"chas\",\"chas\",\"chas\",\"chas\",\"chas\",\"chas\",\"chas\",\"chas\",\"chas\",\"chas\",\"chas\",\"chas\",\"chas\",\"chas\",\"chas\",\"chas\",\"chas\",\"chas\",\"chas\",\"chas\",\"chas\",\"chas\",\"chas\",\"chas\",\"chas\",\"chas\",\"chas\",\"chas\",\"chas\",\"chas\",\"chas\",\"chas\",\"chas\",\"chas\",\"chas\",\"chas\",\"chas\",\"chas\",\"chas\",\"chas\",\"chas\",\"chas\",\"chas\",\"chas\",\"chas\",\"chas\",\"chas\",\"chas\",\"chas\",\"chas\",\"chas\",\"chas\",\"chas\",\"chas\",\"chas\",\"chas\",\"chas\",\"chas\",\"chas\",\"chas\",\"chas\",\"chas\",\"chas\",\"chas\",\"chas\",\"chas\",\"chas\",\"chas\",\"chas\",\"chas\",\"chas\",\"chas\",\"chas\",\"chas\",\"chas\",\"chas\",\"chas\",\"chas\",\"chas\",\"chas\",\"chas\",\"chas\",\"chas\",\"chas\",\"chas\",\"chas\",\"chas\",\"chas\",\"chas\",\"chas\",\"chas\",\"chas\",\"chas\",\"chas\",\"chas\",\"chas\",\"chas\",\"chas\",\"chas\",\"chas\",\"chas\",\"chas\",\"chas\",\"chas\",\"chas\",\"chas\",\"chas\",\"chas\",\"chas\",\"chas\",\"chas\",\"chas\",\"chas\",\"chas\",\"chas\",\"chas\",\"chas\",\"chas\",\"chas\",\"chas\",\"chas\",\"chas\",\"chas\",\"chas\",\"chas\",\"chas\",\"chas\",\"chas\",\"chas\",\"chas\",\"chas\",\"chas\",\"chas\",\"chas\",\"chas\",\"chas\",\"chas\",\"chas\",\"chas\",\"chas\",\"chas\",\"chas\",\"chas\",\"chas\",\"chas\",\"chas\",\"chas\",\"chas\",\"chas\",\"chas\",\"chas\",\"chas\",\"chas\",\"chas\",\"chas\",\"chas\",\"chas\",\"chas\",\"chas\",\"chas\",\"chas\",\"chas\",\"chas\",\"chas\",\"chas\",\"chas\",\"chas\",\"chas\",\"chas\",\"chas\",\"chas\",\"chas\",\"chas\",\"chas\",\"chas\",\"chas\",\"chas\",\"chas\",\"chas\",\"chas\",\"chas\",\"chas\",\"chas\",\"chas\",\"chas\",\"chas\",\"chas\",\"chas\",\"chas\",\"chas\",\"chas\",\"chas\",\"chas\",\"chas\",\"chas\",\"chas\",\"chas\",\"chas\",\"chas\",\"chas\",\"chas\",\"chas\",\"chas\",\"chas\",\"chas\",\"chas\",\"chas\",\"chas\",\"chas\",\"chas\",\"chas\",\"chas\",\"chas\",\"chas\",\"chas\",\"chas\",\"chas\",\"chas\",\"chas\",\"chas\",\"chas\",\"chas\",\"chas\",\"chas\",\"chas\",\"chas\",\"chas\",\"chas\",\"chas\",\"chas\",\"chas\",\"chas\",\"chas\",\"chas\",\"chas\",\"chas\",\"chas\",\"chas\",\"chas\",\"chas\",\"chas\",\"chas\",\"chas\",\"chas\",\"chas\",\"chas\",\"chas\",\"chas\",\"chas\",\"chas\",\"chas\",\"chas\",\"chas\",\"chas\",\"chas\",\"chas\",\"chas\",\"chas\",\"chas\",\"chas\",\"chas\",\"chas\",\"chas\",\"chas\",\"chas\",\"chas\",\"chas\",\"chas\",\"chas\",\"chas\",\"chas\",\"chas\",\"chas\",\"chas\",\"chas\",\"chas\",\"chas\",\"chas\",\"chas\",\"chas\",\"chas\",\"chas\",\"chas\",\"chas\",\"chas\",\"chas\",\"chas\",\"chas\",\"chas\",\"chas\",\"chas\",\"chas\",\"chas\",\"chas\",\"chas\",\"chas\",\"chas\",\"chas\",\"chas\",\"chas\",\"chas\",\"chas\",\"chas\",\"chas\",\"chas\",\"chas\",\"chas\",\"chas\",\"chas\",\"chas\",\"chas\",\"chas\",\"chas\",\"chas\",\"chas\",\"chas\",\"chas\",\"chas\",\"chas\",\"chas\",\"chas\",\"chas\",\"chas\",\"chas\",\"chas\",\"chas\",\"chas\",\"chas\",\"chas\",\"chas\",\"chas\",\"chas\",\"chas\",\"chas\",\"chas\",\"chas\",\"chas\",\"chas\",\"chas\",\"chas\",\"chas\",\"chas\",\"chas\",\"chas\",\"chas\",\"chas\",\"chas\",\"chas\",\"chas\",\"chas\",\"chas\",\"chas\",\"chas\",\"chas\",\"chas\",\"chas\",\"chas\",\"chas\",\"chas\",\"chas\",\"chas\",\"chas\",\"chas\",\"chas\",\"chas\",\"chas\",\"chas\",\"chas\",\"chas\",\"chas\",\"chas\",\"chas\",\"chas\",\"chas\",\"chas\",\"chas\",\"chas\",\"chas\",\"chas\",\"chas\",\"chas\",\"chas\",\"chas\",\"chas\",\"chas\",\"chas\",\"chas\",\"chas\",\"chas\",\"chas\",\"chas\",\"chas\",\"chas\",\"chas\",\"chas\",\"chas\",\"chas\",\"chas\",\"chas\",\"chas\",\"chas\",\"chas\",\"chas\",\"chas\",\"chas\",\"chas\",\"chas\",\"chas\",\"chas\",\"chas\",\"chas\",\"chas\",\"chas\",\"chas\",\"chas\",\"chas\",\"chas\",\"chas\",\"chas\",\"chas\",\"chas\",\"chas\",\"chas\",\"chas\",\"chas\",\"chas\",\"chas\",\"chas\",\"chas\",\"chas\",\"chas\",\"chas\",\"chas\",\"chas\",\"chas\",\"chas\",\"chas\",\"chas\",\"chas\",\"chas\",\"chas\",\"chas\",\"chas\",\"chas\",\"chas\",\"chas\",\"chas\",\"chas\",\"chas\",\"chas\",\"chas\",\"chas\",\"chas\",\"chas\",\"chas\",\"chas\",\"chas\",\"chas\",\"chas\",\"chas\",\"chas\",\"chas\",\"chas\",\"chas\",\"chas\",\"chas\",\"chas\",\"chas\",\"chas\",\"chas\",\"chas\",\"chas\",\"chas\",\"chas\",\"chas\",\"chas\",\"chas\",\"chas\",\"nox\",\"nox\",\"nox\",\"nox\",\"nox\",\"nox\",\"nox\",\"nox\",\"nox\",\"nox\",\"nox\",\"nox\",\"nox\",\"nox\",\"nox\",\"nox\",\"nox\",\"nox\",\"nox\",\"nox\",\"nox\",\"nox\",\"nox\",\"nox\",\"nox\",\"nox\",\"nox\",\"nox\",\"nox\",\"nox\",\"nox\",\"nox\",\"nox\",\"nox\",\"nox\",\"nox\",\"nox\",\"nox\",\"nox\",\"nox\",\"nox\",\"nox\",\"nox\",\"nox\",\"nox\",\"nox\",\"nox\",\"nox\",\"nox\",\"nox\",\"nox\",\"nox\",\"nox\",\"nox\",\"nox\",\"nox\",\"nox\",\"nox\",\"nox\",\"nox\",\"nox\",\"nox\",\"nox\",\"nox\",\"nox\",\"nox\",\"nox\",\"nox\",\"nox\",\"nox\",\"nox\",\"nox\",\"nox\",\"nox\",\"nox\",\"nox\",\"nox\",\"nox\",\"nox\",\"nox\",\"nox\",\"nox\",\"nox\",\"nox\",\"nox\",\"nox\",\"nox\",\"nox\",\"nox\",\"nox\",\"nox\",\"nox\",\"nox\",\"nox\",\"nox\",\"nox\",\"nox\",\"nox\",\"nox\",\"nox\",\"nox\",\"nox\",\"nox\",\"nox\",\"nox\",\"nox\",\"nox\",\"nox\",\"nox\",\"nox\",\"nox\",\"nox\",\"nox\",\"nox\",\"nox\",\"nox\",\"nox\",\"nox\",\"nox\",\"nox\",\"nox\",\"nox\",\"nox\",\"nox\",\"nox\",\"nox\",\"nox\",\"nox\",\"nox\",\"nox\",\"nox\",\"nox\",\"nox\",\"nox\",\"nox\",\"nox\",\"nox\",\"nox\",\"nox\",\"nox\",\"nox\",\"nox\",\"nox\",\"nox\",\"nox\",\"nox\",\"nox\",\"nox\",\"nox\",\"nox\",\"nox\",\"nox\",\"nox\",\"nox\",\"nox\",\"nox\",\"nox\",\"nox\",\"nox\",\"nox\",\"nox\",\"nox\",\"nox\",\"nox\",\"nox\",\"nox\",\"nox\",\"nox\",\"nox\",\"nox\",\"nox\",\"nox\",\"nox\",\"nox\",\"nox\",\"nox\",\"nox\",\"nox\",\"nox\",\"nox\",\"nox\",\"nox\",\"nox\",\"nox\",\"nox\",\"nox\",\"nox\",\"nox\",\"nox\",\"nox\",\"nox\",\"nox\",\"nox\",\"nox\",\"nox\",\"nox\",\"nox\",\"nox\",\"nox\",\"nox\",\"nox\",\"nox\",\"nox\",\"nox\",\"nox\",\"nox\",\"nox\",\"nox\",\"nox\",\"nox\",\"nox\",\"nox\",\"nox\",\"nox\",\"nox\",\"nox\",\"nox\",\"nox\",\"nox\",\"nox\",\"nox\",\"nox\",\"nox\",\"nox\",\"nox\",\"nox\",\"nox\",\"nox\",\"nox\",\"nox\",\"nox\",\"nox\",\"nox\",\"nox\",\"nox\",\"nox\",\"nox\",\"nox\",\"nox\",\"nox\",\"nox\",\"nox\",\"nox\",\"nox\",\"nox\",\"nox\",\"nox\",\"nox\",\"nox\",\"nox\",\"nox\",\"nox\",\"nox\",\"nox\",\"nox\",\"nox\",\"nox\",\"nox\",\"nox\",\"nox\",\"nox\",\"nox\",\"nox\",\"nox\",\"nox\",\"nox\",\"nox\",\"nox\",\"nox\",\"nox\",\"nox\",\"nox\",\"nox\",\"nox\",\"nox\",\"nox\",\"nox\",\"nox\",\"nox\",\"nox\",\"nox\",\"nox\",\"nox\",\"nox\",\"nox\",\"nox\",\"nox\",\"nox\",\"nox\",\"nox\",\"nox\",\"nox\",\"nox\",\"nox\",\"nox\",\"nox\",\"nox\",\"nox\",\"nox\",\"nox\",\"nox\",\"nox\",\"nox\",\"nox\",\"nox\",\"nox\",\"nox\",\"nox\",\"nox\",\"nox\",\"nox\",\"nox\",\"nox\",\"nox\",\"nox\",\"nox\",\"nox\",\"nox\",\"nox\",\"nox\",\"nox\",\"nox\",\"nox\",\"nox\",\"nox\",\"nox\",\"nox\",\"nox\",\"nox\",\"nox\",\"nox\",\"nox\",\"nox\",\"nox\",\"nox\",\"nox\",\"nox\",\"nox\",\"nox\",\"nox\",\"nox\",\"nox\",\"nox\",\"nox\",\"nox\",\"nox\",\"nox\",\"nox\",\"nox\",\"nox\",\"nox\",\"nox\",\"nox\",\"nox\",\"nox\",\"nox\",\"nox\",\"nox\",\"nox\",\"nox\",\"nox\",\"nox\",\"nox\",\"nox\",\"nox\",\"nox\",\"nox\",\"nox\",\"nox\",\"nox\",\"nox\",\"nox\",\"nox\",\"nox\",\"nox\",\"nox\",\"nox\",\"nox\",\"nox\",\"nox\",\"nox\",\"nox\",\"nox\",\"nox\",\"nox\",\"nox\",\"nox\",\"nox\",\"nox\",\"nox\",\"nox\",\"nox\",\"nox\",\"nox\",\"nox\",\"nox\",\"nox\",\"nox\",\"nox\",\"nox\",\"nox\",\"nox\",\"nox\",\"nox\",\"nox\",\"nox\",\"nox\",\"nox\",\"nox\",\"nox\",\"nox\",\"nox\",\"nox\",\"nox\",\"nox\",\"nox\",\"nox\",\"nox\",\"nox\",\"nox\",\"nox\",\"nox\",\"nox\",\"nox\",\"nox\",\"nox\",\"nox\",\"nox\",\"nox\",\"nox\",\"nox\",\"nox\",\"nox\",\"nox\",\"nox\",\"nox\",\"nox\",\"nox\",\"nox\",\"nox\",\"nox\",\"nox\",\"nox\",\"nox\",\"nox\",\"nox\",\"nox\",\"nox\",\"nox\",\"nox\",\"nox\",\"nox\",\"nox\",\"nox\",\"nox\",\"nox\",\"nox\",\"nox\",\"nox\",\"nox\",\"nox\",\"nox\",\"nox\",\"nox\",\"nox\",\"nox\",\"nox\",\"nox\",\"nox\",\"nox\",\"nox\",\"nox\",\"nox\",\"nox\",\"nox\",\"nox\",\"nox\",\"nox\",\"nox\",\"nox\",\"nox\",\"nox\",\"nox\",\"nox\",\"nox\",\"nox\",\"nox\",\"nox\",\"nox\",\"nox\",\"nox\",\"nox\",\"nox\",\"nox\",\"nox\",\"nox\",\"nox\",\"nox\",\"nox\",\"nox\",\"nox\",\"nox\",\"nox\",\"nox\",\"nox\",\"nox\",\"rm\",\"rm\",\"rm\",\"rm\",\"rm\",\"rm\",\"rm\",\"rm\",\"rm\",\"rm\",\"rm\",\"rm\",\"rm\",\"rm\",\"rm\",\"rm\",\"rm\",\"rm\",\"rm\",\"rm\",\"rm\",\"rm\",\"rm\",\"rm\",\"rm\",\"rm\",\"rm\",\"rm\",\"rm\",\"rm\",\"rm\",\"rm\",\"rm\",\"rm\",\"rm\",\"rm\",\"rm\",\"rm\",\"rm\",\"rm\",\"rm\",\"rm\",\"rm\",\"rm\",\"rm\",\"rm\",\"rm\",\"rm\",\"rm\",\"rm\",\"rm\",\"rm\",\"rm\",\"rm\",\"rm\",\"rm\",\"rm\",\"rm\",\"rm\",\"rm\",\"rm\",\"rm\",\"rm\",\"rm\",\"rm\",\"rm\",\"rm\",\"rm\",\"rm\",\"rm\",\"rm\",\"rm\",\"rm\",\"rm\",\"rm\",\"rm\",\"rm\",\"rm\",\"rm\",\"rm\",\"rm\",\"rm\",\"rm\",\"rm\",\"rm\",\"rm\",\"rm\",\"rm\",\"rm\",\"rm\",\"rm\",\"rm\",\"rm\",\"rm\",\"rm\",\"rm\",\"rm\",\"rm\",\"rm\",\"rm\",\"rm\",\"rm\",\"rm\",\"rm\",\"rm\",\"rm\",\"rm\",\"rm\",\"rm\",\"rm\",\"rm\",\"rm\",\"rm\",\"rm\",\"rm\",\"rm\",\"rm\",\"rm\",\"rm\",\"rm\",\"rm\",\"rm\",\"rm\",\"rm\",\"rm\",\"rm\",\"rm\",\"rm\",\"rm\",\"rm\",\"rm\",\"rm\",\"rm\",\"rm\",\"rm\",\"rm\",\"rm\",\"rm\",\"rm\",\"rm\",\"rm\",\"rm\",\"rm\",\"rm\",\"rm\",\"rm\",\"rm\",\"rm\",\"rm\",\"rm\",\"rm\",\"rm\",\"rm\",\"rm\",\"rm\",\"rm\",\"rm\",\"rm\",\"rm\",\"rm\",\"rm\",\"rm\",\"rm\",\"rm\",\"rm\",\"rm\",\"rm\",\"rm\",\"rm\",\"rm\",\"rm\",\"rm\",\"rm\",\"rm\",\"rm\",\"rm\",\"rm\",\"rm\",\"rm\",\"rm\",\"rm\",\"rm\",\"rm\",\"rm\",\"rm\",\"rm\",\"rm\",\"rm\",\"rm\",\"rm\",\"rm\",\"rm\",\"rm\",\"rm\",\"rm\",\"rm\",\"rm\",\"rm\",\"rm\",\"rm\",\"rm\",\"rm\",\"rm\",\"rm\",\"rm\",\"rm\",\"rm\",\"rm\",\"rm\",\"rm\",\"rm\",\"rm\",\"rm\",\"rm\",\"rm\",\"rm\",\"rm\",\"rm\",\"rm\",\"rm\",\"rm\",\"rm\",\"rm\",\"rm\",\"rm\",\"rm\",\"rm\",\"rm\",\"rm\",\"rm\",\"rm\",\"rm\",\"rm\",\"rm\",\"rm\",\"rm\",\"rm\",\"rm\",\"rm\",\"rm\",\"rm\",\"rm\",\"rm\",\"rm\",\"rm\",\"rm\",\"rm\",\"rm\",\"rm\",\"rm\",\"rm\",\"rm\",\"rm\",\"rm\",\"rm\",\"rm\",\"rm\",\"rm\",\"rm\",\"rm\",\"rm\",\"rm\",\"rm\",\"rm\",\"rm\",\"rm\",\"rm\",\"rm\",\"rm\",\"rm\",\"rm\",\"rm\",\"rm\",\"rm\",\"rm\",\"rm\",\"rm\",\"rm\",\"rm\",\"rm\",\"rm\",\"rm\",\"rm\",\"rm\",\"rm\",\"rm\",\"rm\",\"rm\",\"rm\",\"rm\",\"rm\",\"rm\",\"rm\",\"rm\",\"rm\",\"rm\",\"rm\",\"rm\",\"rm\",\"rm\",\"rm\",\"rm\",\"rm\",\"rm\",\"rm\",\"rm\",\"rm\",\"rm\",\"rm\",\"rm\",\"rm\",\"rm\",\"rm\",\"rm\",\"rm\",\"rm\",\"rm\",\"rm\",\"rm\",\"rm\",\"rm\",\"rm\",\"rm\",\"rm\",\"rm\",\"rm\",\"rm\",\"rm\",\"rm\",\"rm\",\"rm\",\"rm\",\"rm\",\"rm\",\"rm\",\"rm\",\"rm\",\"rm\",\"rm\",\"rm\",\"rm\",\"rm\",\"rm\",\"rm\",\"rm\",\"rm\",\"rm\",\"rm\",\"rm\",\"rm\",\"rm\",\"rm\",\"rm\",\"rm\",\"rm\",\"rm\",\"rm\",\"rm\",\"rm\",\"rm\",\"rm\",\"rm\",\"rm\",\"rm\",\"rm\",\"rm\",\"rm\",\"rm\",\"rm\",\"rm\",\"rm\",\"rm\",\"rm\",\"rm\",\"rm\",\"rm\",\"rm\",\"rm\",\"rm\",\"rm\",\"rm\",\"rm\",\"rm\",\"rm\",\"rm\",\"rm\",\"rm\",\"rm\",\"rm\",\"rm\",\"rm\",\"rm\",\"rm\",\"rm\",\"rm\",\"rm\",\"rm\",\"rm\",\"rm\",\"rm\",\"rm\",\"rm\",\"rm\",\"rm\",\"rm\",\"rm\",\"rm\",\"rm\",\"rm\",\"rm\",\"rm\",\"rm\",\"rm\",\"rm\",\"rm\",\"rm\",\"rm\",\"rm\",\"rm\",\"rm\",\"rm\",\"rm\",\"rm\",\"rm\",\"rm\",\"rm\",\"rm\",\"rm\",\"rm\",\"rm\",\"rm\",\"rm\",\"rm\",\"rm\",\"rm\",\"rm\",\"rm\",\"rm\",\"rm\",\"rm\",\"rm\",\"rm\",\"rm\",\"rm\",\"rm\",\"rm\",\"rm\",\"rm\",\"rm\",\"rm\",\"rm\",\"rm\",\"rm\",\"rm\",\"rm\",\"rm\",\"rm\",\"rm\",\"rm\",\"rm\",\"rm\",\"rm\",\"rm\",\"rm\",\"rm\",\"rm\",\"rm\",\"rm\",\"rm\",\"rm\",\"rm\",\"rm\",\"rm\",\"rm\",\"rm\",\"rm\",\"rm\",\"rm\",\"rm\",\"rm\",\"rm\",\"rm\",\"rm\",\"rm\",\"rm\",\"rm\",\"rm\",\"rm\",\"rm\",\"rm\",\"rm\",\"rm\",\"rm\",\"rm\",\"rm\",\"rm\",\"rm\",\"rm\",\"rm\",\"rm\",\"rm\",\"rm\",\"rm\",\"rm\",\"rm\",\"rm\",\"age\",\"age\",\"age\",\"age\",\"age\",\"age\",\"age\",\"age\",\"age\",\"age\",\"age\",\"age\",\"age\",\"age\",\"age\",\"age\",\"age\",\"age\",\"age\",\"age\",\"age\",\"age\",\"age\",\"age\",\"age\",\"age\",\"age\",\"age\",\"age\",\"age\",\"age\",\"age\",\"age\",\"age\",\"age\",\"age\",\"age\",\"age\",\"age\",\"age\",\"age\",\"age\",\"age\",\"age\",\"age\",\"age\",\"age\",\"age\",\"age\",\"age\",\"age\",\"age\",\"age\",\"age\",\"age\",\"age\",\"age\",\"age\",\"age\",\"age\",\"age\",\"age\",\"age\",\"age\",\"age\",\"age\",\"age\",\"age\",\"age\",\"age\",\"age\",\"age\",\"age\",\"age\",\"age\",\"age\",\"age\",\"age\",\"age\",\"age\",\"age\",\"age\",\"age\",\"age\",\"age\",\"age\",\"age\",\"age\",\"age\",\"age\",\"age\",\"age\",\"age\",\"age\",\"age\",\"age\",\"age\",\"age\",\"age\",\"age\",\"age\",\"age\",\"age\",\"age\",\"age\",\"age\",\"age\",\"age\",\"age\",\"age\",\"age\",\"age\",\"age\",\"age\",\"age\",\"age\",\"age\",\"age\",\"age\",\"age\",\"age\",\"age\",\"age\",\"age\",\"age\",\"age\",\"age\",\"age\",\"age\",\"age\",\"age\",\"age\",\"age\",\"age\",\"age\",\"age\",\"age\",\"age\",\"age\",\"age\",\"age\",\"age\",\"age\",\"age\",\"age\",\"age\",\"age\",\"age\",\"age\",\"age\",\"age\",\"age\",\"age\",\"age\",\"age\",\"age\",\"age\",\"age\",\"age\",\"age\",\"age\",\"age\",\"age\",\"age\",\"age\",\"age\",\"age\",\"age\",\"age\",\"age\",\"age\",\"age\",\"age\",\"age\",\"age\",\"age\",\"age\",\"age\",\"age\",\"age\",\"age\",\"age\",\"age\",\"age\",\"age\",\"age\",\"age\",\"age\",\"age\",\"age\",\"age\",\"age\",\"age\",\"age\",\"age\",\"age\",\"age\",\"age\",\"age\",\"age\",\"age\",\"age\",\"age\",\"age\",\"age\",\"age\",\"age\",\"age\",\"age\",\"age\",\"age\",\"age\",\"age\",\"age\",\"age\",\"age\",\"age\",\"age\",\"age\",\"age\",\"age\",\"age\",\"age\",\"age\",\"age\",\"age\",\"age\",\"age\",\"age\",\"age\",\"age\",\"age\",\"age\",\"age\",\"age\",\"age\",\"age\",\"age\",\"age\",\"age\",\"age\",\"age\",\"age\",\"age\",\"age\",\"age\",\"age\",\"age\",\"age\",\"age\",\"age\",\"age\",\"age\",\"age\",\"age\",\"age\",\"age\",\"age\",\"age\",\"age\",\"age\",\"age\",\"age\",\"age\",\"age\",\"age\",\"age\",\"age\",\"age\",\"age\",\"age\",\"age\",\"age\",\"age\",\"age\",\"age\",\"age\",\"age\",\"age\",\"age\",\"age\",\"age\",\"age\",\"age\",\"age\",\"age\",\"age\",\"age\",\"age\",\"age\",\"age\",\"age\",\"age\",\"age\",\"age\",\"age\",\"age\",\"age\",\"age\",\"age\",\"age\",\"age\",\"age\",\"age\",\"age\",\"age\",\"age\",\"age\",\"age\",\"age\",\"age\",\"age\",\"age\",\"age\",\"age\",\"age\",\"age\",\"age\",\"age\",\"age\",\"age\",\"age\",\"age\",\"age\",\"age\",\"age\",\"age\",\"age\",\"age\",\"age\",\"age\",\"age\",\"age\",\"age\",\"age\",\"age\",\"age\",\"age\",\"age\",\"age\",\"age\",\"age\",\"age\",\"age\",\"age\",\"age\",\"age\",\"age\",\"age\",\"age\",\"age\",\"age\",\"age\",\"age\",\"age\",\"age\",\"age\",\"age\",\"age\",\"age\",\"age\",\"age\",\"age\",\"age\",\"age\",\"age\",\"age\",\"age\",\"age\",\"age\",\"age\",\"age\",\"age\",\"age\",\"age\",\"age\",\"age\",\"age\",\"age\",\"age\",\"age\",\"age\",\"age\",\"age\",\"age\",\"age\",\"age\",\"age\",\"age\",\"age\",\"age\",\"age\",\"age\",\"age\",\"age\",\"age\",\"age\",\"age\",\"age\",\"age\",\"age\",\"age\",\"age\",\"age\",\"age\",\"age\",\"age\",\"age\",\"age\",\"age\",\"age\",\"age\",\"age\",\"age\",\"age\",\"age\",\"age\",\"age\",\"age\",\"age\",\"age\",\"age\",\"age\",\"age\",\"age\",\"age\",\"age\",\"age\",\"age\",\"age\",\"age\",\"age\",\"age\",\"age\",\"age\",\"age\",\"age\",\"age\",\"age\",\"age\",\"age\",\"age\",\"age\",\"age\",\"age\",\"age\",\"age\",\"age\",\"age\",\"age\",\"age\",\"age\",\"age\",\"age\",\"age\",\"age\",\"age\",\"age\",\"age\",\"age\",\"age\",\"age\",\"age\",\"age\",\"age\",\"age\",\"age\",\"age\",\"age\",\"age\",\"age\",\"age\",\"age\",\"age\",\"age\",\"age\",\"age\",\"age\",\"age\",\"age\",\"age\",\"age\",\"age\",\"age\",\"age\",\"age\",\"age\",\"age\",\"age\",\"age\",\"age\",\"age\",\"age\",\"age\",\"age\",\"age\",\"age\",\"age\",\"age\",\"age\",\"age\",\"age\",\"age\",\"age\",\"age\",\"age\",\"dis\",\"dis\",\"dis\",\"dis\",\"dis\",\"dis\",\"dis\",\"dis\",\"dis\",\"dis\",\"dis\",\"dis\",\"dis\",\"dis\",\"dis\",\"dis\",\"dis\",\"dis\",\"dis\",\"dis\",\"dis\",\"dis\",\"dis\",\"dis\",\"dis\",\"dis\",\"dis\",\"dis\",\"dis\",\"dis\",\"dis\",\"dis\",\"dis\",\"dis\",\"dis\",\"dis\",\"dis\",\"dis\",\"dis\",\"dis\",\"dis\",\"dis\",\"dis\",\"dis\",\"dis\",\"dis\",\"dis\",\"dis\",\"dis\",\"dis\",\"dis\",\"dis\",\"dis\",\"dis\",\"dis\",\"dis\",\"dis\",\"dis\",\"dis\",\"dis\",\"dis\",\"dis\",\"dis\",\"dis\",\"dis\",\"dis\",\"dis\",\"dis\",\"dis\",\"dis\",\"dis\",\"dis\",\"dis\",\"dis\",\"dis\",\"dis\",\"dis\",\"dis\",\"dis\",\"dis\",\"dis\",\"dis\",\"dis\",\"dis\",\"dis\",\"dis\",\"dis\",\"dis\",\"dis\",\"dis\",\"dis\",\"dis\",\"dis\",\"dis\",\"dis\",\"dis\",\"dis\",\"dis\",\"dis\",\"dis\",\"dis\",\"dis\",\"dis\",\"dis\",\"dis\",\"dis\",\"dis\",\"dis\",\"dis\",\"dis\",\"dis\",\"dis\",\"dis\",\"dis\",\"dis\",\"dis\",\"dis\",\"dis\",\"dis\",\"dis\",\"dis\",\"dis\",\"dis\",\"dis\",\"dis\",\"dis\",\"dis\",\"dis\",\"dis\",\"dis\",\"dis\",\"dis\",\"dis\",\"dis\",\"dis\",\"dis\",\"dis\",\"dis\",\"dis\",\"dis\",\"dis\",\"dis\",\"dis\",\"dis\",\"dis\",\"dis\",\"dis\",\"dis\",\"dis\",\"dis\",\"dis\",\"dis\",\"dis\",\"dis\",\"dis\",\"dis\",\"dis\",\"dis\",\"dis\",\"dis\",\"dis\",\"dis\",\"dis\",\"dis\",\"dis\",\"dis\",\"dis\",\"dis\",\"dis\",\"dis\",\"dis\",\"dis\",\"dis\",\"dis\",\"dis\",\"dis\",\"dis\",\"dis\",\"dis\",\"dis\",\"dis\",\"dis\",\"dis\",\"dis\",\"dis\",\"dis\",\"dis\",\"dis\",\"dis\",\"dis\",\"dis\",\"dis\",\"dis\",\"dis\",\"dis\",\"dis\",\"dis\",\"dis\",\"dis\",\"dis\",\"dis\",\"dis\",\"dis\",\"dis\",\"dis\",\"dis\",\"dis\",\"dis\",\"dis\",\"dis\",\"dis\",\"dis\",\"dis\",\"dis\",\"dis\",\"dis\",\"dis\",\"dis\",\"dis\",\"dis\",\"dis\",\"dis\",\"dis\",\"dis\",\"dis\",\"dis\",\"dis\",\"dis\",\"dis\",\"dis\",\"dis\",\"dis\",\"dis\",\"dis\",\"dis\",\"dis\",\"dis\",\"dis\",\"dis\",\"dis\",\"dis\",\"dis\",\"dis\",\"dis\",\"dis\",\"dis\",\"dis\",\"dis\",\"dis\",\"dis\",\"dis\",\"dis\",\"dis\",\"dis\",\"dis\",\"dis\",\"dis\",\"dis\",\"dis\",\"dis\",\"dis\",\"dis\",\"dis\",\"dis\",\"dis\",\"dis\",\"dis\",\"dis\",\"dis\",\"dis\",\"dis\",\"dis\",\"dis\",\"dis\",\"dis\",\"dis\",\"dis\",\"dis\",\"dis\",\"dis\",\"dis\",\"dis\",\"dis\",\"dis\",\"dis\",\"dis\",\"dis\",\"dis\",\"dis\",\"dis\",\"dis\",\"dis\",\"dis\",\"dis\",\"dis\",\"dis\",\"dis\",\"dis\",\"dis\",\"dis\",\"dis\",\"dis\",\"dis\",\"dis\",\"dis\",\"dis\",\"dis\",\"dis\",\"dis\",\"dis\",\"dis\",\"dis\",\"dis\",\"dis\",\"dis\",\"dis\",\"dis\",\"dis\",\"dis\",\"dis\",\"dis\",\"dis\",\"dis\",\"dis\",\"dis\",\"dis\",\"dis\",\"dis\",\"dis\",\"dis\",\"dis\",\"dis\",\"dis\",\"dis\",\"dis\",\"dis\",\"dis\",\"dis\",\"dis\",\"dis\",\"dis\",\"dis\",\"dis\",\"dis\",\"dis\",\"dis\",\"dis\",\"dis\",\"dis\",\"dis\",\"dis\",\"dis\",\"dis\",\"dis\",\"dis\",\"dis\",\"dis\",\"dis\",\"dis\",\"dis\",\"dis\",\"dis\",\"dis\",\"dis\",\"dis\",\"dis\",\"dis\",\"dis\",\"dis\",\"dis\",\"dis\",\"dis\",\"dis\",\"dis\",\"dis\",\"dis\",\"dis\",\"dis\",\"dis\",\"dis\",\"dis\",\"dis\",\"dis\",\"dis\",\"dis\",\"dis\",\"dis\",\"dis\",\"dis\",\"dis\",\"dis\",\"dis\",\"dis\",\"dis\",\"dis\",\"dis\",\"dis\",\"dis\",\"dis\",\"dis\",\"dis\",\"dis\",\"dis\",\"dis\",\"dis\",\"dis\",\"dis\",\"dis\",\"dis\",\"dis\",\"dis\",\"dis\",\"dis\",\"dis\",\"dis\",\"dis\",\"dis\",\"dis\",\"dis\",\"dis\",\"dis\",\"dis\",\"dis\",\"dis\",\"dis\",\"dis\",\"dis\",\"dis\",\"dis\",\"dis\",\"dis\",\"dis\",\"dis\",\"dis\",\"dis\",\"dis\",\"dis\",\"dis\",\"dis\",\"dis\",\"dis\",\"dis\",\"dis\",\"dis\",\"dis\",\"dis\",\"dis\",\"dis\",\"dis\",\"dis\",\"dis\",\"dis\",\"dis\",\"dis\",\"dis\",\"dis\",\"dis\",\"dis\",\"dis\",\"dis\",\"dis\",\"dis\",\"dis\",\"dis\",\"dis\",\"dis\",\"dis\",\"dis\",\"dis\",\"dis\",\"dis\",\"dis\",\"dis\",\"dis\",\"dis\",\"dis\",\"dis\",\"dis\",\"dis\",\"dis\",\"dis\",\"dis\",\"dis\",\"dis\",\"dis\",\"dis\",\"dis\",\"dis\",\"dis\",\"dis\",\"dis\",\"dis\",\"dis\",\"dis\",\"dis\",\"dis\",\"dis\",\"dis\",\"dis\",\"dis\",\"dis\",\"dis\",\"dis\",\"dis\",\"dis\",\"dis\",\"rad\",\"rad\",\"rad\",\"rad\",\"rad\",\"rad\",\"rad\",\"rad\",\"rad\",\"rad\",\"rad\",\"rad\",\"rad\",\"rad\",\"rad\",\"rad\",\"rad\",\"rad\",\"rad\",\"rad\",\"rad\",\"rad\",\"rad\",\"rad\",\"rad\",\"rad\",\"rad\",\"rad\",\"rad\",\"rad\",\"rad\",\"rad\",\"rad\",\"rad\",\"rad\",\"rad\",\"rad\",\"rad\",\"rad\",\"rad\",\"rad\",\"rad\",\"rad\",\"rad\",\"rad\",\"rad\",\"rad\",\"rad\",\"rad\",\"rad\",\"rad\",\"rad\",\"rad\",\"rad\",\"rad\",\"rad\",\"rad\",\"rad\",\"rad\",\"rad\",\"rad\",\"rad\",\"rad\",\"rad\",\"rad\",\"rad\",\"rad\",\"rad\",\"rad\",\"rad\",\"rad\",\"rad\",\"rad\",\"rad\",\"rad\",\"rad\",\"rad\",\"rad\",\"rad\",\"rad\",\"rad\",\"rad\",\"rad\",\"rad\",\"rad\",\"rad\",\"rad\",\"rad\",\"rad\",\"rad\",\"rad\",\"rad\",\"rad\",\"rad\",\"rad\",\"rad\",\"rad\",\"rad\",\"rad\",\"rad\",\"rad\",\"rad\",\"rad\",\"rad\",\"rad\",\"rad\",\"rad\",\"rad\",\"rad\",\"rad\",\"rad\",\"rad\",\"rad\",\"rad\",\"rad\",\"rad\",\"rad\",\"rad\",\"rad\",\"rad\",\"rad\",\"rad\",\"rad\",\"rad\",\"rad\",\"rad\",\"rad\",\"rad\",\"rad\",\"rad\",\"rad\",\"rad\",\"rad\",\"rad\",\"rad\",\"rad\",\"rad\",\"rad\",\"rad\",\"rad\",\"rad\",\"rad\",\"rad\",\"rad\",\"rad\",\"rad\",\"rad\",\"rad\",\"rad\",\"rad\",\"rad\",\"rad\",\"rad\",\"rad\",\"rad\",\"rad\",\"rad\",\"rad\",\"rad\",\"rad\",\"rad\",\"rad\",\"rad\",\"rad\",\"rad\",\"rad\",\"rad\",\"rad\",\"rad\",\"rad\",\"rad\",\"rad\",\"rad\",\"rad\",\"rad\",\"rad\",\"rad\",\"rad\",\"rad\",\"rad\",\"rad\",\"rad\",\"rad\",\"rad\",\"rad\",\"rad\",\"rad\",\"rad\",\"rad\",\"rad\",\"rad\",\"rad\",\"rad\",\"rad\",\"rad\",\"rad\",\"rad\",\"rad\",\"rad\",\"rad\",\"rad\",\"rad\",\"rad\",\"rad\",\"rad\",\"rad\",\"rad\",\"rad\",\"rad\",\"rad\",\"rad\",\"rad\",\"rad\",\"rad\",\"rad\",\"rad\",\"rad\",\"rad\",\"rad\",\"rad\",\"rad\",\"rad\",\"rad\",\"rad\",\"rad\",\"rad\",\"rad\",\"rad\",\"rad\",\"rad\",\"rad\",\"rad\",\"rad\",\"rad\",\"rad\",\"rad\",\"rad\",\"rad\",\"rad\",\"rad\",\"rad\",\"rad\",\"rad\",\"rad\",\"rad\",\"rad\",\"rad\",\"rad\",\"rad\",\"rad\",\"rad\",\"rad\",\"rad\",\"rad\",\"rad\",\"rad\",\"rad\",\"rad\",\"rad\",\"rad\",\"rad\",\"rad\",\"rad\",\"rad\",\"rad\",\"rad\",\"rad\",\"rad\",\"rad\",\"rad\",\"rad\",\"rad\",\"rad\",\"rad\",\"rad\",\"rad\",\"rad\",\"rad\",\"rad\",\"rad\",\"rad\",\"rad\",\"rad\",\"rad\",\"rad\",\"rad\",\"rad\",\"rad\",\"rad\",\"rad\",\"rad\",\"rad\",\"rad\",\"rad\",\"rad\",\"rad\",\"rad\",\"rad\",\"rad\",\"rad\",\"rad\",\"rad\",\"rad\",\"rad\",\"rad\",\"rad\",\"rad\",\"rad\",\"rad\",\"rad\",\"rad\",\"rad\",\"rad\",\"rad\",\"rad\",\"rad\",\"rad\",\"rad\",\"rad\",\"rad\",\"rad\",\"rad\",\"rad\",\"rad\",\"rad\",\"rad\",\"rad\",\"rad\",\"rad\",\"rad\",\"rad\",\"rad\",\"rad\",\"rad\",\"rad\",\"rad\",\"rad\",\"rad\",\"rad\",\"rad\",\"rad\",\"rad\",\"rad\",\"rad\",\"rad\",\"rad\",\"rad\",\"rad\",\"rad\",\"rad\",\"rad\",\"rad\",\"rad\",\"rad\",\"rad\",\"rad\",\"rad\",\"rad\",\"rad\",\"rad\",\"rad\",\"rad\",\"rad\",\"rad\",\"rad\",\"rad\",\"rad\",\"rad\",\"rad\",\"rad\",\"rad\",\"rad\",\"rad\",\"rad\",\"rad\",\"rad\",\"rad\",\"rad\",\"rad\",\"rad\",\"rad\",\"rad\",\"rad\",\"rad\",\"rad\",\"rad\",\"rad\",\"rad\",\"rad\",\"rad\",\"rad\",\"rad\",\"rad\",\"rad\",\"rad\",\"rad\",\"rad\",\"rad\",\"rad\",\"rad\",\"rad\",\"rad\",\"rad\",\"rad\",\"rad\",\"rad\",\"rad\",\"rad\",\"rad\",\"rad\",\"rad\",\"rad\",\"rad\",\"rad\",\"rad\",\"rad\",\"rad\",\"rad\",\"rad\",\"rad\",\"rad\",\"rad\",\"rad\",\"rad\",\"rad\",\"rad\",\"rad\",\"rad\",\"rad\",\"rad\",\"rad\",\"rad\",\"rad\",\"rad\",\"rad\",\"rad\",\"rad\",\"rad\",\"rad\",\"rad\",\"rad\",\"rad\",\"rad\",\"rad\",\"rad\",\"rad\",\"rad\",\"rad\",\"rad\",\"rad\",\"rad\",\"rad\",\"rad\",\"rad\",\"rad\",\"rad\",\"rad\",\"rad\",\"rad\",\"rad\",\"rad\",\"rad\",\"rad\",\"rad\",\"rad\",\"rad\",\"rad\",\"rad\",\"rad\",\"rad\",\"rad\",\"rad\",\"rad\",\"rad\",\"rad\",\"rad\",\"rad\",\"rad\",\"rad\",\"rad\",\"rad\",\"rad\",\"rad\",\"rad\",\"rad\",\"rad\",\"rad\",\"rad\",\"rad\",\"rad\",\"rad\",\"rad\",\"rad\",\"rad\",\"rad\",\"rad\",\"rad\",\"rad\",\"rad\",\"rad\",\"rad\",\"rad\",\"rad\",\"rad\",\"rad\",\"rad\",\"tax\",\"tax\",\"tax\",\"tax\",\"tax\",\"tax\",\"tax\",\"tax\",\"tax\",\"tax\",\"tax\",\"tax\",\"tax\",\"tax\",\"tax\",\"tax\",\"tax\",\"tax\",\"tax\",\"tax\",\"tax\",\"tax\",\"tax\",\"tax\",\"tax\",\"tax\",\"tax\",\"tax\",\"tax\",\"tax\",\"tax\",\"tax\",\"tax\",\"tax\",\"tax\",\"tax\",\"tax\",\"tax\",\"tax\",\"tax\",\"tax\",\"tax\",\"tax\",\"tax\",\"tax\",\"tax\",\"tax\",\"tax\",\"tax\",\"tax\",\"tax\",\"tax\",\"tax\",\"tax\",\"tax\",\"tax\",\"tax\",\"tax\",\"tax\",\"tax\",\"tax\",\"tax\",\"tax\",\"tax\",\"tax\",\"tax\",\"tax\",\"tax\",\"tax\",\"tax\",\"tax\",\"tax\",\"tax\",\"tax\",\"tax\",\"tax\",\"tax\",\"tax\",\"tax\",\"tax\",\"tax\",\"tax\",\"tax\",\"tax\",\"tax\",\"tax\",\"tax\",\"tax\",\"tax\",\"tax\",\"tax\",\"tax\",\"tax\",\"tax\",\"tax\",\"tax\",\"tax\",\"tax\",\"tax\",\"tax\",\"tax\",\"tax\",\"tax\",\"tax\",\"tax\",\"tax\",\"tax\",\"tax\",\"tax\",\"tax\",\"tax\",\"tax\",\"tax\",\"tax\",\"tax\",\"tax\",\"tax\",\"tax\",\"tax\",\"tax\",\"tax\",\"tax\",\"tax\",\"tax\",\"tax\",\"tax\",\"tax\",\"tax\",\"tax\",\"tax\",\"tax\",\"tax\",\"tax\",\"tax\",\"tax\",\"tax\",\"tax\",\"tax\",\"tax\",\"tax\",\"tax\",\"tax\",\"tax\",\"tax\",\"tax\",\"tax\",\"tax\",\"tax\",\"tax\",\"tax\",\"tax\",\"tax\",\"tax\",\"tax\",\"tax\",\"tax\",\"tax\",\"tax\",\"tax\",\"tax\",\"tax\",\"tax\",\"tax\",\"tax\",\"tax\",\"tax\",\"tax\",\"tax\",\"tax\",\"tax\",\"tax\",\"tax\",\"tax\",\"tax\",\"tax\",\"tax\",\"tax\",\"tax\",\"tax\",\"tax\",\"tax\",\"tax\",\"tax\",\"tax\",\"tax\",\"tax\",\"tax\",\"tax\",\"tax\",\"tax\",\"tax\",\"tax\",\"tax\",\"tax\",\"tax\",\"tax\",\"tax\",\"tax\",\"tax\",\"tax\",\"tax\",\"tax\",\"tax\",\"tax\",\"tax\",\"tax\",\"tax\",\"tax\",\"tax\",\"tax\",\"tax\",\"tax\",\"tax\",\"tax\",\"tax\",\"tax\",\"tax\",\"tax\",\"tax\",\"tax\",\"tax\",\"tax\",\"tax\",\"tax\",\"tax\",\"tax\",\"tax\",\"tax\",\"tax\",\"tax\",\"tax\",\"tax\",\"tax\",\"tax\",\"tax\",\"tax\",\"tax\",\"tax\",\"tax\",\"tax\",\"tax\",\"tax\",\"tax\",\"tax\",\"tax\",\"tax\",\"tax\",\"tax\",\"tax\",\"tax\",\"tax\",\"tax\",\"tax\",\"tax\",\"tax\",\"tax\",\"tax\",\"tax\",\"tax\",\"tax\",\"tax\",\"tax\",\"tax\",\"tax\",\"tax\",\"tax\",\"tax\",\"tax\",\"tax\",\"tax\",\"tax\",\"tax\",\"tax\",\"tax\",\"tax\",\"tax\",\"tax\",\"tax\",\"tax\",\"tax\",\"tax\",\"tax\",\"tax\",\"tax\",\"tax\",\"tax\",\"tax\",\"tax\",\"tax\",\"tax\",\"tax\",\"tax\",\"tax\",\"tax\",\"tax\",\"tax\",\"tax\",\"tax\",\"tax\",\"tax\",\"tax\",\"tax\",\"tax\",\"tax\",\"tax\",\"tax\",\"tax\",\"tax\",\"tax\",\"tax\",\"tax\",\"tax\",\"tax\",\"tax\",\"tax\",\"tax\",\"tax\",\"tax\",\"tax\",\"tax\",\"tax\",\"tax\",\"tax\",\"tax\",\"tax\",\"tax\",\"tax\",\"tax\",\"tax\",\"tax\",\"tax\",\"tax\",\"tax\",\"tax\",\"tax\",\"tax\",\"tax\",\"tax\",\"tax\",\"tax\",\"tax\",\"tax\",\"tax\",\"tax\",\"tax\",\"tax\",\"tax\",\"tax\",\"tax\",\"tax\",\"tax\",\"tax\",\"tax\",\"tax\",\"tax\",\"tax\",\"tax\",\"tax\",\"tax\",\"tax\",\"tax\",\"tax\",\"tax\",\"tax\",\"tax\",\"tax\",\"tax\",\"tax\",\"tax\",\"tax\",\"tax\",\"tax\",\"tax\",\"tax\",\"tax\",\"tax\",\"tax\",\"tax\",\"tax\",\"tax\",\"tax\",\"tax\",\"tax\",\"tax\",\"tax\",\"tax\",\"tax\",\"tax\",\"tax\",\"tax\",\"tax\",\"tax\",\"tax\",\"tax\",\"tax\",\"tax\",\"tax\",\"tax\",\"tax\",\"tax\",\"tax\",\"tax\",\"tax\",\"tax\",\"tax\",\"tax\",\"tax\",\"tax\",\"tax\",\"tax\",\"tax\",\"tax\",\"tax\",\"tax\",\"tax\",\"tax\",\"tax\",\"tax\",\"tax\",\"tax\",\"tax\",\"tax\",\"tax\",\"tax\",\"tax\",\"tax\",\"tax\",\"tax\",\"tax\",\"tax\",\"tax\",\"tax\",\"tax\",\"tax\",\"tax\",\"tax\",\"tax\",\"tax\",\"tax\",\"tax\",\"tax\",\"tax\",\"tax\",\"tax\",\"tax\",\"tax\",\"tax\",\"tax\",\"tax\",\"tax\",\"tax\",\"tax\",\"tax\",\"tax\",\"tax\",\"tax\",\"tax\",\"tax\",\"tax\",\"tax\",\"tax\",\"tax\",\"tax\",\"tax\",\"tax\",\"tax\",\"tax\",\"tax\",\"tax\",\"tax\",\"tax\",\"tax\",\"tax\",\"tax\",\"tax\",\"tax\",\"tax\",\"tax\",\"tax\",\"tax\",\"tax\",\"tax\",\"tax\",\"tax\",\"tax\",\"tax\",\"tax\",\"tax\",\"tax\",\"tax\",\"tax\",\"tax\",\"tax\",\"tax\",\"tax\",\"tax\",\"tax\",\"tax\",\"tax\",\"tax\",\"tax\",\"tax\",\"tax\",\"tax\",\"tax\",\"tax\",\"ptratio\",\"ptratio\",\"ptratio\",\"ptratio\",\"ptratio\",\"ptratio\",\"ptratio\",\"ptratio\",\"ptratio\",\"ptratio\",\"ptratio\",\"ptratio\",\"ptratio\",\"ptratio\",\"ptratio\",\"ptratio\",\"ptratio\",\"ptratio\",\"ptratio\",\"ptratio\",\"ptratio\",\"ptratio\",\"ptratio\",\"ptratio\",\"ptratio\",\"ptratio\",\"ptratio\",\"ptratio\",\"ptratio\",\"ptratio\",\"ptratio\",\"ptratio\",\"ptratio\",\"ptratio\",\"ptratio\",\"ptratio\",\"ptratio\",\"ptratio\",\"ptratio\",\"ptratio\",\"ptratio\",\"ptratio\",\"ptratio\",\"ptratio\",\"ptratio\",\"ptratio\",\"ptratio\",\"ptratio\",\"ptratio\",\"ptratio\",\"ptratio\",\"ptratio\",\"ptratio\",\"ptratio\",\"ptratio\",\"ptratio\",\"ptratio\",\"ptratio\",\"ptratio\",\"ptratio\",\"ptratio\",\"ptratio\",\"ptratio\",\"ptratio\",\"ptratio\",\"ptratio\",\"ptratio\",\"ptratio\",\"ptratio\",\"ptratio\",\"ptratio\",\"ptratio\",\"ptratio\",\"ptratio\",\"ptratio\",\"ptratio\",\"ptratio\",\"ptratio\",\"ptratio\",\"ptratio\",\"ptratio\",\"ptratio\",\"ptratio\",\"ptratio\",\"ptratio\",\"ptratio\",\"ptratio\",\"ptratio\",\"ptratio\",\"ptratio\",\"ptratio\",\"ptratio\",\"ptratio\",\"ptratio\",\"ptratio\",\"ptratio\",\"ptratio\",\"ptratio\",\"ptratio\",\"ptratio\",\"ptratio\",\"ptratio\",\"ptratio\",\"ptratio\",\"ptratio\",\"ptratio\",\"ptratio\",\"ptratio\",\"ptratio\",\"ptratio\",\"ptratio\",\"ptratio\",\"ptratio\",\"ptratio\",\"ptratio\",\"ptratio\",\"ptratio\",\"ptratio\",\"ptratio\",\"ptratio\",\"ptratio\",\"ptratio\",\"ptratio\",\"ptratio\",\"ptratio\",\"ptratio\",\"ptratio\",\"ptratio\",\"ptratio\",\"ptratio\",\"ptratio\",\"ptratio\",\"ptratio\",\"ptratio\",\"ptratio\",\"ptratio\",\"ptratio\",\"ptratio\",\"ptratio\",\"ptratio\",\"ptratio\",\"ptratio\",\"ptratio\",\"ptratio\",\"ptratio\",\"ptratio\",\"ptratio\",\"ptratio\",\"ptratio\",\"ptratio\",\"ptratio\",\"ptratio\",\"ptratio\",\"ptratio\",\"ptratio\",\"ptratio\",\"ptratio\",\"ptratio\",\"ptratio\",\"ptratio\",\"ptratio\",\"ptratio\",\"ptratio\",\"ptratio\",\"ptratio\",\"ptratio\",\"ptratio\",\"ptratio\",\"ptratio\",\"ptratio\",\"ptratio\",\"ptratio\",\"ptratio\",\"ptratio\",\"ptratio\",\"ptratio\",\"ptratio\",\"ptratio\",\"ptratio\",\"ptratio\",\"ptratio\",\"ptratio\",\"ptratio\",\"ptratio\",\"ptratio\",\"ptratio\",\"ptratio\",\"ptratio\",\"ptratio\",\"ptratio\",\"ptratio\",\"ptratio\",\"ptratio\",\"ptratio\",\"ptratio\",\"ptratio\",\"ptratio\",\"ptratio\",\"ptratio\",\"ptratio\",\"ptratio\",\"ptratio\",\"ptratio\",\"ptratio\",\"ptratio\",\"ptratio\",\"ptratio\",\"ptratio\",\"ptratio\",\"ptratio\",\"ptratio\",\"ptratio\",\"ptratio\",\"ptratio\",\"ptratio\",\"ptratio\",\"ptratio\",\"ptratio\",\"ptratio\",\"ptratio\",\"ptratio\",\"ptratio\",\"ptratio\",\"ptratio\",\"ptratio\",\"ptratio\",\"ptratio\",\"ptratio\",\"ptratio\",\"ptratio\",\"ptratio\",\"ptratio\",\"ptratio\",\"ptratio\",\"ptratio\",\"ptratio\",\"ptratio\",\"ptratio\",\"ptratio\",\"ptratio\",\"ptratio\",\"ptratio\",\"ptratio\",\"ptratio\",\"ptratio\",\"ptratio\",\"ptratio\",\"ptratio\",\"ptratio\",\"ptratio\",\"ptratio\",\"ptratio\",\"ptratio\",\"ptratio\",\"ptratio\",\"ptratio\",\"ptratio\",\"ptratio\",\"ptratio\",\"ptratio\",\"ptratio\",\"ptratio\",\"ptratio\",\"ptratio\",\"ptratio\",\"ptratio\",\"ptratio\",\"ptratio\",\"ptratio\",\"ptratio\",\"ptratio\",\"ptratio\",\"ptratio\",\"ptratio\",\"ptratio\",\"ptratio\",\"ptratio\",\"ptratio\",\"ptratio\",\"ptratio\",\"ptratio\",\"ptratio\",\"ptratio\",\"ptratio\",\"ptratio\",\"ptratio\",\"ptratio\",\"ptratio\",\"ptratio\",\"ptratio\",\"ptratio\",\"ptratio\",\"ptratio\",\"ptratio\",\"ptratio\",\"ptratio\",\"ptratio\",\"ptratio\",\"ptratio\",\"ptratio\",\"ptratio\",\"ptratio\",\"ptratio\",\"ptratio\",\"ptratio\",\"ptratio\",\"ptratio\",\"ptratio\",\"ptratio\",\"ptratio\",\"ptratio\",\"ptratio\",\"ptratio\",\"ptratio\",\"ptratio\",\"ptratio\",\"ptratio\",\"ptratio\",\"ptratio\",\"ptratio\",\"ptratio\",\"ptratio\",\"ptratio\",\"ptratio\",\"ptratio\",\"ptratio\",\"ptratio\",\"ptratio\",\"ptratio\",\"ptratio\",\"ptratio\",\"ptratio\",\"ptratio\",\"ptratio\",\"ptratio\",\"ptratio\",\"ptratio\",\"ptratio\",\"ptratio\",\"ptratio\",\"ptratio\",\"ptratio\",\"ptratio\",\"ptratio\",\"ptratio\",\"ptratio\",\"ptratio\",\"ptratio\",\"ptratio\",\"ptratio\",\"ptratio\",\"ptratio\",\"ptratio\",\"ptratio\",\"ptratio\",\"ptratio\",\"ptratio\",\"ptratio\",\"ptratio\",\"ptratio\",\"ptratio\",\"ptratio\",\"ptratio\",\"ptratio\",\"ptratio\",\"ptratio\",\"ptratio\",\"ptratio\",\"ptratio\",\"ptratio\",\"ptratio\",\"ptratio\",\"ptratio\",\"ptratio\",\"ptratio\",\"ptratio\",\"ptratio\",\"ptratio\",\"ptratio\",\"ptratio\",\"ptratio\",\"ptratio\",\"ptratio\",\"ptratio\",\"ptratio\",\"ptratio\",\"ptratio\",\"ptratio\",\"ptratio\",\"ptratio\",\"ptratio\",\"ptratio\",\"ptratio\",\"ptratio\",\"ptratio\",\"ptratio\",\"ptratio\",\"ptratio\",\"ptratio\",\"ptratio\",\"ptratio\",\"ptratio\",\"ptratio\",\"ptratio\",\"ptratio\",\"ptratio\",\"ptratio\",\"ptratio\",\"ptratio\",\"ptratio\",\"ptratio\",\"ptratio\",\"ptratio\",\"ptratio\",\"ptratio\",\"ptratio\",\"ptratio\",\"ptratio\",\"ptratio\",\"ptratio\",\"ptratio\",\"ptratio\",\"ptratio\",\"ptratio\",\"ptratio\",\"ptratio\",\"ptratio\",\"ptratio\",\"ptratio\",\"ptratio\",\"ptratio\",\"ptratio\",\"ptratio\",\"ptratio\",\"ptratio\",\"ptratio\",\"ptratio\",\"ptratio\",\"ptratio\",\"ptratio\",\"ptratio\",\"ptratio\",\"ptratio\",\"ptratio\",\"ptratio\",\"ptratio\",\"ptratio\",\"ptratio\",\"ptratio\",\"ptratio\",\"ptratio\",\"ptratio\",\"ptratio\",\"ptratio\",\"ptratio\",\"ptratio\",\"ptratio\",\"ptratio\",\"ptratio\",\"ptratio\",\"ptratio\",\"ptratio\",\"ptratio\",\"ptratio\",\"ptratio\",\"ptratio\",\"ptratio\",\"ptratio\",\"ptratio\",\"ptratio\",\"ptratio\",\"ptratio\",\"ptratio\",\"ptratio\",\"ptratio\",\"ptratio\",\"ptratio\",\"ptratio\",\"ptratio\",\"ptratio\",\"ptratio\",\"ptratio\",\"ptratio\",\"ptratio\",\"ptratio\",\"ptratio\",\"ptratio\",\"ptratio\",\"ptratio\",\"ptratio\",\"ptratio\",\"ptratio\",\"ptratio\",\"ptratio\",\"ptratio\",\"ptratio\",\"ptratio\",\"ptratio\",\"ptratio\",\"ptratio\",\"ptratio\",\"ptratio\",\"ptratio\",\"ptratio\",\"ptratio\",\"ptratio\",\"black\",\"black\",\"black\",\"black\",\"black\",\"black\",\"black\",\"black\",\"black\",\"black\",\"black\",\"black\",\"black\",\"black\",\"black\",\"black\",\"black\",\"black\",\"black\",\"black\",\"black\",\"black\",\"black\",\"black\",\"black\",\"black\",\"black\",\"black\",\"black\",\"black\",\"black\",\"black\",\"black\",\"black\",\"black\",\"black\",\"black\",\"black\",\"black\",\"black\",\"black\",\"black\",\"black\",\"black\",\"black\",\"black\",\"black\",\"black\",\"black\",\"black\",\"black\",\"black\",\"black\",\"black\",\"black\",\"black\",\"black\",\"black\",\"black\",\"black\",\"black\",\"black\",\"black\",\"black\",\"black\",\"black\",\"black\",\"black\",\"black\",\"black\",\"black\",\"black\",\"black\",\"black\",\"black\",\"black\",\"black\",\"black\",\"black\",\"black\",\"black\",\"black\",\"black\",\"black\",\"black\",\"black\",\"black\",\"black\",\"black\",\"black\",\"black\",\"black\",\"black\",\"black\",\"black\",\"black\",\"black\",\"black\",\"black\",\"black\",\"black\",\"black\",\"black\",\"black\",\"black\",\"black\",\"black\",\"black\",\"black\",\"black\",\"black\",\"black\",\"black\",\"black\",\"black\",\"black\",\"black\",\"black\",\"black\",\"black\",\"black\",\"black\",\"black\",\"black\",\"black\",\"black\",\"black\",\"black\",\"black\",\"black\",\"black\",\"black\",\"black\",\"black\",\"black\",\"black\",\"black\",\"black\",\"black\",\"black\",\"black\",\"black\",\"black\",\"black\",\"black\",\"black\",\"black\",\"black\",\"black\",\"black\",\"black\",\"black\",\"black\",\"black\",\"black\",\"black\",\"black\",\"black\",\"black\",\"black\",\"black\",\"black\",\"black\",\"black\",\"black\",\"black\",\"black\",\"black\",\"black\",\"black\",\"black\",\"black\",\"black\",\"black\",\"black\",\"black\",\"black\",\"black\",\"black\",\"black\",\"black\",\"black\",\"black\",\"black\",\"black\",\"black\",\"black\",\"black\",\"black\",\"black\",\"black\",\"black\",\"black\",\"black\",\"black\",\"black\",\"black\",\"black\",\"black\",\"black\",\"black\",\"black\",\"black\",\"black\",\"black\",\"black\",\"black\",\"black\",\"black\",\"black\",\"black\",\"black\",\"black\",\"black\",\"black\",\"black\",\"black\",\"black\",\"black\",\"black\",\"black\",\"black\",\"black\",\"black\",\"black\",\"black\",\"black\",\"black\",\"black\",\"black\",\"black\",\"black\",\"black\",\"black\",\"black\",\"black\",\"black\",\"black\",\"black\",\"black\",\"black\",\"black\",\"black\",\"black\",\"black\",\"black\",\"black\",\"black\",\"black\",\"black\",\"black\",\"black\",\"black\",\"black\",\"black\",\"black\",\"black\",\"black\",\"black\",\"black\",\"black\",\"black\",\"black\",\"black\",\"black\",\"black\",\"black\",\"black\",\"black\",\"black\",\"black\",\"black\",\"black\",\"black\",\"black\",\"black\",\"black\",\"black\",\"black\",\"black\",\"black\",\"black\",\"black\",\"black\",\"black\",\"black\",\"black\",\"black\",\"black\",\"black\",\"black\",\"black\",\"black\",\"black\",\"black\",\"black\",\"black\",\"black\",\"black\",\"black\",\"black\",\"black\",\"black\",\"black\",\"black\",\"black\",\"black\",\"black\",\"black\",\"black\",\"black\",\"black\",\"black\",\"black\",\"black\",\"black\",\"black\",\"black\",\"black\",\"black\",\"black\",\"black\",\"black\",\"black\",\"black\",\"black\",\"black\",\"black\",\"black\",\"black\",\"black\",\"black\",\"black\",\"black\",\"black\",\"black\",\"black\",\"black\",\"black\",\"black\",\"black\",\"black\",\"black\",\"black\",\"black\",\"black\",\"black\",\"black\",\"black\",\"black\",\"black\",\"black\",\"black\",\"black\",\"black\",\"black\",\"black\",\"black\",\"black\",\"black\",\"black\",\"black\",\"black\",\"black\",\"black\",\"black\",\"black\",\"black\",\"black\",\"black\",\"black\",\"black\",\"black\",\"black\",\"black\",\"black\",\"black\",\"black\",\"black\",\"black\",\"black\",\"black\",\"black\",\"black\",\"black\",\"black\",\"black\",\"black\",\"black\",\"black\",\"black\",\"black\",\"black\",\"black\",\"black\",\"black\",\"black\",\"black\",\"black\",\"black\",\"black\",\"black\",\"black\",\"black\",\"black\",\"black\",\"black\",\"black\",\"black\",\"black\",\"black\",\"black\",\"black\",\"black\",\"black\",\"black\",\"black\",\"black\",\"black\",\"black\",\"black\",\"black\",\"black\",\"black\",\"black\",\"black\",\"black\",\"black\",\"black\",\"black\",\"black\",\"black\",\"black\",\"black\",\"black\",\"black\",\"black\",\"black\",\"black\",\"black\",\"black\",\"black\",\"black\",\"black\",\"black\",\"black\",\"black\",\"black\",\"black\",\"black\",\"black\",\"black\",\"black\",\"black\",\"black\",\"black\",\"black\",\"black\",\"black\",\"black\",\"black\",\"black\",\"black\",\"black\",\"black\",\"black\",\"black\",\"black\",\"black\",\"black\",\"black\",\"black\",\"black\",\"black\",\"black\",\"black\",\"black\",\"black\",\"black\",\"black\",\"black\",\"black\",\"black\",\"black\",\"black\",\"black\",\"black\",\"black\",\"black\",\"black\",\"black\",\"black\",\"black\",\"black\",\"black\",\"black\",\"black\",\"black\",\"black\",\"black\",\"black\",\"black\",\"black\",\"black\",\"black\",\"black\",\"lstat\",\"lstat\",\"lstat\",\"lstat\",\"lstat\",\"lstat\",\"lstat\",\"lstat\",\"lstat\",\"lstat\",\"lstat\",\"lstat\",\"lstat\",\"lstat\",\"lstat\",\"lstat\",\"lstat\",\"lstat\",\"lstat\",\"lstat\",\"lstat\",\"lstat\",\"lstat\",\"lstat\",\"lstat\",\"lstat\",\"lstat\",\"lstat\",\"lstat\",\"lstat\",\"lstat\",\"lstat\",\"lstat\",\"lstat\",\"lstat\",\"lstat\",\"lstat\",\"lstat\",\"lstat\",\"lstat\",\"lstat\",\"lstat\",\"lstat\",\"lstat\",\"lstat\",\"lstat\",\"lstat\",\"lstat\",\"lstat\",\"lstat\",\"lstat\",\"lstat\",\"lstat\",\"lstat\",\"lstat\",\"lstat\",\"lstat\",\"lstat\",\"lstat\",\"lstat\",\"lstat\",\"lstat\",\"lstat\",\"lstat\",\"lstat\",\"lstat\",\"lstat\",\"lstat\",\"lstat\",\"lstat\",\"lstat\",\"lstat\",\"lstat\",\"lstat\",\"lstat\",\"lstat\",\"lstat\",\"lstat\",\"lstat\",\"lstat\",\"lstat\",\"lstat\",\"lstat\",\"lstat\",\"lstat\",\"lstat\",\"lstat\",\"lstat\",\"lstat\",\"lstat\",\"lstat\",\"lstat\",\"lstat\",\"lstat\",\"lstat\",\"lstat\",\"lstat\",\"lstat\",\"lstat\",\"lstat\",\"lstat\",\"lstat\",\"lstat\",\"lstat\",\"lstat\",\"lstat\",\"lstat\",\"lstat\",\"lstat\",\"lstat\",\"lstat\",\"lstat\",\"lstat\",\"lstat\",\"lstat\",\"lstat\",\"lstat\",\"lstat\",\"lstat\",\"lstat\",\"lstat\",\"lstat\",\"lstat\",\"lstat\",\"lstat\",\"lstat\",\"lstat\",\"lstat\",\"lstat\",\"lstat\",\"lstat\",\"lstat\",\"lstat\",\"lstat\",\"lstat\",\"lstat\",\"lstat\",\"lstat\",\"lstat\",\"lstat\",\"lstat\",\"lstat\",\"lstat\",\"lstat\",\"lstat\",\"lstat\",\"lstat\",\"lstat\",\"lstat\",\"lstat\",\"lstat\",\"lstat\",\"lstat\",\"lstat\",\"lstat\",\"lstat\",\"lstat\",\"lstat\",\"lstat\",\"lstat\",\"lstat\",\"lstat\",\"lstat\",\"lstat\",\"lstat\",\"lstat\",\"lstat\",\"lstat\",\"lstat\",\"lstat\",\"lstat\",\"lstat\",\"lstat\",\"lstat\",\"lstat\",\"lstat\",\"lstat\",\"lstat\",\"lstat\",\"lstat\",\"lstat\",\"lstat\",\"lstat\",\"lstat\",\"lstat\",\"lstat\",\"lstat\",\"lstat\",\"lstat\",\"lstat\",\"lstat\",\"lstat\",\"lstat\",\"lstat\",\"lstat\",\"lstat\",\"lstat\",\"lstat\",\"lstat\",\"lstat\",\"lstat\",\"lstat\",\"lstat\",\"lstat\",\"lstat\",\"lstat\",\"lstat\",\"lstat\",\"lstat\",\"lstat\",\"lstat\",\"lstat\",\"lstat\",\"lstat\",\"lstat\",\"lstat\",\"lstat\",\"lstat\",\"lstat\",\"lstat\",\"lstat\",\"lstat\",\"lstat\",\"lstat\",\"lstat\",\"lstat\",\"lstat\",\"lstat\",\"lstat\",\"lstat\",\"lstat\",\"lstat\",\"lstat\",\"lstat\",\"lstat\",\"lstat\",\"lstat\",\"lstat\",\"lstat\",\"lstat\",\"lstat\",\"lstat\",\"lstat\",\"lstat\",\"lstat\",\"lstat\",\"lstat\",\"lstat\",\"lstat\",\"lstat\",\"lstat\",\"lstat\",\"lstat\",\"lstat\",\"lstat\",\"lstat\",\"lstat\",\"lstat\",\"lstat\",\"lstat\",\"lstat\",\"lstat\",\"lstat\",\"lstat\",\"lstat\",\"lstat\",\"lstat\",\"lstat\",\"lstat\",\"lstat\",\"lstat\",\"lstat\",\"lstat\",\"lstat\",\"lstat\",\"lstat\",\"lstat\",\"lstat\",\"lstat\",\"lstat\",\"lstat\",\"lstat\",\"lstat\",\"lstat\",\"lstat\",\"lstat\",\"lstat\",\"lstat\",\"lstat\",\"lstat\",\"lstat\",\"lstat\",\"lstat\",\"lstat\",\"lstat\",\"lstat\",\"lstat\",\"lstat\",\"lstat\",\"lstat\",\"lstat\",\"lstat\",\"lstat\",\"lstat\",\"lstat\",\"lstat\",\"lstat\",\"lstat\",\"lstat\",\"lstat\",\"lstat\",\"lstat\",\"lstat\",\"lstat\",\"lstat\",\"lstat\",\"lstat\",\"lstat\",\"lstat\",\"lstat\",\"lstat\",\"lstat\",\"lstat\",\"lstat\",\"lstat\",\"lstat\",\"lstat\",\"lstat\",\"lstat\",\"lstat\",\"lstat\",\"lstat\",\"lstat\",\"lstat\",\"lstat\",\"lstat\",\"lstat\",\"lstat\",\"lstat\",\"lstat\",\"lstat\",\"lstat\",\"lstat\",\"lstat\",\"lstat\",\"lstat\",\"lstat\",\"lstat\",\"lstat\",\"lstat\",\"lstat\",\"lstat\",\"lstat\",\"lstat\",\"lstat\",\"lstat\",\"lstat\",\"lstat\",\"lstat\",\"lstat\",\"lstat\",\"lstat\",\"lstat\",\"lstat\",\"lstat\",\"lstat\",\"lstat\",\"lstat\",\"lstat\",\"lstat\",\"lstat\",\"lstat\",\"lstat\",\"lstat\",\"lstat\",\"lstat\",\"lstat\",\"lstat\",\"lstat\",\"lstat\",\"lstat\",\"lstat\",\"lstat\",\"lstat\",\"lstat\",\"lstat\",\"lstat\",\"lstat\",\"lstat\",\"lstat\",\"lstat\",\"lstat\",\"lstat\",\"lstat\",\"lstat\",\"lstat\",\"lstat\",\"lstat\",\"lstat\",\"lstat\",\"lstat\",\"lstat\",\"lstat\",\"lstat\",\"lstat\",\"lstat\",\"lstat\",\"lstat\",\"lstat\",\"lstat\",\"lstat\",\"lstat\",\"lstat\",\"lstat\",\"lstat\",\"lstat\",\"lstat\",\"lstat\",\"lstat\",\"lstat\",\"lstat\",\"lstat\",\"lstat\",\"lstat\",\"lstat\",\"lstat\",\"lstat\",\"lstat\",\"lstat\",\"lstat\",\"lstat\",\"lstat\",\"lstat\",\"lstat\",\"lstat\",\"lstat\",\"lstat\",\"lstat\",\"lstat\",\"lstat\",\"lstat\",\"lstat\",\"lstat\",\"lstat\",\"lstat\",\"lstat\",\"lstat\",\"lstat\",\"lstat\",\"lstat\",\"lstat\",\"lstat\",\"lstat\",\"lstat\",\"lstat\",\"lstat\",\"lstat\",\"lstat\",\"lstat\",\"lstat\",\"lstat\",\"lstat\",\"lstat\",\"lstat\",\"lstat\",\"lstat\",\"lstat\",\"lstat\",\"lstat\",\"lstat\",\"lstat\",\"lstat\",\"lstat\",\"lstat\",\"lstat\",\"lstat\",\"lstat\",\"lstat\",\"lstat\",\"lstat\",\"lstat\",\"lstat\",\"lstat\",\"lstat\",\"lstat\",\"lstat\",\"lstat\",\"lstat\",\"lstat\",\"lstat\",\"lstat\",\"lstat\",\"lstat\",\"lstat\",\"lstat\",\"lstat\",\"lstat\",\"lstat\",\"lstat\",\"lstat\",\"lstat\",\"lstat\",\"lstat\",\"lstat\",\"lstat\",\"lstat\",\"medv\",\"medv\",\"medv\",\"medv\",\"medv\",\"medv\",\"medv\",\"medv\",\"medv\",\"medv\",\"medv\",\"medv\",\"medv\",\"medv\",\"medv\",\"medv\",\"medv\",\"medv\",\"medv\",\"medv\",\"medv\",\"medv\",\"medv\",\"medv\",\"medv\",\"medv\",\"medv\",\"medv\",\"medv\",\"medv\",\"medv\",\"medv\",\"medv\",\"medv\",\"medv\",\"medv\",\"medv\",\"medv\",\"medv\",\"medv\",\"medv\",\"medv\",\"medv\",\"medv\",\"medv\",\"medv\",\"medv\",\"medv\",\"medv\",\"medv\",\"medv\",\"medv\",\"medv\",\"medv\",\"medv\",\"medv\",\"medv\",\"medv\",\"medv\",\"medv\",\"medv\",\"medv\",\"medv\",\"medv\",\"medv\",\"medv\",\"medv\",\"medv\",\"medv\",\"medv\",\"medv\",\"medv\",\"medv\",\"medv\",\"medv\",\"medv\",\"medv\",\"medv\",\"medv\",\"medv\",\"medv\",\"medv\",\"medv\",\"medv\",\"medv\",\"medv\",\"medv\",\"medv\",\"medv\",\"medv\",\"medv\",\"medv\",\"medv\",\"medv\",\"medv\",\"medv\",\"medv\",\"medv\",\"medv\",\"medv\",\"medv\",\"medv\",\"medv\",\"medv\",\"medv\",\"medv\",\"medv\",\"medv\",\"medv\",\"medv\",\"medv\",\"medv\",\"medv\",\"medv\",\"medv\",\"medv\",\"medv\",\"medv\",\"medv\",\"medv\",\"medv\",\"medv\",\"medv\",\"medv\",\"medv\",\"medv\",\"medv\",\"medv\",\"medv\",\"medv\",\"medv\",\"medv\",\"medv\",\"medv\",\"medv\",\"medv\",\"medv\",\"medv\",\"medv\",\"medv\",\"medv\",\"medv\",\"medv\",\"medv\",\"medv\",\"medv\",\"medv\",\"medv\",\"medv\",\"medv\",\"medv\",\"medv\",\"medv\",\"medv\",\"medv\",\"medv\",\"medv\",\"medv\",\"medv\",\"medv\",\"medv\",\"medv\",\"medv\",\"medv\",\"medv\",\"medv\",\"medv\",\"medv\",\"medv\",\"medv\",\"medv\",\"medv\",\"medv\",\"medv\",\"medv\",\"medv\",\"medv\",\"medv\",\"medv\",\"medv\",\"medv\",\"medv\",\"medv\",\"medv\",\"medv\",\"medv\",\"medv\",\"medv\",\"medv\",\"medv\",\"medv\",\"medv\",\"medv\",\"medv\",\"medv\",\"medv\",\"medv\",\"medv\",\"medv\",\"medv\",\"medv\",\"medv\",\"medv\",\"medv\",\"medv\",\"medv\",\"medv\",\"medv\",\"medv\",\"medv\",\"medv\",\"medv\",\"medv\",\"medv\",\"medv\",\"medv\",\"medv\",\"medv\",\"medv\",\"medv\",\"medv\",\"medv\",\"medv\",\"medv\",\"medv\",\"medv\",\"medv\",\"medv\",\"medv\",\"medv\",\"medv\",\"medv\",\"medv\",\"medv\",\"medv\",\"medv\",\"medv\",\"medv\",\"medv\",\"medv\",\"medv\",\"medv\",\"medv\",\"medv\",\"medv\",\"medv\",\"medv\",\"medv\",\"medv\",\"medv\",\"medv\",\"medv\",\"medv\",\"medv\",\"medv\",\"medv\",\"medv\",\"medv\",\"medv\",\"medv\",\"medv\",\"medv\",\"medv\",\"medv\",\"medv\",\"medv\",\"medv\",\"medv\",\"medv\",\"medv\",\"medv\",\"medv\",\"medv\",\"medv\",\"medv\",\"medv\",\"medv\",\"medv\",\"medv\",\"medv\",\"medv\",\"medv\",\"medv\",\"medv\",\"medv\",\"medv\",\"medv\",\"medv\",\"medv\",\"medv\",\"medv\",\"medv\",\"medv\",\"medv\",\"medv\",\"medv\",\"medv\",\"medv\",\"medv\",\"medv\",\"medv\",\"medv\",\"medv\",\"medv\",\"medv\",\"medv\",\"medv\",\"medv\",\"medv\",\"medv\",\"medv\",\"medv\",\"medv\",\"medv\",\"medv\",\"medv\",\"medv\",\"medv\",\"medv\",\"medv\",\"medv\",\"medv\",\"medv\",\"medv\",\"medv\",\"medv\",\"medv\",\"medv\",\"medv\",\"medv\",\"medv\",\"medv\",\"medv\",\"medv\",\"medv\",\"medv\",\"medv\",\"medv\",\"medv\",\"medv\",\"medv\",\"medv\",\"medv\",\"medv\",\"medv\",\"medv\",\"medv\",\"medv\",\"medv\",\"medv\",\"medv\",\"medv\",\"medv\",\"medv\",\"medv\",\"medv\",\"medv\",\"medv\",\"medv\",\"medv\",\"medv\",\"medv\",\"medv\",\"medv\",\"medv\",\"medv\",\"medv\",\"medv\",\"medv\",\"medv\",\"medv\",\"medv\",\"medv\",\"medv\",\"medv\",\"medv\",\"medv\",\"medv\",\"medv\",\"medv\",\"medv\",\"medv\",\"medv\",\"medv\",\"medv\",\"medv\",\"medv\",\"medv\",\"medv\",\"medv\",\"medv\",\"medv\",\"medv\",\"medv\",\"medv\",\"medv\",\"medv\",\"medv\",\"medv\",\"medv\",\"medv\",\"medv\",\"medv\",\"medv\",\"medv\",\"medv\",\"medv\",\"medv\",\"medv\",\"medv\",\"medv\",\"medv\",\"medv\",\"medv\",\"medv\",\"medv\",\"medv\",\"medv\",\"medv\",\"medv\",\"medv\",\"medv\",\"medv\",\"medv\",\"medv\",\"medv\",\"medv\",\"medv\",\"medv\",\"medv\",\"medv\",\"medv\",\"medv\",\"medv\",\"medv\",\"medv\",\"medv\",\"medv\",\"medv\",\"medv\",\"medv\",\"medv\",\"medv\",\"medv\",\"medv\",\"medv\",\"medv\",\"medv\",\"medv\",\"medv\",\"medv\",\"medv\",\"medv\",\"medv\",\"medv\",\"medv\",\"medv\",\"medv\",\"medv\",\"medv\",\"medv\",\"medv\",\"medv\",\"medv\",\"medv\",\"medv\",\"medv\",\"medv\",\"medv\",\"medv\",\"medv\",\"medv\",\"medv\",\"medv\",\"medv\",\"medv\",\"medv\",\"medv\",\"medv\",\"medv\",\"medv\",\"medv\",\"medv\",\"medv\",\"medv\",\"medv\",\"medv\",\"medv\",\"medv\",\"medv\",\"medv\",\"medv\",\"medv\",\"medv\",\"medv\",\"medv\",\"medv\",\"medv\",\"medv\",\"medv\",\"medv\",\"medv\",\"medv\",\"medv\",\"medv\",\"medv\"],\"x0\":\" \",\"xaxis\":\"x\",\"y\":[0.00632,0.02731,0.02729,0.03237,0.06905,0.02985,0.08829,0.14455,0.21124,0.17004,0.22489,0.11747,0.09378,0.62976,0.63796,0.62739,1.05393,0.7842,0.80271,0.7258,1.25179,0.85204,1.23247,0.98843,0.75026,0.84054,0.67191,0.95577,0.77299,1.00245,1.13081,1.35472,1.38799,1.15172,1.61282,0.06417,0.09744,0.08014,0.17505,0.02763,0.03359,0.12744,0.1415,0.15936,0.12269,0.17142,0.18836,0.22927,0.25387,0.21977,0.08873,0.04337,0.0536,0.04981,0.0136,0.01311,0.02055,0.01432,0.15445,0.10328,0.14932,0.17171,0.11027,0.1265,0.01951,0.03584,0.04379,0.05789,0.13554,0.12816,0.08826,0.15876,0.09164,0.19539,0.07896,0.09512,0.10153,0.08707,0.05646,0.08387,0.04113,0.04462,0.03659,0.03551,0.05059,0.05735,0.05188,0.07151,0.0566,0.05302,0.04684,0.03932,0.04203,0.02875,0.04294,0.12204,0.11504,0.12083,0.08187,0.0686,0.14866,0.11432,0.22876,0.21161,0.1396,0.13262,0.1712,0.13117,0.12802,0.26363,0.10793,0.10084,0.12329,0.22212,0.14231,0.17134,0.13158,0.15098,0.13058,0.14476,0.06899,0.07165,0.09299,0.15038,0.09849,0.16902,0.38735,0.25915,0.32543,0.88125,0.34006,1.19294,0.59005,0.32982,0.97617,0.55778,0.32264,0.35233,0.2498,0.54452,0.2909,1.62864,3.32105,4.0974,2.77974,2.37934,2.15505,2.36862,2.33099,2.73397,1.6566,1.49632,1.12658,2.14918,1.41385,3.53501,2.44668,1.22358,1.34284,1.42502,1.27346,1.46336,1.83377,1.51902,2.24236,2.924,2.01019,1.80028,2.3004,2.44953,1.20742,2.3139,0.13914,0.09178,0.08447,0.06664,0.07022,0.05425,0.06642,0.0578,0.06588,0.06888,0.09103,0.10008,0.08308,0.06047,0.05602,0.07875,0.12579,0.0837,0.09068,0.06911,0.08664,0.02187,0.01439,0.01381,0.04011,0.04666,0.03768,0.0315,0.01778,0.03445,0.02177,0.0351,0.02009,0.13642,0.22969,0.25199,0.13587,0.43571,0.17446,0.37578,0.21719,0.14052,0.28955,0.19802,0.0456,0.07013,0.11069,0.11425,0.35809,0.40771,0.62356,0.6147,0.31533,0.52693,0.38214,0.41238,0.29819,0.44178,0.537,0.46296,0.57529,0.33147,0.44791,0.33045,0.52058,0.51183,0.08244,0.09252,0.11329,0.10612,0.1029,0.12757,0.20608,0.19133,0.33983,0.19657,0.16439,0.19073,0.1403,0.21409,0.08221,0.36894,0.04819,0.03548,0.01538,0.61154,0.66351,0.65665,0.54011,0.53412,0.52014,0.82526,0.55007,0.76162,0.7857,0.57834,0.5405,0.09065,0.29916,0.16211,0.1146,0.22188,0.05644,0.09604,0.10469,0.06127,0.07978,0.21038,0.03578,0.03705,0.06129,0.01501,0.00906,0.01096,0.01965,0.03871,0.0459,0.04297,0.03502,0.07886,0.03615,0.08265,0.08199,0.12932,0.05372,0.14103,0.06466,0.05561,0.04417,0.03537,0.09266,0.1,0.05515,0.05479,0.07503,0.04932,0.49298,0.3494,2.63548,0.79041,0.26169,0.26938,0.3692,0.25356,0.31827,0.24522,0.40202,0.47547,0.1676,0.18159,0.35114,0.28392,0.34109,0.19186,0.30347,0.24103,0.06617,0.06724,0.04544,0.05023,0.03466,0.05083,0.03738,0.03961,0.03427,0.03041,0.03306,0.05497,0.06151,0.01301,0.02498,0.02543,0.03049,0.03113,0.06162,0.0187,0.01501,0.02899,0.06211,0.0795,0.07244,0.01709,0.04301,0.10659,8.98296,3.8497,5.20177,4.26131,4.54192,3.83684,3.67822,4.22239,3.47428,4.55587,3.69695,13.5222,4.89822,5.66998,6.53876,9.2323,8.26725,11.1081,18.4982,19.6091,15.288,9.82349,23.6482,17.8667,88.9762,15.8744,9.18702,7.99248,20.0849,16.8118,24.3938,22.5971,14.3337,8.15174,6.96215,5.29305,11.5779,8.64476,13.3598,8.71675,5.87205,7.67202,38.3518,9.91655,25.0461,14.2362,9.59571,24.8017,41.5292,67.9208,20.7162,11.9511,7.40389,14.4383,51.1358,14.0507,18.811,28.6558,45.7461,18.0846,10.8342,25.9406,73.5341,11.8123,11.0874,7.02259,12.0482,7.05042,8.79212,15.8603,12.2472,37.6619,7.36711,9.33889,8.49213,10.0623,6.44405,5.58107,13.9134,11.1604,14.4208,15.1772,13.6781,9.39063,22.0511,9.72418,5.66637,9.96654,12.8023,10.6718,6.28807,9.92485,9.32909,7.52601,6.71772,5.44114,5.09017,8.24809,9.51363,4.75237,4.66883,8.20058,7.75223,6.80117,4.81213,3.69311,6.65492,5.82115,7.83932,3.1636,3.77498,4.42228,15.5757,13.0751,4.34879,4.03841,3.56868,4.64689,8.05579,6.39312,4.87141,15.0234,10.233,14.3337,5.82401,5.70818,5.73116,2.81838,2.37857,3.67367,5.69175,4.83567,0.15086,0.18337,0.20746,0.10574,0.11132,0.17331,0.27957,0.17899,0.2896,0.26838,0.23912,0.17783,0.22438,0.06263,0.04527,0.06076,0.10959,0.04741,18.0,0.0,0.0,0.0,0.0,0.0,12.5,12.5,12.5,12.5,12.5,12.5,12.5,0.0,0.0,0.0,0.0,0.0,0.0,0.0,0.0,0.0,0.0,0.0,0.0,0.0,0.0,0.0,0.0,0.0,0.0,0.0,0.0,0.0,0.0,0.0,0.0,0.0,0.0,75.0,75.0,0.0,0.0,0.0,0.0,0.0,0.0,0.0,0.0,0.0,21.0,21.0,21.0,21.0,75.0,90.0,85.0,100.0,25.0,25.0,25.0,25.0,25.0,25.0,17.5,80.0,80.0,12.5,12.5,12.5,0.0,0.0,0.0,0.0,0.0,0.0,0.0,0.0,0.0,0.0,25.0,25.0,25.0,25.0,0.0,0.0,0.0,0.0,0.0,0.0,0.0,0.0,28.0,28.0,28.0,0.0,0.0,0.0,0.0,0.0,0.0,0.0,0.0,0.0,0.0,0.0,0.0,0.0,0.0,0.0,0.0,0.0,0.0,0.0,0.0,0.0,0.0,0.0,0.0,0.0,0.0,0.0,0.0,0.0,0.0,0.0,0.0,0.0,0.0,0.0,0.0,0.0,0.0,0.0,0.0,0.0,0.0,0.0,0.0,0.0,0.0,0.0,0.0,0.0,0.0,0.0,0.0,0.0,0.0,0.0,0.0,0.0,0.0,0.0,0.0,0.0,0.0,0.0,0.0,0.0,0.0,0.0,0.0,0.0,0.0,0.0,0.0,0.0,0.0,0.0,0.0,0.0,0.0,0.0,0.0,0.0,0.0,0.0,0.0,0.0,0.0,0.0,0.0,0.0,0.0,0.0,0.0,45.0,45.0,45.0,45.0,45.0,45.0,60.0,60.0,80.0,80.0,80.0,80.0,95.0,95.0,82.5,82.5,95.0,95.0,0.0,0.0,0.0,0.0,0.0,0.0,0.0,0.0,0.0,0.0,0.0,0.0,0.0,0.0,0.0,0.0,0.0,0.0,0.0,0.0,0.0,0.0,0.0,0.0,0.0,0.0,0.0,0.0,0.0,0.0,0.0,0.0,0.0,30.0,30.0,30.0,30.0,30.0,30.0,22.0,22.0,22.0,22.0,22.0,22.0,22.0,22.0,22.0,22.0,80.0,80.0,90.0,20.0,20.0,20.0,20.0,20.0,20.0,20.0,20.0,20.0,20.0,20.0,20.0,20.0,20.0,20.0,20.0,20.0,40.0,40.0,40.0,40.0,40.0,20.0,20.0,20.0,20.0,90.0,90.0,55.0,80.0,52.5,52.5,52.5,80.0,80.0,80.0,0.0,0.0,0.0,0.0,0.0,70.0,70.0,70.0,34.0,34.0,34.0,33.0,33.0,33.0,33.0,0.0,0.0,0.0,0.0,0.0,0.0,0.0,0.0,0.0,0.0,0.0,0.0,0.0,0.0,0.0,0.0,0.0,0.0,0.0,0.0,0.0,0.0,0.0,35.0,35.0,0.0,0.0,0.0,0.0,0.0,0.0,0.0,0.0,35.0,0.0,55.0,55.0,0.0,0.0,85.0,80.0,40.0,40.0,60.0,60.0,90.0,80.0,80.0,0.0,0.0,0.0,0.0,0.0,0.0,0.0,0.0,0.0,0.0,0.0,0.0,0.0,0.0,0.0,0.0,0.0,0.0,0.0,0.0,0.0,0.0,0.0,0.0,0.0,0.0,0.0,0.0,0.0,0.0,0.0,0.0,0.0,0.0,0.0,0.0,0.0,0.0,0.0,0.0,0.0,0.0,0.0,0.0,0.0,0.0,0.0,0.0,0.0,0.0,0.0,0.0,0.0,0.0,0.0,0.0,0.0,0.0,0.0,0.0,0.0,0.0,0.0,0.0,0.0,0.0,0.0,0.0,0.0,0.0,0.0,0.0,0.0,0.0,0.0,0.0,0.0,0.0,0.0,0.0,0.0,0.0,0.0,0.0,0.0,0.0,0.0,0.0,0.0,0.0,0.0,0.0,0.0,0.0,0.0,0.0,0.0,0.0,0.0,0.0,0.0,0.0,0.0,0.0,0.0,0.0,0.0,0.0,0.0,0.0,0.0,0.0,0.0,0.0,0.0,0.0,0.0,0.0,0.0,0.0,0.0,0.0,0.0,0.0,0.0,0.0,0.0,0.0,0.0,0.0,0.0,0.0,0.0,0.0,0.0,0.0,0.0,0.0,0.0,0.0,0.0,0.0,0.0,0.0,0.0,0.0,0.0,0.0,0.0,0.0,2.31,7.07,7.07,2.18,2.18,2.18,7.87,7.87,7.87,7.87,7.87,7.87,7.87,8.14,8.14,8.14,8.14,8.14,8.14,8.14,8.14,8.14,8.14,8.14,8.14,8.14,8.14,8.14,8.14,8.14,8.14,8.14,8.14,8.14,8.14,5.96,5.96,5.96,5.96,2.95,2.95,6.91,6.91,6.91,6.91,6.91,6.91,6.91,6.91,6.91,5.64,5.64,5.64,5.64,4.0,1.22,0.74,1.32,5.13,5.13,5.13,5.13,5.13,5.13,1.38,3.37,3.37,6.07,6.07,6.07,10.81,10.81,10.81,10.81,12.83,12.83,12.83,12.83,12.83,12.83,4.86,4.86,4.86,4.86,4.49,4.49,4.49,4.49,3.41,3.41,3.41,3.41,15.04,15.04,15.04,2.89,2.89,2.89,2.89,2.89,8.56,8.56,8.56,8.56,8.56,8.56,8.56,8.56,8.56,8.56,8.56,10.01,10.01,10.01,10.01,10.01,10.01,10.01,10.01,10.01,25.65,25.65,25.65,25.65,25.65,25.65,25.65,21.89,21.89,21.89,21.89,21.89,21.89,21.89,21.89,21.89,21.89,21.89,21.89,21.89,21.89,21.89,19.58,19.58,19.58,19.58,19.58,19.58,19.58,19.58,19.58,19.58,19.58,19.58,19.58,19.58,19.58,19.58,19.58,19.58,19.58,19.58,19.58,19.58,19.58,19.58,19.58,19.58,19.58,19.58,19.58,19.58,4.05,4.05,4.05,4.05,4.05,4.05,4.05,2.46,2.46,2.46,2.46,2.46,2.46,2.46,2.46,3.44,3.44,3.44,3.44,3.44,3.44,2.93,2.93,0.46,1.52,1.52,1.52,1.47,1.47,2.03,2.03,2.68,2.68,10.59,10.59,10.59,10.59,10.59,10.59,10.59,10.59,10.59,10.59,10.59,13.89,13.89,13.89,13.89,6.2,6.2,6.2,6.2,6.2,6.2,6.2,6.2,6.2,6.2,6.2,6.2,6.2,6.2,6.2,6.2,6.2,6.2,4.93,4.93,4.93,4.93,4.93,4.93,5.86,5.86,5.86,5.86,5.86,5.86,5.86,5.86,5.86,5.86,3.64,3.64,3.75,3.97,3.97,3.97,3.97,3.97,3.97,3.97,3.97,3.97,3.97,3.97,3.97,6.96,6.96,6.96,6.96,6.96,6.41,6.41,6.41,6.41,6.41,3.33,3.33,3.33,3.33,1.21,2.97,2.25,1.76,5.32,5.32,5.32,4.95,4.95,4.95,13.92,13.92,13.92,13.92,13.92,2.24,2.24,2.24,6.09,6.09,6.09,2.18,2.18,2.18,2.18,9.9,9.9,9.9,9.9,9.9,9.9,9.9,9.9,9.9,9.9,9.9,9.9,7.38,7.38,7.38,7.38,7.38,7.38,7.38,7.38,3.24,3.24,3.24,6.06,6.06,5.19,5.19,5.19,5.19,5.19,5.19,5.19,5.19,1.52,1.89,3.78,3.78,4.39,4.39,4.15,2.01,1.25,1.25,1.69,1.69,2.02,1.91,1.91,18.1,18.1,18.1,18.1,18.1,18.1,18.1,18.1,18.1,18.1,18.1,18.1,18.1,18.1,18.1,18.1,18.1,18.1,18.1,18.1,18.1,18.1,18.1,18.1,18.1,18.1,18.1,18.1,18.1,18.1,18.1,18.1,18.1,18.1,18.1,18.1,18.1,18.1,18.1,18.1,18.1,18.1,18.1,18.1,18.1,18.1,18.1,18.1,18.1,18.1,18.1,18.1,18.1,18.1,18.1,18.1,18.1,18.1,18.1,18.1,18.1,18.1,18.1,18.1,18.1,18.1,18.1,18.1,18.1,18.1,18.1,18.1,18.1,18.1,18.1,18.1,18.1,18.1,18.1,18.1,18.1,18.1,18.1,18.1,18.1,18.1,18.1,18.1,18.1,18.1,18.1,18.1,18.1,18.1,18.1,18.1,18.1,18.1,18.1,18.1,18.1,18.1,18.1,18.1,18.1,18.1,18.1,18.1,18.1,18.1,18.1,18.1,18.1,18.1,18.1,18.1,18.1,18.1,18.1,18.1,18.1,18.1,18.1,18.1,18.1,18.1,18.1,18.1,18.1,18.1,18.1,18.1,27.74,27.74,27.74,27.74,27.74,9.69,9.69,9.69,9.69,9.69,9.69,9.69,9.69,11.93,11.93,11.93,11.93,11.93,0.0,0.0,0.0,0.0,0.0,0.0,0.0,0.0,0.0,0.0,0.0,0.0,0.0,0.0,0.0,0.0,0.0,0.0,0.0,0.0,0.0,0.0,0.0,0.0,0.0,0.0,0.0,0.0,0.0,0.0,0.0,0.0,0.0,0.0,0.0,0.0,0.0,0.0,0.0,0.0,0.0,0.0,0.0,0.0,0.0,0.0,0.0,0.0,0.0,0.0,0.0,0.0,0.0,0.0,0.0,0.0,0.0,0.0,0.0,0.0,0.0,0.0,0.0,0.0,0.0,0.0,0.0,0.0,0.0,0.0,0.0,0.0,0.0,0.0,0.0,0.0,0.0,0.0,0.0,0.0,0.0,0.0,0.0,0.0,0.0,0.0,0.0,0.0,0.0,0.0,0.0,0.0,0.0,0.0,0.0,0.0,0.0,0.0,0.0,0.0,0.0,0.0,0.0,0.0,0.0,0.0,0.0,0.0,0.0,0.0,0.0,0.0,0.0,0.0,0.0,0.0,0.0,0.0,0.0,0.0,0.0,0.0,0.0,0.0,0.0,0.0,0.0,0.0,0.0,0.0,0.0,0.0,0.0,0.0,0.0,0.0,0.0,0.0,0.0,0.0,0.0,0.0,1.0,0.0,0.0,0.0,0.0,0.0,0.0,0.0,0.0,0.0,1.0,0.0,1.0,1.0,0.0,0.0,0.0,0.0,1.0,0.0,1.0,1.0,0.0,0.0,0.0,0.0,0.0,0.0,0.0,0.0,0.0,0.0,0.0,0.0,0.0,0.0,0.0,0.0,0.0,0.0,0.0,0.0,0.0,0.0,0.0,0.0,0.0,0.0,0.0,0.0,0.0,0.0,0.0,0.0,0.0,0.0,0.0,0.0,0.0,0.0,0.0,0.0,0.0,0.0,0.0,0.0,1.0,1.0,1.0,1.0,1.0,0.0,0.0,0.0,1.0,0.0,1.0,1.0,1.0,1.0,1.0,0.0,0.0,0.0,0.0,0.0,0.0,0.0,0.0,0.0,0.0,0.0,1.0,0.0,1.0,0.0,0.0,0.0,0.0,0.0,0.0,0.0,0.0,0.0,0.0,0.0,0.0,0.0,0.0,0.0,0.0,0.0,0.0,0.0,0.0,0.0,0.0,0.0,0.0,0.0,0.0,0.0,0.0,0.0,0.0,0.0,0.0,1.0,0.0,0.0,0.0,1.0,1.0,0.0,1.0,1.0,0.0,0.0,0.0,0.0,1.0,1.0,0.0,0.0,0.0,0.0,0.0,0.0,0.0,0.0,0.0,0.0,0.0,0.0,0.0,0.0,0.0,0.0,0.0,0.0,0.0,0.0,0.0,0.0,0.0,0.0,0.0,0.0,0.0,0.0,0.0,0.0,0.0,0.0,0.0,0.0,0.0,0.0,0.0,0.0,0.0,0.0,0.0,0.0,0.0,0.0,0.0,0.0,0.0,0.0,0.0,0.0,0.0,0.0,0.0,0.0,0.0,0.0,0.0,0.0,0.0,0.0,0.0,0.0,0.0,0.0,0.0,0.0,0.0,0.0,0.0,0.0,0.0,0.0,1.0,1.0,1.0,0.0,0.0,0.0,0.0,1.0,1.0,0.0,0.0,0.0,0.0,1.0,1.0,0.0,1.0,0.0,0.0,0.0,0.0,0.0,0.0,0.0,0.0,0.0,0.0,0.0,0.0,0.0,0.0,0.0,0.0,0.0,0.0,0.0,0.0,0.0,0.0,0.0,0.0,0.0,0.0,0.0,0.0,0.0,0.0,0.0,0.0,0.0,0.0,0.0,0.0,0.0,0.0,0.0,0.0,0.0,0.0,0.0,0.0,0.0,0.0,0.0,0.0,0.0,0.0,0.0,0.0,0.0,0.0,0.0,0.0,0.0,0.0,0.0,0.0,0.0,0.0,0.0,0.0,0.0,0.0,0.0,0.0,0.0,0.0,0.0,0.0,0.0,0.0,0.0,0.0,0.0,0.0,0.0,0.0,0.0,0.0,0.0,0.0,0.0,0.0,0.0,0.0,0.0,0.0,0.0,0.0,0.0,0.0,0.0,0.0,0.0,0.0,0.0,0.0,0.0,0.0,0.0,0.0,0.0,0.0,0.0,0.0,0.0,0.0,0.0,0.0,0.0,0.0,0.0,0.0,0.0,0.0,0.0,0.0,0.0,0.0,0.0,0.0,0.0,0.0,0.0,0.0,0.0,0.0,0.0,0.0,0.0,0.538,0.469,0.469,0.458,0.458,0.458,0.524,0.524,0.524,0.524,0.524,0.524,0.524,0.538,0.538,0.538,0.538,0.538,0.538,0.538,0.538,0.538,0.538,0.538,0.538,0.538,0.538,0.538,0.538,0.538,0.538,0.538,0.538,0.538,0.538,0.499,0.499,0.499,0.499,0.428,0.428,0.448,0.448,0.448,0.448,0.448,0.448,0.448,0.448,0.448,0.439,0.439,0.439,0.439,0.41,0.403,0.41,0.411,0.453,0.453,0.453,0.453,0.453,0.453,0.4161,0.398,0.398,0.409,0.409,0.409,0.413,0.413,0.413,0.413,0.437,0.437,0.437,0.437,0.437,0.437,0.426,0.426,0.426,0.426,0.449,0.449,0.449,0.449,0.489,0.489,0.489,0.489,0.464,0.464,0.464,0.445,0.445,0.445,0.445,0.445,0.52,0.52,0.52,0.52,0.52,0.52,0.52,0.52,0.52,0.52,0.52,0.547,0.547,0.547,0.547,0.547,0.547,0.547,0.547,0.547,0.581,0.581,0.581,0.581,0.581,0.581,0.581,0.624,0.624,0.624,0.624,0.624,0.624,0.624,0.624,0.624,0.624,0.624,0.624,0.624,0.624,0.624,0.871,0.871,0.871,0.871,0.871,0.871,0.871,0.871,0.871,0.871,0.871,0.871,0.871,0.871,0.871,0.605,0.605,0.871,0.605,0.605,0.605,0.605,0.605,0.605,0.605,0.605,0.605,0.605,0.605,0.605,0.51,0.51,0.51,0.51,0.51,0.51,0.51,0.488,0.488,0.488,0.488,0.488,0.488,0.488,0.488,0.437,0.437,0.437,0.437,0.437,0.437,0.401,0.401,0.422,0.404,0.404,0.404,0.403,0.403,0.415,0.415,0.4161,0.4161,0.489,0.489,0.489,0.489,0.489,0.489,0.489,0.489,0.489,0.489,0.489,0.55,0.55,0.55,0.55,0.507,0.507,0.507,0.507,0.504,0.504,0.504,0.504,0.504,0.504,0.504,0.504,0.507,0.507,0.507,0.507,0.507,0.507,0.428,0.428,0.428,0.428,0.428,0.428,0.431,0.431,0.431,0.431,0.431,0.431,0.431,0.431,0.431,0.431,0.392,0.392,0.394,0.647,0.647,0.647,0.647,0.647,0.647,0.647,0.647,0.647,0.647,0.575,0.575,0.464,0.464,0.464,0.464,0.464,0.447,0.447,0.447,0.447,0.447,0.4429,0.4429,0.4429,0.4429,0.401,0.4,0.389,0.385,0.405,0.405,0.405,0.411,0.411,0.411,0.437,0.437,0.437,0.437,0.437,0.4,0.4,0.4,0.433,0.433,0.433,0.472,0.472,0.472,0.472,0.544,0.544,0.544,0.544,0.544,0.544,0.544,0.544,0.544,0.544,0.544,0.544,0.493,0.493,0.493,0.493,0.493,0.493,0.493,0.493,0.46,0.46,0.46,0.4379,0.4379,0.515,0.515,0.515,0.515,0.515,0.515,0.515,0.515,0.442,0.518,0.484,0.484,0.442,0.442,0.429,0.435,0.429,0.429,0.411,0.411,0.41,0.413,0.413,0.77,0.77,0.77,0.77,0.77,0.77,0.77,0.77,0.718,0.718,0.718,0.631,0.631,0.631,0.631,0.631,0.668,0.668,0.668,0.671,0.671,0.671,0.671,0.671,0.671,0.671,0.7,0.7,0.7,0.7,0.7,0.7,0.7,0.7,0.7,0.7,0.7,0.693,0.693,0.693,0.693,0.693,0.693,0.693,0.693,0.693,0.693,0.693,0.693,0.693,0.659,0.659,0.597,0.597,0.597,0.597,0.597,0.597,0.693,0.679,0.679,0.679,0.679,0.718,0.718,0.718,0.614,0.614,0.584,0.679,0.584,0.679,0.679,0.679,0.584,0.584,0.584,0.713,0.713,0.74,0.74,0.74,0.74,0.74,0.74,0.74,0.74,0.74,0.74,0.74,0.74,0.74,0.713,0.713,0.713,0.713,0.713,0.713,0.713,0.713,0.713,0.713,0.713,0.713,0.713,0.713,0.713,0.713,0.655,0.655,0.655,0.584,0.58,0.58,0.58,0.532,0.58,0.614,0.584,0.584,0.614,0.614,0.614,0.614,0.532,0.532,0.532,0.532,0.583,0.583,0.583,0.583,0.609,0.609,0.609,0.609,0.609,0.585,0.585,0.585,0.585,0.585,0.585,0.585,0.585,0.573,0.573,0.573,0.573,0.573,6.575,6.421,7.185,6.998,7.147,6.43,6.012,6.172,5.631,6.004,6.377,6.009,5.889,5.949,6.096,5.834,5.935,5.99,5.456,5.727,5.57,5.965,6.142,5.813,5.924,5.599,5.813,6.047,6.495,6.674,5.713,6.072,5.95,5.701,6.096,5.933,5.841,5.85,5.966,6.595,7.024,6.77,6.169,6.211,6.069,5.682,5.786,6.03,5.399,5.602,5.963,6.115,6.511,5.998,5.888,7.249,6.383,6.816,6.145,5.927,5.741,5.966,6.456,6.762,7.104,6.29,5.787,5.878,5.594,5.885,6.417,5.961,6.065,6.245,6.273,6.286,6.279,6.14,6.232,5.874,6.727,6.619,6.302,6.167,6.389,6.63,6.015,6.121,7.007,7.079,6.417,6.405,6.442,6.211,6.249,6.625,6.163,8.069,7.82,7.416,6.727,6.781,6.405,6.137,6.167,5.851,5.836,6.127,6.474,6.229,6.195,6.715,5.913,6.092,6.254,5.928,6.176,6.021,5.872,5.731,5.87,6.004,5.961,5.856,5.879,5.986,5.613,5.693,6.431,5.637,6.458,6.326,6.372,5.822,5.757,6.335,5.942,6.454,5.857,6.151,6.174,5.019,5.403,5.468,4.903,6.13,5.628,4.926,5.186,5.597,6.122,5.404,5.012,5.709,6.129,6.152,5.272,6.943,6.066,6.51,6.25,7.489,7.802,8.375,5.854,6.101,7.929,5.877,6.319,6.402,5.875,5.88,5.572,6.416,5.859,6.546,6.02,6.315,6.86,6.98,7.765,6.144,7.155,6.563,5.604,6.153,7.831,6.782,6.556,7.185,6.951,6.739,7.178,6.8,6.604,7.875,7.287,7.107,7.274,6.975,7.135,6.162,7.61,7.853,8.034,5.891,6.326,5.783,6.064,5.344,5.96,5.404,5.807,6.375,5.412,6.182,5.888,6.642,5.951,6.373,6.951,6.164,6.879,6.618,8.266,8.725,8.04,7.163,7.686,6.552,5.981,7.412,8.337,8.247,6.726,6.086,6.631,7.358,6.481,6.606,6.897,6.095,6.358,6.393,5.593,5.605,6.108,6.226,6.433,6.718,6.487,6.438,6.957,8.259,6.108,5.876,7.454,8.704,7.333,6.842,7.203,7.52,8.398,7.327,7.206,5.56,7.014,8.297,7.47,5.92,5.856,6.24,6.538,7.691,6.758,6.854,7.267,6.826,6.482,6.812,7.82,6.968,7.645,7.923,7.088,6.453,6.23,6.209,6.315,6.565,6.861,7.148,6.63,6.127,6.009,6.678,6.549,5.79,6.345,7.041,6.871,6.59,6.495,6.982,7.236,6.616,7.42,6.849,6.635,5.972,4.973,6.122,6.023,6.266,6.567,5.705,5.914,5.782,6.382,6.113,6.426,6.376,6.041,5.708,6.415,6.431,6.312,6.083,5.868,6.333,6.144,5.706,6.031,6.316,6.31,6.037,5.869,5.895,6.059,5.985,5.968,7.241,6.54,6.696,6.874,6.014,5.898,6.516,6.635,6.939,6.49,6.579,5.884,6.728,5.663,5.936,6.212,6.395,6.127,6.112,6.398,6.251,5.362,5.803,8.78,3.561,4.963,3.863,4.97,6.683,7.016,6.216,5.875,4.906,4.138,7.313,6.649,6.794,6.38,6.223,6.968,6.545,5.536,5.52,4.368,5.277,4.652,5.0,4.88,5.39,5.713,6.051,5.036,6.193,5.887,6.471,6.405,5.747,5.453,5.852,5.987,6.343,6.404,5.349,5.531,5.683,4.138,5.608,5.617,6.852,5.757,6.657,4.628,5.155,4.519,6.434,6.782,5.304,5.957,6.824,6.411,6.006,5.648,6.103,5.565,5.896,5.837,6.202,6.193,6.38,6.348,6.833,6.425,6.436,6.208,6.629,6.461,6.152,5.935,5.627,5.818,6.406,6.219,6.485,5.854,6.459,6.341,6.251,6.185,6.417,6.749,6.655,6.297,7.393,6.728,6.525,5.976,5.936,6.301,6.081,6.701,6.376,6.317,6.513,6.209,5.759,5.952,6.003,5.926,5.713,6.167,6.229,6.437,6.98,5.427,6.162,6.484,5.304,6.185,6.229,6.242,6.75,7.061,5.762,5.871,6.312,6.114,5.905,5.454,5.414,5.093,5.983,5.983,5.707,5.926,5.67,5.39,5.794,6.019,5.569,6.027,6.593,6.12,6.976,6.794,6.03,65.2,78.9,61.1,45.8,54.2,58.7,66.6,96.1,100.0,85.9,94.3,82.9,39.0,61.8,84.5,56.5,29.3,81.7,36.6,69.5,98.1,89.2,91.7,100.0,94.1,85.7,90.3,88.8,94.4,87.3,94.1,100.0,82.0,95.0,96.9,68.2,61.4,41.5,30.2,21.8,15.8,2.9,6.6,6.5,40.0,33.8,33.3,85.5,95.3,62.0,45.7,63.0,21.1,21.4,47.6,21.9,35.7,40.5,29.2,47.2,66.2,93.4,67.8,43.4,59.5,17.8,31.1,21.4,36.8,33.0,6.6,17.5,7.8,6.2,6.0,45.0,74.5,45.8,53.7,36.6,33.5,70.4,32.2,46.7,48.0,56.1,45.1,56.8,86.3,63.1,66.1,73.9,53.6,28.9,77.3,57.8,69.6,76.0,36.9,62.5,79.9,71.3,85.4,87.4,90.0,96.7,91.9,85.2,97.1,91.2,54.4,81.6,92.9,95.4,84.2,88.2,72.5,82.6,73.1,65.2,69.7,84.1,92.9,97.0,95.8,88.4,95.6,96.0,98.8,94.7,98.9,97.7,97.9,95.4,98.4,98.2,93.5,98.4,98.2,97.9,93.6,100.0,100.0,100.0,97.8,100.0,100.0,95.7,93.8,94.9,97.3,100.0,88.0,98.5,96.0,82.6,94.0,97.4,100.0,100.0,92.6,90.8,98.2,93.9,91.8,93.0,96.2,79.2,96.1,95.2,94.6,97.3,88.5,84.1,68.7,33.1,47.2,73.4,74.4,58.4,83.3,62.2,92.2,95.6,89.8,68.8,53.6,41.1,29.1,38.9,21.5,30.8,26.3,9.9,18.8,32.0,34.1,36.6,38.3,15.3,13.9,38.4,15.7,33.2,31.9,22.3,52.5,72.7,59.1,100.0,92.1,88.6,53.8,32.3,9.8,42.4,56.0,85.1,93.8,92.4,88.5,91.3,77.7,80.8,78.3,83.0,86.5,79.9,17.0,21.4,68.1,76.9,73.3,70.4,66.5,61.5,76.5,71.6,18.5,42.2,54.3,65.1,52.9,7.8,76.5,70.2,34.9,79.2,49.1,17.5,13.0,8.9,6.8,8.4,32.0,19.1,34.2,86.9,100.0,100.0,81.8,89.4,91.5,94.5,91.6,62.8,84.6,67.0,52.6,61.5,42.1,16.3,58.7,51.8,32.9,42.8,49.0,27.6,32.1,32.2,64.5,37.2,49.7,24.8,20.8,31.9,31.5,31.3,45.6,22.9,27.9,27.7,23.4,18.4,42.3,31.1,51.0,58.0,20.1,10.0,47.4,40.4,18.4,17.7,41.1,58.1,71.9,70.3,82.5,76.7,37.8,52.8,90.4,82.8,87.3,77.7,83.2,71.7,67.2,58.8,52.3,54.3,49.9,74.3,40.1,14.7,28.9,43.7,25.8,17.2,32.2,28.4,23.3,38.1,38.5,34.5,46.3,59.6,37.3,45.4,58.5,49.3,59.7,56.4,28.1,48.5,52.3,27.7,29.7,34.5,44.4,35.9,18.5,36.1,21.9,19.5,97.4,91.0,83.4,81.3,88.0,91.1,96.2,89.0,82.9,87.9,91.4,100.0,100.0,96.8,97.5,100.0,89.6,100.0,100.0,97.9,93.3,98.8,96.2,100.0,91.9,99.1,100.0,100.0,91.2,98.1,100.0,89.5,100.0,98.9,97.0,82.5,97.0,92.6,94.7,98.8,96.0,98.9,100.0,77.8,100.0,100.0,100.0,96.0,85.4,100.0,100.0,100.0,97.9,100.0,100.0,100.0,100.0,100.0,100.0,100.0,90.8,89.1,100.0,76.5,100.0,95.3,87.6,85.1,70.6,95.4,59.7,78.7,78.1,95.6,86.1,94.3,74.8,87.9,95.0,94.6,93.3,100.0,87.9,93.9,92.4,97.2,100.0,100.0,96.6,94.8,96.4,96.6,98.7,98.3,92.6,98.2,91.8,99.3,94.1,86.5,87.9,80.3,83.7,84.4,90.0,88.4,83.0,89.9,65.4,48.2,84.7,94.5,71.0,56.7,84.0,90.7,75.0,67.6,95.4,97.4,93.6,97.3,96.7,88.0,64.7,74.9,77.0,40.3,41.9,51.9,79.8,53.2,92.7,98.3,98.0,98.8,83.5,54.0,42.6,28.8,72.9,70.6,65.3,73.5,79.7,69.1,76.7,91.0,89.3,80.8,4.09,4.9671,4.9671,6.0622,6.0622,6.0622,5.5605,5.9505,6.0821,6.5921,6.3467,6.2267,5.4509,4.7075,4.4619,4.4986,4.4986,4.2579,3.7965,3.7965,3.7979,4.0123,3.9769,4.0952,4.3996,4.4546,4.682,4.4534,4.4547,4.239,4.233,4.175,3.99,3.7872,3.7598,3.3603,3.3779,3.9342,3.8473,5.4011,5.4011,5.7209,5.7209,5.7209,5.7209,5.1004,5.1004,5.6894,5.87,6.0877,6.8147,6.8147,6.8147,6.8147,7.3197,8.6966,9.1876,8.3248,7.8148,6.932,7.2254,6.8185,7.2255,7.9809,9.2229,6.6115,6.6115,6.498,6.498,6.498,5.2873,5.2873,5.2873,5.2873,4.2515,4.5026,4.0522,4.0905,5.0141,4.5026,5.4007,5.4007,5.4007,5.4007,4.7794,4.4377,4.4272,3.7476,3.4217,3.4145,3.0923,3.0921,3.6659,3.6659,3.615,3.4952,3.4952,3.4952,3.4952,3.4952,2.7778,2.8561,2.7147,2.7147,2.421,2.1069,2.211,2.1224,2.4329,2.5451,2.7778,2.6775,2.3534,2.548,2.2565,2.4631,2.7301,2.7474,2.4775,2.7592,2.2577,2.1974,2.0869,1.9444,2.0063,1.9929,1.7572,1.7883,1.8125,1.9799,2.1185,2.271,2.3274,2.4699,2.346,2.1107,1.9669,1.8498,1.6686,1.6687,1.6119,1.4394,1.3216,1.4118,1.3459,1.4191,1.5166,1.4608,1.5296,1.5257,1.618,1.5916,1.6102,1.6232,1.7494,1.7455,1.7364,1.8773,1.7573,1.7659,1.7984,1.9709,2.0407,2.162,2.422,2.2834,2.0459,2.4259,2.1,2.2625,2.4259,2.3887,2.5961,2.6463,2.7019,3.1323,3.5549,3.3175,2.9153,2.829,2.741,2.5979,2.7006,2.847,2.9879,3.2797,3.1992,3.7886,4.5667,4.5667,6.4798,6.4798,6.4798,6.2196,6.2196,5.6484,7.309,7.309,7.309,7.6534,7.6534,6.27,6.27,5.118,5.118,3.9454,4.3549,4.3549,4.2392,3.875,3.8771,3.665,3.6526,3.9454,3.5875,3.9454,3.1121,3.4211,2.8893,3.3633,2.8617,3.048,3.2721,3.2721,2.8944,2.8944,3.2157,3.2157,3.3751,3.3751,3.6715,3.6715,3.8384,3.6519,3.6519,3.6519,4.148,4.148,6.1899,6.1899,6.3361,6.3361,7.0355,7.0355,7.9549,7.9549,8.0555,8.0555,7.8265,7.8265,7.3967,7.3967,8.9067,8.9067,9.2203,9.2203,6.3361,1.801,1.8946,2.0107,2.1121,2.1398,2.2885,2.0788,1.9301,1.9865,2.1329,2.4216,2.872,3.9175,4.429,4.429,3.9175,4.3665,4.0776,4.2673,4.7872,4.8628,4.1403,4.1007,4.6947,5.2447,5.2119,5.885,7.3073,7.3073,9.0892,7.3172,7.3172,7.3172,5.1167,5.1167,5.1167,5.5027,5.5027,5.9604,5.9604,6.32,7.8278,7.8278,7.8278,5.4917,5.4917,5.4917,4.022,3.37,3.0992,3.1827,3.3175,3.1025,2.5194,2.6403,2.834,3.2628,3.6023,3.945,3.9986,4.0317,3.5325,4.0019,4.5404,4.5404,4.7211,4.7211,4.7211,5.4159,5.4159,5.4159,5.2146,5.2146,5.8736,6.6407,6.6407,6.4584,6.4584,5.9853,5.2311,5.615,4.8122,4.8122,4.8122,7.0379,6.2669,5.7321,6.4654,8.0136,8.0136,8.5353,8.344,8.7921,8.7921,10.7103,10.7103,12.1265,10.5857,10.5857,2.1222,2.5052,2.7227,2.5091,2.5182,2.2955,2.1036,1.9047,1.9047,1.6132,1.7523,1.5106,1.3325,1.3567,1.2024,1.1691,1.1296,1.1742,1.137,1.3163,1.3449,1.358,1.3861,1.3861,1.4165,1.5192,1.5804,1.5331,1.4395,1.4261,1.4672,1.5184,1.5895,1.7281,1.9265,2.1678,1.77,1.7912,1.7821,1.7257,1.6768,1.6334,1.4896,1.5004,1.5888,1.5741,1.639,1.7028,1.6074,1.4254,1.1781,1.2852,1.4547,1.4655,1.413,1.5275,1.5539,1.5894,1.6582,1.8347,1.8195,1.6475,1.8026,1.794,1.8589,1.8746,1.9512,2.0218,2.0635,1.9096,1.9976,1.8629,1.9356,1.9682,2.0527,2.0882,2.2004,2.3158,2.2222,2.1247,2.0026,1.9142,1.8206,1.8172,1.8662,2.0651,2.0048,1.9784,1.8956,1.9879,2.072,2.198,2.2616,2.185,2.3236,2.3552,2.3682,2.4527,2.4961,2.4358,2.5806,2.7792,2.7831,2.7175,2.5975,2.5671,2.7344,2.8016,2.9634,3.0665,2.8715,2.5403,2.9084,2.8237,3.0334,3.0993,2.8965,2.5329,2.4298,2.206,2.3053,2.1007,2.1705,1.9512,3.4242,3.3317,3.4106,4.0983,3.724,3.9917,3.5459,3.1523,1.8209,1.7554,1.8226,1.8681,2.1099,2.3817,2.3817,2.7986,2.7986,2.8927,2.4091,2.3999,2.4982,2.4786,2.2875,2.1675,2.3889,2.505,1.0,2.0,2.0,3.0,3.0,3.0,5.0,5.0,5.0,5.0,5.0,5.0,5.0,4.0,4.0,4.0,4.0,4.0,4.0,4.0,4.0,4.0,4.0,4.0,4.0,4.0,4.0,4.0,4.0,4.0,4.0,4.0,4.0,4.0,4.0,5.0,5.0,5.0,5.0,3.0,3.0,3.0,3.0,3.0,3.0,3.0,3.0,3.0,3.0,3.0,4.0,4.0,4.0,4.0,3.0,5.0,2.0,5.0,8.0,8.0,8.0,8.0,8.0,8.0,3.0,4.0,4.0,4.0,4.0,4.0,4.0,4.0,4.0,4.0,5.0,5.0,5.0,5.0,5.0,5.0,4.0,4.0,4.0,4.0,3.0,3.0,3.0,3.0,2.0,2.0,2.0,2.0,4.0,4.0,4.0,2.0,2.0,2.0,2.0,2.0,5.0,5.0,5.0,5.0,5.0,5.0,5.0,5.0,5.0,5.0,5.0,6.0,6.0,6.0,6.0,6.0,6.0,6.0,6.0,6.0,2.0,2.0,2.0,2.0,2.0,2.0,2.0,4.0,4.0,4.0,4.0,4.0,4.0,4.0,4.0,4.0,4.0,4.0,4.0,4.0,4.0,4.0,5.0,5.0,5.0,5.0,5.0,5.0,5.0,5.0,5.0,5.0,5.0,5.0,5.0,5.0,5.0,5.0,5.0,5.0,5.0,5.0,5.0,5.0,5.0,5.0,5.0,5.0,5.0,5.0,5.0,5.0,5.0,5.0,5.0,5.0,5.0,5.0,5.0,3.0,3.0,3.0,3.0,3.0,3.0,3.0,3.0,5.0,5.0,5.0,5.0,5.0,5.0,1.0,1.0,4.0,2.0,2.0,2.0,3.0,3.0,2.0,2.0,4.0,4.0,4.0,4.0,4.0,4.0,4.0,4.0,4.0,4.0,4.0,4.0,4.0,5.0,5.0,5.0,5.0,8.0,8.0,8.0,8.0,8.0,8.0,8.0,8.0,8.0,8.0,8.0,8.0,8.0,8.0,8.0,8.0,8.0,8.0,6.0,6.0,6.0,6.0,6.0,6.0,7.0,7.0,7.0,7.0,7.0,7.0,7.0,7.0,7.0,7.0,1.0,1.0,3.0,5.0,5.0,5.0,5.0,5.0,5.0,5.0,5.0,5.0,5.0,5.0,5.0,3.0,3.0,3.0,3.0,3.0,4.0,4.0,4.0,4.0,4.0,5.0,5.0,5.0,5.0,1.0,1.0,1.0,1.0,6.0,6.0,6.0,4.0,4.0,4.0,4.0,4.0,4.0,4.0,4.0,5.0,5.0,5.0,7.0,7.0,7.0,7.0,7.0,7.0,7.0,4.0,4.0,4.0,4.0,4.0,4.0,4.0,4.0,4.0,4.0,4.0,4.0,5.0,5.0,5.0,5.0,5.0,5.0,5.0,5.0,4.0,4.0,4.0,1.0,1.0,5.0,5.0,5.0,5.0,5.0,5.0,5.0,5.0,1.0,1.0,5.0,5.0,3.0,3.0,4.0,4.0,1.0,1.0,4.0,4.0,5.0,4.0,4.0,24.0,24.0,24.0,24.0,24.0,24.0,24.0,24.0,24.0,24.0,24.0,24.0,24.0,24.0,24.0,24.0,24.0,24.0,24.0,24.0,24.0,24.0,24.0,24.0,24.0,24.0,24.0,24.0,24.0,24.0,24.0,24.0,24.0,24.0,24.0,24.0,24.0,24.0,24.0,24.0,24.0,24.0,24.0,24.0,24.0,24.0,24.0,24.0,24.0,24.0,24.0,24.0,24.0,24.0,24.0,24.0,24.0,24.0,24.0,24.0,24.0,24.0,24.0,24.0,24.0,24.0,24.0,24.0,24.0,24.0,24.0,24.0,24.0,24.0,24.0,24.0,24.0,24.0,24.0,24.0,24.0,24.0,24.0,24.0,24.0,24.0,24.0,24.0,24.0,24.0,24.0,24.0,24.0,24.0,24.0,24.0,24.0,24.0,24.0,24.0,24.0,24.0,24.0,24.0,24.0,24.0,24.0,24.0,24.0,24.0,24.0,24.0,24.0,24.0,24.0,24.0,24.0,24.0,24.0,24.0,24.0,24.0,24.0,24.0,24.0,24.0,24.0,24.0,24.0,24.0,24.0,24.0,4.0,4.0,4.0,4.0,4.0,6.0,6.0,6.0,6.0,6.0,6.0,6.0,6.0,1.0,1.0,1.0,1.0,1.0,296.0,242.0,242.0,222.0,222.0,222.0,311.0,311.0,311.0,311.0,311.0,311.0,311.0,307.0,307.0,307.0,307.0,307.0,307.0,307.0,307.0,307.0,307.0,307.0,307.0,307.0,307.0,307.0,307.0,307.0,307.0,307.0,307.0,307.0,307.0,279.0,279.0,279.0,279.0,252.0,252.0,233.0,233.0,233.0,233.0,233.0,233.0,233.0,233.0,233.0,243.0,243.0,243.0,243.0,469.0,226.0,313.0,256.0,284.0,284.0,284.0,284.0,284.0,284.0,216.0,337.0,337.0,345.0,345.0,345.0,305.0,305.0,305.0,305.0,398.0,398.0,398.0,398.0,398.0,398.0,281.0,281.0,281.0,281.0,247.0,247.0,247.0,247.0,270.0,270.0,270.0,270.0,270.0,270.0,270.0,276.0,276.0,276.0,276.0,276.0,384.0,384.0,384.0,384.0,384.0,384.0,384.0,384.0,384.0,384.0,384.0,432.0,432.0,432.0,432.0,432.0,432.0,432.0,432.0,432.0,188.0,188.0,188.0,188.0,188.0,188.0,188.0,437.0,437.0,437.0,437.0,437.0,437.0,437.0,437.0,437.0,437.0,437.0,437.0,437.0,437.0,437.0,403.0,403.0,403.0,403.0,403.0,403.0,403.0,403.0,403.0,403.0,403.0,403.0,403.0,403.0,403.0,403.0,403.0,403.0,403.0,403.0,403.0,403.0,403.0,403.0,403.0,403.0,403.0,403.0,403.0,403.0,296.0,296.0,296.0,296.0,296.0,296.0,296.0,193.0,193.0,193.0,193.0,193.0,193.0,193.0,193.0,398.0,398.0,398.0,398.0,398.0,398.0,265.0,265.0,255.0,329.0,329.0,329.0,402.0,402.0,348.0,348.0,224.0,224.0,277.0,277.0,277.0,277.0,277.0,277.0,277.0,277.0,277.0,277.0,277.0,276.0,276.0,276.0,276.0,307.0,307.0,307.0,307.0,307.0,307.0,307.0,307.0,307.0,307.0,307.0,307.0,307.0,307.0,307.0,307.0,307.0,307.0,300.0,300.0,300.0,300.0,300.0,300.0,330.0,330.0,330.0,330.0,330.0,330.0,330.0,330.0,330.0,330.0,315.0,315.0,244.0,264.0,264.0,264.0,264.0,264.0,264.0,264.0,264.0,264.0,264.0,264.0,264.0,223.0,223.0,223.0,223.0,223.0,254.0,254.0,254.0,254.0,254.0,216.0,216.0,216.0,216.0,198.0,285.0,300.0,241.0,293.0,293.0,293.0,245.0,245.0,245.0,289.0,289.0,289.0,289.0,289.0,358.0,358.0,358.0,329.0,329.0,329.0,222.0,222.0,222.0,222.0,304.0,304.0,304.0,304.0,304.0,304.0,304.0,304.0,304.0,304.0,304.0,304.0,287.0,287.0,287.0,287.0,287.0,287.0,287.0,287.0,430.0,430.0,430.0,304.0,304.0,224.0,224.0,224.0,224.0,224.0,224.0,224.0,224.0,284.0,422.0,370.0,370.0,352.0,352.0,351.0,280.0,335.0,335.0,411.0,411.0,187.0,334.0,334.0,666.0,666.0,666.0,666.0,666.0,666.0,666.0,666.0,666.0,666.0,666.0,666.0,666.0,666.0,666.0,666.0,666.0,666.0,666.0,666.0,666.0,666.0,666.0,666.0,666.0,666.0,666.0,666.0,666.0,666.0,666.0,666.0,666.0,666.0,666.0,666.0,666.0,666.0,666.0,666.0,666.0,666.0,666.0,666.0,666.0,666.0,666.0,666.0,666.0,666.0,666.0,666.0,666.0,666.0,666.0,666.0,666.0,666.0,666.0,666.0,666.0,666.0,666.0,666.0,666.0,666.0,666.0,666.0,666.0,666.0,666.0,666.0,666.0,666.0,666.0,666.0,666.0,666.0,666.0,666.0,666.0,666.0,666.0,666.0,666.0,666.0,666.0,666.0,666.0,666.0,666.0,666.0,666.0,666.0,666.0,666.0,666.0,666.0,666.0,666.0,666.0,666.0,666.0,666.0,666.0,666.0,666.0,666.0,666.0,666.0,666.0,666.0,666.0,666.0,666.0,666.0,666.0,666.0,666.0,666.0,666.0,666.0,666.0,666.0,666.0,666.0,666.0,666.0,666.0,666.0,666.0,666.0,711.0,711.0,711.0,711.0,711.0,391.0,391.0,391.0,391.0,391.0,391.0,391.0,391.0,273.0,273.0,273.0,273.0,273.0,15.3,17.8,17.8,18.7,18.7,18.7,15.2,15.2,15.2,15.2,15.2,15.2,15.2,21.0,21.0,21.0,21.0,21.0,21.0,21.0,21.0,21.0,21.0,21.0,21.0,21.0,21.0,21.0,21.0,21.0,21.0,21.0,21.0,21.0,21.0,19.2,19.2,19.2,19.2,18.3,18.3,17.9,17.9,17.9,17.9,17.9,17.9,17.9,17.9,17.9,16.8,16.8,16.8,16.8,21.1,17.9,17.3,15.1,19.7,19.7,19.7,19.7,19.7,19.7,18.6,16.1,16.1,18.9,18.9,18.9,19.2,19.2,19.2,19.2,18.7,18.7,18.7,18.7,18.7,18.7,19.0,19.0,19.0,19.0,18.5,18.5,18.5,18.5,17.8,17.8,17.8,17.8,18.2,18.2,18.2,18.0,18.0,18.0,18.0,18.0,20.9,20.9,20.9,20.9,20.9,20.9,20.9,20.9,20.9,20.9,20.9,17.8,17.8,17.8,17.8,17.8,17.8,17.8,17.8,17.8,19.1,19.1,19.1,19.1,19.1,19.1,19.1,21.2,21.2,21.2,21.2,21.2,21.2,21.2,21.2,21.2,21.2,21.2,21.2,21.2,21.2,21.2,14.7,14.7,14.7,14.7,14.7,14.7,14.7,14.7,14.7,14.7,14.7,14.7,14.7,14.7,14.7,14.7,14.7,14.7,14.7,14.7,14.7,14.7,14.7,14.7,14.7,14.7,14.7,14.7,14.7,14.7,16.6,16.6,16.6,16.6,16.6,16.6,16.6,17.8,17.8,17.8,17.8,17.8,17.8,17.8,17.8,15.2,15.2,15.2,15.2,15.2,15.2,15.6,15.6,14.4,12.6,12.6,12.6,17.0,17.0,14.7,14.7,14.7,14.7,18.6,18.6,18.6,18.6,18.6,18.6,18.6,18.6,18.6,18.6,18.6,16.4,16.4,16.4,16.4,17.4,17.4,17.4,17.4,17.4,17.4,17.4,17.4,17.4,17.4,17.4,17.4,17.4,17.4,17.4,17.4,17.4,17.4,16.6,16.6,16.6,16.6,16.6,16.6,19.1,19.1,19.1,19.1,19.1,19.1,19.1,19.1,19.1,19.1,16.4,16.4,15.9,13.0,13.0,13.0,13.0,13.0,13.0,13.0,13.0,13.0,13.0,13.0,13.0,18.6,18.6,18.6,18.6,18.6,17.6,17.6,17.6,17.6,17.6,14.9,14.9,14.9,14.9,13.6,15.3,15.3,18.2,16.6,16.6,16.6,19.2,19.2,19.2,16.0,16.0,16.0,16.0,16.0,14.8,14.8,14.8,16.1,16.1,16.1,18.4,18.4,18.4,18.4,18.4,18.4,18.4,18.4,18.4,18.4,18.4,18.4,18.4,18.4,18.4,18.4,19.6,19.6,19.6,19.6,19.6,19.6,19.6,19.6,16.9,16.9,16.9,16.9,16.9,20.2,20.2,20.2,20.2,20.2,20.2,20.2,20.2,15.5,15.9,17.6,17.6,18.8,18.8,17.9,17.0,19.7,19.7,18.3,18.3,17.0,22.0,22.0,20.2,20.2,20.2,20.2,20.2,20.2,20.2,20.2,20.2,20.2,20.2,20.2,20.2,20.2,20.2,20.2,20.2,20.2,20.2,20.2,20.2,20.2,20.2,20.2,20.2,20.2,20.2,20.2,20.2,20.2,20.2,20.2,20.2,20.2,20.2,20.2,20.2,20.2,20.2,20.2,20.2,20.2,20.2,20.2,20.2,20.2,20.2,20.2,20.2,20.2,20.2,20.2,20.2,20.2,20.2,20.2,20.2,20.2,20.2,20.2,20.2,20.2,20.2,20.2,20.2,20.2,20.2,20.2,20.2,20.2,20.2,20.2,20.2,20.2,20.2,20.2,20.2,20.2,20.2,20.2,20.2,20.2,20.2,20.2,20.2,20.2,20.2,20.2,20.2,20.2,20.2,20.2,20.2,20.2,20.2,20.2,20.2,20.2,20.2,20.2,20.2,20.2,20.2,20.2,20.2,20.2,20.2,20.2,20.2,20.2,20.2,20.2,20.2,20.2,20.2,20.2,20.2,20.2,20.2,20.2,20.2,20.2,20.2,20.2,20.2,20.2,20.2,20.2,20.2,20.2,20.2,20.2,20.1,20.1,20.1,20.1,20.1,19.2,19.2,19.2,19.2,19.2,19.2,19.2,19.2,21.0,21.0,21.0,21.0,21.0,396.9,396.9,392.83,394.63,396.9,394.12,395.6,396.9,386.63,386.71,392.52,396.9,390.5,396.9,380.02,395.62,386.85,386.75,288.99,390.95,376.57,392.53,396.9,394.54,394.33,303.42,376.88,306.38,387.94,380.23,360.17,376.73,232.6,358.77,248.31,396.9,377.56,396.9,393.43,395.63,395.62,385.41,383.37,394.46,389.39,396.9,396.9,392.74,396.9,396.9,395.56,393.97,396.9,396.9,396.9,395.93,396.9,392.9,390.68,396.9,395.11,378.08,396.9,395.58,393.24,396.9,396.9,396.21,396.9,396.9,383.73,376.94,390.91,377.17,394.92,383.23,373.66,386.96,386.4,396.06,396.9,395.63,396.9,390.64,396.9,392.3,395.99,395.15,396.9,396.06,392.18,393.55,395.01,396.33,396.9,357.98,391.83,396.9,393.53,396.9,394.76,395.58,70.8,394.47,392.69,394.05,395.67,387.69,395.24,391.23,393.49,395.59,394.95,396.9,388.74,344.91,393.3,394.51,338.63,391.5,389.15,377.67,378.09,370.31,379.38,385.02,359.29,392.11,396.9,396.9,395.04,396.9,385.76,388.69,262.76,394.67,378.25,394.08,392.04,396.9,388.08,396.9,396.9,396.9,396.9,172.91,169.27,391.71,356.99,351.85,372.8,341.6,343.28,261.95,321.02,88.01,88.63,363.43,353.89,364.31,338.92,374.43,389.61,388.45,395.11,240.16,369.3,227.61,297.09,330.04,292.29,348.13,396.9,395.5,393.23,390.96,393.23,395.6,391.27,396.9,395.56,396.9,394.12,396.9,391.0,387.11,392.63,393.87,382.84,396.9,377.68,389.71,390.49,393.37,376.7,394.23,396.9,354.31,392.2,396.9,384.3,393.77,395.38,392.78,390.55,396.9,394.87,389.43,381.32,396.9,393.25,395.24,390.94,385.81,348.93,393.63,392.8,392.78,396.9,393.74,391.7,395.24,390.39,396.9,385.05,382.0,387.38,372.08,377.51,380.34,378.35,376.14,385.91,378.95,360.2,376.75,388.45,390.07,379.41,383.78,391.25,394.62,372.75,374.71,372.49,389.13,390.18,376.14,374.71,393.74,396.28,377.07,386.09,396.9,392.89,395.18,386.34,389.7,383.29,391.93,392.8,388.37,386.86,393.42,387.89,392.4,384.07,384.54,390.3,391.34,388.65,396.9,394.96,390.77,396.9,396.9,389.25,393.45,396.9,396.9,387.31,392.23,377.07,395.52,394.72,394.72,341.6,396.9,396.9,371.72,396.9,396.9,396.9,396.9,396.9,396.9,392.85,396.9,368.24,371.58,390.86,395.75,383.61,390.43,393.68,393.36,396.9,396.9,396.9,396.24,350.45,396.9,396.3,393.39,395.69,396.42,390.7,396.9,395.21,396.23,396.9,396.9,396.9,391.13,396.9,393.68,396.9,396.9,382.44,375.21,368.57,394.02,362.25,389.71,389.4,396.9,396.9,394.81,396.14,396.9,396.9,394.74,389.96,396.9,387.97,385.64,364.61,392.43,390.94,389.85,396.9,370.78,392.33,384.46,382.8,376.04,377.73,391.34,395.43,390.74,374.56,350.65,380.79,353.04,354.55,354.7,316.03,131.42,375.52,375.33,392.05,366.15,347.88,396.9,396.9,396.9,363.02,396.9,396.9,393.74,396.9,396.9,396.9,396.9,285.83,396.9,396.9,396.9,372.92,396.9,394.43,378.38,396.9,396.9,396.9,391.98,396.9,393.1,396.9,338.16,396.9,396.9,376.11,396.9,329.46,384.97,370.22,332.09,314.64,179.36,2.6,35.05,28.79,210.97,88.27,27.25,21.57,127.36,16.45,48.45,318.75,319.98,291.55,2.52,3.65,7.68,24.65,18.82,96.73,60.72,83.45,81.33,97.95,100.19,100.63,109.85,27.49,9.32,68.95,396.9,391.45,385.96,395.69,386.73,240.52,43.06,318.01,388.52,396.9,304.21,0.32,355.29,385.09,375.87,6.68,50.92,10.48,3.5,272.21,396.9,255.23,391.43,396.9,393.82,396.9,334.4,22.01,331.29,368.74,396.9,396.9,395.33,393.37,374.68,352.58,302.76,396.21,349.48,379.7,383.32,396.9,393.07,395.28,392.92,370.73,388.62,392.68,388.22,395.09,344.05,318.43,390.11,396.9,396.9,396.9,393.29,396.9,396.9,396.9,395.77,396.9,391.99,396.9,396.9,393.45,396.9,4.98,9.14,4.03,2.94,5.33,5.21,12.43,19.15,29.93,17.1,20.45,13.27,15.71,8.26,10.26,8.47,6.58,14.67,11.69,11.28,21.02,13.83,18.72,19.88,16.3,16.51,14.81,17.28,12.8,11.98,22.6,13.04,27.71,18.35,20.34,9.68,11.41,8.77,10.13,4.32,1.98,4.84,5.81,7.44,9.55,10.21,14.15,18.8,30.81,16.2,13.45,9.43,5.28,8.43,14.8,4.81,5.77,3.95,6.86,9.22,13.15,14.44,6.73,9.5,8.05,4.67,10.24,8.1,13.09,8.79,6.72,9.88,5.52,7.54,6.78,8.94,11.97,10.27,12.34,9.1,5.29,7.22,6.72,7.51,9.62,6.53,12.86,8.44,5.5,5.7,8.81,8.2,8.16,6.21,10.59,6.65,11.34,4.21,3.57,6.19,9.42,7.67,10.63,13.44,12.33,16.47,18.66,14.09,12.27,15.55,13.0,10.16,16.21,17.09,10.45,15.76,12.04,10.3,15.37,13.61,14.37,14.27,17.93,25.41,17.58,14.81,27.26,17.19,15.39,18.34,12.6,12.26,11.12,15.03,17.31,16.96,16.9,14.59,21.32,18.46,24.16,34.41,26.82,26.42,29.29,27.8,16.65,29.53,28.32,21.45,14.1,13.28,12.12,15.79,15.12,15.02,16.14,4.59,6.43,7.39,5.5,1.73,1.92,3.32,11.64,9.81,3.7,12.14,11.1,11.32,14.43,12.03,14.69,9.04,9.64,5.33,10.11,6.29,6.92,5.04,7.56,9.45,4.82,5.68,13.98,13.15,4.45,6.68,4.56,5.39,5.1,4.69,2.87,5.03,4.38,2.97,4.08,8.61,6.62,4.56,4.45,7.43,3.11,3.81,2.88,10.87,10.97,18.06,14.66,23.09,17.27,23.98,16.03,9.38,29.55,9.47,13.51,9.69,17.92,10.5,9.71,21.46,9.93,7.6,4.14,4.63,3.13,6.36,3.92,3.76,11.65,5.25,2.47,3.95,8.05,10.88,9.54,4.73,6.36,7.37,11.38,12.4,11.22,5.19,12.5,18.46,9.16,10.15,9.52,6.56,5.9,3.59,3.53,3.54,6.57,9.25,3.11,5.12,7.79,6.9,9.59,7.26,5.91,11.25,8.1,10.45,14.79,7.44,3.16,13.65,13.0,6.59,7.73,6.58,3.53,2.98,6.05,4.16,7.19,4.85,3.76,4.59,3.01,3.16,7.85,8.23,12.93,7.14,7.6,9.51,3.33,3.56,4.7,8.58,10.4,6.27,7.39,15.84,4.97,4.74,6.07,9.5,8.67,4.86,6.93,8.93,6.47,7.53,4.54,9.97,12.64,5.98,11.72,7.9,9.28,11.5,18.33,15.94,10.36,12.73,7.2,6.87,7.7,11.74,6.12,5.08,6.15,12.79,9.97,7.34,9.09,12.43,7.83,5.68,6.75,8.01,9.8,10.56,8.51,9.74,9.29,5.49,8.65,7.18,4.61,10.53,12.67,6.36,5.99,5.89,5.98,5.49,7.79,4.5,8.05,5.57,17.6,13.27,11.48,12.67,7.79,14.19,10.19,14.64,5.29,7.12,14.0,13.33,3.26,3.73,2.96,9.53,8.88,34.77,37.97,13.44,23.24,21.24,23.69,21.78,17.21,21.08,23.6,24.56,30.63,30.81,28.28,31.99,30.62,20.85,17.11,18.76,25.68,15.17,16.35,17.12,19.37,19.92,30.59,29.97,26.77,20.32,20.31,19.77,27.38,22.98,23.34,12.13,26.4,19.78,10.11,21.22,34.37,20.08,36.98,29.05,25.79,26.64,20.62,22.74,15.02,15.7,14.1,23.29,17.16,24.39,15.69,14.52,21.52,24.08,17.64,19.69,12.03,16.22,15.17,23.27,18.05,26.45,34.02,22.88,22.11,19.52,16.59,18.85,23.79,23.98,17.79,16.44,18.13,19.31,17.44,17.73,17.27,16.74,18.71,18.13,19.01,16.94,16.23,14.7,16.42,14.65,13.99,10.29,13.22,14.13,17.15,21.32,18.13,14.76,16.29,12.87,14.36,11.66,18.14,24.1,18.68,24.91,18.03,13.11,10.74,7.74,7.01,10.42,13.34,10.58,14.98,11.45,18.06,23.97,29.68,18.07,13.35,12.01,13.59,17.6,21.14,14.1,12.92,15.1,14.33,9.67,9.08,5.64,6.48,7.88,24.0,21.6,34.7,33.4,36.2,28.7,22.9,27.1,16.5,18.9,15.0,18.9,21.7,20.4,18.2,19.9,23.1,17.5,20.2,18.2,13.6,19.6,15.2,14.5,15.6,13.9,16.6,14.8,18.4,21.0,12.7,14.5,13.2,13.1,13.5,18.9,20.0,21.0,24.7,30.8,34.9,26.6,25.3,24.7,21.2,19.3,20.0,16.6,14.4,19.4,19.7,20.5,25.0,23.4,18.9,35.4,24.7,31.6,23.3,19.6,18.7,16.0,22.2,25.0,33.0,23.5,19.4,22.0,17.4,20.9,24.2,21.7,22.8,23.4,24.1,21.4,20.0,20.8,21.2,20.3,28.0,23.9,24.8,22.9,23.9,26.6,22.5,22.2,23.6,28.7,22.6,22.0,22.9,25.0,20.6,28.4,21.4,38.7,43.8,33.2,27.5,26.5,18.6,19.3,20.1,19.5,19.5,20.4,19.8,19.4,21.7,22.8,18.8,18.7,18.5,18.3,21.2,19.2,20.4,19.3,22.0,20.3,20.5,17.3,18.8,21.4,15.7,16.2,18.0,14.3,19.2,19.6,23.0,18.4,15.6,18.1,17.4,17.1,13.3,17.8,14.0,14.4,13.4,15.6,11.8,13.8,15.6,14.6,17.8,15.4,21.5,19.6,15.3,19.4,17.0,15.6,13.1,41.3,24.3,23.3,27.0,50.0,50.0,50.0,22.7,25.0,50.0,23.8,23.8,22.3,17.4,19.1,23.1,23.6,22.6,29.4,23.2,24.6,29.9,37.2,39.8,36.2,37.9,32.5,26.4,29.6,50.0,32.0,29.8,34.9,37.0,30.5,36.4,31.1,29.1,50.0,33.3,30.3,34.6,34.9,32.9,24.1,42.3,48.5,50.0,22.6,24.4,22.5,24.4,20.0,21.7,19.3,22.4,28.1,23.7,25.0,23.3,28.7,21.5,23.0,26.7,21.7,27.5,30.1,44.8,50.0,37.6,31.6,46.7,31.5,24.3,31.7,41.7,48.3,29.0,24.0,25.1,31.5,23.7,23.3,22.0,20.1,22.2,23.7,17.6,18.5,24.3,20.5,24.5,26.2,24.4,24.8,29.6,42.8,21.9,20.9,44.0,50.0,36.0,30.1,33.8,43.1,48.8,31.0,36.5,22.8,30.7,50.0,43.5,20.7,21.1,25.2,24.4,35.2,32.4,32.0,33.2,33.1,29.1,35.1,45.4,35.4,46.0,50.0,32.2,22.0,20.1,23.2,22.3,24.8,28.5,37.3,27.9,23.9,21.7,28.6,27.1,20.3,22.5,29.0,24.8,22.0,26.4,33.1,36.1,28.4,33.4,28.2,22.8,20.3,16.1,22.1,19.4,21.6,23.8,16.2,17.8,19.8,23.1,21.0,23.8,23.1,20.4,18.5,25.0,24.6,23.0,22.2,19.3,22.6,19.8,17.1,19.4,22.2,20.7,21.1,19.5,18.5,20.6,19.0,18.7,32.7,16.5,23.9,31.2,17.5,17.2,23.1,24.5,26.6,22.9,24.1,18.6,30.1,18.2,20.6,17.8,21.7,22.7,22.6,25.0,19.9,20.8,16.8,21.9,27.5,21.9,23.1,50.0,50.0,50.0,50.0,50.0,13.8,13.8,15.0,13.9,13.3,13.1,10.2,10.4,10.9,11.3,12.3,8.8,7.2,10.5,7.4,10.2,11.5,15.1,23.2,9.7,13.8,12.7,13.1,12.5,8.5,5.0,6.3,5.6,7.2,12.1,8.3,8.5,5.0,11.9,27.9,17.2,27.5,15.0,17.2,17.9,16.3,7.0,7.2,7.5,10.4,8.8,8.4,16.7,14.2,20.8,13.4,11.7,8.3,10.2,10.9,11.0,9.5,14.5,14.1,16.1,14.3,11.7,13.4,9.6,8.7,8.4,12.8,10.5,17.1,18.4,15.4,10.8,11.8,14.9,12.6,14.1,13.0,13.4,15.2,16.1,17.8,14.9,14.1,12.7,13.5,14.9,20.0,16.4,17.7,19.5,20.2,21.4,19.9,19.0,19.1,19.1,20.1,19.9,19.6,23.2,29.8,13.8,13.3,16.7,12.0,14.6,21.4,23.0,23.7,25.0,21.8,20.6,21.2,19.1,20.6,15.2,7.0,8.1,13.6,20.1,21.8,24.5,23.1,19.7,18.3,21.2,17.5,16.8,22.4,20.6,23.9,22.0,11.9],\"y0\":\" \",\"yaxis\":\"y\",\"type\":\"box\"}],                        {\"template\":{\"data\":{\"histogram2dcontour\":[{\"type\":\"histogram2dcontour\",\"colorbar\":{\"outlinewidth\":0,\"ticks\":\"\"},\"colorscale\":[[0.0,\"#0d0887\"],[0.1111111111111111,\"#46039f\"],[0.2222222222222222,\"#7201a8\"],[0.3333333333333333,\"#9c179e\"],[0.4444444444444444,\"#bd3786\"],[0.5555555555555556,\"#d8576b\"],[0.6666666666666666,\"#ed7953\"],[0.7777777777777778,\"#fb9f3a\"],[0.8888888888888888,\"#fdca26\"],[1.0,\"#f0f921\"]]}],\"choropleth\":[{\"type\":\"choropleth\",\"colorbar\":{\"outlinewidth\":0,\"ticks\":\"\"}}],\"histogram2d\":[{\"type\":\"histogram2d\",\"colorbar\":{\"outlinewidth\":0,\"ticks\":\"\"},\"colorscale\":[[0.0,\"#0d0887\"],[0.1111111111111111,\"#46039f\"],[0.2222222222222222,\"#7201a8\"],[0.3333333333333333,\"#9c179e\"],[0.4444444444444444,\"#bd3786\"],[0.5555555555555556,\"#d8576b\"],[0.6666666666666666,\"#ed7953\"],[0.7777777777777778,\"#fb9f3a\"],[0.8888888888888888,\"#fdca26\"],[1.0,\"#f0f921\"]]}],\"heatmap\":[{\"type\":\"heatmap\",\"colorbar\":{\"outlinewidth\":0,\"ticks\":\"\"},\"colorscale\":[[0.0,\"#0d0887\"],[0.1111111111111111,\"#46039f\"],[0.2222222222222222,\"#7201a8\"],[0.3333333333333333,\"#9c179e\"],[0.4444444444444444,\"#bd3786\"],[0.5555555555555556,\"#d8576b\"],[0.6666666666666666,\"#ed7953\"],[0.7777777777777778,\"#fb9f3a\"],[0.8888888888888888,\"#fdca26\"],[1.0,\"#f0f921\"]]}],\"heatmapgl\":[{\"type\":\"heatmapgl\",\"colorbar\":{\"outlinewidth\":0,\"ticks\":\"\"},\"colorscale\":[[0.0,\"#0d0887\"],[0.1111111111111111,\"#46039f\"],[0.2222222222222222,\"#7201a8\"],[0.3333333333333333,\"#9c179e\"],[0.4444444444444444,\"#bd3786\"],[0.5555555555555556,\"#d8576b\"],[0.6666666666666666,\"#ed7953\"],[0.7777777777777778,\"#fb9f3a\"],[0.8888888888888888,\"#fdca26\"],[1.0,\"#f0f921\"]]}],\"contourcarpet\":[{\"type\":\"contourcarpet\",\"colorbar\":{\"outlinewidth\":0,\"ticks\":\"\"}}],\"contour\":[{\"type\":\"contour\",\"colorbar\":{\"outlinewidth\":0,\"ticks\":\"\"},\"colorscale\":[[0.0,\"#0d0887\"],[0.1111111111111111,\"#46039f\"],[0.2222222222222222,\"#7201a8\"],[0.3333333333333333,\"#9c179e\"],[0.4444444444444444,\"#bd3786\"],[0.5555555555555556,\"#d8576b\"],[0.6666666666666666,\"#ed7953\"],[0.7777777777777778,\"#fb9f3a\"],[0.8888888888888888,\"#fdca26\"],[1.0,\"#f0f921\"]]}],\"surface\":[{\"type\":\"surface\",\"colorbar\":{\"outlinewidth\":0,\"ticks\":\"\"},\"colorscale\":[[0.0,\"#0d0887\"],[0.1111111111111111,\"#46039f\"],[0.2222222222222222,\"#7201a8\"],[0.3333333333333333,\"#9c179e\"],[0.4444444444444444,\"#bd3786\"],[0.5555555555555556,\"#d8576b\"],[0.6666666666666666,\"#ed7953\"],[0.7777777777777778,\"#fb9f3a\"],[0.8888888888888888,\"#fdca26\"],[1.0,\"#f0f921\"]]}],\"mesh3d\":[{\"type\":\"mesh3d\",\"colorbar\":{\"outlinewidth\":0,\"ticks\":\"\"}}],\"scatter\":[{\"fillpattern\":{\"fillmode\":\"overlay\",\"size\":10,\"solidity\":0.2},\"type\":\"scatter\"}],\"parcoords\":[{\"type\":\"parcoords\",\"line\":{\"colorbar\":{\"outlinewidth\":0,\"ticks\":\"\"}}}],\"scatterpolargl\":[{\"type\":\"scatterpolargl\",\"marker\":{\"colorbar\":{\"outlinewidth\":0,\"ticks\":\"\"}}}],\"bar\":[{\"error_x\":{\"color\":\"#2a3f5f\"},\"error_y\":{\"color\":\"#2a3f5f\"},\"marker\":{\"line\":{\"color\":\"#E5ECF6\",\"width\":0.5},\"pattern\":{\"fillmode\":\"overlay\",\"size\":10,\"solidity\":0.2}},\"type\":\"bar\"}],\"scattergeo\":[{\"type\":\"scattergeo\",\"marker\":{\"colorbar\":{\"outlinewidth\":0,\"ticks\":\"\"}}}],\"scatterpolar\":[{\"type\":\"scatterpolar\",\"marker\":{\"colorbar\":{\"outlinewidth\":0,\"ticks\":\"\"}}}],\"histogram\":[{\"marker\":{\"pattern\":{\"fillmode\":\"overlay\",\"size\":10,\"solidity\":0.2}},\"type\":\"histogram\"}],\"scattergl\":[{\"type\":\"scattergl\",\"marker\":{\"colorbar\":{\"outlinewidth\":0,\"ticks\":\"\"}}}],\"scatter3d\":[{\"type\":\"scatter3d\",\"line\":{\"colorbar\":{\"outlinewidth\":0,\"ticks\":\"\"}},\"marker\":{\"colorbar\":{\"outlinewidth\":0,\"ticks\":\"\"}}}],\"scattermapbox\":[{\"type\":\"scattermapbox\",\"marker\":{\"colorbar\":{\"outlinewidth\":0,\"ticks\":\"\"}}}],\"scatterternary\":[{\"type\":\"scatterternary\",\"marker\":{\"colorbar\":{\"outlinewidth\":0,\"ticks\":\"\"}}}],\"scattercarpet\":[{\"type\":\"scattercarpet\",\"marker\":{\"colorbar\":{\"outlinewidth\":0,\"ticks\":\"\"}}}],\"carpet\":[{\"aaxis\":{\"endlinecolor\":\"#2a3f5f\",\"gridcolor\":\"white\",\"linecolor\":\"white\",\"minorgridcolor\":\"white\",\"startlinecolor\":\"#2a3f5f\"},\"baxis\":{\"endlinecolor\":\"#2a3f5f\",\"gridcolor\":\"white\",\"linecolor\":\"white\",\"minorgridcolor\":\"white\",\"startlinecolor\":\"#2a3f5f\"},\"type\":\"carpet\"}],\"table\":[{\"cells\":{\"fill\":{\"color\":\"#EBF0F8\"},\"line\":{\"color\":\"white\"}},\"header\":{\"fill\":{\"color\":\"#C8D4E3\"},\"line\":{\"color\":\"white\"}},\"type\":\"table\"}],\"barpolar\":[{\"marker\":{\"line\":{\"color\":\"#E5ECF6\",\"width\":0.5},\"pattern\":{\"fillmode\":\"overlay\",\"size\":10,\"solidity\":0.2}},\"type\":\"barpolar\"}],\"pie\":[{\"automargin\":true,\"type\":\"pie\"}]},\"layout\":{\"autotypenumbers\":\"strict\",\"colorway\":[\"#636efa\",\"#EF553B\",\"#00cc96\",\"#ab63fa\",\"#FFA15A\",\"#19d3f3\",\"#FF6692\",\"#B6E880\",\"#FF97FF\",\"#FECB52\"],\"font\":{\"color\":\"#2a3f5f\"},\"hovermode\":\"closest\",\"hoverlabel\":{\"align\":\"left\"},\"paper_bgcolor\":\"white\",\"plot_bgcolor\":\"#E5ECF6\",\"polar\":{\"bgcolor\":\"#E5ECF6\",\"angularaxis\":{\"gridcolor\":\"white\",\"linecolor\":\"white\",\"ticks\":\"\"},\"radialaxis\":{\"gridcolor\":\"white\",\"linecolor\":\"white\",\"ticks\":\"\"}},\"ternary\":{\"bgcolor\":\"#E5ECF6\",\"aaxis\":{\"gridcolor\":\"white\",\"linecolor\":\"white\",\"ticks\":\"\"},\"baxis\":{\"gridcolor\":\"white\",\"linecolor\":\"white\",\"ticks\":\"\"},\"caxis\":{\"gridcolor\":\"white\",\"linecolor\":\"white\",\"ticks\":\"\"}},\"coloraxis\":{\"colorbar\":{\"outlinewidth\":0,\"ticks\":\"\"}},\"colorscale\":{\"sequential\":[[0.0,\"#0d0887\"],[0.1111111111111111,\"#46039f\"],[0.2222222222222222,\"#7201a8\"],[0.3333333333333333,\"#9c179e\"],[0.4444444444444444,\"#bd3786\"],[0.5555555555555556,\"#d8576b\"],[0.6666666666666666,\"#ed7953\"],[0.7777777777777778,\"#fb9f3a\"],[0.8888888888888888,\"#fdca26\"],[1.0,\"#f0f921\"]],\"sequentialminus\":[[0.0,\"#0d0887\"],[0.1111111111111111,\"#46039f\"],[0.2222222222222222,\"#7201a8\"],[0.3333333333333333,\"#9c179e\"],[0.4444444444444444,\"#bd3786\"],[0.5555555555555556,\"#d8576b\"],[0.6666666666666666,\"#ed7953\"],[0.7777777777777778,\"#fb9f3a\"],[0.8888888888888888,\"#fdca26\"],[1.0,\"#f0f921\"]],\"diverging\":[[0,\"#8e0152\"],[0.1,\"#c51b7d\"],[0.2,\"#de77ae\"],[0.3,\"#f1b6da\"],[0.4,\"#fde0ef\"],[0.5,\"#f7f7f7\"],[0.6,\"#e6f5d0\"],[0.7,\"#b8e186\"],[0.8,\"#7fbc41\"],[0.9,\"#4d9221\"],[1,\"#276419\"]]},\"xaxis\":{\"gridcolor\":\"white\",\"linecolor\":\"white\",\"ticks\":\"\",\"title\":{\"standoff\":15},\"zerolinecolor\":\"white\",\"automargin\":true,\"zerolinewidth\":2},\"yaxis\":{\"gridcolor\":\"white\",\"linecolor\":\"white\",\"ticks\":\"\",\"title\":{\"standoff\":15},\"zerolinecolor\":\"white\",\"automargin\":true,\"zerolinewidth\":2},\"scene\":{\"xaxis\":{\"backgroundcolor\":\"#E5ECF6\",\"gridcolor\":\"white\",\"linecolor\":\"white\",\"showbackground\":true,\"ticks\":\"\",\"zerolinecolor\":\"white\",\"gridwidth\":2},\"yaxis\":{\"backgroundcolor\":\"#E5ECF6\",\"gridcolor\":\"white\",\"linecolor\":\"white\",\"showbackground\":true,\"ticks\":\"\",\"zerolinecolor\":\"white\",\"gridwidth\":2},\"zaxis\":{\"backgroundcolor\":\"#E5ECF6\",\"gridcolor\":\"white\",\"linecolor\":\"white\",\"showbackground\":true,\"ticks\":\"\",\"zerolinecolor\":\"white\",\"gridwidth\":2}},\"shapedefaults\":{\"line\":{\"color\":\"#2a3f5f\"}},\"annotationdefaults\":{\"arrowcolor\":\"#2a3f5f\",\"arrowhead\":0,\"arrowwidth\":1},\"geo\":{\"bgcolor\":\"white\",\"landcolor\":\"#E5ECF6\",\"subunitcolor\":\"white\",\"showland\":true,\"showlakes\":true,\"lakecolor\":\"white\"},\"title\":{\"x\":0.05},\"mapbox\":{\"style\":\"light\"}}},\"xaxis\":{\"anchor\":\"y\",\"domain\":[0.0,1.0],\"title\":{\"text\":\"variable\"}},\"yaxis\":{\"anchor\":\"x\",\"domain\":[0.0,1.0],\"title\":{\"text\":\"value\"}},\"legend\":{\"tracegroupgap\":0},\"margin\":{\"t\":60},\"boxmode\":\"group\"},                        {\"responsive\": true}                    ).then(function(){\n",
              "                            \n",
              "var gd = document.getElementById('d6bb34cf-b376-4871-807b-6fbea60e77d1');\n",
              "var x = new MutationObserver(function (mutations, observer) {{\n",
              "        var display = window.getComputedStyle(gd).display;\n",
              "        if (!display || display === 'none') {{\n",
              "            console.log([gd, 'removed!']);\n",
              "            Plotly.purge(gd);\n",
              "            observer.disconnect();\n",
              "        }}\n",
              "}});\n",
              "\n",
              "// Listen for the removal of the full notebook cells\n",
              "var notebookContainer = gd.closest('#notebook-container');\n",
              "if (notebookContainer) {{\n",
              "    x.observe(notebookContainer, {childList: true});\n",
              "}}\n",
              "\n",
              "// Listen for the clearing of the current output cell\n",
              "var outputEl = gd.closest('.output');\n",
              "if (outputEl) {{\n",
              "    x.observe(outputEl, {childList: true});\n",
              "}}\n",
              "\n",
              "                        })                };                            </script>        </div>\n",
              "</body>\n",
              "</html>"
            ]
          },
          "metadata": {}
        }
      ]
    },
    {
      "cell_type": "code",
      "source": [
        "px.box(boston, x=\"crim\", width=800, height=400)"
      ],
      "metadata": {
        "colab": {
          "base_uri": "https://localhost:8080/",
          "height": 417
        },
        "id": "2N1HKjSp5Z1T",
        "outputId": "a892cf90-c5b4-4764-f43c-9a95360934aa"
      },
      "execution_count": 16,
      "outputs": [
        {
          "output_type": "display_data",
          "data": {
            "text/html": [
              "<html>\n",
              "<head><meta charset=\"utf-8\" /></head>\n",
              "<body>\n",
              "    <div>            <script src=\"https://cdnjs.cloudflare.com/ajax/libs/mathjax/2.7.5/MathJax.js?config=TeX-AMS-MML_SVG\"></script><script type=\"text/javascript\">if (window.MathJax && window.MathJax.Hub && window.MathJax.Hub.Config) {window.MathJax.Hub.Config({SVG: {font: \"STIX-Web\"}});}</script>                <script type=\"text/javascript\">window.PlotlyConfig = {MathJaxConfig: 'local'};</script>\n",
              "        <script src=\"https://cdn.plot.ly/plotly-2.18.2.min.js\"></script>                <div id=\"9fd8f07b-6abd-4577-b05a-8369d79f8f12\" class=\"plotly-graph-div\" style=\"height:400px; width:800px;\"></div>            <script type=\"text/javascript\">                                    window.PLOTLYENV=window.PLOTLYENV || {};                                    if (document.getElementById(\"9fd8f07b-6abd-4577-b05a-8369d79f8f12\")) {                    Plotly.newPlot(                        \"9fd8f07b-6abd-4577-b05a-8369d79f8f12\",                        [{\"alignmentgroup\":\"True\",\"hovertemplate\":\"crim=%{x}<extra></extra>\",\"legendgroup\":\"\",\"marker\":{\"color\":\"#636efa\"},\"name\":\"\",\"notched\":false,\"offsetgroup\":\"\",\"orientation\":\"h\",\"showlegend\":false,\"x\":[0.00632,0.02731,0.02729,0.03237,0.06905,0.02985,0.08829,0.14455,0.21124,0.17004,0.22489,0.11747,0.09378,0.62976,0.63796,0.62739,1.05393,0.7842,0.80271,0.7258,1.25179,0.85204,1.23247,0.98843,0.75026,0.84054,0.67191,0.95577,0.77299,1.00245,1.13081,1.35472,1.38799,1.15172,1.61282,0.06417,0.09744,0.08014,0.17505,0.02763,0.03359,0.12744,0.1415,0.15936,0.12269,0.17142,0.18836,0.22927,0.25387,0.21977,0.08873,0.04337,0.0536,0.04981,0.0136,0.01311,0.02055,0.01432,0.15445,0.10328,0.14932,0.17171,0.11027,0.1265,0.01951,0.03584,0.04379,0.05789,0.13554,0.12816,0.08826,0.15876,0.09164,0.19539,0.07896,0.09512,0.10153,0.08707,0.05646,0.08387,0.04113,0.04462,0.03659,0.03551,0.05059,0.05735,0.05188,0.07151,0.0566,0.05302,0.04684,0.03932,0.04203,0.02875,0.04294,0.12204,0.11504,0.12083,0.08187,0.0686,0.14866,0.11432,0.22876,0.21161,0.1396,0.13262,0.1712,0.13117,0.12802,0.26363,0.10793,0.10084,0.12329,0.22212,0.14231,0.17134,0.13158,0.15098,0.13058,0.14476,0.06899,0.07165,0.09299,0.15038,0.09849,0.16902,0.38735,0.25915,0.32543,0.88125,0.34006,1.19294,0.59005,0.32982,0.97617,0.55778,0.32264,0.35233,0.2498,0.54452,0.2909,1.62864,3.32105,4.0974,2.77974,2.37934,2.15505,2.36862,2.33099,2.73397,1.6566,1.49632,1.12658,2.14918,1.41385,3.53501,2.44668,1.22358,1.34284,1.42502,1.27346,1.46336,1.83377,1.51902,2.24236,2.924,2.01019,1.80028,2.3004,2.44953,1.20742,2.3139,0.13914,0.09178,0.08447,0.06664,0.07022,0.05425,0.06642,0.0578,0.06588,0.06888,0.09103,0.10008,0.08308,0.06047,0.05602,0.07875,0.12579,0.0837,0.09068,0.06911,0.08664,0.02187,0.01439,0.01381,0.04011,0.04666,0.03768,0.0315,0.01778,0.03445,0.02177,0.0351,0.02009,0.13642,0.22969,0.25199,0.13587,0.43571,0.17446,0.37578,0.21719,0.14052,0.28955,0.19802,0.0456,0.07013,0.11069,0.11425,0.35809,0.40771,0.62356,0.6147,0.31533,0.52693,0.38214,0.41238,0.29819,0.44178,0.537,0.46296,0.57529,0.33147,0.44791,0.33045,0.52058,0.51183,0.08244,0.09252,0.11329,0.10612,0.1029,0.12757,0.20608,0.19133,0.33983,0.19657,0.16439,0.19073,0.1403,0.21409,0.08221,0.36894,0.04819,0.03548,0.01538,0.61154,0.66351,0.65665,0.54011,0.53412,0.52014,0.82526,0.55007,0.76162,0.7857,0.57834,0.5405,0.09065,0.29916,0.16211,0.1146,0.22188,0.05644,0.09604,0.10469,0.06127,0.07978,0.21038,0.03578,0.03705,0.06129,0.01501,0.00906,0.01096,0.01965,0.03871,0.0459,0.04297,0.03502,0.07886,0.03615,0.08265,0.08199,0.12932,0.05372,0.14103,0.06466,0.05561,0.04417,0.03537,0.09266,0.1,0.05515,0.05479,0.07503,0.04932,0.49298,0.3494,2.63548,0.79041,0.26169,0.26938,0.3692,0.25356,0.31827,0.24522,0.40202,0.47547,0.1676,0.18159,0.35114,0.28392,0.34109,0.19186,0.30347,0.24103,0.06617,0.06724,0.04544,0.05023,0.03466,0.05083,0.03738,0.03961,0.03427,0.03041,0.03306,0.05497,0.06151,0.01301,0.02498,0.02543,0.03049,0.03113,0.06162,0.0187,0.01501,0.02899,0.06211,0.0795,0.07244,0.01709,0.04301,0.10659,8.98296,3.8497,5.20177,4.26131,4.54192,3.83684,3.67822,4.22239,3.47428,4.55587,3.69695,13.5222,4.89822,5.66998,6.53876,9.2323,8.26725,11.1081,18.4982,19.6091,15.288,9.82349,23.6482,17.8667,88.9762,15.8744,9.18702,7.99248,20.0849,16.8118,24.3938,22.5971,14.3337,8.15174,6.96215,5.29305,11.5779,8.64476,13.3598,8.71675,5.87205,7.67202,38.3518,9.91655,25.0461,14.2362,9.59571,24.8017,41.5292,67.9208,20.7162,11.9511,7.40389,14.4383,51.1358,14.0507,18.811,28.6558,45.7461,18.0846,10.8342,25.9406,73.5341,11.8123,11.0874,7.02259,12.0482,7.05042,8.79212,15.8603,12.2472,37.6619,7.36711,9.33889,8.49213,10.0623,6.44405,5.58107,13.9134,11.1604,14.4208,15.1772,13.6781,9.39063,22.0511,9.72418,5.66637,9.96654,12.8023,10.6718,6.28807,9.92485,9.32909,7.52601,6.71772,5.44114,5.09017,8.24809,9.51363,4.75237,4.66883,8.20058,7.75223,6.80117,4.81213,3.69311,6.65492,5.82115,7.83932,3.1636,3.77498,4.42228,15.5757,13.0751,4.34879,4.03841,3.56868,4.64689,8.05579,6.39312,4.87141,15.0234,10.233,14.3337,5.82401,5.70818,5.73116,2.81838,2.37857,3.67367,5.69175,4.83567,0.15086,0.18337,0.20746,0.10574,0.11132,0.17331,0.27957,0.17899,0.2896,0.26838,0.23912,0.17783,0.22438,0.06263,0.04527,0.06076,0.10959,0.04741],\"x0\":\" \",\"xaxis\":\"x\",\"y0\":\" \",\"yaxis\":\"y\",\"type\":\"box\"}],                        {\"template\":{\"data\":{\"histogram2dcontour\":[{\"type\":\"histogram2dcontour\",\"colorbar\":{\"outlinewidth\":0,\"ticks\":\"\"},\"colorscale\":[[0.0,\"#0d0887\"],[0.1111111111111111,\"#46039f\"],[0.2222222222222222,\"#7201a8\"],[0.3333333333333333,\"#9c179e\"],[0.4444444444444444,\"#bd3786\"],[0.5555555555555556,\"#d8576b\"],[0.6666666666666666,\"#ed7953\"],[0.7777777777777778,\"#fb9f3a\"],[0.8888888888888888,\"#fdca26\"],[1.0,\"#f0f921\"]]}],\"choropleth\":[{\"type\":\"choropleth\",\"colorbar\":{\"outlinewidth\":0,\"ticks\":\"\"}}],\"histogram2d\":[{\"type\":\"histogram2d\",\"colorbar\":{\"outlinewidth\":0,\"ticks\":\"\"},\"colorscale\":[[0.0,\"#0d0887\"],[0.1111111111111111,\"#46039f\"],[0.2222222222222222,\"#7201a8\"],[0.3333333333333333,\"#9c179e\"],[0.4444444444444444,\"#bd3786\"],[0.5555555555555556,\"#d8576b\"],[0.6666666666666666,\"#ed7953\"],[0.7777777777777778,\"#fb9f3a\"],[0.8888888888888888,\"#fdca26\"],[1.0,\"#f0f921\"]]}],\"heatmap\":[{\"type\":\"heatmap\",\"colorbar\":{\"outlinewidth\":0,\"ticks\":\"\"},\"colorscale\":[[0.0,\"#0d0887\"],[0.1111111111111111,\"#46039f\"],[0.2222222222222222,\"#7201a8\"],[0.3333333333333333,\"#9c179e\"],[0.4444444444444444,\"#bd3786\"],[0.5555555555555556,\"#d8576b\"],[0.6666666666666666,\"#ed7953\"],[0.7777777777777778,\"#fb9f3a\"],[0.8888888888888888,\"#fdca26\"],[1.0,\"#f0f921\"]]}],\"heatmapgl\":[{\"type\":\"heatmapgl\",\"colorbar\":{\"outlinewidth\":0,\"ticks\":\"\"},\"colorscale\":[[0.0,\"#0d0887\"],[0.1111111111111111,\"#46039f\"],[0.2222222222222222,\"#7201a8\"],[0.3333333333333333,\"#9c179e\"],[0.4444444444444444,\"#bd3786\"],[0.5555555555555556,\"#d8576b\"],[0.6666666666666666,\"#ed7953\"],[0.7777777777777778,\"#fb9f3a\"],[0.8888888888888888,\"#fdca26\"],[1.0,\"#f0f921\"]]}],\"contourcarpet\":[{\"type\":\"contourcarpet\",\"colorbar\":{\"outlinewidth\":0,\"ticks\":\"\"}}],\"contour\":[{\"type\":\"contour\",\"colorbar\":{\"outlinewidth\":0,\"ticks\":\"\"},\"colorscale\":[[0.0,\"#0d0887\"],[0.1111111111111111,\"#46039f\"],[0.2222222222222222,\"#7201a8\"],[0.3333333333333333,\"#9c179e\"],[0.4444444444444444,\"#bd3786\"],[0.5555555555555556,\"#d8576b\"],[0.6666666666666666,\"#ed7953\"],[0.7777777777777778,\"#fb9f3a\"],[0.8888888888888888,\"#fdca26\"],[1.0,\"#f0f921\"]]}],\"surface\":[{\"type\":\"surface\",\"colorbar\":{\"outlinewidth\":0,\"ticks\":\"\"},\"colorscale\":[[0.0,\"#0d0887\"],[0.1111111111111111,\"#46039f\"],[0.2222222222222222,\"#7201a8\"],[0.3333333333333333,\"#9c179e\"],[0.4444444444444444,\"#bd3786\"],[0.5555555555555556,\"#d8576b\"],[0.6666666666666666,\"#ed7953\"],[0.7777777777777778,\"#fb9f3a\"],[0.8888888888888888,\"#fdca26\"],[1.0,\"#f0f921\"]]}],\"mesh3d\":[{\"type\":\"mesh3d\",\"colorbar\":{\"outlinewidth\":0,\"ticks\":\"\"}}],\"scatter\":[{\"fillpattern\":{\"fillmode\":\"overlay\",\"size\":10,\"solidity\":0.2},\"type\":\"scatter\"}],\"parcoords\":[{\"type\":\"parcoords\",\"line\":{\"colorbar\":{\"outlinewidth\":0,\"ticks\":\"\"}}}],\"scatterpolargl\":[{\"type\":\"scatterpolargl\",\"marker\":{\"colorbar\":{\"outlinewidth\":0,\"ticks\":\"\"}}}],\"bar\":[{\"error_x\":{\"color\":\"#2a3f5f\"},\"error_y\":{\"color\":\"#2a3f5f\"},\"marker\":{\"line\":{\"color\":\"#E5ECF6\",\"width\":0.5},\"pattern\":{\"fillmode\":\"overlay\",\"size\":10,\"solidity\":0.2}},\"type\":\"bar\"}],\"scattergeo\":[{\"type\":\"scattergeo\",\"marker\":{\"colorbar\":{\"outlinewidth\":0,\"ticks\":\"\"}}}],\"scatterpolar\":[{\"type\":\"scatterpolar\",\"marker\":{\"colorbar\":{\"outlinewidth\":0,\"ticks\":\"\"}}}],\"histogram\":[{\"marker\":{\"pattern\":{\"fillmode\":\"overlay\",\"size\":10,\"solidity\":0.2}},\"type\":\"histogram\"}],\"scattergl\":[{\"type\":\"scattergl\",\"marker\":{\"colorbar\":{\"outlinewidth\":0,\"ticks\":\"\"}}}],\"scatter3d\":[{\"type\":\"scatter3d\",\"line\":{\"colorbar\":{\"outlinewidth\":0,\"ticks\":\"\"}},\"marker\":{\"colorbar\":{\"outlinewidth\":0,\"ticks\":\"\"}}}],\"scattermapbox\":[{\"type\":\"scattermapbox\",\"marker\":{\"colorbar\":{\"outlinewidth\":0,\"ticks\":\"\"}}}],\"scatterternary\":[{\"type\":\"scatterternary\",\"marker\":{\"colorbar\":{\"outlinewidth\":0,\"ticks\":\"\"}}}],\"scattercarpet\":[{\"type\":\"scattercarpet\",\"marker\":{\"colorbar\":{\"outlinewidth\":0,\"ticks\":\"\"}}}],\"carpet\":[{\"aaxis\":{\"endlinecolor\":\"#2a3f5f\",\"gridcolor\":\"white\",\"linecolor\":\"white\",\"minorgridcolor\":\"white\",\"startlinecolor\":\"#2a3f5f\"},\"baxis\":{\"endlinecolor\":\"#2a3f5f\",\"gridcolor\":\"white\",\"linecolor\":\"white\",\"minorgridcolor\":\"white\",\"startlinecolor\":\"#2a3f5f\"},\"type\":\"carpet\"}],\"table\":[{\"cells\":{\"fill\":{\"color\":\"#EBF0F8\"},\"line\":{\"color\":\"white\"}},\"header\":{\"fill\":{\"color\":\"#C8D4E3\"},\"line\":{\"color\":\"white\"}},\"type\":\"table\"}],\"barpolar\":[{\"marker\":{\"line\":{\"color\":\"#E5ECF6\",\"width\":0.5},\"pattern\":{\"fillmode\":\"overlay\",\"size\":10,\"solidity\":0.2}},\"type\":\"barpolar\"}],\"pie\":[{\"automargin\":true,\"type\":\"pie\"}]},\"layout\":{\"autotypenumbers\":\"strict\",\"colorway\":[\"#636efa\",\"#EF553B\",\"#00cc96\",\"#ab63fa\",\"#FFA15A\",\"#19d3f3\",\"#FF6692\",\"#B6E880\",\"#FF97FF\",\"#FECB52\"],\"font\":{\"color\":\"#2a3f5f\"},\"hovermode\":\"closest\",\"hoverlabel\":{\"align\":\"left\"},\"paper_bgcolor\":\"white\",\"plot_bgcolor\":\"#E5ECF6\",\"polar\":{\"bgcolor\":\"#E5ECF6\",\"angularaxis\":{\"gridcolor\":\"white\",\"linecolor\":\"white\",\"ticks\":\"\"},\"radialaxis\":{\"gridcolor\":\"white\",\"linecolor\":\"white\",\"ticks\":\"\"}},\"ternary\":{\"bgcolor\":\"#E5ECF6\",\"aaxis\":{\"gridcolor\":\"white\",\"linecolor\":\"white\",\"ticks\":\"\"},\"baxis\":{\"gridcolor\":\"white\",\"linecolor\":\"white\",\"ticks\":\"\"},\"caxis\":{\"gridcolor\":\"white\",\"linecolor\":\"white\",\"ticks\":\"\"}},\"coloraxis\":{\"colorbar\":{\"outlinewidth\":0,\"ticks\":\"\"}},\"colorscale\":{\"sequential\":[[0.0,\"#0d0887\"],[0.1111111111111111,\"#46039f\"],[0.2222222222222222,\"#7201a8\"],[0.3333333333333333,\"#9c179e\"],[0.4444444444444444,\"#bd3786\"],[0.5555555555555556,\"#d8576b\"],[0.6666666666666666,\"#ed7953\"],[0.7777777777777778,\"#fb9f3a\"],[0.8888888888888888,\"#fdca26\"],[1.0,\"#f0f921\"]],\"sequentialminus\":[[0.0,\"#0d0887\"],[0.1111111111111111,\"#46039f\"],[0.2222222222222222,\"#7201a8\"],[0.3333333333333333,\"#9c179e\"],[0.4444444444444444,\"#bd3786\"],[0.5555555555555556,\"#d8576b\"],[0.6666666666666666,\"#ed7953\"],[0.7777777777777778,\"#fb9f3a\"],[0.8888888888888888,\"#fdca26\"],[1.0,\"#f0f921\"]],\"diverging\":[[0,\"#8e0152\"],[0.1,\"#c51b7d\"],[0.2,\"#de77ae\"],[0.3,\"#f1b6da\"],[0.4,\"#fde0ef\"],[0.5,\"#f7f7f7\"],[0.6,\"#e6f5d0\"],[0.7,\"#b8e186\"],[0.8,\"#7fbc41\"],[0.9,\"#4d9221\"],[1,\"#276419\"]]},\"xaxis\":{\"gridcolor\":\"white\",\"linecolor\":\"white\",\"ticks\":\"\",\"title\":{\"standoff\":15},\"zerolinecolor\":\"white\",\"automargin\":true,\"zerolinewidth\":2},\"yaxis\":{\"gridcolor\":\"white\",\"linecolor\":\"white\",\"ticks\":\"\",\"title\":{\"standoff\":15},\"zerolinecolor\":\"white\",\"automargin\":true,\"zerolinewidth\":2},\"scene\":{\"xaxis\":{\"backgroundcolor\":\"#E5ECF6\",\"gridcolor\":\"white\",\"linecolor\":\"white\",\"showbackground\":true,\"ticks\":\"\",\"zerolinecolor\":\"white\",\"gridwidth\":2},\"yaxis\":{\"backgroundcolor\":\"#E5ECF6\",\"gridcolor\":\"white\",\"linecolor\":\"white\",\"showbackground\":true,\"ticks\":\"\",\"zerolinecolor\":\"white\",\"gridwidth\":2},\"zaxis\":{\"backgroundcolor\":\"#E5ECF6\",\"gridcolor\":\"white\",\"linecolor\":\"white\",\"showbackground\":true,\"ticks\":\"\",\"zerolinecolor\":\"white\",\"gridwidth\":2}},\"shapedefaults\":{\"line\":{\"color\":\"#2a3f5f\"}},\"annotationdefaults\":{\"arrowcolor\":\"#2a3f5f\",\"arrowhead\":0,\"arrowwidth\":1},\"geo\":{\"bgcolor\":\"white\",\"landcolor\":\"#E5ECF6\",\"subunitcolor\":\"white\",\"showland\":true,\"showlakes\":true,\"lakecolor\":\"white\"},\"title\":{\"x\":0.05},\"mapbox\":{\"style\":\"light\"}}},\"xaxis\":{\"anchor\":\"y\",\"domain\":[0.0,1.0],\"title\":{\"text\":\"crim\"}},\"yaxis\":{\"anchor\":\"x\",\"domain\":[0.0,1.0]},\"legend\":{\"tracegroupgap\":0},\"margin\":{\"t\":60},\"boxmode\":\"group\",\"height\":400,\"width\":800},                        {\"responsive\": true}                    ).then(function(){\n",
              "                            \n",
              "var gd = document.getElementById('9fd8f07b-6abd-4577-b05a-8369d79f8f12');\n",
              "var x = new MutationObserver(function (mutations, observer) {{\n",
              "        var display = window.getComputedStyle(gd).display;\n",
              "        if (!display || display === 'none') {{\n",
              "            console.log([gd, 'removed!']);\n",
              "            Plotly.purge(gd);\n",
              "            observer.disconnect();\n",
              "        }}\n",
              "}});\n",
              "\n",
              "// Listen for the removal of the full notebook cells\n",
              "var notebookContainer = gd.closest('#notebook-container');\n",
              "if (notebookContainer) {{\n",
              "    x.observe(notebookContainer, {childList: true});\n",
              "}}\n",
              "\n",
              "// Listen for the clearing of the current output cell\n",
              "var outputEl = gd.closest('.output');\n",
              "if (outputEl) {{\n",
              "    x.observe(outputEl, {childList: true});\n",
              "}}\n",
              "\n",
              "                        })                };                            </script>        </div>\n",
              "</body>\n",
              "</html>"
            ]
          },
          "metadata": {}
        }
      ]
    },
    {
      "cell_type": "code",
      "source": [
        "px.box(boston, x=\"zn\", width=800, height=400)"
      ],
      "metadata": {
        "colab": {
          "base_uri": "https://localhost:8080/",
          "height": 417
        },
        "id": "Ac3H7xKW6wJv",
        "outputId": "4b6bb5bb-b093-4b58-8c78-a003f02bc536"
      },
      "execution_count": 17,
      "outputs": [
        {
          "output_type": "display_data",
          "data": {
            "text/html": [
              "<html>\n",
              "<head><meta charset=\"utf-8\" /></head>\n",
              "<body>\n",
              "    <div>            <script src=\"https://cdnjs.cloudflare.com/ajax/libs/mathjax/2.7.5/MathJax.js?config=TeX-AMS-MML_SVG\"></script><script type=\"text/javascript\">if (window.MathJax && window.MathJax.Hub && window.MathJax.Hub.Config) {window.MathJax.Hub.Config({SVG: {font: \"STIX-Web\"}});}</script>                <script type=\"text/javascript\">window.PlotlyConfig = {MathJaxConfig: 'local'};</script>\n",
              "        <script src=\"https://cdn.plot.ly/plotly-2.18.2.min.js\"></script>                <div id=\"a5a4d147-94f5-4d62-80f5-ec4ff62ac49c\" class=\"plotly-graph-div\" style=\"height:400px; width:800px;\"></div>            <script type=\"text/javascript\">                                    window.PLOTLYENV=window.PLOTLYENV || {};                                    if (document.getElementById(\"a5a4d147-94f5-4d62-80f5-ec4ff62ac49c\")) {                    Plotly.newPlot(                        \"a5a4d147-94f5-4d62-80f5-ec4ff62ac49c\",                        [{\"alignmentgroup\":\"True\",\"hovertemplate\":\"zn=%{x}<extra></extra>\",\"legendgroup\":\"\",\"marker\":{\"color\":\"#636efa\"},\"name\":\"\",\"notched\":false,\"offsetgroup\":\"\",\"orientation\":\"h\",\"showlegend\":false,\"x\":[18.0,0.0,0.0,0.0,0.0,0.0,12.5,12.5,12.5,12.5,12.5,12.5,12.5,0.0,0.0,0.0,0.0,0.0,0.0,0.0,0.0,0.0,0.0,0.0,0.0,0.0,0.0,0.0,0.0,0.0,0.0,0.0,0.0,0.0,0.0,0.0,0.0,0.0,0.0,75.0,75.0,0.0,0.0,0.0,0.0,0.0,0.0,0.0,0.0,0.0,21.0,21.0,21.0,21.0,75.0,90.0,85.0,100.0,25.0,25.0,25.0,25.0,25.0,25.0,17.5,80.0,80.0,12.5,12.5,12.5,0.0,0.0,0.0,0.0,0.0,0.0,0.0,0.0,0.0,0.0,25.0,25.0,25.0,25.0,0.0,0.0,0.0,0.0,0.0,0.0,0.0,0.0,28.0,28.0,28.0,0.0,0.0,0.0,0.0,0.0,0.0,0.0,0.0,0.0,0.0,0.0,0.0,0.0,0.0,0.0,0.0,0.0,0.0,0.0,0.0,0.0,0.0,0.0,0.0,0.0,0.0,0.0,0.0,0.0,0.0,0.0,0.0,0.0,0.0,0.0,0.0,0.0,0.0,0.0,0.0,0.0,0.0,0.0,0.0,0.0,0.0,0.0,0.0,0.0,0.0,0.0,0.0,0.0,0.0,0.0,0.0,0.0,0.0,0.0,0.0,0.0,0.0,0.0,0.0,0.0,0.0,0.0,0.0,0.0,0.0,0.0,0.0,0.0,0.0,0.0,0.0,0.0,0.0,0.0,0.0,0.0,0.0,0.0,0.0,0.0,0.0,0.0,0.0,0.0,0.0,0.0,0.0,45.0,45.0,45.0,45.0,45.0,45.0,60.0,60.0,80.0,80.0,80.0,80.0,95.0,95.0,82.5,82.5,95.0,95.0,0.0,0.0,0.0,0.0,0.0,0.0,0.0,0.0,0.0,0.0,0.0,0.0,0.0,0.0,0.0,0.0,0.0,0.0,0.0,0.0,0.0,0.0,0.0,0.0,0.0,0.0,0.0,0.0,0.0,0.0,0.0,0.0,0.0,30.0,30.0,30.0,30.0,30.0,30.0,22.0,22.0,22.0,22.0,22.0,22.0,22.0,22.0,22.0,22.0,80.0,80.0,90.0,20.0,20.0,20.0,20.0,20.0,20.0,20.0,20.0,20.0,20.0,20.0,20.0,20.0,20.0,20.0,20.0,20.0,40.0,40.0,40.0,40.0,40.0,20.0,20.0,20.0,20.0,90.0,90.0,55.0,80.0,52.5,52.5,52.5,80.0,80.0,80.0,0.0,0.0,0.0,0.0,0.0,70.0,70.0,70.0,34.0,34.0,34.0,33.0,33.0,33.0,33.0,0.0,0.0,0.0,0.0,0.0,0.0,0.0,0.0,0.0,0.0,0.0,0.0,0.0,0.0,0.0,0.0,0.0,0.0,0.0,0.0,0.0,0.0,0.0,35.0,35.0,0.0,0.0,0.0,0.0,0.0,0.0,0.0,0.0,35.0,0.0,55.0,55.0,0.0,0.0,85.0,80.0,40.0,40.0,60.0,60.0,90.0,80.0,80.0,0.0,0.0,0.0,0.0,0.0,0.0,0.0,0.0,0.0,0.0,0.0,0.0,0.0,0.0,0.0,0.0,0.0,0.0,0.0,0.0,0.0,0.0,0.0,0.0,0.0,0.0,0.0,0.0,0.0,0.0,0.0,0.0,0.0,0.0,0.0,0.0,0.0,0.0,0.0,0.0,0.0,0.0,0.0,0.0,0.0,0.0,0.0,0.0,0.0,0.0,0.0,0.0,0.0,0.0,0.0,0.0,0.0,0.0,0.0,0.0,0.0,0.0,0.0,0.0,0.0,0.0,0.0,0.0,0.0,0.0,0.0,0.0,0.0,0.0,0.0,0.0,0.0,0.0,0.0,0.0,0.0,0.0,0.0,0.0,0.0,0.0,0.0,0.0,0.0,0.0,0.0,0.0,0.0,0.0,0.0,0.0,0.0,0.0,0.0,0.0,0.0,0.0,0.0,0.0,0.0,0.0,0.0,0.0,0.0,0.0,0.0,0.0,0.0,0.0,0.0,0.0,0.0,0.0,0.0,0.0,0.0,0.0,0.0,0.0,0.0,0.0,0.0,0.0,0.0,0.0,0.0,0.0,0.0,0.0,0.0,0.0,0.0,0.0,0.0,0.0,0.0,0.0,0.0,0.0,0.0,0.0,0.0,0.0,0.0,0.0],\"x0\":\" \",\"xaxis\":\"x\",\"y0\":\" \",\"yaxis\":\"y\",\"type\":\"box\"}],                        {\"template\":{\"data\":{\"histogram2dcontour\":[{\"type\":\"histogram2dcontour\",\"colorbar\":{\"outlinewidth\":0,\"ticks\":\"\"},\"colorscale\":[[0.0,\"#0d0887\"],[0.1111111111111111,\"#46039f\"],[0.2222222222222222,\"#7201a8\"],[0.3333333333333333,\"#9c179e\"],[0.4444444444444444,\"#bd3786\"],[0.5555555555555556,\"#d8576b\"],[0.6666666666666666,\"#ed7953\"],[0.7777777777777778,\"#fb9f3a\"],[0.8888888888888888,\"#fdca26\"],[1.0,\"#f0f921\"]]}],\"choropleth\":[{\"type\":\"choropleth\",\"colorbar\":{\"outlinewidth\":0,\"ticks\":\"\"}}],\"histogram2d\":[{\"type\":\"histogram2d\",\"colorbar\":{\"outlinewidth\":0,\"ticks\":\"\"},\"colorscale\":[[0.0,\"#0d0887\"],[0.1111111111111111,\"#46039f\"],[0.2222222222222222,\"#7201a8\"],[0.3333333333333333,\"#9c179e\"],[0.4444444444444444,\"#bd3786\"],[0.5555555555555556,\"#d8576b\"],[0.6666666666666666,\"#ed7953\"],[0.7777777777777778,\"#fb9f3a\"],[0.8888888888888888,\"#fdca26\"],[1.0,\"#f0f921\"]]}],\"heatmap\":[{\"type\":\"heatmap\",\"colorbar\":{\"outlinewidth\":0,\"ticks\":\"\"},\"colorscale\":[[0.0,\"#0d0887\"],[0.1111111111111111,\"#46039f\"],[0.2222222222222222,\"#7201a8\"],[0.3333333333333333,\"#9c179e\"],[0.4444444444444444,\"#bd3786\"],[0.5555555555555556,\"#d8576b\"],[0.6666666666666666,\"#ed7953\"],[0.7777777777777778,\"#fb9f3a\"],[0.8888888888888888,\"#fdca26\"],[1.0,\"#f0f921\"]]}],\"heatmapgl\":[{\"type\":\"heatmapgl\",\"colorbar\":{\"outlinewidth\":0,\"ticks\":\"\"},\"colorscale\":[[0.0,\"#0d0887\"],[0.1111111111111111,\"#46039f\"],[0.2222222222222222,\"#7201a8\"],[0.3333333333333333,\"#9c179e\"],[0.4444444444444444,\"#bd3786\"],[0.5555555555555556,\"#d8576b\"],[0.6666666666666666,\"#ed7953\"],[0.7777777777777778,\"#fb9f3a\"],[0.8888888888888888,\"#fdca26\"],[1.0,\"#f0f921\"]]}],\"contourcarpet\":[{\"type\":\"contourcarpet\",\"colorbar\":{\"outlinewidth\":0,\"ticks\":\"\"}}],\"contour\":[{\"type\":\"contour\",\"colorbar\":{\"outlinewidth\":0,\"ticks\":\"\"},\"colorscale\":[[0.0,\"#0d0887\"],[0.1111111111111111,\"#46039f\"],[0.2222222222222222,\"#7201a8\"],[0.3333333333333333,\"#9c179e\"],[0.4444444444444444,\"#bd3786\"],[0.5555555555555556,\"#d8576b\"],[0.6666666666666666,\"#ed7953\"],[0.7777777777777778,\"#fb9f3a\"],[0.8888888888888888,\"#fdca26\"],[1.0,\"#f0f921\"]]}],\"surface\":[{\"type\":\"surface\",\"colorbar\":{\"outlinewidth\":0,\"ticks\":\"\"},\"colorscale\":[[0.0,\"#0d0887\"],[0.1111111111111111,\"#46039f\"],[0.2222222222222222,\"#7201a8\"],[0.3333333333333333,\"#9c179e\"],[0.4444444444444444,\"#bd3786\"],[0.5555555555555556,\"#d8576b\"],[0.6666666666666666,\"#ed7953\"],[0.7777777777777778,\"#fb9f3a\"],[0.8888888888888888,\"#fdca26\"],[1.0,\"#f0f921\"]]}],\"mesh3d\":[{\"type\":\"mesh3d\",\"colorbar\":{\"outlinewidth\":0,\"ticks\":\"\"}}],\"scatter\":[{\"fillpattern\":{\"fillmode\":\"overlay\",\"size\":10,\"solidity\":0.2},\"type\":\"scatter\"}],\"parcoords\":[{\"type\":\"parcoords\",\"line\":{\"colorbar\":{\"outlinewidth\":0,\"ticks\":\"\"}}}],\"scatterpolargl\":[{\"type\":\"scatterpolargl\",\"marker\":{\"colorbar\":{\"outlinewidth\":0,\"ticks\":\"\"}}}],\"bar\":[{\"error_x\":{\"color\":\"#2a3f5f\"},\"error_y\":{\"color\":\"#2a3f5f\"},\"marker\":{\"line\":{\"color\":\"#E5ECF6\",\"width\":0.5},\"pattern\":{\"fillmode\":\"overlay\",\"size\":10,\"solidity\":0.2}},\"type\":\"bar\"}],\"scattergeo\":[{\"type\":\"scattergeo\",\"marker\":{\"colorbar\":{\"outlinewidth\":0,\"ticks\":\"\"}}}],\"scatterpolar\":[{\"type\":\"scatterpolar\",\"marker\":{\"colorbar\":{\"outlinewidth\":0,\"ticks\":\"\"}}}],\"histogram\":[{\"marker\":{\"pattern\":{\"fillmode\":\"overlay\",\"size\":10,\"solidity\":0.2}},\"type\":\"histogram\"}],\"scattergl\":[{\"type\":\"scattergl\",\"marker\":{\"colorbar\":{\"outlinewidth\":0,\"ticks\":\"\"}}}],\"scatter3d\":[{\"type\":\"scatter3d\",\"line\":{\"colorbar\":{\"outlinewidth\":0,\"ticks\":\"\"}},\"marker\":{\"colorbar\":{\"outlinewidth\":0,\"ticks\":\"\"}}}],\"scattermapbox\":[{\"type\":\"scattermapbox\",\"marker\":{\"colorbar\":{\"outlinewidth\":0,\"ticks\":\"\"}}}],\"scatterternary\":[{\"type\":\"scatterternary\",\"marker\":{\"colorbar\":{\"outlinewidth\":0,\"ticks\":\"\"}}}],\"scattercarpet\":[{\"type\":\"scattercarpet\",\"marker\":{\"colorbar\":{\"outlinewidth\":0,\"ticks\":\"\"}}}],\"carpet\":[{\"aaxis\":{\"endlinecolor\":\"#2a3f5f\",\"gridcolor\":\"white\",\"linecolor\":\"white\",\"minorgridcolor\":\"white\",\"startlinecolor\":\"#2a3f5f\"},\"baxis\":{\"endlinecolor\":\"#2a3f5f\",\"gridcolor\":\"white\",\"linecolor\":\"white\",\"minorgridcolor\":\"white\",\"startlinecolor\":\"#2a3f5f\"},\"type\":\"carpet\"}],\"table\":[{\"cells\":{\"fill\":{\"color\":\"#EBF0F8\"},\"line\":{\"color\":\"white\"}},\"header\":{\"fill\":{\"color\":\"#C8D4E3\"},\"line\":{\"color\":\"white\"}},\"type\":\"table\"}],\"barpolar\":[{\"marker\":{\"line\":{\"color\":\"#E5ECF6\",\"width\":0.5},\"pattern\":{\"fillmode\":\"overlay\",\"size\":10,\"solidity\":0.2}},\"type\":\"barpolar\"}],\"pie\":[{\"automargin\":true,\"type\":\"pie\"}]},\"layout\":{\"autotypenumbers\":\"strict\",\"colorway\":[\"#636efa\",\"#EF553B\",\"#00cc96\",\"#ab63fa\",\"#FFA15A\",\"#19d3f3\",\"#FF6692\",\"#B6E880\",\"#FF97FF\",\"#FECB52\"],\"font\":{\"color\":\"#2a3f5f\"},\"hovermode\":\"closest\",\"hoverlabel\":{\"align\":\"left\"},\"paper_bgcolor\":\"white\",\"plot_bgcolor\":\"#E5ECF6\",\"polar\":{\"bgcolor\":\"#E5ECF6\",\"angularaxis\":{\"gridcolor\":\"white\",\"linecolor\":\"white\",\"ticks\":\"\"},\"radialaxis\":{\"gridcolor\":\"white\",\"linecolor\":\"white\",\"ticks\":\"\"}},\"ternary\":{\"bgcolor\":\"#E5ECF6\",\"aaxis\":{\"gridcolor\":\"white\",\"linecolor\":\"white\",\"ticks\":\"\"},\"baxis\":{\"gridcolor\":\"white\",\"linecolor\":\"white\",\"ticks\":\"\"},\"caxis\":{\"gridcolor\":\"white\",\"linecolor\":\"white\",\"ticks\":\"\"}},\"coloraxis\":{\"colorbar\":{\"outlinewidth\":0,\"ticks\":\"\"}},\"colorscale\":{\"sequential\":[[0.0,\"#0d0887\"],[0.1111111111111111,\"#46039f\"],[0.2222222222222222,\"#7201a8\"],[0.3333333333333333,\"#9c179e\"],[0.4444444444444444,\"#bd3786\"],[0.5555555555555556,\"#d8576b\"],[0.6666666666666666,\"#ed7953\"],[0.7777777777777778,\"#fb9f3a\"],[0.8888888888888888,\"#fdca26\"],[1.0,\"#f0f921\"]],\"sequentialminus\":[[0.0,\"#0d0887\"],[0.1111111111111111,\"#46039f\"],[0.2222222222222222,\"#7201a8\"],[0.3333333333333333,\"#9c179e\"],[0.4444444444444444,\"#bd3786\"],[0.5555555555555556,\"#d8576b\"],[0.6666666666666666,\"#ed7953\"],[0.7777777777777778,\"#fb9f3a\"],[0.8888888888888888,\"#fdca26\"],[1.0,\"#f0f921\"]],\"diverging\":[[0,\"#8e0152\"],[0.1,\"#c51b7d\"],[0.2,\"#de77ae\"],[0.3,\"#f1b6da\"],[0.4,\"#fde0ef\"],[0.5,\"#f7f7f7\"],[0.6,\"#e6f5d0\"],[0.7,\"#b8e186\"],[0.8,\"#7fbc41\"],[0.9,\"#4d9221\"],[1,\"#276419\"]]},\"xaxis\":{\"gridcolor\":\"white\",\"linecolor\":\"white\",\"ticks\":\"\",\"title\":{\"standoff\":15},\"zerolinecolor\":\"white\",\"automargin\":true,\"zerolinewidth\":2},\"yaxis\":{\"gridcolor\":\"white\",\"linecolor\":\"white\",\"ticks\":\"\",\"title\":{\"standoff\":15},\"zerolinecolor\":\"white\",\"automargin\":true,\"zerolinewidth\":2},\"scene\":{\"xaxis\":{\"backgroundcolor\":\"#E5ECF6\",\"gridcolor\":\"white\",\"linecolor\":\"white\",\"showbackground\":true,\"ticks\":\"\",\"zerolinecolor\":\"white\",\"gridwidth\":2},\"yaxis\":{\"backgroundcolor\":\"#E5ECF6\",\"gridcolor\":\"white\",\"linecolor\":\"white\",\"showbackground\":true,\"ticks\":\"\",\"zerolinecolor\":\"white\",\"gridwidth\":2},\"zaxis\":{\"backgroundcolor\":\"#E5ECF6\",\"gridcolor\":\"white\",\"linecolor\":\"white\",\"showbackground\":true,\"ticks\":\"\",\"zerolinecolor\":\"white\",\"gridwidth\":2}},\"shapedefaults\":{\"line\":{\"color\":\"#2a3f5f\"}},\"annotationdefaults\":{\"arrowcolor\":\"#2a3f5f\",\"arrowhead\":0,\"arrowwidth\":1},\"geo\":{\"bgcolor\":\"white\",\"landcolor\":\"#E5ECF6\",\"subunitcolor\":\"white\",\"showland\":true,\"showlakes\":true,\"lakecolor\":\"white\"},\"title\":{\"x\":0.05},\"mapbox\":{\"style\":\"light\"}}},\"xaxis\":{\"anchor\":\"y\",\"domain\":[0.0,1.0],\"title\":{\"text\":\"zn\"}},\"yaxis\":{\"anchor\":\"x\",\"domain\":[0.0,1.0]},\"legend\":{\"tracegroupgap\":0},\"margin\":{\"t\":60},\"boxmode\":\"group\",\"height\":400,\"width\":800},                        {\"responsive\": true}                    ).then(function(){\n",
              "                            \n",
              "var gd = document.getElementById('a5a4d147-94f5-4d62-80f5-ec4ff62ac49c');\n",
              "var x = new MutationObserver(function (mutations, observer) {{\n",
              "        var display = window.getComputedStyle(gd).display;\n",
              "        if (!display || display === 'none') {{\n",
              "            console.log([gd, 'removed!']);\n",
              "            Plotly.purge(gd);\n",
              "            observer.disconnect();\n",
              "        }}\n",
              "}});\n",
              "\n",
              "// Listen for the removal of the full notebook cells\n",
              "var notebookContainer = gd.closest('#notebook-container');\n",
              "if (notebookContainer) {{\n",
              "    x.observe(notebookContainer, {childList: true});\n",
              "}}\n",
              "\n",
              "// Listen for the clearing of the current output cell\n",
              "var outputEl = gd.closest('.output');\n",
              "if (outputEl) {{\n",
              "    x.observe(outputEl, {childList: true});\n",
              "}}\n",
              "\n",
              "                        })                };                            </script>        </div>\n",
              "</body>\n",
              "</html>"
            ]
          },
          "metadata": {}
        }
      ]
    },
    {
      "cell_type": "code",
      "source": [
        "px.box(boston, x=\"indus\", width=800, height=400)"
      ],
      "metadata": {
        "colab": {
          "base_uri": "https://localhost:8080/",
          "height": 417
        },
        "id": "-wIqzk4C6_as",
        "outputId": "69e13c00-fec2-4519-e218-6de232b7303f"
      },
      "execution_count": 18,
      "outputs": [
        {
          "output_type": "display_data",
          "data": {
            "text/html": [
              "<html>\n",
              "<head><meta charset=\"utf-8\" /></head>\n",
              "<body>\n",
              "    <div>            <script src=\"https://cdnjs.cloudflare.com/ajax/libs/mathjax/2.7.5/MathJax.js?config=TeX-AMS-MML_SVG\"></script><script type=\"text/javascript\">if (window.MathJax && window.MathJax.Hub && window.MathJax.Hub.Config) {window.MathJax.Hub.Config({SVG: {font: \"STIX-Web\"}});}</script>                <script type=\"text/javascript\">window.PlotlyConfig = {MathJaxConfig: 'local'};</script>\n",
              "        <script src=\"https://cdn.plot.ly/plotly-2.18.2.min.js\"></script>                <div id=\"507131d7-dd2e-4081-bdf3-69b238a4cdbf\" class=\"plotly-graph-div\" style=\"height:400px; width:800px;\"></div>            <script type=\"text/javascript\">                                    window.PLOTLYENV=window.PLOTLYENV || {};                                    if (document.getElementById(\"507131d7-dd2e-4081-bdf3-69b238a4cdbf\")) {                    Plotly.newPlot(                        \"507131d7-dd2e-4081-bdf3-69b238a4cdbf\",                        [{\"alignmentgroup\":\"True\",\"hovertemplate\":\"indus=%{x}<extra></extra>\",\"legendgroup\":\"\",\"marker\":{\"color\":\"#636efa\"},\"name\":\"\",\"notched\":false,\"offsetgroup\":\"\",\"orientation\":\"h\",\"showlegend\":false,\"x\":[2.31,7.07,7.07,2.18,2.18,2.18,7.87,7.87,7.87,7.87,7.87,7.87,7.87,8.14,8.14,8.14,8.14,8.14,8.14,8.14,8.14,8.14,8.14,8.14,8.14,8.14,8.14,8.14,8.14,8.14,8.14,8.14,8.14,8.14,8.14,5.96,5.96,5.96,5.96,2.95,2.95,6.91,6.91,6.91,6.91,6.91,6.91,6.91,6.91,6.91,5.64,5.64,5.64,5.64,4.0,1.22,0.74,1.32,5.13,5.13,5.13,5.13,5.13,5.13,1.38,3.37,3.37,6.07,6.07,6.07,10.81,10.81,10.81,10.81,12.83,12.83,12.83,12.83,12.83,12.83,4.86,4.86,4.86,4.86,4.49,4.49,4.49,4.49,3.41,3.41,3.41,3.41,15.04,15.04,15.04,2.89,2.89,2.89,2.89,2.89,8.56,8.56,8.56,8.56,8.56,8.56,8.56,8.56,8.56,8.56,8.56,10.01,10.01,10.01,10.01,10.01,10.01,10.01,10.01,10.01,25.65,25.65,25.65,25.65,25.65,25.65,25.65,21.89,21.89,21.89,21.89,21.89,21.89,21.89,21.89,21.89,21.89,21.89,21.89,21.89,21.89,21.89,19.58,19.58,19.58,19.58,19.58,19.58,19.58,19.58,19.58,19.58,19.58,19.58,19.58,19.58,19.58,19.58,19.58,19.58,19.58,19.58,19.58,19.58,19.58,19.58,19.58,19.58,19.58,19.58,19.58,19.58,4.05,4.05,4.05,4.05,4.05,4.05,4.05,2.46,2.46,2.46,2.46,2.46,2.46,2.46,2.46,3.44,3.44,3.44,3.44,3.44,3.44,2.93,2.93,0.46,1.52,1.52,1.52,1.47,1.47,2.03,2.03,2.68,2.68,10.59,10.59,10.59,10.59,10.59,10.59,10.59,10.59,10.59,10.59,10.59,13.89,13.89,13.89,13.89,6.2,6.2,6.2,6.2,6.2,6.2,6.2,6.2,6.2,6.2,6.2,6.2,6.2,6.2,6.2,6.2,6.2,6.2,4.93,4.93,4.93,4.93,4.93,4.93,5.86,5.86,5.86,5.86,5.86,5.86,5.86,5.86,5.86,5.86,3.64,3.64,3.75,3.97,3.97,3.97,3.97,3.97,3.97,3.97,3.97,3.97,3.97,3.97,3.97,6.96,6.96,6.96,6.96,6.96,6.41,6.41,6.41,6.41,6.41,3.33,3.33,3.33,3.33,1.21,2.97,2.25,1.76,5.32,5.32,5.32,4.95,4.95,4.95,13.92,13.92,13.92,13.92,13.92,2.24,2.24,2.24,6.09,6.09,6.09,2.18,2.18,2.18,2.18,9.9,9.9,9.9,9.9,9.9,9.9,9.9,9.9,9.9,9.9,9.9,9.9,7.38,7.38,7.38,7.38,7.38,7.38,7.38,7.38,3.24,3.24,3.24,6.06,6.06,5.19,5.19,5.19,5.19,5.19,5.19,5.19,5.19,1.52,1.89,3.78,3.78,4.39,4.39,4.15,2.01,1.25,1.25,1.69,1.69,2.02,1.91,1.91,18.1,18.1,18.1,18.1,18.1,18.1,18.1,18.1,18.1,18.1,18.1,18.1,18.1,18.1,18.1,18.1,18.1,18.1,18.1,18.1,18.1,18.1,18.1,18.1,18.1,18.1,18.1,18.1,18.1,18.1,18.1,18.1,18.1,18.1,18.1,18.1,18.1,18.1,18.1,18.1,18.1,18.1,18.1,18.1,18.1,18.1,18.1,18.1,18.1,18.1,18.1,18.1,18.1,18.1,18.1,18.1,18.1,18.1,18.1,18.1,18.1,18.1,18.1,18.1,18.1,18.1,18.1,18.1,18.1,18.1,18.1,18.1,18.1,18.1,18.1,18.1,18.1,18.1,18.1,18.1,18.1,18.1,18.1,18.1,18.1,18.1,18.1,18.1,18.1,18.1,18.1,18.1,18.1,18.1,18.1,18.1,18.1,18.1,18.1,18.1,18.1,18.1,18.1,18.1,18.1,18.1,18.1,18.1,18.1,18.1,18.1,18.1,18.1,18.1,18.1,18.1,18.1,18.1,18.1,18.1,18.1,18.1,18.1,18.1,18.1,18.1,18.1,18.1,18.1,18.1,18.1,18.1,27.74,27.74,27.74,27.74,27.74,9.69,9.69,9.69,9.69,9.69,9.69,9.69,9.69,11.93,11.93,11.93,11.93,11.93],\"x0\":\" \",\"xaxis\":\"x\",\"y0\":\" \",\"yaxis\":\"y\",\"type\":\"box\"}],                        {\"template\":{\"data\":{\"histogram2dcontour\":[{\"type\":\"histogram2dcontour\",\"colorbar\":{\"outlinewidth\":0,\"ticks\":\"\"},\"colorscale\":[[0.0,\"#0d0887\"],[0.1111111111111111,\"#46039f\"],[0.2222222222222222,\"#7201a8\"],[0.3333333333333333,\"#9c179e\"],[0.4444444444444444,\"#bd3786\"],[0.5555555555555556,\"#d8576b\"],[0.6666666666666666,\"#ed7953\"],[0.7777777777777778,\"#fb9f3a\"],[0.8888888888888888,\"#fdca26\"],[1.0,\"#f0f921\"]]}],\"choropleth\":[{\"type\":\"choropleth\",\"colorbar\":{\"outlinewidth\":0,\"ticks\":\"\"}}],\"histogram2d\":[{\"type\":\"histogram2d\",\"colorbar\":{\"outlinewidth\":0,\"ticks\":\"\"},\"colorscale\":[[0.0,\"#0d0887\"],[0.1111111111111111,\"#46039f\"],[0.2222222222222222,\"#7201a8\"],[0.3333333333333333,\"#9c179e\"],[0.4444444444444444,\"#bd3786\"],[0.5555555555555556,\"#d8576b\"],[0.6666666666666666,\"#ed7953\"],[0.7777777777777778,\"#fb9f3a\"],[0.8888888888888888,\"#fdca26\"],[1.0,\"#f0f921\"]]}],\"heatmap\":[{\"type\":\"heatmap\",\"colorbar\":{\"outlinewidth\":0,\"ticks\":\"\"},\"colorscale\":[[0.0,\"#0d0887\"],[0.1111111111111111,\"#46039f\"],[0.2222222222222222,\"#7201a8\"],[0.3333333333333333,\"#9c179e\"],[0.4444444444444444,\"#bd3786\"],[0.5555555555555556,\"#d8576b\"],[0.6666666666666666,\"#ed7953\"],[0.7777777777777778,\"#fb9f3a\"],[0.8888888888888888,\"#fdca26\"],[1.0,\"#f0f921\"]]}],\"heatmapgl\":[{\"type\":\"heatmapgl\",\"colorbar\":{\"outlinewidth\":0,\"ticks\":\"\"},\"colorscale\":[[0.0,\"#0d0887\"],[0.1111111111111111,\"#46039f\"],[0.2222222222222222,\"#7201a8\"],[0.3333333333333333,\"#9c179e\"],[0.4444444444444444,\"#bd3786\"],[0.5555555555555556,\"#d8576b\"],[0.6666666666666666,\"#ed7953\"],[0.7777777777777778,\"#fb9f3a\"],[0.8888888888888888,\"#fdca26\"],[1.0,\"#f0f921\"]]}],\"contourcarpet\":[{\"type\":\"contourcarpet\",\"colorbar\":{\"outlinewidth\":0,\"ticks\":\"\"}}],\"contour\":[{\"type\":\"contour\",\"colorbar\":{\"outlinewidth\":0,\"ticks\":\"\"},\"colorscale\":[[0.0,\"#0d0887\"],[0.1111111111111111,\"#46039f\"],[0.2222222222222222,\"#7201a8\"],[0.3333333333333333,\"#9c179e\"],[0.4444444444444444,\"#bd3786\"],[0.5555555555555556,\"#d8576b\"],[0.6666666666666666,\"#ed7953\"],[0.7777777777777778,\"#fb9f3a\"],[0.8888888888888888,\"#fdca26\"],[1.0,\"#f0f921\"]]}],\"surface\":[{\"type\":\"surface\",\"colorbar\":{\"outlinewidth\":0,\"ticks\":\"\"},\"colorscale\":[[0.0,\"#0d0887\"],[0.1111111111111111,\"#46039f\"],[0.2222222222222222,\"#7201a8\"],[0.3333333333333333,\"#9c179e\"],[0.4444444444444444,\"#bd3786\"],[0.5555555555555556,\"#d8576b\"],[0.6666666666666666,\"#ed7953\"],[0.7777777777777778,\"#fb9f3a\"],[0.8888888888888888,\"#fdca26\"],[1.0,\"#f0f921\"]]}],\"mesh3d\":[{\"type\":\"mesh3d\",\"colorbar\":{\"outlinewidth\":0,\"ticks\":\"\"}}],\"scatter\":[{\"fillpattern\":{\"fillmode\":\"overlay\",\"size\":10,\"solidity\":0.2},\"type\":\"scatter\"}],\"parcoords\":[{\"type\":\"parcoords\",\"line\":{\"colorbar\":{\"outlinewidth\":0,\"ticks\":\"\"}}}],\"scatterpolargl\":[{\"type\":\"scatterpolargl\",\"marker\":{\"colorbar\":{\"outlinewidth\":0,\"ticks\":\"\"}}}],\"bar\":[{\"error_x\":{\"color\":\"#2a3f5f\"},\"error_y\":{\"color\":\"#2a3f5f\"},\"marker\":{\"line\":{\"color\":\"#E5ECF6\",\"width\":0.5},\"pattern\":{\"fillmode\":\"overlay\",\"size\":10,\"solidity\":0.2}},\"type\":\"bar\"}],\"scattergeo\":[{\"type\":\"scattergeo\",\"marker\":{\"colorbar\":{\"outlinewidth\":0,\"ticks\":\"\"}}}],\"scatterpolar\":[{\"type\":\"scatterpolar\",\"marker\":{\"colorbar\":{\"outlinewidth\":0,\"ticks\":\"\"}}}],\"histogram\":[{\"marker\":{\"pattern\":{\"fillmode\":\"overlay\",\"size\":10,\"solidity\":0.2}},\"type\":\"histogram\"}],\"scattergl\":[{\"type\":\"scattergl\",\"marker\":{\"colorbar\":{\"outlinewidth\":0,\"ticks\":\"\"}}}],\"scatter3d\":[{\"type\":\"scatter3d\",\"line\":{\"colorbar\":{\"outlinewidth\":0,\"ticks\":\"\"}},\"marker\":{\"colorbar\":{\"outlinewidth\":0,\"ticks\":\"\"}}}],\"scattermapbox\":[{\"type\":\"scattermapbox\",\"marker\":{\"colorbar\":{\"outlinewidth\":0,\"ticks\":\"\"}}}],\"scatterternary\":[{\"type\":\"scatterternary\",\"marker\":{\"colorbar\":{\"outlinewidth\":0,\"ticks\":\"\"}}}],\"scattercarpet\":[{\"type\":\"scattercarpet\",\"marker\":{\"colorbar\":{\"outlinewidth\":0,\"ticks\":\"\"}}}],\"carpet\":[{\"aaxis\":{\"endlinecolor\":\"#2a3f5f\",\"gridcolor\":\"white\",\"linecolor\":\"white\",\"minorgridcolor\":\"white\",\"startlinecolor\":\"#2a3f5f\"},\"baxis\":{\"endlinecolor\":\"#2a3f5f\",\"gridcolor\":\"white\",\"linecolor\":\"white\",\"minorgridcolor\":\"white\",\"startlinecolor\":\"#2a3f5f\"},\"type\":\"carpet\"}],\"table\":[{\"cells\":{\"fill\":{\"color\":\"#EBF0F8\"},\"line\":{\"color\":\"white\"}},\"header\":{\"fill\":{\"color\":\"#C8D4E3\"},\"line\":{\"color\":\"white\"}},\"type\":\"table\"}],\"barpolar\":[{\"marker\":{\"line\":{\"color\":\"#E5ECF6\",\"width\":0.5},\"pattern\":{\"fillmode\":\"overlay\",\"size\":10,\"solidity\":0.2}},\"type\":\"barpolar\"}],\"pie\":[{\"automargin\":true,\"type\":\"pie\"}]},\"layout\":{\"autotypenumbers\":\"strict\",\"colorway\":[\"#636efa\",\"#EF553B\",\"#00cc96\",\"#ab63fa\",\"#FFA15A\",\"#19d3f3\",\"#FF6692\",\"#B6E880\",\"#FF97FF\",\"#FECB52\"],\"font\":{\"color\":\"#2a3f5f\"},\"hovermode\":\"closest\",\"hoverlabel\":{\"align\":\"left\"},\"paper_bgcolor\":\"white\",\"plot_bgcolor\":\"#E5ECF6\",\"polar\":{\"bgcolor\":\"#E5ECF6\",\"angularaxis\":{\"gridcolor\":\"white\",\"linecolor\":\"white\",\"ticks\":\"\"},\"radialaxis\":{\"gridcolor\":\"white\",\"linecolor\":\"white\",\"ticks\":\"\"}},\"ternary\":{\"bgcolor\":\"#E5ECF6\",\"aaxis\":{\"gridcolor\":\"white\",\"linecolor\":\"white\",\"ticks\":\"\"},\"baxis\":{\"gridcolor\":\"white\",\"linecolor\":\"white\",\"ticks\":\"\"},\"caxis\":{\"gridcolor\":\"white\",\"linecolor\":\"white\",\"ticks\":\"\"}},\"coloraxis\":{\"colorbar\":{\"outlinewidth\":0,\"ticks\":\"\"}},\"colorscale\":{\"sequential\":[[0.0,\"#0d0887\"],[0.1111111111111111,\"#46039f\"],[0.2222222222222222,\"#7201a8\"],[0.3333333333333333,\"#9c179e\"],[0.4444444444444444,\"#bd3786\"],[0.5555555555555556,\"#d8576b\"],[0.6666666666666666,\"#ed7953\"],[0.7777777777777778,\"#fb9f3a\"],[0.8888888888888888,\"#fdca26\"],[1.0,\"#f0f921\"]],\"sequentialminus\":[[0.0,\"#0d0887\"],[0.1111111111111111,\"#46039f\"],[0.2222222222222222,\"#7201a8\"],[0.3333333333333333,\"#9c179e\"],[0.4444444444444444,\"#bd3786\"],[0.5555555555555556,\"#d8576b\"],[0.6666666666666666,\"#ed7953\"],[0.7777777777777778,\"#fb9f3a\"],[0.8888888888888888,\"#fdca26\"],[1.0,\"#f0f921\"]],\"diverging\":[[0,\"#8e0152\"],[0.1,\"#c51b7d\"],[0.2,\"#de77ae\"],[0.3,\"#f1b6da\"],[0.4,\"#fde0ef\"],[0.5,\"#f7f7f7\"],[0.6,\"#e6f5d0\"],[0.7,\"#b8e186\"],[0.8,\"#7fbc41\"],[0.9,\"#4d9221\"],[1,\"#276419\"]]},\"xaxis\":{\"gridcolor\":\"white\",\"linecolor\":\"white\",\"ticks\":\"\",\"title\":{\"standoff\":15},\"zerolinecolor\":\"white\",\"automargin\":true,\"zerolinewidth\":2},\"yaxis\":{\"gridcolor\":\"white\",\"linecolor\":\"white\",\"ticks\":\"\",\"title\":{\"standoff\":15},\"zerolinecolor\":\"white\",\"automargin\":true,\"zerolinewidth\":2},\"scene\":{\"xaxis\":{\"backgroundcolor\":\"#E5ECF6\",\"gridcolor\":\"white\",\"linecolor\":\"white\",\"showbackground\":true,\"ticks\":\"\",\"zerolinecolor\":\"white\",\"gridwidth\":2},\"yaxis\":{\"backgroundcolor\":\"#E5ECF6\",\"gridcolor\":\"white\",\"linecolor\":\"white\",\"showbackground\":true,\"ticks\":\"\",\"zerolinecolor\":\"white\",\"gridwidth\":2},\"zaxis\":{\"backgroundcolor\":\"#E5ECF6\",\"gridcolor\":\"white\",\"linecolor\":\"white\",\"showbackground\":true,\"ticks\":\"\",\"zerolinecolor\":\"white\",\"gridwidth\":2}},\"shapedefaults\":{\"line\":{\"color\":\"#2a3f5f\"}},\"annotationdefaults\":{\"arrowcolor\":\"#2a3f5f\",\"arrowhead\":0,\"arrowwidth\":1},\"geo\":{\"bgcolor\":\"white\",\"landcolor\":\"#E5ECF6\",\"subunitcolor\":\"white\",\"showland\":true,\"showlakes\":true,\"lakecolor\":\"white\"},\"title\":{\"x\":0.05},\"mapbox\":{\"style\":\"light\"}}},\"xaxis\":{\"anchor\":\"y\",\"domain\":[0.0,1.0],\"title\":{\"text\":\"indus\"}},\"yaxis\":{\"anchor\":\"x\",\"domain\":[0.0,1.0]},\"legend\":{\"tracegroupgap\":0},\"margin\":{\"t\":60},\"boxmode\":\"group\",\"height\":400,\"width\":800},                        {\"responsive\": true}                    ).then(function(){\n",
              "                            \n",
              "var gd = document.getElementById('507131d7-dd2e-4081-bdf3-69b238a4cdbf');\n",
              "var x = new MutationObserver(function (mutations, observer) {{\n",
              "        var display = window.getComputedStyle(gd).display;\n",
              "        if (!display || display === 'none') {{\n",
              "            console.log([gd, 'removed!']);\n",
              "            Plotly.purge(gd);\n",
              "            observer.disconnect();\n",
              "        }}\n",
              "}});\n",
              "\n",
              "// Listen for the removal of the full notebook cells\n",
              "var notebookContainer = gd.closest('#notebook-container');\n",
              "if (notebookContainer) {{\n",
              "    x.observe(notebookContainer, {childList: true});\n",
              "}}\n",
              "\n",
              "// Listen for the clearing of the current output cell\n",
              "var outputEl = gd.closest('.output');\n",
              "if (outputEl) {{\n",
              "    x.observe(outputEl, {childList: true});\n",
              "}}\n",
              "\n",
              "                        })                };                            </script>        </div>\n",
              "</body>\n",
              "</html>"
            ]
          },
          "metadata": {}
        }
      ]
    },
    {
      "cell_type": "code",
      "source": [
        "px.box(boston, x=\"chas\", width=800, height=400)"
      ],
      "metadata": {
        "colab": {
          "base_uri": "https://localhost:8080/",
          "height": 417
        },
        "id": "6XbFEkWQ7C-w",
        "outputId": "57539e1e-d5e8-4458-e3dd-dcaede1faa08"
      },
      "execution_count": 19,
      "outputs": [
        {
          "output_type": "display_data",
          "data": {
            "text/html": [
              "<html>\n",
              "<head><meta charset=\"utf-8\" /></head>\n",
              "<body>\n",
              "    <div>            <script src=\"https://cdnjs.cloudflare.com/ajax/libs/mathjax/2.7.5/MathJax.js?config=TeX-AMS-MML_SVG\"></script><script type=\"text/javascript\">if (window.MathJax && window.MathJax.Hub && window.MathJax.Hub.Config) {window.MathJax.Hub.Config({SVG: {font: \"STIX-Web\"}});}</script>                <script type=\"text/javascript\">window.PlotlyConfig = {MathJaxConfig: 'local'};</script>\n",
              "        <script src=\"https://cdn.plot.ly/plotly-2.18.2.min.js\"></script>                <div id=\"61ae4b06-3150-4b51-90cd-9c6354642e29\" class=\"plotly-graph-div\" style=\"height:400px; width:800px;\"></div>            <script type=\"text/javascript\">                                    window.PLOTLYENV=window.PLOTLYENV || {};                                    if (document.getElementById(\"61ae4b06-3150-4b51-90cd-9c6354642e29\")) {                    Plotly.newPlot(                        \"61ae4b06-3150-4b51-90cd-9c6354642e29\",                        [{\"alignmentgroup\":\"True\",\"hovertemplate\":\"chas=%{x}<extra></extra>\",\"legendgroup\":\"\",\"marker\":{\"color\":\"#636efa\"},\"name\":\"\",\"notched\":false,\"offsetgroup\":\"\",\"orientation\":\"h\",\"showlegend\":false,\"x\":[0,0,0,0,0,0,0,0,0,0,0,0,0,0,0,0,0,0,0,0,0,0,0,0,0,0,0,0,0,0,0,0,0,0,0,0,0,0,0,0,0,0,0,0,0,0,0,0,0,0,0,0,0,0,0,0,0,0,0,0,0,0,0,0,0,0,0,0,0,0,0,0,0,0,0,0,0,0,0,0,0,0,0,0,0,0,0,0,0,0,0,0,0,0,0,0,0,0,0,0,0,0,0,0,0,0,0,0,0,0,0,0,0,0,0,0,0,0,0,0,0,0,0,0,0,0,0,0,0,0,0,0,0,0,0,0,0,0,0,0,0,0,1,0,0,0,0,0,0,0,0,0,1,0,1,1,0,0,0,0,1,0,1,1,0,0,0,0,0,0,0,0,0,0,0,0,0,0,0,0,0,0,0,0,0,0,0,0,0,0,0,0,0,0,0,0,0,0,0,0,0,0,0,0,0,0,0,0,1,1,1,1,1,0,0,0,1,0,1,1,1,1,1,0,0,0,0,0,0,0,0,0,0,0,1,0,1,0,0,0,0,0,0,0,0,0,0,0,0,0,0,0,0,0,0,0,0,0,0,0,0,0,0,0,0,0,0,0,0,1,0,0,0,1,1,0,1,1,0,0,0,0,1,1,0,0,0,0,0,0,0,0,0,0,0,0,0,0,0,0,0,0,0,0,0,0,0,0,0,0,0,0,0,0,0,0,0,0,0,0,0,0,0,0,0,0,0,0,0,0,0,0,0,0,0,0,0,0,0,0,0,0,0,0,0,0,0,0,0,0,0,0,0,0,0,0,1,1,1,0,0,0,0,1,1,0,0,0,0,1,1,0,1,0,0,0,0,0,0,0,0,0,0,0,0,0,0,0,0,0,0,0,0,0,0,0,0,0,0,0,0,0,0,0,0,0,0,0,0,0,0,0,0,0,0,0,0,0,0,0,0,0,0,0,0,0,0,0,0,0,0,0,0,0,0,0,0,0,0,0,0,0,0,0,0,0,0,0,0,0,0,0,0,0,0,0,0,0,0,0,0,0,0,0,0,0,0,0,0,0,0,0,0,0,0,0,0,0,0,0,0,0,0,0,0,0,0,0,0,0,0,0,0,0,0,0,0,0,0,0,0,0,0,0,0,0],\"x0\":\" \",\"xaxis\":\"x\",\"y0\":\" \",\"yaxis\":\"y\",\"type\":\"box\"}],                        {\"template\":{\"data\":{\"histogram2dcontour\":[{\"type\":\"histogram2dcontour\",\"colorbar\":{\"outlinewidth\":0,\"ticks\":\"\"},\"colorscale\":[[0.0,\"#0d0887\"],[0.1111111111111111,\"#46039f\"],[0.2222222222222222,\"#7201a8\"],[0.3333333333333333,\"#9c179e\"],[0.4444444444444444,\"#bd3786\"],[0.5555555555555556,\"#d8576b\"],[0.6666666666666666,\"#ed7953\"],[0.7777777777777778,\"#fb9f3a\"],[0.8888888888888888,\"#fdca26\"],[1.0,\"#f0f921\"]]}],\"choropleth\":[{\"type\":\"choropleth\",\"colorbar\":{\"outlinewidth\":0,\"ticks\":\"\"}}],\"histogram2d\":[{\"type\":\"histogram2d\",\"colorbar\":{\"outlinewidth\":0,\"ticks\":\"\"},\"colorscale\":[[0.0,\"#0d0887\"],[0.1111111111111111,\"#46039f\"],[0.2222222222222222,\"#7201a8\"],[0.3333333333333333,\"#9c179e\"],[0.4444444444444444,\"#bd3786\"],[0.5555555555555556,\"#d8576b\"],[0.6666666666666666,\"#ed7953\"],[0.7777777777777778,\"#fb9f3a\"],[0.8888888888888888,\"#fdca26\"],[1.0,\"#f0f921\"]]}],\"heatmap\":[{\"type\":\"heatmap\",\"colorbar\":{\"outlinewidth\":0,\"ticks\":\"\"},\"colorscale\":[[0.0,\"#0d0887\"],[0.1111111111111111,\"#46039f\"],[0.2222222222222222,\"#7201a8\"],[0.3333333333333333,\"#9c179e\"],[0.4444444444444444,\"#bd3786\"],[0.5555555555555556,\"#d8576b\"],[0.6666666666666666,\"#ed7953\"],[0.7777777777777778,\"#fb9f3a\"],[0.8888888888888888,\"#fdca26\"],[1.0,\"#f0f921\"]]}],\"heatmapgl\":[{\"type\":\"heatmapgl\",\"colorbar\":{\"outlinewidth\":0,\"ticks\":\"\"},\"colorscale\":[[0.0,\"#0d0887\"],[0.1111111111111111,\"#46039f\"],[0.2222222222222222,\"#7201a8\"],[0.3333333333333333,\"#9c179e\"],[0.4444444444444444,\"#bd3786\"],[0.5555555555555556,\"#d8576b\"],[0.6666666666666666,\"#ed7953\"],[0.7777777777777778,\"#fb9f3a\"],[0.8888888888888888,\"#fdca26\"],[1.0,\"#f0f921\"]]}],\"contourcarpet\":[{\"type\":\"contourcarpet\",\"colorbar\":{\"outlinewidth\":0,\"ticks\":\"\"}}],\"contour\":[{\"type\":\"contour\",\"colorbar\":{\"outlinewidth\":0,\"ticks\":\"\"},\"colorscale\":[[0.0,\"#0d0887\"],[0.1111111111111111,\"#46039f\"],[0.2222222222222222,\"#7201a8\"],[0.3333333333333333,\"#9c179e\"],[0.4444444444444444,\"#bd3786\"],[0.5555555555555556,\"#d8576b\"],[0.6666666666666666,\"#ed7953\"],[0.7777777777777778,\"#fb9f3a\"],[0.8888888888888888,\"#fdca26\"],[1.0,\"#f0f921\"]]}],\"surface\":[{\"type\":\"surface\",\"colorbar\":{\"outlinewidth\":0,\"ticks\":\"\"},\"colorscale\":[[0.0,\"#0d0887\"],[0.1111111111111111,\"#46039f\"],[0.2222222222222222,\"#7201a8\"],[0.3333333333333333,\"#9c179e\"],[0.4444444444444444,\"#bd3786\"],[0.5555555555555556,\"#d8576b\"],[0.6666666666666666,\"#ed7953\"],[0.7777777777777778,\"#fb9f3a\"],[0.8888888888888888,\"#fdca26\"],[1.0,\"#f0f921\"]]}],\"mesh3d\":[{\"type\":\"mesh3d\",\"colorbar\":{\"outlinewidth\":0,\"ticks\":\"\"}}],\"scatter\":[{\"fillpattern\":{\"fillmode\":\"overlay\",\"size\":10,\"solidity\":0.2},\"type\":\"scatter\"}],\"parcoords\":[{\"type\":\"parcoords\",\"line\":{\"colorbar\":{\"outlinewidth\":0,\"ticks\":\"\"}}}],\"scatterpolargl\":[{\"type\":\"scatterpolargl\",\"marker\":{\"colorbar\":{\"outlinewidth\":0,\"ticks\":\"\"}}}],\"bar\":[{\"error_x\":{\"color\":\"#2a3f5f\"},\"error_y\":{\"color\":\"#2a3f5f\"},\"marker\":{\"line\":{\"color\":\"#E5ECF6\",\"width\":0.5},\"pattern\":{\"fillmode\":\"overlay\",\"size\":10,\"solidity\":0.2}},\"type\":\"bar\"}],\"scattergeo\":[{\"type\":\"scattergeo\",\"marker\":{\"colorbar\":{\"outlinewidth\":0,\"ticks\":\"\"}}}],\"scatterpolar\":[{\"type\":\"scatterpolar\",\"marker\":{\"colorbar\":{\"outlinewidth\":0,\"ticks\":\"\"}}}],\"histogram\":[{\"marker\":{\"pattern\":{\"fillmode\":\"overlay\",\"size\":10,\"solidity\":0.2}},\"type\":\"histogram\"}],\"scattergl\":[{\"type\":\"scattergl\",\"marker\":{\"colorbar\":{\"outlinewidth\":0,\"ticks\":\"\"}}}],\"scatter3d\":[{\"type\":\"scatter3d\",\"line\":{\"colorbar\":{\"outlinewidth\":0,\"ticks\":\"\"}},\"marker\":{\"colorbar\":{\"outlinewidth\":0,\"ticks\":\"\"}}}],\"scattermapbox\":[{\"type\":\"scattermapbox\",\"marker\":{\"colorbar\":{\"outlinewidth\":0,\"ticks\":\"\"}}}],\"scatterternary\":[{\"type\":\"scatterternary\",\"marker\":{\"colorbar\":{\"outlinewidth\":0,\"ticks\":\"\"}}}],\"scattercarpet\":[{\"type\":\"scattercarpet\",\"marker\":{\"colorbar\":{\"outlinewidth\":0,\"ticks\":\"\"}}}],\"carpet\":[{\"aaxis\":{\"endlinecolor\":\"#2a3f5f\",\"gridcolor\":\"white\",\"linecolor\":\"white\",\"minorgridcolor\":\"white\",\"startlinecolor\":\"#2a3f5f\"},\"baxis\":{\"endlinecolor\":\"#2a3f5f\",\"gridcolor\":\"white\",\"linecolor\":\"white\",\"minorgridcolor\":\"white\",\"startlinecolor\":\"#2a3f5f\"},\"type\":\"carpet\"}],\"table\":[{\"cells\":{\"fill\":{\"color\":\"#EBF0F8\"},\"line\":{\"color\":\"white\"}},\"header\":{\"fill\":{\"color\":\"#C8D4E3\"},\"line\":{\"color\":\"white\"}},\"type\":\"table\"}],\"barpolar\":[{\"marker\":{\"line\":{\"color\":\"#E5ECF6\",\"width\":0.5},\"pattern\":{\"fillmode\":\"overlay\",\"size\":10,\"solidity\":0.2}},\"type\":\"barpolar\"}],\"pie\":[{\"automargin\":true,\"type\":\"pie\"}]},\"layout\":{\"autotypenumbers\":\"strict\",\"colorway\":[\"#636efa\",\"#EF553B\",\"#00cc96\",\"#ab63fa\",\"#FFA15A\",\"#19d3f3\",\"#FF6692\",\"#B6E880\",\"#FF97FF\",\"#FECB52\"],\"font\":{\"color\":\"#2a3f5f\"},\"hovermode\":\"closest\",\"hoverlabel\":{\"align\":\"left\"},\"paper_bgcolor\":\"white\",\"plot_bgcolor\":\"#E5ECF6\",\"polar\":{\"bgcolor\":\"#E5ECF6\",\"angularaxis\":{\"gridcolor\":\"white\",\"linecolor\":\"white\",\"ticks\":\"\"},\"radialaxis\":{\"gridcolor\":\"white\",\"linecolor\":\"white\",\"ticks\":\"\"}},\"ternary\":{\"bgcolor\":\"#E5ECF6\",\"aaxis\":{\"gridcolor\":\"white\",\"linecolor\":\"white\",\"ticks\":\"\"},\"baxis\":{\"gridcolor\":\"white\",\"linecolor\":\"white\",\"ticks\":\"\"},\"caxis\":{\"gridcolor\":\"white\",\"linecolor\":\"white\",\"ticks\":\"\"}},\"coloraxis\":{\"colorbar\":{\"outlinewidth\":0,\"ticks\":\"\"}},\"colorscale\":{\"sequential\":[[0.0,\"#0d0887\"],[0.1111111111111111,\"#46039f\"],[0.2222222222222222,\"#7201a8\"],[0.3333333333333333,\"#9c179e\"],[0.4444444444444444,\"#bd3786\"],[0.5555555555555556,\"#d8576b\"],[0.6666666666666666,\"#ed7953\"],[0.7777777777777778,\"#fb9f3a\"],[0.8888888888888888,\"#fdca26\"],[1.0,\"#f0f921\"]],\"sequentialminus\":[[0.0,\"#0d0887\"],[0.1111111111111111,\"#46039f\"],[0.2222222222222222,\"#7201a8\"],[0.3333333333333333,\"#9c179e\"],[0.4444444444444444,\"#bd3786\"],[0.5555555555555556,\"#d8576b\"],[0.6666666666666666,\"#ed7953\"],[0.7777777777777778,\"#fb9f3a\"],[0.8888888888888888,\"#fdca26\"],[1.0,\"#f0f921\"]],\"diverging\":[[0,\"#8e0152\"],[0.1,\"#c51b7d\"],[0.2,\"#de77ae\"],[0.3,\"#f1b6da\"],[0.4,\"#fde0ef\"],[0.5,\"#f7f7f7\"],[0.6,\"#e6f5d0\"],[0.7,\"#b8e186\"],[0.8,\"#7fbc41\"],[0.9,\"#4d9221\"],[1,\"#276419\"]]},\"xaxis\":{\"gridcolor\":\"white\",\"linecolor\":\"white\",\"ticks\":\"\",\"title\":{\"standoff\":15},\"zerolinecolor\":\"white\",\"automargin\":true,\"zerolinewidth\":2},\"yaxis\":{\"gridcolor\":\"white\",\"linecolor\":\"white\",\"ticks\":\"\",\"title\":{\"standoff\":15},\"zerolinecolor\":\"white\",\"automargin\":true,\"zerolinewidth\":2},\"scene\":{\"xaxis\":{\"backgroundcolor\":\"#E5ECF6\",\"gridcolor\":\"white\",\"linecolor\":\"white\",\"showbackground\":true,\"ticks\":\"\",\"zerolinecolor\":\"white\",\"gridwidth\":2},\"yaxis\":{\"backgroundcolor\":\"#E5ECF6\",\"gridcolor\":\"white\",\"linecolor\":\"white\",\"showbackground\":true,\"ticks\":\"\",\"zerolinecolor\":\"white\",\"gridwidth\":2},\"zaxis\":{\"backgroundcolor\":\"#E5ECF6\",\"gridcolor\":\"white\",\"linecolor\":\"white\",\"showbackground\":true,\"ticks\":\"\",\"zerolinecolor\":\"white\",\"gridwidth\":2}},\"shapedefaults\":{\"line\":{\"color\":\"#2a3f5f\"}},\"annotationdefaults\":{\"arrowcolor\":\"#2a3f5f\",\"arrowhead\":0,\"arrowwidth\":1},\"geo\":{\"bgcolor\":\"white\",\"landcolor\":\"#E5ECF6\",\"subunitcolor\":\"white\",\"showland\":true,\"showlakes\":true,\"lakecolor\":\"white\"},\"title\":{\"x\":0.05},\"mapbox\":{\"style\":\"light\"}}},\"xaxis\":{\"anchor\":\"y\",\"domain\":[0.0,1.0],\"title\":{\"text\":\"chas\"}},\"yaxis\":{\"anchor\":\"x\",\"domain\":[0.0,1.0]},\"legend\":{\"tracegroupgap\":0},\"margin\":{\"t\":60},\"boxmode\":\"group\",\"height\":400,\"width\":800},                        {\"responsive\": true}                    ).then(function(){\n",
              "                            \n",
              "var gd = document.getElementById('61ae4b06-3150-4b51-90cd-9c6354642e29');\n",
              "var x = new MutationObserver(function (mutations, observer) {{\n",
              "        var display = window.getComputedStyle(gd).display;\n",
              "        if (!display || display === 'none') {{\n",
              "            console.log([gd, 'removed!']);\n",
              "            Plotly.purge(gd);\n",
              "            observer.disconnect();\n",
              "        }}\n",
              "}});\n",
              "\n",
              "// Listen for the removal of the full notebook cells\n",
              "var notebookContainer = gd.closest('#notebook-container');\n",
              "if (notebookContainer) {{\n",
              "    x.observe(notebookContainer, {childList: true});\n",
              "}}\n",
              "\n",
              "// Listen for the clearing of the current output cell\n",
              "var outputEl = gd.closest('.output');\n",
              "if (outputEl) {{\n",
              "    x.observe(outputEl, {childList: true});\n",
              "}}\n",
              "\n",
              "                        })                };                            </script>        </div>\n",
              "</body>\n",
              "</html>"
            ]
          },
          "metadata": {}
        }
      ]
    },
    {
      "cell_type": "code",
      "source": [
        "px.box(boston, x=\"nox\", width=800, height=400)"
      ],
      "metadata": {
        "colab": {
          "base_uri": "https://localhost:8080/",
          "height": 417
        },
        "id": "9gDQgE2P7KHe",
        "outputId": "dc70daab-1f4c-4c95-821d-3d5d1b48b514"
      },
      "execution_count": 20,
      "outputs": [
        {
          "output_type": "display_data",
          "data": {
            "text/html": [
              "<html>\n",
              "<head><meta charset=\"utf-8\" /></head>\n",
              "<body>\n",
              "    <div>            <script src=\"https://cdnjs.cloudflare.com/ajax/libs/mathjax/2.7.5/MathJax.js?config=TeX-AMS-MML_SVG\"></script><script type=\"text/javascript\">if (window.MathJax && window.MathJax.Hub && window.MathJax.Hub.Config) {window.MathJax.Hub.Config({SVG: {font: \"STIX-Web\"}});}</script>                <script type=\"text/javascript\">window.PlotlyConfig = {MathJaxConfig: 'local'};</script>\n",
              "        <script src=\"https://cdn.plot.ly/plotly-2.18.2.min.js\"></script>                <div id=\"f9388d2a-6c7a-4280-9413-c7269ff6615a\" class=\"plotly-graph-div\" style=\"height:400px; width:800px;\"></div>            <script type=\"text/javascript\">                                    window.PLOTLYENV=window.PLOTLYENV || {};                                    if (document.getElementById(\"f9388d2a-6c7a-4280-9413-c7269ff6615a\")) {                    Plotly.newPlot(                        \"f9388d2a-6c7a-4280-9413-c7269ff6615a\",                        [{\"alignmentgroup\":\"True\",\"hovertemplate\":\"nox=%{x}<extra></extra>\",\"legendgroup\":\"\",\"marker\":{\"color\":\"#636efa\"},\"name\":\"\",\"notched\":false,\"offsetgroup\":\"\",\"orientation\":\"h\",\"showlegend\":false,\"x\":[0.538,0.469,0.469,0.458,0.458,0.458,0.524,0.524,0.524,0.524,0.524,0.524,0.524,0.538,0.538,0.538,0.538,0.538,0.538,0.538,0.538,0.538,0.538,0.538,0.538,0.538,0.538,0.538,0.538,0.538,0.538,0.538,0.538,0.538,0.538,0.499,0.499,0.499,0.499,0.428,0.428,0.448,0.448,0.448,0.448,0.448,0.448,0.448,0.448,0.448,0.439,0.439,0.439,0.439,0.41,0.403,0.41,0.411,0.453,0.453,0.453,0.453,0.453,0.453,0.4161,0.398,0.398,0.409,0.409,0.409,0.413,0.413,0.413,0.413,0.437,0.437,0.437,0.437,0.437,0.437,0.426,0.426,0.426,0.426,0.449,0.449,0.449,0.449,0.489,0.489,0.489,0.489,0.464,0.464,0.464,0.445,0.445,0.445,0.445,0.445,0.52,0.52,0.52,0.52,0.52,0.52,0.52,0.52,0.52,0.52,0.52,0.547,0.547,0.547,0.547,0.547,0.547,0.547,0.547,0.547,0.581,0.581,0.581,0.581,0.581,0.581,0.581,0.624,0.624,0.624,0.624,0.624,0.624,0.624,0.624,0.624,0.624,0.624,0.624,0.624,0.624,0.624,0.871,0.871,0.871,0.871,0.871,0.871,0.871,0.871,0.871,0.871,0.871,0.871,0.871,0.871,0.871,0.605,0.605,0.871,0.605,0.605,0.605,0.605,0.605,0.605,0.605,0.605,0.605,0.605,0.605,0.605,0.51,0.51,0.51,0.51,0.51,0.51,0.51,0.488,0.488,0.488,0.488,0.488,0.488,0.488,0.488,0.437,0.437,0.437,0.437,0.437,0.437,0.401,0.401,0.422,0.404,0.404,0.404,0.403,0.403,0.415,0.415,0.4161,0.4161,0.489,0.489,0.489,0.489,0.489,0.489,0.489,0.489,0.489,0.489,0.489,0.55,0.55,0.55,0.55,0.507,0.507,0.507,0.507,0.504,0.504,0.504,0.504,0.504,0.504,0.504,0.504,0.507,0.507,0.507,0.507,0.507,0.507,0.428,0.428,0.428,0.428,0.428,0.428,0.431,0.431,0.431,0.431,0.431,0.431,0.431,0.431,0.431,0.431,0.392,0.392,0.394,0.647,0.647,0.647,0.647,0.647,0.647,0.647,0.647,0.647,0.647,0.575,0.575,0.464,0.464,0.464,0.464,0.464,0.447,0.447,0.447,0.447,0.447,0.4429,0.4429,0.4429,0.4429,0.401,0.4,0.389,0.385,0.405,0.405,0.405,0.411,0.411,0.411,0.437,0.437,0.437,0.437,0.437,0.4,0.4,0.4,0.433,0.433,0.433,0.472,0.472,0.472,0.472,0.544,0.544,0.544,0.544,0.544,0.544,0.544,0.544,0.544,0.544,0.544,0.544,0.493,0.493,0.493,0.493,0.493,0.493,0.493,0.493,0.46,0.46,0.46,0.4379,0.4379,0.515,0.515,0.515,0.515,0.515,0.515,0.515,0.515,0.442,0.518,0.484,0.484,0.442,0.442,0.429,0.435,0.429,0.429,0.411,0.411,0.41,0.413,0.413,0.77,0.77,0.77,0.77,0.77,0.77,0.77,0.77,0.718,0.718,0.718,0.631,0.631,0.631,0.631,0.631,0.668,0.668,0.668,0.671,0.671,0.671,0.671,0.671,0.671,0.671,0.7,0.7,0.7,0.7,0.7,0.7,0.7,0.7,0.7,0.7,0.7,0.693,0.693,0.693,0.693,0.693,0.693,0.693,0.693,0.693,0.693,0.693,0.693,0.693,0.659,0.659,0.597,0.597,0.597,0.597,0.597,0.597,0.693,0.679,0.679,0.679,0.679,0.718,0.718,0.718,0.614,0.614,0.584,0.679,0.584,0.679,0.679,0.679,0.584,0.584,0.584,0.713,0.713,0.74,0.74,0.74,0.74,0.74,0.74,0.74,0.74,0.74,0.74,0.74,0.74,0.74,0.713,0.713,0.713,0.713,0.713,0.713,0.713,0.713,0.713,0.713,0.713,0.713,0.713,0.713,0.713,0.713,0.655,0.655,0.655,0.584,0.58,0.58,0.58,0.532,0.58,0.614,0.584,0.584,0.614,0.614,0.614,0.614,0.532,0.532,0.532,0.532,0.583,0.583,0.583,0.583,0.609,0.609,0.609,0.609,0.609,0.585,0.585,0.585,0.585,0.585,0.585,0.585,0.585,0.573,0.573,0.573,0.573,0.573],\"x0\":\" \",\"xaxis\":\"x\",\"y0\":\" \",\"yaxis\":\"y\",\"type\":\"box\"}],                        {\"template\":{\"data\":{\"histogram2dcontour\":[{\"type\":\"histogram2dcontour\",\"colorbar\":{\"outlinewidth\":0,\"ticks\":\"\"},\"colorscale\":[[0.0,\"#0d0887\"],[0.1111111111111111,\"#46039f\"],[0.2222222222222222,\"#7201a8\"],[0.3333333333333333,\"#9c179e\"],[0.4444444444444444,\"#bd3786\"],[0.5555555555555556,\"#d8576b\"],[0.6666666666666666,\"#ed7953\"],[0.7777777777777778,\"#fb9f3a\"],[0.8888888888888888,\"#fdca26\"],[1.0,\"#f0f921\"]]}],\"choropleth\":[{\"type\":\"choropleth\",\"colorbar\":{\"outlinewidth\":0,\"ticks\":\"\"}}],\"histogram2d\":[{\"type\":\"histogram2d\",\"colorbar\":{\"outlinewidth\":0,\"ticks\":\"\"},\"colorscale\":[[0.0,\"#0d0887\"],[0.1111111111111111,\"#46039f\"],[0.2222222222222222,\"#7201a8\"],[0.3333333333333333,\"#9c179e\"],[0.4444444444444444,\"#bd3786\"],[0.5555555555555556,\"#d8576b\"],[0.6666666666666666,\"#ed7953\"],[0.7777777777777778,\"#fb9f3a\"],[0.8888888888888888,\"#fdca26\"],[1.0,\"#f0f921\"]]}],\"heatmap\":[{\"type\":\"heatmap\",\"colorbar\":{\"outlinewidth\":0,\"ticks\":\"\"},\"colorscale\":[[0.0,\"#0d0887\"],[0.1111111111111111,\"#46039f\"],[0.2222222222222222,\"#7201a8\"],[0.3333333333333333,\"#9c179e\"],[0.4444444444444444,\"#bd3786\"],[0.5555555555555556,\"#d8576b\"],[0.6666666666666666,\"#ed7953\"],[0.7777777777777778,\"#fb9f3a\"],[0.8888888888888888,\"#fdca26\"],[1.0,\"#f0f921\"]]}],\"heatmapgl\":[{\"type\":\"heatmapgl\",\"colorbar\":{\"outlinewidth\":0,\"ticks\":\"\"},\"colorscale\":[[0.0,\"#0d0887\"],[0.1111111111111111,\"#46039f\"],[0.2222222222222222,\"#7201a8\"],[0.3333333333333333,\"#9c179e\"],[0.4444444444444444,\"#bd3786\"],[0.5555555555555556,\"#d8576b\"],[0.6666666666666666,\"#ed7953\"],[0.7777777777777778,\"#fb9f3a\"],[0.8888888888888888,\"#fdca26\"],[1.0,\"#f0f921\"]]}],\"contourcarpet\":[{\"type\":\"contourcarpet\",\"colorbar\":{\"outlinewidth\":0,\"ticks\":\"\"}}],\"contour\":[{\"type\":\"contour\",\"colorbar\":{\"outlinewidth\":0,\"ticks\":\"\"},\"colorscale\":[[0.0,\"#0d0887\"],[0.1111111111111111,\"#46039f\"],[0.2222222222222222,\"#7201a8\"],[0.3333333333333333,\"#9c179e\"],[0.4444444444444444,\"#bd3786\"],[0.5555555555555556,\"#d8576b\"],[0.6666666666666666,\"#ed7953\"],[0.7777777777777778,\"#fb9f3a\"],[0.8888888888888888,\"#fdca26\"],[1.0,\"#f0f921\"]]}],\"surface\":[{\"type\":\"surface\",\"colorbar\":{\"outlinewidth\":0,\"ticks\":\"\"},\"colorscale\":[[0.0,\"#0d0887\"],[0.1111111111111111,\"#46039f\"],[0.2222222222222222,\"#7201a8\"],[0.3333333333333333,\"#9c179e\"],[0.4444444444444444,\"#bd3786\"],[0.5555555555555556,\"#d8576b\"],[0.6666666666666666,\"#ed7953\"],[0.7777777777777778,\"#fb9f3a\"],[0.8888888888888888,\"#fdca26\"],[1.0,\"#f0f921\"]]}],\"mesh3d\":[{\"type\":\"mesh3d\",\"colorbar\":{\"outlinewidth\":0,\"ticks\":\"\"}}],\"scatter\":[{\"fillpattern\":{\"fillmode\":\"overlay\",\"size\":10,\"solidity\":0.2},\"type\":\"scatter\"}],\"parcoords\":[{\"type\":\"parcoords\",\"line\":{\"colorbar\":{\"outlinewidth\":0,\"ticks\":\"\"}}}],\"scatterpolargl\":[{\"type\":\"scatterpolargl\",\"marker\":{\"colorbar\":{\"outlinewidth\":0,\"ticks\":\"\"}}}],\"bar\":[{\"error_x\":{\"color\":\"#2a3f5f\"},\"error_y\":{\"color\":\"#2a3f5f\"},\"marker\":{\"line\":{\"color\":\"#E5ECF6\",\"width\":0.5},\"pattern\":{\"fillmode\":\"overlay\",\"size\":10,\"solidity\":0.2}},\"type\":\"bar\"}],\"scattergeo\":[{\"type\":\"scattergeo\",\"marker\":{\"colorbar\":{\"outlinewidth\":0,\"ticks\":\"\"}}}],\"scatterpolar\":[{\"type\":\"scatterpolar\",\"marker\":{\"colorbar\":{\"outlinewidth\":0,\"ticks\":\"\"}}}],\"histogram\":[{\"marker\":{\"pattern\":{\"fillmode\":\"overlay\",\"size\":10,\"solidity\":0.2}},\"type\":\"histogram\"}],\"scattergl\":[{\"type\":\"scattergl\",\"marker\":{\"colorbar\":{\"outlinewidth\":0,\"ticks\":\"\"}}}],\"scatter3d\":[{\"type\":\"scatter3d\",\"line\":{\"colorbar\":{\"outlinewidth\":0,\"ticks\":\"\"}},\"marker\":{\"colorbar\":{\"outlinewidth\":0,\"ticks\":\"\"}}}],\"scattermapbox\":[{\"type\":\"scattermapbox\",\"marker\":{\"colorbar\":{\"outlinewidth\":0,\"ticks\":\"\"}}}],\"scatterternary\":[{\"type\":\"scatterternary\",\"marker\":{\"colorbar\":{\"outlinewidth\":0,\"ticks\":\"\"}}}],\"scattercarpet\":[{\"type\":\"scattercarpet\",\"marker\":{\"colorbar\":{\"outlinewidth\":0,\"ticks\":\"\"}}}],\"carpet\":[{\"aaxis\":{\"endlinecolor\":\"#2a3f5f\",\"gridcolor\":\"white\",\"linecolor\":\"white\",\"minorgridcolor\":\"white\",\"startlinecolor\":\"#2a3f5f\"},\"baxis\":{\"endlinecolor\":\"#2a3f5f\",\"gridcolor\":\"white\",\"linecolor\":\"white\",\"minorgridcolor\":\"white\",\"startlinecolor\":\"#2a3f5f\"},\"type\":\"carpet\"}],\"table\":[{\"cells\":{\"fill\":{\"color\":\"#EBF0F8\"},\"line\":{\"color\":\"white\"}},\"header\":{\"fill\":{\"color\":\"#C8D4E3\"},\"line\":{\"color\":\"white\"}},\"type\":\"table\"}],\"barpolar\":[{\"marker\":{\"line\":{\"color\":\"#E5ECF6\",\"width\":0.5},\"pattern\":{\"fillmode\":\"overlay\",\"size\":10,\"solidity\":0.2}},\"type\":\"barpolar\"}],\"pie\":[{\"automargin\":true,\"type\":\"pie\"}]},\"layout\":{\"autotypenumbers\":\"strict\",\"colorway\":[\"#636efa\",\"#EF553B\",\"#00cc96\",\"#ab63fa\",\"#FFA15A\",\"#19d3f3\",\"#FF6692\",\"#B6E880\",\"#FF97FF\",\"#FECB52\"],\"font\":{\"color\":\"#2a3f5f\"},\"hovermode\":\"closest\",\"hoverlabel\":{\"align\":\"left\"},\"paper_bgcolor\":\"white\",\"plot_bgcolor\":\"#E5ECF6\",\"polar\":{\"bgcolor\":\"#E5ECF6\",\"angularaxis\":{\"gridcolor\":\"white\",\"linecolor\":\"white\",\"ticks\":\"\"},\"radialaxis\":{\"gridcolor\":\"white\",\"linecolor\":\"white\",\"ticks\":\"\"}},\"ternary\":{\"bgcolor\":\"#E5ECF6\",\"aaxis\":{\"gridcolor\":\"white\",\"linecolor\":\"white\",\"ticks\":\"\"},\"baxis\":{\"gridcolor\":\"white\",\"linecolor\":\"white\",\"ticks\":\"\"},\"caxis\":{\"gridcolor\":\"white\",\"linecolor\":\"white\",\"ticks\":\"\"}},\"coloraxis\":{\"colorbar\":{\"outlinewidth\":0,\"ticks\":\"\"}},\"colorscale\":{\"sequential\":[[0.0,\"#0d0887\"],[0.1111111111111111,\"#46039f\"],[0.2222222222222222,\"#7201a8\"],[0.3333333333333333,\"#9c179e\"],[0.4444444444444444,\"#bd3786\"],[0.5555555555555556,\"#d8576b\"],[0.6666666666666666,\"#ed7953\"],[0.7777777777777778,\"#fb9f3a\"],[0.8888888888888888,\"#fdca26\"],[1.0,\"#f0f921\"]],\"sequentialminus\":[[0.0,\"#0d0887\"],[0.1111111111111111,\"#46039f\"],[0.2222222222222222,\"#7201a8\"],[0.3333333333333333,\"#9c179e\"],[0.4444444444444444,\"#bd3786\"],[0.5555555555555556,\"#d8576b\"],[0.6666666666666666,\"#ed7953\"],[0.7777777777777778,\"#fb9f3a\"],[0.8888888888888888,\"#fdca26\"],[1.0,\"#f0f921\"]],\"diverging\":[[0,\"#8e0152\"],[0.1,\"#c51b7d\"],[0.2,\"#de77ae\"],[0.3,\"#f1b6da\"],[0.4,\"#fde0ef\"],[0.5,\"#f7f7f7\"],[0.6,\"#e6f5d0\"],[0.7,\"#b8e186\"],[0.8,\"#7fbc41\"],[0.9,\"#4d9221\"],[1,\"#276419\"]]},\"xaxis\":{\"gridcolor\":\"white\",\"linecolor\":\"white\",\"ticks\":\"\",\"title\":{\"standoff\":15},\"zerolinecolor\":\"white\",\"automargin\":true,\"zerolinewidth\":2},\"yaxis\":{\"gridcolor\":\"white\",\"linecolor\":\"white\",\"ticks\":\"\",\"title\":{\"standoff\":15},\"zerolinecolor\":\"white\",\"automargin\":true,\"zerolinewidth\":2},\"scene\":{\"xaxis\":{\"backgroundcolor\":\"#E5ECF6\",\"gridcolor\":\"white\",\"linecolor\":\"white\",\"showbackground\":true,\"ticks\":\"\",\"zerolinecolor\":\"white\",\"gridwidth\":2},\"yaxis\":{\"backgroundcolor\":\"#E5ECF6\",\"gridcolor\":\"white\",\"linecolor\":\"white\",\"showbackground\":true,\"ticks\":\"\",\"zerolinecolor\":\"white\",\"gridwidth\":2},\"zaxis\":{\"backgroundcolor\":\"#E5ECF6\",\"gridcolor\":\"white\",\"linecolor\":\"white\",\"showbackground\":true,\"ticks\":\"\",\"zerolinecolor\":\"white\",\"gridwidth\":2}},\"shapedefaults\":{\"line\":{\"color\":\"#2a3f5f\"}},\"annotationdefaults\":{\"arrowcolor\":\"#2a3f5f\",\"arrowhead\":0,\"arrowwidth\":1},\"geo\":{\"bgcolor\":\"white\",\"landcolor\":\"#E5ECF6\",\"subunitcolor\":\"white\",\"showland\":true,\"showlakes\":true,\"lakecolor\":\"white\"},\"title\":{\"x\":0.05},\"mapbox\":{\"style\":\"light\"}}},\"xaxis\":{\"anchor\":\"y\",\"domain\":[0.0,1.0],\"title\":{\"text\":\"nox\"}},\"yaxis\":{\"anchor\":\"x\",\"domain\":[0.0,1.0]},\"legend\":{\"tracegroupgap\":0},\"margin\":{\"t\":60},\"boxmode\":\"group\",\"height\":400,\"width\":800},                        {\"responsive\": true}                    ).then(function(){\n",
              "                            \n",
              "var gd = document.getElementById('f9388d2a-6c7a-4280-9413-c7269ff6615a');\n",
              "var x = new MutationObserver(function (mutations, observer) {{\n",
              "        var display = window.getComputedStyle(gd).display;\n",
              "        if (!display || display === 'none') {{\n",
              "            console.log([gd, 'removed!']);\n",
              "            Plotly.purge(gd);\n",
              "            observer.disconnect();\n",
              "        }}\n",
              "}});\n",
              "\n",
              "// Listen for the removal of the full notebook cells\n",
              "var notebookContainer = gd.closest('#notebook-container');\n",
              "if (notebookContainer) {{\n",
              "    x.observe(notebookContainer, {childList: true});\n",
              "}}\n",
              "\n",
              "// Listen for the clearing of the current output cell\n",
              "var outputEl = gd.closest('.output');\n",
              "if (outputEl) {{\n",
              "    x.observe(outputEl, {childList: true});\n",
              "}}\n",
              "\n",
              "                        })                };                            </script>        </div>\n",
              "</body>\n",
              "</html>"
            ]
          },
          "metadata": {}
        }
      ]
    },
    {
      "cell_type": "code",
      "source": [
        "px.box(boston, x=\"rm\", width=800, height=400)"
      ],
      "metadata": {
        "colab": {
          "base_uri": "https://localhost:8080/",
          "height": 417
        },
        "id": "Ui1Ez4Ts7UPg",
        "outputId": "b1c3806e-094d-4179-de08-c9f64eaaa1ec"
      },
      "execution_count": 21,
      "outputs": [
        {
          "output_type": "display_data",
          "data": {
            "text/html": [
              "<html>\n",
              "<head><meta charset=\"utf-8\" /></head>\n",
              "<body>\n",
              "    <div>            <script src=\"https://cdnjs.cloudflare.com/ajax/libs/mathjax/2.7.5/MathJax.js?config=TeX-AMS-MML_SVG\"></script><script type=\"text/javascript\">if (window.MathJax && window.MathJax.Hub && window.MathJax.Hub.Config) {window.MathJax.Hub.Config({SVG: {font: \"STIX-Web\"}});}</script>                <script type=\"text/javascript\">window.PlotlyConfig = {MathJaxConfig: 'local'};</script>\n",
              "        <script src=\"https://cdn.plot.ly/plotly-2.18.2.min.js\"></script>                <div id=\"ebc08e97-895a-4296-aa15-e6c940729add\" class=\"plotly-graph-div\" style=\"height:400px; width:800px;\"></div>            <script type=\"text/javascript\">                                    window.PLOTLYENV=window.PLOTLYENV || {};                                    if (document.getElementById(\"ebc08e97-895a-4296-aa15-e6c940729add\")) {                    Plotly.newPlot(                        \"ebc08e97-895a-4296-aa15-e6c940729add\",                        [{\"alignmentgroup\":\"True\",\"hovertemplate\":\"rm=%{x}<extra></extra>\",\"legendgroup\":\"\",\"marker\":{\"color\":\"#636efa\"},\"name\":\"\",\"notched\":false,\"offsetgroup\":\"\",\"orientation\":\"h\",\"showlegend\":false,\"x\":[6.575,6.421,7.185,6.998,7.147,6.43,6.012,6.172,5.631,6.004,6.377,6.009,5.889,5.949,6.096,5.834,5.935,5.99,5.456,5.727,5.57,5.965,6.142,5.813,5.924,5.599,5.813,6.047,6.495,6.674,5.713,6.072,5.95,5.701,6.096,5.933,5.841,5.85,5.966,6.595,7.024,6.77,6.169,6.211,6.069,5.682,5.786,6.03,5.399,5.602,5.963,6.115,6.511,5.998,5.888,7.249,6.383,6.816,6.145,5.927,5.741,5.966,6.456,6.762,7.104,6.29,5.787,5.878,5.594,5.885,6.417,5.961,6.065,6.245,6.273,6.286,6.279,6.14,6.232,5.874,6.727,6.619,6.302,6.167,6.389,6.63,6.015,6.121,7.007,7.079,6.417,6.405,6.442,6.211,6.249,6.625,6.163,8.069,7.82,7.416,6.727,6.781,6.405,6.137,6.167,5.851,5.836,6.127,6.474,6.229,6.195,6.715,5.913,6.092,6.254,5.928,6.176,6.021,5.872,5.731,5.87,6.004,5.961,5.856,5.879,5.986,5.613,5.693,6.431,5.637,6.458,6.326,6.372,5.822,5.757,6.335,5.942,6.454,5.857,6.151,6.174,5.019,5.403,5.468,4.903,6.13,5.628,4.926,5.186,5.597,6.122,5.404,5.012,5.709,6.129,6.152,5.272,6.943,6.066,6.51,6.25,7.489,7.802,8.375,5.854,6.101,7.929,5.877,6.319,6.402,5.875,5.88,5.572,6.416,5.859,6.546,6.02,6.315,6.86,6.98,7.765,6.144,7.155,6.563,5.604,6.153,7.831,6.782,6.556,7.185,6.951,6.739,7.178,6.8,6.604,7.875,7.287,7.107,7.274,6.975,7.135,6.162,7.61,7.853,8.034,5.891,6.326,5.783,6.064,5.344,5.96,5.404,5.807,6.375,5.412,6.182,5.888,6.642,5.951,6.373,6.951,6.164,6.879,6.618,8.266,8.725,8.04,7.163,7.686,6.552,5.981,7.412,8.337,8.247,6.726,6.086,6.631,7.358,6.481,6.606,6.897,6.095,6.358,6.393,5.593,5.605,6.108,6.226,6.433,6.718,6.487,6.438,6.957,8.259,6.108,5.876,7.454,8.704,7.333,6.842,7.203,7.52,8.398,7.327,7.206,5.56,7.014,8.297,7.47,5.92,5.856,6.24,6.538,7.691,6.758,6.854,7.267,6.826,6.482,6.812,7.82,6.968,7.645,7.923,7.088,6.453,6.23,6.209,6.315,6.565,6.861,7.148,6.63,6.127,6.009,6.678,6.549,5.79,6.345,7.041,6.871,6.59,6.495,6.982,7.236,6.616,7.42,6.849,6.635,5.972,4.973,6.122,6.023,6.266,6.567,5.705,5.914,5.782,6.382,6.113,6.426,6.376,6.041,5.708,6.415,6.431,6.312,6.083,5.868,6.333,6.144,5.706,6.031,6.316,6.31,6.037,5.869,5.895,6.059,5.985,5.968,7.241,6.54,6.696,6.874,6.014,5.898,6.516,6.635,6.939,6.49,6.579,5.884,6.728,5.663,5.936,6.212,6.395,6.127,6.112,6.398,6.251,5.362,5.803,8.78,3.561,4.963,3.863,4.97,6.683,7.016,6.216,5.875,4.906,4.138,7.313,6.649,6.794,6.38,6.223,6.968,6.545,5.536,5.52,4.368,5.277,4.652,5.0,4.88,5.39,5.713,6.051,5.036,6.193,5.887,6.471,6.405,5.747,5.453,5.852,5.987,6.343,6.404,5.349,5.531,5.683,4.138,5.608,5.617,6.852,5.757,6.657,4.628,5.155,4.519,6.434,6.782,5.304,5.957,6.824,6.411,6.006,5.648,6.103,5.565,5.896,5.837,6.202,6.193,6.38,6.348,6.833,6.425,6.436,6.208,6.629,6.461,6.152,5.935,5.627,5.818,6.406,6.219,6.485,5.854,6.459,6.341,6.251,6.185,6.417,6.749,6.655,6.297,7.393,6.728,6.525,5.976,5.936,6.301,6.081,6.701,6.376,6.317,6.513,6.209,5.759,5.952,6.003,5.926,5.713,6.167,6.229,6.437,6.98,5.427,6.162,6.484,5.304,6.185,6.229,6.242,6.75,7.061,5.762,5.871,6.312,6.114,5.905,5.454,5.414,5.093,5.983,5.983,5.707,5.926,5.67,5.39,5.794,6.019,5.569,6.027,6.593,6.12,6.976,6.794,6.03],\"x0\":\" \",\"xaxis\":\"x\",\"y0\":\" \",\"yaxis\":\"y\",\"type\":\"box\"}],                        {\"template\":{\"data\":{\"histogram2dcontour\":[{\"type\":\"histogram2dcontour\",\"colorbar\":{\"outlinewidth\":0,\"ticks\":\"\"},\"colorscale\":[[0.0,\"#0d0887\"],[0.1111111111111111,\"#46039f\"],[0.2222222222222222,\"#7201a8\"],[0.3333333333333333,\"#9c179e\"],[0.4444444444444444,\"#bd3786\"],[0.5555555555555556,\"#d8576b\"],[0.6666666666666666,\"#ed7953\"],[0.7777777777777778,\"#fb9f3a\"],[0.8888888888888888,\"#fdca26\"],[1.0,\"#f0f921\"]]}],\"choropleth\":[{\"type\":\"choropleth\",\"colorbar\":{\"outlinewidth\":0,\"ticks\":\"\"}}],\"histogram2d\":[{\"type\":\"histogram2d\",\"colorbar\":{\"outlinewidth\":0,\"ticks\":\"\"},\"colorscale\":[[0.0,\"#0d0887\"],[0.1111111111111111,\"#46039f\"],[0.2222222222222222,\"#7201a8\"],[0.3333333333333333,\"#9c179e\"],[0.4444444444444444,\"#bd3786\"],[0.5555555555555556,\"#d8576b\"],[0.6666666666666666,\"#ed7953\"],[0.7777777777777778,\"#fb9f3a\"],[0.8888888888888888,\"#fdca26\"],[1.0,\"#f0f921\"]]}],\"heatmap\":[{\"type\":\"heatmap\",\"colorbar\":{\"outlinewidth\":0,\"ticks\":\"\"},\"colorscale\":[[0.0,\"#0d0887\"],[0.1111111111111111,\"#46039f\"],[0.2222222222222222,\"#7201a8\"],[0.3333333333333333,\"#9c179e\"],[0.4444444444444444,\"#bd3786\"],[0.5555555555555556,\"#d8576b\"],[0.6666666666666666,\"#ed7953\"],[0.7777777777777778,\"#fb9f3a\"],[0.8888888888888888,\"#fdca26\"],[1.0,\"#f0f921\"]]}],\"heatmapgl\":[{\"type\":\"heatmapgl\",\"colorbar\":{\"outlinewidth\":0,\"ticks\":\"\"},\"colorscale\":[[0.0,\"#0d0887\"],[0.1111111111111111,\"#46039f\"],[0.2222222222222222,\"#7201a8\"],[0.3333333333333333,\"#9c179e\"],[0.4444444444444444,\"#bd3786\"],[0.5555555555555556,\"#d8576b\"],[0.6666666666666666,\"#ed7953\"],[0.7777777777777778,\"#fb9f3a\"],[0.8888888888888888,\"#fdca26\"],[1.0,\"#f0f921\"]]}],\"contourcarpet\":[{\"type\":\"contourcarpet\",\"colorbar\":{\"outlinewidth\":0,\"ticks\":\"\"}}],\"contour\":[{\"type\":\"contour\",\"colorbar\":{\"outlinewidth\":0,\"ticks\":\"\"},\"colorscale\":[[0.0,\"#0d0887\"],[0.1111111111111111,\"#46039f\"],[0.2222222222222222,\"#7201a8\"],[0.3333333333333333,\"#9c179e\"],[0.4444444444444444,\"#bd3786\"],[0.5555555555555556,\"#d8576b\"],[0.6666666666666666,\"#ed7953\"],[0.7777777777777778,\"#fb9f3a\"],[0.8888888888888888,\"#fdca26\"],[1.0,\"#f0f921\"]]}],\"surface\":[{\"type\":\"surface\",\"colorbar\":{\"outlinewidth\":0,\"ticks\":\"\"},\"colorscale\":[[0.0,\"#0d0887\"],[0.1111111111111111,\"#46039f\"],[0.2222222222222222,\"#7201a8\"],[0.3333333333333333,\"#9c179e\"],[0.4444444444444444,\"#bd3786\"],[0.5555555555555556,\"#d8576b\"],[0.6666666666666666,\"#ed7953\"],[0.7777777777777778,\"#fb9f3a\"],[0.8888888888888888,\"#fdca26\"],[1.0,\"#f0f921\"]]}],\"mesh3d\":[{\"type\":\"mesh3d\",\"colorbar\":{\"outlinewidth\":0,\"ticks\":\"\"}}],\"scatter\":[{\"fillpattern\":{\"fillmode\":\"overlay\",\"size\":10,\"solidity\":0.2},\"type\":\"scatter\"}],\"parcoords\":[{\"type\":\"parcoords\",\"line\":{\"colorbar\":{\"outlinewidth\":0,\"ticks\":\"\"}}}],\"scatterpolargl\":[{\"type\":\"scatterpolargl\",\"marker\":{\"colorbar\":{\"outlinewidth\":0,\"ticks\":\"\"}}}],\"bar\":[{\"error_x\":{\"color\":\"#2a3f5f\"},\"error_y\":{\"color\":\"#2a3f5f\"},\"marker\":{\"line\":{\"color\":\"#E5ECF6\",\"width\":0.5},\"pattern\":{\"fillmode\":\"overlay\",\"size\":10,\"solidity\":0.2}},\"type\":\"bar\"}],\"scattergeo\":[{\"type\":\"scattergeo\",\"marker\":{\"colorbar\":{\"outlinewidth\":0,\"ticks\":\"\"}}}],\"scatterpolar\":[{\"type\":\"scatterpolar\",\"marker\":{\"colorbar\":{\"outlinewidth\":0,\"ticks\":\"\"}}}],\"histogram\":[{\"marker\":{\"pattern\":{\"fillmode\":\"overlay\",\"size\":10,\"solidity\":0.2}},\"type\":\"histogram\"}],\"scattergl\":[{\"type\":\"scattergl\",\"marker\":{\"colorbar\":{\"outlinewidth\":0,\"ticks\":\"\"}}}],\"scatter3d\":[{\"type\":\"scatter3d\",\"line\":{\"colorbar\":{\"outlinewidth\":0,\"ticks\":\"\"}},\"marker\":{\"colorbar\":{\"outlinewidth\":0,\"ticks\":\"\"}}}],\"scattermapbox\":[{\"type\":\"scattermapbox\",\"marker\":{\"colorbar\":{\"outlinewidth\":0,\"ticks\":\"\"}}}],\"scatterternary\":[{\"type\":\"scatterternary\",\"marker\":{\"colorbar\":{\"outlinewidth\":0,\"ticks\":\"\"}}}],\"scattercarpet\":[{\"type\":\"scattercarpet\",\"marker\":{\"colorbar\":{\"outlinewidth\":0,\"ticks\":\"\"}}}],\"carpet\":[{\"aaxis\":{\"endlinecolor\":\"#2a3f5f\",\"gridcolor\":\"white\",\"linecolor\":\"white\",\"minorgridcolor\":\"white\",\"startlinecolor\":\"#2a3f5f\"},\"baxis\":{\"endlinecolor\":\"#2a3f5f\",\"gridcolor\":\"white\",\"linecolor\":\"white\",\"minorgridcolor\":\"white\",\"startlinecolor\":\"#2a3f5f\"},\"type\":\"carpet\"}],\"table\":[{\"cells\":{\"fill\":{\"color\":\"#EBF0F8\"},\"line\":{\"color\":\"white\"}},\"header\":{\"fill\":{\"color\":\"#C8D4E3\"},\"line\":{\"color\":\"white\"}},\"type\":\"table\"}],\"barpolar\":[{\"marker\":{\"line\":{\"color\":\"#E5ECF6\",\"width\":0.5},\"pattern\":{\"fillmode\":\"overlay\",\"size\":10,\"solidity\":0.2}},\"type\":\"barpolar\"}],\"pie\":[{\"automargin\":true,\"type\":\"pie\"}]},\"layout\":{\"autotypenumbers\":\"strict\",\"colorway\":[\"#636efa\",\"#EF553B\",\"#00cc96\",\"#ab63fa\",\"#FFA15A\",\"#19d3f3\",\"#FF6692\",\"#B6E880\",\"#FF97FF\",\"#FECB52\"],\"font\":{\"color\":\"#2a3f5f\"},\"hovermode\":\"closest\",\"hoverlabel\":{\"align\":\"left\"},\"paper_bgcolor\":\"white\",\"plot_bgcolor\":\"#E5ECF6\",\"polar\":{\"bgcolor\":\"#E5ECF6\",\"angularaxis\":{\"gridcolor\":\"white\",\"linecolor\":\"white\",\"ticks\":\"\"},\"radialaxis\":{\"gridcolor\":\"white\",\"linecolor\":\"white\",\"ticks\":\"\"}},\"ternary\":{\"bgcolor\":\"#E5ECF6\",\"aaxis\":{\"gridcolor\":\"white\",\"linecolor\":\"white\",\"ticks\":\"\"},\"baxis\":{\"gridcolor\":\"white\",\"linecolor\":\"white\",\"ticks\":\"\"},\"caxis\":{\"gridcolor\":\"white\",\"linecolor\":\"white\",\"ticks\":\"\"}},\"coloraxis\":{\"colorbar\":{\"outlinewidth\":0,\"ticks\":\"\"}},\"colorscale\":{\"sequential\":[[0.0,\"#0d0887\"],[0.1111111111111111,\"#46039f\"],[0.2222222222222222,\"#7201a8\"],[0.3333333333333333,\"#9c179e\"],[0.4444444444444444,\"#bd3786\"],[0.5555555555555556,\"#d8576b\"],[0.6666666666666666,\"#ed7953\"],[0.7777777777777778,\"#fb9f3a\"],[0.8888888888888888,\"#fdca26\"],[1.0,\"#f0f921\"]],\"sequentialminus\":[[0.0,\"#0d0887\"],[0.1111111111111111,\"#46039f\"],[0.2222222222222222,\"#7201a8\"],[0.3333333333333333,\"#9c179e\"],[0.4444444444444444,\"#bd3786\"],[0.5555555555555556,\"#d8576b\"],[0.6666666666666666,\"#ed7953\"],[0.7777777777777778,\"#fb9f3a\"],[0.8888888888888888,\"#fdca26\"],[1.0,\"#f0f921\"]],\"diverging\":[[0,\"#8e0152\"],[0.1,\"#c51b7d\"],[0.2,\"#de77ae\"],[0.3,\"#f1b6da\"],[0.4,\"#fde0ef\"],[0.5,\"#f7f7f7\"],[0.6,\"#e6f5d0\"],[0.7,\"#b8e186\"],[0.8,\"#7fbc41\"],[0.9,\"#4d9221\"],[1,\"#276419\"]]},\"xaxis\":{\"gridcolor\":\"white\",\"linecolor\":\"white\",\"ticks\":\"\",\"title\":{\"standoff\":15},\"zerolinecolor\":\"white\",\"automargin\":true,\"zerolinewidth\":2},\"yaxis\":{\"gridcolor\":\"white\",\"linecolor\":\"white\",\"ticks\":\"\",\"title\":{\"standoff\":15},\"zerolinecolor\":\"white\",\"automargin\":true,\"zerolinewidth\":2},\"scene\":{\"xaxis\":{\"backgroundcolor\":\"#E5ECF6\",\"gridcolor\":\"white\",\"linecolor\":\"white\",\"showbackground\":true,\"ticks\":\"\",\"zerolinecolor\":\"white\",\"gridwidth\":2},\"yaxis\":{\"backgroundcolor\":\"#E5ECF6\",\"gridcolor\":\"white\",\"linecolor\":\"white\",\"showbackground\":true,\"ticks\":\"\",\"zerolinecolor\":\"white\",\"gridwidth\":2},\"zaxis\":{\"backgroundcolor\":\"#E5ECF6\",\"gridcolor\":\"white\",\"linecolor\":\"white\",\"showbackground\":true,\"ticks\":\"\",\"zerolinecolor\":\"white\",\"gridwidth\":2}},\"shapedefaults\":{\"line\":{\"color\":\"#2a3f5f\"}},\"annotationdefaults\":{\"arrowcolor\":\"#2a3f5f\",\"arrowhead\":0,\"arrowwidth\":1},\"geo\":{\"bgcolor\":\"white\",\"landcolor\":\"#E5ECF6\",\"subunitcolor\":\"white\",\"showland\":true,\"showlakes\":true,\"lakecolor\":\"white\"},\"title\":{\"x\":0.05},\"mapbox\":{\"style\":\"light\"}}},\"xaxis\":{\"anchor\":\"y\",\"domain\":[0.0,1.0],\"title\":{\"text\":\"rm\"}},\"yaxis\":{\"anchor\":\"x\",\"domain\":[0.0,1.0]},\"legend\":{\"tracegroupgap\":0},\"margin\":{\"t\":60},\"boxmode\":\"group\",\"height\":400,\"width\":800},                        {\"responsive\": true}                    ).then(function(){\n",
              "                            \n",
              "var gd = document.getElementById('ebc08e97-895a-4296-aa15-e6c940729add');\n",
              "var x = new MutationObserver(function (mutations, observer) {{\n",
              "        var display = window.getComputedStyle(gd).display;\n",
              "        if (!display || display === 'none') {{\n",
              "            console.log([gd, 'removed!']);\n",
              "            Plotly.purge(gd);\n",
              "            observer.disconnect();\n",
              "        }}\n",
              "}});\n",
              "\n",
              "// Listen for the removal of the full notebook cells\n",
              "var notebookContainer = gd.closest('#notebook-container');\n",
              "if (notebookContainer) {{\n",
              "    x.observe(notebookContainer, {childList: true});\n",
              "}}\n",
              "\n",
              "// Listen for the clearing of the current output cell\n",
              "var outputEl = gd.closest('.output');\n",
              "if (outputEl) {{\n",
              "    x.observe(outputEl, {childList: true});\n",
              "}}\n",
              "\n",
              "                        })                };                            </script>        </div>\n",
              "</body>\n",
              "</html>"
            ]
          },
          "metadata": {}
        }
      ]
    },
    {
      "cell_type": "code",
      "source": [
        "px.box(boston, x=\"age\", width=800, height=400)"
      ],
      "metadata": {
        "colab": {
          "base_uri": "https://localhost:8080/",
          "height": 417
        },
        "id": "acSNPed47asy",
        "outputId": "3e9f5c56-f7c4-4609-bb7b-9ef5ad5cf87c"
      },
      "execution_count": 22,
      "outputs": [
        {
          "output_type": "display_data",
          "data": {
            "text/html": [
              "<html>\n",
              "<head><meta charset=\"utf-8\" /></head>\n",
              "<body>\n",
              "    <div>            <script src=\"https://cdnjs.cloudflare.com/ajax/libs/mathjax/2.7.5/MathJax.js?config=TeX-AMS-MML_SVG\"></script><script type=\"text/javascript\">if (window.MathJax && window.MathJax.Hub && window.MathJax.Hub.Config) {window.MathJax.Hub.Config({SVG: {font: \"STIX-Web\"}});}</script>                <script type=\"text/javascript\">window.PlotlyConfig = {MathJaxConfig: 'local'};</script>\n",
              "        <script src=\"https://cdn.plot.ly/plotly-2.18.2.min.js\"></script>                <div id=\"0526e2aa-b1c7-4de8-9577-ebe9df0e31d8\" class=\"plotly-graph-div\" style=\"height:400px; width:800px;\"></div>            <script type=\"text/javascript\">                                    window.PLOTLYENV=window.PLOTLYENV || {};                                    if (document.getElementById(\"0526e2aa-b1c7-4de8-9577-ebe9df0e31d8\")) {                    Plotly.newPlot(                        \"0526e2aa-b1c7-4de8-9577-ebe9df0e31d8\",                        [{\"alignmentgroup\":\"True\",\"hovertemplate\":\"age=%{x}<extra></extra>\",\"legendgroup\":\"\",\"marker\":{\"color\":\"#636efa\"},\"name\":\"\",\"notched\":false,\"offsetgroup\":\"\",\"orientation\":\"h\",\"showlegend\":false,\"x\":[65.2,78.9,61.1,45.8,54.2,58.7,66.6,96.1,100.0,85.9,94.3,82.9,39.0,61.8,84.5,56.5,29.3,81.7,36.6,69.5,98.1,89.2,91.7,100.0,94.1,85.7,90.3,88.8,94.4,87.3,94.1,100.0,82.0,95.0,96.9,68.2,61.4,41.5,30.2,21.8,15.8,2.9,6.6,6.5,40.0,33.8,33.3,85.5,95.3,62.0,45.7,63.0,21.1,21.4,47.6,21.9,35.7,40.5,29.2,47.2,66.2,93.4,67.8,43.4,59.5,17.8,31.1,21.4,36.8,33.0,6.6,17.5,7.8,6.2,6.0,45.0,74.5,45.8,53.7,36.6,33.5,70.4,32.2,46.7,48.0,56.1,45.1,56.8,86.3,63.1,66.1,73.9,53.6,28.9,77.3,57.8,69.6,76.0,36.9,62.5,79.9,71.3,85.4,87.4,90.0,96.7,91.9,85.2,97.1,91.2,54.4,81.6,92.9,95.4,84.2,88.2,72.5,82.6,73.1,65.2,69.7,84.1,92.9,97.0,95.8,88.4,95.6,96.0,98.8,94.7,98.9,97.7,97.9,95.4,98.4,98.2,93.5,98.4,98.2,97.9,93.6,100.0,100.0,100.0,97.8,100.0,100.0,95.7,93.8,94.9,97.3,100.0,88.0,98.5,96.0,82.6,94.0,97.4,100.0,100.0,92.6,90.8,98.2,93.9,91.8,93.0,96.2,79.2,96.1,95.2,94.6,97.3,88.5,84.1,68.7,33.1,47.2,73.4,74.4,58.4,83.3,62.2,92.2,95.6,89.8,68.8,53.6,41.1,29.1,38.9,21.5,30.8,26.3,9.9,18.8,32.0,34.1,36.6,38.3,15.3,13.9,38.4,15.7,33.2,31.9,22.3,52.5,72.7,59.1,100.0,92.1,88.6,53.8,32.3,9.8,42.4,56.0,85.1,93.8,92.4,88.5,91.3,77.7,80.8,78.3,83.0,86.5,79.9,17.0,21.4,68.1,76.9,73.3,70.4,66.5,61.5,76.5,71.6,18.5,42.2,54.3,65.1,52.9,7.8,76.5,70.2,34.9,79.2,49.1,17.5,13.0,8.9,6.8,8.4,32.0,19.1,34.2,86.9,100.0,100.0,81.8,89.4,91.5,94.5,91.6,62.8,84.6,67.0,52.6,61.5,42.1,16.3,58.7,51.8,32.9,42.8,49.0,27.6,32.1,32.2,64.5,37.2,49.7,24.8,20.8,31.9,31.5,31.3,45.6,22.9,27.9,27.7,23.4,18.4,42.3,31.1,51.0,58.0,20.1,10.0,47.4,40.4,18.4,17.7,41.1,58.1,71.9,70.3,82.5,76.7,37.8,52.8,90.4,82.8,87.3,77.7,83.2,71.7,67.2,58.8,52.3,54.3,49.9,74.3,40.1,14.7,28.9,43.7,25.8,17.2,32.2,28.4,23.3,38.1,38.5,34.5,46.3,59.6,37.3,45.4,58.5,49.3,59.7,56.4,28.1,48.5,52.3,27.7,29.7,34.5,44.4,35.9,18.5,36.1,21.9,19.5,97.4,91.0,83.4,81.3,88.0,91.1,96.2,89.0,82.9,87.9,91.4,100.0,100.0,96.8,97.5,100.0,89.6,100.0,100.0,97.9,93.3,98.8,96.2,100.0,91.9,99.1,100.0,100.0,91.2,98.1,100.0,89.5,100.0,98.9,97.0,82.5,97.0,92.6,94.7,98.8,96.0,98.9,100.0,77.8,100.0,100.0,100.0,96.0,85.4,100.0,100.0,100.0,97.9,100.0,100.0,100.0,100.0,100.0,100.0,100.0,90.8,89.1,100.0,76.5,100.0,95.3,87.6,85.1,70.6,95.4,59.7,78.7,78.1,95.6,86.1,94.3,74.8,87.9,95.0,94.6,93.3,100.0,87.9,93.9,92.4,97.2,100.0,100.0,96.6,94.8,96.4,96.6,98.7,98.3,92.6,98.2,91.8,99.3,94.1,86.5,87.9,80.3,83.7,84.4,90.0,88.4,83.0,89.9,65.4,48.2,84.7,94.5,71.0,56.7,84.0,90.7,75.0,67.6,95.4,97.4,93.6,97.3,96.7,88.0,64.7,74.9,77.0,40.3,41.9,51.9,79.8,53.2,92.7,98.3,98.0,98.8,83.5,54.0,42.6,28.8,72.9,70.6,65.3,73.5,79.7,69.1,76.7,91.0,89.3,80.8],\"x0\":\" \",\"xaxis\":\"x\",\"y0\":\" \",\"yaxis\":\"y\",\"type\":\"box\"}],                        {\"template\":{\"data\":{\"histogram2dcontour\":[{\"type\":\"histogram2dcontour\",\"colorbar\":{\"outlinewidth\":0,\"ticks\":\"\"},\"colorscale\":[[0.0,\"#0d0887\"],[0.1111111111111111,\"#46039f\"],[0.2222222222222222,\"#7201a8\"],[0.3333333333333333,\"#9c179e\"],[0.4444444444444444,\"#bd3786\"],[0.5555555555555556,\"#d8576b\"],[0.6666666666666666,\"#ed7953\"],[0.7777777777777778,\"#fb9f3a\"],[0.8888888888888888,\"#fdca26\"],[1.0,\"#f0f921\"]]}],\"choropleth\":[{\"type\":\"choropleth\",\"colorbar\":{\"outlinewidth\":0,\"ticks\":\"\"}}],\"histogram2d\":[{\"type\":\"histogram2d\",\"colorbar\":{\"outlinewidth\":0,\"ticks\":\"\"},\"colorscale\":[[0.0,\"#0d0887\"],[0.1111111111111111,\"#46039f\"],[0.2222222222222222,\"#7201a8\"],[0.3333333333333333,\"#9c179e\"],[0.4444444444444444,\"#bd3786\"],[0.5555555555555556,\"#d8576b\"],[0.6666666666666666,\"#ed7953\"],[0.7777777777777778,\"#fb9f3a\"],[0.8888888888888888,\"#fdca26\"],[1.0,\"#f0f921\"]]}],\"heatmap\":[{\"type\":\"heatmap\",\"colorbar\":{\"outlinewidth\":0,\"ticks\":\"\"},\"colorscale\":[[0.0,\"#0d0887\"],[0.1111111111111111,\"#46039f\"],[0.2222222222222222,\"#7201a8\"],[0.3333333333333333,\"#9c179e\"],[0.4444444444444444,\"#bd3786\"],[0.5555555555555556,\"#d8576b\"],[0.6666666666666666,\"#ed7953\"],[0.7777777777777778,\"#fb9f3a\"],[0.8888888888888888,\"#fdca26\"],[1.0,\"#f0f921\"]]}],\"heatmapgl\":[{\"type\":\"heatmapgl\",\"colorbar\":{\"outlinewidth\":0,\"ticks\":\"\"},\"colorscale\":[[0.0,\"#0d0887\"],[0.1111111111111111,\"#46039f\"],[0.2222222222222222,\"#7201a8\"],[0.3333333333333333,\"#9c179e\"],[0.4444444444444444,\"#bd3786\"],[0.5555555555555556,\"#d8576b\"],[0.6666666666666666,\"#ed7953\"],[0.7777777777777778,\"#fb9f3a\"],[0.8888888888888888,\"#fdca26\"],[1.0,\"#f0f921\"]]}],\"contourcarpet\":[{\"type\":\"contourcarpet\",\"colorbar\":{\"outlinewidth\":0,\"ticks\":\"\"}}],\"contour\":[{\"type\":\"contour\",\"colorbar\":{\"outlinewidth\":0,\"ticks\":\"\"},\"colorscale\":[[0.0,\"#0d0887\"],[0.1111111111111111,\"#46039f\"],[0.2222222222222222,\"#7201a8\"],[0.3333333333333333,\"#9c179e\"],[0.4444444444444444,\"#bd3786\"],[0.5555555555555556,\"#d8576b\"],[0.6666666666666666,\"#ed7953\"],[0.7777777777777778,\"#fb9f3a\"],[0.8888888888888888,\"#fdca26\"],[1.0,\"#f0f921\"]]}],\"surface\":[{\"type\":\"surface\",\"colorbar\":{\"outlinewidth\":0,\"ticks\":\"\"},\"colorscale\":[[0.0,\"#0d0887\"],[0.1111111111111111,\"#46039f\"],[0.2222222222222222,\"#7201a8\"],[0.3333333333333333,\"#9c179e\"],[0.4444444444444444,\"#bd3786\"],[0.5555555555555556,\"#d8576b\"],[0.6666666666666666,\"#ed7953\"],[0.7777777777777778,\"#fb9f3a\"],[0.8888888888888888,\"#fdca26\"],[1.0,\"#f0f921\"]]}],\"mesh3d\":[{\"type\":\"mesh3d\",\"colorbar\":{\"outlinewidth\":0,\"ticks\":\"\"}}],\"scatter\":[{\"fillpattern\":{\"fillmode\":\"overlay\",\"size\":10,\"solidity\":0.2},\"type\":\"scatter\"}],\"parcoords\":[{\"type\":\"parcoords\",\"line\":{\"colorbar\":{\"outlinewidth\":0,\"ticks\":\"\"}}}],\"scatterpolargl\":[{\"type\":\"scatterpolargl\",\"marker\":{\"colorbar\":{\"outlinewidth\":0,\"ticks\":\"\"}}}],\"bar\":[{\"error_x\":{\"color\":\"#2a3f5f\"},\"error_y\":{\"color\":\"#2a3f5f\"},\"marker\":{\"line\":{\"color\":\"#E5ECF6\",\"width\":0.5},\"pattern\":{\"fillmode\":\"overlay\",\"size\":10,\"solidity\":0.2}},\"type\":\"bar\"}],\"scattergeo\":[{\"type\":\"scattergeo\",\"marker\":{\"colorbar\":{\"outlinewidth\":0,\"ticks\":\"\"}}}],\"scatterpolar\":[{\"type\":\"scatterpolar\",\"marker\":{\"colorbar\":{\"outlinewidth\":0,\"ticks\":\"\"}}}],\"histogram\":[{\"marker\":{\"pattern\":{\"fillmode\":\"overlay\",\"size\":10,\"solidity\":0.2}},\"type\":\"histogram\"}],\"scattergl\":[{\"type\":\"scattergl\",\"marker\":{\"colorbar\":{\"outlinewidth\":0,\"ticks\":\"\"}}}],\"scatter3d\":[{\"type\":\"scatter3d\",\"line\":{\"colorbar\":{\"outlinewidth\":0,\"ticks\":\"\"}},\"marker\":{\"colorbar\":{\"outlinewidth\":0,\"ticks\":\"\"}}}],\"scattermapbox\":[{\"type\":\"scattermapbox\",\"marker\":{\"colorbar\":{\"outlinewidth\":0,\"ticks\":\"\"}}}],\"scatterternary\":[{\"type\":\"scatterternary\",\"marker\":{\"colorbar\":{\"outlinewidth\":0,\"ticks\":\"\"}}}],\"scattercarpet\":[{\"type\":\"scattercarpet\",\"marker\":{\"colorbar\":{\"outlinewidth\":0,\"ticks\":\"\"}}}],\"carpet\":[{\"aaxis\":{\"endlinecolor\":\"#2a3f5f\",\"gridcolor\":\"white\",\"linecolor\":\"white\",\"minorgridcolor\":\"white\",\"startlinecolor\":\"#2a3f5f\"},\"baxis\":{\"endlinecolor\":\"#2a3f5f\",\"gridcolor\":\"white\",\"linecolor\":\"white\",\"minorgridcolor\":\"white\",\"startlinecolor\":\"#2a3f5f\"},\"type\":\"carpet\"}],\"table\":[{\"cells\":{\"fill\":{\"color\":\"#EBF0F8\"},\"line\":{\"color\":\"white\"}},\"header\":{\"fill\":{\"color\":\"#C8D4E3\"},\"line\":{\"color\":\"white\"}},\"type\":\"table\"}],\"barpolar\":[{\"marker\":{\"line\":{\"color\":\"#E5ECF6\",\"width\":0.5},\"pattern\":{\"fillmode\":\"overlay\",\"size\":10,\"solidity\":0.2}},\"type\":\"barpolar\"}],\"pie\":[{\"automargin\":true,\"type\":\"pie\"}]},\"layout\":{\"autotypenumbers\":\"strict\",\"colorway\":[\"#636efa\",\"#EF553B\",\"#00cc96\",\"#ab63fa\",\"#FFA15A\",\"#19d3f3\",\"#FF6692\",\"#B6E880\",\"#FF97FF\",\"#FECB52\"],\"font\":{\"color\":\"#2a3f5f\"},\"hovermode\":\"closest\",\"hoverlabel\":{\"align\":\"left\"},\"paper_bgcolor\":\"white\",\"plot_bgcolor\":\"#E5ECF6\",\"polar\":{\"bgcolor\":\"#E5ECF6\",\"angularaxis\":{\"gridcolor\":\"white\",\"linecolor\":\"white\",\"ticks\":\"\"},\"radialaxis\":{\"gridcolor\":\"white\",\"linecolor\":\"white\",\"ticks\":\"\"}},\"ternary\":{\"bgcolor\":\"#E5ECF6\",\"aaxis\":{\"gridcolor\":\"white\",\"linecolor\":\"white\",\"ticks\":\"\"},\"baxis\":{\"gridcolor\":\"white\",\"linecolor\":\"white\",\"ticks\":\"\"},\"caxis\":{\"gridcolor\":\"white\",\"linecolor\":\"white\",\"ticks\":\"\"}},\"coloraxis\":{\"colorbar\":{\"outlinewidth\":0,\"ticks\":\"\"}},\"colorscale\":{\"sequential\":[[0.0,\"#0d0887\"],[0.1111111111111111,\"#46039f\"],[0.2222222222222222,\"#7201a8\"],[0.3333333333333333,\"#9c179e\"],[0.4444444444444444,\"#bd3786\"],[0.5555555555555556,\"#d8576b\"],[0.6666666666666666,\"#ed7953\"],[0.7777777777777778,\"#fb9f3a\"],[0.8888888888888888,\"#fdca26\"],[1.0,\"#f0f921\"]],\"sequentialminus\":[[0.0,\"#0d0887\"],[0.1111111111111111,\"#46039f\"],[0.2222222222222222,\"#7201a8\"],[0.3333333333333333,\"#9c179e\"],[0.4444444444444444,\"#bd3786\"],[0.5555555555555556,\"#d8576b\"],[0.6666666666666666,\"#ed7953\"],[0.7777777777777778,\"#fb9f3a\"],[0.8888888888888888,\"#fdca26\"],[1.0,\"#f0f921\"]],\"diverging\":[[0,\"#8e0152\"],[0.1,\"#c51b7d\"],[0.2,\"#de77ae\"],[0.3,\"#f1b6da\"],[0.4,\"#fde0ef\"],[0.5,\"#f7f7f7\"],[0.6,\"#e6f5d0\"],[0.7,\"#b8e186\"],[0.8,\"#7fbc41\"],[0.9,\"#4d9221\"],[1,\"#276419\"]]},\"xaxis\":{\"gridcolor\":\"white\",\"linecolor\":\"white\",\"ticks\":\"\",\"title\":{\"standoff\":15},\"zerolinecolor\":\"white\",\"automargin\":true,\"zerolinewidth\":2},\"yaxis\":{\"gridcolor\":\"white\",\"linecolor\":\"white\",\"ticks\":\"\",\"title\":{\"standoff\":15},\"zerolinecolor\":\"white\",\"automargin\":true,\"zerolinewidth\":2},\"scene\":{\"xaxis\":{\"backgroundcolor\":\"#E5ECF6\",\"gridcolor\":\"white\",\"linecolor\":\"white\",\"showbackground\":true,\"ticks\":\"\",\"zerolinecolor\":\"white\",\"gridwidth\":2},\"yaxis\":{\"backgroundcolor\":\"#E5ECF6\",\"gridcolor\":\"white\",\"linecolor\":\"white\",\"showbackground\":true,\"ticks\":\"\",\"zerolinecolor\":\"white\",\"gridwidth\":2},\"zaxis\":{\"backgroundcolor\":\"#E5ECF6\",\"gridcolor\":\"white\",\"linecolor\":\"white\",\"showbackground\":true,\"ticks\":\"\",\"zerolinecolor\":\"white\",\"gridwidth\":2}},\"shapedefaults\":{\"line\":{\"color\":\"#2a3f5f\"}},\"annotationdefaults\":{\"arrowcolor\":\"#2a3f5f\",\"arrowhead\":0,\"arrowwidth\":1},\"geo\":{\"bgcolor\":\"white\",\"landcolor\":\"#E5ECF6\",\"subunitcolor\":\"white\",\"showland\":true,\"showlakes\":true,\"lakecolor\":\"white\"},\"title\":{\"x\":0.05},\"mapbox\":{\"style\":\"light\"}}},\"xaxis\":{\"anchor\":\"y\",\"domain\":[0.0,1.0],\"title\":{\"text\":\"age\"}},\"yaxis\":{\"anchor\":\"x\",\"domain\":[0.0,1.0]},\"legend\":{\"tracegroupgap\":0},\"margin\":{\"t\":60},\"boxmode\":\"group\",\"height\":400,\"width\":800},                        {\"responsive\": true}                    ).then(function(){\n",
              "                            \n",
              "var gd = document.getElementById('0526e2aa-b1c7-4de8-9577-ebe9df0e31d8');\n",
              "var x = new MutationObserver(function (mutations, observer) {{\n",
              "        var display = window.getComputedStyle(gd).display;\n",
              "        if (!display || display === 'none') {{\n",
              "            console.log([gd, 'removed!']);\n",
              "            Plotly.purge(gd);\n",
              "            observer.disconnect();\n",
              "        }}\n",
              "}});\n",
              "\n",
              "// Listen for the removal of the full notebook cells\n",
              "var notebookContainer = gd.closest('#notebook-container');\n",
              "if (notebookContainer) {{\n",
              "    x.observe(notebookContainer, {childList: true});\n",
              "}}\n",
              "\n",
              "// Listen for the clearing of the current output cell\n",
              "var outputEl = gd.closest('.output');\n",
              "if (outputEl) {{\n",
              "    x.observe(outputEl, {childList: true});\n",
              "}}\n",
              "\n",
              "                        })                };                            </script>        </div>\n",
              "</body>\n",
              "</html>"
            ]
          },
          "metadata": {}
        }
      ]
    },
    {
      "cell_type": "code",
      "source": [
        "px.box(boston, x=\"dis\", width=800, height=400)"
      ],
      "metadata": {
        "colab": {
          "base_uri": "https://localhost:8080/",
          "height": 417
        },
        "id": "NEVaQA5w7kGE",
        "outputId": "aba9cb1d-2602-45f2-ee39-8d56b62047f0"
      },
      "execution_count": 23,
      "outputs": [
        {
          "output_type": "display_data",
          "data": {
            "text/html": [
              "<html>\n",
              "<head><meta charset=\"utf-8\" /></head>\n",
              "<body>\n",
              "    <div>            <script src=\"https://cdnjs.cloudflare.com/ajax/libs/mathjax/2.7.5/MathJax.js?config=TeX-AMS-MML_SVG\"></script><script type=\"text/javascript\">if (window.MathJax && window.MathJax.Hub && window.MathJax.Hub.Config) {window.MathJax.Hub.Config({SVG: {font: \"STIX-Web\"}});}</script>                <script type=\"text/javascript\">window.PlotlyConfig = {MathJaxConfig: 'local'};</script>\n",
              "        <script src=\"https://cdn.plot.ly/plotly-2.18.2.min.js\"></script>                <div id=\"495f1634-2910-421d-a812-8c3c58f73e61\" class=\"plotly-graph-div\" style=\"height:400px; width:800px;\"></div>            <script type=\"text/javascript\">                                    window.PLOTLYENV=window.PLOTLYENV || {};                                    if (document.getElementById(\"495f1634-2910-421d-a812-8c3c58f73e61\")) {                    Plotly.newPlot(                        \"495f1634-2910-421d-a812-8c3c58f73e61\",                        [{\"alignmentgroup\":\"True\",\"hovertemplate\":\"dis=%{x}<extra></extra>\",\"legendgroup\":\"\",\"marker\":{\"color\":\"#636efa\"},\"name\":\"\",\"notched\":false,\"offsetgroup\":\"\",\"orientation\":\"h\",\"showlegend\":false,\"x\":[4.09,4.9671,4.9671,6.0622,6.0622,6.0622,5.5605,5.9505,6.0821,6.5921,6.3467,6.2267,5.4509,4.7075,4.4619,4.4986,4.4986,4.2579,3.7965,3.7965,3.7979,4.0123,3.9769,4.0952,4.3996,4.4546,4.682,4.4534,4.4547,4.239,4.233,4.175,3.99,3.7872,3.7598,3.3603,3.3779,3.9342,3.8473,5.4011,5.4011,5.7209,5.7209,5.7209,5.7209,5.1004,5.1004,5.6894,5.87,6.0877,6.8147,6.8147,6.8147,6.8147,7.3197,8.6966,9.1876,8.3248,7.8148,6.932,7.2254,6.8185,7.2255,7.9809,9.2229,6.6115,6.6115,6.498,6.498,6.498,5.2873,5.2873,5.2873,5.2873,4.2515,4.5026,4.0522,4.0905,5.0141,4.5026,5.4007,5.4007,5.4007,5.4007,4.7794,4.4377,4.4272,3.7476,3.4217,3.4145,3.0923,3.0921,3.6659,3.6659,3.615,3.4952,3.4952,3.4952,3.4952,3.4952,2.7778,2.8561,2.7147,2.7147,2.421,2.1069,2.211,2.1224,2.4329,2.5451,2.7778,2.6775,2.3534,2.548,2.2565,2.4631,2.7301,2.7474,2.4775,2.7592,2.2577,2.1974,2.0869,1.9444,2.0063,1.9929,1.7572,1.7883,1.8125,1.9799,2.1185,2.271,2.3274,2.4699,2.346,2.1107,1.9669,1.8498,1.6686,1.6687,1.6119,1.4394,1.3216,1.4118,1.3459,1.4191,1.5166,1.4608,1.5296,1.5257,1.618,1.5916,1.6102,1.6232,1.7494,1.7455,1.7364,1.8773,1.7573,1.7659,1.7984,1.9709,2.0407,2.162,2.422,2.2834,2.0459,2.4259,2.1,2.2625,2.4259,2.3887,2.5961,2.6463,2.7019,3.1323,3.5549,3.3175,2.9153,2.829,2.741,2.5979,2.7006,2.847,2.9879,3.2797,3.1992,3.7886,4.5667,4.5667,6.4798,6.4798,6.4798,6.2196,6.2196,5.6484,7.309,7.309,7.309,7.6534,7.6534,6.27,6.27,5.118,5.118,3.9454,4.3549,4.3549,4.2392,3.875,3.8771,3.665,3.6526,3.9454,3.5875,3.9454,3.1121,3.4211,2.8893,3.3633,2.8617,3.048,3.2721,3.2721,2.8944,2.8944,3.2157,3.2157,3.3751,3.3751,3.6715,3.6715,3.8384,3.6519,3.6519,3.6519,4.148,4.148,6.1899,6.1899,6.3361,6.3361,7.0355,7.0355,7.9549,7.9549,8.0555,8.0555,7.8265,7.8265,7.3967,7.3967,8.9067,8.9067,9.2203,9.2203,6.3361,1.801,1.8946,2.0107,2.1121,2.1398,2.2885,2.0788,1.9301,1.9865,2.1329,2.4216,2.872,3.9175,4.429,4.429,3.9175,4.3665,4.0776,4.2673,4.7872,4.8628,4.1403,4.1007,4.6947,5.2447,5.2119,5.885,7.3073,7.3073,9.0892,7.3172,7.3172,7.3172,5.1167,5.1167,5.1167,5.5027,5.5027,5.9604,5.9604,6.32,7.8278,7.8278,7.8278,5.4917,5.4917,5.4917,4.022,3.37,3.0992,3.1827,3.3175,3.1025,2.5194,2.6403,2.834,3.2628,3.6023,3.945,3.9986,4.0317,3.5325,4.0019,4.5404,4.5404,4.7211,4.7211,4.7211,5.4159,5.4159,5.4159,5.2146,5.2146,5.8736,6.6407,6.6407,6.4584,6.4584,5.9853,5.2311,5.615,4.8122,4.8122,4.8122,7.0379,6.2669,5.7321,6.4654,8.0136,8.0136,8.5353,8.344,8.7921,8.7921,10.7103,10.7103,12.1265,10.5857,10.5857,2.1222,2.5052,2.7227,2.5091,2.5182,2.2955,2.1036,1.9047,1.9047,1.6132,1.7523,1.5106,1.3325,1.3567,1.2024,1.1691,1.1296,1.1742,1.137,1.3163,1.3449,1.358,1.3861,1.3861,1.4165,1.5192,1.5804,1.5331,1.4395,1.4261,1.4672,1.5184,1.5895,1.7281,1.9265,2.1678,1.77,1.7912,1.7821,1.7257,1.6768,1.6334,1.4896,1.5004,1.5888,1.5741,1.639,1.7028,1.6074,1.4254,1.1781,1.2852,1.4547,1.4655,1.413,1.5275,1.5539,1.5894,1.6582,1.8347,1.8195,1.6475,1.8026,1.794,1.8589,1.8746,1.9512,2.0218,2.0635,1.9096,1.9976,1.8629,1.9356,1.9682,2.0527,2.0882,2.2004,2.3158,2.2222,2.1247,2.0026,1.9142,1.8206,1.8172,1.8662,2.0651,2.0048,1.9784,1.8956,1.9879,2.072,2.198,2.2616,2.185,2.3236,2.3552,2.3682,2.4527,2.4961,2.4358,2.5806,2.7792,2.7831,2.7175,2.5975,2.5671,2.7344,2.8016,2.9634,3.0665,2.8715,2.5403,2.9084,2.8237,3.0334,3.0993,2.8965,2.5329,2.4298,2.206,2.3053,2.1007,2.1705,1.9512,3.4242,3.3317,3.4106,4.0983,3.724,3.9917,3.5459,3.1523,1.8209,1.7554,1.8226,1.8681,2.1099,2.3817,2.3817,2.7986,2.7986,2.8927,2.4091,2.3999,2.4982,2.4786,2.2875,2.1675,2.3889,2.505],\"x0\":\" \",\"xaxis\":\"x\",\"y0\":\" \",\"yaxis\":\"y\",\"type\":\"box\"}],                        {\"template\":{\"data\":{\"histogram2dcontour\":[{\"type\":\"histogram2dcontour\",\"colorbar\":{\"outlinewidth\":0,\"ticks\":\"\"},\"colorscale\":[[0.0,\"#0d0887\"],[0.1111111111111111,\"#46039f\"],[0.2222222222222222,\"#7201a8\"],[0.3333333333333333,\"#9c179e\"],[0.4444444444444444,\"#bd3786\"],[0.5555555555555556,\"#d8576b\"],[0.6666666666666666,\"#ed7953\"],[0.7777777777777778,\"#fb9f3a\"],[0.8888888888888888,\"#fdca26\"],[1.0,\"#f0f921\"]]}],\"choropleth\":[{\"type\":\"choropleth\",\"colorbar\":{\"outlinewidth\":0,\"ticks\":\"\"}}],\"histogram2d\":[{\"type\":\"histogram2d\",\"colorbar\":{\"outlinewidth\":0,\"ticks\":\"\"},\"colorscale\":[[0.0,\"#0d0887\"],[0.1111111111111111,\"#46039f\"],[0.2222222222222222,\"#7201a8\"],[0.3333333333333333,\"#9c179e\"],[0.4444444444444444,\"#bd3786\"],[0.5555555555555556,\"#d8576b\"],[0.6666666666666666,\"#ed7953\"],[0.7777777777777778,\"#fb9f3a\"],[0.8888888888888888,\"#fdca26\"],[1.0,\"#f0f921\"]]}],\"heatmap\":[{\"type\":\"heatmap\",\"colorbar\":{\"outlinewidth\":0,\"ticks\":\"\"},\"colorscale\":[[0.0,\"#0d0887\"],[0.1111111111111111,\"#46039f\"],[0.2222222222222222,\"#7201a8\"],[0.3333333333333333,\"#9c179e\"],[0.4444444444444444,\"#bd3786\"],[0.5555555555555556,\"#d8576b\"],[0.6666666666666666,\"#ed7953\"],[0.7777777777777778,\"#fb9f3a\"],[0.8888888888888888,\"#fdca26\"],[1.0,\"#f0f921\"]]}],\"heatmapgl\":[{\"type\":\"heatmapgl\",\"colorbar\":{\"outlinewidth\":0,\"ticks\":\"\"},\"colorscale\":[[0.0,\"#0d0887\"],[0.1111111111111111,\"#46039f\"],[0.2222222222222222,\"#7201a8\"],[0.3333333333333333,\"#9c179e\"],[0.4444444444444444,\"#bd3786\"],[0.5555555555555556,\"#d8576b\"],[0.6666666666666666,\"#ed7953\"],[0.7777777777777778,\"#fb9f3a\"],[0.8888888888888888,\"#fdca26\"],[1.0,\"#f0f921\"]]}],\"contourcarpet\":[{\"type\":\"contourcarpet\",\"colorbar\":{\"outlinewidth\":0,\"ticks\":\"\"}}],\"contour\":[{\"type\":\"contour\",\"colorbar\":{\"outlinewidth\":0,\"ticks\":\"\"},\"colorscale\":[[0.0,\"#0d0887\"],[0.1111111111111111,\"#46039f\"],[0.2222222222222222,\"#7201a8\"],[0.3333333333333333,\"#9c179e\"],[0.4444444444444444,\"#bd3786\"],[0.5555555555555556,\"#d8576b\"],[0.6666666666666666,\"#ed7953\"],[0.7777777777777778,\"#fb9f3a\"],[0.8888888888888888,\"#fdca26\"],[1.0,\"#f0f921\"]]}],\"surface\":[{\"type\":\"surface\",\"colorbar\":{\"outlinewidth\":0,\"ticks\":\"\"},\"colorscale\":[[0.0,\"#0d0887\"],[0.1111111111111111,\"#46039f\"],[0.2222222222222222,\"#7201a8\"],[0.3333333333333333,\"#9c179e\"],[0.4444444444444444,\"#bd3786\"],[0.5555555555555556,\"#d8576b\"],[0.6666666666666666,\"#ed7953\"],[0.7777777777777778,\"#fb9f3a\"],[0.8888888888888888,\"#fdca26\"],[1.0,\"#f0f921\"]]}],\"mesh3d\":[{\"type\":\"mesh3d\",\"colorbar\":{\"outlinewidth\":0,\"ticks\":\"\"}}],\"scatter\":[{\"fillpattern\":{\"fillmode\":\"overlay\",\"size\":10,\"solidity\":0.2},\"type\":\"scatter\"}],\"parcoords\":[{\"type\":\"parcoords\",\"line\":{\"colorbar\":{\"outlinewidth\":0,\"ticks\":\"\"}}}],\"scatterpolargl\":[{\"type\":\"scatterpolargl\",\"marker\":{\"colorbar\":{\"outlinewidth\":0,\"ticks\":\"\"}}}],\"bar\":[{\"error_x\":{\"color\":\"#2a3f5f\"},\"error_y\":{\"color\":\"#2a3f5f\"},\"marker\":{\"line\":{\"color\":\"#E5ECF6\",\"width\":0.5},\"pattern\":{\"fillmode\":\"overlay\",\"size\":10,\"solidity\":0.2}},\"type\":\"bar\"}],\"scattergeo\":[{\"type\":\"scattergeo\",\"marker\":{\"colorbar\":{\"outlinewidth\":0,\"ticks\":\"\"}}}],\"scatterpolar\":[{\"type\":\"scatterpolar\",\"marker\":{\"colorbar\":{\"outlinewidth\":0,\"ticks\":\"\"}}}],\"histogram\":[{\"marker\":{\"pattern\":{\"fillmode\":\"overlay\",\"size\":10,\"solidity\":0.2}},\"type\":\"histogram\"}],\"scattergl\":[{\"type\":\"scattergl\",\"marker\":{\"colorbar\":{\"outlinewidth\":0,\"ticks\":\"\"}}}],\"scatter3d\":[{\"type\":\"scatter3d\",\"line\":{\"colorbar\":{\"outlinewidth\":0,\"ticks\":\"\"}},\"marker\":{\"colorbar\":{\"outlinewidth\":0,\"ticks\":\"\"}}}],\"scattermapbox\":[{\"type\":\"scattermapbox\",\"marker\":{\"colorbar\":{\"outlinewidth\":0,\"ticks\":\"\"}}}],\"scatterternary\":[{\"type\":\"scatterternary\",\"marker\":{\"colorbar\":{\"outlinewidth\":0,\"ticks\":\"\"}}}],\"scattercarpet\":[{\"type\":\"scattercarpet\",\"marker\":{\"colorbar\":{\"outlinewidth\":0,\"ticks\":\"\"}}}],\"carpet\":[{\"aaxis\":{\"endlinecolor\":\"#2a3f5f\",\"gridcolor\":\"white\",\"linecolor\":\"white\",\"minorgridcolor\":\"white\",\"startlinecolor\":\"#2a3f5f\"},\"baxis\":{\"endlinecolor\":\"#2a3f5f\",\"gridcolor\":\"white\",\"linecolor\":\"white\",\"minorgridcolor\":\"white\",\"startlinecolor\":\"#2a3f5f\"},\"type\":\"carpet\"}],\"table\":[{\"cells\":{\"fill\":{\"color\":\"#EBF0F8\"},\"line\":{\"color\":\"white\"}},\"header\":{\"fill\":{\"color\":\"#C8D4E3\"},\"line\":{\"color\":\"white\"}},\"type\":\"table\"}],\"barpolar\":[{\"marker\":{\"line\":{\"color\":\"#E5ECF6\",\"width\":0.5},\"pattern\":{\"fillmode\":\"overlay\",\"size\":10,\"solidity\":0.2}},\"type\":\"barpolar\"}],\"pie\":[{\"automargin\":true,\"type\":\"pie\"}]},\"layout\":{\"autotypenumbers\":\"strict\",\"colorway\":[\"#636efa\",\"#EF553B\",\"#00cc96\",\"#ab63fa\",\"#FFA15A\",\"#19d3f3\",\"#FF6692\",\"#B6E880\",\"#FF97FF\",\"#FECB52\"],\"font\":{\"color\":\"#2a3f5f\"},\"hovermode\":\"closest\",\"hoverlabel\":{\"align\":\"left\"},\"paper_bgcolor\":\"white\",\"plot_bgcolor\":\"#E5ECF6\",\"polar\":{\"bgcolor\":\"#E5ECF6\",\"angularaxis\":{\"gridcolor\":\"white\",\"linecolor\":\"white\",\"ticks\":\"\"},\"radialaxis\":{\"gridcolor\":\"white\",\"linecolor\":\"white\",\"ticks\":\"\"}},\"ternary\":{\"bgcolor\":\"#E5ECF6\",\"aaxis\":{\"gridcolor\":\"white\",\"linecolor\":\"white\",\"ticks\":\"\"},\"baxis\":{\"gridcolor\":\"white\",\"linecolor\":\"white\",\"ticks\":\"\"},\"caxis\":{\"gridcolor\":\"white\",\"linecolor\":\"white\",\"ticks\":\"\"}},\"coloraxis\":{\"colorbar\":{\"outlinewidth\":0,\"ticks\":\"\"}},\"colorscale\":{\"sequential\":[[0.0,\"#0d0887\"],[0.1111111111111111,\"#46039f\"],[0.2222222222222222,\"#7201a8\"],[0.3333333333333333,\"#9c179e\"],[0.4444444444444444,\"#bd3786\"],[0.5555555555555556,\"#d8576b\"],[0.6666666666666666,\"#ed7953\"],[0.7777777777777778,\"#fb9f3a\"],[0.8888888888888888,\"#fdca26\"],[1.0,\"#f0f921\"]],\"sequentialminus\":[[0.0,\"#0d0887\"],[0.1111111111111111,\"#46039f\"],[0.2222222222222222,\"#7201a8\"],[0.3333333333333333,\"#9c179e\"],[0.4444444444444444,\"#bd3786\"],[0.5555555555555556,\"#d8576b\"],[0.6666666666666666,\"#ed7953\"],[0.7777777777777778,\"#fb9f3a\"],[0.8888888888888888,\"#fdca26\"],[1.0,\"#f0f921\"]],\"diverging\":[[0,\"#8e0152\"],[0.1,\"#c51b7d\"],[0.2,\"#de77ae\"],[0.3,\"#f1b6da\"],[0.4,\"#fde0ef\"],[0.5,\"#f7f7f7\"],[0.6,\"#e6f5d0\"],[0.7,\"#b8e186\"],[0.8,\"#7fbc41\"],[0.9,\"#4d9221\"],[1,\"#276419\"]]},\"xaxis\":{\"gridcolor\":\"white\",\"linecolor\":\"white\",\"ticks\":\"\",\"title\":{\"standoff\":15},\"zerolinecolor\":\"white\",\"automargin\":true,\"zerolinewidth\":2},\"yaxis\":{\"gridcolor\":\"white\",\"linecolor\":\"white\",\"ticks\":\"\",\"title\":{\"standoff\":15},\"zerolinecolor\":\"white\",\"automargin\":true,\"zerolinewidth\":2},\"scene\":{\"xaxis\":{\"backgroundcolor\":\"#E5ECF6\",\"gridcolor\":\"white\",\"linecolor\":\"white\",\"showbackground\":true,\"ticks\":\"\",\"zerolinecolor\":\"white\",\"gridwidth\":2},\"yaxis\":{\"backgroundcolor\":\"#E5ECF6\",\"gridcolor\":\"white\",\"linecolor\":\"white\",\"showbackground\":true,\"ticks\":\"\",\"zerolinecolor\":\"white\",\"gridwidth\":2},\"zaxis\":{\"backgroundcolor\":\"#E5ECF6\",\"gridcolor\":\"white\",\"linecolor\":\"white\",\"showbackground\":true,\"ticks\":\"\",\"zerolinecolor\":\"white\",\"gridwidth\":2}},\"shapedefaults\":{\"line\":{\"color\":\"#2a3f5f\"}},\"annotationdefaults\":{\"arrowcolor\":\"#2a3f5f\",\"arrowhead\":0,\"arrowwidth\":1},\"geo\":{\"bgcolor\":\"white\",\"landcolor\":\"#E5ECF6\",\"subunitcolor\":\"white\",\"showland\":true,\"showlakes\":true,\"lakecolor\":\"white\"},\"title\":{\"x\":0.05},\"mapbox\":{\"style\":\"light\"}}},\"xaxis\":{\"anchor\":\"y\",\"domain\":[0.0,1.0],\"title\":{\"text\":\"dis\"}},\"yaxis\":{\"anchor\":\"x\",\"domain\":[0.0,1.0]},\"legend\":{\"tracegroupgap\":0},\"margin\":{\"t\":60},\"boxmode\":\"group\",\"height\":400,\"width\":800},                        {\"responsive\": true}                    ).then(function(){\n",
              "                            \n",
              "var gd = document.getElementById('495f1634-2910-421d-a812-8c3c58f73e61');\n",
              "var x = new MutationObserver(function (mutations, observer) {{\n",
              "        var display = window.getComputedStyle(gd).display;\n",
              "        if (!display || display === 'none') {{\n",
              "            console.log([gd, 'removed!']);\n",
              "            Plotly.purge(gd);\n",
              "            observer.disconnect();\n",
              "        }}\n",
              "}});\n",
              "\n",
              "// Listen for the removal of the full notebook cells\n",
              "var notebookContainer = gd.closest('#notebook-container');\n",
              "if (notebookContainer) {{\n",
              "    x.observe(notebookContainer, {childList: true});\n",
              "}}\n",
              "\n",
              "// Listen for the clearing of the current output cell\n",
              "var outputEl = gd.closest('.output');\n",
              "if (outputEl) {{\n",
              "    x.observe(outputEl, {childList: true});\n",
              "}}\n",
              "\n",
              "                        })                };                            </script>        </div>\n",
              "</body>\n",
              "</html>"
            ]
          },
          "metadata": {}
        }
      ]
    },
    {
      "cell_type": "code",
      "source": [
        "px.box(boston, x=\"rad\", width=800, height=400)"
      ],
      "metadata": {
        "colab": {
          "base_uri": "https://localhost:8080/",
          "height": 417
        },
        "id": "sY2OuY8E7m7S",
        "outputId": "e8634177-a165-4a39-cc3d-fddcccc6ddf7"
      },
      "execution_count": 24,
      "outputs": [
        {
          "output_type": "display_data",
          "data": {
            "text/html": [
              "<html>\n",
              "<head><meta charset=\"utf-8\" /></head>\n",
              "<body>\n",
              "    <div>            <script src=\"https://cdnjs.cloudflare.com/ajax/libs/mathjax/2.7.5/MathJax.js?config=TeX-AMS-MML_SVG\"></script><script type=\"text/javascript\">if (window.MathJax && window.MathJax.Hub && window.MathJax.Hub.Config) {window.MathJax.Hub.Config({SVG: {font: \"STIX-Web\"}});}</script>                <script type=\"text/javascript\">window.PlotlyConfig = {MathJaxConfig: 'local'};</script>\n",
              "        <script src=\"https://cdn.plot.ly/plotly-2.18.2.min.js\"></script>                <div id=\"af5ede9f-2cc1-4a1b-af6c-4a7e95ac31a5\" class=\"plotly-graph-div\" style=\"height:400px; width:800px;\"></div>            <script type=\"text/javascript\">                                    window.PLOTLYENV=window.PLOTLYENV || {};                                    if (document.getElementById(\"af5ede9f-2cc1-4a1b-af6c-4a7e95ac31a5\")) {                    Plotly.newPlot(                        \"af5ede9f-2cc1-4a1b-af6c-4a7e95ac31a5\",                        [{\"alignmentgroup\":\"True\",\"hovertemplate\":\"rad=%{x}<extra></extra>\",\"legendgroup\":\"\",\"marker\":{\"color\":\"#636efa\"},\"name\":\"\",\"notched\":false,\"offsetgroup\":\"\",\"orientation\":\"h\",\"showlegend\":false,\"x\":[1,2,2,3,3,3,5,5,5,5,5,5,5,4,4,4,4,4,4,4,4,4,4,4,4,4,4,4,4,4,4,4,4,4,4,5,5,5,5,3,3,3,3,3,3,3,3,3,3,3,4,4,4,4,3,5,2,5,8,8,8,8,8,8,3,4,4,4,4,4,4,4,4,4,5,5,5,5,5,5,4,4,4,4,3,3,3,3,2,2,2,2,4,4,4,2,2,2,2,2,5,5,5,5,5,5,5,5,5,5,5,6,6,6,6,6,6,6,6,6,2,2,2,2,2,2,2,4,4,4,4,4,4,4,4,4,4,4,4,4,4,4,5,5,5,5,5,5,5,5,5,5,5,5,5,5,5,5,5,5,5,5,5,5,5,5,5,5,5,5,5,5,5,5,5,5,5,5,5,3,3,3,3,3,3,3,3,5,5,5,5,5,5,1,1,4,2,2,2,3,3,2,2,4,4,4,4,4,4,4,4,4,4,4,4,4,5,5,5,5,8,8,8,8,8,8,8,8,8,8,8,8,8,8,8,8,8,8,6,6,6,6,6,6,7,7,7,7,7,7,7,7,7,7,1,1,3,5,5,5,5,5,5,5,5,5,5,5,5,3,3,3,3,3,4,4,4,4,4,5,5,5,5,1,1,1,1,6,6,6,4,4,4,4,4,4,4,4,5,5,5,7,7,7,7,7,7,7,4,4,4,4,4,4,4,4,4,4,4,4,5,5,5,5,5,5,5,5,4,4,4,1,1,5,5,5,5,5,5,5,5,1,1,5,5,3,3,4,4,1,1,4,4,5,4,4,24,24,24,24,24,24,24,24,24,24,24,24,24,24,24,24,24,24,24,24,24,24,24,24,24,24,24,24,24,24,24,24,24,24,24,24,24,24,24,24,24,24,24,24,24,24,24,24,24,24,24,24,24,24,24,24,24,24,24,24,24,24,24,24,24,24,24,24,24,24,24,24,24,24,24,24,24,24,24,24,24,24,24,24,24,24,24,24,24,24,24,24,24,24,24,24,24,24,24,24,24,24,24,24,24,24,24,24,24,24,24,24,24,24,24,24,24,24,24,24,24,24,24,24,24,24,24,24,24,24,24,24,4,4,4,4,4,6,6,6,6,6,6,6,6,1,1,1,1,1],\"x0\":\" \",\"xaxis\":\"x\",\"y0\":\" \",\"yaxis\":\"y\",\"type\":\"box\"}],                        {\"template\":{\"data\":{\"histogram2dcontour\":[{\"type\":\"histogram2dcontour\",\"colorbar\":{\"outlinewidth\":0,\"ticks\":\"\"},\"colorscale\":[[0.0,\"#0d0887\"],[0.1111111111111111,\"#46039f\"],[0.2222222222222222,\"#7201a8\"],[0.3333333333333333,\"#9c179e\"],[0.4444444444444444,\"#bd3786\"],[0.5555555555555556,\"#d8576b\"],[0.6666666666666666,\"#ed7953\"],[0.7777777777777778,\"#fb9f3a\"],[0.8888888888888888,\"#fdca26\"],[1.0,\"#f0f921\"]]}],\"choropleth\":[{\"type\":\"choropleth\",\"colorbar\":{\"outlinewidth\":0,\"ticks\":\"\"}}],\"histogram2d\":[{\"type\":\"histogram2d\",\"colorbar\":{\"outlinewidth\":0,\"ticks\":\"\"},\"colorscale\":[[0.0,\"#0d0887\"],[0.1111111111111111,\"#46039f\"],[0.2222222222222222,\"#7201a8\"],[0.3333333333333333,\"#9c179e\"],[0.4444444444444444,\"#bd3786\"],[0.5555555555555556,\"#d8576b\"],[0.6666666666666666,\"#ed7953\"],[0.7777777777777778,\"#fb9f3a\"],[0.8888888888888888,\"#fdca26\"],[1.0,\"#f0f921\"]]}],\"heatmap\":[{\"type\":\"heatmap\",\"colorbar\":{\"outlinewidth\":0,\"ticks\":\"\"},\"colorscale\":[[0.0,\"#0d0887\"],[0.1111111111111111,\"#46039f\"],[0.2222222222222222,\"#7201a8\"],[0.3333333333333333,\"#9c179e\"],[0.4444444444444444,\"#bd3786\"],[0.5555555555555556,\"#d8576b\"],[0.6666666666666666,\"#ed7953\"],[0.7777777777777778,\"#fb9f3a\"],[0.8888888888888888,\"#fdca26\"],[1.0,\"#f0f921\"]]}],\"heatmapgl\":[{\"type\":\"heatmapgl\",\"colorbar\":{\"outlinewidth\":0,\"ticks\":\"\"},\"colorscale\":[[0.0,\"#0d0887\"],[0.1111111111111111,\"#46039f\"],[0.2222222222222222,\"#7201a8\"],[0.3333333333333333,\"#9c179e\"],[0.4444444444444444,\"#bd3786\"],[0.5555555555555556,\"#d8576b\"],[0.6666666666666666,\"#ed7953\"],[0.7777777777777778,\"#fb9f3a\"],[0.8888888888888888,\"#fdca26\"],[1.0,\"#f0f921\"]]}],\"contourcarpet\":[{\"type\":\"contourcarpet\",\"colorbar\":{\"outlinewidth\":0,\"ticks\":\"\"}}],\"contour\":[{\"type\":\"contour\",\"colorbar\":{\"outlinewidth\":0,\"ticks\":\"\"},\"colorscale\":[[0.0,\"#0d0887\"],[0.1111111111111111,\"#46039f\"],[0.2222222222222222,\"#7201a8\"],[0.3333333333333333,\"#9c179e\"],[0.4444444444444444,\"#bd3786\"],[0.5555555555555556,\"#d8576b\"],[0.6666666666666666,\"#ed7953\"],[0.7777777777777778,\"#fb9f3a\"],[0.8888888888888888,\"#fdca26\"],[1.0,\"#f0f921\"]]}],\"surface\":[{\"type\":\"surface\",\"colorbar\":{\"outlinewidth\":0,\"ticks\":\"\"},\"colorscale\":[[0.0,\"#0d0887\"],[0.1111111111111111,\"#46039f\"],[0.2222222222222222,\"#7201a8\"],[0.3333333333333333,\"#9c179e\"],[0.4444444444444444,\"#bd3786\"],[0.5555555555555556,\"#d8576b\"],[0.6666666666666666,\"#ed7953\"],[0.7777777777777778,\"#fb9f3a\"],[0.8888888888888888,\"#fdca26\"],[1.0,\"#f0f921\"]]}],\"mesh3d\":[{\"type\":\"mesh3d\",\"colorbar\":{\"outlinewidth\":0,\"ticks\":\"\"}}],\"scatter\":[{\"fillpattern\":{\"fillmode\":\"overlay\",\"size\":10,\"solidity\":0.2},\"type\":\"scatter\"}],\"parcoords\":[{\"type\":\"parcoords\",\"line\":{\"colorbar\":{\"outlinewidth\":0,\"ticks\":\"\"}}}],\"scatterpolargl\":[{\"type\":\"scatterpolargl\",\"marker\":{\"colorbar\":{\"outlinewidth\":0,\"ticks\":\"\"}}}],\"bar\":[{\"error_x\":{\"color\":\"#2a3f5f\"},\"error_y\":{\"color\":\"#2a3f5f\"},\"marker\":{\"line\":{\"color\":\"#E5ECF6\",\"width\":0.5},\"pattern\":{\"fillmode\":\"overlay\",\"size\":10,\"solidity\":0.2}},\"type\":\"bar\"}],\"scattergeo\":[{\"type\":\"scattergeo\",\"marker\":{\"colorbar\":{\"outlinewidth\":0,\"ticks\":\"\"}}}],\"scatterpolar\":[{\"type\":\"scatterpolar\",\"marker\":{\"colorbar\":{\"outlinewidth\":0,\"ticks\":\"\"}}}],\"histogram\":[{\"marker\":{\"pattern\":{\"fillmode\":\"overlay\",\"size\":10,\"solidity\":0.2}},\"type\":\"histogram\"}],\"scattergl\":[{\"type\":\"scattergl\",\"marker\":{\"colorbar\":{\"outlinewidth\":0,\"ticks\":\"\"}}}],\"scatter3d\":[{\"type\":\"scatter3d\",\"line\":{\"colorbar\":{\"outlinewidth\":0,\"ticks\":\"\"}},\"marker\":{\"colorbar\":{\"outlinewidth\":0,\"ticks\":\"\"}}}],\"scattermapbox\":[{\"type\":\"scattermapbox\",\"marker\":{\"colorbar\":{\"outlinewidth\":0,\"ticks\":\"\"}}}],\"scatterternary\":[{\"type\":\"scatterternary\",\"marker\":{\"colorbar\":{\"outlinewidth\":0,\"ticks\":\"\"}}}],\"scattercarpet\":[{\"type\":\"scattercarpet\",\"marker\":{\"colorbar\":{\"outlinewidth\":0,\"ticks\":\"\"}}}],\"carpet\":[{\"aaxis\":{\"endlinecolor\":\"#2a3f5f\",\"gridcolor\":\"white\",\"linecolor\":\"white\",\"minorgridcolor\":\"white\",\"startlinecolor\":\"#2a3f5f\"},\"baxis\":{\"endlinecolor\":\"#2a3f5f\",\"gridcolor\":\"white\",\"linecolor\":\"white\",\"minorgridcolor\":\"white\",\"startlinecolor\":\"#2a3f5f\"},\"type\":\"carpet\"}],\"table\":[{\"cells\":{\"fill\":{\"color\":\"#EBF0F8\"},\"line\":{\"color\":\"white\"}},\"header\":{\"fill\":{\"color\":\"#C8D4E3\"},\"line\":{\"color\":\"white\"}},\"type\":\"table\"}],\"barpolar\":[{\"marker\":{\"line\":{\"color\":\"#E5ECF6\",\"width\":0.5},\"pattern\":{\"fillmode\":\"overlay\",\"size\":10,\"solidity\":0.2}},\"type\":\"barpolar\"}],\"pie\":[{\"automargin\":true,\"type\":\"pie\"}]},\"layout\":{\"autotypenumbers\":\"strict\",\"colorway\":[\"#636efa\",\"#EF553B\",\"#00cc96\",\"#ab63fa\",\"#FFA15A\",\"#19d3f3\",\"#FF6692\",\"#B6E880\",\"#FF97FF\",\"#FECB52\"],\"font\":{\"color\":\"#2a3f5f\"},\"hovermode\":\"closest\",\"hoverlabel\":{\"align\":\"left\"},\"paper_bgcolor\":\"white\",\"plot_bgcolor\":\"#E5ECF6\",\"polar\":{\"bgcolor\":\"#E5ECF6\",\"angularaxis\":{\"gridcolor\":\"white\",\"linecolor\":\"white\",\"ticks\":\"\"},\"radialaxis\":{\"gridcolor\":\"white\",\"linecolor\":\"white\",\"ticks\":\"\"}},\"ternary\":{\"bgcolor\":\"#E5ECF6\",\"aaxis\":{\"gridcolor\":\"white\",\"linecolor\":\"white\",\"ticks\":\"\"},\"baxis\":{\"gridcolor\":\"white\",\"linecolor\":\"white\",\"ticks\":\"\"},\"caxis\":{\"gridcolor\":\"white\",\"linecolor\":\"white\",\"ticks\":\"\"}},\"coloraxis\":{\"colorbar\":{\"outlinewidth\":0,\"ticks\":\"\"}},\"colorscale\":{\"sequential\":[[0.0,\"#0d0887\"],[0.1111111111111111,\"#46039f\"],[0.2222222222222222,\"#7201a8\"],[0.3333333333333333,\"#9c179e\"],[0.4444444444444444,\"#bd3786\"],[0.5555555555555556,\"#d8576b\"],[0.6666666666666666,\"#ed7953\"],[0.7777777777777778,\"#fb9f3a\"],[0.8888888888888888,\"#fdca26\"],[1.0,\"#f0f921\"]],\"sequentialminus\":[[0.0,\"#0d0887\"],[0.1111111111111111,\"#46039f\"],[0.2222222222222222,\"#7201a8\"],[0.3333333333333333,\"#9c179e\"],[0.4444444444444444,\"#bd3786\"],[0.5555555555555556,\"#d8576b\"],[0.6666666666666666,\"#ed7953\"],[0.7777777777777778,\"#fb9f3a\"],[0.8888888888888888,\"#fdca26\"],[1.0,\"#f0f921\"]],\"diverging\":[[0,\"#8e0152\"],[0.1,\"#c51b7d\"],[0.2,\"#de77ae\"],[0.3,\"#f1b6da\"],[0.4,\"#fde0ef\"],[0.5,\"#f7f7f7\"],[0.6,\"#e6f5d0\"],[0.7,\"#b8e186\"],[0.8,\"#7fbc41\"],[0.9,\"#4d9221\"],[1,\"#276419\"]]},\"xaxis\":{\"gridcolor\":\"white\",\"linecolor\":\"white\",\"ticks\":\"\",\"title\":{\"standoff\":15},\"zerolinecolor\":\"white\",\"automargin\":true,\"zerolinewidth\":2},\"yaxis\":{\"gridcolor\":\"white\",\"linecolor\":\"white\",\"ticks\":\"\",\"title\":{\"standoff\":15},\"zerolinecolor\":\"white\",\"automargin\":true,\"zerolinewidth\":2},\"scene\":{\"xaxis\":{\"backgroundcolor\":\"#E5ECF6\",\"gridcolor\":\"white\",\"linecolor\":\"white\",\"showbackground\":true,\"ticks\":\"\",\"zerolinecolor\":\"white\",\"gridwidth\":2},\"yaxis\":{\"backgroundcolor\":\"#E5ECF6\",\"gridcolor\":\"white\",\"linecolor\":\"white\",\"showbackground\":true,\"ticks\":\"\",\"zerolinecolor\":\"white\",\"gridwidth\":2},\"zaxis\":{\"backgroundcolor\":\"#E5ECF6\",\"gridcolor\":\"white\",\"linecolor\":\"white\",\"showbackground\":true,\"ticks\":\"\",\"zerolinecolor\":\"white\",\"gridwidth\":2}},\"shapedefaults\":{\"line\":{\"color\":\"#2a3f5f\"}},\"annotationdefaults\":{\"arrowcolor\":\"#2a3f5f\",\"arrowhead\":0,\"arrowwidth\":1},\"geo\":{\"bgcolor\":\"white\",\"landcolor\":\"#E5ECF6\",\"subunitcolor\":\"white\",\"showland\":true,\"showlakes\":true,\"lakecolor\":\"white\"},\"title\":{\"x\":0.05},\"mapbox\":{\"style\":\"light\"}}},\"xaxis\":{\"anchor\":\"y\",\"domain\":[0.0,1.0],\"title\":{\"text\":\"rad\"}},\"yaxis\":{\"anchor\":\"x\",\"domain\":[0.0,1.0]},\"legend\":{\"tracegroupgap\":0},\"margin\":{\"t\":60},\"boxmode\":\"group\",\"height\":400,\"width\":800},                        {\"responsive\": true}                    ).then(function(){\n",
              "                            \n",
              "var gd = document.getElementById('af5ede9f-2cc1-4a1b-af6c-4a7e95ac31a5');\n",
              "var x = new MutationObserver(function (mutations, observer) {{\n",
              "        var display = window.getComputedStyle(gd).display;\n",
              "        if (!display || display === 'none') {{\n",
              "            console.log([gd, 'removed!']);\n",
              "            Plotly.purge(gd);\n",
              "            observer.disconnect();\n",
              "        }}\n",
              "}});\n",
              "\n",
              "// Listen for the removal of the full notebook cells\n",
              "var notebookContainer = gd.closest('#notebook-container');\n",
              "if (notebookContainer) {{\n",
              "    x.observe(notebookContainer, {childList: true});\n",
              "}}\n",
              "\n",
              "// Listen for the clearing of the current output cell\n",
              "var outputEl = gd.closest('.output');\n",
              "if (outputEl) {{\n",
              "    x.observe(outputEl, {childList: true});\n",
              "}}\n",
              "\n",
              "                        })                };                            </script>        </div>\n",
              "</body>\n",
              "</html>"
            ]
          },
          "metadata": {}
        }
      ]
    },
    {
      "cell_type": "code",
      "source": [
        "px.box(boston, x=\"tax\", width=800, height=400)"
      ],
      "metadata": {
        "colab": {
          "base_uri": "https://localhost:8080/",
          "height": 417
        },
        "id": "-UWg6U4p7pfr",
        "outputId": "9fd31ee5-8368-44a4-9923-0b0ca14660e2"
      },
      "execution_count": 25,
      "outputs": [
        {
          "output_type": "display_data",
          "data": {
            "text/html": [
              "<html>\n",
              "<head><meta charset=\"utf-8\" /></head>\n",
              "<body>\n",
              "    <div>            <script src=\"https://cdnjs.cloudflare.com/ajax/libs/mathjax/2.7.5/MathJax.js?config=TeX-AMS-MML_SVG\"></script><script type=\"text/javascript\">if (window.MathJax && window.MathJax.Hub && window.MathJax.Hub.Config) {window.MathJax.Hub.Config({SVG: {font: \"STIX-Web\"}});}</script>                <script type=\"text/javascript\">window.PlotlyConfig = {MathJaxConfig: 'local'};</script>\n",
              "        <script src=\"https://cdn.plot.ly/plotly-2.18.2.min.js\"></script>                <div id=\"fb594c26-2850-4b09-ac60-58b1a4bc049d\" class=\"plotly-graph-div\" style=\"height:400px; width:800px;\"></div>            <script type=\"text/javascript\">                                    window.PLOTLYENV=window.PLOTLYENV || {};                                    if (document.getElementById(\"fb594c26-2850-4b09-ac60-58b1a4bc049d\")) {                    Plotly.newPlot(                        \"fb594c26-2850-4b09-ac60-58b1a4bc049d\",                        [{\"alignmentgroup\":\"True\",\"hovertemplate\":\"tax=%{x}<extra></extra>\",\"legendgroup\":\"\",\"marker\":{\"color\":\"#636efa\"},\"name\":\"\",\"notched\":false,\"offsetgroup\":\"\",\"orientation\":\"h\",\"showlegend\":false,\"x\":[296,242,242,222,222,222,311,311,311,311,311,311,311,307,307,307,307,307,307,307,307,307,307,307,307,307,307,307,307,307,307,307,307,307,307,279,279,279,279,252,252,233,233,233,233,233,233,233,233,233,243,243,243,243,469,226,313,256,284,284,284,284,284,284,216,337,337,345,345,345,305,305,305,305,398,398,398,398,398,398,281,281,281,281,247,247,247,247,270,270,270,270,270,270,270,276,276,276,276,276,384,384,384,384,384,384,384,384,384,384,384,432,432,432,432,432,432,432,432,432,188,188,188,188,188,188,188,437,437,437,437,437,437,437,437,437,437,437,437,437,437,437,403,403,403,403,403,403,403,403,403,403,403,403,403,403,403,403,403,403,403,403,403,403,403,403,403,403,403,403,403,403,296,296,296,296,296,296,296,193,193,193,193,193,193,193,193,398,398,398,398,398,398,265,265,255,329,329,329,402,402,348,348,224,224,277,277,277,277,277,277,277,277,277,277,277,276,276,276,276,307,307,307,307,307,307,307,307,307,307,307,307,307,307,307,307,307,307,300,300,300,300,300,300,330,330,330,330,330,330,330,330,330,330,315,315,244,264,264,264,264,264,264,264,264,264,264,264,264,223,223,223,223,223,254,254,254,254,254,216,216,216,216,198,285,300,241,293,293,293,245,245,245,289,289,289,289,289,358,358,358,329,329,329,222,222,222,222,304,304,304,304,304,304,304,304,304,304,304,304,287,287,287,287,287,287,287,287,430,430,430,304,304,224,224,224,224,224,224,224,224,284,422,370,370,352,352,351,280,335,335,411,411,187,334,334,666,666,666,666,666,666,666,666,666,666,666,666,666,666,666,666,666,666,666,666,666,666,666,666,666,666,666,666,666,666,666,666,666,666,666,666,666,666,666,666,666,666,666,666,666,666,666,666,666,666,666,666,666,666,666,666,666,666,666,666,666,666,666,666,666,666,666,666,666,666,666,666,666,666,666,666,666,666,666,666,666,666,666,666,666,666,666,666,666,666,666,666,666,666,666,666,666,666,666,666,666,666,666,666,666,666,666,666,666,666,666,666,666,666,666,666,666,666,666,666,666,666,666,666,666,666,666,666,666,666,666,666,711,711,711,711,711,391,391,391,391,391,391,391,391,273,273,273,273,273],\"x0\":\" \",\"xaxis\":\"x\",\"y0\":\" \",\"yaxis\":\"y\",\"type\":\"box\"}],                        {\"template\":{\"data\":{\"histogram2dcontour\":[{\"type\":\"histogram2dcontour\",\"colorbar\":{\"outlinewidth\":0,\"ticks\":\"\"},\"colorscale\":[[0.0,\"#0d0887\"],[0.1111111111111111,\"#46039f\"],[0.2222222222222222,\"#7201a8\"],[0.3333333333333333,\"#9c179e\"],[0.4444444444444444,\"#bd3786\"],[0.5555555555555556,\"#d8576b\"],[0.6666666666666666,\"#ed7953\"],[0.7777777777777778,\"#fb9f3a\"],[0.8888888888888888,\"#fdca26\"],[1.0,\"#f0f921\"]]}],\"choropleth\":[{\"type\":\"choropleth\",\"colorbar\":{\"outlinewidth\":0,\"ticks\":\"\"}}],\"histogram2d\":[{\"type\":\"histogram2d\",\"colorbar\":{\"outlinewidth\":0,\"ticks\":\"\"},\"colorscale\":[[0.0,\"#0d0887\"],[0.1111111111111111,\"#46039f\"],[0.2222222222222222,\"#7201a8\"],[0.3333333333333333,\"#9c179e\"],[0.4444444444444444,\"#bd3786\"],[0.5555555555555556,\"#d8576b\"],[0.6666666666666666,\"#ed7953\"],[0.7777777777777778,\"#fb9f3a\"],[0.8888888888888888,\"#fdca26\"],[1.0,\"#f0f921\"]]}],\"heatmap\":[{\"type\":\"heatmap\",\"colorbar\":{\"outlinewidth\":0,\"ticks\":\"\"},\"colorscale\":[[0.0,\"#0d0887\"],[0.1111111111111111,\"#46039f\"],[0.2222222222222222,\"#7201a8\"],[0.3333333333333333,\"#9c179e\"],[0.4444444444444444,\"#bd3786\"],[0.5555555555555556,\"#d8576b\"],[0.6666666666666666,\"#ed7953\"],[0.7777777777777778,\"#fb9f3a\"],[0.8888888888888888,\"#fdca26\"],[1.0,\"#f0f921\"]]}],\"heatmapgl\":[{\"type\":\"heatmapgl\",\"colorbar\":{\"outlinewidth\":0,\"ticks\":\"\"},\"colorscale\":[[0.0,\"#0d0887\"],[0.1111111111111111,\"#46039f\"],[0.2222222222222222,\"#7201a8\"],[0.3333333333333333,\"#9c179e\"],[0.4444444444444444,\"#bd3786\"],[0.5555555555555556,\"#d8576b\"],[0.6666666666666666,\"#ed7953\"],[0.7777777777777778,\"#fb9f3a\"],[0.8888888888888888,\"#fdca26\"],[1.0,\"#f0f921\"]]}],\"contourcarpet\":[{\"type\":\"contourcarpet\",\"colorbar\":{\"outlinewidth\":0,\"ticks\":\"\"}}],\"contour\":[{\"type\":\"contour\",\"colorbar\":{\"outlinewidth\":0,\"ticks\":\"\"},\"colorscale\":[[0.0,\"#0d0887\"],[0.1111111111111111,\"#46039f\"],[0.2222222222222222,\"#7201a8\"],[0.3333333333333333,\"#9c179e\"],[0.4444444444444444,\"#bd3786\"],[0.5555555555555556,\"#d8576b\"],[0.6666666666666666,\"#ed7953\"],[0.7777777777777778,\"#fb9f3a\"],[0.8888888888888888,\"#fdca26\"],[1.0,\"#f0f921\"]]}],\"surface\":[{\"type\":\"surface\",\"colorbar\":{\"outlinewidth\":0,\"ticks\":\"\"},\"colorscale\":[[0.0,\"#0d0887\"],[0.1111111111111111,\"#46039f\"],[0.2222222222222222,\"#7201a8\"],[0.3333333333333333,\"#9c179e\"],[0.4444444444444444,\"#bd3786\"],[0.5555555555555556,\"#d8576b\"],[0.6666666666666666,\"#ed7953\"],[0.7777777777777778,\"#fb9f3a\"],[0.8888888888888888,\"#fdca26\"],[1.0,\"#f0f921\"]]}],\"mesh3d\":[{\"type\":\"mesh3d\",\"colorbar\":{\"outlinewidth\":0,\"ticks\":\"\"}}],\"scatter\":[{\"fillpattern\":{\"fillmode\":\"overlay\",\"size\":10,\"solidity\":0.2},\"type\":\"scatter\"}],\"parcoords\":[{\"type\":\"parcoords\",\"line\":{\"colorbar\":{\"outlinewidth\":0,\"ticks\":\"\"}}}],\"scatterpolargl\":[{\"type\":\"scatterpolargl\",\"marker\":{\"colorbar\":{\"outlinewidth\":0,\"ticks\":\"\"}}}],\"bar\":[{\"error_x\":{\"color\":\"#2a3f5f\"},\"error_y\":{\"color\":\"#2a3f5f\"},\"marker\":{\"line\":{\"color\":\"#E5ECF6\",\"width\":0.5},\"pattern\":{\"fillmode\":\"overlay\",\"size\":10,\"solidity\":0.2}},\"type\":\"bar\"}],\"scattergeo\":[{\"type\":\"scattergeo\",\"marker\":{\"colorbar\":{\"outlinewidth\":0,\"ticks\":\"\"}}}],\"scatterpolar\":[{\"type\":\"scatterpolar\",\"marker\":{\"colorbar\":{\"outlinewidth\":0,\"ticks\":\"\"}}}],\"histogram\":[{\"marker\":{\"pattern\":{\"fillmode\":\"overlay\",\"size\":10,\"solidity\":0.2}},\"type\":\"histogram\"}],\"scattergl\":[{\"type\":\"scattergl\",\"marker\":{\"colorbar\":{\"outlinewidth\":0,\"ticks\":\"\"}}}],\"scatter3d\":[{\"type\":\"scatter3d\",\"line\":{\"colorbar\":{\"outlinewidth\":0,\"ticks\":\"\"}},\"marker\":{\"colorbar\":{\"outlinewidth\":0,\"ticks\":\"\"}}}],\"scattermapbox\":[{\"type\":\"scattermapbox\",\"marker\":{\"colorbar\":{\"outlinewidth\":0,\"ticks\":\"\"}}}],\"scatterternary\":[{\"type\":\"scatterternary\",\"marker\":{\"colorbar\":{\"outlinewidth\":0,\"ticks\":\"\"}}}],\"scattercarpet\":[{\"type\":\"scattercarpet\",\"marker\":{\"colorbar\":{\"outlinewidth\":0,\"ticks\":\"\"}}}],\"carpet\":[{\"aaxis\":{\"endlinecolor\":\"#2a3f5f\",\"gridcolor\":\"white\",\"linecolor\":\"white\",\"minorgridcolor\":\"white\",\"startlinecolor\":\"#2a3f5f\"},\"baxis\":{\"endlinecolor\":\"#2a3f5f\",\"gridcolor\":\"white\",\"linecolor\":\"white\",\"minorgridcolor\":\"white\",\"startlinecolor\":\"#2a3f5f\"},\"type\":\"carpet\"}],\"table\":[{\"cells\":{\"fill\":{\"color\":\"#EBF0F8\"},\"line\":{\"color\":\"white\"}},\"header\":{\"fill\":{\"color\":\"#C8D4E3\"},\"line\":{\"color\":\"white\"}},\"type\":\"table\"}],\"barpolar\":[{\"marker\":{\"line\":{\"color\":\"#E5ECF6\",\"width\":0.5},\"pattern\":{\"fillmode\":\"overlay\",\"size\":10,\"solidity\":0.2}},\"type\":\"barpolar\"}],\"pie\":[{\"automargin\":true,\"type\":\"pie\"}]},\"layout\":{\"autotypenumbers\":\"strict\",\"colorway\":[\"#636efa\",\"#EF553B\",\"#00cc96\",\"#ab63fa\",\"#FFA15A\",\"#19d3f3\",\"#FF6692\",\"#B6E880\",\"#FF97FF\",\"#FECB52\"],\"font\":{\"color\":\"#2a3f5f\"},\"hovermode\":\"closest\",\"hoverlabel\":{\"align\":\"left\"},\"paper_bgcolor\":\"white\",\"plot_bgcolor\":\"#E5ECF6\",\"polar\":{\"bgcolor\":\"#E5ECF6\",\"angularaxis\":{\"gridcolor\":\"white\",\"linecolor\":\"white\",\"ticks\":\"\"},\"radialaxis\":{\"gridcolor\":\"white\",\"linecolor\":\"white\",\"ticks\":\"\"}},\"ternary\":{\"bgcolor\":\"#E5ECF6\",\"aaxis\":{\"gridcolor\":\"white\",\"linecolor\":\"white\",\"ticks\":\"\"},\"baxis\":{\"gridcolor\":\"white\",\"linecolor\":\"white\",\"ticks\":\"\"},\"caxis\":{\"gridcolor\":\"white\",\"linecolor\":\"white\",\"ticks\":\"\"}},\"coloraxis\":{\"colorbar\":{\"outlinewidth\":0,\"ticks\":\"\"}},\"colorscale\":{\"sequential\":[[0.0,\"#0d0887\"],[0.1111111111111111,\"#46039f\"],[0.2222222222222222,\"#7201a8\"],[0.3333333333333333,\"#9c179e\"],[0.4444444444444444,\"#bd3786\"],[0.5555555555555556,\"#d8576b\"],[0.6666666666666666,\"#ed7953\"],[0.7777777777777778,\"#fb9f3a\"],[0.8888888888888888,\"#fdca26\"],[1.0,\"#f0f921\"]],\"sequentialminus\":[[0.0,\"#0d0887\"],[0.1111111111111111,\"#46039f\"],[0.2222222222222222,\"#7201a8\"],[0.3333333333333333,\"#9c179e\"],[0.4444444444444444,\"#bd3786\"],[0.5555555555555556,\"#d8576b\"],[0.6666666666666666,\"#ed7953\"],[0.7777777777777778,\"#fb9f3a\"],[0.8888888888888888,\"#fdca26\"],[1.0,\"#f0f921\"]],\"diverging\":[[0,\"#8e0152\"],[0.1,\"#c51b7d\"],[0.2,\"#de77ae\"],[0.3,\"#f1b6da\"],[0.4,\"#fde0ef\"],[0.5,\"#f7f7f7\"],[0.6,\"#e6f5d0\"],[0.7,\"#b8e186\"],[0.8,\"#7fbc41\"],[0.9,\"#4d9221\"],[1,\"#276419\"]]},\"xaxis\":{\"gridcolor\":\"white\",\"linecolor\":\"white\",\"ticks\":\"\",\"title\":{\"standoff\":15},\"zerolinecolor\":\"white\",\"automargin\":true,\"zerolinewidth\":2},\"yaxis\":{\"gridcolor\":\"white\",\"linecolor\":\"white\",\"ticks\":\"\",\"title\":{\"standoff\":15},\"zerolinecolor\":\"white\",\"automargin\":true,\"zerolinewidth\":2},\"scene\":{\"xaxis\":{\"backgroundcolor\":\"#E5ECF6\",\"gridcolor\":\"white\",\"linecolor\":\"white\",\"showbackground\":true,\"ticks\":\"\",\"zerolinecolor\":\"white\",\"gridwidth\":2},\"yaxis\":{\"backgroundcolor\":\"#E5ECF6\",\"gridcolor\":\"white\",\"linecolor\":\"white\",\"showbackground\":true,\"ticks\":\"\",\"zerolinecolor\":\"white\",\"gridwidth\":2},\"zaxis\":{\"backgroundcolor\":\"#E5ECF6\",\"gridcolor\":\"white\",\"linecolor\":\"white\",\"showbackground\":true,\"ticks\":\"\",\"zerolinecolor\":\"white\",\"gridwidth\":2}},\"shapedefaults\":{\"line\":{\"color\":\"#2a3f5f\"}},\"annotationdefaults\":{\"arrowcolor\":\"#2a3f5f\",\"arrowhead\":0,\"arrowwidth\":1},\"geo\":{\"bgcolor\":\"white\",\"landcolor\":\"#E5ECF6\",\"subunitcolor\":\"white\",\"showland\":true,\"showlakes\":true,\"lakecolor\":\"white\"},\"title\":{\"x\":0.05},\"mapbox\":{\"style\":\"light\"}}},\"xaxis\":{\"anchor\":\"y\",\"domain\":[0.0,1.0],\"title\":{\"text\":\"tax\"}},\"yaxis\":{\"anchor\":\"x\",\"domain\":[0.0,1.0]},\"legend\":{\"tracegroupgap\":0},\"margin\":{\"t\":60},\"boxmode\":\"group\",\"height\":400,\"width\":800},                        {\"responsive\": true}                    ).then(function(){\n",
              "                            \n",
              "var gd = document.getElementById('fb594c26-2850-4b09-ac60-58b1a4bc049d');\n",
              "var x = new MutationObserver(function (mutations, observer) {{\n",
              "        var display = window.getComputedStyle(gd).display;\n",
              "        if (!display || display === 'none') {{\n",
              "            console.log([gd, 'removed!']);\n",
              "            Plotly.purge(gd);\n",
              "            observer.disconnect();\n",
              "        }}\n",
              "}});\n",
              "\n",
              "// Listen for the removal of the full notebook cells\n",
              "var notebookContainer = gd.closest('#notebook-container');\n",
              "if (notebookContainer) {{\n",
              "    x.observe(notebookContainer, {childList: true});\n",
              "}}\n",
              "\n",
              "// Listen for the clearing of the current output cell\n",
              "var outputEl = gd.closest('.output');\n",
              "if (outputEl) {{\n",
              "    x.observe(outputEl, {childList: true});\n",
              "}}\n",
              "\n",
              "                        })                };                            </script>        </div>\n",
              "</body>\n",
              "</html>"
            ]
          },
          "metadata": {}
        }
      ]
    },
    {
      "cell_type": "code",
      "source": [
        "px.box(boston, x=\"ptratio\", width=800, height=400)"
      ],
      "metadata": {
        "colab": {
          "base_uri": "https://localhost:8080/",
          "height": 417
        },
        "id": "bc3sxDPN7y0k",
        "outputId": "f6aef84c-3051-456b-99fe-60eebe922577"
      },
      "execution_count": 26,
      "outputs": [
        {
          "output_type": "display_data",
          "data": {
            "text/html": [
              "<html>\n",
              "<head><meta charset=\"utf-8\" /></head>\n",
              "<body>\n",
              "    <div>            <script src=\"https://cdnjs.cloudflare.com/ajax/libs/mathjax/2.7.5/MathJax.js?config=TeX-AMS-MML_SVG\"></script><script type=\"text/javascript\">if (window.MathJax && window.MathJax.Hub && window.MathJax.Hub.Config) {window.MathJax.Hub.Config({SVG: {font: \"STIX-Web\"}});}</script>                <script type=\"text/javascript\">window.PlotlyConfig = {MathJaxConfig: 'local'};</script>\n",
              "        <script src=\"https://cdn.plot.ly/plotly-2.18.2.min.js\"></script>                <div id=\"54598ac2-017e-45ca-b72f-21f2d7138c32\" class=\"plotly-graph-div\" style=\"height:400px; width:800px;\"></div>            <script type=\"text/javascript\">                                    window.PLOTLYENV=window.PLOTLYENV || {};                                    if (document.getElementById(\"54598ac2-017e-45ca-b72f-21f2d7138c32\")) {                    Plotly.newPlot(                        \"54598ac2-017e-45ca-b72f-21f2d7138c32\",                        [{\"alignmentgroup\":\"True\",\"hovertemplate\":\"ptratio=%{x}<extra></extra>\",\"legendgroup\":\"\",\"marker\":{\"color\":\"#636efa\"},\"name\":\"\",\"notched\":false,\"offsetgroup\":\"\",\"orientation\":\"h\",\"showlegend\":false,\"x\":[15.3,17.8,17.8,18.7,18.7,18.7,15.2,15.2,15.2,15.2,15.2,15.2,15.2,21.0,21.0,21.0,21.0,21.0,21.0,21.0,21.0,21.0,21.0,21.0,21.0,21.0,21.0,21.0,21.0,21.0,21.0,21.0,21.0,21.0,21.0,19.2,19.2,19.2,19.2,18.3,18.3,17.9,17.9,17.9,17.9,17.9,17.9,17.9,17.9,17.9,16.8,16.8,16.8,16.8,21.1,17.9,17.3,15.1,19.7,19.7,19.7,19.7,19.7,19.7,18.6,16.1,16.1,18.9,18.9,18.9,19.2,19.2,19.2,19.2,18.7,18.7,18.7,18.7,18.7,18.7,19.0,19.0,19.0,19.0,18.5,18.5,18.5,18.5,17.8,17.8,17.8,17.8,18.2,18.2,18.2,18.0,18.0,18.0,18.0,18.0,20.9,20.9,20.9,20.9,20.9,20.9,20.9,20.9,20.9,20.9,20.9,17.8,17.8,17.8,17.8,17.8,17.8,17.8,17.8,17.8,19.1,19.1,19.1,19.1,19.1,19.1,19.1,21.2,21.2,21.2,21.2,21.2,21.2,21.2,21.2,21.2,21.2,21.2,21.2,21.2,21.2,21.2,14.7,14.7,14.7,14.7,14.7,14.7,14.7,14.7,14.7,14.7,14.7,14.7,14.7,14.7,14.7,14.7,14.7,14.7,14.7,14.7,14.7,14.7,14.7,14.7,14.7,14.7,14.7,14.7,14.7,14.7,16.6,16.6,16.6,16.6,16.6,16.6,16.6,17.8,17.8,17.8,17.8,17.8,17.8,17.8,17.8,15.2,15.2,15.2,15.2,15.2,15.2,15.6,15.6,14.4,12.6,12.6,12.6,17.0,17.0,14.7,14.7,14.7,14.7,18.6,18.6,18.6,18.6,18.6,18.6,18.6,18.6,18.6,18.6,18.6,16.4,16.4,16.4,16.4,17.4,17.4,17.4,17.4,17.4,17.4,17.4,17.4,17.4,17.4,17.4,17.4,17.4,17.4,17.4,17.4,17.4,17.4,16.6,16.6,16.6,16.6,16.6,16.6,19.1,19.1,19.1,19.1,19.1,19.1,19.1,19.1,19.1,19.1,16.4,16.4,15.9,13.0,13.0,13.0,13.0,13.0,13.0,13.0,13.0,13.0,13.0,13.0,13.0,18.6,18.6,18.6,18.6,18.6,17.6,17.6,17.6,17.6,17.6,14.9,14.9,14.9,14.9,13.6,15.3,15.3,18.2,16.6,16.6,16.6,19.2,19.2,19.2,16.0,16.0,16.0,16.0,16.0,14.8,14.8,14.8,16.1,16.1,16.1,18.4,18.4,18.4,18.4,18.4,18.4,18.4,18.4,18.4,18.4,18.4,18.4,18.4,18.4,18.4,18.4,19.6,19.6,19.6,19.6,19.6,19.6,19.6,19.6,16.9,16.9,16.9,16.9,16.9,20.2,20.2,20.2,20.2,20.2,20.2,20.2,20.2,15.5,15.9,17.6,17.6,18.8,18.8,17.9,17.0,19.7,19.7,18.3,18.3,17.0,22.0,22.0,20.2,20.2,20.2,20.2,20.2,20.2,20.2,20.2,20.2,20.2,20.2,20.2,20.2,20.2,20.2,20.2,20.2,20.2,20.2,20.2,20.2,20.2,20.2,20.2,20.2,20.2,20.2,20.2,20.2,20.2,20.2,20.2,20.2,20.2,20.2,20.2,20.2,20.2,20.2,20.2,20.2,20.2,20.2,20.2,20.2,20.2,20.2,20.2,20.2,20.2,20.2,20.2,20.2,20.2,20.2,20.2,20.2,20.2,20.2,20.2,20.2,20.2,20.2,20.2,20.2,20.2,20.2,20.2,20.2,20.2,20.2,20.2,20.2,20.2,20.2,20.2,20.2,20.2,20.2,20.2,20.2,20.2,20.2,20.2,20.2,20.2,20.2,20.2,20.2,20.2,20.2,20.2,20.2,20.2,20.2,20.2,20.2,20.2,20.2,20.2,20.2,20.2,20.2,20.2,20.2,20.2,20.2,20.2,20.2,20.2,20.2,20.2,20.2,20.2,20.2,20.2,20.2,20.2,20.2,20.2,20.2,20.2,20.2,20.2,20.2,20.2,20.2,20.2,20.2,20.2,20.2,20.2,20.1,20.1,20.1,20.1,20.1,19.2,19.2,19.2,19.2,19.2,19.2,19.2,19.2,21.0,21.0,21.0,21.0,21.0],\"x0\":\" \",\"xaxis\":\"x\",\"y0\":\" \",\"yaxis\":\"y\",\"type\":\"box\"}],                        {\"template\":{\"data\":{\"histogram2dcontour\":[{\"type\":\"histogram2dcontour\",\"colorbar\":{\"outlinewidth\":0,\"ticks\":\"\"},\"colorscale\":[[0.0,\"#0d0887\"],[0.1111111111111111,\"#46039f\"],[0.2222222222222222,\"#7201a8\"],[0.3333333333333333,\"#9c179e\"],[0.4444444444444444,\"#bd3786\"],[0.5555555555555556,\"#d8576b\"],[0.6666666666666666,\"#ed7953\"],[0.7777777777777778,\"#fb9f3a\"],[0.8888888888888888,\"#fdca26\"],[1.0,\"#f0f921\"]]}],\"choropleth\":[{\"type\":\"choropleth\",\"colorbar\":{\"outlinewidth\":0,\"ticks\":\"\"}}],\"histogram2d\":[{\"type\":\"histogram2d\",\"colorbar\":{\"outlinewidth\":0,\"ticks\":\"\"},\"colorscale\":[[0.0,\"#0d0887\"],[0.1111111111111111,\"#46039f\"],[0.2222222222222222,\"#7201a8\"],[0.3333333333333333,\"#9c179e\"],[0.4444444444444444,\"#bd3786\"],[0.5555555555555556,\"#d8576b\"],[0.6666666666666666,\"#ed7953\"],[0.7777777777777778,\"#fb9f3a\"],[0.8888888888888888,\"#fdca26\"],[1.0,\"#f0f921\"]]}],\"heatmap\":[{\"type\":\"heatmap\",\"colorbar\":{\"outlinewidth\":0,\"ticks\":\"\"},\"colorscale\":[[0.0,\"#0d0887\"],[0.1111111111111111,\"#46039f\"],[0.2222222222222222,\"#7201a8\"],[0.3333333333333333,\"#9c179e\"],[0.4444444444444444,\"#bd3786\"],[0.5555555555555556,\"#d8576b\"],[0.6666666666666666,\"#ed7953\"],[0.7777777777777778,\"#fb9f3a\"],[0.8888888888888888,\"#fdca26\"],[1.0,\"#f0f921\"]]}],\"heatmapgl\":[{\"type\":\"heatmapgl\",\"colorbar\":{\"outlinewidth\":0,\"ticks\":\"\"},\"colorscale\":[[0.0,\"#0d0887\"],[0.1111111111111111,\"#46039f\"],[0.2222222222222222,\"#7201a8\"],[0.3333333333333333,\"#9c179e\"],[0.4444444444444444,\"#bd3786\"],[0.5555555555555556,\"#d8576b\"],[0.6666666666666666,\"#ed7953\"],[0.7777777777777778,\"#fb9f3a\"],[0.8888888888888888,\"#fdca26\"],[1.0,\"#f0f921\"]]}],\"contourcarpet\":[{\"type\":\"contourcarpet\",\"colorbar\":{\"outlinewidth\":0,\"ticks\":\"\"}}],\"contour\":[{\"type\":\"contour\",\"colorbar\":{\"outlinewidth\":0,\"ticks\":\"\"},\"colorscale\":[[0.0,\"#0d0887\"],[0.1111111111111111,\"#46039f\"],[0.2222222222222222,\"#7201a8\"],[0.3333333333333333,\"#9c179e\"],[0.4444444444444444,\"#bd3786\"],[0.5555555555555556,\"#d8576b\"],[0.6666666666666666,\"#ed7953\"],[0.7777777777777778,\"#fb9f3a\"],[0.8888888888888888,\"#fdca26\"],[1.0,\"#f0f921\"]]}],\"surface\":[{\"type\":\"surface\",\"colorbar\":{\"outlinewidth\":0,\"ticks\":\"\"},\"colorscale\":[[0.0,\"#0d0887\"],[0.1111111111111111,\"#46039f\"],[0.2222222222222222,\"#7201a8\"],[0.3333333333333333,\"#9c179e\"],[0.4444444444444444,\"#bd3786\"],[0.5555555555555556,\"#d8576b\"],[0.6666666666666666,\"#ed7953\"],[0.7777777777777778,\"#fb9f3a\"],[0.8888888888888888,\"#fdca26\"],[1.0,\"#f0f921\"]]}],\"mesh3d\":[{\"type\":\"mesh3d\",\"colorbar\":{\"outlinewidth\":0,\"ticks\":\"\"}}],\"scatter\":[{\"fillpattern\":{\"fillmode\":\"overlay\",\"size\":10,\"solidity\":0.2},\"type\":\"scatter\"}],\"parcoords\":[{\"type\":\"parcoords\",\"line\":{\"colorbar\":{\"outlinewidth\":0,\"ticks\":\"\"}}}],\"scatterpolargl\":[{\"type\":\"scatterpolargl\",\"marker\":{\"colorbar\":{\"outlinewidth\":0,\"ticks\":\"\"}}}],\"bar\":[{\"error_x\":{\"color\":\"#2a3f5f\"},\"error_y\":{\"color\":\"#2a3f5f\"},\"marker\":{\"line\":{\"color\":\"#E5ECF6\",\"width\":0.5},\"pattern\":{\"fillmode\":\"overlay\",\"size\":10,\"solidity\":0.2}},\"type\":\"bar\"}],\"scattergeo\":[{\"type\":\"scattergeo\",\"marker\":{\"colorbar\":{\"outlinewidth\":0,\"ticks\":\"\"}}}],\"scatterpolar\":[{\"type\":\"scatterpolar\",\"marker\":{\"colorbar\":{\"outlinewidth\":0,\"ticks\":\"\"}}}],\"histogram\":[{\"marker\":{\"pattern\":{\"fillmode\":\"overlay\",\"size\":10,\"solidity\":0.2}},\"type\":\"histogram\"}],\"scattergl\":[{\"type\":\"scattergl\",\"marker\":{\"colorbar\":{\"outlinewidth\":0,\"ticks\":\"\"}}}],\"scatter3d\":[{\"type\":\"scatter3d\",\"line\":{\"colorbar\":{\"outlinewidth\":0,\"ticks\":\"\"}},\"marker\":{\"colorbar\":{\"outlinewidth\":0,\"ticks\":\"\"}}}],\"scattermapbox\":[{\"type\":\"scattermapbox\",\"marker\":{\"colorbar\":{\"outlinewidth\":0,\"ticks\":\"\"}}}],\"scatterternary\":[{\"type\":\"scatterternary\",\"marker\":{\"colorbar\":{\"outlinewidth\":0,\"ticks\":\"\"}}}],\"scattercarpet\":[{\"type\":\"scattercarpet\",\"marker\":{\"colorbar\":{\"outlinewidth\":0,\"ticks\":\"\"}}}],\"carpet\":[{\"aaxis\":{\"endlinecolor\":\"#2a3f5f\",\"gridcolor\":\"white\",\"linecolor\":\"white\",\"minorgridcolor\":\"white\",\"startlinecolor\":\"#2a3f5f\"},\"baxis\":{\"endlinecolor\":\"#2a3f5f\",\"gridcolor\":\"white\",\"linecolor\":\"white\",\"minorgridcolor\":\"white\",\"startlinecolor\":\"#2a3f5f\"},\"type\":\"carpet\"}],\"table\":[{\"cells\":{\"fill\":{\"color\":\"#EBF0F8\"},\"line\":{\"color\":\"white\"}},\"header\":{\"fill\":{\"color\":\"#C8D4E3\"},\"line\":{\"color\":\"white\"}},\"type\":\"table\"}],\"barpolar\":[{\"marker\":{\"line\":{\"color\":\"#E5ECF6\",\"width\":0.5},\"pattern\":{\"fillmode\":\"overlay\",\"size\":10,\"solidity\":0.2}},\"type\":\"barpolar\"}],\"pie\":[{\"automargin\":true,\"type\":\"pie\"}]},\"layout\":{\"autotypenumbers\":\"strict\",\"colorway\":[\"#636efa\",\"#EF553B\",\"#00cc96\",\"#ab63fa\",\"#FFA15A\",\"#19d3f3\",\"#FF6692\",\"#B6E880\",\"#FF97FF\",\"#FECB52\"],\"font\":{\"color\":\"#2a3f5f\"},\"hovermode\":\"closest\",\"hoverlabel\":{\"align\":\"left\"},\"paper_bgcolor\":\"white\",\"plot_bgcolor\":\"#E5ECF6\",\"polar\":{\"bgcolor\":\"#E5ECF6\",\"angularaxis\":{\"gridcolor\":\"white\",\"linecolor\":\"white\",\"ticks\":\"\"},\"radialaxis\":{\"gridcolor\":\"white\",\"linecolor\":\"white\",\"ticks\":\"\"}},\"ternary\":{\"bgcolor\":\"#E5ECF6\",\"aaxis\":{\"gridcolor\":\"white\",\"linecolor\":\"white\",\"ticks\":\"\"},\"baxis\":{\"gridcolor\":\"white\",\"linecolor\":\"white\",\"ticks\":\"\"},\"caxis\":{\"gridcolor\":\"white\",\"linecolor\":\"white\",\"ticks\":\"\"}},\"coloraxis\":{\"colorbar\":{\"outlinewidth\":0,\"ticks\":\"\"}},\"colorscale\":{\"sequential\":[[0.0,\"#0d0887\"],[0.1111111111111111,\"#46039f\"],[0.2222222222222222,\"#7201a8\"],[0.3333333333333333,\"#9c179e\"],[0.4444444444444444,\"#bd3786\"],[0.5555555555555556,\"#d8576b\"],[0.6666666666666666,\"#ed7953\"],[0.7777777777777778,\"#fb9f3a\"],[0.8888888888888888,\"#fdca26\"],[1.0,\"#f0f921\"]],\"sequentialminus\":[[0.0,\"#0d0887\"],[0.1111111111111111,\"#46039f\"],[0.2222222222222222,\"#7201a8\"],[0.3333333333333333,\"#9c179e\"],[0.4444444444444444,\"#bd3786\"],[0.5555555555555556,\"#d8576b\"],[0.6666666666666666,\"#ed7953\"],[0.7777777777777778,\"#fb9f3a\"],[0.8888888888888888,\"#fdca26\"],[1.0,\"#f0f921\"]],\"diverging\":[[0,\"#8e0152\"],[0.1,\"#c51b7d\"],[0.2,\"#de77ae\"],[0.3,\"#f1b6da\"],[0.4,\"#fde0ef\"],[0.5,\"#f7f7f7\"],[0.6,\"#e6f5d0\"],[0.7,\"#b8e186\"],[0.8,\"#7fbc41\"],[0.9,\"#4d9221\"],[1,\"#276419\"]]},\"xaxis\":{\"gridcolor\":\"white\",\"linecolor\":\"white\",\"ticks\":\"\",\"title\":{\"standoff\":15},\"zerolinecolor\":\"white\",\"automargin\":true,\"zerolinewidth\":2},\"yaxis\":{\"gridcolor\":\"white\",\"linecolor\":\"white\",\"ticks\":\"\",\"title\":{\"standoff\":15},\"zerolinecolor\":\"white\",\"automargin\":true,\"zerolinewidth\":2},\"scene\":{\"xaxis\":{\"backgroundcolor\":\"#E5ECF6\",\"gridcolor\":\"white\",\"linecolor\":\"white\",\"showbackground\":true,\"ticks\":\"\",\"zerolinecolor\":\"white\",\"gridwidth\":2},\"yaxis\":{\"backgroundcolor\":\"#E5ECF6\",\"gridcolor\":\"white\",\"linecolor\":\"white\",\"showbackground\":true,\"ticks\":\"\",\"zerolinecolor\":\"white\",\"gridwidth\":2},\"zaxis\":{\"backgroundcolor\":\"#E5ECF6\",\"gridcolor\":\"white\",\"linecolor\":\"white\",\"showbackground\":true,\"ticks\":\"\",\"zerolinecolor\":\"white\",\"gridwidth\":2}},\"shapedefaults\":{\"line\":{\"color\":\"#2a3f5f\"}},\"annotationdefaults\":{\"arrowcolor\":\"#2a3f5f\",\"arrowhead\":0,\"arrowwidth\":1},\"geo\":{\"bgcolor\":\"white\",\"landcolor\":\"#E5ECF6\",\"subunitcolor\":\"white\",\"showland\":true,\"showlakes\":true,\"lakecolor\":\"white\"},\"title\":{\"x\":0.05},\"mapbox\":{\"style\":\"light\"}}},\"xaxis\":{\"anchor\":\"y\",\"domain\":[0.0,1.0],\"title\":{\"text\":\"ptratio\"}},\"yaxis\":{\"anchor\":\"x\",\"domain\":[0.0,1.0]},\"legend\":{\"tracegroupgap\":0},\"margin\":{\"t\":60},\"boxmode\":\"group\",\"height\":400,\"width\":800},                        {\"responsive\": true}                    ).then(function(){\n",
              "                            \n",
              "var gd = document.getElementById('54598ac2-017e-45ca-b72f-21f2d7138c32');\n",
              "var x = new MutationObserver(function (mutations, observer) {{\n",
              "        var display = window.getComputedStyle(gd).display;\n",
              "        if (!display || display === 'none') {{\n",
              "            console.log([gd, 'removed!']);\n",
              "            Plotly.purge(gd);\n",
              "            observer.disconnect();\n",
              "        }}\n",
              "}});\n",
              "\n",
              "// Listen for the removal of the full notebook cells\n",
              "var notebookContainer = gd.closest('#notebook-container');\n",
              "if (notebookContainer) {{\n",
              "    x.observe(notebookContainer, {childList: true});\n",
              "}}\n",
              "\n",
              "// Listen for the clearing of the current output cell\n",
              "var outputEl = gd.closest('.output');\n",
              "if (outputEl) {{\n",
              "    x.observe(outputEl, {childList: true});\n",
              "}}\n",
              "\n",
              "                        })                };                            </script>        </div>\n",
              "</body>\n",
              "</html>"
            ]
          },
          "metadata": {}
        }
      ]
    },
    {
      "cell_type": "markdown",
      "metadata": {
        "id": "omQFu2PLZVcw"
      },
      "source": [
        "Запишем объект в файл со значениями, разделенными запятыми (csv)."
      ]
    },
    {
      "cell_type": "code",
      "source": [
        "px.box(boston, x=\"black\", width=800, height=400)"
      ],
      "metadata": {
        "colab": {
          "base_uri": "https://localhost:8080/",
          "height": 417
        },
        "id": "jmMnUEao7-40",
        "outputId": "7c5e83ae-0220-4cac-f2b5-e25d52c967de"
      },
      "execution_count": 27,
      "outputs": [
        {
          "output_type": "display_data",
          "data": {
            "text/html": [
              "<html>\n",
              "<head><meta charset=\"utf-8\" /></head>\n",
              "<body>\n",
              "    <div>            <script src=\"https://cdnjs.cloudflare.com/ajax/libs/mathjax/2.7.5/MathJax.js?config=TeX-AMS-MML_SVG\"></script><script type=\"text/javascript\">if (window.MathJax && window.MathJax.Hub && window.MathJax.Hub.Config) {window.MathJax.Hub.Config({SVG: {font: \"STIX-Web\"}});}</script>                <script type=\"text/javascript\">window.PlotlyConfig = {MathJaxConfig: 'local'};</script>\n",
              "        <script src=\"https://cdn.plot.ly/plotly-2.18.2.min.js\"></script>                <div id=\"a9dfbfe0-a0e3-4e83-9ccb-46b440604192\" class=\"plotly-graph-div\" style=\"height:400px; width:800px;\"></div>            <script type=\"text/javascript\">                                    window.PLOTLYENV=window.PLOTLYENV || {};                                    if (document.getElementById(\"a9dfbfe0-a0e3-4e83-9ccb-46b440604192\")) {                    Plotly.newPlot(                        \"a9dfbfe0-a0e3-4e83-9ccb-46b440604192\",                        [{\"alignmentgroup\":\"True\",\"hovertemplate\":\"black=%{x}<extra></extra>\",\"legendgroup\":\"\",\"marker\":{\"color\":\"#636efa\"},\"name\":\"\",\"notched\":false,\"offsetgroup\":\"\",\"orientation\":\"h\",\"showlegend\":false,\"x\":[396.9,396.9,392.83,394.63,396.9,394.12,395.6,396.9,386.63,386.71,392.52,396.9,390.5,396.9,380.02,395.62,386.85,386.75,288.99,390.95,376.57,392.53,396.9,394.54,394.33,303.42,376.88,306.38,387.94,380.23,360.17,376.73,232.6,358.77,248.31,396.9,377.56,396.9,393.43,395.63,395.62,385.41,383.37,394.46,389.39,396.9,396.9,392.74,396.9,396.9,395.56,393.97,396.9,396.9,396.9,395.93,396.9,392.9,390.68,396.9,395.11,378.08,396.9,395.58,393.24,396.9,396.9,396.21,396.9,396.9,383.73,376.94,390.91,377.17,394.92,383.23,373.66,386.96,386.4,396.06,396.9,395.63,396.9,390.64,396.9,392.3,395.99,395.15,396.9,396.06,392.18,393.55,395.01,396.33,396.9,357.98,391.83,396.9,393.53,396.9,394.76,395.58,70.8,394.47,392.69,394.05,395.67,387.69,395.24,391.23,393.49,395.59,394.95,396.9,388.74,344.91,393.3,394.51,338.63,391.5,389.15,377.67,378.09,370.31,379.38,385.02,359.29,392.11,396.9,396.9,395.04,396.9,385.76,388.69,262.76,394.67,378.25,394.08,392.04,396.9,388.08,396.9,396.9,396.9,396.9,172.91,169.27,391.71,356.99,351.85,372.8,341.6,343.28,261.95,321.02,88.01,88.63,363.43,353.89,364.31,338.92,374.43,389.61,388.45,395.11,240.16,369.3,227.61,297.09,330.04,292.29,348.13,396.9,395.5,393.23,390.96,393.23,395.6,391.27,396.9,395.56,396.9,394.12,396.9,391.0,387.11,392.63,393.87,382.84,396.9,377.68,389.71,390.49,393.37,376.7,394.23,396.9,354.31,392.2,396.9,384.3,393.77,395.38,392.78,390.55,396.9,394.87,389.43,381.32,396.9,393.25,395.24,390.94,385.81,348.93,393.63,392.8,392.78,396.9,393.74,391.7,395.24,390.39,396.9,385.05,382.0,387.38,372.08,377.51,380.34,378.35,376.14,385.91,378.95,360.2,376.75,388.45,390.07,379.41,383.78,391.25,394.62,372.75,374.71,372.49,389.13,390.18,376.14,374.71,393.74,396.28,377.07,386.09,396.9,392.89,395.18,386.34,389.7,383.29,391.93,392.8,388.37,386.86,393.42,387.89,392.4,384.07,384.54,390.3,391.34,388.65,396.9,394.96,390.77,396.9,396.9,389.25,393.45,396.9,396.9,387.31,392.23,377.07,395.52,394.72,394.72,341.6,396.9,396.9,371.72,396.9,396.9,396.9,396.9,396.9,396.9,392.85,396.9,368.24,371.58,390.86,395.75,383.61,390.43,393.68,393.36,396.9,396.9,396.9,396.24,350.45,396.9,396.3,393.39,395.69,396.42,390.7,396.9,395.21,396.23,396.9,396.9,396.9,391.13,396.9,393.68,396.9,396.9,382.44,375.21,368.57,394.02,362.25,389.71,389.4,396.9,396.9,394.81,396.14,396.9,396.9,394.74,389.96,396.9,387.97,385.64,364.61,392.43,390.94,389.85,396.9,370.78,392.33,384.46,382.8,376.04,377.73,391.34,395.43,390.74,374.56,350.65,380.79,353.04,354.55,354.7,316.03,131.42,375.52,375.33,392.05,366.15,347.88,396.9,396.9,396.9,363.02,396.9,396.9,393.74,396.9,396.9,396.9,396.9,285.83,396.9,396.9,396.9,372.92,396.9,394.43,378.38,396.9,396.9,396.9,391.98,396.9,393.1,396.9,338.16,396.9,396.9,376.11,396.9,329.46,384.97,370.22,332.09,314.64,179.36,2.6,35.05,28.79,210.97,88.27,27.25,21.57,127.36,16.45,48.45,318.75,319.98,291.55,2.52,3.65,7.68,24.65,18.82,96.73,60.72,83.45,81.33,97.95,100.19,100.63,109.85,27.49,9.32,68.95,396.9,391.45,385.96,395.69,386.73,240.52,43.06,318.01,388.52,396.9,304.21,0.32,355.29,385.09,375.87,6.68,50.92,10.48,3.5,272.21,396.9,255.23,391.43,396.9,393.82,396.9,334.4,22.01,331.29,368.74,396.9,396.9,395.33,393.37,374.68,352.58,302.76,396.21,349.48,379.7,383.32,396.9,393.07,395.28,392.92,370.73,388.62,392.68,388.22,395.09,344.05,318.43,390.11,396.9,396.9,396.9,393.29,396.9,396.9,396.9,395.77,396.9,391.99,396.9,396.9,393.45,396.9],\"x0\":\" \",\"xaxis\":\"x\",\"y0\":\" \",\"yaxis\":\"y\",\"type\":\"box\"}],                        {\"template\":{\"data\":{\"histogram2dcontour\":[{\"type\":\"histogram2dcontour\",\"colorbar\":{\"outlinewidth\":0,\"ticks\":\"\"},\"colorscale\":[[0.0,\"#0d0887\"],[0.1111111111111111,\"#46039f\"],[0.2222222222222222,\"#7201a8\"],[0.3333333333333333,\"#9c179e\"],[0.4444444444444444,\"#bd3786\"],[0.5555555555555556,\"#d8576b\"],[0.6666666666666666,\"#ed7953\"],[0.7777777777777778,\"#fb9f3a\"],[0.8888888888888888,\"#fdca26\"],[1.0,\"#f0f921\"]]}],\"choropleth\":[{\"type\":\"choropleth\",\"colorbar\":{\"outlinewidth\":0,\"ticks\":\"\"}}],\"histogram2d\":[{\"type\":\"histogram2d\",\"colorbar\":{\"outlinewidth\":0,\"ticks\":\"\"},\"colorscale\":[[0.0,\"#0d0887\"],[0.1111111111111111,\"#46039f\"],[0.2222222222222222,\"#7201a8\"],[0.3333333333333333,\"#9c179e\"],[0.4444444444444444,\"#bd3786\"],[0.5555555555555556,\"#d8576b\"],[0.6666666666666666,\"#ed7953\"],[0.7777777777777778,\"#fb9f3a\"],[0.8888888888888888,\"#fdca26\"],[1.0,\"#f0f921\"]]}],\"heatmap\":[{\"type\":\"heatmap\",\"colorbar\":{\"outlinewidth\":0,\"ticks\":\"\"},\"colorscale\":[[0.0,\"#0d0887\"],[0.1111111111111111,\"#46039f\"],[0.2222222222222222,\"#7201a8\"],[0.3333333333333333,\"#9c179e\"],[0.4444444444444444,\"#bd3786\"],[0.5555555555555556,\"#d8576b\"],[0.6666666666666666,\"#ed7953\"],[0.7777777777777778,\"#fb9f3a\"],[0.8888888888888888,\"#fdca26\"],[1.0,\"#f0f921\"]]}],\"heatmapgl\":[{\"type\":\"heatmapgl\",\"colorbar\":{\"outlinewidth\":0,\"ticks\":\"\"},\"colorscale\":[[0.0,\"#0d0887\"],[0.1111111111111111,\"#46039f\"],[0.2222222222222222,\"#7201a8\"],[0.3333333333333333,\"#9c179e\"],[0.4444444444444444,\"#bd3786\"],[0.5555555555555556,\"#d8576b\"],[0.6666666666666666,\"#ed7953\"],[0.7777777777777778,\"#fb9f3a\"],[0.8888888888888888,\"#fdca26\"],[1.0,\"#f0f921\"]]}],\"contourcarpet\":[{\"type\":\"contourcarpet\",\"colorbar\":{\"outlinewidth\":0,\"ticks\":\"\"}}],\"contour\":[{\"type\":\"contour\",\"colorbar\":{\"outlinewidth\":0,\"ticks\":\"\"},\"colorscale\":[[0.0,\"#0d0887\"],[0.1111111111111111,\"#46039f\"],[0.2222222222222222,\"#7201a8\"],[0.3333333333333333,\"#9c179e\"],[0.4444444444444444,\"#bd3786\"],[0.5555555555555556,\"#d8576b\"],[0.6666666666666666,\"#ed7953\"],[0.7777777777777778,\"#fb9f3a\"],[0.8888888888888888,\"#fdca26\"],[1.0,\"#f0f921\"]]}],\"surface\":[{\"type\":\"surface\",\"colorbar\":{\"outlinewidth\":0,\"ticks\":\"\"},\"colorscale\":[[0.0,\"#0d0887\"],[0.1111111111111111,\"#46039f\"],[0.2222222222222222,\"#7201a8\"],[0.3333333333333333,\"#9c179e\"],[0.4444444444444444,\"#bd3786\"],[0.5555555555555556,\"#d8576b\"],[0.6666666666666666,\"#ed7953\"],[0.7777777777777778,\"#fb9f3a\"],[0.8888888888888888,\"#fdca26\"],[1.0,\"#f0f921\"]]}],\"mesh3d\":[{\"type\":\"mesh3d\",\"colorbar\":{\"outlinewidth\":0,\"ticks\":\"\"}}],\"scatter\":[{\"fillpattern\":{\"fillmode\":\"overlay\",\"size\":10,\"solidity\":0.2},\"type\":\"scatter\"}],\"parcoords\":[{\"type\":\"parcoords\",\"line\":{\"colorbar\":{\"outlinewidth\":0,\"ticks\":\"\"}}}],\"scatterpolargl\":[{\"type\":\"scatterpolargl\",\"marker\":{\"colorbar\":{\"outlinewidth\":0,\"ticks\":\"\"}}}],\"bar\":[{\"error_x\":{\"color\":\"#2a3f5f\"},\"error_y\":{\"color\":\"#2a3f5f\"},\"marker\":{\"line\":{\"color\":\"#E5ECF6\",\"width\":0.5},\"pattern\":{\"fillmode\":\"overlay\",\"size\":10,\"solidity\":0.2}},\"type\":\"bar\"}],\"scattergeo\":[{\"type\":\"scattergeo\",\"marker\":{\"colorbar\":{\"outlinewidth\":0,\"ticks\":\"\"}}}],\"scatterpolar\":[{\"type\":\"scatterpolar\",\"marker\":{\"colorbar\":{\"outlinewidth\":0,\"ticks\":\"\"}}}],\"histogram\":[{\"marker\":{\"pattern\":{\"fillmode\":\"overlay\",\"size\":10,\"solidity\":0.2}},\"type\":\"histogram\"}],\"scattergl\":[{\"type\":\"scattergl\",\"marker\":{\"colorbar\":{\"outlinewidth\":0,\"ticks\":\"\"}}}],\"scatter3d\":[{\"type\":\"scatter3d\",\"line\":{\"colorbar\":{\"outlinewidth\":0,\"ticks\":\"\"}},\"marker\":{\"colorbar\":{\"outlinewidth\":0,\"ticks\":\"\"}}}],\"scattermapbox\":[{\"type\":\"scattermapbox\",\"marker\":{\"colorbar\":{\"outlinewidth\":0,\"ticks\":\"\"}}}],\"scatterternary\":[{\"type\":\"scatterternary\",\"marker\":{\"colorbar\":{\"outlinewidth\":0,\"ticks\":\"\"}}}],\"scattercarpet\":[{\"type\":\"scattercarpet\",\"marker\":{\"colorbar\":{\"outlinewidth\":0,\"ticks\":\"\"}}}],\"carpet\":[{\"aaxis\":{\"endlinecolor\":\"#2a3f5f\",\"gridcolor\":\"white\",\"linecolor\":\"white\",\"minorgridcolor\":\"white\",\"startlinecolor\":\"#2a3f5f\"},\"baxis\":{\"endlinecolor\":\"#2a3f5f\",\"gridcolor\":\"white\",\"linecolor\":\"white\",\"minorgridcolor\":\"white\",\"startlinecolor\":\"#2a3f5f\"},\"type\":\"carpet\"}],\"table\":[{\"cells\":{\"fill\":{\"color\":\"#EBF0F8\"},\"line\":{\"color\":\"white\"}},\"header\":{\"fill\":{\"color\":\"#C8D4E3\"},\"line\":{\"color\":\"white\"}},\"type\":\"table\"}],\"barpolar\":[{\"marker\":{\"line\":{\"color\":\"#E5ECF6\",\"width\":0.5},\"pattern\":{\"fillmode\":\"overlay\",\"size\":10,\"solidity\":0.2}},\"type\":\"barpolar\"}],\"pie\":[{\"automargin\":true,\"type\":\"pie\"}]},\"layout\":{\"autotypenumbers\":\"strict\",\"colorway\":[\"#636efa\",\"#EF553B\",\"#00cc96\",\"#ab63fa\",\"#FFA15A\",\"#19d3f3\",\"#FF6692\",\"#B6E880\",\"#FF97FF\",\"#FECB52\"],\"font\":{\"color\":\"#2a3f5f\"},\"hovermode\":\"closest\",\"hoverlabel\":{\"align\":\"left\"},\"paper_bgcolor\":\"white\",\"plot_bgcolor\":\"#E5ECF6\",\"polar\":{\"bgcolor\":\"#E5ECF6\",\"angularaxis\":{\"gridcolor\":\"white\",\"linecolor\":\"white\",\"ticks\":\"\"},\"radialaxis\":{\"gridcolor\":\"white\",\"linecolor\":\"white\",\"ticks\":\"\"}},\"ternary\":{\"bgcolor\":\"#E5ECF6\",\"aaxis\":{\"gridcolor\":\"white\",\"linecolor\":\"white\",\"ticks\":\"\"},\"baxis\":{\"gridcolor\":\"white\",\"linecolor\":\"white\",\"ticks\":\"\"},\"caxis\":{\"gridcolor\":\"white\",\"linecolor\":\"white\",\"ticks\":\"\"}},\"coloraxis\":{\"colorbar\":{\"outlinewidth\":0,\"ticks\":\"\"}},\"colorscale\":{\"sequential\":[[0.0,\"#0d0887\"],[0.1111111111111111,\"#46039f\"],[0.2222222222222222,\"#7201a8\"],[0.3333333333333333,\"#9c179e\"],[0.4444444444444444,\"#bd3786\"],[0.5555555555555556,\"#d8576b\"],[0.6666666666666666,\"#ed7953\"],[0.7777777777777778,\"#fb9f3a\"],[0.8888888888888888,\"#fdca26\"],[1.0,\"#f0f921\"]],\"sequentialminus\":[[0.0,\"#0d0887\"],[0.1111111111111111,\"#46039f\"],[0.2222222222222222,\"#7201a8\"],[0.3333333333333333,\"#9c179e\"],[0.4444444444444444,\"#bd3786\"],[0.5555555555555556,\"#d8576b\"],[0.6666666666666666,\"#ed7953\"],[0.7777777777777778,\"#fb9f3a\"],[0.8888888888888888,\"#fdca26\"],[1.0,\"#f0f921\"]],\"diverging\":[[0,\"#8e0152\"],[0.1,\"#c51b7d\"],[0.2,\"#de77ae\"],[0.3,\"#f1b6da\"],[0.4,\"#fde0ef\"],[0.5,\"#f7f7f7\"],[0.6,\"#e6f5d0\"],[0.7,\"#b8e186\"],[0.8,\"#7fbc41\"],[0.9,\"#4d9221\"],[1,\"#276419\"]]},\"xaxis\":{\"gridcolor\":\"white\",\"linecolor\":\"white\",\"ticks\":\"\",\"title\":{\"standoff\":15},\"zerolinecolor\":\"white\",\"automargin\":true,\"zerolinewidth\":2},\"yaxis\":{\"gridcolor\":\"white\",\"linecolor\":\"white\",\"ticks\":\"\",\"title\":{\"standoff\":15},\"zerolinecolor\":\"white\",\"automargin\":true,\"zerolinewidth\":2},\"scene\":{\"xaxis\":{\"backgroundcolor\":\"#E5ECF6\",\"gridcolor\":\"white\",\"linecolor\":\"white\",\"showbackground\":true,\"ticks\":\"\",\"zerolinecolor\":\"white\",\"gridwidth\":2},\"yaxis\":{\"backgroundcolor\":\"#E5ECF6\",\"gridcolor\":\"white\",\"linecolor\":\"white\",\"showbackground\":true,\"ticks\":\"\",\"zerolinecolor\":\"white\",\"gridwidth\":2},\"zaxis\":{\"backgroundcolor\":\"#E5ECF6\",\"gridcolor\":\"white\",\"linecolor\":\"white\",\"showbackground\":true,\"ticks\":\"\",\"zerolinecolor\":\"white\",\"gridwidth\":2}},\"shapedefaults\":{\"line\":{\"color\":\"#2a3f5f\"}},\"annotationdefaults\":{\"arrowcolor\":\"#2a3f5f\",\"arrowhead\":0,\"arrowwidth\":1},\"geo\":{\"bgcolor\":\"white\",\"landcolor\":\"#E5ECF6\",\"subunitcolor\":\"white\",\"showland\":true,\"showlakes\":true,\"lakecolor\":\"white\"},\"title\":{\"x\":0.05},\"mapbox\":{\"style\":\"light\"}}},\"xaxis\":{\"anchor\":\"y\",\"domain\":[0.0,1.0],\"title\":{\"text\":\"black\"}},\"yaxis\":{\"anchor\":\"x\",\"domain\":[0.0,1.0]},\"legend\":{\"tracegroupgap\":0},\"margin\":{\"t\":60},\"boxmode\":\"group\",\"height\":400,\"width\":800},                        {\"responsive\": true}                    ).then(function(){\n",
              "                            \n",
              "var gd = document.getElementById('a9dfbfe0-a0e3-4e83-9ccb-46b440604192');\n",
              "var x = new MutationObserver(function (mutations, observer) {{\n",
              "        var display = window.getComputedStyle(gd).display;\n",
              "        if (!display || display === 'none') {{\n",
              "            console.log([gd, 'removed!']);\n",
              "            Plotly.purge(gd);\n",
              "            observer.disconnect();\n",
              "        }}\n",
              "}});\n",
              "\n",
              "// Listen for the removal of the full notebook cells\n",
              "var notebookContainer = gd.closest('#notebook-container');\n",
              "if (notebookContainer) {{\n",
              "    x.observe(notebookContainer, {childList: true});\n",
              "}}\n",
              "\n",
              "// Listen for the clearing of the current output cell\n",
              "var outputEl = gd.closest('.output');\n",
              "if (outputEl) {{\n",
              "    x.observe(outputEl, {childList: true});\n",
              "}}\n",
              "\n",
              "                        })                };                            </script>        </div>\n",
              "</body>\n",
              "</html>"
            ]
          },
          "metadata": {}
        }
      ]
    },
    {
      "cell_type": "code",
      "source": [
        "px.box(boston, x=\"lstat\", width=800, height=400)"
      ],
      "metadata": {
        "colab": {
          "base_uri": "https://localhost:8080/",
          "height": 417
        },
        "id": "tEqjeRpO7-1Z",
        "outputId": "d798fe81-c5d8-42f5-f94f-a93565254e1f"
      },
      "execution_count": 28,
      "outputs": [
        {
          "output_type": "display_data",
          "data": {
            "text/html": [
              "<html>\n",
              "<head><meta charset=\"utf-8\" /></head>\n",
              "<body>\n",
              "    <div>            <script src=\"https://cdnjs.cloudflare.com/ajax/libs/mathjax/2.7.5/MathJax.js?config=TeX-AMS-MML_SVG\"></script><script type=\"text/javascript\">if (window.MathJax && window.MathJax.Hub && window.MathJax.Hub.Config) {window.MathJax.Hub.Config({SVG: {font: \"STIX-Web\"}});}</script>                <script type=\"text/javascript\">window.PlotlyConfig = {MathJaxConfig: 'local'};</script>\n",
              "        <script src=\"https://cdn.plot.ly/plotly-2.18.2.min.js\"></script>                <div id=\"0a851f33-f2de-4109-af1b-c7634ac63bf3\" class=\"plotly-graph-div\" style=\"height:400px; width:800px;\"></div>            <script type=\"text/javascript\">                                    window.PLOTLYENV=window.PLOTLYENV || {};                                    if (document.getElementById(\"0a851f33-f2de-4109-af1b-c7634ac63bf3\")) {                    Plotly.newPlot(                        \"0a851f33-f2de-4109-af1b-c7634ac63bf3\",                        [{\"alignmentgroup\":\"True\",\"hovertemplate\":\"lstat=%{x}<extra></extra>\",\"legendgroup\":\"\",\"marker\":{\"color\":\"#636efa\"},\"name\":\"\",\"notched\":false,\"offsetgroup\":\"\",\"orientation\":\"h\",\"showlegend\":false,\"x\":[4.98,9.14,4.03,2.94,5.33,5.21,12.43,19.15,29.93,17.1,20.45,13.27,15.71,8.26,10.26,8.47,6.58,14.67,11.69,11.28,21.02,13.83,18.72,19.88,16.3,16.51,14.81,17.28,12.8,11.98,22.6,13.04,27.71,18.35,20.34,9.68,11.41,8.77,10.13,4.32,1.98,4.84,5.81,7.44,9.55,10.21,14.15,18.8,30.81,16.2,13.45,9.43,5.28,8.43,14.8,4.81,5.77,3.95,6.86,9.22,13.15,14.44,6.73,9.5,8.05,4.67,10.24,8.1,13.09,8.79,6.72,9.88,5.52,7.54,6.78,8.94,11.97,10.27,12.34,9.1,5.29,7.22,6.72,7.51,9.62,6.53,12.86,8.44,5.5,5.7,8.81,8.2,8.16,6.21,10.59,6.65,11.34,4.21,3.57,6.19,9.42,7.67,10.63,13.44,12.33,16.47,18.66,14.09,12.27,15.55,13.0,10.16,16.21,17.09,10.45,15.76,12.04,10.3,15.37,13.61,14.37,14.27,17.93,25.41,17.58,14.81,27.26,17.19,15.39,18.34,12.6,12.26,11.12,15.03,17.31,16.96,16.9,14.59,21.32,18.46,24.16,34.41,26.82,26.42,29.29,27.8,16.65,29.53,28.32,21.45,14.1,13.28,12.12,15.79,15.12,15.02,16.14,4.59,6.43,7.39,5.5,1.73,1.92,3.32,11.64,9.81,3.7,12.14,11.1,11.32,14.43,12.03,14.69,9.04,9.64,5.33,10.11,6.29,6.92,5.04,7.56,9.45,4.82,5.68,13.98,13.15,4.45,6.68,4.56,5.39,5.1,4.69,2.87,5.03,4.38,2.97,4.08,8.61,6.62,4.56,4.45,7.43,3.11,3.81,2.88,10.87,10.97,18.06,14.66,23.09,17.27,23.98,16.03,9.38,29.55,9.47,13.51,9.69,17.92,10.5,9.71,21.46,9.93,7.6,4.14,4.63,3.13,6.36,3.92,3.76,11.65,5.25,2.47,3.95,8.05,10.88,9.54,4.73,6.36,7.37,11.38,12.4,11.22,5.19,12.5,18.46,9.16,10.15,9.52,6.56,5.9,3.59,3.53,3.54,6.57,9.25,3.11,5.12,7.79,6.9,9.59,7.26,5.91,11.25,8.1,10.45,14.79,7.44,3.16,13.65,13.0,6.59,7.73,6.58,3.53,2.98,6.05,4.16,7.19,4.85,3.76,4.59,3.01,3.16,7.85,8.23,12.93,7.14,7.6,9.51,3.33,3.56,4.7,8.58,10.4,6.27,7.39,15.84,4.97,4.74,6.07,9.5,8.67,4.86,6.93,8.93,6.47,7.53,4.54,9.97,12.64,5.98,11.72,7.9,9.28,11.5,18.33,15.94,10.36,12.73,7.2,6.87,7.7,11.74,6.12,5.08,6.15,12.79,9.97,7.34,9.09,12.43,7.83,5.68,6.75,8.01,9.8,10.56,8.51,9.74,9.29,5.49,8.65,7.18,4.61,10.53,12.67,6.36,5.99,5.89,5.98,5.49,7.79,4.5,8.05,5.57,17.6,13.27,11.48,12.67,7.79,14.19,10.19,14.64,5.29,7.12,14.0,13.33,3.26,3.73,2.96,9.53,8.88,34.77,37.97,13.44,23.24,21.24,23.69,21.78,17.21,21.08,23.6,24.56,30.63,30.81,28.28,31.99,30.62,20.85,17.11,18.76,25.68,15.17,16.35,17.12,19.37,19.92,30.59,29.97,26.77,20.32,20.31,19.77,27.38,22.98,23.34,12.13,26.4,19.78,10.11,21.22,34.37,20.08,36.98,29.05,25.79,26.64,20.62,22.74,15.02,15.7,14.1,23.29,17.16,24.39,15.69,14.52,21.52,24.08,17.64,19.69,12.03,16.22,15.17,23.27,18.05,26.45,34.02,22.88,22.11,19.52,16.59,18.85,23.79,23.98,17.79,16.44,18.13,19.31,17.44,17.73,17.27,16.74,18.71,18.13,19.01,16.94,16.23,14.7,16.42,14.65,13.99,10.29,13.22,14.13,17.15,21.32,18.13,14.76,16.29,12.87,14.36,11.66,18.14,24.1,18.68,24.91,18.03,13.11,10.74,7.74,7.01,10.42,13.34,10.58,14.98,11.45,18.06,23.97,29.68,18.07,13.35,12.01,13.59,17.6,21.14,14.1,12.92,15.1,14.33,9.67,9.08,5.64,6.48,7.88],\"x0\":\" \",\"xaxis\":\"x\",\"y0\":\" \",\"yaxis\":\"y\",\"type\":\"box\"}],                        {\"template\":{\"data\":{\"histogram2dcontour\":[{\"type\":\"histogram2dcontour\",\"colorbar\":{\"outlinewidth\":0,\"ticks\":\"\"},\"colorscale\":[[0.0,\"#0d0887\"],[0.1111111111111111,\"#46039f\"],[0.2222222222222222,\"#7201a8\"],[0.3333333333333333,\"#9c179e\"],[0.4444444444444444,\"#bd3786\"],[0.5555555555555556,\"#d8576b\"],[0.6666666666666666,\"#ed7953\"],[0.7777777777777778,\"#fb9f3a\"],[0.8888888888888888,\"#fdca26\"],[1.0,\"#f0f921\"]]}],\"choropleth\":[{\"type\":\"choropleth\",\"colorbar\":{\"outlinewidth\":0,\"ticks\":\"\"}}],\"histogram2d\":[{\"type\":\"histogram2d\",\"colorbar\":{\"outlinewidth\":0,\"ticks\":\"\"},\"colorscale\":[[0.0,\"#0d0887\"],[0.1111111111111111,\"#46039f\"],[0.2222222222222222,\"#7201a8\"],[0.3333333333333333,\"#9c179e\"],[0.4444444444444444,\"#bd3786\"],[0.5555555555555556,\"#d8576b\"],[0.6666666666666666,\"#ed7953\"],[0.7777777777777778,\"#fb9f3a\"],[0.8888888888888888,\"#fdca26\"],[1.0,\"#f0f921\"]]}],\"heatmap\":[{\"type\":\"heatmap\",\"colorbar\":{\"outlinewidth\":0,\"ticks\":\"\"},\"colorscale\":[[0.0,\"#0d0887\"],[0.1111111111111111,\"#46039f\"],[0.2222222222222222,\"#7201a8\"],[0.3333333333333333,\"#9c179e\"],[0.4444444444444444,\"#bd3786\"],[0.5555555555555556,\"#d8576b\"],[0.6666666666666666,\"#ed7953\"],[0.7777777777777778,\"#fb9f3a\"],[0.8888888888888888,\"#fdca26\"],[1.0,\"#f0f921\"]]}],\"heatmapgl\":[{\"type\":\"heatmapgl\",\"colorbar\":{\"outlinewidth\":0,\"ticks\":\"\"},\"colorscale\":[[0.0,\"#0d0887\"],[0.1111111111111111,\"#46039f\"],[0.2222222222222222,\"#7201a8\"],[0.3333333333333333,\"#9c179e\"],[0.4444444444444444,\"#bd3786\"],[0.5555555555555556,\"#d8576b\"],[0.6666666666666666,\"#ed7953\"],[0.7777777777777778,\"#fb9f3a\"],[0.8888888888888888,\"#fdca26\"],[1.0,\"#f0f921\"]]}],\"contourcarpet\":[{\"type\":\"contourcarpet\",\"colorbar\":{\"outlinewidth\":0,\"ticks\":\"\"}}],\"contour\":[{\"type\":\"contour\",\"colorbar\":{\"outlinewidth\":0,\"ticks\":\"\"},\"colorscale\":[[0.0,\"#0d0887\"],[0.1111111111111111,\"#46039f\"],[0.2222222222222222,\"#7201a8\"],[0.3333333333333333,\"#9c179e\"],[0.4444444444444444,\"#bd3786\"],[0.5555555555555556,\"#d8576b\"],[0.6666666666666666,\"#ed7953\"],[0.7777777777777778,\"#fb9f3a\"],[0.8888888888888888,\"#fdca26\"],[1.0,\"#f0f921\"]]}],\"surface\":[{\"type\":\"surface\",\"colorbar\":{\"outlinewidth\":0,\"ticks\":\"\"},\"colorscale\":[[0.0,\"#0d0887\"],[0.1111111111111111,\"#46039f\"],[0.2222222222222222,\"#7201a8\"],[0.3333333333333333,\"#9c179e\"],[0.4444444444444444,\"#bd3786\"],[0.5555555555555556,\"#d8576b\"],[0.6666666666666666,\"#ed7953\"],[0.7777777777777778,\"#fb9f3a\"],[0.8888888888888888,\"#fdca26\"],[1.0,\"#f0f921\"]]}],\"mesh3d\":[{\"type\":\"mesh3d\",\"colorbar\":{\"outlinewidth\":0,\"ticks\":\"\"}}],\"scatter\":[{\"fillpattern\":{\"fillmode\":\"overlay\",\"size\":10,\"solidity\":0.2},\"type\":\"scatter\"}],\"parcoords\":[{\"type\":\"parcoords\",\"line\":{\"colorbar\":{\"outlinewidth\":0,\"ticks\":\"\"}}}],\"scatterpolargl\":[{\"type\":\"scatterpolargl\",\"marker\":{\"colorbar\":{\"outlinewidth\":0,\"ticks\":\"\"}}}],\"bar\":[{\"error_x\":{\"color\":\"#2a3f5f\"},\"error_y\":{\"color\":\"#2a3f5f\"},\"marker\":{\"line\":{\"color\":\"#E5ECF6\",\"width\":0.5},\"pattern\":{\"fillmode\":\"overlay\",\"size\":10,\"solidity\":0.2}},\"type\":\"bar\"}],\"scattergeo\":[{\"type\":\"scattergeo\",\"marker\":{\"colorbar\":{\"outlinewidth\":0,\"ticks\":\"\"}}}],\"scatterpolar\":[{\"type\":\"scatterpolar\",\"marker\":{\"colorbar\":{\"outlinewidth\":0,\"ticks\":\"\"}}}],\"histogram\":[{\"marker\":{\"pattern\":{\"fillmode\":\"overlay\",\"size\":10,\"solidity\":0.2}},\"type\":\"histogram\"}],\"scattergl\":[{\"type\":\"scattergl\",\"marker\":{\"colorbar\":{\"outlinewidth\":0,\"ticks\":\"\"}}}],\"scatter3d\":[{\"type\":\"scatter3d\",\"line\":{\"colorbar\":{\"outlinewidth\":0,\"ticks\":\"\"}},\"marker\":{\"colorbar\":{\"outlinewidth\":0,\"ticks\":\"\"}}}],\"scattermapbox\":[{\"type\":\"scattermapbox\",\"marker\":{\"colorbar\":{\"outlinewidth\":0,\"ticks\":\"\"}}}],\"scatterternary\":[{\"type\":\"scatterternary\",\"marker\":{\"colorbar\":{\"outlinewidth\":0,\"ticks\":\"\"}}}],\"scattercarpet\":[{\"type\":\"scattercarpet\",\"marker\":{\"colorbar\":{\"outlinewidth\":0,\"ticks\":\"\"}}}],\"carpet\":[{\"aaxis\":{\"endlinecolor\":\"#2a3f5f\",\"gridcolor\":\"white\",\"linecolor\":\"white\",\"minorgridcolor\":\"white\",\"startlinecolor\":\"#2a3f5f\"},\"baxis\":{\"endlinecolor\":\"#2a3f5f\",\"gridcolor\":\"white\",\"linecolor\":\"white\",\"minorgridcolor\":\"white\",\"startlinecolor\":\"#2a3f5f\"},\"type\":\"carpet\"}],\"table\":[{\"cells\":{\"fill\":{\"color\":\"#EBF0F8\"},\"line\":{\"color\":\"white\"}},\"header\":{\"fill\":{\"color\":\"#C8D4E3\"},\"line\":{\"color\":\"white\"}},\"type\":\"table\"}],\"barpolar\":[{\"marker\":{\"line\":{\"color\":\"#E5ECF6\",\"width\":0.5},\"pattern\":{\"fillmode\":\"overlay\",\"size\":10,\"solidity\":0.2}},\"type\":\"barpolar\"}],\"pie\":[{\"automargin\":true,\"type\":\"pie\"}]},\"layout\":{\"autotypenumbers\":\"strict\",\"colorway\":[\"#636efa\",\"#EF553B\",\"#00cc96\",\"#ab63fa\",\"#FFA15A\",\"#19d3f3\",\"#FF6692\",\"#B6E880\",\"#FF97FF\",\"#FECB52\"],\"font\":{\"color\":\"#2a3f5f\"},\"hovermode\":\"closest\",\"hoverlabel\":{\"align\":\"left\"},\"paper_bgcolor\":\"white\",\"plot_bgcolor\":\"#E5ECF6\",\"polar\":{\"bgcolor\":\"#E5ECF6\",\"angularaxis\":{\"gridcolor\":\"white\",\"linecolor\":\"white\",\"ticks\":\"\"},\"radialaxis\":{\"gridcolor\":\"white\",\"linecolor\":\"white\",\"ticks\":\"\"}},\"ternary\":{\"bgcolor\":\"#E5ECF6\",\"aaxis\":{\"gridcolor\":\"white\",\"linecolor\":\"white\",\"ticks\":\"\"},\"baxis\":{\"gridcolor\":\"white\",\"linecolor\":\"white\",\"ticks\":\"\"},\"caxis\":{\"gridcolor\":\"white\",\"linecolor\":\"white\",\"ticks\":\"\"}},\"coloraxis\":{\"colorbar\":{\"outlinewidth\":0,\"ticks\":\"\"}},\"colorscale\":{\"sequential\":[[0.0,\"#0d0887\"],[0.1111111111111111,\"#46039f\"],[0.2222222222222222,\"#7201a8\"],[0.3333333333333333,\"#9c179e\"],[0.4444444444444444,\"#bd3786\"],[0.5555555555555556,\"#d8576b\"],[0.6666666666666666,\"#ed7953\"],[0.7777777777777778,\"#fb9f3a\"],[0.8888888888888888,\"#fdca26\"],[1.0,\"#f0f921\"]],\"sequentialminus\":[[0.0,\"#0d0887\"],[0.1111111111111111,\"#46039f\"],[0.2222222222222222,\"#7201a8\"],[0.3333333333333333,\"#9c179e\"],[0.4444444444444444,\"#bd3786\"],[0.5555555555555556,\"#d8576b\"],[0.6666666666666666,\"#ed7953\"],[0.7777777777777778,\"#fb9f3a\"],[0.8888888888888888,\"#fdca26\"],[1.0,\"#f0f921\"]],\"diverging\":[[0,\"#8e0152\"],[0.1,\"#c51b7d\"],[0.2,\"#de77ae\"],[0.3,\"#f1b6da\"],[0.4,\"#fde0ef\"],[0.5,\"#f7f7f7\"],[0.6,\"#e6f5d0\"],[0.7,\"#b8e186\"],[0.8,\"#7fbc41\"],[0.9,\"#4d9221\"],[1,\"#276419\"]]},\"xaxis\":{\"gridcolor\":\"white\",\"linecolor\":\"white\",\"ticks\":\"\",\"title\":{\"standoff\":15},\"zerolinecolor\":\"white\",\"automargin\":true,\"zerolinewidth\":2},\"yaxis\":{\"gridcolor\":\"white\",\"linecolor\":\"white\",\"ticks\":\"\",\"title\":{\"standoff\":15},\"zerolinecolor\":\"white\",\"automargin\":true,\"zerolinewidth\":2},\"scene\":{\"xaxis\":{\"backgroundcolor\":\"#E5ECF6\",\"gridcolor\":\"white\",\"linecolor\":\"white\",\"showbackground\":true,\"ticks\":\"\",\"zerolinecolor\":\"white\",\"gridwidth\":2},\"yaxis\":{\"backgroundcolor\":\"#E5ECF6\",\"gridcolor\":\"white\",\"linecolor\":\"white\",\"showbackground\":true,\"ticks\":\"\",\"zerolinecolor\":\"white\",\"gridwidth\":2},\"zaxis\":{\"backgroundcolor\":\"#E5ECF6\",\"gridcolor\":\"white\",\"linecolor\":\"white\",\"showbackground\":true,\"ticks\":\"\",\"zerolinecolor\":\"white\",\"gridwidth\":2}},\"shapedefaults\":{\"line\":{\"color\":\"#2a3f5f\"}},\"annotationdefaults\":{\"arrowcolor\":\"#2a3f5f\",\"arrowhead\":0,\"arrowwidth\":1},\"geo\":{\"bgcolor\":\"white\",\"landcolor\":\"#E5ECF6\",\"subunitcolor\":\"white\",\"showland\":true,\"showlakes\":true,\"lakecolor\":\"white\"},\"title\":{\"x\":0.05},\"mapbox\":{\"style\":\"light\"}}},\"xaxis\":{\"anchor\":\"y\",\"domain\":[0.0,1.0],\"title\":{\"text\":\"lstat\"}},\"yaxis\":{\"anchor\":\"x\",\"domain\":[0.0,1.0]},\"legend\":{\"tracegroupgap\":0},\"margin\":{\"t\":60},\"boxmode\":\"group\",\"height\":400,\"width\":800},                        {\"responsive\": true}                    ).then(function(){\n",
              "                            \n",
              "var gd = document.getElementById('0a851f33-f2de-4109-af1b-c7634ac63bf3');\n",
              "var x = new MutationObserver(function (mutations, observer) {{\n",
              "        var display = window.getComputedStyle(gd).display;\n",
              "        if (!display || display === 'none') {{\n",
              "            console.log([gd, 'removed!']);\n",
              "            Plotly.purge(gd);\n",
              "            observer.disconnect();\n",
              "        }}\n",
              "}});\n",
              "\n",
              "// Listen for the removal of the full notebook cells\n",
              "var notebookContainer = gd.closest('#notebook-container');\n",
              "if (notebookContainer) {{\n",
              "    x.observe(notebookContainer, {childList: true});\n",
              "}}\n",
              "\n",
              "// Listen for the clearing of the current output cell\n",
              "var outputEl = gd.closest('.output');\n",
              "if (outputEl) {{\n",
              "    x.observe(outputEl, {childList: true});\n",
              "}}\n",
              "\n",
              "                        })                };                            </script>        </div>\n",
              "</body>\n",
              "</html>"
            ]
          },
          "metadata": {}
        }
      ]
    },
    {
      "cell_type": "code",
      "source": [
        "px.box(boston, x=\"medv\", width=800, height=400)"
      ],
      "metadata": {
        "colab": {
          "base_uri": "https://localhost:8080/",
          "height": 417
        },
        "id": "yeLsODmT7-x_",
        "outputId": "094dc794-d1f7-43be-ad54-9d854544bc31"
      },
      "execution_count": 29,
      "outputs": [
        {
          "output_type": "display_data",
          "data": {
            "text/html": [
              "<html>\n",
              "<head><meta charset=\"utf-8\" /></head>\n",
              "<body>\n",
              "    <div>            <script src=\"https://cdnjs.cloudflare.com/ajax/libs/mathjax/2.7.5/MathJax.js?config=TeX-AMS-MML_SVG\"></script><script type=\"text/javascript\">if (window.MathJax && window.MathJax.Hub && window.MathJax.Hub.Config) {window.MathJax.Hub.Config({SVG: {font: \"STIX-Web\"}});}</script>                <script type=\"text/javascript\">window.PlotlyConfig = {MathJaxConfig: 'local'};</script>\n",
              "        <script src=\"https://cdn.plot.ly/plotly-2.18.2.min.js\"></script>                <div id=\"0a7bf856-693f-4641-b244-c51ff9c7a65b\" class=\"plotly-graph-div\" style=\"height:400px; width:800px;\"></div>            <script type=\"text/javascript\">                                    window.PLOTLYENV=window.PLOTLYENV || {};                                    if (document.getElementById(\"0a7bf856-693f-4641-b244-c51ff9c7a65b\")) {                    Plotly.newPlot(                        \"0a7bf856-693f-4641-b244-c51ff9c7a65b\",                        [{\"alignmentgroup\":\"True\",\"hovertemplate\":\"medv=%{x}<extra></extra>\",\"legendgroup\":\"\",\"marker\":{\"color\":\"#636efa\"},\"name\":\"\",\"notched\":false,\"offsetgroup\":\"\",\"orientation\":\"h\",\"showlegend\":false,\"x\":[24.0,21.6,34.7,33.4,36.2,28.7,22.9,27.1,16.5,18.9,15.0,18.9,21.7,20.4,18.2,19.9,23.1,17.5,20.2,18.2,13.6,19.6,15.2,14.5,15.6,13.9,16.6,14.8,18.4,21.0,12.7,14.5,13.2,13.1,13.5,18.9,20.0,21.0,24.7,30.8,34.9,26.6,25.3,24.7,21.2,19.3,20.0,16.6,14.4,19.4,19.7,20.5,25.0,23.4,18.9,35.4,24.7,31.6,23.3,19.6,18.7,16.0,22.2,25.0,33.0,23.5,19.4,22.0,17.4,20.9,24.2,21.7,22.8,23.4,24.1,21.4,20.0,20.8,21.2,20.3,28.0,23.9,24.8,22.9,23.9,26.6,22.5,22.2,23.6,28.7,22.6,22.0,22.9,25.0,20.6,28.4,21.4,38.7,43.8,33.2,27.5,26.5,18.6,19.3,20.1,19.5,19.5,20.4,19.8,19.4,21.7,22.8,18.8,18.7,18.5,18.3,21.2,19.2,20.4,19.3,22.0,20.3,20.5,17.3,18.8,21.4,15.7,16.2,18.0,14.3,19.2,19.6,23.0,18.4,15.6,18.1,17.4,17.1,13.3,17.8,14.0,14.4,13.4,15.6,11.8,13.8,15.6,14.6,17.8,15.4,21.5,19.6,15.3,19.4,17.0,15.6,13.1,41.3,24.3,23.3,27.0,50.0,50.0,50.0,22.7,25.0,50.0,23.8,23.8,22.3,17.4,19.1,23.1,23.6,22.6,29.4,23.2,24.6,29.9,37.2,39.8,36.2,37.9,32.5,26.4,29.6,50.0,32.0,29.8,34.9,37.0,30.5,36.4,31.1,29.1,50.0,33.3,30.3,34.6,34.9,32.9,24.1,42.3,48.5,50.0,22.6,24.4,22.5,24.4,20.0,21.7,19.3,22.4,28.1,23.7,25.0,23.3,28.7,21.5,23.0,26.7,21.7,27.5,30.1,44.8,50.0,37.6,31.6,46.7,31.5,24.3,31.7,41.7,48.3,29.0,24.0,25.1,31.5,23.7,23.3,22.0,20.1,22.2,23.7,17.6,18.5,24.3,20.5,24.5,26.2,24.4,24.8,29.6,42.8,21.9,20.9,44.0,50.0,36.0,30.1,33.8,43.1,48.8,31.0,36.5,22.8,30.7,50.0,43.5,20.7,21.1,25.2,24.4,35.2,32.4,32.0,33.2,33.1,29.1,35.1,45.4,35.4,46.0,50.0,32.2,22.0,20.1,23.2,22.3,24.8,28.5,37.3,27.9,23.9,21.7,28.6,27.1,20.3,22.5,29.0,24.8,22.0,26.4,33.1,36.1,28.4,33.4,28.2,22.8,20.3,16.1,22.1,19.4,21.6,23.8,16.2,17.8,19.8,23.1,21.0,23.8,23.1,20.4,18.5,25.0,24.6,23.0,22.2,19.3,22.6,19.8,17.1,19.4,22.2,20.7,21.1,19.5,18.5,20.6,19.0,18.7,32.7,16.5,23.9,31.2,17.5,17.2,23.1,24.5,26.6,22.9,24.1,18.6,30.1,18.2,20.6,17.8,21.7,22.7,22.6,25.0,19.9,20.8,16.8,21.9,27.5,21.9,23.1,50.0,50.0,50.0,50.0,50.0,13.8,13.8,15.0,13.9,13.3,13.1,10.2,10.4,10.9,11.3,12.3,8.8,7.2,10.5,7.4,10.2,11.5,15.1,23.2,9.7,13.8,12.7,13.1,12.5,8.5,5.0,6.3,5.6,7.2,12.1,8.3,8.5,5.0,11.9,27.9,17.2,27.5,15.0,17.2,17.9,16.3,7.0,7.2,7.5,10.4,8.8,8.4,16.7,14.2,20.8,13.4,11.7,8.3,10.2,10.9,11.0,9.5,14.5,14.1,16.1,14.3,11.7,13.4,9.6,8.7,8.4,12.8,10.5,17.1,18.4,15.4,10.8,11.8,14.9,12.6,14.1,13.0,13.4,15.2,16.1,17.8,14.9,14.1,12.7,13.5,14.9,20.0,16.4,17.7,19.5,20.2,21.4,19.9,19.0,19.1,19.1,20.1,19.9,19.6,23.2,29.8,13.8,13.3,16.7,12.0,14.6,21.4,23.0,23.7,25.0,21.8,20.6,21.2,19.1,20.6,15.2,7.0,8.1,13.6,20.1,21.8,24.5,23.1,19.7,18.3,21.2,17.5,16.8,22.4,20.6,23.9,22.0,11.9],\"x0\":\" \",\"xaxis\":\"x\",\"y0\":\" \",\"yaxis\":\"y\",\"type\":\"box\"}],                        {\"template\":{\"data\":{\"histogram2dcontour\":[{\"type\":\"histogram2dcontour\",\"colorbar\":{\"outlinewidth\":0,\"ticks\":\"\"},\"colorscale\":[[0.0,\"#0d0887\"],[0.1111111111111111,\"#46039f\"],[0.2222222222222222,\"#7201a8\"],[0.3333333333333333,\"#9c179e\"],[0.4444444444444444,\"#bd3786\"],[0.5555555555555556,\"#d8576b\"],[0.6666666666666666,\"#ed7953\"],[0.7777777777777778,\"#fb9f3a\"],[0.8888888888888888,\"#fdca26\"],[1.0,\"#f0f921\"]]}],\"choropleth\":[{\"type\":\"choropleth\",\"colorbar\":{\"outlinewidth\":0,\"ticks\":\"\"}}],\"histogram2d\":[{\"type\":\"histogram2d\",\"colorbar\":{\"outlinewidth\":0,\"ticks\":\"\"},\"colorscale\":[[0.0,\"#0d0887\"],[0.1111111111111111,\"#46039f\"],[0.2222222222222222,\"#7201a8\"],[0.3333333333333333,\"#9c179e\"],[0.4444444444444444,\"#bd3786\"],[0.5555555555555556,\"#d8576b\"],[0.6666666666666666,\"#ed7953\"],[0.7777777777777778,\"#fb9f3a\"],[0.8888888888888888,\"#fdca26\"],[1.0,\"#f0f921\"]]}],\"heatmap\":[{\"type\":\"heatmap\",\"colorbar\":{\"outlinewidth\":0,\"ticks\":\"\"},\"colorscale\":[[0.0,\"#0d0887\"],[0.1111111111111111,\"#46039f\"],[0.2222222222222222,\"#7201a8\"],[0.3333333333333333,\"#9c179e\"],[0.4444444444444444,\"#bd3786\"],[0.5555555555555556,\"#d8576b\"],[0.6666666666666666,\"#ed7953\"],[0.7777777777777778,\"#fb9f3a\"],[0.8888888888888888,\"#fdca26\"],[1.0,\"#f0f921\"]]}],\"heatmapgl\":[{\"type\":\"heatmapgl\",\"colorbar\":{\"outlinewidth\":0,\"ticks\":\"\"},\"colorscale\":[[0.0,\"#0d0887\"],[0.1111111111111111,\"#46039f\"],[0.2222222222222222,\"#7201a8\"],[0.3333333333333333,\"#9c179e\"],[0.4444444444444444,\"#bd3786\"],[0.5555555555555556,\"#d8576b\"],[0.6666666666666666,\"#ed7953\"],[0.7777777777777778,\"#fb9f3a\"],[0.8888888888888888,\"#fdca26\"],[1.0,\"#f0f921\"]]}],\"contourcarpet\":[{\"type\":\"contourcarpet\",\"colorbar\":{\"outlinewidth\":0,\"ticks\":\"\"}}],\"contour\":[{\"type\":\"contour\",\"colorbar\":{\"outlinewidth\":0,\"ticks\":\"\"},\"colorscale\":[[0.0,\"#0d0887\"],[0.1111111111111111,\"#46039f\"],[0.2222222222222222,\"#7201a8\"],[0.3333333333333333,\"#9c179e\"],[0.4444444444444444,\"#bd3786\"],[0.5555555555555556,\"#d8576b\"],[0.6666666666666666,\"#ed7953\"],[0.7777777777777778,\"#fb9f3a\"],[0.8888888888888888,\"#fdca26\"],[1.0,\"#f0f921\"]]}],\"surface\":[{\"type\":\"surface\",\"colorbar\":{\"outlinewidth\":0,\"ticks\":\"\"},\"colorscale\":[[0.0,\"#0d0887\"],[0.1111111111111111,\"#46039f\"],[0.2222222222222222,\"#7201a8\"],[0.3333333333333333,\"#9c179e\"],[0.4444444444444444,\"#bd3786\"],[0.5555555555555556,\"#d8576b\"],[0.6666666666666666,\"#ed7953\"],[0.7777777777777778,\"#fb9f3a\"],[0.8888888888888888,\"#fdca26\"],[1.0,\"#f0f921\"]]}],\"mesh3d\":[{\"type\":\"mesh3d\",\"colorbar\":{\"outlinewidth\":0,\"ticks\":\"\"}}],\"scatter\":[{\"fillpattern\":{\"fillmode\":\"overlay\",\"size\":10,\"solidity\":0.2},\"type\":\"scatter\"}],\"parcoords\":[{\"type\":\"parcoords\",\"line\":{\"colorbar\":{\"outlinewidth\":0,\"ticks\":\"\"}}}],\"scatterpolargl\":[{\"type\":\"scatterpolargl\",\"marker\":{\"colorbar\":{\"outlinewidth\":0,\"ticks\":\"\"}}}],\"bar\":[{\"error_x\":{\"color\":\"#2a3f5f\"},\"error_y\":{\"color\":\"#2a3f5f\"},\"marker\":{\"line\":{\"color\":\"#E5ECF6\",\"width\":0.5},\"pattern\":{\"fillmode\":\"overlay\",\"size\":10,\"solidity\":0.2}},\"type\":\"bar\"}],\"scattergeo\":[{\"type\":\"scattergeo\",\"marker\":{\"colorbar\":{\"outlinewidth\":0,\"ticks\":\"\"}}}],\"scatterpolar\":[{\"type\":\"scatterpolar\",\"marker\":{\"colorbar\":{\"outlinewidth\":0,\"ticks\":\"\"}}}],\"histogram\":[{\"marker\":{\"pattern\":{\"fillmode\":\"overlay\",\"size\":10,\"solidity\":0.2}},\"type\":\"histogram\"}],\"scattergl\":[{\"type\":\"scattergl\",\"marker\":{\"colorbar\":{\"outlinewidth\":0,\"ticks\":\"\"}}}],\"scatter3d\":[{\"type\":\"scatter3d\",\"line\":{\"colorbar\":{\"outlinewidth\":0,\"ticks\":\"\"}},\"marker\":{\"colorbar\":{\"outlinewidth\":0,\"ticks\":\"\"}}}],\"scattermapbox\":[{\"type\":\"scattermapbox\",\"marker\":{\"colorbar\":{\"outlinewidth\":0,\"ticks\":\"\"}}}],\"scatterternary\":[{\"type\":\"scatterternary\",\"marker\":{\"colorbar\":{\"outlinewidth\":0,\"ticks\":\"\"}}}],\"scattercarpet\":[{\"type\":\"scattercarpet\",\"marker\":{\"colorbar\":{\"outlinewidth\":0,\"ticks\":\"\"}}}],\"carpet\":[{\"aaxis\":{\"endlinecolor\":\"#2a3f5f\",\"gridcolor\":\"white\",\"linecolor\":\"white\",\"minorgridcolor\":\"white\",\"startlinecolor\":\"#2a3f5f\"},\"baxis\":{\"endlinecolor\":\"#2a3f5f\",\"gridcolor\":\"white\",\"linecolor\":\"white\",\"minorgridcolor\":\"white\",\"startlinecolor\":\"#2a3f5f\"},\"type\":\"carpet\"}],\"table\":[{\"cells\":{\"fill\":{\"color\":\"#EBF0F8\"},\"line\":{\"color\":\"white\"}},\"header\":{\"fill\":{\"color\":\"#C8D4E3\"},\"line\":{\"color\":\"white\"}},\"type\":\"table\"}],\"barpolar\":[{\"marker\":{\"line\":{\"color\":\"#E5ECF6\",\"width\":0.5},\"pattern\":{\"fillmode\":\"overlay\",\"size\":10,\"solidity\":0.2}},\"type\":\"barpolar\"}],\"pie\":[{\"automargin\":true,\"type\":\"pie\"}]},\"layout\":{\"autotypenumbers\":\"strict\",\"colorway\":[\"#636efa\",\"#EF553B\",\"#00cc96\",\"#ab63fa\",\"#FFA15A\",\"#19d3f3\",\"#FF6692\",\"#B6E880\",\"#FF97FF\",\"#FECB52\"],\"font\":{\"color\":\"#2a3f5f\"},\"hovermode\":\"closest\",\"hoverlabel\":{\"align\":\"left\"},\"paper_bgcolor\":\"white\",\"plot_bgcolor\":\"#E5ECF6\",\"polar\":{\"bgcolor\":\"#E5ECF6\",\"angularaxis\":{\"gridcolor\":\"white\",\"linecolor\":\"white\",\"ticks\":\"\"},\"radialaxis\":{\"gridcolor\":\"white\",\"linecolor\":\"white\",\"ticks\":\"\"}},\"ternary\":{\"bgcolor\":\"#E5ECF6\",\"aaxis\":{\"gridcolor\":\"white\",\"linecolor\":\"white\",\"ticks\":\"\"},\"baxis\":{\"gridcolor\":\"white\",\"linecolor\":\"white\",\"ticks\":\"\"},\"caxis\":{\"gridcolor\":\"white\",\"linecolor\":\"white\",\"ticks\":\"\"}},\"coloraxis\":{\"colorbar\":{\"outlinewidth\":0,\"ticks\":\"\"}},\"colorscale\":{\"sequential\":[[0.0,\"#0d0887\"],[0.1111111111111111,\"#46039f\"],[0.2222222222222222,\"#7201a8\"],[0.3333333333333333,\"#9c179e\"],[0.4444444444444444,\"#bd3786\"],[0.5555555555555556,\"#d8576b\"],[0.6666666666666666,\"#ed7953\"],[0.7777777777777778,\"#fb9f3a\"],[0.8888888888888888,\"#fdca26\"],[1.0,\"#f0f921\"]],\"sequentialminus\":[[0.0,\"#0d0887\"],[0.1111111111111111,\"#46039f\"],[0.2222222222222222,\"#7201a8\"],[0.3333333333333333,\"#9c179e\"],[0.4444444444444444,\"#bd3786\"],[0.5555555555555556,\"#d8576b\"],[0.6666666666666666,\"#ed7953\"],[0.7777777777777778,\"#fb9f3a\"],[0.8888888888888888,\"#fdca26\"],[1.0,\"#f0f921\"]],\"diverging\":[[0,\"#8e0152\"],[0.1,\"#c51b7d\"],[0.2,\"#de77ae\"],[0.3,\"#f1b6da\"],[0.4,\"#fde0ef\"],[0.5,\"#f7f7f7\"],[0.6,\"#e6f5d0\"],[0.7,\"#b8e186\"],[0.8,\"#7fbc41\"],[0.9,\"#4d9221\"],[1,\"#276419\"]]},\"xaxis\":{\"gridcolor\":\"white\",\"linecolor\":\"white\",\"ticks\":\"\",\"title\":{\"standoff\":15},\"zerolinecolor\":\"white\",\"automargin\":true,\"zerolinewidth\":2},\"yaxis\":{\"gridcolor\":\"white\",\"linecolor\":\"white\",\"ticks\":\"\",\"title\":{\"standoff\":15},\"zerolinecolor\":\"white\",\"automargin\":true,\"zerolinewidth\":2},\"scene\":{\"xaxis\":{\"backgroundcolor\":\"#E5ECF6\",\"gridcolor\":\"white\",\"linecolor\":\"white\",\"showbackground\":true,\"ticks\":\"\",\"zerolinecolor\":\"white\",\"gridwidth\":2},\"yaxis\":{\"backgroundcolor\":\"#E5ECF6\",\"gridcolor\":\"white\",\"linecolor\":\"white\",\"showbackground\":true,\"ticks\":\"\",\"zerolinecolor\":\"white\",\"gridwidth\":2},\"zaxis\":{\"backgroundcolor\":\"#E5ECF6\",\"gridcolor\":\"white\",\"linecolor\":\"white\",\"showbackground\":true,\"ticks\":\"\",\"zerolinecolor\":\"white\",\"gridwidth\":2}},\"shapedefaults\":{\"line\":{\"color\":\"#2a3f5f\"}},\"annotationdefaults\":{\"arrowcolor\":\"#2a3f5f\",\"arrowhead\":0,\"arrowwidth\":1},\"geo\":{\"bgcolor\":\"white\",\"landcolor\":\"#E5ECF6\",\"subunitcolor\":\"white\",\"showland\":true,\"showlakes\":true,\"lakecolor\":\"white\"},\"title\":{\"x\":0.05},\"mapbox\":{\"style\":\"light\"}}},\"xaxis\":{\"anchor\":\"y\",\"domain\":[0.0,1.0],\"title\":{\"text\":\"medv\"}},\"yaxis\":{\"anchor\":\"x\",\"domain\":[0.0,1.0]},\"legend\":{\"tracegroupgap\":0},\"margin\":{\"t\":60},\"boxmode\":\"group\",\"height\":400,\"width\":800},                        {\"responsive\": true}                    ).then(function(){\n",
              "                            \n",
              "var gd = document.getElementById('0a7bf856-693f-4641-b244-c51ff9c7a65b');\n",
              "var x = new MutationObserver(function (mutations, observer) {{\n",
              "        var display = window.getComputedStyle(gd).display;\n",
              "        if (!display || display === 'none') {{\n",
              "            console.log([gd, 'removed!']);\n",
              "            Plotly.purge(gd);\n",
              "            observer.disconnect();\n",
              "        }}\n",
              "}});\n",
              "\n",
              "// Listen for the removal of the full notebook cells\n",
              "var notebookContainer = gd.closest('#notebook-container');\n",
              "if (notebookContainer) {{\n",
              "    x.observe(notebookContainer, {childList: true});\n",
              "}}\n",
              "\n",
              "// Listen for the clearing of the current output cell\n",
              "var outputEl = gd.closest('.output');\n",
              "if (outputEl) {{\n",
              "    x.observe(outputEl, {childList: true});\n",
              "}}\n",
              "\n",
              "                        })                };                            </script>        </div>\n",
              "</body>\n",
              "</html>"
            ]
          },
          "metadata": {}
        }
      ]
    },
    {
      "cell_type": "code",
      "metadata": {
        "id": "OL3Z0dQZVkGM"
      },
      "source": [
        "#boston.to_csv('boston.csv', sep = ',', index = False)"
      ],
      "execution_count": 30,
      "outputs": []
    },
    {
      "cell_type": "code",
      "source": [
        "#https://github.com/rosariomoscato/Rosario-Moscato-Lab/tree/main/Regression\n",
        "# Pairplot\n",
        "#sns.pairplot(boston)"
      ],
      "metadata": {
        "id": "_aIFk1BWvkT-"
      },
      "execution_count": 31,
      "outputs": []
    },
    {
      "cell_type": "code",
      "source": [
        "import plotly.express as px\n",
        "fig = px.scatter_matrix(boston)\n",
        "fig.update_layout(\n",
        "    title='Boston Data set',\n",
        "    width=1600,\n",
        "    height=1600,\n",
        ")\n",
        "\n",
        "#fig.show()"
      ],
      "metadata": {
        "colab": {
          "base_uri": "https://localhost:8080/",
          "height": 1000
        },
        "id": "nhszlzW0PPas",
        "outputId": "664fc3d5-910c-411a-9519-722a60313e66"
      },
      "execution_count": 32,
      "outputs": [
        {
          "output_type": "display_data",
          "data": {
            "text/html": [
              "<html>\n",
              "<head><meta charset=\"utf-8\" /></head>\n",
              "<body>\n",
              "    <div>            <script src=\"https://cdnjs.cloudflare.com/ajax/libs/mathjax/2.7.5/MathJax.js?config=TeX-AMS-MML_SVG\"></script><script type=\"text/javascript\">if (window.MathJax && window.MathJax.Hub && window.MathJax.Hub.Config) {window.MathJax.Hub.Config({SVG: {font: \"STIX-Web\"}});}</script>                <script type=\"text/javascript\">window.PlotlyConfig = {MathJaxConfig: 'local'};</script>\n",
              "        <script src=\"https://cdn.plot.ly/plotly-2.18.2.min.js\"></script>                <div id=\"775c2256-bbb6-412d-a5da-486990af61d8\" class=\"plotly-graph-div\" style=\"height:1600px; width:1600px;\"></div>            <script type=\"text/javascript\">                                    window.PLOTLYENV=window.PLOTLYENV || {};                                    if (document.getElementById(\"775c2256-bbb6-412d-a5da-486990af61d8\")) {                    Plotly.newPlot(                        \"775c2256-bbb6-412d-a5da-486990af61d8\",                        [{\"dimensions\":[{\"axis\":{\"matches\":true},\"label\":\"crim\",\"values\":[0.00632,0.02731,0.02729,0.03237,0.06905,0.02985,0.08829,0.14455,0.21124,0.17004,0.22489,0.11747,0.09378,0.62976,0.63796,0.62739,1.05393,0.7842,0.80271,0.7258,1.25179,0.85204,1.23247,0.98843,0.75026,0.84054,0.67191,0.95577,0.77299,1.00245,1.13081,1.35472,1.38799,1.15172,1.61282,0.06417,0.09744,0.08014,0.17505,0.02763,0.03359,0.12744,0.1415,0.15936,0.12269,0.17142,0.18836,0.22927,0.25387,0.21977,0.08873,0.04337,0.0536,0.04981,0.0136,0.01311,0.02055,0.01432,0.15445,0.10328,0.14932,0.17171,0.11027,0.1265,0.01951,0.03584,0.04379,0.05789,0.13554,0.12816,0.08826,0.15876,0.09164,0.19539,0.07896,0.09512,0.10153,0.08707,0.05646,0.08387,0.04113,0.04462,0.03659,0.03551,0.05059,0.05735,0.05188,0.07151,0.0566,0.05302,0.04684,0.03932,0.04203,0.02875,0.04294,0.12204,0.11504,0.12083,0.08187,0.0686,0.14866,0.11432,0.22876,0.21161,0.1396,0.13262,0.1712,0.13117,0.12802,0.26363,0.10793,0.10084,0.12329,0.22212,0.14231,0.17134,0.13158,0.15098,0.13058,0.14476,0.06899,0.07165,0.09299,0.15038,0.09849,0.16902,0.38735,0.25915,0.32543,0.88125,0.34006,1.19294,0.59005,0.32982,0.97617,0.55778,0.32264,0.35233,0.2498,0.54452,0.2909,1.62864,3.32105,4.0974,2.77974,2.37934,2.15505,2.36862,2.33099,2.73397,1.6566,1.49632,1.12658,2.14918,1.41385,3.53501,2.44668,1.22358,1.34284,1.42502,1.27346,1.46336,1.83377,1.51902,2.24236,2.924,2.01019,1.80028,2.3004,2.44953,1.20742,2.3139,0.13914,0.09178,0.08447,0.06664,0.07022,0.05425,0.06642,0.0578,0.06588,0.06888,0.09103,0.10008,0.08308,0.06047,0.05602,0.07875,0.12579,0.0837,0.09068,0.06911,0.08664,0.02187,0.01439,0.01381,0.04011,0.04666,0.03768,0.0315,0.01778,0.03445,0.02177,0.0351,0.02009,0.13642,0.22969,0.25199,0.13587,0.43571,0.17446,0.37578,0.21719,0.14052,0.28955,0.19802,0.0456,0.07013,0.11069,0.11425,0.35809,0.40771,0.62356,0.6147,0.31533,0.52693,0.38214,0.41238,0.29819,0.44178,0.537,0.46296,0.57529,0.33147,0.44791,0.33045,0.52058,0.51183,0.08244,0.09252,0.11329,0.10612,0.1029,0.12757,0.20608,0.19133,0.33983,0.19657,0.16439,0.19073,0.1403,0.21409,0.08221,0.36894,0.04819,0.03548,0.01538,0.61154,0.66351,0.65665,0.54011,0.53412,0.52014,0.82526,0.55007,0.76162,0.7857,0.57834,0.5405,0.09065,0.29916,0.16211,0.1146,0.22188,0.05644,0.09604,0.10469,0.06127,0.07978,0.21038,0.03578,0.03705,0.06129,0.01501,0.00906,0.01096,0.01965,0.03871,0.0459,0.04297,0.03502,0.07886,0.03615,0.08265,0.08199,0.12932,0.05372,0.14103,0.06466,0.05561,0.04417,0.03537,0.09266,0.1,0.05515,0.05479,0.07503,0.04932,0.49298,0.3494,2.63548,0.79041,0.26169,0.26938,0.3692,0.25356,0.31827,0.24522,0.40202,0.47547,0.1676,0.18159,0.35114,0.28392,0.34109,0.19186,0.30347,0.24103,0.06617,0.06724,0.04544,0.05023,0.03466,0.05083,0.03738,0.03961,0.03427,0.03041,0.03306,0.05497,0.06151,0.01301,0.02498,0.02543,0.03049,0.03113,0.06162,0.0187,0.01501,0.02899,0.06211,0.0795,0.07244,0.01709,0.04301,0.10659,8.98296,3.8497,5.20177,4.26131,4.54192,3.83684,3.67822,4.22239,3.47428,4.55587,3.69695,13.5222,4.89822,5.66998,6.53876,9.2323,8.26725,11.1081,18.4982,19.6091,15.288,9.82349,23.6482,17.8667,88.9762,15.8744,9.18702,7.99248,20.0849,16.8118,24.3938,22.5971,14.3337,8.15174,6.96215,5.29305,11.5779,8.64476,13.3598,8.71675,5.87205,7.67202,38.3518,9.91655,25.0461,14.2362,9.59571,24.8017,41.5292,67.9208,20.7162,11.9511,7.40389,14.4383,51.1358,14.0507,18.811,28.6558,45.7461,18.0846,10.8342,25.9406,73.5341,11.8123,11.0874,7.02259,12.0482,7.05042,8.79212,15.8603,12.2472,37.6619,7.36711,9.33889,8.49213,10.0623,6.44405,5.58107,13.9134,11.1604,14.4208,15.1772,13.6781,9.39063,22.0511,9.72418,5.66637,9.96654,12.8023,10.6718,6.28807,9.92485,9.32909,7.52601,6.71772,5.44114,5.09017,8.24809,9.51363,4.75237,4.66883,8.20058,7.75223,6.80117,4.81213,3.69311,6.65492,5.82115,7.83932,3.1636,3.77498,4.42228,15.5757,13.0751,4.34879,4.03841,3.56868,4.64689,8.05579,6.39312,4.87141,15.0234,10.233,14.3337,5.82401,5.70818,5.73116,2.81838,2.37857,3.67367,5.69175,4.83567,0.15086,0.18337,0.20746,0.10574,0.11132,0.17331,0.27957,0.17899,0.2896,0.26838,0.23912,0.17783,0.22438,0.06263,0.04527,0.06076,0.10959,0.04741]},{\"axis\":{\"matches\":true},\"label\":\"zn\",\"values\":[18.0,0.0,0.0,0.0,0.0,0.0,12.5,12.5,12.5,12.5,12.5,12.5,12.5,0.0,0.0,0.0,0.0,0.0,0.0,0.0,0.0,0.0,0.0,0.0,0.0,0.0,0.0,0.0,0.0,0.0,0.0,0.0,0.0,0.0,0.0,0.0,0.0,0.0,0.0,75.0,75.0,0.0,0.0,0.0,0.0,0.0,0.0,0.0,0.0,0.0,21.0,21.0,21.0,21.0,75.0,90.0,85.0,100.0,25.0,25.0,25.0,25.0,25.0,25.0,17.5,80.0,80.0,12.5,12.5,12.5,0.0,0.0,0.0,0.0,0.0,0.0,0.0,0.0,0.0,0.0,25.0,25.0,25.0,25.0,0.0,0.0,0.0,0.0,0.0,0.0,0.0,0.0,28.0,28.0,28.0,0.0,0.0,0.0,0.0,0.0,0.0,0.0,0.0,0.0,0.0,0.0,0.0,0.0,0.0,0.0,0.0,0.0,0.0,0.0,0.0,0.0,0.0,0.0,0.0,0.0,0.0,0.0,0.0,0.0,0.0,0.0,0.0,0.0,0.0,0.0,0.0,0.0,0.0,0.0,0.0,0.0,0.0,0.0,0.0,0.0,0.0,0.0,0.0,0.0,0.0,0.0,0.0,0.0,0.0,0.0,0.0,0.0,0.0,0.0,0.0,0.0,0.0,0.0,0.0,0.0,0.0,0.0,0.0,0.0,0.0,0.0,0.0,0.0,0.0,0.0,0.0,0.0,0.0,0.0,0.0,0.0,0.0,0.0,0.0,0.0,0.0,0.0,0.0,0.0,0.0,0.0,0.0,45.0,45.0,45.0,45.0,45.0,45.0,60.0,60.0,80.0,80.0,80.0,80.0,95.0,95.0,82.5,82.5,95.0,95.0,0.0,0.0,0.0,0.0,0.0,0.0,0.0,0.0,0.0,0.0,0.0,0.0,0.0,0.0,0.0,0.0,0.0,0.0,0.0,0.0,0.0,0.0,0.0,0.0,0.0,0.0,0.0,0.0,0.0,0.0,0.0,0.0,0.0,30.0,30.0,30.0,30.0,30.0,30.0,22.0,22.0,22.0,22.0,22.0,22.0,22.0,22.0,22.0,22.0,80.0,80.0,90.0,20.0,20.0,20.0,20.0,20.0,20.0,20.0,20.0,20.0,20.0,20.0,20.0,20.0,20.0,20.0,20.0,20.0,40.0,40.0,40.0,40.0,40.0,20.0,20.0,20.0,20.0,90.0,90.0,55.0,80.0,52.5,52.5,52.5,80.0,80.0,80.0,0.0,0.0,0.0,0.0,0.0,70.0,70.0,70.0,34.0,34.0,34.0,33.0,33.0,33.0,33.0,0.0,0.0,0.0,0.0,0.0,0.0,0.0,0.0,0.0,0.0,0.0,0.0,0.0,0.0,0.0,0.0,0.0,0.0,0.0,0.0,0.0,0.0,0.0,35.0,35.0,0.0,0.0,0.0,0.0,0.0,0.0,0.0,0.0,35.0,0.0,55.0,55.0,0.0,0.0,85.0,80.0,40.0,40.0,60.0,60.0,90.0,80.0,80.0,0.0,0.0,0.0,0.0,0.0,0.0,0.0,0.0,0.0,0.0,0.0,0.0,0.0,0.0,0.0,0.0,0.0,0.0,0.0,0.0,0.0,0.0,0.0,0.0,0.0,0.0,0.0,0.0,0.0,0.0,0.0,0.0,0.0,0.0,0.0,0.0,0.0,0.0,0.0,0.0,0.0,0.0,0.0,0.0,0.0,0.0,0.0,0.0,0.0,0.0,0.0,0.0,0.0,0.0,0.0,0.0,0.0,0.0,0.0,0.0,0.0,0.0,0.0,0.0,0.0,0.0,0.0,0.0,0.0,0.0,0.0,0.0,0.0,0.0,0.0,0.0,0.0,0.0,0.0,0.0,0.0,0.0,0.0,0.0,0.0,0.0,0.0,0.0,0.0,0.0,0.0,0.0,0.0,0.0,0.0,0.0,0.0,0.0,0.0,0.0,0.0,0.0,0.0,0.0,0.0,0.0,0.0,0.0,0.0,0.0,0.0,0.0,0.0,0.0,0.0,0.0,0.0,0.0,0.0,0.0,0.0,0.0,0.0,0.0,0.0,0.0,0.0,0.0,0.0,0.0,0.0,0.0,0.0,0.0,0.0,0.0,0.0,0.0,0.0,0.0,0.0,0.0,0.0,0.0,0.0,0.0,0.0,0.0,0.0,0.0]},{\"axis\":{\"matches\":true},\"label\":\"indus\",\"values\":[2.31,7.07,7.07,2.18,2.18,2.18,7.87,7.87,7.87,7.87,7.87,7.87,7.87,8.14,8.14,8.14,8.14,8.14,8.14,8.14,8.14,8.14,8.14,8.14,8.14,8.14,8.14,8.14,8.14,8.14,8.14,8.14,8.14,8.14,8.14,5.96,5.96,5.96,5.96,2.95,2.95,6.91,6.91,6.91,6.91,6.91,6.91,6.91,6.91,6.91,5.64,5.64,5.64,5.64,4.0,1.22,0.74,1.32,5.13,5.13,5.13,5.13,5.13,5.13,1.38,3.37,3.37,6.07,6.07,6.07,10.81,10.81,10.81,10.81,12.83,12.83,12.83,12.83,12.83,12.83,4.86,4.86,4.86,4.86,4.49,4.49,4.49,4.49,3.41,3.41,3.41,3.41,15.04,15.04,15.04,2.89,2.89,2.89,2.89,2.89,8.56,8.56,8.56,8.56,8.56,8.56,8.56,8.56,8.56,8.56,8.56,10.01,10.01,10.01,10.01,10.01,10.01,10.01,10.01,10.01,25.65,25.65,25.65,25.65,25.65,25.65,25.65,21.89,21.89,21.89,21.89,21.89,21.89,21.89,21.89,21.89,21.89,21.89,21.89,21.89,21.89,21.89,19.58,19.58,19.58,19.58,19.58,19.58,19.58,19.58,19.58,19.58,19.58,19.58,19.58,19.58,19.58,19.58,19.58,19.58,19.58,19.58,19.58,19.58,19.58,19.58,19.58,19.58,19.58,19.58,19.58,19.58,4.05,4.05,4.05,4.05,4.05,4.05,4.05,2.46,2.46,2.46,2.46,2.46,2.46,2.46,2.46,3.44,3.44,3.44,3.44,3.44,3.44,2.93,2.93,0.46,1.52,1.52,1.52,1.47,1.47,2.03,2.03,2.68,2.68,10.59,10.59,10.59,10.59,10.59,10.59,10.59,10.59,10.59,10.59,10.59,13.89,13.89,13.89,13.89,6.2,6.2,6.2,6.2,6.2,6.2,6.2,6.2,6.2,6.2,6.2,6.2,6.2,6.2,6.2,6.2,6.2,6.2,4.93,4.93,4.93,4.93,4.93,4.93,5.86,5.86,5.86,5.86,5.86,5.86,5.86,5.86,5.86,5.86,3.64,3.64,3.75,3.97,3.97,3.97,3.97,3.97,3.97,3.97,3.97,3.97,3.97,3.97,3.97,6.96,6.96,6.96,6.96,6.96,6.41,6.41,6.41,6.41,6.41,3.33,3.33,3.33,3.33,1.21,2.97,2.25,1.76,5.32,5.32,5.32,4.95,4.95,4.95,13.92,13.92,13.92,13.92,13.92,2.24,2.24,2.24,6.09,6.09,6.09,2.18,2.18,2.18,2.18,9.9,9.9,9.9,9.9,9.9,9.9,9.9,9.9,9.9,9.9,9.9,9.9,7.38,7.38,7.38,7.38,7.38,7.38,7.38,7.38,3.24,3.24,3.24,6.06,6.06,5.19,5.19,5.19,5.19,5.19,5.19,5.19,5.19,1.52,1.89,3.78,3.78,4.39,4.39,4.15,2.01,1.25,1.25,1.69,1.69,2.02,1.91,1.91,18.1,18.1,18.1,18.1,18.1,18.1,18.1,18.1,18.1,18.1,18.1,18.1,18.1,18.1,18.1,18.1,18.1,18.1,18.1,18.1,18.1,18.1,18.1,18.1,18.1,18.1,18.1,18.1,18.1,18.1,18.1,18.1,18.1,18.1,18.1,18.1,18.1,18.1,18.1,18.1,18.1,18.1,18.1,18.1,18.1,18.1,18.1,18.1,18.1,18.1,18.1,18.1,18.1,18.1,18.1,18.1,18.1,18.1,18.1,18.1,18.1,18.1,18.1,18.1,18.1,18.1,18.1,18.1,18.1,18.1,18.1,18.1,18.1,18.1,18.1,18.1,18.1,18.1,18.1,18.1,18.1,18.1,18.1,18.1,18.1,18.1,18.1,18.1,18.1,18.1,18.1,18.1,18.1,18.1,18.1,18.1,18.1,18.1,18.1,18.1,18.1,18.1,18.1,18.1,18.1,18.1,18.1,18.1,18.1,18.1,18.1,18.1,18.1,18.1,18.1,18.1,18.1,18.1,18.1,18.1,18.1,18.1,18.1,18.1,18.1,18.1,18.1,18.1,18.1,18.1,18.1,18.1,27.74,27.74,27.74,27.74,27.74,9.69,9.69,9.69,9.69,9.69,9.69,9.69,9.69,11.93,11.93,11.93,11.93,11.93]},{\"axis\":{\"matches\":true},\"label\":\"chas\",\"values\":[0,0,0,0,0,0,0,0,0,0,0,0,0,0,0,0,0,0,0,0,0,0,0,0,0,0,0,0,0,0,0,0,0,0,0,0,0,0,0,0,0,0,0,0,0,0,0,0,0,0,0,0,0,0,0,0,0,0,0,0,0,0,0,0,0,0,0,0,0,0,0,0,0,0,0,0,0,0,0,0,0,0,0,0,0,0,0,0,0,0,0,0,0,0,0,0,0,0,0,0,0,0,0,0,0,0,0,0,0,0,0,0,0,0,0,0,0,0,0,0,0,0,0,0,0,0,0,0,0,0,0,0,0,0,0,0,0,0,0,0,0,0,1,0,0,0,0,0,0,0,0,0,1,0,1,1,0,0,0,0,1,0,1,1,0,0,0,0,0,0,0,0,0,0,0,0,0,0,0,0,0,0,0,0,0,0,0,0,0,0,0,0,0,0,0,0,0,0,0,0,0,0,0,0,0,0,0,0,1,1,1,1,1,0,0,0,1,0,1,1,1,1,1,0,0,0,0,0,0,0,0,0,0,0,1,0,1,0,0,0,0,0,0,0,0,0,0,0,0,0,0,0,0,0,0,0,0,0,0,0,0,0,0,0,0,0,0,0,0,1,0,0,0,1,1,0,1,1,0,0,0,0,1,1,0,0,0,0,0,0,0,0,0,0,0,0,0,0,0,0,0,0,0,0,0,0,0,0,0,0,0,0,0,0,0,0,0,0,0,0,0,0,0,0,0,0,0,0,0,0,0,0,0,0,0,0,0,0,0,0,0,0,0,0,0,0,0,0,0,0,0,0,0,0,0,0,1,1,1,0,0,0,0,1,1,0,0,0,0,1,1,0,1,0,0,0,0,0,0,0,0,0,0,0,0,0,0,0,0,0,0,0,0,0,0,0,0,0,0,0,0,0,0,0,0,0,0,0,0,0,0,0,0,0,0,0,0,0,0,0,0,0,0,0,0,0,0,0,0,0,0,0,0,0,0,0,0,0,0,0,0,0,0,0,0,0,0,0,0,0,0,0,0,0,0,0,0,0,0,0,0,0,0,0,0,0,0,0,0,0,0,0,0,0,0,0,0,0,0,0,0,0,0,0,0,0,0,0,0,0,0,0,0,0,0,0,0,0,0,0,0,0,0,0,0,0]},{\"axis\":{\"matches\":true},\"label\":\"nox\",\"values\":[0.538,0.469,0.469,0.458,0.458,0.458,0.524,0.524,0.524,0.524,0.524,0.524,0.524,0.538,0.538,0.538,0.538,0.538,0.538,0.538,0.538,0.538,0.538,0.538,0.538,0.538,0.538,0.538,0.538,0.538,0.538,0.538,0.538,0.538,0.538,0.499,0.499,0.499,0.499,0.428,0.428,0.448,0.448,0.448,0.448,0.448,0.448,0.448,0.448,0.448,0.439,0.439,0.439,0.439,0.41,0.403,0.41,0.411,0.453,0.453,0.453,0.453,0.453,0.453,0.4161,0.398,0.398,0.409,0.409,0.409,0.413,0.413,0.413,0.413,0.437,0.437,0.437,0.437,0.437,0.437,0.426,0.426,0.426,0.426,0.449,0.449,0.449,0.449,0.489,0.489,0.489,0.489,0.464,0.464,0.464,0.445,0.445,0.445,0.445,0.445,0.52,0.52,0.52,0.52,0.52,0.52,0.52,0.52,0.52,0.52,0.52,0.547,0.547,0.547,0.547,0.547,0.547,0.547,0.547,0.547,0.581,0.581,0.581,0.581,0.581,0.581,0.581,0.624,0.624,0.624,0.624,0.624,0.624,0.624,0.624,0.624,0.624,0.624,0.624,0.624,0.624,0.624,0.871,0.871,0.871,0.871,0.871,0.871,0.871,0.871,0.871,0.871,0.871,0.871,0.871,0.871,0.871,0.605,0.605,0.871,0.605,0.605,0.605,0.605,0.605,0.605,0.605,0.605,0.605,0.605,0.605,0.605,0.51,0.51,0.51,0.51,0.51,0.51,0.51,0.488,0.488,0.488,0.488,0.488,0.488,0.488,0.488,0.437,0.437,0.437,0.437,0.437,0.437,0.401,0.401,0.422,0.404,0.404,0.404,0.403,0.403,0.415,0.415,0.4161,0.4161,0.489,0.489,0.489,0.489,0.489,0.489,0.489,0.489,0.489,0.489,0.489,0.55,0.55,0.55,0.55,0.507,0.507,0.507,0.507,0.504,0.504,0.504,0.504,0.504,0.504,0.504,0.504,0.507,0.507,0.507,0.507,0.507,0.507,0.428,0.428,0.428,0.428,0.428,0.428,0.431,0.431,0.431,0.431,0.431,0.431,0.431,0.431,0.431,0.431,0.392,0.392,0.394,0.647,0.647,0.647,0.647,0.647,0.647,0.647,0.647,0.647,0.647,0.575,0.575,0.464,0.464,0.464,0.464,0.464,0.447,0.447,0.447,0.447,0.447,0.4429,0.4429,0.4429,0.4429,0.401,0.4,0.389,0.385,0.405,0.405,0.405,0.411,0.411,0.411,0.437,0.437,0.437,0.437,0.437,0.4,0.4,0.4,0.433,0.433,0.433,0.472,0.472,0.472,0.472,0.544,0.544,0.544,0.544,0.544,0.544,0.544,0.544,0.544,0.544,0.544,0.544,0.493,0.493,0.493,0.493,0.493,0.493,0.493,0.493,0.46,0.46,0.46,0.4379,0.4379,0.515,0.515,0.515,0.515,0.515,0.515,0.515,0.515,0.442,0.518,0.484,0.484,0.442,0.442,0.429,0.435,0.429,0.429,0.411,0.411,0.41,0.413,0.413,0.77,0.77,0.77,0.77,0.77,0.77,0.77,0.77,0.718,0.718,0.718,0.631,0.631,0.631,0.631,0.631,0.668,0.668,0.668,0.671,0.671,0.671,0.671,0.671,0.671,0.671,0.7,0.7,0.7,0.7,0.7,0.7,0.7,0.7,0.7,0.7,0.7,0.693,0.693,0.693,0.693,0.693,0.693,0.693,0.693,0.693,0.693,0.693,0.693,0.693,0.659,0.659,0.597,0.597,0.597,0.597,0.597,0.597,0.693,0.679,0.679,0.679,0.679,0.718,0.718,0.718,0.614,0.614,0.584,0.679,0.584,0.679,0.679,0.679,0.584,0.584,0.584,0.713,0.713,0.74,0.74,0.74,0.74,0.74,0.74,0.74,0.74,0.74,0.74,0.74,0.74,0.74,0.713,0.713,0.713,0.713,0.713,0.713,0.713,0.713,0.713,0.713,0.713,0.713,0.713,0.713,0.713,0.713,0.655,0.655,0.655,0.584,0.58,0.58,0.58,0.532,0.58,0.614,0.584,0.584,0.614,0.614,0.614,0.614,0.532,0.532,0.532,0.532,0.583,0.583,0.583,0.583,0.609,0.609,0.609,0.609,0.609,0.585,0.585,0.585,0.585,0.585,0.585,0.585,0.585,0.573,0.573,0.573,0.573,0.573]},{\"axis\":{\"matches\":true},\"label\":\"rm\",\"values\":[6.575,6.421,7.185,6.998,7.147,6.43,6.012,6.172,5.631,6.004,6.377,6.009,5.889,5.949,6.096,5.834,5.935,5.99,5.456,5.727,5.57,5.965,6.142,5.813,5.924,5.599,5.813,6.047,6.495,6.674,5.713,6.072,5.95,5.701,6.096,5.933,5.841,5.85,5.966,6.595,7.024,6.77,6.169,6.211,6.069,5.682,5.786,6.03,5.399,5.602,5.963,6.115,6.511,5.998,5.888,7.249,6.383,6.816,6.145,5.927,5.741,5.966,6.456,6.762,7.104,6.29,5.787,5.878,5.594,5.885,6.417,5.961,6.065,6.245,6.273,6.286,6.279,6.14,6.232,5.874,6.727,6.619,6.302,6.167,6.389,6.63,6.015,6.121,7.007,7.079,6.417,6.405,6.442,6.211,6.249,6.625,6.163,8.069,7.82,7.416,6.727,6.781,6.405,6.137,6.167,5.851,5.836,6.127,6.474,6.229,6.195,6.715,5.913,6.092,6.254,5.928,6.176,6.021,5.872,5.731,5.87,6.004,5.961,5.856,5.879,5.986,5.613,5.693,6.431,5.637,6.458,6.326,6.372,5.822,5.757,6.335,5.942,6.454,5.857,6.151,6.174,5.019,5.403,5.468,4.903,6.13,5.628,4.926,5.186,5.597,6.122,5.404,5.012,5.709,6.129,6.152,5.272,6.943,6.066,6.51,6.25,7.489,7.802,8.375,5.854,6.101,7.929,5.877,6.319,6.402,5.875,5.88,5.572,6.416,5.859,6.546,6.02,6.315,6.86,6.98,7.765,6.144,7.155,6.563,5.604,6.153,7.831,6.782,6.556,7.185,6.951,6.739,7.178,6.8,6.604,7.875,7.287,7.107,7.274,6.975,7.135,6.162,7.61,7.853,8.034,5.891,6.326,5.783,6.064,5.344,5.96,5.404,5.807,6.375,5.412,6.182,5.888,6.642,5.951,6.373,6.951,6.164,6.879,6.618,8.266,8.725,8.04,7.163,7.686,6.552,5.981,7.412,8.337,8.247,6.726,6.086,6.631,7.358,6.481,6.606,6.897,6.095,6.358,6.393,5.593,5.605,6.108,6.226,6.433,6.718,6.487,6.438,6.957,8.259,6.108,5.876,7.454,8.704,7.333,6.842,7.203,7.52,8.398,7.327,7.206,5.56,7.014,8.297,7.47,5.92,5.856,6.24,6.538,7.691,6.758,6.854,7.267,6.826,6.482,6.812,7.82,6.968,7.645,7.923,7.088,6.453,6.23,6.209,6.315,6.565,6.861,7.148,6.63,6.127,6.009,6.678,6.549,5.79,6.345,7.041,6.871,6.59,6.495,6.982,7.236,6.616,7.42,6.849,6.635,5.972,4.973,6.122,6.023,6.266,6.567,5.705,5.914,5.782,6.382,6.113,6.426,6.376,6.041,5.708,6.415,6.431,6.312,6.083,5.868,6.333,6.144,5.706,6.031,6.316,6.31,6.037,5.869,5.895,6.059,5.985,5.968,7.241,6.54,6.696,6.874,6.014,5.898,6.516,6.635,6.939,6.49,6.579,5.884,6.728,5.663,5.936,6.212,6.395,6.127,6.112,6.398,6.251,5.362,5.803,8.78,3.561,4.963,3.863,4.97,6.683,7.016,6.216,5.875,4.906,4.138,7.313,6.649,6.794,6.38,6.223,6.968,6.545,5.536,5.52,4.368,5.277,4.652,5.0,4.88,5.39,5.713,6.051,5.036,6.193,5.887,6.471,6.405,5.747,5.453,5.852,5.987,6.343,6.404,5.349,5.531,5.683,4.138,5.608,5.617,6.852,5.757,6.657,4.628,5.155,4.519,6.434,6.782,5.304,5.957,6.824,6.411,6.006,5.648,6.103,5.565,5.896,5.837,6.202,6.193,6.38,6.348,6.833,6.425,6.436,6.208,6.629,6.461,6.152,5.935,5.627,5.818,6.406,6.219,6.485,5.854,6.459,6.341,6.251,6.185,6.417,6.749,6.655,6.297,7.393,6.728,6.525,5.976,5.936,6.301,6.081,6.701,6.376,6.317,6.513,6.209,5.759,5.952,6.003,5.926,5.713,6.167,6.229,6.437,6.98,5.427,6.162,6.484,5.304,6.185,6.229,6.242,6.75,7.061,5.762,5.871,6.312,6.114,5.905,5.454,5.414,5.093,5.983,5.983,5.707,5.926,5.67,5.39,5.794,6.019,5.569,6.027,6.593,6.12,6.976,6.794,6.03]},{\"axis\":{\"matches\":true},\"label\":\"age\",\"values\":[65.2,78.9,61.1,45.8,54.2,58.7,66.6,96.1,100.0,85.9,94.3,82.9,39.0,61.8,84.5,56.5,29.3,81.7,36.6,69.5,98.1,89.2,91.7,100.0,94.1,85.7,90.3,88.8,94.4,87.3,94.1,100.0,82.0,95.0,96.9,68.2,61.4,41.5,30.2,21.8,15.8,2.9,6.6,6.5,40.0,33.8,33.3,85.5,95.3,62.0,45.7,63.0,21.1,21.4,47.6,21.9,35.7,40.5,29.2,47.2,66.2,93.4,67.8,43.4,59.5,17.8,31.1,21.4,36.8,33.0,6.6,17.5,7.8,6.2,6.0,45.0,74.5,45.8,53.7,36.6,33.5,70.4,32.2,46.7,48.0,56.1,45.1,56.8,86.3,63.1,66.1,73.9,53.6,28.9,77.3,57.8,69.6,76.0,36.9,62.5,79.9,71.3,85.4,87.4,90.0,96.7,91.9,85.2,97.1,91.2,54.4,81.6,92.9,95.4,84.2,88.2,72.5,82.6,73.1,65.2,69.7,84.1,92.9,97.0,95.8,88.4,95.6,96.0,98.8,94.7,98.9,97.7,97.9,95.4,98.4,98.2,93.5,98.4,98.2,97.9,93.6,100.0,100.0,100.0,97.8,100.0,100.0,95.7,93.8,94.9,97.3,100.0,88.0,98.5,96.0,82.6,94.0,97.4,100.0,100.0,92.6,90.8,98.2,93.9,91.8,93.0,96.2,79.2,96.1,95.2,94.6,97.3,88.5,84.1,68.7,33.1,47.2,73.4,74.4,58.4,83.3,62.2,92.2,95.6,89.8,68.8,53.6,41.1,29.1,38.9,21.5,30.8,26.3,9.9,18.8,32.0,34.1,36.6,38.3,15.3,13.9,38.4,15.7,33.2,31.9,22.3,52.5,72.7,59.1,100.0,92.1,88.6,53.8,32.3,9.8,42.4,56.0,85.1,93.8,92.4,88.5,91.3,77.7,80.8,78.3,83.0,86.5,79.9,17.0,21.4,68.1,76.9,73.3,70.4,66.5,61.5,76.5,71.6,18.5,42.2,54.3,65.1,52.9,7.8,76.5,70.2,34.9,79.2,49.1,17.5,13.0,8.9,6.8,8.4,32.0,19.1,34.2,86.9,100.0,100.0,81.8,89.4,91.5,94.5,91.6,62.8,84.6,67.0,52.6,61.5,42.1,16.3,58.7,51.8,32.9,42.8,49.0,27.6,32.1,32.2,64.5,37.2,49.7,24.8,20.8,31.9,31.5,31.3,45.6,22.9,27.9,27.7,23.4,18.4,42.3,31.1,51.0,58.0,20.1,10.0,47.4,40.4,18.4,17.7,41.1,58.1,71.9,70.3,82.5,76.7,37.8,52.8,90.4,82.8,87.3,77.7,83.2,71.7,67.2,58.8,52.3,54.3,49.9,74.3,40.1,14.7,28.9,43.7,25.8,17.2,32.2,28.4,23.3,38.1,38.5,34.5,46.3,59.6,37.3,45.4,58.5,49.3,59.7,56.4,28.1,48.5,52.3,27.7,29.7,34.5,44.4,35.9,18.5,36.1,21.9,19.5,97.4,91.0,83.4,81.3,88.0,91.1,96.2,89.0,82.9,87.9,91.4,100.0,100.0,96.8,97.5,100.0,89.6,100.0,100.0,97.9,93.3,98.8,96.2,100.0,91.9,99.1,100.0,100.0,91.2,98.1,100.0,89.5,100.0,98.9,97.0,82.5,97.0,92.6,94.7,98.8,96.0,98.9,100.0,77.8,100.0,100.0,100.0,96.0,85.4,100.0,100.0,100.0,97.9,100.0,100.0,100.0,100.0,100.0,100.0,100.0,90.8,89.1,100.0,76.5,100.0,95.3,87.6,85.1,70.6,95.4,59.7,78.7,78.1,95.6,86.1,94.3,74.8,87.9,95.0,94.6,93.3,100.0,87.9,93.9,92.4,97.2,100.0,100.0,96.6,94.8,96.4,96.6,98.7,98.3,92.6,98.2,91.8,99.3,94.1,86.5,87.9,80.3,83.7,84.4,90.0,88.4,83.0,89.9,65.4,48.2,84.7,94.5,71.0,56.7,84.0,90.7,75.0,67.6,95.4,97.4,93.6,97.3,96.7,88.0,64.7,74.9,77.0,40.3,41.9,51.9,79.8,53.2,92.7,98.3,98.0,98.8,83.5,54.0,42.6,28.8,72.9,70.6,65.3,73.5,79.7,69.1,76.7,91.0,89.3,80.8]},{\"axis\":{\"matches\":true},\"label\":\"dis\",\"values\":[4.09,4.9671,4.9671,6.0622,6.0622,6.0622,5.5605,5.9505,6.0821,6.5921,6.3467,6.2267,5.4509,4.7075,4.4619,4.4986,4.4986,4.2579,3.7965,3.7965,3.7979,4.0123,3.9769,4.0952,4.3996,4.4546,4.682,4.4534,4.4547,4.239,4.233,4.175,3.99,3.7872,3.7598,3.3603,3.3779,3.9342,3.8473,5.4011,5.4011,5.7209,5.7209,5.7209,5.7209,5.1004,5.1004,5.6894,5.87,6.0877,6.8147,6.8147,6.8147,6.8147,7.3197,8.6966,9.1876,8.3248,7.8148,6.932,7.2254,6.8185,7.2255,7.9809,9.2229,6.6115,6.6115,6.498,6.498,6.498,5.2873,5.2873,5.2873,5.2873,4.2515,4.5026,4.0522,4.0905,5.0141,4.5026,5.4007,5.4007,5.4007,5.4007,4.7794,4.4377,4.4272,3.7476,3.4217,3.4145,3.0923,3.0921,3.6659,3.6659,3.615,3.4952,3.4952,3.4952,3.4952,3.4952,2.7778,2.8561,2.7147,2.7147,2.421,2.1069,2.211,2.1224,2.4329,2.5451,2.7778,2.6775,2.3534,2.548,2.2565,2.4631,2.7301,2.7474,2.4775,2.7592,2.2577,2.1974,2.0869,1.9444,2.0063,1.9929,1.7572,1.7883,1.8125,1.9799,2.1185,2.271,2.3274,2.4699,2.346,2.1107,1.9669,1.8498,1.6686,1.6687,1.6119,1.4394,1.3216,1.4118,1.3459,1.4191,1.5166,1.4608,1.5296,1.5257,1.618,1.5916,1.6102,1.6232,1.7494,1.7455,1.7364,1.8773,1.7573,1.7659,1.7984,1.9709,2.0407,2.162,2.422,2.2834,2.0459,2.4259,2.1,2.2625,2.4259,2.3887,2.5961,2.6463,2.7019,3.1323,3.5549,3.3175,2.9153,2.829,2.741,2.5979,2.7006,2.847,2.9879,3.2797,3.1992,3.7886,4.5667,4.5667,6.4798,6.4798,6.4798,6.2196,6.2196,5.6484,7.309,7.309,7.309,7.6534,7.6534,6.27,6.27,5.118,5.118,3.9454,4.3549,4.3549,4.2392,3.875,3.8771,3.665,3.6526,3.9454,3.5875,3.9454,3.1121,3.4211,2.8893,3.3633,2.8617,3.048,3.2721,3.2721,2.8944,2.8944,3.2157,3.2157,3.3751,3.3751,3.6715,3.6715,3.8384,3.6519,3.6519,3.6519,4.148,4.148,6.1899,6.1899,6.3361,6.3361,7.0355,7.0355,7.9549,7.9549,8.0555,8.0555,7.8265,7.8265,7.3967,7.3967,8.9067,8.9067,9.2203,9.2203,6.3361,1.801,1.8946,2.0107,2.1121,2.1398,2.2885,2.0788,1.9301,1.9865,2.1329,2.4216,2.872,3.9175,4.429,4.429,3.9175,4.3665,4.0776,4.2673,4.7872,4.8628,4.1403,4.1007,4.6947,5.2447,5.2119,5.885,7.3073,7.3073,9.0892,7.3172,7.3172,7.3172,5.1167,5.1167,5.1167,5.5027,5.5027,5.9604,5.9604,6.32,7.8278,7.8278,7.8278,5.4917,5.4917,5.4917,4.022,3.37,3.0992,3.1827,3.3175,3.1025,2.5194,2.6403,2.834,3.2628,3.6023,3.945,3.9986,4.0317,3.5325,4.0019,4.5404,4.5404,4.7211,4.7211,4.7211,5.4159,5.4159,5.4159,5.2146,5.2146,5.8736,6.6407,6.6407,6.4584,6.4584,5.9853,5.2311,5.615,4.8122,4.8122,4.8122,7.0379,6.2669,5.7321,6.4654,8.0136,8.0136,8.5353,8.344,8.7921,8.7921,10.7103,10.7103,12.1265,10.5857,10.5857,2.1222,2.5052,2.7227,2.5091,2.5182,2.2955,2.1036,1.9047,1.9047,1.6132,1.7523,1.5106,1.3325,1.3567,1.2024,1.1691,1.1296,1.1742,1.137,1.3163,1.3449,1.358,1.3861,1.3861,1.4165,1.5192,1.5804,1.5331,1.4395,1.4261,1.4672,1.5184,1.5895,1.7281,1.9265,2.1678,1.77,1.7912,1.7821,1.7257,1.6768,1.6334,1.4896,1.5004,1.5888,1.5741,1.639,1.7028,1.6074,1.4254,1.1781,1.2852,1.4547,1.4655,1.413,1.5275,1.5539,1.5894,1.6582,1.8347,1.8195,1.6475,1.8026,1.794,1.8589,1.8746,1.9512,2.0218,2.0635,1.9096,1.9976,1.8629,1.9356,1.9682,2.0527,2.0882,2.2004,2.3158,2.2222,2.1247,2.0026,1.9142,1.8206,1.8172,1.8662,2.0651,2.0048,1.9784,1.8956,1.9879,2.072,2.198,2.2616,2.185,2.3236,2.3552,2.3682,2.4527,2.4961,2.4358,2.5806,2.7792,2.7831,2.7175,2.5975,2.5671,2.7344,2.8016,2.9634,3.0665,2.8715,2.5403,2.9084,2.8237,3.0334,3.0993,2.8965,2.5329,2.4298,2.206,2.3053,2.1007,2.1705,1.9512,3.4242,3.3317,3.4106,4.0983,3.724,3.9917,3.5459,3.1523,1.8209,1.7554,1.8226,1.8681,2.1099,2.3817,2.3817,2.7986,2.7986,2.8927,2.4091,2.3999,2.4982,2.4786,2.2875,2.1675,2.3889,2.505]},{\"axis\":{\"matches\":true},\"label\":\"rad\",\"values\":[1,2,2,3,3,3,5,5,5,5,5,5,5,4,4,4,4,4,4,4,4,4,4,4,4,4,4,4,4,4,4,4,4,4,4,5,5,5,5,3,3,3,3,3,3,3,3,3,3,3,4,4,4,4,3,5,2,5,8,8,8,8,8,8,3,4,4,4,4,4,4,4,4,4,5,5,5,5,5,5,4,4,4,4,3,3,3,3,2,2,2,2,4,4,4,2,2,2,2,2,5,5,5,5,5,5,5,5,5,5,5,6,6,6,6,6,6,6,6,6,2,2,2,2,2,2,2,4,4,4,4,4,4,4,4,4,4,4,4,4,4,4,5,5,5,5,5,5,5,5,5,5,5,5,5,5,5,5,5,5,5,5,5,5,5,5,5,5,5,5,5,5,5,5,5,5,5,5,5,3,3,3,3,3,3,3,3,5,5,5,5,5,5,1,1,4,2,2,2,3,3,2,2,4,4,4,4,4,4,4,4,4,4,4,4,4,5,5,5,5,8,8,8,8,8,8,8,8,8,8,8,8,8,8,8,8,8,8,6,6,6,6,6,6,7,7,7,7,7,7,7,7,7,7,1,1,3,5,5,5,5,5,5,5,5,5,5,5,5,3,3,3,3,3,4,4,4,4,4,5,5,5,5,1,1,1,1,6,6,6,4,4,4,4,4,4,4,4,5,5,5,7,7,7,7,7,7,7,4,4,4,4,4,4,4,4,4,4,4,4,5,5,5,5,5,5,5,5,4,4,4,1,1,5,5,5,5,5,5,5,5,1,1,5,5,3,3,4,4,1,1,4,4,5,4,4,24,24,24,24,24,24,24,24,24,24,24,24,24,24,24,24,24,24,24,24,24,24,24,24,24,24,24,24,24,24,24,24,24,24,24,24,24,24,24,24,24,24,24,24,24,24,24,24,24,24,24,24,24,24,24,24,24,24,24,24,24,24,24,24,24,24,24,24,24,24,24,24,24,24,24,24,24,24,24,24,24,24,24,24,24,24,24,24,24,24,24,24,24,24,24,24,24,24,24,24,24,24,24,24,24,24,24,24,24,24,24,24,24,24,24,24,24,24,24,24,24,24,24,24,24,24,24,24,24,24,24,24,4,4,4,4,4,6,6,6,6,6,6,6,6,1,1,1,1,1]},{\"axis\":{\"matches\":true},\"label\":\"tax\",\"values\":[296,242,242,222,222,222,311,311,311,311,311,311,311,307,307,307,307,307,307,307,307,307,307,307,307,307,307,307,307,307,307,307,307,307,307,279,279,279,279,252,252,233,233,233,233,233,233,233,233,233,243,243,243,243,469,226,313,256,284,284,284,284,284,284,216,337,337,345,345,345,305,305,305,305,398,398,398,398,398,398,281,281,281,281,247,247,247,247,270,270,270,270,270,270,270,276,276,276,276,276,384,384,384,384,384,384,384,384,384,384,384,432,432,432,432,432,432,432,432,432,188,188,188,188,188,188,188,437,437,437,437,437,437,437,437,437,437,437,437,437,437,437,403,403,403,403,403,403,403,403,403,403,403,403,403,403,403,403,403,403,403,403,403,403,403,403,403,403,403,403,403,403,296,296,296,296,296,296,296,193,193,193,193,193,193,193,193,398,398,398,398,398,398,265,265,255,329,329,329,402,402,348,348,224,224,277,277,277,277,277,277,277,277,277,277,277,276,276,276,276,307,307,307,307,307,307,307,307,307,307,307,307,307,307,307,307,307,307,300,300,300,300,300,300,330,330,330,330,330,330,330,330,330,330,315,315,244,264,264,264,264,264,264,264,264,264,264,264,264,223,223,223,223,223,254,254,254,254,254,216,216,216,216,198,285,300,241,293,293,293,245,245,245,289,289,289,289,289,358,358,358,329,329,329,222,222,222,222,304,304,304,304,304,304,304,304,304,304,304,304,287,287,287,287,287,287,287,287,430,430,430,304,304,224,224,224,224,224,224,224,224,284,422,370,370,352,352,351,280,335,335,411,411,187,334,334,666,666,666,666,666,666,666,666,666,666,666,666,666,666,666,666,666,666,666,666,666,666,666,666,666,666,666,666,666,666,666,666,666,666,666,666,666,666,666,666,666,666,666,666,666,666,666,666,666,666,666,666,666,666,666,666,666,666,666,666,666,666,666,666,666,666,666,666,666,666,666,666,666,666,666,666,666,666,666,666,666,666,666,666,666,666,666,666,666,666,666,666,666,666,666,666,666,666,666,666,666,666,666,666,666,666,666,666,666,666,666,666,666,666,666,666,666,666,666,666,666,666,666,666,666,666,666,666,666,666,666,666,711,711,711,711,711,391,391,391,391,391,391,391,391,273,273,273,273,273]},{\"axis\":{\"matches\":true},\"label\":\"ptratio\",\"values\":[15.3,17.8,17.8,18.7,18.7,18.7,15.2,15.2,15.2,15.2,15.2,15.2,15.2,21.0,21.0,21.0,21.0,21.0,21.0,21.0,21.0,21.0,21.0,21.0,21.0,21.0,21.0,21.0,21.0,21.0,21.0,21.0,21.0,21.0,21.0,19.2,19.2,19.2,19.2,18.3,18.3,17.9,17.9,17.9,17.9,17.9,17.9,17.9,17.9,17.9,16.8,16.8,16.8,16.8,21.1,17.9,17.3,15.1,19.7,19.7,19.7,19.7,19.7,19.7,18.6,16.1,16.1,18.9,18.9,18.9,19.2,19.2,19.2,19.2,18.7,18.7,18.7,18.7,18.7,18.7,19.0,19.0,19.0,19.0,18.5,18.5,18.5,18.5,17.8,17.8,17.8,17.8,18.2,18.2,18.2,18.0,18.0,18.0,18.0,18.0,20.9,20.9,20.9,20.9,20.9,20.9,20.9,20.9,20.9,20.9,20.9,17.8,17.8,17.8,17.8,17.8,17.8,17.8,17.8,17.8,19.1,19.1,19.1,19.1,19.1,19.1,19.1,21.2,21.2,21.2,21.2,21.2,21.2,21.2,21.2,21.2,21.2,21.2,21.2,21.2,21.2,21.2,14.7,14.7,14.7,14.7,14.7,14.7,14.7,14.7,14.7,14.7,14.7,14.7,14.7,14.7,14.7,14.7,14.7,14.7,14.7,14.7,14.7,14.7,14.7,14.7,14.7,14.7,14.7,14.7,14.7,14.7,16.6,16.6,16.6,16.6,16.6,16.6,16.6,17.8,17.8,17.8,17.8,17.8,17.8,17.8,17.8,15.2,15.2,15.2,15.2,15.2,15.2,15.6,15.6,14.4,12.6,12.6,12.6,17.0,17.0,14.7,14.7,14.7,14.7,18.6,18.6,18.6,18.6,18.6,18.6,18.6,18.6,18.6,18.6,18.6,16.4,16.4,16.4,16.4,17.4,17.4,17.4,17.4,17.4,17.4,17.4,17.4,17.4,17.4,17.4,17.4,17.4,17.4,17.4,17.4,17.4,17.4,16.6,16.6,16.6,16.6,16.6,16.6,19.1,19.1,19.1,19.1,19.1,19.1,19.1,19.1,19.1,19.1,16.4,16.4,15.9,13.0,13.0,13.0,13.0,13.0,13.0,13.0,13.0,13.0,13.0,13.0,13.0,18.6,18.6,18.6,18.6,18.6,17.6,17.6,17.6,17.6,17.6,14.9,14.9,14.9,14.9,13.6,15.3,15.3,18.2,16.6,16.6,16.6,19.2,19.2,19.2,16.0,16.0,16.0,16.0,16.0,14.8,14.8,14.8,16.1,16.1,16.1,18.4,18.4,18.4,18.4,18.4,18.4,18.4,18.4,18.4,18.4,18.4,18.4,18.4,18.4,18.4,18.4,19.6,19.6,19.6,19.6,19.6,19.6,19.6,19.6,16.9,16.9,16.9,16.9,16.9,20.2,20.2,20.2,20.2,20.2,20.2,20.2,20.2,15.5,15.9,17.6,17.6,18.8,18.8,17.9,17.0,19.7,19.7,18.3,18.3,17.0,22.0,22.0,20.2,20.2,20.2,20.2,20.2,20.2,20.2,20.2,20.2,20.2,20.2,20.2,20.2,20.2,20.2,20.2,20.2,20.2,20.2,20.2,20.2,20.2,20.2,20.2,20.2,20.2,20.2,20.2,20.2,20.2,20.2,20.2,20.2,20.2,20.2,20.2,20.2,20.2,20.2,20.2,20.2,20.2,20.2,20.2,20.2,20.2,20.2,20.2,20.2,20.2,20.2,20.2,20.2,20.2,20.2,20.2,20.2,20.2,20.2,20.2,20.2,20.2,20.2,20.2,20.2,20.2,20.2,20.2,20.2,20.2,20.2,20.2,20.2,20.2,20.2,20.2,20.2,20.2,20.2,20.2,20.2,20.2,20.2,20.2,20.2,20.2,20.2,20.2,20.2,20.2,20.2,20.2,20.2,20.2,20.2,20.2,20.2,20.2,20.2,20.2,20.2,20.2,20.2,20.2,20.2,20.2,20.2,20.2,20.2,20.2,20.2,20.2,20.2,20.2,20.2,20.2,20.2,20.2,20.2,20.2,20.2,20.2,20.2,20.2,20.2,20.2,20.2,20.2,20.2,20.2,20.2,20.2,20.1,20.1,20.1,20.1,20.1,19.2,19.2,19.2,19.2,19.2,19.2,19.2,19.2,21.0,21.0,21.0,21.0,21.0]},{\"axis\":{\"matches\":true},\"label\":\"black\",\"values\":[396.9,396.9,392.83,394.63,396.9,394.12,395.6,396.9,386.63,386.71,392.52,396.9,390.5,396.9,380.02,395.62,386.85,386.75,288.99,390.95,376.57,392.53,396.9,394.54,394.33,303.42,376.88,306.38,387.94,380.23,360.17,376.73,232.6,358.77,248.31,396.9,377.56,396.9,393.43,395.63,395.62,385.41,383.37,394.46,389.39,396.9,396.9,392.74,396.9,396.9,395.56,393.97,396.9,396.9,396.9,395.93,396.9,392.9,390.68,396.9,395.11,378.08,396.9,395.58,393.24,396.9,396.9,396.21,396.9,396.9,383.73,376.94,390.91,377.17,394.92,383.23,373.66,386.96,386.4,396.06,396.9,395.63,396.9,390.64,396.9,392.3,395.99,395.15,396.9,396.06,392.18,393.55,395.01,396.33,396.9,357.98,391.83,396.9,393.53,396.9,394.76,395.58,70.8,394.47,392.69,394.05,395.67,387.69,395.24,391.23,393.49,395.59,394.95,396.9,388.74,344.91,393.3,394.51,338.63,391.5,389.15,377.67,378.09,370.31,379.38,385.02,359.29,392.11,396.9,396.9,395.04,396.9,385.76,388.69,262.76,394.67,378.25,394.08,392.04,396.9,388.08,396.9,396.9,396.9,396.9,172.91,169.27,391.71,356.99,351.85,372.8,341.6,343.28,261.95,321.02,88.01,88.63,363.43,353.89,364.31,338.92,374.43,389.61,388.45,395.11,240.16,369.3,227.61,297.09,330.04,292.29,348.13,396.9,395.5,393.23,390.96,393.23,395.6,391.27,396.9,395.56,396.9,394.12,396.9,391.0,387.11,392.63,393.87,382.84,396.9,377.68,389.71,390.49,393.37,376.7,394.23,396.9,354.31,392.2,396.9,384.3,393.77,395.38,392.78,390.55,396.9,394.87,389.43,381.32,396.9,393.25,395.24,390.94,385.81,348.93,393.63,392.8,392.78,396.9,393.74,391.7,395.24,390.39,396.9,385.05,382.0,387.38,372.08,377.51,380.34,378.35,376.14,385.91,378.95,360.2,376.75,388.45,390.07,379.41,383.78,391.25,394.62,372.75,374.71,372.49,389.13,390.18,376.14,374.71,393.74,396.28,377.07,386.09,396.9,392.89,395.18,386.34,389.7,383.29,391.93,392.8,388.37,386.86,393.42,387.89,392.4,384.07,384.54,390.3,391.34,388.65,396.9,394.96,390.77,396.9,396.9,389.25,393.45,396.9,396.9,387.31,392.23,377.07,395.52,394.72,394.72,341.6,396.9,396.9,371.72,396.9,396.9,396.9,396.9,396.9,396.9,392.85,396.9,368.24,371.58,390.86,395.75,383.61,390.43,393.68,393.36,396.9,396.9,396.9,396.24,350.45,396.9,396.3,393.39,395.69,396.42,390.7,396.9,395.21,396.23,396.9,396.9,396.9,391.13,396.9,393.68,396.9,396.9,382.44,375.21,368.57,394.02,362.25,389.71,389.4,396.9,396.9,394.81,396.14,396.9,396.9,394.74,389.96,396.9,387.97,385.64,364.61,392.43,390.94,389.85,396.9,370.78,392.33,384.46,382.8,376.04,377.73,391.34,395.43,390.74,374.56,350.65,380.79,353.04,354.55,354.7,316.03,131.42,375.52,375.33,392.05,366.15,347.88,396.9,396.9,396.9,363.02,396.9,396.9,393.74,396.9,396.9,396.9,396.9,285.83,396.9,396.9,396.9,372.92,396.9,394.43,378.38,396.9,396.9,396.9,391.98,396.9,393.1,396.9,338.16,396.9,396.9,376.11,396.9,329.46,384.97,370.22,332.09,314.64,179.36,2.6,35.05,28.79,210.97,88.27,27.25,21.57,127.36,16.45,48.45,318.75,319.98,291.55,2.52,3.65,7.68,24.65,18.82,96.73,60.72,83.45,81.33,97.95,100.19,100.63,109.85,27.49,9.32,68.95,396.9,391.45,385.96,395.69,386.73,240.52,43.06,318.01,388.52,396.9,304.21,0.32,355.29,385.09,375.87,6.68,50.92,10.48,3.5,272.21,396.9,255.23,391.43,396.9,393.82,396.9,334.4,22.01,331.29,368.74,396.9,396.9,395.33,393.37,374.68,352.58,302.76,396.21,349.48,379.7,383.32,396.9,393.07,395.28,392.92,370.73,388.62,392.68,388.22,395.09,344.05,318.43,390.11,396.9,396.9,396.9,393.29,396.9,396.9,396.9,395.77,396.9,391.99,396.9,396.9,393.45,396.9]},{\"axis\":{\"matches\":true},\"label\":\"lstat\",\"values\":[4.98,9.14,4.03,2.94,5.33,5.21,12.43,19.15,29.93,17.1,20.45,13.27,15.71,8.26,10.26,8.47,6.58,14.67,11.69,11.28,21.02,13.83,18.72,19.88,16.3,16.51,14.81,17.28,12.8,11.98,22.6,13.04,27.71,18.35,20.34,9.68,11.41,8.77,10.13,4.32,1.98,4.84,5.81,7.44,9.55,10.21,14.15,18.8,30.81,16.2,13.45,9.43,5.28,8.43,14.8,4.81,5.77,3.95,6.86,9.22,13.15,14.44,6.73,9.5,8.05,4.67,10.24,8.1,13.09,8.79,6.72,9.88,5.52,7.54,6.78,8.94,11.97,10.27,12.34,9.1,5.29,7.22,6.72,7.51,9.62,6.53,12.86,8.44,5.5,5.7,8.81,8.2,8.16,6.21,10.59,6.65,11.34,4.21,3.57,6.19,9.42,7.67,10.63,13.44,12.33,16.47,18.66,14.09,12.27,15.55,13.0,10.16,16.21,17.09,10.45,15.76,12.04,10.3,15.37,13.61,14.37,14.27,17.93,25.41,17.58,14.81,27.26,17.19,15.39,18.34,12.6,12.26,11.12,15.03,17.31,16.96,16.9,14.59,21.32,18.46,24.16,34.41,26.82,26.42,29.29,27.8,16.65,29.53,28.32,21.45,14.1,13.28,12.12,15.79,15.12,15.02,16.14,4.59,6.43,7.39,5.5,1.73,1.92,3.32,11.64,9.81,3.7,12.14,11.1,11.32,14.43,12.03,14.69,9.04,9.64,5.33,10.11,6.29,6.92,5.04,7.56,9.45,4.82,5.68,13.98,13.15,4.45,6.68,4.56,5.39,5.1,4.69,2.87,5.03,4.38,2.97,4.08,8.61,6.62,4.56,4.45,7.43,3.11,3.81,2.88,10.87,10.97,18.06,14.66,23.09,17.27,23.98,16.03,9.38,29.55,9.47,13.51,9.69,17.92,10.5,9.71,21.46,9.93,7.6,4.14,4.63,3.13,6.36,3.92,3.76,11.65,5.25,2.47,3.95,8.05,10.88,9.54,4.73,6.36,7.37,11.38,12.4,11.22,5.19,12.5,18.46,9.16,10.15,9.52,6.56,5.9,3.59,3.53,3.54,6.57,9.25,3.11,5.12,7.79,6.9,9.59,7.26,5.91,11.25,8.1,10.45,14.79,7.44,3.16,13.65,13.0,6.59,7.73,6.58,3.53,2.98,6.05,4.16,7.19,4.85,3.76,4.59,3.01,3.16,7.85,8.23,12.93,7.14,7.6,9.51,3.33,3.56,4.7,8.58,10.4,6.27,7.39,15.84,4.97,4.74,6.07,9.5,8.67,4.86,6.93,8.93,6.47,7.53,4.54,9.97,12.64,5.98,11.72,7.9,9.28,11.5,18.33,15.94,10.36,12.73,7.2,6.87,7.7,11.74,6.12,5.08,6.15,12.79,9.97,7.34,9.09,12.43,7.83,5.68,6.75,8.01,9.8,10.56,8.51,9.74,9.29,5.49,8.65,7.18,4.61,10.53,12.67,6.36,5.99,5.89,5.98,5.49,7.79,4.5,8.05,5.57,17.6,13.27,11.48,12.67,7.79,14.19,10.19,14.64,5.29,7.12,14.0,13.33,3.26,3.73,2.96,9.53,8.88,34.77,37.97,13.44,23.24,21.24,23.69,21.78,17.21,21.08,23.6,24.56,30.63,30.81,28.28,31.99,30.62,20.85,17.11,18.76,25.68,15.17,16.35,17.12,19.37,19.92,30.59,29.97,26.77,20.32,20.31,19.77,27.38,22.98,23.34,12.13,26.4,19.78,10.11,21.22,34.37,20.08,36.98,29.05,25.79,26.64,20.62,22.74,15.02,15.7,14.1,23.29,17.16,24.39,15.69,14.52,21.52,24.08,17.64,19.69,12.03,16.22,15.17,23.27,18.05,26.45,34.02,22.88,22.11,19.52,16.59,18.85,23.79,23.98,17.79,16.44,18.13,19.31,17.44,17.73,17.27,16.74,18.71,18.13,19.01,16.94,16.23,14.7,16.42,14.65,13.99,10.29,13.22,14.13,17.15,21.32,18.13,14.76,16.29,12.87,14.36,11.66,18.14,24.1,18.68,24.91,18.03,13.11,10.74,7.74,7.01,10.42,13.34,10.58,14.98,11.45,18.06,23.97,29.68,18.07,13.35,12.01,13.59,17.6,21.14,14.1,12.92,15.1,14.33,9.67,9.08,5.64,6.48,7.88]},{\"axis\":{\"matches\":true},\"label\":\"medv\",\"values\":[24.0,21.6,34.7,33.4,36.2,28.7,22.9,27.1,16.5,18.9,15.0,18.9,21.7,20.4,18.2,19.9,23.1,17.5,20.2,18.2,13.6,19.6,15.2,14.5,15.6,13.9,16.6,14.8,18.4,21.0,12.7,14.5,13.2,13.1,13.5,18.9,20.0,21.0,24.7,30.8,34.9,26.6,25.3,24.7,21.2,19.3,20.0,16.6,14.4,19.4,19.7,20.5,25.0,23.4,18.9,35.4,24.7,31.6,23.3,19.6,18.7,16.0,22.2,25.0,33.0,23.5,19.4,22.0,17.4,20.9,24.2,21.7,22.8,23.4,24.1,21.4,20.0,20.8,21.2,20.3,28.0,23.9,24.8,22.9,23.9,26.6,22.5,22.2,23.6,28.7,22.6,22.0,22.9,25.0,20.6,28.4,21.4,38.7,43.8,33.2,27.5,26.5,18.6,19.3,20.1,19.5,19.5,20.4,19.8,19.4,21.7,22.8,18.8,18.7,18.5,18.3,21.2,19.2,20.4,19.3,22.0,20.3,20.5,17.3,18.8,21.4,15.7,16.2,18.0,14.3,19.2,19.6,23.0,18.4,15.6,18.1,17.4,17.1,13.3,17.8,14.0,14.4,13.4,15.6,11.8,13.8,15.6,14.6,17.8,15.4,21.5,19.6,15.3,19.4,17.0,15.6,13.1,41.3,24.3,23.3,27.0,50.0,50.0,50.0,22.7,25.0,50.0,23.8,23.8,22.3,17.4,19.1,23.1,23.6,22.6,29.4,23.2,24.6,29.9,37.2,39.8,36.2,37.9,32.5,26.4,29.6,50.0,32.0,29.8,34.9,37.0,30.5,36.4,31.1,29.1,50.0,33.3,30.3,34.6,34.9,32.9,24.1,42.3,48.5,50.0,22.6,24.4,22.5,24.4,20.0,21.7,19.3,22.4,28.1,23.7,25.0,23.3,28.7,21.5,23.0,26.7,21.7,27.5,30.1,44.8,50.0,37.6,31.6,46.7,31.5,24.3,31.7,41.7,48.3,29.0,24.0,25.1,31.5,23.7,23.3,22.0,20.1,22.2,23.7,17.6,18.5,24.3,20.5,24.5,26.2,24.4,24.8,29.6,42.8,21.9,20.9,44.0,50.0,36.0,30.1,33.8,43.1,48.8,31.0,36.5,22.8,30.7,50.0,43.5,20.7,21.1,25.2,24.4,35.2,32.4,32.0,33.2,33.1,29.1,35.1,45.4,35.4,46.0,50.0,32.2,22.0,20.1,23.2,22.3,24.8,28.5,37.3,27.9,23.9,21.7,28.6,27.1,20.3,22.5,29.0,24.8,22.0,26.4,33.1,36.1,28.4,33.4,28.2,22.8,20.3,16.1,22.1,19.4,21.6,23.8,16.2,17.8,19.8,23.1,21.0,23.8,23.1,20.4,18.5,25.0,24.6,23.0,22.2,19.3,22.6,19.8,17.1,19.4,22.2,20.7,21.1,19.5,18.5,20.6,19.0,18.7,32.7,16.5,23.9,31.2,17.5,17.2,23.1,24.5,26.6,22.9,24.1,18.6,30.1,18.2,20.6,17.8,21.7,22.7,22.6,25.0,19.9,20.8,16.8,21.9,27.5,21.9,23.1,50.0,50.0,50.0,50.0,50.0,13.8,13.8,15.0,13.9,13.3,13.1,10.2,10.4,10.9,11.3,12.3,8.8,7.2,10.5,7.4,10.2,11.5,15.1,23.2,9.7,13.8,12.7,13.1,12.5,8.5,5.0,6.3,5.6,7.2,12.1,8.3,8.5,5.0,11.9,27.9,17.2,27.5,15.0,17.2,17.9,16.3,7.0,7.2,7.5,10.4,8.8,8.4,16.7,14.2,20.8,13.4,11.7,8.3,10.2,10.9,11.0,9.5,14.5,14.1,16.1,14.3,11.7,13.4,9.6,8.7,8.4,12.8,10.5,17.1,18.4,15.4,10.8,11.8,14.9,12.6,14.1,13.0,13.4,15.2,16.1,17.8,14.9,14.1,12.7,13.5,14.9,20.0,16.4,17.7,19.5,20.2,21.4,19.9,19.0,19.1,19.1,20.1,19.9,19.6,23.2,29.8,13.8,13.3,16.7,12.0,14.6,21.4,23.0,23.7,25.0,21.8,20.6,21.2,19.1,20.6,15.2,7.0,8.1,13.6,20.1,21.8,24.5,23.1,19.7,18.3,21.2,17.5,16.8,22.4,20.6,23.9,22.0,11.9]}],\"hovertemplate\":\"%{xaxis.title.text}=%{x}<br>%{yaxis.title.text}=%{y}<extra></extra>\",\"legendgroup\":\"\",\"marker\":{\"color\":\"#636efa\",\"symbol\":\"circle\"},\"name\":\"\",\"showlegend\":false,\"type\":\"splom\"}],                        {\"template\":{\"data\":{\"histogram2dcontour\":[{\"type\":\"histogram2dcontour\",\"colorbar\":{\"outlinewidth\":0,\"ticks\":\"\"},\"colorscale\":[[0.0,\"#0d0887\"],[0.1111111111111111,\"#46039f\"],[0.2222222222222222,\"#7201a8\"],[0.3333333333333333,\"#9c179e\"],[0.4444444444444444,\"#bd3786\"],[0.5555555555555556,\"#d8576b\"],[0.6666666666666666,\"#ed7953\"],[0.7777777777777778,\"#fb9f3a\"],[0.8888888888888888,\"#fdca26\"],[1.0,\"#f0f921\"]]}],\"choropleth\":[{\"type\":\"choropleth\",\"colorbar\":{\"outlinewidth\":0,\"ticks\":\"\"}}],\"histogram2d\":[{\"type\":\"histogram2d\",\"colorbar\":{\"outlinewidth\":0,\"ticks\":\"\"},\"colorscale\":[[0.0,\"#0d0887\"],[0.1111111111111111,\"#46039f\"],[0.2222222222222222,\"#7201a8\"],[0.3333333333333333,\"#9c179e\"],[0.4444444444444444,\"#bd3786\"],[0.5555555555555556,\"#d8576b\"],[0.6666666666666666,\"#ed7953\"],[0.7777777777777778,\"#fb9f3a\"],[0.8888888888888888,\"#fdca26\"],[1.0,\"#f0f921\"]]}],\"heatmap\":[{\"type\":\"heatmap\",\"colorbar\":{\"outlinewidth\":0,\"ticks\":\"\"},\"colorscale\":[[0.0,\"#0d0887\"],[0.1111111111111111,\"#46039f\"],[0.2222222222222222,\"#7201a8\"],[0.3333333333333333,\"#9c179e\"],[0.4444444444444444,\"#bd3786\"],[0.5555555555555556,\"#d8576b\"],[0.6666666666666666,\"#ed7953\"],[0.7777777777777778,\"#fb9f3a\"],[0.8888888888888888,\"#fdca26\"],[1.0,\"#f0f921\"]]}],\"heatmapgl\":[{\"type\":\"heatmapgl\",\"colorbar\":{\"outlinewidth\":0,\"ticks\":\"\"},\"colorscale\":[[0.0,\"#0d0887\"],[0.1111111111111111,\"#46039f\"],[0.2222222222222222,\"#7201a8\"],[0.3333333333333333,\"#9c179e\"],[0.4444444444444444,\"#bd3786\"],[0.5555555555555556,\"#d8576b\"],[0.6666666666666666,\"#ed7953\"],[0.7777777777777778,\"#fb9f3a\"],[0.8888888888888888,\"#fdca26\"],[1.0,\"#f0f921\"]]}],\"contourcarpet\":[{\"type\":\"contourcarpet\",\"colorbar\":{\"outlinewidth\":0,\"ticks\":\"\"}}],\"contour\":[{\"type\":\"contour\",\"colorbar\":{\"outlinewidth\":0,\"ticks\":\"\"},\"colorscale\":[[0.0,\"#0d0887\"],[0.1111111111111111,\"#46039f\"],[0.2222222222222222,\"#7201a8\"],[0.3333333333333333,\"#9c179e\"],[0.4444444444444444,\"#bd3786\"],[0.5555555555555556,\"#d8576b\"],[0.6666666666666666,\"#ed7953\"],[0.7777777777777778,\"#fb9f3a\"],[0.8888888888888888,\"#fdca26\"],[1.0,\"#f0f921\"]]}],\"surface\":[{\"type\":\"surface\",\"colorbar\":{\"outlinewidth\":0,\"ticks\":\"\"},\"colorscale\":[[0.0,\"#0d0887\"],[0.1111111111111111,\"#46039f\"],[0.2222222222222222,\"#7201a8\"],[0.3333333333333333,\"#9c179e\"],[0.4444444444444444,\"#bd3786\"],[0.5555555555555556,\"#d8576b\"],[0.6666666666666666,\"#ed7953\"],[0.7777777777777778,\"#fb9f3a\"],[0.8888888888888888,\"#fdca26\"],[1.0,\"#f0f921\"]]}],\"mesh3d\":[{\"type\":\"mesh3d\",\"colorbar\":{\"outlinewidth\":0,\"ticks\":\"\"}}],\"scatter\":[{\"fillpattern\":{\"fillmode\":\"overlay\",\"size\":10,\"solidity\":0.2},\"type\":\"scatter\"}],\"parcoords\":[{\"type\":\"parcoords\",\"line\":{\"colorbar\":{\"outlinewidth\":0,\"ticks\":\"\"}}}],\"scatterpolargl\":[{\"type\":\"scatterpolargl\",\"marker\":{\"colorbar\":{\"outlinewidth\":0,\"ticks\":\"\"}}}],\"bar\":[{\"error_x\":{\"color\":\"#2a3f5f\"},\"error_y\":{\"color\":\"#2a3f5f\"},\"marker\":{\"line\":{\"color\":\"#E5ECF6\",\"width\":0.5},\"pattern\":{\"fillmode\":\"overlay\",\"size\":10,\"solidity\":0.2}},\"type\":\"bar\"}],\"scattergeo\":[{\"type\":\"scattergeo\",\"marker\":{\"colorbar\":{\"outlinewidth\":0,\"ticks\":\"\"}}}],\"scatterpolar\":[{\"type\":\"scatterpolar\",\"marker\":{\"colorbar\":{\"outlinewidth\":0,\"ticks\":\"\"}}}],\"histogram\":[{\"marker\":{\"pattern\":{\"fillmode\":\"overlay\",\"size\":10,\"solidity\":0.2}},\"type\":\"histogram\"}],\"scattergl\":[{\"type\":\"scattergl\",\"marker\":{\"colorbar\":{\"outlinewidth\":0,\"ticks\":\"\"}}}],\"scatter3d\":[{\"type\":\"scatter3d\",\"line\":{\"colorbar\":{\"outlinewidth\":0,\"ticks\":\"\"}},\"marker\":{\"colorbar\":{\"outlinewidth\":0,\"ticks\":\"\"}}}],\"scattermapbox\":[{\"type\":\"scattermapbox\",\"marker\":{\"colorbar\":{\"outlinewidth\":0,\"ticks\":\"\"}}}],\"scatterternary\":[{\"type\":\"scatterternary\",\"marker\":{\"colorbar\":{\"outlinewidth\":0,\"ticks\":\"\"}}}],\"scattercarpet\":[{\"type\":\"scattercarpet\",\"marker\":{\"colorbar\":{\"outlinewidth\":0,\"ticks\":\"\"}}}],\"carpet\":[{\"aaxis\":{\"endlinecolor\":\"#2a3f5f\",\"gridcolor\":\"white\",\"linecolor\":\"white\",\"minorgridcolor\":\"white\",\"startlinecolor\":\"#2a3f5f\"},\"baxis\":{\"endlinecolor\":\"#2a3f5f\",\"gridcolor\":\"white\",\"linecolor\":\"white\",\"minorgridcolor\":\"white\",\"startlinecolor\":\"#2a3f5f\"},\"type\":\"carpet\"}],\"table\":[{\"cells\":{\"fill\":{\"color\":\"#EBF0F8\"},\"line\":{\"color\":\"white\"}},\"header\":{\"fill\":{\"color\":\"#C8D4E3\"},\"line\":{\"color\":\"white\"}},\"type\":\"table\"}],\"barpolar\":[{\"marker\":{\"line\":{\"color\":\"#E5ECF6\",\"width\":0.5},\"pattern\":{\"fillmode\":\"overlay\",\"size\":10,\"solidity\":0.2}},\"type\":\"barpolar\"}],\"pie\":[{\"automargin\":true,\"type\":\"pie\"}]},\"layout\":{\"autotypenumbers\":\"strict\",\"colorway\":[\"#636efa\",\"#EF553B\",\"#00cc96\",\"#ab63fa\",\"#FFA15A\",\"#19d3f3\",\"#FF6692\",\"#B6E880\",\"#FF97FF\",\"#FECB52\"],\"font\":{\"color\":\"#2a3f5f\"},\"hovermode\":\"closest\",\"hoverlabel\":{\"align\":\"left\"},\"paper_bgcolor\":\"white\",\"plot_bgcolor\":\"#E5ECF6\",\"polar\":{\"bgcolor\":\"#E5ECF6\",\"angularaxis\":{\"gridcolor\":\"white\",\"linecolor\":\"white\",\"ticks\":\"\"},\"radialaxis\":{\"gridcolor\":\"white\",\"linecolor\":\"white\",\"ticks\":\"\"}},\"ternary\":{\"bgcolor\":\"#E5ECF6\",\"aaxis\":{\"gridcolor\":\"white\",\"linecolor\":\"white\",\"ticks\":\"\"},\"baxis\":{\"gridcolor\":\"white\",\"linecolor\":\"white\",\"ticks\":\"\"},\"caxis\":{\"gridcolor\":\"white\",\"linecolor\":\"white\",\"ticks\":\"\"}},\"coloraxis\":{\"colorbar\":{\"outlinewidth\":0,\"ticks\":\"\"}},\"colorscale\":{\"sequential\":[[0.0,\"#0d0887\"],[0.1111111111111111,\"#46039f\"],[0.2222222222222222,\"#7201a8\"],[0.3333333333333333,\"#9c179e\"],[0.4444444444444444,\"#bd3786\"],[0.5555555555555556,\"#d8576b\"],[0.6666666666666666,\"#ed7953\"],[0.7777777777777778,\"#fb9f3a\"],[0.8888888888888888,\"#fdca26\"],[1.0,\"#f0f921\"]],\"sequentialminus\":[[0.0,\"#0d0887\"],[0.1111111111111111,\"#46039f\"],[0.2222222222222222,\"#7201a8\"],[0.3333333333333333,\"#9c179e\"],[0.4444444444444444,\"#bd3786\"],[0.5555555555555556,\"#d8576b\"],[0.6666666666666666,\"#ed7953\"],[0.7777777777777778,\"#fb9f3a\"],[0.8888888888888888,\"#fdca26\"],[1.0,\"#f0f921\"]],\"diverging\":[[0,\"#8e0152\"],[0.1,\"#c51b7d\"],[0.2,\"#de77ae\"],[0.3,\"#f1b6da\"],[0.4,\"#fde0ef\"],[0.5,\"#f7f7f7\"],[0.6,\"#e6f5d0\"],[0.7,\"#b8e186\"],[0.8,\"#7fbc41\"],[0.9,\"#4d9221\"],[1,\"#276419\"]]},\"xaxis\":{\"gridcolor\":\"white\",\"linecolor\":\"white\",\"ticks\":\"\",\"title\":{\"standoff\":15},\"zerolinecolor\":\"white\",\"automargin\":true,\"zerolinewidth\":2},\"yaxis\":{\"gridcolor\":\"white\",\"linecolor\":\"white\",\"ticks\":\"\",\"title\":{\"standoff\":15},\"zerolinecolor\":\"white\",\"automargin\":true,\"zerolinewidth\":2},\"scene\":{\"xaxis\":{\"backgroundcolor\":\"#E5ECF6\",\"gridcolor\":\"white\",\"linecolor\":\"white\",\"showbackground\":true,\"ticks\":\"\",\"zerolinecolor\":\"white\",\"gridwidth\":2},\"yaxis\":{\"backgroundcolor\":\"#E5ECF6\",\"gridcolor\":\"white\",\"linecolor\":\"white\",\"showbackground\":true,\"ticks\":\"\",\"zerolinecolor\":\"white\",\"gridwidth\":2},\"zaxis\":{\"backgroundcolor\":\"#E5ECF6\",\"gridcolor\":\"white\",\"linecolor\":\"white\",\"showbackground\":true,\"ticks\":\"\",\"zerolinecolor\":\"white\",\"gridwidth\":2}},\"shapedefaults\":{\"line\":{\"color\":\"#2a3f5f\"}},\"annotationdefaults\":{\"arrowcolor\":\"#2a3f5f\",\"arrowhead\":0,\"arrowwidth\":1},\"geo\":{\"bgcolor\":\"white\",\"landcolor\":\"#E5ECF6\",\"subunitcolor\":\"white\",\"showland\":true,\"showlakes\":true,\"lakecolor\":\"white\"},\"title\":{\"x\":0.05},\"mapbox\":{\"style\":\"light\"}}},\"legend\":{\"tracegroupgap\":0},\"margin\":{\"t\":60},\"dragmode\":\"select\",\"title\":{\"text\":\"Boston Data set\"},\"width\":1600,\"height\":1600},                        {\"responsive\": true}                    ).then(function(){\n",
              "                            \n",
              "var gd = document.getElementById('775c2256-bbb6-412d-a5da-486990af61d8');\n",
              "var x = new MutationObserver(function (mutations, observer) {{\n",
              "        var display = window.getComputedStyle(gd).display;\n",
              "        if (!display || display === 'none') {{\n",
              "            console.log([gd, 'removed!']);\n",
              "            Plotly.purge(gd);\n",
              "            observer.disconnect();\n",
              "        }}\n",
              "}});\n",
              "\n",
              "// Listen for the removal of the full notebook cells\n",
              "var notebookContainer = gd.closest('#notebook-container');\n",
              "if (notebookContainer) {{\n",
              "    x.observe(notebookContainer, {childList: true});\n",
              "}}\n",
              "\n",
              "// Listen for the clearing of the current output cell\n",
              "var outputEl = gd.closest('.output');\n",
              "if (outputEl) {{\n",
              "    x.observe(outputEl, {childList: true});\n",
              "}}\n",
              "\n",
              "                        })                };                            </script>        </div>\n",
              "</body>\n",
              "</html>"
            ]
          },
          "metadata": {}
        }
      ]
    },
    {
      "cell_type": "code",
      "source": [
        "corr = boston.corr()\n",
        "px.imshow(corr,text_auto=True, aspect=\"auto\")"
      ],
      "metadata": {
        "id": "0kUG-AALPTAf",
        "colab": {
          "base_uri": "https://localhost:8080/",
          "height": 542
        },
        "outputId": "756240c9-2eb9-46ac-cfed-b0a1d32e1d9e"
      },
      "execution_count": 33,
      "outputs": [
        {
          "output_type": "display_data",
          "data": {
            "text/html": [
              "<html>\n",
              "<head><meta charset=\"utf-8\" /></head>\n",
              "<body>\n",
              "    <div>            <script src=\"https://cdnjs.cloudflare.com/ajax/libs/mathjax/2.7.5/MathJax.js?config=TeX-AMS-MML_SVG\"></script><script type=\"text/javascript\">if (window.MathJax && window.MathJax.Hub && window.MathJax.Hub.Config) {window.MathJax.Hub.Config({SVG: {font: \"STIX-Web\"}});}</script>                <script type=\"text/javascript\">window.PlotlyConfig = {MathJaxConfig: 'local'};</script>\n",
              "        <script src=\"https://cdn.plot.ly/plotly-2.18.2.min.js\"></script>                <div id=\"8f6bcd3c-1839-4d6a-ae05-1093c4854cce\" class=\"plotly-graph-div\" style=\"height:525px; width:100%;\"></div>            <script type=\"text/javascript\">                                    window.PLOTLYENV=window.PLOTLYENV || {};                                    if (document.getElementById(\"8f6bcd3c-1839-4d6a-ae05-1093c4854cce\")) {                    Plotly.newPlot(                        \"8f6bcd3c-1839-4d6a-ae05-1093c4854cce\",                        [{\"coloraxis\":\"coloraxis\",\"name\":\"0\",\"texttemplate\":\"%{z}\",\"x\":[\"crim\",\"zn\",\"indus\",\"chas\",\"nox\",\"rm\",\"age\",\"dis\",\"rad\",\"tax\",\"ptratio\",\"black\",\"lstat\",\"medv\"],\"y\":[\"crim\",\"zn\",\"indus\",\"chas\",\"nox\",\"rm\",\"age\",\"dis\",\"rad\",\"tax\",\"ptratio\",\"black\",\"lstat\",\"medv\"],\"z\":[[1.0,-0.20046921966254744,0.4065834114062594,-0.05589158222224156,0.4209717113924554,-0.21924670286251308,0.3527342509013634,-0.37967008695102467,0.6255051452626024,0.5827643120325854,0.2899455792795226,-0.3850639419942239,0.4556214794479463,-0.38830460858681154],[-0.20046921966254744,1.0,-0.5338281863044696,-0.04269671929612169,-0.5166037078279843,0.31199058737409047,-0.5695373420992109,0.6644082227621105,-0.3119478260185367,-0.3145633246775997,-0.3916785479362161,0.1755203173828273,-0.41299457452700283,0.3604453424505433],[0.4065834114062594,-0.5338281863044696,1.0,0.06293802748966515,0.7636514469209139,-0.39167585265684274,0.6447785113552554,-0.7080269887427675,0.5951292746038485,0.7207601799515422,0.38324755642888936,-0.3569765351041928,0.603799716476621,-0.48372516002837274],[-0.05589158222224156,-0.04269671929612169,0.06293802748966515,1.0,0.09120280684249558,0.09125122504345677,0.08651777425454328,-0.09917578017472799,-0.00736824088607757,-0.03558651758591146,-0.12151517365806228,0.048788484955166495,-0.05392929837569424,0.17526017719029868],[0.4209717113924554,-0.5166037078279843,0.7636514469209139,0.09120280684249558,1.0,-0.3021881878495924,0.7314701037859592,-0.7692301132258282,0.6114405634855762,0.6680232004030217,0.18893267711276884,-0.3800506377924,0.5908789208808451,-0.42732077237328203],[-0.21924670286251308,0.31199058737409047,-0.39167585265684274,0.09125122504345677,-0.3021881878495924,1.0,-0.24026493104775065,0.20524621293005416,-0.20984666776610833,-0.2920478326232189,-0.35550149455908525,0.1280686350925421,-0.6138082718663955,0.6953599470715401],[0.3527342509013634,-0.5695373420992109,0.6447785113552554,0.08651777425454328,0.7314701037859592,-0.24026493104775065,1.0,-0.747880540868632,0.4560224517516137,0.5064555935507051,0.2615150116719584,-0.273533976638513,0.6023385287262395,-0.3769545650045961],[-0.37967008695102467,0.6644082227621105,-0.7080269887427675,-0.09917578017472799,-0.7692301132258282,0.20524621293005416,-0.747880540868632,1.0,-0.4945879296720758,-0.5344315844084577,-0.23247054240825826,0.2915116731330399,-0.4969958308636848,0.249928734085904],[0.6255051452626024,-0.3119478260185367,0.5951292746038485,-0.00736824088607757,0.6114405634855762,-0.20984666776610833,0.4560224517516137,-0.4945879296720758,1.0,0.9102281885331865,0.46474117850306057,-0.44441281557512585,0.4886763349750666,-0.38162623063977735],[0.5827643120325854,-0.3145633246775997,0.7207601799515422,-0.03558651758591146,0.6680232004030217,-0.2920478326232189,0.5064555935507051,-0.5344315844084577,0.9102281885331865,1.0,0.4608530350656702,-0.44180800672281423,0.5439934120015698,-0.4685359335677667],[0.2899455792795226,-0.3916785479362161,0.38324755642888936,-0.12151517365806228,0.18893267711276884,-0.35550149455908525,0.2615150116719584,-0.23247054240825826,0.46474117850306057,0.4608530350656702,1.0,-0.1773833023052333,0.3740443167146772,-0.5077866855375623],[-0.3850639419942239,0.1755203173828273,-0.3569765351041928,0.048788484955166495,-0.3800506377924,0.1280686350925421,-0.273533976638513,0.2915116731330399,-0.44441281557512585,-0.44180800672281423,-0.1773833023052333,1.0,-0.36608690169159663,0.3334608196570662],[0.4556214794479463,-0.41299457452700283,0.603799716476621,-0.05392929837569424,0.5908789208808451,-0.6138082718663955,0.6023385287262395,-0.4969958308636848,0.4886763349750666,0.5439934120015698,0.3740443167146772,-0.36608690169159663,1.0,-0.7376627261740145],[-0.38830460858681154,0.3604453424505433,-0.48372516002837274,0.17526017719029868,-0.42732077237328203,0.6953599470715401,-0.3769545650045961,0.249928734085904,-0.38162623063977735,-0.4685359335677667,-0.5077866855375623,0.3334608196570662,-0.7376627261740145,1.0]],\"type\":\"heatmap\",\"xaxis\":\"x\",\"yaxis\":\"y\",\"hovertemplate\":\"x: %{x}<br>y: %{y}<br>color: %{z}<extra></extra>\"}],                        {\"template\":{\"data\":{\"histogram2dcontour\":[{\"type\":\"histogram2dcontour\",\"colorbar\":{\"outlinewidth\":0,\"ticks\":\"\"},\"colorscale\":[[0.0,\"#0d0887\"],[0.1111111111111111,\"#46039f\"],[0.2222222222222222,\"#7201a8\"],[0.3333333333333333,\"#9c179e\"],[0.4444444444444444,\"#bd3786\"],[0.5555555555555556,\"#d8576b\"],[0.6666666666666666,\"#ed7953\"],[0.7777777777777778,\"#fb9f3a\"],[0.8888888888888888,\"#fdca26\"],[1.0,\"#f0f921\"]]}],\"choropleth\":[{\"type\":\"choropleth\",\"colorbar\":{\"outlinewidth\":0,\"ticks\":\"\"}}],\"histogram2d\":[{\"type\":\"histogram2d\",\"colorbar\":{\"outlinewidth\":0,\"ticks\":\"\"},\"colorscale\":[[0.0,\"#0d0887\"],[0.1111111111111111,\"#46039f\"],[0.2222222222222222,\"#7201a8\"],[0.3333333333333333,\"#9c179e\"],[0.4444444444444444,\"#bd3786\"],[0.5555555555555556,\"#d8576b\"],[0.6666666666666666,\"#ed7953\"],[0.7777777777777778,\"#fb9f3a\"],[0.8888888888888888,\"#fdca26\"],[1.0,\"#f0f921\"]]}],\"heatmap\":[{\"type\":\"heatmap\",\"colorbar\":{\"outlinewidth\":0,\"ticks\":\"\"},\"colorscale\":[[0.0,\"#0d0887\"],[0.1111111111111111,\"#46039f\"],[0.2222222222222222,\"#7201a8\"],[0.3333333333333333,\"#9c179e\"],[0.4444444444444444,\"#bd3786\"],[0.5555555555555556,\"#d8576b\"],[0.6666666666666666,\"#ed7953\"],[0.7777777777777778,\"#fb9f3a\"],[0.8888888888888888,\"#fdca26\"],[1.0,\"#f0f921\"]]}],\"heatmapgl\":[{\"type\":\"heatmapgl\",\"colorbar\":{\"outlinewidth\":0,\"ticks\":\"\"},\"colorscale\":[[0.0,\"#0d0887\"],[0.1111111111111111,\"#46039f\"],[0.2222222222222222,\"#7201a8\"],[0.3333333333333333,\"#9c179e\"],[0.4444444444444444,\"#bd3786\"],[0.5555555555555556,\"#d8576b\"],[0.6666666666666666,\"#ed7953\"],[0.7777777777777778,\"#fb9f3a\"],[0.8888888888888888,\"#fdca26\"],[1.0,\"#f0f921\"]]}],\"contourcarpet\":[{\"type\":\"contourcarpet\",\"colorbar\":{\"outlinewidth\":0,\"ticks\":\"\"}}],\"contour\":[{\"type\":\"contour\",\"colorbar\":{\"outlinewidth\":0,\"ticks\":\"\"},\"colorscale\":[[0.0,\"#0d0887\"],[0.1111111111111111,\"#46039f\"],[0.2222222222222222,\"#7201a8\"],[0.3333333333333333,\"#9c179e\"],[0.4444444444444444,\"#bd3786\"],[0.5555555555555556,\"#d8576b\"],[0.6666666666666666,\"#ed7953\"],[0.7777777777777778,\"#fb9f3a\"],[0.8888888888888888,\"#fdca26\"],[1.0,\"#f0f921\"]]}],\"surface\":[{\"type\":\"surface\",\"colorbar\":{\"outlinewidth\":0,\"ticks\":\"\"},\"colorscale\":[[0.0,\"#0d0887\"],[0.1111111111111111,\"#46039f\"],[0.2222222222222222,\"#7201a8\"],[0.3333333333333333,\"#9c179e\"],[0.4444444444444444,\"#bd3786\"],[0.5555555555555556,\"#d8576b\"],[0.6666666666666666,\"#ed7953\"],[0.7777777777777778,\"#fb9f3a\"],[0.8888888888888888,\"#fdca26\"],[1.0,\"#f0f921\"]]}],\"mesh3d\":[{\"type\":\"mesh3d\",\"colorbar\":{\"outlinewidth\":0,\"ticks\":\"\"}}],\"scatter\":[{\"fillpattern\":{\"fillmode\":\"overlay\",\"size\":10,\"solidity\":0.2},\"type\":\"scatter\"}],\"parcoords\":[{\"type\":\"parcoords\",\"line\":{\"colorbar\":{\"outlinewidth\":0,\"ticks\":\"\"}}}],\"scatterpolargl\":[{\"type\":\"scatterpolargl\",\"marker\":{\"colorbar\":{\"outlinewidth\":0,\"ticks\":\"\"}}}],\"bar\":[{\"error_x\":{\"color\":\"#2a3f5f\"},\"error_y\":{\"color\":\"#2a3f5f\"},\"marker\":{\"line\":{\"color\":\"#E5ECF6\",\"width\":0.5},\"pattern\":{\"fillmode\":\"overlay\",\"size\":10,\"solidity\":0.2}},\"type\":\"bar\"}],\"scattergeo\":[{\"type\":\"scattergeo\",\"marker\":{\"colorbar\":{\"outlinewidth\":0,\"ticks\":\"\"}}}],\"scatterpolar\":[{\"type\":\"scatterpolar\",\"marker\":{\"colorbar\":{\"outlinewidth\":0,\"ticks\":\"\"}}}],\"histogram\":[{\"marker\":{\"pattern\":{\"fillmode\":\"overlay\",\"size\":10,\"solidity\":0.2}},\"type\":\"histogram\"}],\"scattergl\":[{\"type\":\"scattergl\",\"marker\":{\"colorbar\":{\"outlinewidth\":0,\"ticks\":\"\"}}}],\"scatter3d\":[{\"type\":\"scatter3d\",\"line\":{\"colorbar\":{\"outlinewidth\":0,\"ticks\":\"\"}},\"marker\":{\"colorbar\":{\"outlinewidth\":0,\"ticks\":\"\"}}}],\"scattermapbox\":[{\"type\":\"scattermapbox\",\"marker\":{\"colorbar\":{\"outlinewidth\":0,\"ticks\":\"\"}}}],\"scatterternary\":[{\"type\":\"scatterternary\",\"marker\":{\"colorbar\":{\"outlinewidth\":0,\"ticks\":\"\"}}}],\"scattercarpet\":[{\"type\":\"scattercarpet\",\"marker\":{\"colorbar\":{\"outlinewidth\":0,\"ticks\":\"\"}}}],\"carpet\":[{\"aaxis\":{\"endlinecolor\":\"#2a3f5f\",\"gridcolor\":\"white\",\"linecolor\":\"white\",\"minorgridcolor\":\"white\",\"startlinecolor\":\"#2a3f5f\"},\"baxis\":{\"endlinecolor\":\"#2a3f5f\",\"gridcolor\":\"white\",\"linecolor\":\"white\",\"minorgridcolor\":\"white\",\"startlinecolor\":\"#2a3f5f\"},\"type\":\"carpet\"}],\"table\":[{\"cells\":{\"fill\":{\"color\":\"#EBF0F8\"},\"line\":{\"color\":\"white\"}},\"header\":{\"fill\":{\"color\":\"#C8D4E3\"},\"line\":{\"color\":\"white\"}},\"type\":\"table\"}],\"barpolar\":[{\"marker\":{\"line\":{\"color\":\"#E5ECF6\",\"width\":0.5},\"pattern\":{\"fillmode\":\"overlay\",\"size\":10,\"solidity\":0.2}},\"type\":\"barpolar\"}],\"pie\":[{\"automargin\":true,\"type\":\"pie\"}]},\"layout\":{\"autotypenumbers\":\"strict\",\"colorway\":[\"#636efa\",\"#EF553B\",\"#00cc96\",\"#ab63fa\",\"#FFA15A\",\"#19d3f3\",\"#FF6692\",\"#B6E880\",\"#FF97FF\",\"#FECB52\"],\"font\":{\"color\":\"#2a3f5f\"},\"hovermode\":\"closest\",\"hoverlabel\":{\"align\":\"left\"},\"paper_bgcolor\":\"white\",\"plot_bgcolor\":\"#E5ECF6\",\"polar\":{\"bgcolor\":\"#E5ECF6\",\"angularaxis\":{\"gridcolor\":\"white\",\"linecolor\":\"white\",\"ticks\":\"\"},\"radialaxis\":{\"gridcolor\":\"white\",\"linecolor\":\"white\",\"ticks\":\"\"}},\"ternary\":{\"bgcolor\":\"#E5ECF6\",\"aaxis\":{\"gridcolor\":\"white\",\"linecolor\":\"white\",\"ticks\":\"\"},\"baxis\":{\"gridcolor\":\"white\",\"linecolor\":\"white\",\"ticks\":\"\"},\"caxis\":{\"gridcolor\":\"white\",\"linecolor\":\"white\",\"ticks\":\"\"}},\"coloraxis\":{\"colorbar\":{\"outlinewidth\":0,\"ticks\":\"\"}},\"colorscale\":{\"sequential\":[[0.0,\"#0d0887\"],[0.1111111111111111,\"#46039f\"],[0.2222222222222222,\"#7201a8\"],[0.3333333333333333,\"#9c179e\"],[0.4444444444444444,\"#bd3786\"],[0.5555555555555556,\"#d8576b\"],[0.6666666666666666,\"#ed7953\"],[0.7777777777777778,\"#fb9f3a\"],[0.8888888888888888,\"#fdca26\"],[1.0,\"#f0f921\"]],\"sequentialminus\":[[0.0,\"#0d0887\"],[0.1111111111111111,\"#46039f\"],[0.2222222222222222,\"#7201a8\"],[0.3333333333333333,\"#9c179e\"],[0.4444444444444444,\"#bd3786\"],[0.5555555555555556,\"#d8576b\"],[0.6666666666666666,\"#ed7953\"],[0.7777777777777778,\"#fb9f3a\"],[0.8888888888888888,\"#fdca26\"],[1.0,\"#f0f921\"]],\"diverging\":[[0,\"#8e0152\"],[0.1,\"#c51b7d\"],[0.2,\"#de77ae\"],[0.3,\"#f1b6da\"],[0.4,\"#fde0ef\"],[0.5,\"#f7f7f7\"],[0.6,\"#e6f5d0\"],[0.7,\"#b8e186\"],[0.8,\"#7fbc41\"],[0.9,\"#4d9221\"],[1,\"#276419\"]]},\"xaxis\":{\"gridcolor\":\"white\",\"linecolor\":\"white\",\"ticks\":\"\",\"title\":{\"standoff\":15},\"zerolinecolor\":\"white\",\"automargin\":true,\"zerolinewidth\":2},\"yaxis\":{\"gridcolor\":\"white\",\"linecolor\":\"white\",\"ticks\":\"\",\"title\":{\"standoff\":15},\"zerolinecolor\":\"white\",\"automargin\":true,\"zerolinewidth\":2},\"scene\":{\"xaxis\":{\"backgroundcolor\":\"#E5ECF6\",\"gridcolor\":\"white\",\"linecolor\":\"white\",\"showbackground\":true,\"ticks\":\"\",\"zerolinecolor\":\"white\",\"gridwidth\":2},\"yaxis\":{\"backgroundcolor\":\"#E5ECF6\",\"gridcolor\":\"white\",\"linecolor\":\"white\",\"showbackground\":true,\"ticks\":\"\",\"zerolinecolor\":\"white\",\"gridwidth\":2},\"zaxis\":{\"backgroundcolor\":\"#E5ECF6\",\"gridcolor\":\"white\",\"linecolor\":\"white\",\"showbackground\":true,\"ticks\":\"\",\"zerolinecolor\":\"white\",\"gridwidth\":2}},\"shapedefaults\":{\"line\":{\"color\":\"#2a3f5f\"}},\"annotationdefaults\":{\"arrowcolor\":\"#2a3f5f\",\"arrowhead\":0,\"arrowwidth\":1},\"geo\":{\"bgcolor\":\"white\",\"landcolor\":\"#E5ECF6\",\"subunitcolor\":\"white\",\"showland\":true,\"showlakes\":true,\"lakecolor\":\"white\"},\"title\":{\"x\":0.05},\"mapbox\":{\"style\":\"light\"}}},\"xaxis\":{\"anchor\":\"y\",\"domain\":[0.0,1.0]},\"yaxis\":{\"anchor\":\"x\",\"domain\":[0.0,1.0],\"autorange\":\"reversed\"},\"coloraxis\":{\"colorscale\":[[0.0,\"#0d0887\"],[0.1111111111111111,\"#46039f\"],[0.2222222222222222,\"#7201a8\"],[0.3333333333333333,\"#9c179e\"],[0.4444444444444444,\"#bd3786\"],[0.5555555555555556,\"#d8576b\"],[0.6666666666666666,\"#ed7953\"],[0.7777777777777778,\"#fb9f3a\"],[0.8888888888888888,\"#fdca26\"],[1.0,\"#f0f921\"]]},\"margin\":{\"t\":60}},                        {\"responsive\": true}                    ).then(function(){\n",
              "                            \n",
              "var gd = document.getElementById('8f6bcd3c-1839-4d6a-ae05-1093c4854cce');\n",
              "var x = new MutationObserver(function (mutations, observer) {{\n",
              "        var display = window.getComputedStyle(gd).display;\n",
              "        if (!display || display === 'none') {{\n",
              "            console.log([gd, 'removed!']);\n",
              "            Plotly.purge(gd);\n",
              "            observer.disconnect();\n",
              "        }}\n",
              "}});\n",
              "\n",
              "// Listen for the removal of the full notebook cells\n",
              "var notebookContainer = gd.closest('#notebook-container');\n",
              "if (notebookContainer) {{\n",
              "    x.observe(notebookContainer, {childList: true});\n",
              "}}\n",
              "\n",
              "// Listen for the clearing of the current output cell\n",
              "var outputEl = gd.closest('.output');\n",
              "if (outputEl) {{\n",
              "    x.observe(outputEl, {childList: true});\n",
              "}}\n",
              "\n",
              "                        })                };                            </script>        </div>\n",
              "</body>\n",
              "</html>"
            ]
          },
          "metadata": {}
        }
      ]
    },
    {
      "cell_type": "code",
      "metadata": {
        "id": "1AWnXUVqaVa5"
      },
      "source": [
        "X = boston.drop('medv',axis=1)\n",
        "y=boston['medv']"
      ],
      "execution_count": 34,
      "outputs": []
    },
    {
      "cell_type": "code",
      "metadata": {
        "id": "h6xtL4lPQrBL"
      },
      "source": [
        "from sklearn.model_selection import train_test_split\n",
        "# Split the dataset: 80% vs 20%\n",
        "X_train, X_test, y_train, y_test = train_test_split(X, y, test_size=0.2, random_state=123)"
      ],
      "execution_count": 35,
      "outputs": []
    },
    {
      "cell_type": "code",
      "metadata": {
        "id": "7QgobxBSRq9w"
      },
      "source": [
        "from sklearn.linear_model import LinearRegression\n",
        "from sklearn.metrics import r2_score"
      ],
      "execution_count": 36,
      "outputs": []
    },
    {
      "cell_type": "code",
      "metadata": {
        "id": "ybrbAnR7SOzb",
        "colab": {
          "base_uri": "https://localhost:8080/",
          "height": 75
        },
        "outputId": "bcbcb5a8-0912-4135-ca03-7d8f90a573c9"
      },
      "source": [
        "# initiate the linear model and fit with data\n",
        "lm =LinearRegression()\n",
        "lm.fit(X_train, y_train)"
      ],
      "execution_count": 37,
      "outputs": [
        {
          "output_type": "execute_result",
          "data": {
            "text/plain": [
              "LinearRegression()"
            ],
            "text/html": [
              "<style>#sk-container-id-1 {color: black;background-color: white;}#sk-container-id-1 pre{padding: 0;}#sk-container-id-1 div.sk-toggleable {background-color: white;}#sk-container-id-1 label.sk-toggleable__label {cursor: pointer;display: block;width: 100%;margin-bottom: 0;padding: 0.3em;box-sizing: border-box;text-align: center;}#sk-container-id-1 label.sk-toggleable__label-arrow:before {content: \"▸\";float: left;margin-right: 0.25em;color: #696969;}#sk-container-id-1 label.sk-toggleable__label-arrow:hover:before {color: black;}#sk-container-id-1 div.sk-estimator:hover label.sk-toggleable__label-arrow:before {color: black;}#sk-container-id-1 div.sk-toggleable__content {max-height: 0;max-width: 0;overflow: hidden;text-align: left;background-color: #f0f8ff;}#sk-container-id-1 div.sk-toggleable__content pre {margin: 0.2em;color: black;border-radius: 0.25em;background-color: #f0f8ff;}#sk-container-id-1 input.sk-toggleable__control:checked~div.sk-toggleable__content {max-height: 200px;max-width: 100%;overflow: auto;}#sk-container-id-1 input.sk-toggleable__control:checked~label.sk-toggleable__label-arrow:before {content: \"▾\";}#sk-container-id-1 div.sk-estimator input.sk-toggleable__control:checked~label.sk-toggleable__label {background-color: #d4ebff;}#sk-container-id-1 div.sk-label input.sk-toggleable__control:checked~label.sk-toggleable__label {background-color: #d4ebff;}#sk-container-id-1 input.sk-hidden--visually {border: 0;clip: rect(1px 1px 1px 1px);clip: rect(1px, 1px, 1px, 1px);height: 1px;margin: -1px;overflow: hidden;padding: 0;position: absolute;width: 1px;}#sk-container-id-1 div.sk-estimator {font-family: monospace;background-color: #f0f8ff;border: 1px dotted black;border-radius: 0.25em;box-sizing: border-box;margin-bottom: 0.5em;}#sk-container-id-1 div.sk-estimator:hover {background-color: #d4ebff;}#sk-container-id-1 div.sk-parallel-item::after {content: \"\";width: 100%;border-bottom: 1px solid gray;flex-grow: 1;}#sk-container-id-1 div.sk-label:hover label.sk-toggleable__label {background-color: #d4ebff;}#sk-container-id-1 div.sk-serial::before {content: \"\";position: absolute;border-left: 1px solid gray;box-sizing: border-box;top: 0;bottom: 0;left: 50%;z-index: 0;}#sk-container-id-1 div.sk-serial {display: flex;flex-direction: column;align-items: center;background-color: white;padding-right: 0.2em;padding-left: 0.2em;position: relative;}#sk-container-id-1 div.sk-item {position: relative;z-index: 1;}#sk-container-id-1 div.sk-parallel {display: flex;align-items: stretch;justify-content: center;background-color: white;position: relative;}#sk-container-id-1 div.sk-item::before, #sk-container-id-1 div.sk-parallel-item::before {content: \"\";position: absolute;border-left: 1px solid gray;box-sizing: border-box;top: 0;bottom: 0;left: 50%;z-index: -1;}#sk-container-id-1 div.sk-parallel-item {display: flex;flex-direction: column;z-index: 1;position: relative;background-color: white;}#sk-container-id-1 div.sk-parallel-item:first-child::after {align-self: flex-end;width: 50%;}#sk-container-id-1 div.sk-parallel-item:last-child::after {align-self: flex-start;width: 50%;}#sk-container-id-1 div.sk-parallel-item:only-child::after {width: 0;}#sk-container-id-1 div.sk-dashed-wrapped {border: 1px dashed gray;margin: 0 0.4em 0.5em 0.4em;box-sizing: border-box;padding-bottom: 0.4em;background-color: white;}#sk-container-id-1 div.sk-label label {font-family: monospace;font-weight: bold;display: inline-block;line-height: 1.2em;}#sk-container-id-1 div.sk-label-container {text-align: center;}#sk-container-id-1 div.sk-container {/* jupyter's `normalize.less` sets `[hidden] { display: none; }` but bootstrap.min.css set `[hidden] { display: none !important; }` so we also need the `!important` here to be able to override the default hidden behavior on the sphinx rendered scikit-learn.org. See: https://github.com/scikit-learn/scikit-learn/issues/21755 */display: inline-block !important;position: relative;}#sk-container-id-1 div.sk-text-repr-fallback {display: none;}</style><div id=\"sk-container-id-1\" class=\"sk-top-container\"><div class=\"sk-text-repr-fallback\"><pre>LinearRegression()</pre><b>In a Jupyter environment, please rerun this cell to show the HTML representation or trust the notebook. <br />On GitHub, the HTML representation is unable to render, please try loading this page with nbviewer.org.</b></div><div class=\"sk-container\" hidden><div class=\"sk-item\"><div class=\"sk-estimator sk-toggleable\"><input class=\"sk-toggleable__control sk-hidden--visually\" id=\"sk-estimator-id-1\" type=\"checkbox\" checked><label for=\"sk-estimator-id-1\" class=\"sk-toggleable__label sk-toggleable__label-arrow\">LinearRegression</label><div class=\"sk-toggleable__content\"><pre>LinearRegression()</pre></div></div></div></div></div>"
            ]
          },
          "metadata": {},
          "execution_count": 37
        }
      ]
    },
    {
      "cell_type": "code",
      "metadata": {
        "id": "KAVFAZzzT2mk",
        "colab": {
          "base_uri": "https://localhost:8080/"
        },
        "outputId": "847237b1-1aaf-4bff-b027-cf38774a343c"
      },
      "source": [
        "print(\"The R-squared value is: {0:0.4f} \\n\".format(lm.score(X_train, y_train)))"
      ],
      "execution_count": 38,
      "outputs": [
        {
          "output_type": "stream",
          "name": "stdout",
          "text": [
            "The R-squared value is: 0.7559 \n",
            "\n"
          ]
        }
      ]
    },
    {
      "cell_type": "code",
      "source": [
        "X.columns"
      ],
      "metadata": {
        "colab": {
          "base_uri": "https://localhost:8080/"
        },
        "id": "P0Bd5p5ZRXeQ",
        "outputId": "9d32d520-ff7b-4943-da69-9b95e95478f5"
      },
      "execution_count": 39,
      "outputs": [
        {
          "output_type": "execute_result",
          "data": {
            "text/plain": [
              "Index(['crim', 'zn', 'indus', 'chas', 'nox', 'rm', 'age', 'dis', 'rad', 'tax',\n",
              "       'ptratio', 'black', 'lstat'],\n",
              "      dtype='object')"
            ]
          },
          "metadata": {},
          "execution_count": 39
        }
      ]
    },
    {
      "cell_type": "code",
      "metadata": {
        "id": "WYe_59pwUgTN",
        "colab": {
          "base_uri": "https://localhost:8080/"
        },
        "outputId": "c13079a3-a83c-4b51-829d-5c3a2d1f10a1"
      },
      "source": [
        "param_df = pd.DataFrame({\"Features\": ['intercept'] + list(X.columns),\n",
        "\"Coef\": [lm.intercept_] + list(lm.coef_)})\n",
        "cols = param_df.columns.tolist()\n",
        "cols = cols[-1:]+cols[:-1]\n",
        "param_df = param_df[cols]\n",
        "print(param_df)"
      ],
      "execution_count": 40,
      "outputs": [
        {
          "output_type": "stream",
          "name": "stdout",
          "text": [
            "         Coef   Features\n",
            "0   31.835164  intercept\n",
            "1   -0.098793       crim\n",
            "2    0.047503         zn\n",
            "3    0.066949      indus\n",
            "4    1.269541       chas\n",
            "5  -15.469775        nox\n",
            "6    4.319684         rm\n",
            "7   -0.000980        age\n",
            "8   -1.365980        dis\n",
            "9    0.284522        rad\n",
            "10  -0.012753        tax\n",
            "11  -0.913488    ptratio\n",
            "12   0.007226      black\n",
            "13  -0.543790      lstat\n"
          ]
        }
      ]
    },
    {
      "cell_type": "code",
      "metadata": {
        "id": "GnlXvvm9Vr9F"
      },
      "source": [
        "#%% check performance on test data\n",
        "predicted = lm.predict(X_test)"
      ],
      "execution_count": 41,
      "outputs": []
    },
    {
      "cell_type": "code",
      "metadata": {
        "id": "9FHPdN3KWCFZ"
      },
      "source": [
        "import numpy as np\n",
        "mae = np.mean(abs(predicted-y_test))\n",
        "rmse = np.sqrt(np.mean((predicted-y_test)**2))\n",
        "rae = np.mean(abs(predicted-y_test))/np.mean(abs(y_test-np.mean(y_test)))\n",
        "rse = np.mean((predicted-y_test)**2)/np.mean((y_test-np.mean(y_test))**2)"
      ],
      "execution_count": 42,
      "outputs": []
    },
    {
      "cell_type": "code",
      "metadata": {
        "id": "fEutwNTWWLbT",
        "colab": {
          "base_uri": "https://localhost:8080/"
        },
        "outputId": "886637c5-9667-474c-ae64-3f059cc658f0"
      },
      "source": [
        "mae"
      ],
      "execution_count": 43,
      "outputs": [
        {
          "output_type": "execute_result",
          "data": {
            "text/plain": [
              "3.6601528186976715"
            ]
          },
          "metadata": {},
          "execution_count": 43
        }
      ]
    },
    {
      "cell_type": "code",
      "metadata": {
        "id": "IIP1nsQnW0ZP",
        "colab": {
          "base_uri": "https://localhost:8080/"
        },
        "outputId": "89e5ab33-b043-4226-a326-222a6f7f3881"
      },
      "source": [
        "rmse"
      ],
      "execution_count": null,
      "outputs": [
        {
          "output_type": "execute_result",
          "data": {
            "text/plain": [
              "5.309659665032172"
            ]
          },
          "metadata": {},
          "execution_count": 97
        }
      ]
    },
    {
      "cell_type": "code",
      "metadata": {
        "id": "2HoD0CpyW4mB",
        "colab": {
          "base_uri": "https://localhost:8080/"
        },
        "outputId": "254830c8-e0dd-4759-caf7-132093072894"
      },
      "source": [
        "rae"
      ],
      "execution_count": 44,
      "outputs": [
        {
          "output_type": "execute_result",
          "data": {
            "text/plain": [
              "0.5286453811239555"
            ]
          },
          "metadata": {},
          "execution_count": 44
        }
      ]
    },
    {
      "cell_type": "code",
      "metadata": {
        "id": "b3badiP8W5_I",
        "colab": {
          "base_uri": "https://localhost:8080/"
        },
        "outputId": "f1b82537-75e7-485b-e8eb-3080c479198c"
      },
      "source": [
        "rse"
      ],
      "execution_count": 45,
      "outputs": [
        {
          "output_type": "execute_result",
          "data": {
            "text/plain": [
              "0.3407533489645905"
            ]
          },
          "metadata": {},
          "execution_count": 45
        }
      ]
    },
    {
      "cell_type": "code",
      "metadata": {
        "id": "u3u25lDoW7c5",
        "colab": {
          "base_uri": "https://localhost:8080/"
        },
        "outputId": "ff07f208-83cb-4e77-fce1-aa93daa90371"
      },
      "source": [
        "print(\"The R-squared value is: {0:0.4f}\".format(lm.score(X_test, y_test)))\n",
        "print(\"Mean Absolute Error: {0:0.6f}\".format(mae))\n",
        "print(\"Root Mean Squared Error: {0:0.6f}\".format(rmse))\n",
        "print(\"Relative Absolute Error: {0:0.6f}\".format(rae))\n",
        "print(\"Relative Squared Error: {0:0.6f}\".format(rse))"
      ],
      "execution_count": null,
      "outputs": [
        {
          "output_type": "stream",
          "name": "stdout",
          "text": [
            "The R-squared value is: 0.6592\n",
            "Mean Absolute Error: 3.660153\n",
            "Root Mean Squared Error: 5.309660\n",
            "Relative Absolute Error: 0.528645\n",
            "Relative Squared Error: 0.340753\n"
          ]
        }
      ]
    },
    {
      "cell_type": "markdown",
      "source": [
        "# **RFECV**"
      ],
      "metadata": {
        "id": "eFwRCfbQjrR9"
      }
    },
    {
      "cell_type": "code",
      "metadata": {
        "id": "wryaLYfFYF2J"
      },
      "source": [
        "%matplotlib inline\n",
        "import matplotlib.pyplot as plt\n",
        "from sklearn import preprocessing\n",
        "#from sklearn.feature_selection import RFE\n",
        "from sklearn.feature_selection import RFECV"
      ],
      "execution_count": null,
      "outputs": []
    },
    {
      "cell_type": "code",
      "metadata": {
        "id": "hyQFgFh6bN-f"
      },
      "source": [
        "# initiate the linear model\n",
        "lm = LinearRegression()"
      ],
      "execution_count": null,
      "outputs": []
    },
    {
      "cell_type": "code",
      "metadata": {
        "id": "3BZE4wfTbVn1"
      },
      "source": [
        "# scale the features\n",
        "min_mascaler =  preprocessing.MinMaxScaler()\n",
        "scaled_minmax = min_mascaler.fit_transform(X_train)\n",
        "scaled_minmaxdf = pd.DataFrame(scaled_minmax, columns=X.columns) #columns = feature_names)"
      ],
      "execution_count": null,
      "outputs": []
    },
    {
      "cell_type": "code",
      "metadata": {
        "colab": {
          "base_uri": "https://localhost:8080/",
          "height": 423
        },
        "id": "296RKQaGKpp5",
        "outputId": "053830cf-1ff9-4556-d920-f6721a060392"
      },
      "source": [
        "scaled_minmaxdf"
      ],
      "execution_count": null,
      "outputs": [
        {
          "output_type": "execute_result",
          "data": {
            "text/plain": [
              "         crim    zn     indus  chas       nox        rm       age       dis  \\\n",
              "0    0.000323  0.95  0.081378   0.0  0.063992  0.831139  0.289362  0.360387   \n",
              "1    0.109226  0.00  0.646628   0.0  0.730453  0.550930  0.970213  0.081771   \n",
              "2    0.001493  0.00  0.131598   0.0  0.257202  0.389427  0.877660  0.130232   \n",
              "3    0.001301  0.00  0.089076   0.0  0.123457  0.593338  0.551064  0.212286   \n",
              "4    0.000082  0.75  0.129765   0.0  0.051440  0.450620  0.442553  0.561319   \n",
              "..        ...   ...       ...   ...       ...       ...       ...       ...   \n",
              "399  0.000849  0.00  0.089076   0.0  0.123457  0.824748  0.328723  0.212286   \n",
              "400  0.054682  0.00  0.646628   0.0  0.471193  0.566034  0.931915  0.103692   \n",
              "401  0.003876  0.00  0.253666   0.0  0.222222  0.480248  0.467021  0.324164   \n",
              "402  0.103189  0.00  0.646628   0.0  0.648148  0.382455  1.000000  0.037536   \n",
              "403  0.051136  0.00  0.646628   0.0  0.685185  0.000000  0.871277  0.040530   \n",
              "\n",
              "          rad       tax   ptratio     black     lstat  \n",
              "0    0.130435  0.070611  0.223404  0.989611  0.059007  \n",
              "1    1.000000  0.914122  0.808511  0.972414  0.504681  \n",
              "2    0.173913  0.208015  0.425532  1.000000  0.367660  \n",
              "3    0.043478  0.169847  0.574468  0.901861  0.139574  \n",
              "4    0.086957  0.538168  0.904255  1.000000  0.370780  \n",
              "..        ...       ...       ...       ...       ...  \n",
              "399  0.043478  0.169847  0.574468  0.991502  0.052199  \n",
              "400  1.000000  0.914122  0.808511  0.998260  0.480851  \n",
              "401  0.173913  0.190840  0.744681  1.000000  0.169362  \n",
              "402  1.000000  0.914122  0.808511  1.000000  0.620426  \n",
              "403  1.000000  0.914122  0.808511  0.893590  0.152908  \n",
              "\n",
              "[404 rows x 13 columns]"
            ],
            "text/html": [
              "\n",
              "  <div id=\"df-35c05426-8e98-4c30-9828-d5efcee18452\">\n",
              "    <div class=\"colab-df-container\">\n",
              "      <div>\n",
              "<style scoped>\n",
              "    .dataframe tbody tr th:only-of-type {\n",
              "        vertical-align: middle;\n",
              "    }\n",
              "\n",
              "    .dataframe tbody tr th {\n",
              "        vertical-align: top;\n",
              "    }\n",
              "\n",
              "    .dataframe thead th {\n",
              "        text-align: right;\n",
              "    }\n",
              "</style>\n",
              "<table border=\"1\" class=\"dataframe\">\n",
              "  <thead>\n",
              "    <tr style=\"text-align: right;\">\n",
              "      <th></th>\n",
              "      <th>crim</th>\n",
              "      <th>zn</th>\n",
              "      <th>indus</th>\n",
              "      <th>chas</th>\n",
              "      <th>nox</th>\n",
              "      <th>rm</th>\n",
              "      <th>age</th>\n",
              "      <th>dis</th>\n",
              "      <th>rad</th>\n",
              "      <th>tax</th>\n",
              "      <th>ptratio</th>\n",
              "      <th>black</th>\n",
              "      <th>lstat</th>\n",
              "    </tr>\n",
              "  </thead>\n",
              "  <tbody>\n",
              "    <tr>\n",
              "      <th>0</th>\n",
              "      <td>0.000323</td>\n",
              "      <td>0.95</td>\n",
              "      <td>0.081378</td>\n",
              "      <td>0.0</td>\n",
              "      <td>0.063992</td>\n",
              "      <td>0.831139</td>\n",
              "      <td>0.289362</td>\n",
              "      <td>0.360387</td>\n",
              "      <td>0.130435</td>\n",
              "      <td>0.070611</td>\n",
              "      <td>0.223404</td>\n",
              "      <td>0.989611</td>\n",
              "      <td>0.059007</td>\n",
              "    </tr>\n",
              "    <tr>\n",
              "      <th>1</th>\n",
              "      <td>0.109226</td>\n",
              "      <td>0.00</td>\n",
              "      <td>0.646628</td>\n",
              "      <td>0.0</td>\n",
              "      <td>0.730453</td>\n",
              "      <td>0.550930</td>\n",
              "      <td>0.970213</td>\n",
              "      <td>0.081771</td>\n",
              "      <td>1.000000</td>\n",
              "      <td>0.914122</td>\n",
              "      <td>0.808511</td>\n",
              "      <td>0.972414</td>\n",
              "      <td>0.504681</td>\n",
              "    </tr>\n",
              "    <tr>\n",
              "      <th>2</th>\n",
              "      <td>0.001493</td>\n",
              "      <td>0.00</td>\n",
              "      <td>0.131598</td>\n",
              "      <td>0.0</td>\n",
              "      <td>0.257202</td>\n",
              "      <td>0.389427</td>\n",
              "      <td>0.877660</td>\n",
              "      <td>0.130232</td>\n",
              "      <td>0.173913</td>\n",
              "      <td>0.208015</td>\n",
              "      <td>0.425532</td>\n",
              "      <td>1.000000</td>\n",
              "      <td>0.367660</td>\n",
              "    </tr>\n",
              "    <tr>\n",
              "      <th>3</th>\n",
              "      <td>0.001301</td>\n",
              "      <td>0.00</td>\n",
              "      <td>0.089076</td>\n",
              "      <td>0.0</td>\n",
              "      <td>0.123457</td>\n",
              "      <td>0.593338</td>\n",
              "      <td>0.551064</td>\n",
              "      <td>0.212286</td>\n",
              "      <td>0.043478</td>\n",
              "      <td>0.169847</td>\n",
              "      <td>0.574468</td>\n",
              "      <td>0.901861</td>\n",
              "      <td>0.139574</td>\n",
              "    </tr>\n",
              "    <tr>\n",
              "      <th>4</th>\n",
              "      <td>0.000082</td>\n",
              "      <td>0.75</td>\n",
              "      <td>0.129765</td>\n",
              "      <td>0.0</td>\n",
              "      <td>0.051440</td>\n",
              "      <td>0.450620</td>\n",
              "      <td>0.442553</td>\n",
              "      <td>0.561319</td>\n",
              "      <td>0.086957</td>\n",
              "      <td>0.538168</td>\n",
              "      <td>0.904255</td>\n",
              "      <td>1.000000</td>\n",
              "      <td>0.370780</td>\n",
              "    </tr>\n",
              "    <tr>\n",
              "      <th>...</th>\n",
              "      <td>...</td>\n",
              "      <td>...</td>\n",
              "      <td>...</td>\n",
              "      <td>...</td>\n",
              "      <td>...</td>\n",
              "      <td>...</td>\n",
              "      <td>...</td>\n",
              "      <td>...</td>\n",
              "      <td>...</td>\n",
              "      <td>...</td>\n",
              "      <td>...</td>\n",
              "      <td>...</td>\n",
              "      <td>...</td>\n",
              "    </tr>\n",
              "    <tr>\n",
              "      <th>399</th>\n",
              "      <td>0.000849</td>\n",
              "      <td>0.00</td>\n",
              "      <td>0.089076</td>\n",
              "      <td>0.0</td>\n",
              "      <td>0.123457</td>\n",
              "      <td>0.824748</td>\n",
              "      <td>0.328723</td>\n",
              "      <td>0.212286</td>\n",
              "      <td>0.043478</td>\n",
              "      <td>0.169847</td>\n",
              "      <td>0.574468</td>\n",
              "      <td>0.991502</td>\n",
              "      <td>0.052199</td>\n",
              "    </tr>\n",
              "    <tr>\n",
              "      <th>400</th>\n",
              "      <td>0.054682</td>\n",
              "      <td>0.00</td>\n",
              "      <td>0.646628</td>\n",
              "      <td>0.0</td>\n",
              "      <td>0.471193</td>\n",
              "      <td>0.566034</td>\n",
              "      <td>0.931915</td>\n",
              "      <td>0.103692</td>\n",
              "      <td>1.000000</td>\n",
              "      <td>0.914122</td>\n",
              "      <td>0.808511</td>\n",
              "      <td>0.998260</td>\n",
              "      <td>0.480851</td>\n",
              "    </tr>\n",
              "    <tr>\n",
              "      <th>401</th>\n",
              "      <td>0.003876</td>\n",
              "      <td>0.00</td>\n",
              "      <td>0.253666</td>\n",
              "      <td>0.0</td>\n",
              "      <td>0.222222</td>\n",
              "      <td>0.480248</td>\n",
              "      <td>0.467021</td>\n",
              "      <td>0.324164</td>\n",
              "      <td>0.173913</td>\n",
              "      <td>0.190840</td>\n",
              "      <td>0.744681</td>\n",
              "      <td>1.000000</td>\n",
              "      <td>0.169362</td>\n",
              "    </tr>\n",
              "    <tr>\n",
              "      <th>402</th>\n",
              "      <td>0.103189</td>\n",
              "      <td>0.00</td>\n",
              "      <td>0.646628</td>\n",
              "      <td>0.0</td>\n",
              "      <td>0.648148</td>\n",
              "      <td>0.382455</td>\n",
              "      <td>1.000000</td>\n",
              "      <td>0.037536</td>\n",
              "      <td>1.000000</td>\n",
              "      <td>0.914122</td>\n",
              "      <td>0.808511</td>\n",
              "      <td>1.000000</td>\n",
              "      <td>0.620426</td>\n",
              "    </tr>\n",
              "    <tr>\n",
              "      <th>403</th>\n",
              "      <td>0.051136</td>\n",
              "      <td>0.00</td>\n",
              "      <td>0.646628</td>\n",
              "      <td>0.0</td>\n",
              "      <td>0.685185</td>\n",
              "      <td>0.000000</td>\n",
              "      <td>0.871277</td>\n",
              "      <td>0.040530</td>\n",
              "      <td>1.000000</td>\n",
              "      <td>0.914122</td>\n",
              "      <td>0.808511</td>\n",
              "      <td>0.893590</td>\n",
              "      <td>0.152908</td>\n",
              "    </tr>\n",
              "  </tbody>\n",
              "</table>\n",
              "<p>404 rows × 13 columns</p>\n",
              "</div>\n",
              "      <button class=\"colab-df-convert\" onclick=\"convertToInteractive('df-35c05426-8e98-4c30-9828-d5efcee18452')\"\n",
              "              title=\"Convert this dataframe to an interactive table.\"\n",
              "              style=\"display:none;\">\n",
              "        \n",
              "  <svg xmlns=\"http://www.w3.org/2000/svg\" height=\"24px\"viewBox=\"0 0 24 24\"\n",
              "       width=\"24px\">\n",
              "    <path d=\"M0 0h24v24H0V0z\" fill=\"none\"/>\n",
              "    <path d=\"M18.56 5.44l.94 2.06.94-2.06 2.06-.94-2.06-.94-.94-2.06-.94 2.06-2.06.94zm-11 1L8.5 8.5l.94-2.06 2.06-.94-2.06-.94L8.5 2.5l-.94 2.06-2.06.94zm10 10l.94 2.06.94-2.06 2.06-.94-2.06-.94-.94-2.06-.94 2.06-2.06.94z\"/><path d=\"M17.41 7.96l-1.37-1.37c-.4-.4-.92-.59-1.43-.59-.52 0-1.04.2-1.43.59L10.3 9.45l-7.72 7.72c-.78.78-.78 2.05 0 2.83L4 21.41c.39.39.9.59 1.41.59.51 0 1.02-.2 1.41-.59l7.78-7.78 2.81-2.81c.8-.78.8-2.07 0-2.86zM5.41 20L4 18.59l7.72-7.72 1.47 1.35L5.41 20z\"/>\n",
              "  </svg>\n",
              "      </button>\n",
              "      \n",
              "  <style>\n",
              "    .colab-df-container {\n",
              "      display:flex;\n",
              "      flex-wrap:wrap;\n",
              "      gap: 12px;\n",
              "    }\n",
              "\n",
              "    .colab-df-convert {\n",
              "      background-color: #E8F0FE;\n",
              "      border: none;\n",
              "      border-radius: 50%;\n",
              "      cursor: pointer;\n",
              "      display: none;\n",
              "      fill: #1967D2;\n",
              "      height: 32px;\n",
              "      padding: 0 0 0 0;\n",
              "      width: 32px;\n",
              "    }\n",
              "\n",
              "    .colab-df-convert:hover {\n",
              "      background-color: #E2EBFA;\n",
              "      box-shadow: 0px 1px 2px rgba(60, 64, 67, 0.3), 0px 1px 3px 1px rgba(60, 64, 67, 0.15);\n",
              "      fill: #174EA6;\n",
              "    }\n",
              "\n",
              "    [theme=dark] .colab-df-convert {\n",
              "      background-color: #3B4455;\n",
              "      fill: #D2E3FC;\n",
              "    }\n",
              "\n",
              "    [theme=dark] .colab-df-convert:hover {\n",
              "      background-color: #434B5C;\n",
              "      box-shadow: 0px 1px 3px 1px rgba(0, 0, 0, 0.15);\n",
              "      filter: drop-shadow(0px 1px 2px rgba(0, 0, 0, 0.3));\n",
              "      fill: #FFFFFF;\n",
              "    }\n",
              "  </style>\n",
              "\n",
              "      <script>\n",
              "        const buttonEl =\n",
              "          document.querySelector('#df-35c05426-8e98-4c30-9828-d5efcee18452 button.colab-df-convert');\n",
              "        buttonEl.style.display =\n",
              "          google.colab.kernel.accessAllowed ? 'block' : 'none';\n",
              "\n",
              "        async function convertToInteractive(key) {\n",
              "          const element = document.querySelector('#df-35c05426-8e98-4c30-9828-d5efcee18452');\n",
              "          const dataTable =\n",
              "            await google.colab.kernel.invokeFunction('convertToInteractive',\n",
              "                                                     [key], {});\n",
              "          if (!dataTable) return;\n",
              "\n",
              "          const docLinkHtml = 'Like what you see? Visit the ' +\n",
              "            '<a target=\"_blank\" href=https://colab.research.google.com/notebooks/data_table.ipynb>data table notebook</a>'\n",
              "            + ' to learn more about interactive tables.';\n",
              "          element.innerHTML = '';\n",
              "          dataTable['output_type'] = 'display_data';\n",
              "          await google.colab.output.renderOutput(dataTable, element);\n",
              "          const docLink = document.createElement('div');\n",
              "          docLink.innerHTML = docLinkHtml;\n",
              "          element.appendChild(docLink);\n",
              "        }\n",
              "      </script>\n",
              "    </div>\n",
              "  </div>\n",
              "  "
            ]
          },
          "metadata": {},
          "execution_count": 106
        }
      ]
    },
    {
      "cell_type": "markdown",
      "source": [
        "***robust_scaler***"
      ],
      "metadata": {
        "id": "eS_2zxWhBBhY"
      }
    },
    {
      "cell_type": "code",
      "source": [
        "from sklearn.preprocessing import RobustScaler\n",
        "RobustScaler = RobustScaler().fit(X)\n",
        "robust_scaler = RobustScaler.fit_transform(X_train)\n",
        "robust_scalerdf = pd.DataFrame(robust_scaler, columns = X.columns) #columns = feature_names)"
      ],
      "metadata": {
        "id": "WlLGzHMQ-8Sv"
      },
      "execution_count": null,
      "outputs": []
    },
    {
      "cell_type": "code",
      "source": [
        "robust_scalerdf"
      ],
      "metadata": {
        "colab": {
          "base_uri": "https://localhost:8080/",
          "height": 423
        },
        "id": "JSw7SVzX_mGn",
        "outputId": "f1f48f13-ed69-4e4f-b672-37a834d9d27e"
      },
      "execution_count": null,
      "outputs": [
        {
          "output_type": "execute_result",
          "data": {
            "text/plain": [
              "         crim   zn     indus  chas       nox        rm       age       dis  \\\n",
              "0   -0.060466  7.6 -0.540478   0.0 -0.708721  2.266209 -0.912353  0.667919   \n",
              "1    2.630959  0.0  0.648419   0.0  1.174419  0.280617  0.399795 -0.342983   \n",
              "2   -0.031565  0.0 -0.434850   0.0 -0.162791 -0.863808  0.221425 -0.167154   \n",
              "3   -0.036315  0.0 -0.524287   0.0 -0.540698  0.581132 -0.407996  0.130564   \n",
              "4   -0.066438  6.0 -0.438705   0.0 -0.744186 -0.430189 -0.617119  1.396965   \n",
              "..        ...  ...       ...   ...       ...       ...       ...       ...   \n",
              "399 -0.047474  0.0 -0.524287   0.0 -0.540698  2.220926 -0.836494  0.130564   \n",
              "400  1.282960  0.0  0.648419   0.0  0.441860  0.387650  0.325987 -0.263446   \n",
              "401  0.027324  0.0 -0.178103   0.0 -0.261628 -0.220240 -0.569964  0.536495   \n",
              "402  2.481747  0.0  0.648419   0.0  0.941860 -0.913208  0.457201 -0.503481   \n",
              "403  1.195310  0.0  0.648419   0.0  1.046512 -3.623328  0.209124 -0.492620   \n",
              "\n",
              "      rad       tax   ptratio     black     lstat  \n",
              "0   -0.05 -0.273902 -1.553571  0.041116 -0.772636  \n",
              "1    0.95  0.868217  0.410714 -0.298779  0.807847  \n",
              "2    0.00 -0.087855 -0.875000  0.246449  0.321932  \n",
              "3   -0.15 -0.139535 -0.375000 -1.693247 -0.486922  \n",
              "4   -0.10  0.359173  0.732143  0.246449  0.332998  \n",
              "..    ...       ...       ...       ...       ...  \n",
              "399 -0.15 -0.139535 -0.375000  0.078495 -0.796781  \n",
              "400  0.95  0.868217  0.410714  0.212061  0.723340  \n",
              "401  0.00 -0.111111  0.196429  0.246449 -0.381288  \n",
              "402  0.95  0.868217  0.410714  0.246449  1.218310  \n",
              "403  0.95  0.868217  0.410714 -1.856716 -0.439638  \n",
              "\n",
              "[404 rows x 13 columns]"
            ],
            "text/html": [
              "\n",
              "  <div id=\"df-bc7c8f1d-e300-4352-9d65-acdd828f96e4\">\n",
              "    <div class=\"colab-df-container\">\n",
              "      <div>\n",
              "<style scoped>\n",
              "    .dataframe tbody tr th:only-of-type {\n",
              "        vertical-align: middle;\n",
              "    }\n",
              "\n",
              "    .dataframe tbody tr th {\n",
              "        vertical-align: top;\n",
              "    }\n",
              "\n",
              "    .dataframe thead th {\n",
              "        text-align: right;\n",
              "    }\n",
              "</style>\n",
              "<table border=\"1\" class=\"dataframe\">\n",
              "  <thead>\n",
              "    <tr style=\"text-align: right;\">\n",
              "      <th></th>\n",
              "      <th>crim</th>\n",
              "      <th>zn</th>\n",
              "      <th>indus</th>\n",
              "      <th>chas</th>\n",
              "      <th>nox</th>\n",
              "      <th>rm</th>\n",
              "      <th>age</th>\n",
              "      <th>dis</th>\n",
              "      <th>rad</th>\n",
              "      <th>tax</th>\n",
              "      <th>ptratio</th>\n",
              "      <th>black</th>\n",
              "      <th>lstat</th>\n",
              "    </tr>\n",
              "  </thead>\n",
              "  <tbody>\n",
              "    <tr>\n",
              "      <th>0</th>\n",
              "      <td>-0.060466</td>\n",
              "      <td>7.6</td>\n",
              "      <td>-0.540478</td>\n",
              "      <td>0.0</td>\n",
              "      <td>-0.708721</td>\n",
              "      <td>2.266209</td>\n",
              "      <td>-0.912353</td>\n",
              "      <td>0.667919</td>\n",
              "      <td>-0.05</td>\n",
              "      <td>-0.273902</td>\n",
              "      <td>-1.553571</td>\n",
              "      <td>0.041116</td>\n",
              "      <td>-0.772636</td>\n",
              "    </tr>\n",
              "    <tr>\n",
              "      <th>1</th>\n",
              "      <td>2.630959</td>\n",
              "      <td>0.0</td>\n",
              "      <td>0.648419</td>\n",
              "      <td>0.0</td>\n",
              "      <td>1.174419</td>\n",
              "      <td>0.280617</td>\n",
              "      <td>0.399795</td>\n",
              "      <td>-0.342983</td>\n",
              "      <td>0.95</td>\n",
              "      <td>0.868217</td>\n",
              "      <td>0.410714</td>\n",
              "      <td>-0.298779</td>\n",
              "      <td>0.807847</td>\n",
              "    </tr>\n",
              "    <tr>\n",
              "      <th>2</th>\n",
              "      <td>-0.031565</td>\n",
              "      <td>0.0</td>\n",
              "      <td>-0.434850</td>\n",
              "      <td>0.0</td>\n",
              "      <td>-0.162791</td>\n",
              "      <td>-0.863808</td>\n",
              "      <td>0.221425</td>\n",
              "      <td>-0.167154</td>\n",
              "      <td>0.00</td>\n",
              "      <td>-0.087855</td>\n",
              "      <td>-0.875000</td>\n",
              "      <td>0.246449</td>\n",
              "      <td>0.321932</td>\n",
              "    </tr>\n",
              "    <tr>\n",
              "      <th>3</th>\n",
              "      <td>-0.036315</td>\n",
              "      <td>0.0</td>\n",
              "      <td>-0.524287</td>\n",
              "      <td>0.0</td>\n",
              "      <td>-0.540698</td>\n",
              "      <td>0.581132</td>\n",
              "      <td>-0.407996</td>\n",
              "      <td>0.130564</td>\n",
              "      <td>-0.15</td>\n",
              "      <td>-0.139535</td>\n",
              "      <td>-0.375000</td>\n",
              "      <td>-1.693247</td>\n",
              "      <td>-0.486922</td>\n",
              "    </tr>\n",
              "    <tr>\n",
              "      <th>4</th>\n",
              "      <td>-0.066438</td>\n",
              "      <td>6.0</td>\n",
              "      <td>-0.438705</td>\n",
              "      <td>0.0</td>\n",
              "      <td>-0.744186</td>\n",
              "      <td>-0.430189</td>\n",
              "      <td>-0.617119</td>\n",
              "      <td>1.396965</td>\n",
              "      <td>-0.10</td>\n",
              "      <td>0.359173</td>\n",
              "      <td>0.732143</td>\n",
              "      <td>0.246449</td>\n",
              "      <td>0.332998</td>\n",
              "    </tr>\n",
              "    <tr>\n",
              "      <th>...</th>\n",
              "      <td>...</td>\n",
              "      <td>...</td>\n",
              "      <td>...</td>\n",
              "      <td>...</td>\n",
              "      <td>...</td>\n",
              "      <td>...</td>\n",
              "      <td>...</td>\n",
              "      <td>...</td>\n",
              "      <td>...</td>\n",
              "      <td>...</td>\n",
              "      <td>...</td>\n",
              "      <td>...</td>\n",
              "      <td>...</td>\n",
              "    </tr>\n",
              "    <tr>\n",
              "      <th>399</th>\n",
              "      <td>-0.047474</td>\n",
              "      <td>0.0</td>\n",
              "      <td>-0.524287</td>\n",
              "      <td>0.0</td>\n",
              "      <td>-0.540698</td>\n",
              "      <td>2.220926</td>\n",
              "      <td>-0.836494</td>\n",
              "      <td>0.130564</td>\n",
              "      <td>-0.15</td>\n",
              "      <td>-0.139535</td>\n",
              "      <td>-0.375000</td>\n",
              "      <td>0.078495</td>\n",
              "      <td>-0.796781</td>\n",
              "    </tr>\n",
              "    <tr>\n",
              "      <th>400</th>\n",
              "      <td>1.282960</td>\n",
              "      <td>0.0</td>\n",
              "      <td>0.648419</td>\n",
              "      <td>0.0</td>\n",
              "      <td>0.441860</td>\n",
              "      <td>0.387650</td>\n",
              "      <td>0.325987</td>\n",
              "      <td>-0.263446</td>\n",
              "      <td>0.95</td>\n",
              "      <td>0.868217</td>\n",
              "      <td>0.410714</td>\n",
              "      <td>0.212061</td>\n",
              "      <td>0.723340</td>\n",
              "    </tr>\n",
              "    <tr>\n",
              "      <th>401</th>\n",
              "      <td>0.027324</td>\n",
              "      <td>0.0</td>\n",
              "      <td>-0.178103</td>\n",
              "      <td>0.0</td>\n",
              "      <td>-0.261628</td>\n",
              "      <td>-0.220240</td>\n",
              "      <td>-0.569964</td>\n",
              "      <td>0.536495</td>\n",
              "      <td>0.00</td>\n",
              "      <td>-0.111111</td>\n",
              "      <td>0.196429</td>\n",
              "      <td>0.246449</td>\n",
              "      <td>-0.381288</td>\n",
              "    </tr>\n",
              "    <tr>\n",
              "      <th>402</th>\n",
              "      <td>2.481747</td>\n",
              "      <td>0.0</td>\n",
              "      <td>0.648419</td>\n",
              "      <td>0.0</td>\n",
              "      <td>0.941860</td>\n",
              "      <td>-0.913208</td>\n",
              "      <td>0.457201</td>\n",
              "      <td>-0.503481</td>\n",
              "      <td>0.95</td>\n",
              "      <td>0.868217</td>\n",
              "      <td>0.410714</td>\n",
              "      <td>0.246449</td>\n",
              "      <td>1.218310</td>\n",
              "    </tr>\n",
              "    <tr>\n",
              "      <th>403</th>\n",
              "      <td>1.195310</td>\n",
              "      <td>0.0</td>\n",
              "      <td>0.648419</td>\n",
              "      <td>0.0</td>\n",
              "      <td>1.046512</td>\n",
              "      <td>-3.623328</td>\n",
              "      <td>0.209124</td>\n",
              "      <td>-0.492620</td>\n",
              "      <td>0.95</td>\n",
              "      <td>0.868217</td>\n",
              "      <td>0.410714</td>\n",
              "      <td>-1.856716</td>\n",
              "      <td>-0.439638</td>\n",
              "    </tr>\n",
              "  </tbody>\n",
              "</table>\n",
              "<p>404 rows × 13 columns</p>\n",
              "</div>\n",
              "      <button class=\"colab-df-convert\" onclick=\"convertToInteractive('df-bc7c8f1d-e300-4352-9d65-acdd828f96e4')\"\n",
              "              title=\"Convert this dataframe to an interactive table.\"\n",
              "              style=\"display:none;\">\n",
              "        \n",
              "  <svg xmlns=\"http://www.w3.org/2000/svg\" height=\"24px\"viewBox=\"0 0 24 24\"\n",
              "       width=\"24px\">\n",
              "    <path d=\"M0 0h24v24H0V0z\" fill=\"none\"/>\n",
              "    <path d=\"M18.56 5.44l.94 2.06.94-2.06 2.06-.94-2.06-.94-.94-2.06-.94 2.06-2.06.94zm-11 1L8.5 8.5l.94-2.06 2.06-.94-2.06-.94L8.5 2.5l-.94 2.06-2.06.94zm10 10l.94 2.06.94-2.06 2.06-.94-2.06-.94-.94-2.06-.94 2.06-2.06.94z\"/><path d=\"M17.41 7.96l-1.37-1.37c-.4-.4-.92-.59-1.43-.59-.52 0-1.04.2-1.43.59L10.3 9.45l-7.72 7.72c-.78.78-.78 2.05 0 2.83L4 21.41c.39.39.9.59 1.41.59.51 0 1.02-.2 1.41-.59l7.78-7.78 2.81-2.81c.8-.78.8-2.07 0-2.86zM5.41 20L4 18.59l7.72-7.72 1.47 1.35L5.41 20z\"/>\n",
              "  </svg>\n",
              "      </button>\n",
              "      \n",
              "  <style>\n",
              "    .colab-df-container {\n",
              "      display:flex;\n",
              "      flex-wrap:wrap;\n",
              "      gap: 12px;\n",
              "    }\n",
              "\n",
              "    .colab-df-convert {\n",
              "      background-color: #E8F0FE;\n",
              "      border: none;\n",
              "      border-radius: 50%;\n",
              "      cursor: pointer;\n",
              "      display: none;\n",
              "      fill: #1967D2;\n",
              "      height: 32px;\n",
              "      padding: 0 0 0 0;\n",
              "      width: 32px;\n",
              "    }\n",
              "\n",
              "    .colab-df-convert:hover {\n",
              "      background-color: #E2EBFA;\n",
              "      box-shadow: 0px 1px 2px rgba(60, 64, 67, 0.3), 0px 1px 3px 1px rgba(60, 64, 67, 0.15);\n",
              "      fill: #174EA6;\n",
              "    }\n",
              "\n",
              "    [theme=dark] .colab-df-convert {\n",
              "      background-color: #3B4455;\n",
              "      fill: #D2E3FC;\n",
              "    }\n",
              "\n",
              "    [theme=dark] .colab-df-convert:hover {\n",
              "      background-color: #434B5C;\n",
              "      box-shadow: 0px 1px 3px 1px rgba(0, 0, 0, 0.15);\n",
              "      filter: drop-shadow(0px 1px 2px rgba(0, 0, 0, 0.3));\n",
              "      fill: #FFFFFF;\n",
              "    }\n",
              "  </style>\n",
              "\n",
              "      <script>\n",
              "        const buttonEl =\n",
              "          document.querySelector('#df-bc7c8f1d-e300-4352-9d65-acdd828f96e4 button.colab-df-convert');\n",
              "        buttonEl.style.display =\n",
              "          google.colab.kernel.accessAllowed ? 'block' : 'none';\n",
              "\n",
              "        async function convertToInteractive(key) {\n",
              "          const element = document.querySelector('#df-bc7c8f1d-e300-4352-9d65-acdd828f96e4');\n",
              "          const dataTable =\n",
              "            await google.colab.kernel.invokeFunction('convertToInteractive',\n",
              "                                                     [key], {});\n",
              "          if (!dataTable) return;\n",
              "\n",
              "          const docLinkHtml = 'Like what you see? Visit the ' +\n",
              "            '<a target=\"_blank\" href=https://colab.research.google.com/notebooks/data_table.ipynb>data table notebook</a>'\n",
              "            + ' to learn more about interactive tables.';\n",
              "          element.innerHTML = '';\n",
              "          dataTable['output_type'] = 'display_data';\n",
              "          await google.colab.output.renderOutput(dataTable, element);\n",
              "          const docLink = document.createElement('div');\n",
              "          docLink.innerHTML = docLinkHtml;\n",
              "          element.appendChild(docLink);\n",
              "        }\n",
              "      </script>\n",
              "    </div>\n",
              "  </div>\n",
              "  "
            ]
          },
          "metadata": {},
          "execution_count": 108
        }
      ]
    },
    {
      "cell_type": "code",
      "source": [
        "# recursive feature elimination with cross validation, using r-squared as metric\n",
        "rfecv = RFECV(estimator=lm, step=1, cv=10)\n",
        "rfecv.fit(robust_scalerdf, y_train)"
      ],
      "metadata": {
        "colab": {
          "base_uri": "https://localhost:8080/",
          "height": 117
        },
        "id": "dOOjf1ZwAkCF",
        "outputId": "f89da3d1-772c-4f53-fee7-77464fdc84cd"
      },
      "execution_count": null,
      "outputs": [
        {
          "output_type": "execute_result",
          "data": {
            "text/plain": [
              "RFECV(cv=10, estimator=LinearRegression())"
            ],
            "text/html": [
              "<style>#sk-container-id-7 {color: black;background-color: white;}#sk-container-id-7 pre{padding: 0;}#sk-container-id-7 div.sk-toggleable {background-color: white;}#sk-container-id-7 label.sk-toggleable__label {cursor: pointer;display: block;width: 100%;margin-bottom: 0;padding: 0.3em;box-sizing: border-box;text-align: center;}#sk-container-id-7 label.sk-toggleable__label-arrow:before {content: \"▸\";float: left;margin-right: 0.25em;color: #696969;}#sk-container-id-7 label.sk-toggleable__label-arrow:hover:before {color: black;}#sk-container-id-7 div.sk-estimator:hover label.sk-toggleable__label-arrow:before {color: black;}#sk-container-id-7 div.sk-toggleable__content {max-height: 0;max-width: 0;overflow: hidden;text-align: left;background-color: #f0f8ff;}#sk-container-id-7 div.sk-toggleable__content pre {margin: 0.2em;color: black;border-radius: 0.25em;background-color: #f0f8ff;}#sk-container-id-7 input.sk-toggleable__control:checked~div.sk-toggleable__content {max-height: 200px;max-width: 100%;overflow: auto;}#sk-container-id-7 input.sk-toggleable__control:checked~label.sk-toggleable__label-arrow:before {content: \"▾\";}#sk-container-id-7 div.sk-estimator input.sk-toggleable__control:checked~label.sk-toggleable__label {background-color: #d4ebff;}#sk-container-id-7 div.sk-label input.sk-toggleable__control:checked~label.sk-toggleable__label {background-color: #d4ebff;}#sk-container-id-7 input.sk-hidden--visually {border: 0;clip: rect(1px 1px 1px 1px);clip: rect(1px, 1px, 1px, 1px);height: 1px;margin: -1px;overflow: hidden;padding: 0;position: absolute;width: 1px;}#sk-container-id-7 div.sk-estimator {font-family: monospace;background-color: #f0f8ff;border: 1px dotted black;border-radius: 0.25em;box-sizing: border-box;margin-bottom: 0.5em;}#sk-container-id-7 div.sk-estimator:hover {background-color: #d4ebff;}#sk-container-id-7 div.sk-parallel-item::after {content: \"\";width: 100%;border-bottom: 1px solid gray;flex-grow: 1;}#sk-container-id-7 div.sk-label:hover label.sk-toggleable__label {background-color: #d4ebff;}#sk-container-id-7 div.sk-serial::before {content: \"\";position: absolute;border-left: 1px solid gray;box-sizing: border-box;top: 0;bottom: 0;left: 50%;z-index: 0;}#sk-container-id-7 div.sk-serial {display: flex;flex-direction: column;align-items: center;background-color: white;padding-right: 0.2em;padding-left: 0.2em;position: relative;}#sk-container-id-7 div.sk-item {position: relative;z-index: 1;}#sk-container-id-7 div.sk-parallel {display: flex;align-items: stretch;justify-content: center;background-color: white;position: relative;}#sk-container-id-7 div.sk-item::before, #sk-container-id-7 div.sk-parallel-item::before {content: \"\";position: absolute;border-left: 1px solid gray;box-sizing: border-box;top: 0;bottom: 0;left: 50%;z-index: -1;}#sk-container-id-7 div.sk-parallel-item {display: flex;flex-direction: column;z-index: 1;position: relative;background-color: white;}#sk-container-id-7 div.sk-parallel-item:first-child::after {align-self: flex-end;width: 50%;}#sk-container-id-7 div.sk-parallel-item:last-child::after {align-self: flex-start;width: 50%;}#sk-container-id-7 div.sk-parallel-item:only-child::after {width: 0;}#sk-container-id-7 div.sk-dashed-wrapped {border: 1px dashed gray;margin: 0 0.4em 0.5em 0.4em;box-sizing: border-box;padding-bottom: 0.4em;background-color: white;}#sk-container-id-7 div.sk-label label {font-family: monospace;font-weight: bold;display: inline-block;line-height: 1.2em;}#sk-container-id-7 div.sk-label-container {text-align: center;}#sk-container-id-7 div.sk-container {/* jupyter's `normalize.less` sets `[hidden] { display: none; }` but bootstrap.min.css set `[hidden] { display: none !important; }` so we also need the `!important` here to be able to override the default hidden behavior on the sphinx rendered scikit-learn.org. See: https://github.com/scikit-learn/scikit-learn/issues/21755 */display: inline-block !important;position: relative;}#sk-container-id-7 div.sk-text-repr-fallback {display: none;}</style><div id=\"sk-container-id-7\" class=\"sk-top-container\"><div class=\"sk-text-repr-fallback\"><pre>RFECV(cv=10, estimator=LinearRegression())</pre><b>In a Jupyter environment, please rerun this cell to show the HTML representation or trust the notebook. <br />On GitHub, the HTML representation is unable to render, please try loading this page with nbviewer.org.</b></div><div class=\"sk-container\" hidden><div class=\"sk-item sk-dashed-wrapped\"><div class=\"sk-label-container\"><div class=\"sk-label sk-toggleable\"><input class=\"sk-toggleable__control sk-hidden--visually\" id=\"sk-estimator-id-7\" type=\"checkbox\" ><label for=\"sk-estimator-id-7\" class=\"sk-toggleable__label sk-toggleable__label-arrow\">RFECV</label><div class=\"sk-toggleable__content\"><pre>RFECV(cv=10, estimator=LinearRegression())</pre></div></div></div><div class=\"sk-parallel\"><div class=\"sk-parallel-item\"><div class=\"sk-item\"><div class=\"sk-label-container\"><div class=\"sk-label sk-toggleable\"><input class=\"sk-toggleable__control sk-hidden--visually\" id=\"sk-estimator-id-8\" type=\"checkbox\" ><label for=\"sk-estimator-id-8\" class=\"sk-toggleable__label sk-toggleable__label-arrow\">estimator: LinearRegression</label><div class=\"sk-toggleable__content\"><pre>LinearRegression()</pre></div></div></div><div class=\"sk-serial\"><div class=\"sk-item\"><div class=\"sk-estimator sk-toggleable\"><input class=\"sk-toggleable__control sk-hidden--visually\" id=\"sk-estimator-id-9\" type=\"checkbox\" ><label for=\"sk-estimator-id-9\" class=\"sk-toggleable__label sk-toggleable__label-arrow\">LinearRegression</label><div class=\"sk-toggleable__content\"><pre>LinearRegression()</pre></div></div></div></div></div></div></div></div></div></div>"
            ]
          },
          "metadata": {},
          "execution_count": 109
        }
      ]
    },
    {
      "cell_type": "code",
      "source": [
        "# print the optimal number of feature\n",
        "print(\"Optimal number of features : %d\" % rfecv.n_features_)"
      ],
      "metadata": {
        "colab": {
          "base_uri": "https://localhost:8080/"
        },
        "id": "AyX_QPAzAj-z",
        "outputId": "f3487a00-8fa1-4e46-d7c1-c257afd43486"
      },
      "execution_count": null,
      "outputs": [
        {
          "output_type": "stream",
          "name": "stdout",
          "text": [
            "Optimal number of features : 13\n"
          ]
        }
      ]
    },
    {
      "cell_type": "markdown",
      "source": [
        "***scaled_minmax***"
      ],
      "metadata": {
        "id": "fGQeTPFLA1MM"
      }
    },
    {
      "cell_type": "code",
      "metadata": {
        "id": "1F8JB3VAb3mH",
        "colab": {
          "base_uri": "https://localhost:8080/",
          "height": 117
        },
        "outputId": "ff12616d-1427-4eb5-a597-ec4933398b26"
      },
      "source": [
        "# recursive feature elimination with cross validation, using r-squared as metric\n",
        "rfecv = RFECV(estimator=lm, step=1, cv=5)\n",
        "rfecv.fit(scaled_minmaxdf, y_train)"
      ],
      "execution_count": null,
      "outputs": [
        {
          "output_type": "execute_result",
          "data": {
            "text/plain": [
              "RFECV(cv=5, estimator=LinearRegression())"
            ],
            "text/html": [
              "<style>#sk-container-id-8 {color: black;background-color: white;}#sk-container-id-8 pre{padding: 0;}#sk-container-id-8 div.sk-toggleable {background-color: white;}#sk-container-id-8 label.sk-toggleable__label {cursor: pointer;display: block;width: 100%;margin-bottom: 0;padding: 0.3em;box-sizing: border-box;text-align: center;}#sk-container-id-8 label.sk-toggleable__label-arrow:before {content: \"▸\";float: left;margin-right: 0.25em;color: #696969;}#sk-container-id-8 label.sk-toggleable__label-arrow:hover:before {color: black;}#sk-container-id-8 div.sk-estimator:hover label.sk-toggleable__label-arrow:before {color: black;}#sk-container-id-8 div.sk-toggleable__content {max-height: 0;max-width: 0;overflow: hidden;text-align: left;background-color: #f0f8ff;}#sk-container-id-8 div.sk-toggleable__content pre {margin: 0.2em;color: black;border-radius: 0.25em;background-color: #f0f8ff;}#sk-container-id-8 input.sk-toggleable__control:checked~div.sk-toggleable__content {max-height: 200px;max-width: 100%;overflow: auto;}#sk-container-id-8 input.sk-toggleable__control:checked~label.sk-toggleable__label-arrow:before {content: \"▾\";}#sk-container-id-8 div.sk-estimator input.sk-toggleable__control:checked~label.sk-toggleable__label {background-color: #d4ebff;}#sk-container-id-8 div.sk-label input.sk-toggleable__control:checked~label.sk-toggleable__label {background-color: #d4ebff;}#sk-container-id-8 input.sk-hidden--visually {border: 0;clip: rect(1px 1px 1px 1px);clip: rect(1px, 1px, 1px, 1px);height: 1px;margin: -1px;overflow: hidden;padding: 0;position: absolute;width: 1px;}#sk-container-id-8 div.sk-estimator {font-family: monospace;background-color: #f0f8ff;border: 1px dotted black;border-radius: 0.25em;box-sizing: border-box;margin-bottom: 0.5em;}#sk-container-id-8 div.sk-estimator:hover {background-color: #d4ebff;}#sk-container-id-8 div.sk-parallel-item::after {content: \"\";width: 100%;border-bottom: 1px solid gray;flex-grow: 1;}#sk-container-id-8 div.sk-label:hover label.sk-toggleable__label {background-color: #d4ebff;}#sk-container-id-8 div.sk-serial::before {content: \"\";position: absolute;border-left: 1px solid gray;box-sizing: border-box;top: 0;bottom: 0;left: 50%;z-index: 0;}#sk-container-id-8 div.sk-serial {display: flex;flex-direction: column;align-items: center;background-color: white;padding-right: 0.2em;padding-left: 0.2em;position: relative;}#sk-container-id-8 div.sk-item {position: relative;z-index: 1;}#sk-container-id-8 div.sk-parallel {display: flex;align-items: stretch;justify-content: center;background-color: white;position: relative;}#sk-container-id-8 div.sk-item::before, #sk-container-id-8 div.sk-parallel-item::before {content: \"\";position: absolute;border-left: 1px solid gray;box-sizing: border-box;top: 0;bottom: 0;left: 50%;z-index: -1;}#sk-container-id-8 div.sk-parallel-item {display: flex;flex-direction: column;z-index: 1;position: relative;background-color: white;}#sk-container-id-8 div.sk-parallel-item:first-child::after {align-self: flex-end;width: 50%;}#sk-container-id-8 div.sk-parallel-item:last-child::after {align-self: flex-start;width: 50%;}#sk-container-id-8 div.sk-parallel-item:only-child::after {width: 0;}#sk-container-id-8 div.sk-dashed-wrapped {border: 1px dashed gray;margin: 0 0.4em 0.5em 0.4em;box-sizing: border-box;padding-bottom: 0.4em;background-color: white;}#sk-container-id-8 div.sk-label label {font-family: monospace;font-weight: bold;display: inline-block;line-height: 1.2em;}#sk-container-id-8 div.sk-label-container {text-align: center;}#sk-container-id-8 div.sk-container {/* jupyter's `normalize.less` sets `[hidden] { display: none; }` but bootstrap.min.css set `[hidden] { display: none !important; }` so we also need the `!important` here to be able to override the default hidden behavior on the sphinx rendered scikit-learn.org. See: https://github.com/scikit-learn/scikit-learn/issues/21755 */display: inline-block !important;position: relative;}#sk-container-id-8 div.sk-text-repr-fallback {display: none;}</style><div id=\"sk-container-id-8\" class=\"sk-top-container\"><div class=\"sk-text-repr-fallback\"><pre>RFECV(cv=5, estimator=LinearRegression())</pre><b>In a Jupyter environment, please rerun this cell to show the HTML representation or trust the notebook. <br />On GitHub, the HTML representation is unable to render, please try loading this page with nbviewer.org.</b></div><div class=\"sk-container\" hidden><div class=\"sk-item sk-dashed-wrapped\"><div class=\"sk-label-container\"><div class=\"sk-label sk-toggleable\"><input class=\"sk-toggleable__control sk-hidden--visually\" id=\"sk-estimator-id-10\" type=\"checkbox\" ><label for=\"sk-estimator-id-10\" class=\"sk-toggleable__label sk-toggleable__label-arrow\">RFECV</label><div class=\"sk-toggleable__content\"><pre>RFECV(cv=5, estimator=LinearRegression())</pre></div></div></div><div class=\"sk-parallel\"><div class=\"sk-parallel-item\"><div class=\"sk-item\"><div class=\"sk-label-container\"><div class=\"sk-label sk-toggleable\"><input class=\"sk-toggleable__control sk-hidden--visually\" id=\"sk-estimator-id-11\" type=\"checkbox\" ><label for=\"sk-estimator-id-11\" class=\"sk-toggleable__label sk-toggleable__label-arrow\">estimator: LinearRegression</label><div class=\"sk-toggleable__content\"><pre>LinearRegression()</pre></div></div></div><div class=\"sk-serial\"><div class=\"sk-item\"><div class=\"sk-estimator sk-toggleable\"><input class=\"sk-toggleable__control sk-hidden--visually\" id=\"sk-estimator-id-12\" type=\"checkbox\" ><label for=\"sk-estimator-id-12\" class=\"sk-toggleable__label sk-toggleable__label-arrow\">LinearRegression</label><div class=\"sk-toggleable__content\"><pre>LinearRegression()</pre></div></div></div></div></div></div></div></div></div></div>"
            ]
          },
          "metadata": {},
          "execution_count": 111
        }
      ]
    },
    {
      "cell_type": "code",
      "metadata": {
        "id": "3wjWN1N8b6et",
        "colab": {
          "base_uri": "https://localhost:8080/"
        },
        "outputId": "0a0f9fba-2710-4ca8-a014-72b836b4f182"
      },
      "source": [
        "# print the optimal number of feature\n",
        "print(\"Optimal number of features : %d\" % rfecv.n_features_)"
      ],
      "execution_count": null,
      "outputs": [
        {
          "output_type": "stream",
          "name": "stdout",
          "text": [
            "Optimal number of features : 11\n"
          ]
        }
      ]
    },
    {
      "cell_type": "code",
      "source": [
        "rfecv.support_"
      ],
      "metadata": {
        "colab": {
          "base_uri": "https://localhost:8080/"
        },
        "id": "mJmEbRLgiXYO",
        "outputId": "3300b484-e1c0-438a-b22d-3e280fa456cc"
      },
      "execution_count": null,
      "outputs": [
        {
          "output_type": "execute_result",
          "data": {
            "text/plain": [
              "array([ True,  True,  True, False,  True,  True, False,  True,  True,\n",
              "        True,  True,  True,  True])"
            ]
          },
          "metadata": {},
          "execution_count": 129
        }
      ]
    },
    {
      "cell_type": "code",
      "metadata": {
        "id": "aDQpaal9aBoP",
        "colab": {
          "base_uri": "https://localhost:8080/",
          "height": 559
        },
        "outputId": "a1faff0e-9471-4b3e-f22f-4d46e4aeeffb"
      },
      "source": [
        "# plot number of features VS. cross-validation scores\n",
        "plt.figure(figsize=(6, 6))\n",
        "plt.xlabel(\"Number of features selected\")\n",
        "plt.ylabel(\"mean-squared-error\")\n",
        "plt.plot(range(1, len(rfecv.ranking_) + 1), rfecv.ranking_)"
      ],
      "execution_count": null,
      "outputs": [
        {
          "output_type": "execute_result",
          "data": {
            "text/plain": [
              "[<matplotlib.lines.Line2D at 0x7f07d85c69b0>]"
            ]
          },
          "metadata": {},
          "execution_count": 116
        },
        {
          "output_type": "display_data",
          "data": {
            "text/plain": [
              "<Figure size 600x600 with 1 Axes>"
            ],
            "image/png": "[encoded data removed]"
          },
          "metadata": {}
        }
      ]
    },
    {
      "cell_type": "code",
      "source": [
        "list(np.array(rfecv.support_))"
      ],
      "metadata": {
        "colab": {
          "base_uri": "https://localhost:8080/"
        },
        "id": "ICSXrM_EtT-i",
        "outputId": "2d9ed0bf-c915-4697-f9a7-622e85f1aea5"
      },
      "execution_count": null,
      "outputs": [
        {
          "output_type": "execute_result",
          "data": {
            "text/plain": [
              "[True,\n",
              " True,\n",
              " True,\n",
              " False,\n",
              " True,\n",
              " True,\n",
              " False,\n",
              " True,\n",
              " True,\n",
              " True,\n",
              " True,\n",
              " True,\n",
              " True]"
            ]
          },
          "metadata": {},
          "execution_count": 141
        }
      ]
    },
    {
      "cell_type": "code",
      "source": [
        "np.array(rfecv.support_)"
      ],
      "metadata": {
        "colab": {
          "base_uri": "https://localhost:8080/"
        },
        "id": "BIZORf1AtQhZ",
        "outputId": "2051e5bb-1f56-481c-9dde-532dd73be7a8"
      },
      "execution_count": null,
      "outputs": [
        {
          "output_type": "execute_result",
          "data": {
            "text/plain": [
              "array([ True,  True,  True, False,  True,  True, False,  True,  True,\n",
              "        True,  True,  True,  True])"
            ]
          },
          "metadata": {},
          "execution_count": 140
        }
      ]
    },
    {
      "cell_type": "code",
      "source": [
        "X_train_new = X_train.loc[:,list(np.array(rfecv.support_))]"
      ],
      "metadata": {
        "id": "Wa0BPcSqsiH5"
      },
      "execution_count": null,
      "outputs": []
    },
    {
      "cell_type": "code",
      "source": [
        "X_train_new.columns"
      ],
      "metadata": {
        "colab": {
          "base_uri": "https://localhost:8080/"
        },
        "id": "KXjTazL-wXqQ",
        "outputId": "bfef2bdc-8413-4bc9-95dd-9acb09d55281"
      },
      "execution_count": null,
      "outputs": [
        {
          "output_type": "execute_result",
          "data": {
            "text/plain": [
              "Index(['crim', 'zn', 'indus', 'nox', 'rm', 'dis', 'rad', 'tax', 'ptratio',\n",
              "       'black', 'lstat'],\n",
              "      dtype='object')"
            ]
          },
          "metadata": {},
          "execution_count": 159
        }
      ]
    },
    {
      "cell_type": "code",
      "source": [
        "rfecv.support_"
      ],
      "metadata": {
        "colab": {
          "base_uri": "https://localhost:8080/"
        },
        "id": "V_EwMK5fr7gB",
        "outputId": "b9f5ce44-4e03-413b-e0b8-7a6970556027"
      },
      "execution_count": null,
      "outputs": [
        {
          "output_type": "execute_result",
          "data": {
            "text/plain": [
              "array([ True,  True,  True, False,  True,  True, False,  True,  True,\n",
              "        True,  True,  True,  True])"
            ]
          },
          "metadata": {},
          "execution_count": 133
        }
      ]
    },
    {
      "cell_type": "code",
      "metadata": {
        "colab": {
          "base_uri": "https://localhost:8080/",
          "height": 74
        },
        "id": "eCI8Of9dmwhH",
        "outputId": "1cd0ff24-d748-4243-d7b3-dc37b7479414"
      },
      "source": [
        "# %% fit model с выбранными функциями\n",
        "#%% fit model with selected features X_train_new = X_train[:,rfecv.support_]\n",
        "#X_train_new = X_train[:,list(rfecv.support_)]\n",
        "lm2 = LinearRegression()\n",
        "lm2.fit(X_train_new, y_train)"
      ],
      "execution_count": null,
      "outputs": [
        {
          "output_type": "execute_result",
          "data": {
            "text/plain": [
              "LinearRegression()"
            ],
            "text/html": [
              "<style>#sk-container-id-9 {color: black;background-color: white;}#sk-container-id-9 pre{padding: 0;}#sk-container-id-9 div.sk-toggleable {background-color: white;}#sk-container-id-9 label.sk-toggleable__label {cursor: pointer;display: block;width: 100%;margin-bottom: 0;padding: 0.3em;box-sizing: border-box;text-align: center;}#sk-container-id-9 label.sk-toggleable__label-arrow:before {content: \"▸\";float: left;margin-right: 0.25em;color: #696969;}#sk-container-id-9 label.sk-toggleable__label-arrow:hover:before {color: black;}#sk-container-id-9 div.sk-estimator:hover label.sk-toggleable__label-arrow:before {color: black;}#sk-container-id-9 div.sk-toggleable__content {max-height: 0;max-width: 0;overflow: hidden;text-align: left;background-color: #f0f8ff;}#sk-container-id-9 div.sk-toggleable__content pre {margin: 0.2em;color: black;border-radius: 0.25em;background-color: #f0f8ff;}#sk-container-id-9 input.sk-toggleable__control:checked~div.sk-toggleable__content {max-height: 200px;max-width: 100%;overflow: auto;}#sk-container-id-9 input.sk-toggleable__control:checked~label.sk-toggleable__label-arrow:before {content: \"▾\";}#sk-container-id-9 div.sk-estimator input.sk-toggleable__control:checked~label.sk-toggleable__label {background-color: #d4ebff;}#sk-container-id-9 div.sk-label input.sk-toggleable__control:checked~label.sk-toggleable__label {background-color: #d4ebff;}#sk-container-id-9 input.sk-hidden--visually {border: 0;clip: rect(1px 1px 1px 1px);clip: rect(1px, 1px, 1px, 1px);height: 1px;margin: -1px;overflow: hidden;padding: 0;position: absolute;width: 1px;}#sk-container-id-9 div.sk-estimator {font-family: monospace;background-color: #f0f8ff;border: 1px dotted black;border-radius: 0.25em;box-sizing: border-box;margin-bottom: 0.5em;}#sk-container-id-9 div.sk-estimator:hover {background-color: #d4ebff;}#sk-container-id-9 div.sk-parallel-item::after {content: \"\";width: 100%;border-bottom: 1px solid gray;flex-grow: 1;}#sk-container-id-9 div.sk-label:hover label.sk-toggleable__label {background-color: #d4ebff;}#sk-container-id-9 div.sk-serial::before {content: \"\";position: absolute;border-left: 1px solid gray;box-sizing: border-box;top: 0;bottom: 0;left: 50%;z-index: 0;}#sk-container-id-9 div.sk-serial {display: flex;flex-direction: column;align-items: center;background-color: white;padding-right: 0.2em;padding-left: 0.2em;position: relative;}#sk-container-id-9 div.sk-item {position: relative;z-index: 1;}#sk-container-id-9 div.sk-parallel {display: flex;align-items: stretch;justify-content: center;background-color: white;position: relative;}#sk-container-id-9 div.sk-item::before, #sk-container-id-9 div.sk-parallel-item::before {content: \"\";position: absolute;border-left: 1px solid gray;box-sizing: border-box;top: 0;bottom: 0;left: 50%;z-index: -1;}#sk-container-id-9 div.sk-parallel-item {display: flex;flex-direction: column;z-index: 1;position: relative;background-color: white;}#sk-container-id-9 div.sk-parallel-item:first-child::after {align-self: flex-end;width: 50%;}#sk-container-id-9 div.sk-parallel-item:last-child::after {align-self: flex-start;width: 50%;}#sk-container-id-9 div.sk-parallel-item:only-child::after {width: 0;}#sk-container-id-9 div.sk-dashed-wrapped {border: 1px dashed gray;margin: 0 0.4em 0.5em 0.4em;box-sizing: border-box;padding-bottom: 0.4em;background-color: white;}#sk-container-id-9 div.sk-label label {font-family: monospace;font-weight: bold;display: inline-block;line-height: 1.2em;}#sk-container-id-9 div.sk-label-container {text-align: center;}#sk-container-id-9 div.sk-container {/* jupyter's `normalize.less` sets `[hidden] { display: none; }` but bootstrap.min.css set `[hidden] { display: none !important; }` so we also need the `!important` here to be able to override the default hidden behavior on the sphinx rendered scikit-learn.org. See: https://github.com/scikit-learn/scikit-learn/issues/21755 */display: inline-block !important;position: relative;}#sk-container-id-9 div.sk-text-repr-fallback {display: none;}</style><div id=\"sk-container-id-9\" class=\"sk-top-container\"><div class=\"sk-text-repr-fallback\"><pre>LinearRegression()</pre><b>In a Jupyter environment, please rerun this cell to show the HTML representation or trust the notebook. <br />On GitHub, the HTML representation is unable to render, please try loading this page with nbviewer.org.</b></div><div class=\"sk-container\" hidden><div class=\"sk-item\"><div class=\"sk-estimator sk-toggleable\"><input class=\"sk-toggleable__control sk-hidden--visually\" id=\"sk-estimator-id-13\" type=\"checkbox\" checked><label for=\"sk-estimator-id-13\" class=\"sk-toggleable__label sk-toggleable__label-arrow\">LinearRegression</label><div class=\"sk-toggleable__content\"><pre>LinearRegression()</pre></div></div></div></div></div>"
            ]
          },
          "metadata": {},
          "execution_count": 160
        }
      ]
    },
    {
      "cell_type": "code",
      "metadata": {
        "id": "iOpnVLhVgqV8",
        "colab": {
          "base_uri": "https://localhost:8080/"
        },
        "outputId": "6c974749-c195-4736-dfc3-42b37246b55d"
      },
      "source": [
        "predicted = lm2.predict(X_train_new)\n",
        "\n",
        "rmse = np.sqrt(np.mean((predicted-y_train)**2))\n",
        "print(\"Root Mean Squared Error: {0:0.4f}\" .format(rmse))"
      ],
      "execution_count": null,
      "outputs": [
        {
          "output_type": "stream",
          "name": "stdout",
          "text": [
            "Root Mean Squared Error: 4.5562\n"
          ]
        }
      ]
    },
    {
      "cell_type": "code",
      "metadata": {
        "id": "_2Gq4UHGVhVI",
        "colab": {
          "base_uri": "https://localhost:8080/"
        },
        "outputId": "b72d75c0-edb1-49f6-a755-1a6e5e760465"
      },
      "source": [
        "# print the R-squared\n",
        "print(\"The R-squared value is: {0:0.4f} \\n\".format(lm2.score(X_train_new, y_train)))"
      ],
      "execution_count": null,
      "outputs": [
        {
          "output_type": "stream",
          "name": "stdout",
          "text": [
            "The R-squared value is: 0.7550 \n",
            "\n"
          ]
        }
      ]
    },
    {
      "cell_type": "code",
      "metadata": {
        "id": "hK6vrjpZWGUY",
        "colab": {
          "base_uri": "https://localhost:8080/"
        },
        "outputId": "5960155b-5380-4f10-9c62-39d45e5ca917"
      },
      "source": [
        "feature_cols_selected = list(np.array(X.columns)[rfecv.support_])\n",
        "# print intercept and coefficients\n",
        "param_df = pd.DataFrame({\"Features\": ['intercept'] + feature_cols_selected ,\n",
        "\"Coef\": [lm2.intercept_] + list(lm2.coef_)})\n",
        "\n",
        "cols = param_df.columns.tolist()\n",
        "cols = cols[-1:]+cols[:-1]\n",
        "param_df = param_df[cols]\n",
        "print(param_df)"
      ],
      "execution_count": null,
      "outputs": [
        {
          "output_type": "stream",
          "name": "stdout",
          "text": [
            "         Coef   Features\n",
            "0   31.708771  intercept\n",
            "1   -0.100872       crim\n",
            "2    0.047898         zn\n",
            "3    0.071585      indus\n",
            "4  -15.085850        nox\n",
            "5    4.341769         rm\n",
            "6   -1.363203        dis\n",
            "7    0.293597        rad\n",
            "8   -0.013331        tax\n",
            "9   -0.924808    ptratio\n",
            "10   0.007518      black\n",
            "11  -0.545825      lstat\n"
          ]
        }
      ]
    },
    {
      "cell_type": "code",
      "metadata": {
        "id": "5kEm7EA5Wtmf"
      },
      "source": [
        "# %% проверить производительность по тестовым данным\n",
        "#%% check performance on test data\n",
        "#X_test_part = X_test[:,rfecv.support_]\n",
        "X_test_part = X_test.loc[:,list(np.array(rfecv.support_))]\n",
        "predicted = lm2.predict(X_test_part)"
      ],
      "execution_count": null,
      "outputs": []
    },
    {
      "cell_type": "code",
      "metadata": {
        "id": "yZ7vgPuTYiZH"
      },
      "source": [
        "mae = np.mean(abs(predicted-y_test))\n",
        "rmse = np.sqrt(np.mean((predicted-y_test)**2))\n",
        "rae = np.mean(abs(predicted-y_test))/np.mean(abs(y_test-np.mean(y_test)))\n",
        "rse = np.mean((predicted-y_test)**2)/np.mean((y_test-np.mean(y_test)))\n",
        "rse = np.mean((predicted-y_test)**2)/np.mean((y_test-np.mean(y_test))**2)"
      ],
      "execution_count": null,
      "outputs": []
    },
    {
      "cell_type": "code",
      "metadata": {
        "id": "nAvxTISfYUxX",
        "colab": {
          "base_uri": "https://localhost:8080/"
        },
        "outputId": "88147e9d-b6f8-4c0b-ee9c-b0e599102d01"
      },
      "source": [
        "# print metrics on test data\n",
        "print(\"The R-squared value is: {0:0.4f} \\n\".format(lm2.score(X_train_new, y_train)))\n",
        "print(\"Mean Absolute Error: {0:0.6f}\".format(mae))\n",
        "print(\"Root Mean Squared Error: {0:0.6f}\".format(rmse))\n",
        "print(\"Relative Absolute Error: {0:0.6f}\".format(rae))\n",
        "print(\"Relative Squared Error: {0:0.6f}\".format(rse))"
      ],
      "execution_count": null,
      "outputs": [
        {
          "output_type": "stream",
          "name": "stdout",
          "text": [
            "The R-squared value is: 0.7550 \n",
            "\n",
            "Mean Absolute Error: 3.702275\n",
            "Root Mean Squared Error: 5.422169\n",
            "Relative Absolute Error: 0.534729\n",
            "Relative Squared Error: 0.355347\n"
          ]
        }
      ]
    },
    {
      "cell_type": "markdown",
      "metadata": {
        "id": "GAVgJocjl_82"
      },
      "source": [
        "#Ridge regression and classification"
      ]
    },
    {
      "cell_type": "code",
      "metadata": {
        "id": "fGMTDdo6l_LG"
      },
      "source": [
        "from sklearn import linear_model\n",
        "Ridge = linear_model.Ridge(alpha=8)"
      ],
      "execution_count": null,
      "outputs": []
    },
    {
      "cell_type": "code",
      "metadata": {
        "colab": {
          "base_uri": "https://localhost:8080/",
          "height": 74
        },
        "id": "1NzJoGHz2aKN",
        "outputId": "0cefb417-cc1b-44ca-de0f-a640bff383e7"
      },
      "source": [
        "Ridge.fit(X_train, y_train)"
      ],
      "execution_count": null,
      "outputs": [
        {
          "output_type": "execute_result",
          "data": {
            "text/plain": [
              "Ridge(alpha=8)"
            ],
            "text/html": [
              "<style>#sk-container-id-10 {color: black;background-color: white;}#sk-container-id-10 pre{padding: 0;}#sk-container-id-10 div.sk-toggleable {background-color: white;}#sk-container-id-10 label.sk-toggleable__label {cursor: pointer;display: block;width: 100%;margin-bottom: 0;padding: 0.3em;box-sizing: border-box;text-align: center;}#sk-container-id-10 label.sk-toggleable__label-arrow:before {content: \"▸\";float: left;margin-right: 0.25em;color: #696969;}#sk-container-id-10 label.sk-toggleable__label-arrow:hover:before {color: black;}#sk-container-id-10 div.sk-estimator:hover label.sk-toggleable__label-arrow:before {color: black;}#sk-container-id-10 div.sk-toggleable__content {max-height: 0;max-width: 0;overflow: hidden;text-align: left;background-color: #f0f8ff;}#sk-container-id-10 div.sk-toggleable__content pre {margin: 0.2em;color: black;border-radius: 0.25em;background-color: #f0f8ff;}#sk-container-id-10 input.sk-toggleable__control:checked~div.sk-toggleable__content {max-height: 200px;max-width: 100%;overflow: auto;}#sk-container-id-10 input.sk-toggleable__control:checked~label.sk-toggleable__label-arrow:before {content: \"▾\";}#sk-container-id-10 div.sk-estimator input.sk-toggleable__control:checked~label.sk-toggleable__label {background-color: #d4ebff;}#sk-container-id-10 div.sk-label input.sk-toggleable__control:checked~label.sk-toggleable__label {background-color: #d4ebff;}#sk-container-id-10 input.sk-hidden--visually {border: 0;clip: rect(1px 1px 1px 1px);clip: rect(1px, 1px, 1px, 1px);height: 1px;margin: -1px;overflow: hidden;padding: 0;position: absolute;width: 1px;}#sk-container-id-10 div.sk-estimator {font-family: monospace;background-color: #f0f8ff;border: 1px dotted black;border-radius: 0.25em;box-sizing: border-box;margin-bottom: 0.5em;}#sk-container-id-10 div.sk-estimator:hover {background-color: #d4ebff;}#sk-container-id-10 div.sk-parallel-item::after {content: \"\";width: 100%;border-bottom: 1px solid gray;flex-grow: 1;}#sk-container-id-10 div.sk-label:hover label.sk-toggleable__label {background-color: #d4ebff;}#sk-container-id-10 div.sk-serial::before {content: \"\";position: absolute;border-left: 1px solid gray;box-sizing: border-box;top: 0;bottom: 0;left: 50%;z-index: 0;}#sk-container-id-10 div.sk-serial {display: flex;flex-direction: column;align-items: center;background-color: white;padding-right: 0.2em;padding-left: 0.2em;position: relative;}#sk-container-id-10 div.sk-item {position: relative;z-index: 1;}#sk-container-id-10 div.sk-parallel {display: flex;align-items: stretch;justify-content: center;background-color: white;position: relative;}#sk-container-id-10 div.sk-item::before, #sk-container-id-10 div.sk-parallel-item::before {content: \"\";position: absolute;border-left: 1px solid gray;box-sizing: border-box;top: 0;bottom: 0;left: 50%;z-index: -1;}#sk-container-id-10 div.sk-parallel-item {display: flex;flex-direction: column;z-index: 1;position: relative;background-color: white;}#sk-container-id-10 div.sk-parallel-item:first-child::after {align-self: flex-end;width: 50%;}#sk-container-id-10 div.sk-parallel-item:last-child::after {align-self: flex-start;width: 50%;}#sk-container-id-10 div.sk-parallel-item:only-child::after {width: 0;}#sk-container-id-10 div.sk-dashed-wrapped {border: 1px dashed gray;margin: 0 0.4em 0.5em 0.4em;box-sizing: border-box;padding-bottom: 0.4em;background-color: white;}#sk-container-id-10 div.sk-label label {font-family: monospace;font-weight: bold;display: inline-block;line-height: 1.2em;}#sk-container-id-10 div.sk-label-container {text-align: center;}#sk-container-id-10 div.sk-container {/* jupyter's `normalize.less` sets `[hidden] { display: none; }` but bootstrap.min.css set `[hidden] { display: none !important; }` so we also need the `!important` here to be able to override the default hidden behavior on the sphinx rendered scikit-learn.org. See: https://github.com/scikit-learn/scikit-learn/issues/21755 */display: inline-block !important;position: relative;}#sk-container-id-10 div.sk-text-repr-fallback {display: none;}</style><div id=\"sk-container-id-10\" class=\"sk-top-container\"><div class=\"sk-text-repr-fallback\"><pre>Ridge(alpha=8)</pre><b>In a Jupyter environment, please rerun this cell to show the HTML representation or trust the notebook. <br />On GitHub, the HTML representation is unable to render, please try loading this page with nbviewer.org.</b></div><div class=\"sk-container\" hidden><div class=\"sk-item\"><div class=\"sk-estimator sk-toggleable\"><input class=\"sk-toggleable__control sk-hidden--visually\" id=\"sk-estimator-id-14\" type=\"checkbox\" checked><label for=\"sk-estimator-id-14\" class=\"sk-toggleable__label sk-toggleable__label-arrow\">Ridge</label><div class=\"sk-toggleable__content\"><pre>Ridge(alpha=8)</pre></div></div></div></div></div>"
            ]
          },
          "metadata": {},
          "execution_count": 170
        }
      ]
    },
    {
      "cell_type": "code",
      "metadata": {
        "colab": {
          "base_uri": "https://localhost:8080/"
        },
        "id": "0eZaoYCP2rbG",
        "outputId": "4444782c-3ee4-40ed-c8d2-321ef5559050"
      },
      "source": [
        "print(\"The R-squared value is: {0:0.4f} \\n\".format(Ridge.score(X_train, y_train)))"
      ],
      "execution_count": null,
      "outputs": [
        {
          "output_type": "stream",
          "name": "stdout",
          "text": [
            "The R-squared value is: 0.7492 \n",
            "\n"
          ]
        }
      ]
    },
    {
      "cell_type": "code",
      "metadata": {
        "colab": {
          "base_uri": "https://localhost:8080/"
        },
        "id": "9PjFkJ9827aH",
        "outputId": "af893352-572a-417f-dd69-620e950dd286"
      },
      "source": [
        "param_df = pd.DataFrame({\"Features\": ['intercept'] + list(X_train.columns),\n",
        "\"Coef\": [Ridge.intercept_] + list(Ridge.coef_)})\n",
        "cols = param_df.columns.tolist()\n",
        "cols = cols[-1:]+cols[:-1]\n",
        "param_df = param_df[cols]\n",
        "print(param_df)"
      ],
      "execution_count": null,
      "outputs": [
        {
          "output_type": "stream",
          "name": "stdout",
          "text": [
            "         Coef   Features\n",
            "0   24.007972  intercept\n",
            "1   -0.093555       crim\n",
            "2    0.049190         zn\n",
            "3    0.011042      indus\n",
            "4    0.751212       chas\n",
            "5   -2.080868        nox\n",
            "6    4.222299         rm\n",
            "7   -0.011845        age\n",
            "8   -1.172661        dis\n",
            "9    0.257043        rad\n",
            "10  -0.014045        tax\n",
            "11  -0.770814    ptratio\n",
            "12   0.007706      black\n",
            "13  -0.573424      lstat\n"
          ]
        }
      ]
    },
    {
      "cell_type": "code",
      "metadata": {
        "id": "B1hvLrF23kkx"
      },
      "source": [
        "predicted_Ridge = Ridge.predict(X_test)"
      ],
      "execution_count": null,
      "outputs": []
    },
    {
      "cell_type": "code",
      "metadata": {
        "id": "9Z22Htd036Cz"
      },
      "source": [
        "mae = np.mean(abs(predicted_Ridge-y_test))\n",
        "rmse = np.sqrt(np.mean((predicted_Ridge-y_test)**2))\n",
        "rae = np.mean(abs(predicted_Ridge-y_test))/np.mean(abs(y_test-np.mean(y_test)))\n",
        "rse = np.mean((predicted_Ridge-y_test)**2)/np.mean((y_test-np.mean(y_test))**2)"
      ],
      "execution_count": null,
      "outputs": []
    },
    {
      "cell_type": "code",
      "metadata": {
        "colab": {
          "base_uri": "https://localhost:8080/"
        },
        "id": "QdnS_gYT3xb-",
        "outputId": "85c0514c-63d9-45f6-df22-8fcb373db469"
      },
      "source": [
        "print(\"The R-squared value is: {0:0.4f}\".format(Ridge.score(X_test, y_test)))\n",
        "print(\"Mean Absolute Error: {0:0.6f}\".format(mae))\n",
        "print(\"Root Mean Squared Error: {0:0.6f}\".format(rmse))\n",
        "print(\"Relative Absolute Error: {0:0.6f}\".format(rae))\n",
        "print(\"Relative Squared Error: {0:0.6f}\".format(rse))"
      ],
      "execution_count": null,
      "outputs": [
        {
          "output_type": "stream",
          "name": "stdout",
          "text": [
            "The R-squared value is: 0.6401\n",
            "Mean Absolute Error: 3.731434\n",
            "Root Mean Squared Error: 5.456830\n",
            "Relative Absolute Error: 0.538941\n",
            "Relative Squared Error: 0.359905\n"
          ]
        }
      ]
    },
    {
      "cell_type": "markdown",
      "metadata": {
        "id": "QWpmyfdlUwQN"
      },
      "source": [
        "##Lasso"
      ]
    },
    {
      "cell_type": "code",
      "metadata": {
        "colab": {
          "base_uri": "https://localhost:8080/"
        },
        "id": "4aVR17n8U5GP",
        "outputId": "7d06ce17-05a3-420b-90db-bb285795adb8"
      },
      "source": [
        "Lasso = linear_model.Lasso(alpha=0.9)\n",
        "Lasso.fit(X_train, y_train)\n",
        "print(\"The R-squared value is: {0:0.4f} \\n\".format(Lasso.score(X_train, y_train)))\n",
        "param_df = pd.DataFrame({\"Features\": ['intercept'] + list(X_train.columns),\n",
        "\"Coef\": [Lasso.intercept_] + list(Lasso.coef_)})\n",
        "cols = param_df.columns.tolist()\n",
        "cols = cols[-1:]+cols[:-1]\n",
        "param_df = param_df[cols]\n",
        "print(param_df)"
      ],
      "execution_count": null,
      "outputs": [
        {
          "output_type": "stream",
          "name": "stdout",
          "text": [
            "The R-squared value is: 0.7142 \n",
            "\n",
            "         Coef   Features\n",
            "0   35.229669  intercept\n",
            "1   -0.056151       crim\n",
            "2    0.046030         zn\n",
            "3   -0.000000      indus\n",
            "4    0.000000       chas\n",
            "5   -0.000000        nox\n",
            "6    1.877814         rm\n",
            "7    0.014619        age\n",
            "8   -0.708839        dis\n",
            "9    0.223048        rad\n",
            "10  -0.014079        tax\n",
            "11  -0.667406    ptratio\n",
            "12   0.005590      black\n",
            "13  -0.727786      lstat\n"
          ]
        }
      ]
    },
    {
      "cell_type": "code",
      "metadata": {
        "colab": {
          "base_uri": "https://localhost:8080/"
        },
        "id": "dha5a9IcWVuL",
        "outputId": "ad450c9e-39f2-4dd1-f817-4f35d5d5eaad"
      },
      "source": [
        "predicted_Lasso = Lasso.predict(X_test)\n",
        "mae = np.mean(abs(predicted_Lasso-y_test))\n",
        "rmse = np.sqrt(np.mean((predicted_Lasso-y_test)**2))\n",
        "rae = np.mean(abs(predicted_Lasso-y_test))/np.mean(abs(y_test-np.mean(y_test)))\n",
        "rse = np.mean((predicted_Lasso-y_test)**2)/np.mean((y_test-np.mean(y_test))**2)\n",
        "print(\"The R-squared value is: {0:0.4f}\".format(Lasso.score(X_test, y_test)))\n",
        "print(\"Mean Absolute Error: {0:0.6f}\".format(mae))\n",
        "print(\"Root Mean Squared Error: {0:0.6f}\".format(rmse))\n",
        "print(\"Relative Absolute Error: {0:0.6f}\".format(rae))\n",
        "print(\"Relative Squared Error: {0:0.6f}\".format(rse))"
      ],
      "execution_count": null,
      "outputs": [
        {
          "output_type": "stream",
          "name": "stdout",
          "text": [
            "The R-squared value is: 0.6315\n",
            "Mean Absolute Error: 3.946239\n",
            "Root Mean Squared Error: 5.521872\n",
            "Relative Absolute Error: 0.569966\n",
            "Relative Squared Error: 0.368536\n"
          ]
        }
      ]
    },
    {
      "cell_type": "markdown",
      "metadata": {
        "id": "_kcX0mEeWnhe"
      },
      "source": [
        "##ElasticNetCV"
      ]
    },
    {
      "cell_type": "code",
      "metadata": {
        "colab": {
          "base_uri": "https://localhost:8080/"
        },
        "id": "8T76mccFXSOP",
        "outputId": "d706d4de-4d57-4a01-cbb1-43f717fb5ad9"
      },
      "source": [
        "from sklearn.linear_model import ElasticNetCV\n",
        "ElasticNetCV = ElasticNetCV(cv=5, l1_ratio = 0.3, random_state=42)\n",
        "ElasticNetCV.fit(X_train, y_train)\n",
        "print(\"The R-squared value is: {0:0.4f} \\n\".format(ElasticNetCV.score(X_train, y_train)))\n",
        "param_df = pd.DataFrame({\"Features\": ['intercept'] + list(X_train.columns),\n",
        "\"Coef\": [ElasticNetCV.intercept_] + list(ElasticNetCV.coef_)})\n",
        "cols = param_df.columns.tolist()\n",
        "cols = cols[-1:]+cols[:-1]\n",
        "param_df = param_df[cols]\n",
        "print(param_df)"
      ],
      "execution_count": null,
      "outputs": [
        {
          "output_type": "stream",
          "name": "stdout",
          "text": [
            "The R-squared value is: 0.6637 \n",
            "\n",
            "         Coef   Features\n",
            "0   41.586958  intercept\n",
            "1   -0.053627       crim\n",
            "2    0.049410         zn\n",
            "3   -0.000000      indus\n",
            "4    0.000000       chas\n",
            "5   -0.000000        nox\n",
            "6    0.389496         rm\n",
            "7    0.033486        age\n",
            "8   -0.421953        dis\n",
            "9    0.236516        rad\n",
            "10  -0.015781        tax\n",
            "11  -0.540040    ptratio\n",
            "12   0.004498      black\n",
            "13  -0.793024      lstat\n"
          ]
        }
      ]
    },
    {
      "cell_type": "code",
      "metadata": {
        "colab": {
          "base_uri": "https://localhost:8080/"
        },
        "id": "mJ0deR1qX--X",
        "outputId": "abaa0bb3-8f9d-405a-f3c8-adc2fd0f8b93"
      },
      "source": [
        "predicted_ElasticNetCV = ElasticNetCV.predict(X_test)\n",
        "mae = np.mean(abs(predicted_ElasticNetCV-y_test))\n",
        "rmse = np.sqrt(np.mean((predicted_Lasso-y_test)**2))\n",
        "rae = np.mean(abs(predicted_ElasticNetCV-y_test))/np.mean(abs(y_test-np.mean(y_test)))\n",
        "rse = np.mean((predicted_ElasticNetCV-y_test)**2)/np.mean((y_test-np.mean(y_test))**2)\n",
        "print(\"The R-squared value is: {0:0.4f}\".format(ElasticNetCV.score(X_test, y_test)))\n",
        "print(\"Mean Absolute Error: {0:0.6f}\".format(mae))\n",
        "print(\"Root Mean Squared Error: {0:0.6f}\".format(rmse))\n",
        "print(\"Relative Absolute Error: {0:0.6f}\".format(rae))\n",
        "print(\"Relative Squared Error: {0:0.6f}\".format(rse))"
      ],
      "execution_count": null,
      "outputs": [
        {
          "output_type": "stream",
          "name": "stdout",
          "text": [
            "The R-squared value is: 0.6111\n",
            "Mean Absolute Error: 4.105369\n",
            "Root Mean Squared Error: 5.521872\n",
            "Relative Absolute Error: 0.592949\n",
            "Relative Squared Error: 0.388946\n"
          ]
        }
      ]
    },
    {
      "cell_type": "markdown",
      "metadata": {
        "id": "Ie9d6so-UvZT"
      },
      "source": [
        "#SGD (стохастический градиентный спуск)"
      ]
    },
    {
      "cell_type": "code",
      "metadata": {
        "id": "ixsRD3QtUL7W"
      },
      "source": [
        "#import numpy as np\n",
        "from sklearn.linear_model import SGDRegressor\n",
        "from sklearn.pipeline import make_pipeline\n",
        "from sklearn.preprocessing import StandardScaler, MinMaxScaler"
      ],
      "execution_count": null,
      "outputs": []
    },
    {
      "cell_type": "code",
      "source": [
        "SGD = SGDRegressor(loss=\"squared_error\", penalty=\"elasticnet\", alpha=0.01,\n",
        "                       l1_ratio=0.4, fit_intercept=True, max_iter=100000, tol=0.01, shuffle=True, verbose=0, random_state=None, learning_rate=\"invscaling\",\n",
        "                       eta0=0.001, power_t=0.25, early_stopping=False, validation_fraction=0.1, n_iter_no_change=5, warm_start=False, average=False)"
      ],
      "metadata": {
        "id": "07xdEjFE9Jdo"
      },
      "execution_count": null,
      "outputs": []
    },
    {
      "cell_type": "code",
      "metadata": {
        "colab": {
          "base_uri": "https://localhost:8080/",
          "height": 125
        },
        "id": "nZJXaFGPUuCN",
        "outputId": "888900ba-6b46-4911-db98-3488688c00e8"
      },
      "source": [
        "# приведение данных к нормальному закону расределения:\n",
        "#стандартизация признаков, вычитая среднее значение и масштабируя до единичной дисперсии z = (x-u)/s\n",
        "\n",
        "SGD_StandardScaler = make_pipeline(StandardScaler(),\n",
        "                    SGDRegressor(max_iter=1000, tol=1e-3))\n",
        "SGD_StandardScaler.fit(X_train, y_train)"
      ],
      "execution_count": null,
      "outputs": [
        {
          "output_type": "execute_result",
          "data": {
            "text/plain": [
              "Pipeline(steps=[('standardscaler', StandardScaler()),\n",
              "                ('sgdregressor', SGDRegressor())])"
            ],
            "text/html": [
              "<style>#sk-container-id-11 {color: black;background-color: white;}#sk-container-id-11 pre{padding: 0;}#sk-container-id-11 div.sk-toggleable {background-color: white;}#sk-container-id-11 label.sk-toggleable__label {cursor: pointer;display: block;width: 100%;margin-bottom: 0;padding: 0.3em;box-sizing: border-box;text-align: center;}#sk-container-id-11 label.sk-toggleable__label-arrow:before {content: \"▸\";float: left;margin-right: 0.25em;color: #696969;}#sk-container-id-11 label.sk-toggleable__label-arrow:hover:before {color: black;}#sk-container-id-11 div.sk-estimator:hover label.sk-toggleable__label-arrow:before {color: black;}#sk-container-id-11 div.sk-toggleable__content {max-height: 0;max-width: 0;overflow: hidden;text-align: left;background-color: #f0f8ff;}#sk-container-id-11 div.sk-toggleable__content pre {margin: 0.2em;color: black;border-radius: 0.25em;background-color: #f0f8ff;}#sk-container-id-11 input.sk-toggleable__control:checked~div.sk-toggleable__content {max-height: 200px;max-width: 100%;overflow: auto;}#sk-container-id-11 input.sk-toggleable__control:checked~label.sk-toggleable__label-arrow:before {content: \"▾\";}#sk-container-id-11 div.sk-estimator input.sk-toggleable__control:checked~label.sk-toggleable__label {background-color: #d4ebff;}#sk-container-id-11 div.sk-label input.sk-toggleable__control:checked~label.sk-toggleable__label {background-color: #d4ebff;}#sk-container-id-11 input.sk-hidden--visually {border: 0;clip: rect(1px 1px 1px 1px);clip: rect(1px, 1px, 1px, 1px);height: 1px;margin: -1px;overflow: hidden;padding: 0;position: absolute;width: 1px;}#sk-container-id-11 div.sk-estimator {font-family: monospace;background-color: #f0f8ff;border: 1px dotted black;border-radius: 0.25em;box-sizing: border-box;margin-bottom: 0.5em;}#sk-container-id-11 div.sk-estimator:hover {background-color: #d4ebff;}#sk-container-id-11 div.sk-parallel-item::after {content: \"\";width: 100%;border-bottom: 1px solid gray;flex-grow: 1;}#sk-container-id-11 div.sk-label:hover label.sk-toggleable__label {background-color: #d4ebff;}#sk-container-id-11 div.sk-serial::before {content: \"\";position: absolute;border-left: 1px solid gray;box-sizing: border-box;top: 0;bottom: 0;left: 50%;z-index: 0;}#sk-container-id-11 div.sk-serial {display: flex;flex-direction: column;align-items: center;background-color: white;padding-right: 0.2em;padding-left: 0.2em;position: relative;}#sk-container-id-11 div.sk-item {position: relative;z-index: 1;}#sk-container-id-11 div.sk-parallel {display: flex;align-items: stretch;justify-content: center;background-color: white;position: relative;}#sk-container-id-11 div.sk-item::before, #sk-container-id-11 div.sk-parallel-item::before {content: \"\";position: absolute;border-left: 1px solid gray;box-sizing: border-box;top: 0;bottom: 0;left: 50%;z-index: -1;}#sk-container-id-11 div.sk-parallel-item {display: flex;flex-direction: column;z-index: 1;position: relative;background-color: white;}#sk-container-id-11 div.sk-parallel-item:first-child::after {align-self: flex-end;width: 50%;}#sk-container-id-11 div.sk-parallel-item:last-child::after {align-self: flex-start;width: 50%;}#sk-container-id-11 div.sk-parallel-item:only-child::after {width: 0;}#sk-container-id-11 div.sk-dashed-wrapped {border: 1px dashed gray;margin: 0 0.4em 0.5em 0.4em;box-sizing: border-box;padding-bottom: 0.4em;background-color: white;}#sk-container-id-11 div.sk-label label {font-family: monospace;font-weight: bold;display: inline-block;line-height: 1.2em;}#sk-container-id-11 div.sk-label-container {text-align: center;}#sk-container-id-11 div.sk-container {/* jupyter's `normalize.less` sets `[hidden] { display: none; }` but bootstrap.min.css set `[hidden] { display: none !important; }` so we also need the `!important` here to be able to override the default hidden behavior on the sphinx rendered scikit-learn.org. See: https://github.com/scikit-learn/scikit-learn/issues/21755 */display: inline-block !important;position: relative;}#sk-container-id-11 div.sk-text-repr-fallback {display: none;}</style><div id=\"sk-container-id-11\" class=\"sk-top-container\"><div class=\"sk-text-repr-fallback\"><pre>Pipeline(steps=[(&#x27;standardscaler&#x27;, StandardScaler()),\n",
              "                (&#x27;sgdregressor&#x27;, SGDRegressor())])</pre><b>In a Jupyter environment, please rerun this cell to show the HTML representation or trust the notebook. <br />On GitHub, the HTML representation is unable to render, please try loading this page with nbviewer.org.</b></div><div class=\"sk-container\" hidden><div class=\"sk-item sk-dashed-wrapped\"><div class=\"sk-label-container\"><div class=\"sk-label sk-toggleable\"><input class=\"sk-toggleable__control sk-hidden--visually\" id=\"sk-estimator-id-15\" type=\"checkbox\" ><label for=\"sk-estimator-id-15\" class=\"sk-toggleable__label sk-toggleable__label-arrow\">Pipeline</label><div class=\"sk-toggleable__content\"><pre>Pipeline(steps=[(&#x27;standardscaler&#x27;, StandardScaler()),\n",
              "                (&#x27;sgdregressor&#x27;, SGDRegressor())])</pre></div></div></div><div class=\"sk-serial\"><div class=\"sk-item\"><div class=\"sk-estimator sk-toggleable\"><input class=\"sk-toggleable__control sk-hidden--visually\" id=\"sk-estimator-id-16\" type=\"checkbox\" ><label for=\"sk-estimator-id-16\" class=\"sk-toggleable__label sk-toggleable__label-arrow\">StandardScaler</label><div class=\"sk-toggleable__content\"><pre>StandardScaler()</pre></div></div></div><div class=\"sk-item\"><div class=\"sk-estimator sk-toggleable\"><input class=\"sk-toggleable__control sk-hidden--visually\" id=\"sk-estimator-id-17\" type=\"checkbox\" ><label for=\"sk-estimator-id-17\" class=\"sk-toggleable__label sk-toggleable__label-arrow\">SGDRegressor</label><div class=\"sk-toggleable__content\"><pre>SGDRegressor()</pre></div></div></div></div></div></div></div>"
            ]
          },
          "metadata": {},
          "execution_count": 184
        }
      ]
    },
    {
      "cell_type": "code",
      "source": [
        "param_df = pd.DataFrame({\"Features\": ['intercept'] + list(X_train.columns),\n",
        "\"Coef\": [SGD_StandardScaler[1].intercept_[0]] + list(SGD_StandardScaler[1].coef_)})\n",
        "cols = param_df.columns.tolist()\n",
        "cols = cols[-1:]+cols[:-1] # переместить последний элемент на первую позицию (поменять местами столбцы)\n",
        "param_df = param_df[cols]\n",
        "print(param_df)"
      ],
      "metadata": {
        "colab": {
          "base_uri": "https://localhost:8080/"
        },
        "id": "fwmlJFZsuWnt",
        "outputId": "5166c0c3-e0c0-4db9-cf24-2c7c27d62c8a"
      },
      "execution_count": null,
      "outputs": [
        {
          "output_type": "stream",
          "name": "stdout",
          "text": [
            "         Coef   Features\n",
            "0   22.386946  intercept\n",
            "1   -0.774324       crim\n",
            "2    0.952765         zn\n",
            "3    0.191728      indus\n",
            "4    0.326369       chas\n",
            "5   -1.583775        nox\n",
            "6    3.103962         rm\n",
            "7   -0.067619        age\n",
            "8   -2.875837        dis\n",
            "9    1.734229        rad\n",
            "10  -1.302229        tax\n",
            "11  -1.892213    ptratio\n",
            "12   0.630791      black\n",
            "13  -3.812299      lstat\n"
          ]
        }
      ]
    },
    {
      "cell_type": "code",
      "metadata": {
        "colab": {
          "base_uri": "https://localhost:8080/"
        },
        "id": "uX0U0kbCUtxz",
        "outputId": "fa017811-78b5-44c3-ea6f-6ce0665dc53f"
      },
      "source": [
        "print(\"The R-squared value is: {0:0.4f} \\n\".format(SGD_StandardScaler.score(X_train, y_train)))"
      ],
      "execution_count": null,
      "outputs": [
        {
          "output_type": "stream",
          "name": "stdout",
          "text": [
            "The R-squared value is: 0.7541 \n",
            "\n"
          ]
        }
      ]
    },
    {
      "cell_type": "code",
      "metadata": {
        "colab": {
          "base_uri": "https://localhost:8080/"
        },
        "id": "4mjF6lZBeuqY",
        "outputId": "d529ce6a-f385-4fdf-e114-80e61f817c9e"
      },
      "source": [
        "predicted_SGD_StandardScaler = SGD_StandardScaler.predict(X_test)\n",
        "mae = np.mean(abs(predicted_SGD_StandardScaler-y_test))\n",
        "rmse = np.sqrt(np.mean((predicted_SGD_StandardScaler-y_test)**2))\n",
        "rae = np.mean(abs(predicted_SGD_StandardScaler-y_test))/np.mean(abs(y_test-np.mean(y_test)))\n",
        "rse = np.mean((predicted_SGD_StandardScaler-y_test)**2)/np.mean((y_test-np.mean(y_test))**2)\n",
        "print(\"The R-squared value is: {0:0.4f}\".format(SGD_StandardScaler.score(X_test, y_test)))\n",
        "print(\"Mean Absolute Error: {0:0.6f}\".format(mae))\n",
        "print(\"Root Mean Squared Error: {0:0.6f}\".format(rmse))\n",
        "print(\"Relative Absolute Error: {0:0.6f}\".format(rae))\n",
        "print(\"Relative Squared Error: {0:0.6f}\".format(rse))"
      ],
      "execution_count": null,
      "outputs": [
        {
          "output_type": "stream",
          "name": "stdout",
          "text": [
            "The R-squared value is: 0.6568\n",
            "Mean Absolute Error: 3.664791\n",
            "Root Mean Squared Error: 5.328410\n",
            "Relative Absolute Error: 0.529315\n",
            "Relative Squared Error: 0.343164\n"
          ]
        }
      ]
    },
    {
      "cell_type": "markdown",
      "source": [
        "**MinMaxScaler**"
      ],
      "metadata": {
        "id": "kkCz0Api-XG8"
      }
    },
    {
      "cell_type": "code",
      "source": [
        "# используем промасштабируемые данные MinMaxScaler: scaled_minmadf\n",
        "#X_std = (X - X.min(axis=0)) / (X.max(axis=0) - X.min(axis=0))\n",
        "#X_scaled = X_std * (max - min) + min\n",
        "# - Это преобразование часто используется как альтернатива масштабированию с нулевым средним значением (мат. ожиданием) и единичной дисперсией (стандратным отклонением).\n",
        "\n",
        "#SGD_minmadf = SGD.fit(scaled_minmadf, y_train)"
      ],
      "metadata": {
        "id": "hUwLxbQ9-BPw"
      },
      "execution_count": null,
      "outputs": []
    },
    {
      "cell_type": "markdown",
      "source": [
        "вектор весовых коэффициентов модели"
      ],
      "metadata": {
        "id": "SD5r_5YV_zRs"
      }
    },
    {
      "cell_type": "code",
      "source": [
        "#SGD_minmadf.coef_"
      ],
      "metadata": {
        "id": "MUJ2tCxv8zV2"
      },
      "execution_count": null,
      "outputs": []
    },
    {
      "cell_type": "markdown",
      "source": [
        "свободный коэффициент; то, чему равна\n",
        "зависимая переменная, если предиктор равен нулю"
      ],
      "metadata": {
        "id": "CHfksamIAG7t"
      }
    },
    {
      "cell_type": "code",
      "source": [
        "#SGD_minmadf.intercept_"
      ],
      "metadata": {
        "id": "BInuH6rk-5SM"
      },
      "execution_count": null,
      "outputs": []
    },
    {
      "cell_type": "code",
      "source": [
        "#print(\"intercept=\", SGD_minmadf.intercept_)\n",
        "#print(\"coef=\", SGD_minmadf.coef_)"
      ],
      "metadata": {
        "id": "8HAa6w1Vw7b7"
      },
      "execution_count": null,
      "outputs": []
    },
    {
      "cell_type": "code",
      "source": [
        "from sklearn.preprocessing import MinMaxScaler"
      ],
      "metadata": {
        "id": "Ygzqepfr33kv"
      },
      "execution_count": null,
      "outputs": []
    },
    {
      "cell_type": "code",
      "source": [
        "SGD_MinMaxScaler = make_pipeline(MinMaxScaler(),\n",
        "                    SGDRegressor(max_iter=100000, tol=1e-4))\n",
        "SGD_MinMaxScaler.fit(X_train, y_train)"
      ],
      "metadata": {
        "colab": {
          "base_uri": "https://localhost:8080/",
          "height": 125
        },
        "id": "3LkQ3z6U3l5K",
        "outputId": "1686a885-c8df-4a67-9a20-ffaf8b328ca5"
      },
      "execution_count": null,
      "outputs": [
        {
          "output_type": "execute_result",
          "data": {
            "text/plain": [
              "Pipeline(steps=[('minmaxscaler', MinMaxScaler()),\n",
              "                ('sgdregressor', SGDRegressor(max_iter=100000, tol=0.0001))])"
            ],
            "text/html": [
              "<style>#sk-container-id-12 {color: black;background-color: white;}#sk-container-id-12 pre{padding: 0;}#sk-container-id-12 div.sk-toggleable {background-color: white;}#sk-container-id-12 label.sk-toggleable__label {cursor: pointer;display: block;width: 100%;margin-bottom: 0;padding: 0.3em;box-sizing: border-box;text-align: center;}#sk-container-id-12 label.sk-toggleable__label-arrow:before {content: \"▸\";float: left;margin-right: 0.25em;color: #696969;}#sk-container-id-12 label.sk-toggleable__label-arrow:hover:before {color: black;}#sk-container-id-12 div.sk-estimator:hover label.sk-toggleable__label-arrow:before {color: black;}#sk-container-id-12 div.sk-toggleable__content {max-height: 0;max-width: 0;overflow: hidden;text-align: left;background-color: #f0f8ff;}#sk-container-id-12 div.sk-toggleable__content pre {margin: 0.2em;color: black;border-radius: 0.25em;background-color: #f0f8ff;}#sk-container-id-12 input.sk-toggleable__control:checked~div.sk-toggleable__content {max-height: 200px;max-width: 100%;overflow: auto;}#sk-container-id-12 input.sk-toggleable__control:checked~label.sk-toggleable__label-arrow:before {content: \"▾\";}#sk-container-id-12 div.sk-estimator input.sk-toggleable__control:checked~label.sk-toggleable__label {background-color: #d4ebff;}#sk-container-id-12 div.sk-label input.sk-toggleable__control:checked~label.sk-toggleable__label {background-color: #d4ebff;}#sk-container-id-12 input.sk-hidden--visually {border: 0;clip: rect(1px 1px 1px 1px);clip: rect(1px, 1px, 1px, 1px);height: 1px;margin: -1px;overflow: hidden;padding: 0;position: absolute;width: 1px;}#sk-container-id-12 div.sk-estimator {font-family: monospace;background-color: #f0f8ff;border: 1px dotted black;border-radius: 0.25em;box-sizing: border-box;margin-bottom: 0.5em;}#sk-container-id-12 div.sk-estimator:hover {background-color: #d4ebff;}#sk-container-id-12 div.sk-parallel-item::after {content: \"\";width: 100%;border-bottom: 1px solid gray;flex-grow: 1;}#sk-container-id-12 div.sk-label:hover label.sk-toggleable__label {background-color: #d4ebff;}#sk-container-id-12 div.sk-serial::before {content: \"\";position: absolute;border-left: 1px solid gray;box-sizing: border-box;top: 0;bottom: 0;left: 50%;z-index: 0;}#sk-container-id-12 div.sk-serial {display: flex;flex-direction: column;align-items: center;background-color: white;padding-right: 0.2em;padding-left: 0.2em;position: relative;}#sk-container-id-12 div.sk-item {position: relative;z-index: 1;}#sk-container-id-12 div.sk-parallel {display: flex;align-items: stretch;justify-content: center;background-color: white;position: relative;}#sk-container-id-12 div.sk-item::before, #sk-container-id-12 div.sk-parallel-item::before {content: \"\";position: absolute;border-left: 1px solid gray;box-sizing: border-box;top: 0;bottom: 0;left: 50%;z-index: -1;}#sk-container-id-12 div.sk-parallel-item {display: flex;flex-direction: column;z-index: 1;position: relative;background-color: white;}#sk-container-id-12 div.sk-parallel-item:first-child::after {align-self: flex-end;width: 50%;}#sk-container-id-12 div.sk-parallel-item:last-child::after {align-self: flex-start;width: 50%;}#sk-container-id-12 div.sk-parallel-item:only-child::after {width: 0;}#sk-container-id-12 div.sk-dashed-wrapped {border: 1px dashed gray;margin: 0 0.4em 0.5em 0.4em;box-sizing: border-box;padding-bottom: 0.4em;background-color: white;}#sk-container-id-12 div.sk-label label {font-family: monospace;font-weight: bold;display: inline-block;line-height: 1.2em;}#sk-container-id-12 div.sk-label-container {text-align: center;}#sk-container-id-12 div.sk-container {/* jupyter's `normalize.less` sets `[hidden] { display: none; }` but bootstrap.min.css set `[hidden] { display: none !important; }` so we also need the `!important` here to be able to override the default hidden behavior on the sphinx rendered scikit-learn.org. See: https://github.com/scikit-learn/scikit-learn/issues/21755 */display: inline-block !important;position: relative;}#sk-container-id-12 div.sk-text-repr-fallback {display: none;}</style><div id=\"sk-container-id-12\" class=\"sk-top-container\"><div class=\"sk-text-repr-fallback\"><pre>Pipeline(steps=[(&#x27;minmaxscaler&#x27;, MinMaxScaler()),\n",
              "                (&#x27;sgdregressor&#x27;, SGDRegressor(max_iter=100000, tol=0.0001))])</pre><b>In a Jupyter environment, please rerun this cell to show the HTML representation or trust the notebook. <br />On GitHub, the HTML representation is unable to render, please try loading this page with nbviewer.org.</b></div><div class=\"sk-container\" hidden><div class=\"sk-item sk-dashed-wrapped\"><div class=\"sk-label-container\"><div class=\"sk-label sk-toggleable\"><input class=\"sk-toggleable__control sk-hidden--visually\" id=\"sk-estimator-id-18\" type=\"checkbox\" ><label for=\"sk-estimator-id-18\" class=\"sk-toggleable__label sk-toggleable__label-arrow\">Pipeline</label><div class=\"sk-toggleable__content\"><pre>Pipeline(steps=[(&#x27;minmaxscaler&#x27;, MinMaxScaler()),\n",
              "                (&#x27;sgdregressor&#x27;, SGDRegressor(max_iter=100000, tol=0.0001))])</pre></div></div></div><div class=\"sk-serial\"><div class=\"sk-item\"><div class=\"sk-estimator sk-toggleable\"><input class=\"sk-toggleable__control sk-hidden--visually\" id=\"sk-estimator-id-19\" type=\"checkbox\" ><label for=\"sk-estimator-id-19\" class=\"sk-toggleable__label sk-toggleable__label-arrow\">MinMaxScaler</label><div class=\"sk-toggleable__content\"><pre>MinMaxScaler()</pre></div></div></div><div class=\"sk-item\"><div class=\"sk-estimator sk-toggleable\"><input class=\"sk-toggleable__control sk-hidden--visually\" id=\"sk-estimator-id-20\" type=\"checkbox\" ><label for=\"sk-estimator-id-20\" class=\"sk-toggleable__label sk-toggleable__label-arrow\">SGDRegressor</label><div class=\"sk-toggleable__content\"><pre>SGDRegressor(max_iter=100000, tol=0.0001)</pre></div></div></div></div></div></div></div>"
            ]
          },
          "metadata": {},
          "execution_count": 193
        }
      ]
    },
    {
      "cell_type": "code",
      "source": [
        "param_df = pd.DataFrame({\"Features\": ['intercept'] + list(X_train.columns),\n",
        "\"Coef\": [SGD_MinMaxScaler[1].intercept_[0]] + list(SGD_MinMaxScaler[1].coef_)})\n",
        "cols = param_df.columns.tolist()\n",
        "cols = cols[-1:]+cols[:-1] # переместить последний элемент на первую позицию (поменять местами столбцы)\n",
        "param_df = param_df[cols]\n",
        "print(param_df)"
      ],
      "metadata": {
        "colab": {
          "base_uri": "https://localhost:8080/"
        },
        "id": "2wkZHyV-4iXV",
        "outputId": "8907a057-764b-45fa-9a9f-70504df33b5d"
      },
      "execution_count": null,
      "outputs": [
        {
          "output_type": "stream",
          "name": "stdout",
          "text": [
            "         Coef   Features\n",
            "0   16.692210  intercept\n",
            "1   -4.281681       crim\n",
            "2    3.046687         zn\n",
            "3    0.421496      indus\n",
            "4    1.467352       chas\n",
            "5   -2.530053        nox\n",
            "6   25.292488         rm\n",
            "7    0.965020        age\n",
            "8   -6.672349        dis\n",
            "9    4.026698        rad\n",
            "10  -4.303441        tax\n",
            "11  -7.579362    ptratio\n",
            "12   4.816937      black\n",
            "13 -17.485850      lstat\n"
          ]
        }
      ]
    },
    {
      "cell_type": "code",
      "source": [
        "predicted_SGD_MinMaxScaler = SGD_MinMaxScaler.predict(X_test)\n",
        "mae = np.mean(abs(predicted_SGD_MinMaxScaler-y_test))\n",
        "rmse = np.sqrt(np.mean((predicted_SGD_MinMaxScaler-y_test)**2))\n",
        "rae = np.mean(abs(predicted_SGD_MinMaxScaler-y_test))/np.mean(abs(y_test-np.mean(y_test)))\n",
        "rse = np.mean((predicted_SGD_MinMaxScaler-y_test)**2)/np.mean((y_test-np.mean(y_test))**2)\n",
        "print(\"The R-squared value is: {0:0.4f}\".format(SGD_MinMaxScaler.score(X_test, y_test)))\n",
        "print(\"Mean Absolute Error: {0:0.6f}\".format(mae))\n",
        "print(\"Root Mean Squared Error: {0:0.6f}\".format(rmse))\n",
        "print(\"Relative Absolute Error: {0:0.6f}\".format(rae))\n",
        "print(\"Relative Squared Error: {0:0.6f}\".format(rse))"
      ],
      "metadata": {
        "colab": {
          "base_uri": "https://localhost:8080/"
        },
        "id": "9shiJA6x46g9",
        "outputId": "b644d4ba-5259-409d-974e-227c76c7278e"
      },
      "execution_count": null,
      "outputs": [
        {
          "output_type": "stream",
          "name": "stdout",
          "text": [
            "The R-squared value is: 0.6429\n",
            "Mean Absolute Error: 3.633385\n",
            "Root Mean Squared Error: 5.435584\n",
            "Relative Absolute Error: 0.524779\n",
            "Relative Squared Error: 0.357108\n"
          ]
        }
      ]
    },
    {
      "cell_type": "markdown",
      "metadata": {
        "id": "4N8gwIDAIGkh"
      },
      "source": [
        "#Дерево решений"
      ]
    },
    {
      "cell_type": "code",
      "metadata": {
        "id": "EXT8OQLhIFIF"
      },
      "source": [
        "!pip install -q dtreeviz\n",
        "import dtreeviz\n",
        "from dtreeviz.trees import *\n",
        "from IPython.display import Image, display_svg, SVG"
      ],
      "execution_count": null,
      "outputs": []
    },
    {
      "cell_type": "code",
      "source": [
        "len(boston)"
      ],
      "metadata": {
        "colab": {
          "base_uri": "https://localhost:8080/"
        },
        "id": "K66JWBb4yuz2",
        "outputId": "2c9f5750-5c7b-4326-cef1-d9f4dfe97cf2"
      },
      "execution_count": null,
      "outputs": [
        {
          "output_type": "execute_result",
          "data": {
            "text/plain": [
              "506"
            ]
          },
          "metadata": {},
          "execution_count": 201
        }
      ]
    },
    {
      "cell_type": "code",
      "source": [
        "np.random.randint(0, len(boston))"
      ],
      "metadata": {
        "colab": {
          "base_uri": "https://localhost:8080/"
        },
        "id": "wkI-DIRoy7rv",
        "outputId": "be48793f-17e0-4fe0-8661-8bc59a4b15c8"
      },
      "execution_count": null,
      "outputs": [
        {
          "output_type": "execute_result",
          "data": {
            "text/plain": [
              "166"
            ]
          },
          "metadata": {},
          "execution_count": 202
        }
      ]
    },
    {
      "cell_type": "code",
      "source": [
        "X.values[np.random.randint(0, len(boston)),:]"
      ],
      "metadata": {
        "colab": {
          "base_uri": "https://localhost:8080/"
        },
        "id": "SE7aBBkpy_9P",
        "outputId": "dc152dd1-9e6a-4f5a-a2f0-ca6106052a32"
      },
      "execution_count": null,
      "outputs": [
        {
          "output_type": "execute_result",
          "data": {
            "text/plain": [
              "array([2.6363e-01, 0.0000e+00, 8.5600e+00, 0.0000e+00, 5.2000e-01,\n",
              "       6.2290e+00, 9.1200e+01, 2.5451e+00, 5.0000e+00, 3.8400e+02,\n",
              "       2.0900e+01, 3.9123e+02, 1.5550e+01])"
            ]
          },
          "metadata": {},
          "execution_count": 205
        }
      ]
    },
    {
      "cell_type": "code",
      "metadata": {
        "colab": {
          "base_uri": "https://localhost:8080/"
        },
        "id": "v9E6L95KIUDB",
        "outputId": "5775d300-9d36-49ab-edb6-057c36cd9208"
      },
      "source": [
        "from sklearn.tree import DecisionTreeRegressor\n",
        "regr = DecisionTreeRegressor(max_depth=4, min_samples_split=30, min_samples_leaf=30)\n",
        "regr.fit(X_train, y_train)\n",
        "\n",
        "\n",
        "#X = boston_dataset.data[np.random.randint(0, len(boston_dataset.data)),:]\n",
        "X.values[np.random.randint(0, len(boston)),:]\n",
        "\n"
      ],
      "execution_count": null,
      "outputs": [
        {
          "output_type": "execute_result",
          "data": {
            "text/plain": [
              "array([  5.44114,   0.     ,  18.1    ,   0.     ,   0.713  ,   6.655  ,\n",
              "        98.2    ,   2.3552 ,  24.     , 666.     ,  20.2    , 355.29   ,\n",
              "        17.73   ])"
            ]
          },
          "metadata": {},
          "execution_count": 214
        }
      ]
    },
    {
      "cell_type": "code",
      "source": [
        "viz = dtreeviz.model(regr, X_train=X_train, y_train=y_train,\n",
        "               #X_train,\n",
        "               #y_train,\n",
        "               target_name='medv',  # this name will be displayed at the leaf node\n",
        "               feature_names=X_train.columns,\n",
        "               #X=X,\n",
        "               #show_node_labels = True\n",
        "              )"
      ],
      "metadata": {
        "id": "vZ3Jmv6Sz2i_"
      },
      "execution_count": null,
      "outputs": []
    },
    {
      "cell_type": "code",
      "source": [
        "v = viz.view()     # render as SVG into internal object\n",
        "v.show()                 # pop up window"
      ],
      "metadata": {
        "colab": {
          "base_uri": "https://localhost:8080/"
        },
        "id": "SinNhssy1HC7",
        "outputId": "6c61b2e6-c4e2-4812-fa75-3a7efb859a8a"
      },
      "execution_count": null,
      "outputs": [
        {
          "output_type": "stream",
          "name": "stderr",
          "text": [
            "WARNING:matplotlib.font_manager:findfont: Font family 'Arial' not found.\n",
            "WARNING:matplotlib.font_manager:findfont: Font family 'Arial' not found.\n",
            "WARNING:matplotlib.font_manager:findfont: Font family 'Arial' not found.\n",
            "WARNING:matplotlib.font_manager:findfont: Font family 'Arial' not found.\n",
            "WARNING:matplotlib.font_manager:findfont: Font family 'Arial' not found.\n",
            "WARNING:matplotlib.font_manager:findfont: Font family 'Arial' not found.\n",
            "WARNING:matplotlib.font_manager:findfont: Font family 'Arial' not found.\n",
            "WARNING:matplotlib.font_manager:findfont: Font family 'Arial' not found.\n",
            "WARNING:matplotlib.font_manager:findfont: Font family 'Arial' not found.\n",
            "WARNING:matplotlib.font_manager:findfont: Font family 'Arial' not found.\n",
            "WARNING:matplotlib.font_manager:findfont: Font family 'Arial' not found.\n",
            "WARNING:matplotlib.font_manager:findfont: Font family 'Arial' not found.\n",
            "WARNING:matplotlib.font_manager:findfont: Font family 'Arial' not found.\n",
            "WARNING:matplotlib.font_manager:findfont: Font family 'Arial' not found.\n",
            "WARNING:matplotlib.font_manager:findfont: Font family 'Arial' not found.\n",
            "WARNING:matplotlib.font_manager:findfont: Font family 'Arial' not found.\n",
            "WARNING:matplotlib.font_manager:findfont: Font family 'Arial' not found.\n",
            "WARNING:matplotlib.font_manager:findfont: Font family 'Arial' not found.\n",
            "WARNING:matplotlib.font_manager:findfont: Font family 'Arial' not found.\n",
            "WARNING:matplotlib.font_manager:findfont: Font family 'Arial' not found.\n",
            "WARNING:matplotlib.font_manager:findfont: Font family 'Arial' not found.\n",
            "WARNING:matplotlib.font_manager:findfont: Font family 'Arial' not found.\n",
            "WARNING:matplotlib.font_manager:findfont: Font family 'Arial' not found.\n",
            "WARNING:matplotlib.font_manager:findfont: Font family 'Arial' not found.\n",
            "WARNING:matplotlib.font_manager:findfont: Font family 'Arial' not found.\n",
            "WARNING:matplotlib.font_manager:findfont: Font family 'Arial' not found.\n",
            "WARNING:matplotlib.font_manager:findfont: Font family 'Arial' not found.\n",
            "WARNING:matplotlib.font_manager:findfont: Font family 'Arial' not found.\n",
            "WARNING:matplotlib.font_manager:findfont: Font family 'Arial' not found.\n",
            "WARNING:matplotlib.font_manager:findfont: Font family 'Arial' not found.\n",
            "WARNING:matplotlib.font_manager:findfont: Font family 'Arial' not found.\n",
            "WARNING:matplotlib.font_manager:findfont: Font family 'Arial' not found.\n",
            "WARNING:matplotlib.font_manager:findfont: Font family 'Arial' not found.\n",
            "WARNING:matplotlib.font_manager:findfont: Font family 'Arial' not found.\n",
            "WARNING:matplotlib.font_manager:findfont: Font family 'Arial' not found.\n",
            "WARNING:matplotlib.font_manager:findfont: Font family 'Arial' not found.\n",
            "WARNING:matplotlib.font_manager:findfont: Font family 'Arial' not found.\n",
            "WARNING:matplotlib.font_manager:findfont: Font family 'Arial' not found.\n",
            "WARNING:matplotlib.font_manager:findfont: Font family 'Arial' not found.\n",
            "WARNING:matplotlib.font_manager:findfont: Font family 'Arial' not found.\n",
            "WARNING:matplotlib.font_manager:findfont: Font family 'Arial' not found.\n",
            "WARNING:matplotlib.font_manager:findfont: Font family 'Arial' not found.\n",
            "WARNING:matplotlib.font_manager:findfont: Font family 'Arial' not found.\n",
            "WARNING:matplotlib.font_manager:findfont: Font family 'Arial' not found.\n",
            "WARNING:matplotlib.font_manager:findfont: Font family 'Arial' not found.\n",
            "WARNING:matplotlib.font_manager:findfont: Font family 'Arial' not found.\n",
            "WARNING:matplotlib.font_manager:findfont: Font family 'Arial' not found.\n",
            "WARNING:matplotlib.font_manager:findfont: Font family 'Arial' not found.\n",
            "WARNING:matplotlib.font_manager:findfont: Font family 'Arial' not found.\n",
            "WARNING:matplotlib.font_manager:findfont: Font family 'Arial' not found.\n",
            "WARNING:matplotlib.font_manager:findfont: Font family 'Arial' not found.\n",
            "WARNING:matplotlib.font_manager:findfont: Font family 'Arial' not found.\n",
            "WARNING:matplotlib.font_manager:findfont: Font family 'Arial' not found.\n",
            "WARNING:matplotlib.font_manager:findfont: Font family 'Arial' not found.\n",
            "WARNING:matplotlib.font_manager:findfont: Font family 'Arial' not found.\n",
            "WARNING:matplotlib.font_manager:findfont: Font family 'Arial' not found.\n",
            "WARNING:matplotlib.font_manager:findfont: Font family 'Arial' not found.\n",
            "WARNING:matplotlib.font_manager:findfont: Font family 'Arial' not found.\n",
            "WARNING:matplotlib.font_manager:findfont: Font family 'Arial' not found.\n",
            "WARNING:matplotlib.font_manager:findfont: Font family 'Arial' not found.\n",
            "WARNING:matplotlib.font_manager:findfont: Font family 'Arial' not found.\n",
            "WARNING:matplotlib.font_manager:findfont: Font family 'Arial' not found.\n",
            "WARNING:matplotlib.font_manager:findfont: Font family 'Arial' not found.\n",
            "WARNING:matplotlib.font_manager:findfont: Font family 'Arial' not found.\n",
            "WARNING:matplotlib.font_manager:findfont: Font family 'Arial' not found.\n",
            "WARNING:matplotlib.font_manager:findfont: Font family 'Arial' not found.\n",
            "WARNING:matplotlib.font_manager:findfont: Font family 'Arial' not found.\n",
            "WARNING:matplotlib.font_manager:findfont: Font family 'Arial' not found.\n",
            "WARNING:matplotlib.font_manager:findfont: Font family 'Arial' not found.\n",
            "WARNING:matplotlib.font_manager:findfont: Font family 'Arial' not found.\n",
            "WARNING:matplotlib.font_manager:findfont: Font family 'Arial' not found.\n",
            "WARNING:matplotlib.font_manager:findfont: Font family 'Arial' not found.\n",
            "WARNING:matplotlib.font_manager:findfont: Font family 'Arial' not found.\n",
            "WARNING:matplotlib.font_manager:findfont: Font family 'Arial' not found.\n",
            "WARNING:matplotlib.font_manager:findfont: Font family 'Arial' not found.\n",
            "WARNING:matplotlib.font_manager:findfont: Font family 'Arial' not found.\n",
            "WARNING:matplotlib.font_manager:findfont: Font family 'Arial' not found.\n",
            "WARNING:matplotlib.font_manager:findfont: Font family 'Arial' not found.\n",
            "WARNING:matplotlib.font_manager:findfont: Font family 'Arial' not found.\n",
            "WARNING:matplotlib.font_manager:findfont: Font family 'Arial' not found.\n",
            "WARNING:matplotlib.font_manager:findfont: Font family 'Arial' not found.\n",
            "WARNING:matplotlib.font_manager:findfont: Font family 'Arial' not found.\n",
            "WARNING:matplotlib.font_manager:findfont: Font family 'Arial' not found.\n",
            "WARNING:matplotlib.font_manager:findfont: Font family 'Arial' not found.\n",
            "WARNING:matplotlib.font_manager:findfont: Font family 'Arial' not found.\n",
            "WARNING:matplotlib.font_manager:findfont: Font family 'Arial' not found.\n",
            "WARNING:matplotlib.font_manager:findfont: Font family 'Arial' not found.\n",
            "WARNING:matplotlib.font_manager:findfont: Font family 'Arial' not found.\n",
            "WARNING:matplotlib.font_manager:findfont: Font family 'Arial' not found.\n",
            "WARNING:matplotlib.font_manager:findfont: Font family 'Arial' not found.\n",
            "WARNING:matplotlib.font_manager:findfont: Font family 'Arial' not found.\n",
            "WARNING:matplotlib.font_manager:findfont: Font family 'Arial' not found.\n",
            "WARNING:matplotlib.font_manager:findfont: Font family 'Arial' not found.\n",
            "WARNING:matplotlib.font_manager:findfont: Font family 'Arial' not found.\n",
            "WARNING:matplotlib.font_manager:findfont: Font family 'Arial' not found.\n",
            "WARNING:matplotlib.font_manager:findfont: Font family 'Arial' not found.\n",
            "WARNING:matplotlib.font_manager:findfont: Font family 'Arial' not found.\n",
            "WARNING:matplotlib.font_manager:findfont: Font family 'Arial' not found.\n",
            "WARNING:matplotlib.font_manager:findfont: Font family 'Arial' not found.\n",
            "WARNING:matplotlib.font_manager:findfont: Font family 'Arial' not found.\n",
            "WARNING:matplotlib.font_manager:findfont: Font family 'Arial' not found.\n",
            "WARNING:matplotlib.font_manager:findfont: Font family 'Arial' not found.\n",
            "WARNING:matplotlib.font_manager:findfont: Font family 'Arial' not found.\n",
            "WARNING:matplotlib.font_manager:findfont: Font family 'Arial' not found.\n",
            "WARNING:matplotlib.font_manager:findfont: Font family 'Arial' not found.\n",
            "WARNING:matplotlib.font_manager:findfont: Font family 'Arial' not found.\n",
            "WARNING:matplotlib.font_manager:findfont: Font family 'Arial' not found.\n",
            "WARNING:matplotlib.font_manager:findfont: Font family 'Arial' not found.\n",
            "WARNING:matplotlib.font_manager:findfont: Font family 'Arial' not found.\n",
            "WARNING:matplotlib.font_manager:findfont: Font family 'Arial' not found.\n",
            "WARNING:matplotlib.font_manager:findfont: Font family 'Arial' not found.\n",
            "WARNING:matplotlib.font_manager:findfont: Font family 'Arial' not found.\n",
            "WARNING:matplotlib.font_manager:findfont: Font family 'Arial' not found.\n",
            "WARNING:matplotlib.font_manager:findfont: Font family 'Arial' not found.\n",
            "WARNING:matplotlib.font_manager:findfont: Font family 'Arial' not found.\n",
            "WARNING:matplotlib.font_manager:findfont: Font family 'Arial' not found.\n",
            "WARNING:matplotlib.font_manager:findfont: Font family 'Arial' not found.\n",
            "WARNING:matplotlib.font_manager:findfont: Font family 'Arial' not found.\n",
            "WARNING:matplotlib.font_manager:findfont: Font family 'Arial' not found.\n",
            "WARNING:matplotlib.font_manager:findfont: Font family 'Arial' not found.\n",
            "WARNING:matplotlib.font_manager:findfont: Font family 'Arial' not found.\n",
            "WARNING:matplotlib.font_manager:findfont: Font family 'Arial' not found.\n",
            "WARNING:matplotlib.font_manager:findfont: Font family 'Arial' not found.\n",
            "WARNING:matplotlib.font_manager:findfont: Font family 'Arial' not found.\n",
            "WARNING:matplotlib.font_manager:findfont: Font family 'Arial' not found.\n",
            "WARNING:matplotlib.font_manager:findfont: Font family 'Arial' not found.\n",
            "WARNING:matplotlib.font_manager:findfont: Font family 'Arial' not found.\n",
            "WARNING:matplotlib.font_manager:findfont: Font family 'Arial' not found.\n",
            "WARNING:matplotlib.font_manager:findfont: Font family 'Arial' not found.\n",
            "WARNING:matplotlib.font_manager:findfont: Font family 'Arial' not found.\n",
            "WARNING:matplotlib.font_manager:findfont: Font family 'Arial' not found.\n",
            "WARNING:matplotlib.font_manager:findfont: Font family 'Arial' not found.\n",
            "WARNING:matplotlib.font_manager:findfont: Font family 'Arial' not found.\n",
            "WARNING:matplotlib.font_manager:findfont: Font family 'Arial' not found.\n",
            "WARNING:matplotlib.font_manager:findfont: Font family 'Arial' not found.\n",
            "WARNING:matplotlib.font_manager:findfont: Font family 'Arial' not found.\n",
            "WARNING:matplotlib.font_manager:findfont: Font family 'Arial' not found.\n",
            "WARNING:matplotlib.font_manager:findfont: Font family 'Arial' not found.\n",
            "WARNING:matplotlib.font_manager:findfont: Font family 'Arial' not found.\n",
            "WARNING:matplotlib.font_manager:findfont: Font family 'Arial' not found.\n",
            "WARNING:matplotlib.font_manager:findfont: Font family 'Arial' not found.\n",
            "WARNING:matplotlib.font_manager:findfont: Font family 'Arial' not found.\n",
            "WARNING:matplotlib.font_manager:findfont: Font family 'Arial' not found.\n",
            "WARNING:matplotlib.font_manager:findfont: Font family 'Arial' not found.\n",
            "WARNING:matplotlib.font_manager:findfont: Font family 'Arial' not found.\n",
            "WARNING:matplotlib.font_manager:findfont: Font family 'Arial' not found.\n",
            "WARNING:matplotlib.font_manager:findfont: Font family 'Arial' not found.\n",
            "WARNING:matplotlib.font_manager:findfont: Font family 'Arial' not found.\n",
            "WARNING:matplotlib.font_manager:findfont: Font family 'Arial' not found.\n",
            "WARNING:matplotlib.font_manager:findfont: Font family 'Arial' not found.\n",
            "WARNING:matplotlib.font_manager:findfont: Font family 'Arial' not found.\n",
            "WARNING:matplotlib.font_manager:findfont: Font family 'Arial' not found.\n",
            "WARNING:matplotlib.font_manager:findfont: Font family 'Arial' not found.\n",
            "WARNING:matplotlib.font_manager:findfont: Font family 'Arial' not found.\n",
            "WARNING:matplotlib.font_manager:findfont: Font family 'Arial' not found.\n",
            "WARNING:matplotlib.font_manager:findfont: Font family 'Arial' not found.\n",
            "WARNING:matplotlib.font_manager:findfont: Font family 'Arial' not found.\n",
            "WARNING:matplotlib.font_manager:findfont: Font family 'Arial' not found.\n",
            "WARNING:matplotlib.font_manager:findfont: Font family 'Arial' not found.\n",
            "WARNING:matplotlib.font_manager:findfont: Font family 'Arial' not found.\n",
            "WARNING:matplotlib.font_manager:findfont: Font family 'Arial' not found.\n",
            "WARNING:matplotlib.font_manager:findfont: Font family 'Arial' not found.\n",
            "WARNING:matplotlib.font_manager:findfont: Font family 'Arial' not found.\n",
            "WARNING:matplotlib.font_manager:findfont: Font family 'Arial' not found.\n",
            "WARNING:matplotlib.font_manager:findfont: Font family 'Arial' not found.\n",
            "WARNING:matplotlib.font_manager:findfont: Font family 'Arial' not found.\n",
            "WARNING:matplotlib.font_manager:findfont: Font family 'Arial' not found.\n",
            "WARNING:matplotlib.font_manager:findfont: Font family 'Arial' not found.\n",
            "WARNING:matplotlib.font_manager:findfont: Font family 'Arial' not found.\n",
            "WARNING:matplotlib.font_manager:findfont: Font family 'Arial' not found.\n",
            "WARNING:matplotlib.font_manager:findfont: Font family 'Arial' not found.\n",
            "WARNING:matplotlib.font_manager:findfont: Font family 'Arial' not found.\n",
            "WARNING:matplotlib.font_manager:findfont: Font family 'Arial' not found.\n",
            "WARNING:matplotlib.font_manager:findfont: Font family 'Arial' not found.\n",
            "WARNING:matplotlib.font_manager:findfont: Font family 'Arial' not found.\n",
            "WARNING:matplotlib.font_manager:findfont: Font family 'Arial' not found.\n",
            "WARNING:matplotlib.font_manager:findfont: Font family 'Arial' not found.\n",
            "WARNING:matplotlib.font_manager:findfont: Font family 'Arial' not found.\n",
            "WARNING:matplotlib.font_manager:findfont: Font family 'Arial' not found.\n",
            "WARNING:matplotlib.font_manager:findfont: Font family 'Arial' not found.\n",
            "WARNING:matplotlib.font_manager:findfont: Font family 'Arial' not found.\n",
            "WARNING:matplotlib.font_manager:findfont: Font family 'Arial' not found.\n",
            "WARNING:matplotlib.font_manager:findfont: Font family 'Arial' not found.\n",
            "WARNING:matplotlib.font_manager:findfont: Font family 'Arial' not found.\n",
            "WARNING:matplotlib.font_manager:findfont: Font family 'Arial' not found.\n",
            "WARNING:matplotlib.font_manager:findfont: Font family 'Arial' not found.\n",
            "WARNING:matplotlib.font_manager:findfont: Font family 'Arial' not found.\n",
            "WARNING:matplotlib.font_manager:findfont: Font family 'Arial' not found.\n",
            "WARNING:matplotlib.font_manager:findfont: Font family 'Arial' not found.\n",
            "WARNING:matplotlib.font_manager:findfont: Font family 'Arial' not found.\n",
            "WARNING:matplotlib.font_manager:findfont: Font family 'Arial' not found.\n",
            "WARNING:matplotlib.font_manager:findfont: Font family 'Arial' not found.\n",
            "WARNING:matplotlib.font_manager:findfont: Font family 'Arial' not found.\n",
            "WARNING:matplotlib.font_manager:findfont: Font family 'Arial' not found.\n",
            "WARNING:matplotlib.font_manager:findfont: Font family 'Arial' not found.\n",
            "WARNING:matplotlib.font_manager:findfont: Font family 'Arial' not found.\n",
            "WARNING:matplotlib.font_manager:findfont: Font family 'Arial' not found.\n",
            "WARNING:matplotlib.font_manager:findfont: Font family 'Arial' not found.\n",
            "WARNING:matplotlib.font_manager:findfont: Font family 'Arial' not found.\n",
            "WARNING:matplotlib.font_manager:findfont: Font family 'Arial' not found.\n",
            "WARNING:matplotlib.font_manager:findfont: Font family 'Arial' not found.\n",
            "WARNING:matplotlib.font_manager:findfont: Font family 'Arial' not found.\n",
            "WARNING:matplotlib.font_manager:findfont: Font family 'Arial' not found.\n",
            "WARNING:matplotlib.font_manager:findfont: Font family 'Arial' not found.\n",
            "WARNING:matplotlib.font_manager:findfont: Font family 'Arial' not found.\n",
            "WARNING:matplotlib.font_manager:findfont: Font family 'Arial' not found.\n",
            "WARNING:matplotlib.font_manager:findfont: Font family 'Arial' not found.\n",
            "WARNING:matplotlib.font_manager:findfont: Font family 'Arial' not found.\n",
            "WARNING:matplotlib.font_manager:findfont: Font family 'Arial' not found.\n",
            "WARNING:matplotlib.font_manager:findfont: Font family 'Arial' not found.\n",
            "WARNING:matplotlib.font_manager:findfont: Font family 'Arial' not found.\n",
            "WARNING:matplotlib.font_manager:findfont: Font family 'Arial' not found.\n",
            "WARNING:matplotlib.font_manager:findfont: Font family 'Arial' not found.\n",
            "WARNING:matplotlib.font_manager:findfont: Font family 'Arial' not found.\n",
            "WARNING:matplotlib.font_manager:findfont: Font family 'Arial' not found.\n",
            "WARNING:matplotlib.font_manager:findfont: Font family 'Arial' not found.\n",
            "WARNING:matplotlib.font_manager:findfont: Font family 'Arial' not found.\n",
            "WARNING:matplotlib.font_manager:findfont: Font family 'Arial' not found.\n",
            "WARNING:matplotlib.font_manager:findfont: Font family 'Arial' not found.\n",
            "WARNING:matplotlib.font_manager:findfont: Font family 'Arial' not found.\n",
            "WARNING:matplotlib.font_manager:findfont: Font family 'Arial' not found.\n",
            "WARNING:matplotlib.font_manager:findfont: Font family 'Arial' not found.\n",
            "WARNING:matplotlib.font_manager:findfont: Font family 'Arial' not found.\n",
            "WARNING:matplotlib.font_manager:findfont: Font family 'Arial' not found.\n",
            "WARNING:matplotlib.font_manager:findfont: Font family 'Arial' not found.\n",
            "WARNING:matplotlib.font_manager:findfont: Font family 'Arial' not found.\n",
            "WARNING:matplotlib.font_manager:findfont: Font family 'Arial' not found.\n",
            "WARNING:matplotlib.font_manager:findfont: Font family 'Arial' not found.\n",
            "WARNING:matplotlib.font_manager:findfont: Font family 'Arial' not found.\n",
            "WARNING:matplotlib.font_manager:findfont: Font family 'Arial' not found.\n",
            "WARNING:matplotlib.font_manager:findfont: Font family 'Arial' not found.\n",
            "WARNING:matplotlib.font_manager:findfont: Font family 'Arial' not found.\n",
            "WARNING:matplotlib.font_manager:findfont: Font family 'Arial' not found.\n",
            "WARNING:matplotlib.font_manager:findfont: Font family 'Arial' not found.\n",
            "WARNING:matplotlib.font_manager:findfont: Font family 'Arial' not found.\n",
            "WARNING:matplotlib.font_manager:findfont: Font family 'Arial' not found.\n",
            "WARNING:matplotlib.font_manager:findfont: Font family 'Arial' not found.\n",
            "WARNING:matplotlib.font_manager:findfont: Font family 'Arial' not found.\n",
            "WARNING:matplotlib.font_manager:findfont: Font family 'Arial' not found.\n",
            "WARNING:matplotlib.font_manager:findfont: Font family 'Arial' not found.\n",
            "WARNING:matplotlib.font_manager:findfont: Font family 'Arial' not found.\n",
            "WARNING:matplotlib.font_manager:findfont: Font family 'Arial' not found.\n",
            "WARNING:matplotlib.font_manager:findfont: Font family 'Arial' not found.\n",
            "WARNING:matplotlib.font_manager:findfont: Font family 'Arial' not found.\n",
            "WARNING:matplotlib.font_manager:findfont: Font family 'Arial' not found.\n",
            "WARNING:matplotlib.font_manager:findfont: Font family 'Arial' not found.\n",
            "WARNING:matplotlib.font_manager:findfont: Font family 'Arial' not found.\n",
            "WARNING:matplotlib.font_manager:findfont: Font family 'Arial' not found.\n",
            "WARNING:matplotlib.font_manager:findfont: Font family 'Arial' not found.\n",
            "WARNING:matplotlib.font_manager:findfont: Font family 'Arial' not found.\n",
            "WARNING:matplotlib.font_manager:findfont: Font family 'Arial' not found.\n",
            "WARNING:matplotlib.font_manager:findfont: Font family 'Arial' not found.\n",
            "WARNING:matplotlib.font_manager:findfont: Font family 'Arial' not found.\n",
            "WARNING:matplotlib.font_manager:findfont: Font family 'Arial' not found.\n",
            "WARNING:matplotlib.font_manager:findfont: Font family 'Arial' not found.\n",
            "WARNING:matplotlib.font_manager:findfont: Font family 'Arial' not found.\n",
            "WARNING:matplotlib.font_manager:findfont: Font family 'Arial' not found.\n",
            "WARNING:matplotlib.font_manager:findfont: Font family 'Arial' not found.\n",
            "WARNING:matplotlib.font_manager:findfont: Font family 'Arial' not found.\n",
            "WARNING:matplotlib.font_manager:findfont: Font family 'Arial' not found.\n",
            "WARNING:matplotlib.font_manager:findfont: Font family 'Arial' not found.\n",
            "WARNING:matplotlib.font_manager:findfont: Font family 'Arial' not found.\n",
            "WARNING:matplotlib.font_manager:findfont: Font family 'Arial' not found.\n",
            "WARNING:matplotlib.font_manager:findfont: Font family 'Arial' not found.\n",
            "WARNING:matplotlib.font_manager:findfont: Font family 'Arial' not found.\n",
            "WARNING:matplotlib.font_manager:findfont: Font family 'Arial' not found.\n",
            "WARNING:matplotlib.font_manager:findfont: Font family 'Arial' not found.\n",
            "WARNING:matplotlib.font_manager:findfont: Font family 'Arial' not found.\n",
            "WARNING:matplotlib.font_manager:findfont: Font family 'Arial' not found.\n",
            "WARNING:matplotlib.font_manager:findfont: Font family 'Arial' not found.\n",
            "WARNING:matplotlib.font_manager:findfont: Font family 'Arial' not found.\n",
            "WARNING:matplotlib.font_manager:findfont: Font family 'Arial' not found.\n",
            "WARNING:matplotlib.font_manager:findfont: Font family 'Arial' not found.\n",
            "WARNING:matplotlib.font_manager:findfont: Font family 'Arial' not found.\n",
            "WARNING:matplotlib.font_manager:findfont: Font family 'Arial' not found.\n",
            "WARNING:matplotlib.font_manager:findfont: Font family 'Arial' not found.\n",
            "WARNING:matplotlib.font_manager:findfont: Font family 'Arial' not found.\n",
            "WARNING:matplotlib.font_manager:findfont: Font family 'Arial' not found.\n",
            "WARNING:matplotlib.font_manager:findfont: Font family 'Arial' not found.\n",
            "WARNING:matplotlib.font_manager:findfont: Font family 'Arial' not found.\n",
            "WARNING:matplotlib.font_manager:findfont: Font family 'Arial' not found.\n",
            "WARNING:matplotlib.font_manager:findfont: Font family 'Arial' not found.\n",
            "WARNING:matplotlib.font_manager:findfont: Font family 'Arial' not found.\n",
            "WARNING:matplotlib.font_manager:findfont: Font family 'Arial' not found.\n",
            "WARNING:matplotlib.font_manager:findfont: Font family 'Arial' not found.\n",
            "WARNING:matplotlib.font_manager:findfont: Font family 'Arial' not found.\n",
            "WARNING:matplotlib.font_manager:findfont: Font family 'Arial' not found.\n",
            "WARNING:matplotlib.font_manager:findfont: Font family 'Arial' not found.\n",
            "WARNING:matplotlib.font_manager:findfont: Font family 'Arial' not found.\n",
            "WARNING:matplotlib.font_manager:findfont: Font family 'Arial' not found.\n",
            "WARNING:matplotlib.font_manager:findfont: Font family 'Arial' not found.\n",
            "WARNING:matplotlib.font_manager:findfont: Font family 'Arial' not found.\n",
            "WARNING:matplotlib.font_manager:findfont: Font family 'Arial' not found.\n",
            "WARNING:matplotlib.font_manager:findfont: Font family 'Arial' not found.\n",
            "WARNING:matplotlib.font_manager:findfont: Font family 'Arial' not found.\n",
            "WARNING:matplotlib.font_manager:findfont: Font family 'Arial' not found.\n",
            "WARNING:matplotlib.font_manager:findfont: Font family 'Arial' not found.\n",
            "WARNING:matplotlib.font_manager:findfont: Font family 'Arial' not found.\n",
            "WARNING:matplotlib.font_manager:findfont: Font family 'Arial' not found.\n",
            "WARNING:matplotlib.font_manager:findfont: Font family 'Arial' not found.\n",
            "WARNING:matplotlib.font_manager:findfont: Font family 'Arial' not found.\n",
            "WARNING:matplotlib.font_manager:findfont: Font family 'Arial' not found.\n",
            "WARNING:matplotlib.font_manager:findfont: Font family 'Arial' not found.\n",
            "WARNING:matplotlib.font_manager:findfont: Font family 'Arial' not found.\n",
            "WARNING:matplotlib.font_manager:findfont: Font family 'Arial' not found.\n",
            "WARNING:matplotlib.font_manager:findfont: Font family 'Arial' not found.\n",
            "WARNING:matplotlib.font_manager:findfont: Font family 'Arial' not found.\n",
            "WARNING:matplotlib.font_manager:findfont: Font family 'Arial' not found.\n",
            "WARNING:matplotlib.font_manager:findfont: Font family 'Arial' not found.\n",
            "WARNING:matplotlib.font_manager:findfont: Font family 'Arial' not found.\n",
            "WARNING:matplotlib.font_manager:findfont: Font family 'Arial' not found.\n",
            "WARNING:matplotlib.font_manager:findfont: Font family 'Arial' not found.\n",
            "WARNING:matplotlib.font_manager:findfont: Font family 'Arial' not found.\n",
            "WARNING:matplotlib.font_manager:findfont: Font family 'Arial' not found.\n",
            "WARNING:matplotlib.font_manager:findfont: Font family 'Arial' not found.\n",
            "WARNING:matplotlib.font_manager:findfont: Font family 'Arial' not found.\n",
            "WARNING:matplotlib.font_manager:findfont: Font family 'Arial' not found.\n",
            "WARNING:matplotlib.font_manager:findfont: Font family 'Arial' not found.\n",
            "WARNING:matplotlib.font_manager:findfont: Font family 'Arial' not found.\n",
            "WARNING:matplotlib.font_manager:findfont: Font family 'Arial' not found.\n",
            "WARNING:matplotlib.font_manager:findfont: Font family 'Arial' not found.\n",
            "WARNING:matplotlib.font_manager:findfont: Font family 'Arial' not found.\n",
            "WARNING:matplotlib.font_manager:findfont: Font family 'Arial' not found.\n",
            "WARNING:matplotlib.font_manager:findfont: Font family 'Arial' not found.\n",
            "WARNING:matplotlib.font_manager:findfont: Font family 'Arial' not found.\n",
            "WARNING:matplotlib.font_manager:findfont: Font family 'Arial' not found.\n",
            "WARNING:matplotlib.font_manager:findfont: Font family 'Arial' not found.\n",
            "WARNING:matplotlib.font_manager:findfont: Font family 'Arial' not found.\n",
            "WARNING:matplotlib.font_manager:findfont: Font family 'Arial' not found.\n",
            "WARNING:matplotlib.font_manager:findfont: Font family 'Arial' not found.\n",
            "WARNING:matplotlib.font_manager:findfont: Font family 'Arial' not found.\n",
            "WARNING:matplotlib.font_manager:findfont: Font family 'Arial' not found.\n",
            "WARNING:matplotlib.font_manager:findfont: Font family 'Arial' not found.\n",
            "WARNING:matplotlib.font_manager:findfont: Font family 'Arial' not found.\n",
            "WARNING:matplotlib.font_manager:findfont: Font family 'Arial' not found.\n",
            "WARNING:matplotlib.font_manager:findfont: Font family 'Arial' not found.\n",
            "WARNING:matplotlib.font_manager:findfont: Font family 'Arial' not found.\n",
            "WARNING:matplotlib.font_manager:findfont: Font family 'Arial' not found.\n",
            "WARNING:matplotlib.font_manager:findfont: Font family 'Arial' not found.\n",
            "WARNING:matplotlib.font_manager:findfont: Font family 'Arial' not found.\n",
            "WARNING:matplotlib.font_manager:findfont: Font family 'Arial' not found.\n",
            "WARNING:matplotlib.font_manager:findfont: Font family 'Arial' not found.\n",
            "WARNING:matplotlib.font_manager:findfont: Font family 'Arial' not found.\n",
            "WARNING:matplotlib.font_manager:findfont: Font family 'Arial' not found.\n",
            "WARNING:matplotlib.font_manager:findfont: Font family 'Arial' not found.\n",
            "WARNING:matplotlib.font_manager:findfont: Font family 'Arial' not found.\n",
            "WARNING:matplotlib.font_manager:findfont: Font family 'Arial' not found.\n",
            "WARNING:matplotlib.font_manager:findfont: Font family 'Arial' not found.\n",
            "WARNING:matplotlib.font_manager:findfont: Font family 'Arial' not found.\n",
            "WARNING:matplotlib.font_manager:findfont: Font family 'Arial' not found.\n",
            "WARNING:matplotlib.font_manager:findfont: Font family 'Arial' not found.\n",
            "WARNING:matplotlib.font_manager:findfont: Font family 'Arial' not found.\n",
            "WARNING:matplotlib.font_manager:findfont: Font family 'Arial' not found.\n",
            "WARNING:matplotlib.font_manager:findfont: Font family 'Arial' not found.\n",
            "WARNING:matplotlib.font_manager:findfont: Font family 'Arial' not found.\n",
            "WARNING:matplotlib.font_manager:findfont: Font family 'Arial' not found.\n",
            "WARNING:matplotlib.font_manager:findfont: Font family 'Arial' not found.\n",
            "WARNING:matplotlib.font_manager:findfont: Font family 'Arial' not found.\n",
            "WARNING:matplotlib.font_manager:findfont: Font family 'Arial' not found.\n",
            "WARNING:matplotlib.font_manager:findfont: Font family 'Arial' not found.\n",
            "WARNING:matplotlib.font_manager:findfont: Font family 'Arial' not found.\n",
            "WARNING:matplotlib.font_manager:findfont: Font family 'Arial' not found.\n",
            "WARNING:matplotlib.font_manager:findfont: Font family 'Arial' not found.\n",
            "WARNING:matplotlib.font_manager:findfont: Font family 'Arial' not found.\n",
            "WARNING:matplotlib.font_manager:findfont: Font family 'Arial' not found.\n",
            "WARNING:matplotlib.font_manager:findfont: Font family 'Arial' not found.\n",
            "WARNING:matplotlib.font_manager:findfont: Font family 'Arial' not found.\n",
            "WARNING:matplotlib.font_manager:findfont: Font family 'Arial' not found.\n",
            "WARNING:matplotlib.font_manager:findfont: Font family 'Arial' not found.\n",
            "WARNING:matplotlib.font_manager:findfont: Font family 'Arial' not found.\n",
            "WARNING:matplotlib.font_manager:findfont: Font family 'Arial' not found.\n",
            "WARNING:matplotlib.font_manager:findfont: Font family 'Arial' not found.\n",
            "WARNING:matplotlib.font_manager:findfont: Font family 'Arial' not found.\n",
            "WARNING:matplotlib.font_manager:findfont: Font family 'Arial' not found.\n",
            "WARNING:matplotlib.font_manager:findfont: Font family 'Arial' not found.\n",
            "WARNING:matplotlib.font_manager:findfont: Font family 'Arial' not found.\n",
            "WARNING:matplotlib.font_manager:findfont: Font family 'Arial' not found.\n",
            "WARNING:matplotlib.font_manager:findfont: Font family 'Arial' not found.\n",
            "WARNING:matplotlib.font_manager:findfont: Font family 'Arial' not found.\n",
            "WARNING:matplotlib.font_manager:findfont: Font family 'Arial' not found.\n",
            "WARNING:matplotlib.font_manager:findfont: Font family 'Arial' not found.\n",
            "WARNING:matplotlib.font_manager:findfont: Font family 'Arial' not found.\n",
            "WARNING:matplotlib.font_manager:findfont: Font family 'Arial' not found.\n",
            "WARNING:matplotlib.font_manager:findfont: Font family 'Arial' not found.\n",
            "WARNING:matplotlib.font_manager:findfont: Font family 'Arial' not found.\n",
            "WARNING:matplotlib.font_manager:findfont: Font family 'Arial' not found.\n",
            "WARNING:matplotlib.font_manager:findfont: Font family 'Arial' not found.\n",
            "WARNING:matplotlib.font_manager:findfont: Font family 'Arial' not found.\n",
            "WARNING:matplotlib.font_manager:findfont: Font family 'Arial' not found.\n",
            "WARNING:matplotlib.font_manager:findfont: Font family 'Arial' not found.\n",
            "WARNING:matplotlib.font_manager:findfont: Font family 'Arial' not found.\n",
            "WARNING:matplotlib.font_manager:findfont: Font family 'Arial' not found.\n",
            "WARNING:matplotlib.font_manager:findfont: Font family 'Arial' not found.\n",
            "WARNING:matplotlib.font_manager:findfont: Font family 'Arial' not found.\n",
            "WARNING:matplotlib.font_manager:findfont: Font family 'Arial' not found.\n",
            "WARNING:matplotlib.font_manager:findfont: Font family 'Arial' not found.\n",
            "WARNING:matplotlib.font_manager:findfont: Font family 'Arial' not found.\n",
            "WARNING:matplotlib.font_manager:findfont: Font family 'Arial' not found.\n",
            "WARNING:matplotlib.font_manager:findfont: Font family 'Arial' not found.\n",
            "WARNING:matplotlib.font_manager:findfont: Font family 'Arial' not found.\n",
            "WARNING:matplotlib.font_manager:findfont: Font family 'Arial' not found.\n",
            "WARNING:matplotlib.font_manager:findfont: Font family 'Arial' not found.\n",
            "WARNING:matplotlib.font_manager:findfont: Font family 'Arial' not found.\n",
            "WARNING:matplotlib.font_manager:findfont: Font family 'Arial' not found.\n",
            "WARNING:matplotlib.font_manager:findfont: Font family 'Arial' not found.\n",
            "WARNING:matplotlib.font_manager:findfont: Font family 'Arial' not found.\n",
            "WARNING:matplotlib.font_manager:findfont: Font family 'Arial' not found.\n",
            "WARNING:matplotlib.font_manager:findfont: Font family 'Arial' not found.\n",
            "WARNING:matplotlib.font_manager:findfont: Font family 'Arial' not found.\n",
            "WARNING:matplotlib.font_manager:findfont: Font family 'Arial' not found.\n",
            "WARNING:matplotlib.font_manager:findfont: Font family 'Arial' not found.\n",
            "WARNING:matplotlib.font_manager:findfont: Font family 'Arial' not found.\n",
            "WARNING:matplotlib.font_manager:findfont: Font family 'Arial' not found.\n",
            "WARNING:matplotlib.font_manager:findfont: Font family 'Arial' not found.\n",
            "WARNING:matplotlib.font_manager:findfont: Font family 'Arial' not found.\n",
            "WARNING:matplotlib.font_manager:findfont: Font family 'Arial' not found.\n",
            "WARNING:matplotlib.font_manager:findfont: Font family 'Arial' not found.\n",
            "WARNING:matplotlib.font_manager:findfont: Font family 'Arial' not found.\n",
            "WARNING:matplotlib.font_manager:findfont: Font family 'Arial' not found.\n",
            "WARNING:matplotlib.font_manager:findfont: Font family 'Arial' not found.\n",
            "WARNING:matplotlib.font_manager:findfont: Font family 'Arial' not found.\n",
            "WARNING:matplotlib.font_manager:findfont: Font family 'Arial' not found.\n",
            "WARNING:matplotlib.font_manager:findfont: Font family 'Arial' not found.\n",
            "WARNING:matplotlib.font_manager:findfont: Font family 'Arial' not found.\n",
            "WARNING:matplotlib.font_manager:findfont: Font family 'Arial' not found.\n",
            "WARNING:matplotlib.font_manager:findfont: Font family 'Arial' not found.\n",
            "WARNING:matplotlib.font_manager:findfont: Font family 'Arial' not found.\n",
            "WARNING:matplotlib.font_manager:findfont: Font family 'Arial' not found.\n",
            "WARNING:matplotlib.font_manager:findfont: Font family 'Arial' not found.\n",
            "WARNING:matplotlib.font_manager:findfont: Font family 'Arial' not found.\n",
            "WARNING:matplotlib.font_manager:findfont: Font family 'Arial' not found.\n",
            "WARNING:matplotlib.font_manager:findfont: Font family 'Arial' not found.\n",
            "WARNING:matplotlib.font_manager:findfont: Font family 'Arial' not found.\n",
            "WARNING:matplotlib.font_manager:findfont: Font family 'Arial' not found.\n",
            "WARNING:matplotlib.font_manager:findfont: Font family 'Arial' not found.\n",
            "WARNING:matplotlib.font_manager:findfont: Font family 'Arial' not found.\n",
            "WARNING:matplotlib.font_manager:findfont: Font family 'Arial' not found.\n",
            "WARNING:matplotlib.font_manager:findfont: Font family 'Arial' not found.\n",
            "WARNING:matplotlib.font_manager:findfont: Font family 'Arial' not found.\n",
            "WARNING:matplotlib.font_manager:findfont: Font family 'Arial' not found.\n",
            "WARNING:matplotlib.font_manager:findfont: Font family 'Arial' not found.\n",
            "WARNING:matplotlib.font_manager:findfont: Font family 'Arial' not found.\n",
            "WARNING:matplotlib.font_manager:findfont: Font family 'Arial' not found.\n",
            "WARNING:matplotlib.font_manager:findfont: Font family 'Arial' not found.\n",
            "WARNING:matplotlib.font_manager:findfont: Font family 'Arial' not found.\n",
            "WARNING:matplotlib.font_manager:findfont: Font family 'Arial' not found.\n",
            "WARNING:matplotlib.font_manager:findfont: Font family 'Arial' not found.\n",
            "WARNING:matplotlib.font_manager:findfont: Font family 'Arial' not found.\n",
            "WARNING:matplotlib.font_manager:findfont: Font family 'Arial' not found.\n",
            "WARNING:matplotlib.font_manager:findfont: Font family 'Arial' not found.\n",
            "WARNING:matplotlib.font_manager:findfont: Font family 'Arial' not found.\n",
            "WARNING:matplotlib.font_manager:findfont: Font family 'Arial' not found.\n",
            "WARNING:matplotlib.font_manager:findfont: Font family 'Arial' not found.\n",
            "WARNING:matplotlib.font_manager:findfont: Font family 'Arial' not found.\n",
            "WARNING:matplotlib.font_manager:findfont: Font family 'Arial' not found.\n",
            "WARNING:matplotlib.font_manager:findfont: Font family 'Arial' not found.\n",
            "WARNING:matplotlib.font_manager:findfont: Font family 'Arial' not found.\n",
            "WARNING:matplotlib.font_manager:findfont: Font family 'Arial' not found.\n",
            "WARNING:matplotlib.font_manager:findfont: Font family 'Arial' not found.\n",
            "WARNING:matplotlib.font_manager:findfont: Font family 'Arial' not found.\n"
          ]
        }
      ]
    },
    {
      "cell_type": "code",
      "source": [
        "from sklearn.tree import export_graphviz\n",
        "export_graphviz(tree, feature_names=X.columns)"
      ],
      "metadata": {
        "colab": {
          "base_uri": "https://localhost:8080/",
          "height": 883
        },
        "id": "v1-tHr9-1rIO",
        "outputId": "11e9fee3-cc54-4d05-dfc0-38d35fb7e7c5"
      },
      "execution_count": null,
      "outputs": [
        {
          "output_type": "error",
          "ename": "TypeError",
          "evalue": "ignored",
          "traceback": [
            "\u001b[0;31m---------------------------------------------------------------------------\u001b[0m",
            "\u001b[0;31mTypeError\u001b[0m                                 Traceback (most recent call last)",
            "\u001b[0;32m<ipython-input-227-5f07691d98d2>\u001b[0m in \u001b[0;36m<cell line: 2>\u001b[0;34m()\u001b[0m\n\u001b[1;32m      1\u001b[0m \u001b[0;32mfrom\u001b[0m \u001b[0msklearn\u001b[0m\u001b[0;34m.\u001b[0m\u001b[0mtree\u001b[0m \u001b[0;32mimport\u001b[0m \u001b[0mexport_graphviz\u001b[0m\u001b[0;34m\u001b[0m\u001b[0;34m\u001b[0m\u001b[0m\n\u001b[0;32m----> 2\u001b[0;31m \u001b[0mexport_graphviz\u001b[0m\u001b[0;34m(\u001b[0m\u001b[0mtree\u001b[0m\u001b[0;34m,\u001b[0m \u001b[0mfeature_names\u001b[0m\u001b[0;34m=\u001b[0m\u001b[0mX\u001b[0m\u001b[0;34m.\u001b[0m\u001b[0mcolumns\u001b[0m\u001b[0;34m)\u001b[0m\u001b[0;34m\u001b[0m\u001b[0;34m\u001b[0m\u001b[0m\n\u001b[0m",
            "\u001b[0;32m/usr/local/lib/python3.10/dist-packages/sklearn/tree/_export.py\u001b[0m in \u001b[0;36mexport_graphviz\u001b[0;34m(decision_tree, out_file, max_depth, feature_names, class_names, label, filled, leaves_parallel, impurity, node_ids, proportion, rotate, rounded, special_characters, precision, fontname)\u001b[0m\n\u001b[1;32m    857\u001b[0m     \"\"\"\n\u001b[1;32m    858\u001b[0m \u001b[0;34m\u001b[0m\u001b[0m\n\u001b[0;32m--> 859\u001b[0;31m     \u001b[0mcheck_is_fitted\u001b[0m\u001b[0;34m(\u001b[0m\u001b[0mdecision_tree\u001b[0m\u001b[0;34m)\u001b[0m\u001b[0;34m\u001b[0m\u001b[0;34m\u001b[0m\u001b[0m\n\u001b[0m\u001b[1;32m    860\u001b[0m     \u001b[0mown_file\u001b[0m \u001b[0;34m=\u001b[0m \u001b[0;32mFalse\u001b[0m\u001b[0;34m\u001b[0m\u001b[0;34m\u001b[0m\u001b[0m\n\u001b[1;32m    861\u001b[0m     \u001b[0mreturn_string\u001b[0m \u001b[0;34m=\u001b[0m \u001b[0;32mFalse\u001b[0m\u001b[0;34m\u001b[0m\u001b[0;34m\u001b[0m\u001b[0m\n",
            "\u001b[0;32m/usr/local/lib/python3.10/dist-packages/sklearn/utils/validation.py\u001b[0m in \u001b[0;36mcheck_is_fitted\u001b[0;34m(estimator, attributes, msg, all_or_any)\u001b[0m\n\u001b[1;32m   1374\u001b[0m \u001b[0;34m\u001b[0m\u001b[0m\n\u001b[1;32m   1375\u001b[0m     \u001b[0;32mif\u001b[0m \u001b[0;32mnot\u001b[0m \u001b[0mhasattr\u001b[0m\u001b[0;34m(\u001b[0m\u001b[0mestimator\u001b[0m\u001b[0;34m,\u001b[0m \u001b[0;34m\"fit\"\u001b[0m\u001b[0;34m)\u001b[0m\u001b[0;34m:\u001b[0m\u001b[0;34m\u001b[0m\u001b[0;34m\u001b[0m\u001b[0m\n\u001b[0;32m-> 1376\u001b[0;31m         \u001b[0;32mraise\u001b[0m \u001b[0mTypeError\u001b[0m\u001b[0;34m(\u001b[0m\u001b[0;34m\"%s is not an estimator instance.\"\u001b[0m \u001b[0;34m%\u001b[0m \u001b[0;34m(\u001b[0m\u001b[0mestimator\u001b[0m\u001b[0;34m)\u001b[0m\u001b[0;34m)\u001b[0m\u001b[0;34m\u001b[0m\u001b[0;34m\u001b[0m\u001b[0m\n\u001b[0m\u001b[1;32m   1377\u001b[0m \u001b[0;34m\u001b[0m\u001b[0m\n\u001b[1;32m   1378\u001b[0m     \u001b[0;32mif\u001b[0m \u001b[0mattributes\u001b[0m \u001b[0;32mis\u001b[0m \u001b[0;32mnot\u001b[0m \u001b[0;32mNone\u001b[0m\u001b[0;34m:\u001b[0m\u001b[0;34m\u001b[0m\u001b[0;34m\u001b[0m\u001b[0m\n",
            "\u001b[0;31mTypeError\u001b[0m: digraph Tree {\nnode [shape=box, fontname=\"helvetica\"] ;\nedge [fontname=\"helvetica\"] ;\n0 [label=\"x[5] <= 6.978\\nsquared_error = 84.721\\nsamples = 404\\nvalue = 22.375\"] ;\n1 [label=\"x[12] <= 14.4\\nsquared_error = 39.598\\nsamples = 351\\nvalue = 19.875\"] ;\n0 -> 1 [labeldistance=2.5, labelangle=45, headlabel=\"True\"] ;\n2 [label=\"x[5] <= 6.543\\nsquared_error = 23.336\\nsamples = 209\\nvalue = 23.326\"] ;\n1 -> 2 ;\n3 [label=\"x[12] <= 9.66\\nsquared_error = 17.975\\nsamples = 159\\nvalue = 21.979\"] ;\n2 -> 3 ;\n4 [label=\"squared_error = 30.001\\nsamples = 68\\nvalue = 23.743\"] ;\n3 -> 4 ;\n5 [label=\"squared_error = 4.926\\nsamples = 91\\nvalue = 20.66\"] ;\n3 -> 5 ;\n6 [label=\"squared_error = 16.255\\nsamples = 50\\nvalue = 27.61\"] ;\n2 -> 6 ;\n7 [label=\"x[0] <= 6.992\\nsquared_error = 20.202\\nsamples = 142\\nvalue = 14.795\"] ;\n1 -> 7 ;\n8 [label=\"x[4] <= 0.583\\nsquared_error = 12.014\\nsamples = 82\\nvalue = 17.0\"] ;\n7 -> 8 ;\n9 [label=\"squared_error = 10.861\\nsamples = 38\\nvalue = 18.639\"] ;\n8 -> 9 ;\n10 [label=\"squared_error = 8.684\\nsamples = 44\\nvalue = 15.584\"] ;\n8 -> 10 ;\n11 [label=\"x[12] <= 22.26\\nsquared_error = 15.667\\nsamples = 60\\nvalue = 11.782\"] ;\n7 -> 11 ;\n12 [label=\"squared_error = 15.418\\nsamples = 30\\nvalue = 13.463\"] ;\n11 -> 12 ;\n13 [label=\"squared_error = 10.259\\nsamples = 30\\nvalue = 10.1\"] ;\n11 -> 13 ;\n14 [label=\"squared_error = 68.01\\nsamples = 53\\nvalue = 38.932\"] ;\n0 -> 14 [labeldistance=2.5, labelangle=-45, headlabel=\"False\"] ;\n} is not an estimator instance."
          ]
        }
      ]
    },
    {
      "cell_type": "code",
      "metadata": {
        "colab": {
          "base_uri": "https://localhost:8080/",
          "height": 200
        },
        "id": "1fPU4Rw6OG5W",
        "outputId": "59bdb3c0-7d57-4dda-efdb-a8c72a51e32d"
      },
      "source": [
        "tree = tree.export_graphviz(regr)\n",
        "graph = graphviz.Source(tree)\n",
        "graph"
      ],
      "execution_count": null,
      "outputs": [
        {
          "output_type": "error",
          "ename": "AttributeError",
          "evalue": "ignored",
          "traceback": [
            "\u001b[0;31m---------------------------------------------------------------------------\u001b[0m",
            "\u001b[0;31mAttributeError\u001b[0m                            Traceback (most recent call last)",
            "\u001b[0;32m<ipython-input-225-1a6cbeaf84b8>\u001b[0m in \u001b[0;36m<cell line: 1>\u001b[0;34m()\u001b[0m\n\u001b[0;32m----> 1\u001b[0;31m \u001b[0mtree\u001b[0m \u001b[0;34m=\u001b[0m \u001b[0mtree\u001b[0m\u001b[0;34m.\u001b[0m\u001b[0mexport_graphviz\u001b[0m\u001b[0;34m(\u001b[0m\u001b[0mregr\u001b[0m\u001b[0;34m)\u001b[0m\u001b[0;34m\u001b[0m\u001b[0;34m\u001b[0m\u001b[0m\n\u001b[0m\u001b[1;32m      2\u001b[0m \u001b[0mgraph\u001b[0m \u001b[0;34m=\u001b[0m \u001b[0mgraphviz\u001b[0m\u001b[0;34m.\u001b[0m\u001b[0mSource\u001b[0m\u001b[0;34m(\u001b[0m\u001b[0mtree\u001b[0m\u001b[0;34m)\u001b[0m\u001b[0;34m\u001b[0m\u001b[0;34m\u001b[0m\u001b[0m\n\u001b[1;32m      3\u001b[0m \u001b[0mgraph\u001b[0m\u001b[0;34m\u001b[0m\u001b[0;34m\u001b[0m\u001b[0m\n",
            "\u001b[0;31mAttributeError\u001b[0m: 'str' object has no attribute 'export_graphviz'"
          ]
        }
      ]
    },
    {
      "cell_type": "markdown",
      "metadata": {
        "id": "sOqFp7LgOHfs"
      },
      "source": [
        "#Bagging"
      ]
    },
    {
      "cell_type": "code",
      "metadata": {
        "id": "O4vynWS3OINK"
      },
      "source": [
        "from sklearn.model_selection import cross_val_score\n",
        "from sklearn.ensemble import BaggingRegressor\n",
        "Bagging = BaggingRegressor(base_estimator=DecisionTreeRegressor(),\n",
        "                           n_estimators=7,\n",
        "                           max_features=0.8,\n",
        "                           bootstrap_features=False,\n",
        "                           random_state=123).fit(X_train, y_train)\n",
        "print(\"The R-squared value is: {0:0.4f} \\n\".format(Bagging.score(X_train, y_train)))"
      ],
      "execution_count": null,
      "outputs": []
    },
    {
      "cell_type": "code",
      "source": [
        "Bagging.estimators_"
      ],
      "metadata": {
        "id": "KaaUCkQpI1Pw"
      },
      "execution_count": null,
      "outputs": []
    },
    {
      "cell_type": "code",
      "source": [
        "Bagging.estimators_features_"
      ],
      "metadata": {
        "id": "_JucJGctJZTX"
      },
      "execution_count": null,
      "outputs": []
    },
    {
      "cell_type": "code",
      "metadata": {
        "id": "vgiKJl6zQiAM"
      },
      "source": [
        "predicted_Bagging = Bagging.predict(X_test)\n",
        "mae = np.mean(abs(predicted_Bagging-y_test))\n",
        "rmse = np.sqrt(np.mean((predicted_Bagging-y_test)**2))\n",
        "rae = np.mean(abs(predicted_Bagging-y_test))/np.mean(abs(y_test-np.mean(y_test)))\n",
        "rse = np.mean((predicted_Bagging-y_test)**2)/np.mean((y_test-np.mean(y_test))**2)\n",
        "print(\"The R-squared value is: {0:0.4f}\".format(Bagging.score(X_test, y_test)))\n",
        "print(\"Mean Absolute Error: {0:0.6f}\".format(mae))\n",
        "print(\"Root Mean Squared Error: {0:0.6f}\".format(rmse))\n",
        "print(\"Relative Absolute Error: {0:0.6f}\".format(rae))\n",
        "print(\"Relative Squared Error: {0:0.6f}\".format(rse))"
      ],
      "execution_count": null,
      "outputs": []
    },
    {
      "cell_type": "markdown",
      "metadata": {
        "id": "3e6oxODXIpR_"
      },
      "source": [
        "# Случайный лес"
      ]
    },
    {
      "cell_type": "code",
      "metadata": {
        "id": "fy6-1pr9Ija6"
      },
      "source": [
        "from sklearn.metrics import r2_score\n",
        "#Random forest\n",
        "# =============================================================================\n",
        "from sklearn.ensemble import RandomForestRegressor\n",
        "\n",
        "# Fit and predict\n",
        "rf = RandomForestRegressor(n_estimators=7, random_state=1234)\n",
        "rf.fit(X_train, y_train)\n",
        "y_pred = rf.predict(X_test)\n",
        "print('R2 score on testing data: {:.2f}%'.format(100*r2_score(y_test, y_pred)))\n",
        "\n",
        "# Feature selection\n",
        "feat_imp = rf.feature_importances_\n",
        "\n",
        "\n",
        "plt.figure(figsize=(6 * 1.618, 6))\n",
        "feature_names=boston_dataset.feature_names\n",
        "index = np.arange(len(feature_names))\n",
        "bar_width = 0.5\n",
        "plt.bar(index, feat_imp, color='black', alpha=0.5)\n",
        "plt.xlabel('features')\n",
        "plt.ylabel('importance')\n",
        "plt.title('Feature importance')\n",
        "plt.xticks(index + bar_width, np.array(feature_names))\n",
        "plt.tight_layout()\n",
        "plt.show()\n",
        "# =============================================================================\n",
        "#"
      ],
      "execution_count": null,
      "outputs": []
    },
    {
      "cell_type": "markdown",
      "metadata": {
        "id": "aiZ0549lmU8f"
      },
      "source": [
        "#Бустинг"
      ]
    },
    {
      "cell_type": "markdown",
      "metadata": {
        "id": "zGzbdkoAmbWU"
      },
      "source": [
        "##AdaBoost"
      ]
    },
    {
      "cell_type": "code",
      "metadata": {
        "id": "iHitSkgAmh12"
      },
      "source": [
        "from sklearn.metrics import r2_score\n",
        "from sklearn.metrics import mean_squared_error\n",
        "from sklearn.ensemble import AdaBoostRegressor\n",
        "AdaBoost = AdaBoostRegressor(DecisionTreeRegressor(max_depth=4),\n",
        "                          n_estimators=6, random_state=123)\n",
        "AdaBoost.fit(X_train, y_train)"
      ],
      "execution_count": null,
      "outputs": []
    },
    {
      "cell_type": "code",
      "metadata": {
        "id": "M1gXv2r4sXdN"
      },
      "source": [
        "predicted_AdaBoost = AdaBoost.predict(X_test)\n",
        "print('R2 score on testing data: {:.2f}'.format(r2_score(y_test, predicted_AdaBoost)))\n",
        "rmse = np.sqrt(mean_squared_error(y_test, predicted_AdaBoost))\n",
        "print(\"RMSE: %f\" % (rmse))"
      ],
      "execution_count": null,
      "outputs": []
    },
    {
      "cell_type": "markdown",
      "metadata": {
        "id": "wHUZ3IYXItrw"
      },
      "source": [
        "# Градиентный бустинг"
      ]
    },
    {
      "cell_type": "code",
      "metadata": {
        "id": "HZPxNmu7IzOu"
      },
      "source": [
        "#Gradient Boosting Machines\n",
        "# =============================================================================\n",
        "import xgboost as xgb\n",
        "# explicitly require this experimental feature\n",
        "from sklearn.experimental import enable_hist_gradient_boosting  # noqa\n",
        "# now you can import normally from ensemble\n",
        "from sklearn.ensemble import HistGradientBoostingRegressor\n",
        "from lightgbm.sklearn import LGBMRegressor\n",
        "from xgboost import XGBRegressor\n",
        "\n",
        "from sklearn.ensemble import GradientBoostingRegressor\n",
        "import time\n",
        "\n",
        "XGBR = XGBRegressor(n_estimators = 7, random_state=1234)\n",
        "XGBR.fit(X_train, y_train)\n",
        "\n",
        "\n",
        "# Initialize instances of GBM models\n",
        "gbm_models = [GradientBoostingRegressor(n_estimators = 10, random_state=1234),\n",
        "              LGBMRegressor(n_estimators = 10, random_state=1234),\n",
        "              HistGradientBoostingRegressor(max_iter=10, random_state=1234)]\n",
        "\n",
        "# Loop over models\n",
        "for gbm in gbm_models:\n",
        "    # Measure time\n",
        "    start_time = time.time()\n",
        "    # Fit and predict\n",
        "    gbm.fit(X_train, y_train)\n",
        "    y_pred = gbm.predict(X_test)\n",
        "    # Print info\n",
        "    print('Model: {} \\n R2 score on testing data: {:.2f}% \\n Execution time: {:.2}sec'.format(\n",
        "          gbm.__class__.__name__, 100*r2_score(y_test, y_pred), time.time()-start_time))"
      ],
      "execution_count": null,
      "outputs": []
    },
    {
      "cell_type": "code",
      "metadata": {
        "id": "aEEw5e0Zvoq8"
      },
      "source": [
        "# plot decision tree\n",
        "from xgboost import XGBRegressor\n",
        "from xgboost import plot_tree\n",
        "import matplotlib.pyplot as plt\n",
        "# plot single tree\n",
        "plot_tree(XGBR, num_trees=1)\n",
        "plt.rcParams['figure.figsize'] = [50, 20]\n",
        "plt.show()"
      ],
      "execution_count": null,
      "outputs": []
    },
    {
      "cell_type": "code",
      "metadata": {
        "id": "DKLybXJtCIP4"
      },
      "source": [
        "xgb.plot_importance(XGBR)\n",
        "plt.rcParams['figure.figsize'] = [5, 5]\n",
        "plt.show()"
      ],
      "execution_count": null,
      "outputs": []
    }
  ]
}