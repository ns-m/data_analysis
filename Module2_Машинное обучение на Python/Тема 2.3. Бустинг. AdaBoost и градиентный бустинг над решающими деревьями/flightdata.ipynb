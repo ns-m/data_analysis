{
  "nbformat": 4,
  "nbformat_minor": 0,
  "metadata": {
    "kernelspec": {
      "language": "python",
      "display_name": "Python 3",
      "name": "python3"
    },
    "language_info": {
      "pygments_lexer": "ipython3",
      "nbconvert_exporter": "python",
      "version": "3.6.4",
      "file_extension": ".py",
      "codemirror_mode": {
        "name": "ipython",
        "version": 3
      },
      "name": "python",
      "mimetype": "text/x-python"
    },
    "colab": {
      "name": "flightdata.ipynb",
      "provenance": []
    }
  },
  "cells": [
    {
      "cell_type": "code",
      "metadata": {
        "_uuid": "8f2839f25d086af736a60e9eeb907d3b93b6e0e5",
        "_cell_guid": "b1076dfc-b9ad-4769-8c92-a6c4dae69d19",
        "execution": {
          "iopub.status.busy": "2021-06-11T15:56:46.306741Z",
          "iopub.execute_input": "2021-06-11T15:56:46.307144Z",
          "iopub.status.idle": "2021-06-11T15:56:46.320281Z",
          "shell.execute_reply.started": "2021-06-11T15:56:46.307085Z",
          "shell.execute_reply": "2021-06-11T15:56:46.318816Z"
        },
        "trusted": true,
        "id": "j7cupHC5QrUq"
      },
      "source": [
        "# This Python 3 environment comes with many helpful analytics libraries installed\n",
        "# It is defined by the kaggle/python Docker image: https://github.com/kaggle/docker-python\n",
        "# For example, here's several helpful packages to load\n",
        "\n",
        "import numpy as np # linear algebra\n",
        "import pandas as pd # data processing, CSV file I/O (e.g. pd.read_csv)\n",
        "\n",
        "# Input data files are available in the read-only \"../input/\" directory\n",
        "# For example, running this (by clicking run or pressing Shift+Enter) will list all files under the input directory\n",
        "\n",
        "import os\n",
        "for dirname, _, filenames in os.walk('/kaggle/input'):\n",
        "    for filename in filenames:\n",
        "        print(os.path.join(dirname, filename))\n",
        "\n",
        "# You can write up to 5GB to the current directory (/kaggle/working/) that gets preserved as output when you create a version using \"Save & Run All\" \n",
        "# You can also write temporary files to /kaggle/temp/, but they won't be saved outside of the current session"
      ],
      "execution_count": 1,
      "outputs": []
    },
    {
      "cell_type": "code",
      "metadata": {
        "execution": {
          "iopub.status.busy": "2021-06-11T15:56:46.323972Z",
          "iopub.execute_input": "2021-06-11T15:56:46.324814Z",
          "iopub.status.idle": "2021-06-11T15:56:46.406508Z",
          "shell.execute_reply.started": "2021-06-11T15:56:46.324747Z",
          "shell.execute_reply": "2021-06-11T15:56:46.404855Z"
        },
        "trusted": true,
        "colab": {
          "base_uri": "https://localhost:8080/",
          "height": 387
        },
        "id": "KrfIPMUdQrUt",
        "outputId": "4fa8f050-68c5-4bef-a334-6e9e3786749c"
      },
      "source": [
        "df = pd.read_csv('/kaggle/input/flightdata/flightdata.csv')\n",
        "df.head()"
      ],
      "execution_count": 2,
      "outputs": [
        {
          "output_type": "error",
          "ename": "FileNotFoundError",
          "evalue": "ignored",
          "traceback": [
            "\u001b[0;31m---------------------------------------------------------------------------\u001b[0m",
            "\u001b[0;31mFileNotFoundError\u001b[0m                         Traceback (most recent call last)",
            "\u001b[0;32m<ipython-input-2-50bceae12699>\u001b[0m in \u001b[0;36m<module>\u001b[0;34m()\u001b[0m\n\u001b[0;32m----> 1\u001b[0;31m \u001b[0mdf\u001b[0m \u001b[0;34m=\u001b[0m \u001b[0mpd\u001b[0m\u001b[0;34m.\u001b[0m\u001b[0mread_csv\u001b[0m\u001b[0;34m(\u001b[0m\u001b[0;34m'/kaggle/input/flightdata/flightdata.csv'\u001b[0m\u001b[0;34m)\u001b[0m\u001b[0;34m\u001b[0m\u001b[0;34m\u001b[0m\u001b[0m\n\u001b[0m\u001b[1;32m      2\u001b[0m \u001b[0mdf\u001b[0m\u001b[0;34m.\u001b[0m\u001b[0mhead\u001b[0m\u001b[0;34m(\u001b[0m\u001b[0;34m)\u001b[0m\u001b[0;34m\u001b[0m\u001b[0;34m\u001b[0m\u001b[0m\n",
            "\u001b[0;32m/usr/local/lib/python3.7/dist-packages/pandas/io/parsers.py\u001b[0m in \u001b[0;36mread_csv\u001b[0;34m(filepath_or_buffer, sep, delimiter, header, names, index_col, usecols, squeeze, prefix, mangle_dupe_cols, dtype, engine, converters, true_values, false_values, skipinitialspace, skiprows, skipfooter, nrows, na_values, keep_default_na, na_filter, verbose, skip_blank_lines, parse_dates, infer_datetime_format, keep_date_col, date_parser, dayfirst, cache_dates, iterator, chunksize, compression, thousands, decimal, lineterminator, quotechar, quoting, doublequote, escapechar, comment, encoding, dialect, error_bad_lines, warn_bad_lines, delim_whitespace, low_memory, memory_map, float_precision)\u001b[0m\n\u001b[1;32m    686\u001b[0m     )\n\u001b[1;32m    687\u001b[0m \u001b[0;34m\u001b[0m\u001b[0m\n\u001b[0;32m--> 688\u001b[0;31m     \u001b[0;32mreturn\u001b[0m \u001b[0m_read\u001b[0m\u001b[0;34m(\u001b[0m\u001b[0mfilepath_or_buffer\u001b[0m\u001b[0;34m,\u001b[0m \u001b[0mkwds\u001b[0m\u001b[0;34m)\u001b[0m\u001b[0;34m\u001b[0m\u001b[0;34m\u001b[0m\u001b[0m\n\u001b[0m\u001b[1;32m    689\u001b[0m \u001b[0;34m\u001b[0m\u001b[0m\n\u001b[1;32m    690\u001b[0m \u001b[0;34m\u001b[0m\u001b[0m\n",
            "\u001b[0;32m/usr/local/lib/python3.7/dist-packages/pandas/io/parsers.py\u001b[0m in \u001b[0;36m_read\u001b[0;34m(filepath_or_buffer, kwds)\u001b[0m\n\u001b[1;32m    452\u001b[0m \u001b[0;34m\u001b[0m\u001b[0m\n\u001b[1;32m    453\u001b[0m     \u001b[0;31m# Create the parser.\u001b[0m\u001b[0;34m\u001b[0m\u001b[0;34m\u001b[0m\u001b[0;34m\u001b[0m\u001b[0m\n\u001b[0;32m--> 454\u001b[0;31m     \u001b[0mparser\u001b[0m \u001b[0;34m=\u001b[0m \u001b[0mTextFileReader\u001b[0m\u001b[0;34m(\u001b[0m\u001b[0mfp_or_buf\u001b[0m\u001b[0;34m,\u001b[0m \u001b[0;34m**\u001b[0m\u001b[0mkwds\u001b[0m\u001b[0;34m)\u001b[0m\u001b[0;34m\u001b[0m\u001b[0;34m\u001b[0m\u001b[0m\n\u001b[0m\u001b[1;32m    455\u001b[0m \u001b[0;34m\u001b[0m\u001b[0m\n\u001b[1;32m    456\u001b[0m     \u001b[0;32mif\u001b[0m \u001b[0mchunksize\u001b[0m \u001b[0;32mor\u001b[0m \u001b[0miterator\u001b[0m\u001b[0;34m:\u001b[0m\u001b[0;34m\u001b[0m\u001b[0;34m\u001b[0m\u001b[0m\n",
            "\u001b[0;32m/usr/local/lib/python3.7/dist-packages/pandas/io/parsers.py\u001b[0m in \u001b[0;36m__init__\u001b[0;34m(self, f, engine, **kwds)\u001b[0m\n\u001b[1;32m    946\u001b[0m             \u001b[0mself\u001b[0m\u001b[0;34m.\u001b[0m\u001b[0moptions\u001b[0m\u001b[0;34m[\u001b[0m\u001b[0;34m\"has_index_names\"\u001b[0m\u001b[0;34m]\u001b[0m \u001b[0;34m=\u001b[0m \u001b[0mkwds\u001b[0m\u001b[0;34m[\u001b[0m\u001b[0;34m\"has_index_names\"\u001b[0m\u001b[0;34m]\u001b[0m\u001b[0;34m\u001b[0m\u001b[0;34m\u001b[0m\u001b[0m\n\u001b[1;32m    947\u001b[0m \u001b[0;34m\u001b[0m\u001b[0m\n\u001b[0;32m--> 948\u001b[0;31m         \u001b[0mself\u001b[0m\u001b[0;34m.\u001b[0m\u001b[0m_make_engine\u001b[0m\u001b[0;34m(\u001b[0m\u001b[0mself\u001b[0m\u001b[0;34m.\u001b[0m\u001b[0mengine\u001b[0m\u001b[0;34m)\u001b[0m\u001b[0;34m\u001b[0m\u001b[0;34m\u001b[0m\u001b[0m\n\u001b[0m\u001b[1;32m    949\u001b[0m \u001b[0;34m\u001b[0m\u001b[0m\n\u001b[1;32m    950\u001b[0m     \u001b[0;32mdef\u001b[0m \u001b[0mclose\u001b[0m\u001b[0;34m(\u001b[0m\u001b[0mself\u001b[0m\u001b[0;34m)\u001b[0m\u001b[0;34m:\u001b[0m\u001b[0;34m\u001b[0m\u001b[0;34m\u001b[0m\u001b[0m\n",
            "\u001b[0;32m/usr/local/lib/python3.7/dist-packages/pandas/io/parsers.py\u001b[0m in \u001b[0;36m_make_engine\u001b[0;34m(self, engine)\u001b[0m\n\u001b[1;32m   1178\u001b[0m     \u001b[0;32mdef\u001b[0m \u001b[0m_make_engine\u001b[0m\u001b[0;34m(\u001b[0m\u001b[0mself\u001b[0m\u001b[0;34m,\u001b[0m \u001b[0mengine\u001b[0m\u001b[0;34m=\u001b[0m\u001b[0;34m\"c\"\u001b[0m\u001b[0;34m)\u001b[0m\u001b[0;34m:\u001b[0m\u001b[0;34m\u001b[0m\u001b[0;34m\u001b[0m\u001b[0m\n\u001b[1;32m   1179\u001b[0m         \u001b[0;32mif\u001b[0m \u001b[0mengine\u001b[0m \u001b[0;34m==\u001b[0m \u001b[0;34m\"c\"\u001b[0m\u001b[0;34m:\u001b[0m\u001b[0;34m\u001b[0m\u001b[0;34m\u001b[0m\u001b[0m\n\u001b[0;32m-> 1180\u001b[0;31m             \u001b[0mself\u001b[0m\u001b[0;34m.\u001b[0m\u001b[0m_engine\u001b[0m \u001b[0;34m=\u001b[0m \u001b[0mCParserWrapper\u001b[0m\u001b[0;34m(\u001b[0m\u001b[0mself\u001b[0m\u001b[0;34m.\u001b[0m\u001b[0mf\u001b[0m\u001b[0;34m,\u001b[0m \u001b[0;34m**\u001b[0m\u001b[0mself\u001b[0m\u001b[0;34m.\u001b[0m\u001b[0moptions\u001b[0m\u001b[0;34m)\u001b[0m\u001b[0;34m\u001b[0m\u001b[0;34m\u001b[0m\u001b[0m\n\u001b[0m\u001b[1;32m   1181\u001b[0m         \u001b[0;32melse\u001b[0m\u001b[0;34m:\u001b[0m\u001b[0;34m\u001b[0m\u001b[0;34m\u001b[0m\u001b[0m\n\u001b[1;32m   1182\u001b[0m             \u001b[0;32mif\u001b[0m \u001b[0mengine\u001b[0m \u001b[0;34m==\u001b[0m \u001b[0;34m\"python\"\u001b[0m\u001b[0;34m:\u001b[0m\u001b[0;34m\u001b[0m\u001b[0;34m\u001b[0m\u001b[0m\n",
            "\u001b[0;32m/usr/local/lib/python3.7/dist-packages/pandas/io/parsers.py\u001b[0m in \u001b[0;36m__init__\u001b[0;34m(self, src, **kwds)\u001b[0m\n\u001b[1;32m   2008\u001b[0m         \u001b[0mkwds\u001b[0m\u001b[0;34m[\u001b[0m\u001b[0;34m\"usecols\"\u001b[0m\u001b[0;34m]\u001b[0m \u001b[0;34m=\u001b[0m \u001b[0mself\u001b[0m\u001b[0;34m.\u001b[0m\u001b[0musecols\u001b[0m\u001b[0;34m\u001b[0m\u001b[0;34m\u001b[0m\u001b[0m\n\u001b[1;32m   2009\u001b[0m \u001b[0;34m\u001b[0m\u001b[0m\n\u001b[0;32m-> 2010\u001b[0;31m         \u001b[0mself\u001b[0m\u001b[0;34m.\u001b[0m\u001b[0m_reader\u001b[0m \u001b[0;34m=\u001b[0m \u001b[0mparsers\u001b[0m\u001b[0;34m.\u001b[0m\u001b[0mTextReader\u001b[0m\u001b[0;34m(\u001b[0m\u001b[0msrc\u001b[0m\u001b[0;34m,\u001b[0m \u001b[0;34m**\u001b[0m\u001b[0mkwds\u001b[0m\u001b[0;34m)\u001b[0m\u001b[0;34m\u001b[0m\u001b[0;34m\u001b[0m\u001b[0m\n\u001b[0m\u001b[1;32m   2011\u001b[0m         \u001b[0mself\u001b[0m\u001b[0;34m.\u001b[0m\u001b[0munnamed_cols\u001b[0m \u001b[0;34m=\u001b[0m \u001b[0mself\u001b[0m\u001b[0;34m.\u001b[0m\u001b[0m_reader\u001b[0m\u001b[0;34m.\u001b[0m\u001b[0munnamed_cols\u001b[0m\u001b[0;34m\u001b[0m\u001b[0;34m\u001b[0m\u001b[0m\n\u001b[1;32m   2012\u001b[0m \u001b[0;34m\u001b[0m\u001b[0m\n",
            "\u001b[0;32mpandas/_libs/parsers.pyx\u001b[0m in \u001b[0;36mpandas._libs.parsers.TextReader.__cinit__\u001b[0;34m()\u001b[0m\n",
            "\u001b[0;32mpandas/_libs/parsers.pyx\u001b[0m in \u001b[0;36mpandas._libs.parsers.TextReader._setup_parser_source\u001b[0;34m()\u001b[0m\n",
            "\u001b[0;31mFileNotFoundError\u001b[0m: [Errno 2] No such file or directory: '/kaggle/input/flightdata/flightdata.csv'"
          ]
        }
      ]
    },
    {
      "cell_type": "code",
      "metadata": {
        "execution": {
          "iopub.status.busy": "2021-06-11T15:56:46.408395Z",
          "iopub.execute_input": "2021-06-11T15:56:46.408723Z",
          "iopub.status.idle": "2021-06-11T15:56:46.415508Z",
          "shell.execute_reply.started": "2021-06-11T15:56:46.408674Z",
          "shell.execute_reply": "2021-06-11T15:56:46.41408Z"
        },
        "trusted": true,
        "id": "g_ZPTPZwQrUu"
      },
      "source": [
        "df.shape"
      ],
      "execution_count": null,
      "outputs": []
    },
    {
      "cell_type": "code",
      "metadata": {
        "execution": {
          "iopub.status.busy": "2021-06-11T15:56:46.417614Z",
          "iopub.execute_input": "2021-06-11T15:56:46.418332Z",
          "iopub.status.idle": "2021-06-11T15:56:46.437695Z",
          "shell.execute_reply.started": "2021-06-11T15:56:46.418257Z",
          "shell.execute_reply": "2021-06-11T15:56:46.436362Z"
        },
        "trusted": true,
        "id": "FXiJk2THQrUu"
      },
      "source": [
        "df.isnull().values.any()"
      ],
      "execution_count": null,
      "outputs": []
    },
    {
      "cell_type": "code",
      "metadata": {
        "execution": {
          "iopub.status.busy": "2021-06-11T15:56:46.439346Z",
          "iopub.execute_input": "2021-06-11T15:56:46.440318Z",
          "iopub.status.idle": "2021-06-11T15:56:46.459291Z",
          "shell.execute_reply.started": "2021-06-11T15:56:46.44025Z",
          "shell.execute_reply": "2021-06-11T15:56:46.457762Z"
        },
        "trusted": true,
        "id": "0En67hYiQrUu"
      },
      "source": [
        "df.isna().sum()"
      ],
      "execution_count": null,
      "outputs": []
    },
    {
      "cell_type": "code",
      "metadata": {
        "execution": {
          "iopub.status.busy": "2021-06-11T15:56:46.463784Z",
          "iopub.execute_input": "2021-06-11T15:56:46.464182Z",
          "iopub.status.idle": "2021-06-11T15:56:46.486056Z",
          "shell.execute_reply.started": "2021-06-11T15:56:46.46413Z",
          "shell.execute_reply": "2021-06-11T15:56:46.484711Z"
        },
        "trusted": true,
        "id": "296ALrLUQrUu"
      },
      "source": [
        "df = df.drop('Unnamed: 25', axis=1)\n",
        "df.isnull().sum()"
      ],
      "execution_count": null,
      "outputs": []
    },
    {
      "cell_type": "code",
      "metadata": {
        "execution": {
          "iopub.status.busy": "2021-06-11T15:56:46.488727Z",
          "iopub.execute_input": "2021-06-11T15:56:46.489326Z",
          "iopub.status.idle": "2021-06-11T15:56:46.507761Z",
          "shell.execute_reply.started": "2021-06-11T15:56:46.489262Z",
          "shell.execute_reply": "2021-06-11T15:56:46.505983Z"
        },
        "trusted": true,
        "id": "FWzHNHkkQrUv"
      },
      "source": [
        "df = df[[\"MONTH\", \"DAY_OF_MONTH\", \"DAY_OF_WEEK\", \"ORIGIN\", \"DEST\", \"CRS_DEP_TIME\", \"ARR_DEL15\"]]\n",
        "df.isnull().sum()"
      ],
      "execution_count": null,
      "outputs": []
    },
    {
      "cell_type": "code",
      "metadata": {
        "execution": {
          "iopub.status.busy": "2021-06-11T15:56:46.509777Z",
          "iopub.execute_input": "2021-06-11T15:56:46.510282Z",
          "iopub.status.idle": "2021-06-11T15:56:46.532225Z",
          "shell.execute_reply.started": "2021-06-11T15:56:46.510181Z",
          "shell.execute_reply": "2021-06-11T15:56:46.530596Z"
        },
        "trusted": true,
        "id": "tLuo8dJiQrUv"
      },
      "source": [
        "df[df.isnull().values.any(axis=1)].head()"
      ],
      "execution_count": null,
      "outputs": []
    },
    {
      "cell_type": "code",
      "metadata": {
        "execution": {
          "iopub.status.busy": "2021-06-11T15:56:46.533477Z",
          "iopub.execute_input": "2021-06-11T15:56:46.533857Z",
          "iopub.status.idle": "2021-06-11T15:56:46.55126Z",
          "shell.execute_reply.started": "2021-06-11T15:56:46.533806Z",
          "shell.execute_reply": "2021-06-11T15:56:46.550296Z"
        },
        "trusted": true,
        "id": "2rgAtFRTQrUv"
      },
      "source": [
        "df = df.fillna({'ARR_DEL15': 1})\n",
        "df.iloc[177:185]"
      ],
      "execution_count": null,
      "outputs": []
    },
    {
      "cell_type": "code",
      "metadata": {
        "execution": {
          "iopub.status.busy": "2021-06-11T15:56:46.552722Z",
          "iopub.execute_input": "2021-06-11T15:56:46.553071Z",
          "iopub.status.idle": "2021-06-11T15:56:46.575544Z",
          "shell.execute_reply.started": "2021-06-11T15:56:46.553017Z",
          "shell.execute_reply": "2021-06-11T15:56:46.5739Z"
        },
        "trusted": true,
        "id": "pl9FzI83QrUw"
      },
      "source": [
        "df.head()"
      ],
      "execution_count": null,
      "outputs": []
    },
    {
      "cell_type": "code",
      "metadata": {
        "execution": {
          "iopub.status.busy": "2021-06-11T15:56:46.577936Z",
          "iopub.execute_input": "2021-06-11T15:56:46.578423Z",
          "iopub.status.idle": "2021-06-11T15:56:52.141073Z",
          "shell.execute_reply.started": "2021-06-11T15:56:46.578335Z",
          "shell.execute_reply": "2021-06-11T15:56:52.139977Z"
        },
        "trusted": true,
        "id": "J0p-lLj8QrUw"
      },
      "source": [
        "import math\n",
        "\n",
        "for index, row in df.iterrows():\n",
        "    df.loc[index, 'CRS_DEP_TIME'] = math.floor(row['CRS_DEP_TIME'] / 100)\n",
        "df.head()"
      ],
      "execution_count": null,
      "outputs": []
    },
    {
      "cell_type": "code",
      "metadata": {
        "execution": {
          "iopub.status.busy": "2021-06-11T15:56:52.143951Z",
          "iopub.execute_input": "2021-06-11T15:56:52.144588Z",
          "iopub.status.idle": "2021-06-11T15:56:52.17826Z",
          "shell.execute_reply.started": "2021-06-11T15:56:52.144521Z",
          "shell.execute_reply": "2021-06-11T15:56:52.176897Z"
        },
        "trusted": true,
        "id": "Ob6wgVJkQrUx"
      },
      "source": [
        "df_1 = pd.get_dummies(df, columns=['ORIGIN', 'DEST'])\n",
        "df_1.head()"
      ],
      "execution_count": null,
      "outputs": []
    },
    {
      "cell_type": "code",
      "metadata": {
        "execution": {
          "iopub.status.busy": "2021-06-11T15:56:52.180101Z",
          "iopub.execute_input": "2021-06-11T15:56:52.180798Z",
          "iopub.status.idle": "2021-06-11T15:56:53.358328Z",
          "shell.execute_reply.started": "2021-06-11T15:56:52.180723Z",
          "shell.execute_reply": "2021-06-11T15:56:53.356979Z"
        },
        "trusted": true,
        "id": "MUwFULUdQrUx"
      },
      "source": [
        "from sklearn.model_selection import train_test_split\n",
        "train_x, test_x, train_y, test_y = train_test_split(df_1.drop('ARR_DEL15', axis=1), \n",
        "df_1['ARR_DEL15'], test_size=0.2, random_state=42)"
      ],
      "execution_count": null,
      "outputs": []
    },
    {
      "cell_type": "code",
      "metadata": {
        "execution": {
          "iopub.status.busy": "2021-06-11T15:56:53.360426Z",
          "iopub.execute_input": "2021-06-11T15:56:53.360947Z",
          "iopub.status.idle": "2021-06-11T15:56:53.369954Z",
          "shell.execute_reply.started": "2021-06-11T15:56:53.360871Z",
          "shell.execute_reply": "2021-06-11T15:56:53.36835Z"
        },
        "trusted": true,
        "id": "tjl6jIhVQrUx"
      },
      "source": [
        "train_x.shape"
      ],
      "execution_count": null,
      "outputs": []
    },
    {
      "cell_type": "code",
      "metadata": {
        "execution": {
          "iopub.status.busy": "2021-06-11T15:56:53.37178Z",
          "iopub.execute_input": "2021-06-11T15:56:53.372141Z",
          "iopub.status.idle": "2021-06-11T15:56:53.384046Z",
          "shell.execute_reply.started": "2021-06-11T15:56:53.3721Z",
          "shell.execute_reply": "2021-06-11T15:56:53.382707Z"
        },
        "trusted": true,
        "id": "LgO7iDg0QrUx"
      },
      "source": [
        "test_x.shape"
      ],
      "execution_count": null,
      "outputs": []
    },
    {
      "cell_type": "markdown",
      "metadata": {
        "id": "WN0IvQ5iQrUy"
      },
      "source": [
        ""
      ]
    },
    {
      "cell_type": "code",
      "metadata": {
        "execution": {
          "iopub.status.busy": "2021-06-11T15:56:53.386155Z",
          "iopub.execute_input": "2021-06-11T15:56:53.386751Z",
          "iopub.status.idle": "2021-06-11T15:56:54.939223Z",
          "shell.execute_reply.started": "2021-06-11T15:56:53.386518Z",
          "shell.execute_reply": "2021-06-11T15:56:54.937506Z"
        },
        "trusted": true,
        "id": "Dy3L-yfGQrUy"
      },
      "source": [
        "from sklearn.ensemble import RandomForestClassifier\n",
        "model = RandomForestClassifierr(random_state=13, class_weight = 'balanced_subsample')\n",
        "#from imblearn.ensemble import BalancedRandomForestClassifier\n",
        "#model = BalancedRandomForestClassifier(random_state=13,n_estimators=10)\n",
        "model.fit(train_x, train_y)"
      ],
      "execution_count": null,
      "outputs": []
    },
    {
      "cell_type": "code",
      "metadata": {
        "execution": {
          "iopub.status.busy": "2021-06-11T15:56:54.94118Z",
          "iopub.execute_input": "2021-06-11T15:56:54.941673Z",
          "iopub.status.idle": "2021-06-11T15:56:55.079772Z",
          "shell.execute_reply.started": "2021-06-11T15:56:54.941579Z",
          "shell.execute_reply": "2021-06-11T15:56:55.07859Z"
        },
        "trusted": true,
        "id": "AjntXKrPQrUy"
      },
      "source": [
        "predicted = model.predict(test_x)\n",
        "model.score(test_x, test_y)"
      ],
      "execution_count": null,
      "outputs": []
    },
    {
      "cell_type": "code",
      "metadata": {
        "execution": {
          "iopub.status.busy": "2021-06-11T15:56:55.081246Z",
          "iopub.execute_input": "2021-06-11T15:56:55.081744Z",
          "iopub.status.idle": "2021-06-11T15:56:55.151532Z",
          "shell.execute_reply.started": "2021-06-11T15:56:55.081549Z",
          "shell.execute_reply": "2021-06-11T15:56:55.150241Z"
        },
        "trusted": true,
        "id": "GURBSqMVQrUy"
      },
      "source": [
        "from sklearn.metrics import roc_auc_score\n",
        "probabilities = model.predict_proba(test_x)"
      ],
      "execution_count": null,
      "outputs": []
    },
    {
      "cell_type": "code",
      "metadata": {
        "execution": {
          "iopub.status.busy": "2021-06-11T15:56:55.153393Z",
          "iopub.execute_input": "2021-06-11T15:56:55.153949Z",
          "iopub.status.idle": "2021-06-11T15:56:55.166106Z",
          "shell.execute_reply.started": "2021-06-11T15:56:55.153857Z",
          "shell.execute_reply": "2021-06-11T15:56:55.165075Z"
        },
        "trusted": true,
        "id": "NgzE7I9RQrUz"
      },
      "source": [
        "roc_auc_score(test_y, probabilities[:, 1])"
      ],
      "execution_count": null,
      "outputs": []
    },
    {
      "cell_type": "code",
      "metadata": {
        "execution": {
          "iopub.status.busy": "2021-06-11T15:56:55.167732Z",
          "iopub.execute_input": "2021-06-11T15:56:55.168319Z",
          "iopub.status.idle": "2021-06-11T15:56:55.183518Z",
          "shell.execute_reply.started": "2021-06-11T15:56:55.168264Z",
          "shell.execute_reply": "2021-06-11T15:56:55.182463Z"
        },
        "trusted": true,
        "id": "BN77CjvsQrUz"
      },
      "source": [
        "from sklearn.metrics import confusion_matrix\n",
        "confusion_matrix(test_y, predicted)"
      ],
      "execution_count": null,
      "outputs": []
    },
    {
      "cell_type": "code",
      "metadata": {
        "execution": {
          "iopub.status.busy": "2021-06-11T15:56:55.185166Z",
          "iopub.execute_input": "2021-06-11T15:56:55.185626Z",
          "iopub.status.idle": "2021-06-11T15:56:55.462415Z",
          "shell.execute_reply.started": "2021-06-11T15:56:55.18558Z",
          "shell.execute_reply": "2021-06-11T15:56:55.461555Z"
        },
        "trusted": true,
        "id": "ka_b594uQrUz"
      },
      "source": [
        "from sklearn import metrics\n",
        "disp = metrics.plot_confusion_matrix(model, test_x, \n",
        "test_y,values_format = 'n',\n",
        "display_labels= [\"don't linger\", \"delayed\"])"
      ],
      "execution_count": null,
      "outputs": []
    },
    {
      "cell_type": "code",
      "metadata": {
        "execution": {
          "iopub.status.busy": "2021-06-11T15:56:55.463553Z",
          "iopub.execute_input": "2021-06-11T15:56:55.464021Z",
          "iopub.status.idle": "2021-06-11T15:56:55.642983Z",
          "shell.execute_reply.started": "2021-06-11T15:56:55.463978Z",
          "shell.execute_reply": "2021-06-11T15:56:55.642106Z"
        },
        "trusted": true,
        "id": "IorugpSOQrUz"
      },
      "source": [
        "from sklearn.metrics import precision_score\n",
        "\n",
        "train_predictions = model.predict(train_x)\n",
        "precision_score(train_y, train_predictions)"
      ],
      "execution_count": null,
      "outputs": []
    },
    {
      "cell_type": "code",
      "metadata": {
        "execution": {
          "iopub.status.busy": "2021-06-11T15:56:55.644091Z",
          "iopub.execute_input": "2021-06-11T15:56:55.644496Z",
          "iopub.status.idle": "2021-06-11T15:56:55.656052Z",
          "shell.execute_reply.started": "2021-06-11T15:56:55.644455Z",
          "shell.execute_reply": "2021-06-11T15:56:55.655053Z"
        },
        "trusted": true,
        "id": "XwJcqjsJQrUz"
      },
      "source": [
        "from sklearn.metrics import recall_score\n",
        "\n",
        "recall_score(train_y, train_predictions)"
      ],
      "execution_count": null,
      "outputs": []
    },
    {
      "cell_type": "code",
      "metadata": {
        "execution": {
          "iopub.status.busy": "2021-06-11T15:56:55.657762Z",
          "iopub.execute_input": "2021-06-11T15:56:55.658069Z",
          "iopub.status.idle": "2021-06-11T15:56:55.790143Z",
          "shell.execute_reply.started": "2021-06-11T15:56:55.658025Z",
          "shell.execute_reply": "2021-06-11T15:56:55.788937Z"
        },
        "trusted": true,
        "id": "OJrU6xcrQrU0"
      },
      "source": [
        "%matplotlib inline\n",
        "import matplotlib.pyplot as plt\n",
        "import seaborn as sns\n",
        "\n",
        "sns.set()"
      ],
      "execution_count": null,
      "outputs": []
    },
    {
      "cell_type": "code",
      "metadata": {
        "execution": {
          "iopub.status.busy": "2021-06-11T15:56:55.796876Z",
          "iopub.execute_input": "2021-06-11T15:56:55.797285Z",
          "iopub.status.idle": "2021-06-11T15:56:56.087765Z",
          "shell.execute_reply.started": "2021-06-11T15:56:55.797232Z",
          "shell.execute_reply": "2021-06-11T15:56:56.086848Z"
        },
        "trusted": true,
        "id": "7Bpg5dQ4QrU0"
      },
      "source": [
        "from sklearn.metrics import roc_curve\n",
        "\n",
        "fpr, tpr, _ = roc_curve(test_y, probabilities[:, 1])\n",
        "plt.plot(fpr, tpr)\n",
        "plt.plot([0, 1], [0, 1], color='grey', lw=1, linestyle='--')\n",
        "plt.xlabel('False Positive Rate')\n",
        "plt.ylabel('True Positive Rate')\n",
        "metrics.auc(fpr, tpr)"
      ],
      "execution_count": null,
      "outputs": []
    },
    {
      "cell_type": "code",
      "metadata": {
        "execution": {
          "iopub.status.busy": "2021-06-11T15:56:56.089292Z",
          "iopub.execute_input": "2021-06-11T15:56:56.089808Z",
          "iopub.status.idle": "2021-06-11T15:56:56.102616Z",
          "shell.execute_reply.started": "2021-06-11T15:56:56.089745Z",
          "shell.execute_reply": "2021-06-11T15:56:56.101342Z"
        },
        "jupyter": {
          "source_hidden": true
        },
        "trusted": true,
        "id": "sm8-q_KgQrU0"
      },
      "source": [
        "def predict_delay(departure_date_time, origin, destination):\n",
        "    from datetime import datetime\n",
        "\n",
        "    try:\n",
        "        departure_date_time_parsed = datetime.strptime(departure_date_time, '%d/%m/%Y %H:%M:%S')\n",
        "    except ValueError as e:\n",
        "        return 'Error parsing date/time - {}'.format(e)\n",
        "\n",
        "    month = departure_date_time_parsed.month\n",
        "    day = departure_date_time_parsed.day\n",
        "    day_of_week = departure_date_time_parsed.isoweekday()\n",
        "    hour = departure_date_time_parsed.hour\n",
        "\n",
        "    origin = origin.upper()\n",
        "    destination = destination.upper()\n",
        "\n",
        "    input = [{'MONTH': month,\n",
        "              'DAY': day,\n",
        "              'DAY_OF_WEEK': day_of_week,\n",
        "              'CRS_DEP_TIME': hour,\n",
        "              'ORIGIN_ATL': 1 if origin == 'ATL' else 0,\n",
        "              'ORIGIN_DTW': 1 if origin == 'DTW' else 0,\n",
        "              'ORIGIN_JFK': 1 if origin == 'JFK' else 0,\n",
        "              'ORIGIN_MSP': 1 if origin == 'MSP' else 0,\n",
        "              'ORIGIN_SEA': 1 if origin == 'SEA' else 0,\n",
        "              'DEST_ATL': 1 if destination == 'ATL' else 0,\n",
        "              'DEST_DTW': 1 if destination == 'DTW' else 0,\n",
        "              'DEST_JFK': 1 if destination == 'JFK' else 0,\n",
        "              'DEST_MSP': 1 if destination == 'MSP' else 0,\n",
        "              'DEST_SEA': 1 if destination == 'SEA' else 0 }]\n",
        "\n",
        "    return model.predict_proba(pd.DataFrame(input))[0][0]"
      ],
      "execution_count": null,
      "outputs": []
    },
    {
      "cell_type": "code",
      "metadata": {
        "execution": {
          "iopub.status.busy": "2021-06-11T15:56:56.10421Z",
          "iopub.execute_input": "2021-06-11T15:56:56.104594Z",
          "iopub.status.idle": "2021-06-11T15:56:56.137982Z",
          "shell.execute_reply.started": "2021-06-11T15:56:56.104539Z",
          "shell.execute_reply": "2021-06-11T15:56:56.136951Z"
        },
        "trusted": true,
        "id": "dv6AzcZhQrU1"
      },
      "source": [
        "predict_delay('1/10/2018 21:45:00', 'JFK', 'ATL')"
      ],
      "execution_count": null,
      "outputs": []
    },
    {
      "cell_type": "code",
      "metadata": {
        "execution": {
          "iopub.status.busy": "2021-06-11T15:56:56.139366Z",
          "iopub.execute_input": "2021-06-11T15:56:56.139722Z",
          "iopub.status.idle": "2021-06-11T15:56:56.164051Z",
          "shell.execute_reply.started": "2021-06-11T15:56:56.139667Z",
          "shell.execute_reply": "2021-06-11T15:56:56.162837Z"
        },
        "trusted": true,
        "id": "1OshGQLRQrU1"
      },
      "source": [
        "predict_delay('2/10/2018 21:45:00', 'JFK', 'ATL')"
      ],
      "execution_count": null,
      "outputs": []
    },
    {
      "cell_type": "code",
      "metadata": {
        "execution": {
          "iopub.status.busy": "2021-06-11T15:56:56.165819Z",
          "iopub.execute_input": "2021-06-11T15:56:56.166297Z",
          "iopub.status.idle": "2021-06-11T15:56:56.193857Z",
          "shell.execute_reply.started": "2021-06-11T15:56:56.166223Z",
          "shell.execute_reply": "2021-06-11T15:56:56.192613Z"
        },
        "trusted": true,
        "id": "CLyNs60uQrU2"
      },
      "source": [
        "predict_delay('2/10/2018 21:45:00', 'JFK', 'ATL')"
      ],
      "execution_count": null,
      "outputs": []
    },
    {
      "cell_type": "code",
      "metadata": {
        "execution": {
          "iopub.status.busy": "2021-06-11T15:56:56.195347Z",
          "iopub.execute_input": "2021-06-11T15:56:56.195803Z",
          "iopub.status.idle": "2021-06-11T15:56:56.21912Z",
          "shell.execute_reply.started": "2021-06-11T15:56:56.195625Z",
          "shell.execute_reply": "2021-06-11T15:56:56.217889Z"
        },
        "trusted": true,
        "id": "dO3N9iqFQrU2"
      },
      "source": [
        "predict_delay('2/10/2018 10:00:00', 'ATL', 'SEA')"
      ],
      "execution_count": null,
      "outputs": []
    },
    {
      "cell_type": "code",
      "metadata": {
        "execution": {
          "iopub.status.busy": "2021-06-11T15:56:56.221006Z",
          "iopub.execute_input": "2021-06-11T15:56:56.221466Z",
          "iopub.status.idle": "2021-06-11T15:56:56.51609Z",
          "shell.execute_reply.started": "2021-06-11T15:56:56.221364Z",
          "shell.execute_reply": "2021-06-11T15:56:56.514965Z"
        },
        "trusted": true,
        "id": "06ie7qaqQrU2"
      },
      "source": [
        "import numpy as np\n",
        "\n",
        "labels = ('Oct 1', 'Oct 2', 'Oct 3', 'Oct 4', 'Oct 5', 'Oct 6', 'Oct 7')\n",
        "values = (predict_delay('1/10/2018 21:45:00', 'JFK', 'ATL'),\n",
        "          predict_delay('2/10/2018 21:45:00', 'JFK', 'ATL'),\n",
        "          predict_delay('3/10/2018 21:45:00', 'JFK', 'ATL'),\n",
        "          predict_delay('4/10/2018 21:45:00', 'JFK', 'ATL'),\n",
        "          predict_delay('5/10/2018 21:45:00', 'JFK', 'ATL'),\n",
        "          predict_delay('6/10/2018 21:45:00', 'JFK', 'ATL'),\n",
        "          predict_delay('7/10/2018 21:45:00', 'JFK', 'ATL'))\n",
        "alabels = np.arange(len(labels))\n",
        "\n",
        "plt.bar(alabels, values, align='center', alpha=0.5)\n",
        "plt.xticks(alabels, labels)\n",
        "plt.ylabel('Probability of On-Time Arrival')\n",
        "plt.ylim((0.0, 1.0))"
      ],
      "execution_count": null,
      "outputs": []
    }
  ]
}